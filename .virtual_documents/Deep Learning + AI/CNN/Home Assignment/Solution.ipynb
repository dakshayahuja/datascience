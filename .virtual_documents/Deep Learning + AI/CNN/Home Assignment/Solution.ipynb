import numpy as np
from keras.models import Sequential
from keras.layers import Conv2D, MaxPooling2D, Flatten, Dense, Dropout
from keras.preprocessing import image
from keras.preprocessing.image import ImageDataGenerator

import warnings
warnings.filterwarnings('ignore')





model=Sequential()
model.add(Conv2D(filters=32,kernel_size=3,activation='relu',input_shape=(64,64,3)))
model.add(MaxPooling2D(pool_size=2))
model.add(Conv2D(filters=32,kernel_size=3,activation='relu',))
model.add(MaxPooling2D(pool_size=2))
model.add(Conv2D(filters=32,kernel_size=3,activation='relu',))
model.add(MaxPooling2D(pool_size=2))
model.add(Conv2D(filters=32,kernel_size=3,activation='relu',))
model.add(MaxPooling2D(pool_size=2))
model.add(Flatten())


model.summary()





model.add(Dense(units=512,activation='relu',kernel_initializer='uniform'))
model.add(Dense(units=512,activation='relu',kernel_initializer='uniform'))
model.add(Dense(units=512,activation='relu',kernel_initializer='uniform'))
model.add(Dense(units=512,activation='relu',kernel_initializer='uniform'))
model.add(Dense(units=512,activation='relu',kernel_initializer='uniform'))
model.add(Dense(units=512,activation='relu',kernel_initializer='uniform'))
model.add(Dense(units=512,activation='relu',kernel_initializer='uniform'))
model.add(Dense(units=512,activation='relu',kernel_initializer='uniform'))
model.add(Dense(units=1,activation='sigmoid',kernel_initializer='uniform'))


model.compile(optimizer='adam',loss="binary_crossentropy",metrics=['accuracy'])


model.summary()





train_datagen = ImageDataGenerator(rescale=1./255, shear_range=0.2, zoom_range=0.2, horizontal_flip=True)
test_datagen = ImageDataGenerator(rescale=1./255)


train_set = train_datagen.flow_from_directory (
    'Dataset/training_set/',\
    target_size=(64, 64),\
    batch_size=32,\
    class_mode='binary')


test_set = test_datagen.flow_from_directory(
    'Dataset/test_set/',\
        target_size=(64, 64),\
        batch_size=32,\
        class_mode='binary')





model.fit_generator(train_set, steps_per_epoch=63, epochs=10, validation_data=test_set, validation_steps=32, verbose=0)





new_image=image.load_img('test1.jpg',target_size=(64,64))
new_image=image.img_to_array(new_image)
new_image /= 255.0
new_image=np.expand_dims(new_image,axis=0)


result=model.predict(new_image)
if result[0][0]>0.5:
    predict=print('This is a Dog')
else:
    predict=print('This is a Cat')
