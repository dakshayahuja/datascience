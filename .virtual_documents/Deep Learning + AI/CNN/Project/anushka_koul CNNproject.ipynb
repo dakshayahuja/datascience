import tensorflow as tf
from keras.preprocessing.image import ImageDataGenerator
from sklearn.metrics import classification_report


tf.__version__


train_datagen = ImageDataGenerator(rescale = 1./255,
                                   shear_range = 0.2,
                                   zoom_range = 0.2,
                                   horizontal_flip = True)
training_set = train_datagen.flow_from_directory('train',
                                                 target_size = (48, 48),
                                                 color_mode = 'grayscale',
                                                 batch_size = 32,
                                                 class_mode = 'binary')


test_datagen = ImageDataGenerator(rescale = 1./255)
test_set = test_datagen.flow_from_directory('validation',
                                            target_size = (48, 48),
                                            color_mode = 'grayscale',
                                            batch_size = 32,
                                            class_mode = 'binary')


cnn = tf.keras.models.Sequential()


cnn.add(tf.keras.layers.Conv2D(filters=32, kernel_size=3, activation='relu', input_shape=[48, 48, 1]))


cnn.add(tf.keras.layers.MaxPool2D(pool_size=2, strides=2))


cnn.add(tf.keras.layers.Conv2D(filters=32, kernel_size=3, activation='relu'))
cnn.add(tf.keras.layers.MaxPool2D(pool_size=2, strides=2))


cnn.add(tf.keras.layers.Flatten())


cnn.add(tf.keras.layers.Dense(units=128, activation='relu'))


cnn.add(tf.keras.layers.Dense(units=1, activation='sigmoid'))


cnn.compile(optimizer = 'adam', loss = 'binary_crossentropy', metrics = ['accuracy'])


cnn.fit(x = training_set, validation_data = test_set, epochs = 30)


import numpy as np
from keras.preprocessing import image
test_image = image.load_img(r"C:\Users\hp\Desktop\data science\ADVANCE ML\1. Deep learning\CNN\Computer Vision Project\validation\angry\1071.jpg", target_size = (48, 48), color_mode = 'grayscale')
test_image = image.img_to_array(test_image)
test_image = np.expand_dims(test_image, axis = 0)
result = cnn.predict(test_image)
training_set.class_indices


if result[0][0] == 1:
  prediction = 'happy'
else:
  prediction = 'angry'


print(prediction)



