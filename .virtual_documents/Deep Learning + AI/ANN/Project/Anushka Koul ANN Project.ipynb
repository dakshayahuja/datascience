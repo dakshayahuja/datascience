import numpy as np
import pandas as pd
import tensorflow as tf
from sklearn.metrics import r2_score, mean_squared_error, mean_absolute_error


dataset = pd.read_csv(r"C:\Users\hp\Desktop\data science\ADVANCE ML\1. Deep learning\ANN\ANN Project\Dataset\concrete_data.csv")
X = dataset.iloc[:, :-1].values
y = dataset.iloc[:, -1].values


len(X[0])


#splitting

from sklearn.model_selection import train_test_split
X_train, X_test, y_train, y_test = train_test_split(X, y, test_size = 0.2, random_state = 0)


from sklearn.preprocessing import StandardScaler
sc=StandardScaler()
X_train=sc.fit_transform(X_train)
X_test=sc.transform(X_test)


ann = tf.keras.models.Sequential()


ann.add(tf.keras.layers.Dense(units=6, activation='relu')) #units = 2/3(X) + 1


ann.add(tf.keras.layers.Dense(units=6, activation='relu'))


ann.add(tf.keras.layers.Dense(units=1))


ann.compile(optimizer = 'adam', loss = 'mean_squared_error')


ann.fit(X_train, y_train, batch_size = 8, epochs = 100)


y_pred = ann.predict(X_test)
np.set_printoptions(precision=2)
print(np.concatenate((y_pred.reshape(len(y_pred),1), y_test.reshape(len(y_test),1)),1))


r2 = r2_score(y_test, y_pred)
mse = mean_squared_error(y_test, y_pred)
rmse = np.sqrt(mse)

print("R2 Score:", r2)
print("Mean Squared Error:", mse)
print("Root Mean Squared Error:", rmse)






