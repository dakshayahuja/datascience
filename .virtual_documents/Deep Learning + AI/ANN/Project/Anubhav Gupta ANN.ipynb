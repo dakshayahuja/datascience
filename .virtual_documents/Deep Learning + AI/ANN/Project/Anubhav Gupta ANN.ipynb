


import pandas as pd 
import numpy as np
import matplotlib.pyplot as plt
import seaborn as sns
from warnings import filterwarnings
filterwarnings('ignore')
import time
pd.options.display.max_columns = None
pd.options.display.max_rows = 80
%matplotlib inline





df = pd.read_csv('concrete_data.csv')


df.head(3)


df.info()


df.shape





df.drop_duplicates(inplace=True)


data_corr = df.select_dtypes(exclude='object').corr()
plt.figure(figsize=(14,10))
sns.heatmap(data_corr, annot=True, fmt='.02f',cmap='BuPu', linewidths=0.5, linecolor='Black')


for col in df.columns:
    if df[col].value_counts().count() < 10:
        print(col)
        print("-------"*5)
        print(df[col].value_counts())
        print("-------"*10)
    else:
        print(col, df[col].value_counts().count())
        print("-------"*5)


X = df.drop(columns=['Strength'])
y = df['Strength']





from sklearn.preprocessing import StandardScaler
sc = StandardScaler()


from sklearn.model_selection import train_test_split
X_train, X_test, y_train, y_test = train_test_split(X, y, test_size=0.2, random_state=0)


X_trainS = sc.fit_transform(X_train)
X_testS = sc.transform(X_test)





from sklearn.ensemble import RandomForestRegressor
rfr = RandomForestRegressor(n_estimators=70, n_jobs=-1, max_depth=8, max_features=5)


rfr.fit(X_trainS, y_train)


from sklearn.metrics import r2_score, mean_squared_error
y_pred = rfr.predict(X_testS)


r2_score(y_test,y_pred)





import tensorflow as ts
from tensorflow import keras as keras


from sklearn.model_selection import train_test_split
X_train, X_test, y_train, y_test = train_test_split(X, y, test_size=0.2, random_state=0)
X_trainS = sc.fit_transform(X_train)
X_testS = sc.transform(X_test)


ann = keras.models.Sequential()


ann.add(keras.layers.Dense(units=7, activation='relu'))
ann.add(keras.layers.Dense(units=7, activation='relu'))
ann.add(keras.layers.Dense(units=1))


ann.compile(optimizer='adam', loss='mean_squared_error', metrics=['R2Score'])


ann.fit(X_trainS, y_train, batch_size=32, epochs=100)


y_pred = ann.predict(X_testS)


r2 = r2_score(y_test, y_pred)
mse = mean_squared_error(y_test, y_pred)
rmse = (mse)**(0.5)


print("R2 Score:", r2)
print("Mean Squared Error:", mse)
print("Root Mean Squared Error:", rmse)
