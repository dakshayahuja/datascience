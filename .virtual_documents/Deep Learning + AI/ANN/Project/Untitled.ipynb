import numpy as np
import pandas as pd
import tensorflow as tf
from sklearn.preprocessing import StandardScaler
from sklearn.model_selection import train_test_split
from sklearn.metrics import r2_score, mean_squared_error, mean_absolute_error


df = pd.read_csv("concrete_data.csv")


df.head()


x = df.drop("Strength", axis=1)
y = df['Strength']


x_train, x_test, y_train, y_test = train_test_split(x, y, test_size = 0.25)


sc=StandardScaler()
x_train=sc.fit_transform(x_train)
x_test=sc.transform(x_test)


ann = tf.keras.models.Sequential()
ann.add(tf.keras.layers.Dense(units=6, activation='relu'))
ann.add(tf.keras.layers.Dense(units=6, activation='relu'))
ann.add(tf.keras.layers.Dense(units=1))
ann.compile(optimizer = 'adam', loss = 'mean_squared_error')
ann.fit(x_train, y_train, batch_size = 8, epochs = 100, verbose=0)


y_pred = ann.predict(x_test)
np.set_printoptions(precision=2)
result = np.concatenate((y_pred.reshape(len(y_pred),1), y_test.values.reshape(len(y_test),1)),1)
result[:5]


r2 = r2_score(y_test, y_pred)
mse = mean_squared_error(y_test, y_pred)
rmse = np.sqrt(mse)

print(f"R2 Score: {round(r2*100,2)}%")
print("Mean Squared Error:", round(mse,2))
print("Root Mean Squared Error:", round(rmse,2))
