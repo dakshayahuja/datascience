{
 "cells": [
  {
   "cell_type": "code",
   "execution_count": 1,
   "id": "62491445-c8ba-4fe3-b701-47dc9234d0c5",
   "metadata": {},
   "outputs": [],
   "source": [
    "import numpy as np\n",
    "from keras.models import Sequential\n",
    "from keras.layers import Conv2D, MaxPooling2D, Flatten, Dense, Dropout\n",
    "from keras.preprocessing import image\n",
    "from keras.preprocessing.image import ImageDataGenerator\n",
    "\n",
    "import warnings\n",
    "warnings.filterwarnings('ignore')"
   ]
  },
  {
   "cell_type": "markdown",
   "id": "c782292f-17bd-4de7-af35-bbebee4acabf",
   "metadata": {},
   "source": [
    "### Creating the CNN"
   ]
  },
  {
   "cell_type": "code",
   "execution_count": 2,
   "id": "74463d55-5882-4b5b-81b6-05b3941bebfb",
   "metadata": {},
   "outputs": [],
   "source": [
    "model=Sequential()\n",
    "model.add(Conv2D(filters=32,kernel_size=3,activation='relu',input_shape=(64,64,3)))\n",
    "model.add(MaxPooling2D(pool_size=2))\n",
    "model.add(Conv2D(filters=32,kernel_size=3,activation='relu',))\n",
    "model.add(MaxPooling2D(pool_size=2))\n",
    "model.add(Conv2D(filters=32,kernel_size=3,activation='relu',))\n",
    "model.add(MaxPooling2D(pool_size=2))\n",
    "model.add(Conv2D(filters=32,kernel_size=3,activation='relu',))\n",
    "model.add(MaxPooling2D(pool_size=2))\n",
    "model.add(Flatten())"
   ]
  },
  {
   "cell_type": "code",
   "execution_count": 3,
   "id": "966a8078-2198-42ab-917d-4225a4260d2e",
   "metadata": {},
   "outputs": [
    {
     "name": "stdout",
     "output_type": "stream",
     "text": [
      "Model: \"sequential\"\n",
      "_________________________________________________________________\n",
      " Layer (type)                Output Shape              Param #   \n",
      "=================================================================\n",
      " conv2d (Conv2D)             (None, 62, 62, 32)        896       \n",
      "                                                                 \n",
      " max_pooling2d (MaxPooling2  (None, 31, 31, 32)        0         \n",
      " D)                                                              \n",
      "                                                                 \n",
      " conv2d_1 (Conv2D)           (None, 29, 29, 32)        9248      \n",
      "                                                                 \n",
      " max_pooling2d_1 (MaxPoolin  (None, 14, 14, 32)        0         \n",
      " g2D)                                                            \n",
      "                                                                 \n",
      " conv2d_2 (Conv2D)           (None, 12, 12, 32)        9248      \n",
      "                                                                 \n",
      " max_pooling2d_2 (MaxPoolin  (None, 6, 6, 32)          0         \n",
      " g2D)                                                            \n",
      "                                                                 \n",
      " conv2d_3 (Conv2D)           (None, 4, 4, 32)          9248      \n",
      "                                                                 \n",
      " max_pooling2d_3 (MaxPoolin  (None, 2, 2, 32)          0         \n",
      " g2D)                                                            \n",
      "                                                                 \n",
      " flatten (Flatten)           (None, 128)               0         \n",
      "                                                                 \n",
      "=================================================================\n",
      "Total params: 28640 (111.88 KB)\n",
      "Trainable params: 28640 (111.88 KB)\n",
      "Non-trainable params: 0 (0.00 Byte)\n",
      "_________________________________________________________________\n"
     ]
    }
   ],
   "source": [
    "model.summary()"
   ]
  },
  {
   "cell_type": "markdown",
   "id": "f3ec87d9-a4cb-4b13-bb16-bdf49f7e4553",
   "metadata": {},
   "source": [
    "### Creating ANN on CNN"
   ]
  },
  {
   "cell_type": "code",
   "execution_count": 4,
   "id": "4c89b88b-dec1-4101-924f-e4756108480d",
   "metadata": {},
   "outputs": [],
   "source": [
    "model.add(Dense(units=512,activation='relu',kernel_initializer='uniform'))\n",
    "model.add(Dense(units=512,activation='relu',kernel_initializer='uniform'))\n",
    "model.add(Dense(units=512,activation='relu',kernel_initializer='uniform'))\n",
    "model.add(Dense(units=512,activation='relu',kernel_initializer='uniform'))\n",
    "model.add(Dense(units=512,activation='relu',kernel_initializer='uniform'))\n",
    "model.add(Dense(units=512,activation='relu',kernel_initializer='uniform'))\n",
    "model.add(Dense(units=512,activation='relu',kernel_initializer='uniform'))\n",
    "model.add(Dense(units=512,activation='relu',kernel_initializer='uniform'))\n",
    "model.add(Dense(units=1,activation='sigmoid',kernel_initializer='uniform'))"
   ]
  },
  {
   "cell_type": "code",
   "execution_count": 5,
   "id": "03ff54d2-3f7c-49b9-8be2-d698b69d0c72",
   "metadata": {},
   "outputs": [],
   "source": [
    "model.compile(optimizer='adam',loss=\"binary_crossentropy\",metrics=['accuracy'])"
   ]
  },
  {
   "cell_type": "code",
   "execution_count": 6,
   "id": "d72ef908-f09f-4e87-9167-20adbcff7f17",
   "metadata": {},
   "outputs": [
    {
     "name": "stdout",
     "output_type": "stream",
     "text": [
      "Model: \"sequential\"\n",
      "_________________________________________________________________\n",
      " Layer (type)                Output Shape              Param #   \n",
      "=================================================================\n",
      " conv2d (Conv2D)             (None, 62, 62, 32)        896       \n",
      "                                                                 \n",
      " max_pooling2d (MaxPooling2  (None, 31, 31, 32)        0         \n",
      " D)                                                              \n",
      "                                                                 \n",
      " conv2d_1 (Conv2D)           (None, 29, 29, 32)        9248      \n",
      "                                                                 \n",
      " max_pooling2d_1 (MaxPoolin  (None, 14, 14, 32)        0         \n",
      " g2D)                                                            \n",
      "                                                                 \n",
      " conv2d_2 (Conv2D)           (None, 12, 12, 32)        9248      \n",
      "                                                                 \n",
      " max_pooling2d_2 (MaxPoolin  (None, 6, 6, 32)          0         \n",
      " g2D)                                                            \n",
      "                                                                 \n",
      " conv2d_3 (Conv2D)           (None, 4, 4, 32)          9248      \n",
      "                                                                 \n",
      " max_pooling2d_3 (MaxPoolin  (None, 2, 2, 32)          0         \n",
      " g2D)                                                            \n",
      "                                                                 \n",
      " flatten (Flatten)           (None, 128)               0         \n",
      "                                                                 \n",
      " dense (Dense)               (None, 512)               66048     \n",
      "                                                                 \n",
      " dense_1 (Dense)             (None, 512)               262656    \n",
      "                                                                 \n",
      " dense_2 (Dense)             (None, 512)               262656    \n",
      "                                                                 \n",
      " dense_3 (Dense)             (None, 512)               262656    \n",
      "                                                                 \n",
      " dense_4 (Dense)             (None, 512)               262656    \n",
      "                                                                 \n",
      " dense_5 (Dense)             (None, 512)               262656    \n",
      "                                                                 \n",
      " dense_6 (Dense)             (None, 512)               262656    \n",
      "                                                                 \n",
      " dense_7 (Dense)             (None, 512)               262656    \n",
      "                                                                 \n",
      " dense_8 (Dense)             (None, 1)                 513       \n",
      "                                                                 \n",
      "=================================================================\n",
      "Total params: 1933793 (7.38 MB)\n",
      "Trainable params: 1933793 (7.38 MB)\n",
      "Non-trainable params: 0 (0.00 Byte)\n",
      "_________________________________________________________________\n"
     ]
    }
   ],
   "source": [
    "model.summary()"
   ]
  },
  {
   "cell_type": "markdown",
   "id": "2c634c5a-2202-46d6-ae14-20c93d7e1bbb",
   "metadata": {},
   "source": [
    "## Training and Fitting"
   ]
  },
  {
   "cell_type": "code",
   "execution_count": 7,
   "id": "1aa4a669-5ffa-49c3-a7c9-c9ef0d3b133d",
   "metadata": {},
   "outputs": [],
   "source": [
    "train_datagen = ImageDataGenerator(rescale=1./255, shear_range=0.2, zoom_range=0.2, horizontal_flip=True)\n",
    "test_datagen = ImageDataGenerator(rescale=1./255)"
   ]
  },
  {
   "cell_type": "code",
   "execution_count": 8,
   "id": "0b9b5f8a-e9c2-4bbf-97f8-0b815d999090",
   "metadata": {},
   "outputs": [
    {
     "name": "stdout",
     "output_type": "stream",
     "text": [
      "Found 2000 images belonging to 2 classes.\n"
     ]
    }
   ],
   "source": [
    "train_set = train_datagen.flow_from_directory (\n",
    "    'Dataset/training_set/',\\\n",
    "    target_size=(64, 64),\\\n",
    "    batch_size=32,\\\n",
    "    class_mode='binary')"
   ]
  },
  {
   "cell_type": "code",
   "execution_count": 9,
   "id": "df289bad-41f6-4173-b2e2-3a5cfbc3ccb3",
   "metadata": {},
   "outputs": [
    {
     "name": "stdout",
     "output_type": "stream",
     "text": [
      "Found 1000 images belonging to 2 classes.\n"
     ]
    }
   ],
   "source": [
    "test_set = test_datagen.flow_from_directory(\n",
    "    'Dataset/test_set/',\\\n",
    "        target_size=(64, 64),\\\n",
    "        batch_size=32,\\\n",
    "        class_mode='binary')"
   ]
  },
  {
   "cell_type": "markdown",
   "id": "2d620b14-1fe1-4066-8586-3775a8c9e6fe",
   "metadata": {},
   "source": [
    "#### we have chosen a batch_size of 32, there are 2000 images in our training set and 1000 images in our test set. therefore:\n",
    "- ##### steps_per_epoch = 2000 / 32 = 62.5 ≅ 63\n",
    "- ##### validation_steps = 1000 / 32 = 31.25 ≅ 32"
   ]
  },
  {
   "cell_type": "code",
   "execution_count": 10,
   "id": "b493e00f-1488-4d8e-a904-a31c2567b2b1",
   "metadata": {},
   "outputs": [
    {
     "data": {
      "text/plain": [
       "<keras.src.callbacks.History at 0x15084d5b0>"
      ]
     },
     "execution_count": 10,
     "metadata": {},
     "output_type": "execute_result"
    }
   ],
   "source": [
    "model.fit_generator(train_set, steps_per_epoch=63, epochs=10, validation_data=test_set, validation_steps=32, verbose=0)"
   ]
  },
  {
   "cell_type": "markdown",
   "id": "e8715af0-8414-40ef-8eb5-0d1f0bef8bc2",
   "metadata": {},
   "source": [
    "## Predicting"
   ]
  },
  {
   "cell_type": "code",
   "execution_count": 11,
   "id": "2de6f818-6d96-497c-aaa7-0a63e80f0866",
   "metadata": {},
   "outputs": [],
   "source": [
    "new_image=image.load_img('test1.jpg',target_size=(64,64))\n",
    "new_image=image.img_to_array(new_image)\n",
    "new_image /= 255.0\n",
    "new_image=np.expand_dims(new_image,axis=0)"
   ]
  },
  {
   "cell_type": "code",
   "execution_count": 12,
   "id": "f13e1201-a6b4-4439-a019-45462349f739",
   "metadata": {},
   "outputs": [
    {
     "name": "stdout",
     "output_type": "stream",
     "text": [
      "1/1 [==============================] - 0s 50ms/step\n",
      "This is a Cat\n"
     ]
    }
   ],
   "source": [
    "result=model.predict(new_image)\n",
    "if result[0][0]>0.5:\n",
    "    predict=print('This is a Dog')\n",
    "else:\n",
    "    predict=print('This is a Cat')"
   ]
  }
 ],
 "metadata": {
  "kernelspec": {
   "display_name": "Python 3 (ipykernel)",
   "language": "python",
   "name": "python3"
  },
  "language_info": {
   "codemirror_mode": {
    "name": "ipython",
    "version": 3
   },
   "file_extension": ".py",
   "mimetype": "text/x-python",
   "name": "python",
   "nbconvert_exporter": "python",
   "pygments_lexer": "ipython3",
   "version": "3.8.18"
  }
 },
 "nbformat": 4,
 "nbformat_minor": 5
}
