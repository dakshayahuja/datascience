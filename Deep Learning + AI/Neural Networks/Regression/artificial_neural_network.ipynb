{
 "cells": [
  {
   "cell_type": "markdown",
   "metadata": {
    "colab_type": "text",
    "id": "3cbb7fRy-eyr"
   },
   "source": [
    "# Artificial Neural Network"
   ]
  },
  {
   "cell_type": "markdown",
   "metadata": {
    "colab_type": "text",
    "id": "8sNDnxE2-pwE"
   },
   "source": [
    "### Importing the libraries"
   ]
  },
  {
   "cell_type": "code",
   "execution_count": 1,
   "metadata": {
    "colab": {},
    "colab_type": "code",
    "id": "lxChR1Rk-umf",
    "ExecuteTime": {
     "end_time": "2023-11-01T08:23:26.812125Z",
     "start_time": "2023-11-01T08:23:24.044555Z"
    }
   },
   "outputs": [],
   "source": [
    "import numpy as np\n",
    "import pandas as pd\n",
    "import tensorflow as tf"
   ]
  },
  {
   "cell_type": "code",
   "execution_count": 2,
   "metadata": {
    "colab": {
     "base_uri": "https://localhost:8080/",
     "height": 34
    },
    "colab_type": "code",
    "id": "uBTqR3nacj0e",
    "outputId": "4c0bd183-e424-429a-9fba-ceb841c06888",
    "ExecuteTime": {
     "end_time": "2023-11-01T08:23:26.816997Z",
     "start_time": "2023-11-01T08:23:26.813749Z"
    }
   },
   "outputs": [
    {
     "data": {
      "text/plain": "'2.13.0'"
     },
     "execution_count": 2,
     "metadata": {},
     "output_type": "execute_result"
    }
   ],
   "source": [
    "tf.__version__"
   ]
  },
  {
   "cell_type": "markdown",
   "metadata": {
    "colab_type": "text",
    "id": "AG3FQEch-yuA"
   },
   "source": [
    "## Part 1 - Data Preprocessing"
   ]
  },
  {
   "cell_type": "markdown",
   "metadata": {
    "colab_type": "text",
    "id": "-4zq8Mza_D9O"
   },
   "source": [
    "### Importing the dataset"
   ]
  },
  {
   "cell_type": "code",
   "execution_count": 3,
   "metadata": {
    "colab": {},
    "colab_type": "code",
    "id": "B9CV13Co_HHM",
    "ExecuteTime": {
     "end_time": "2023-11-01T08:23:27.294672Z",
     "start_time": "2023-11-01T08:23:26.818953Z"
    }
   },
   "outputs": [],
   "source": [
    "dataset = pd.read_excel('Folds5x2_pp.xlsx')\n",
    "X = dataset.iloc[:, :-1].values\n",
    "y = dataset.iloc[:, -1].values"
   ]
  },
  {
   "cell_type": "markdown",
   "metadata": {
    "colab_type": "text",
    "id": "VC6omXel_Up0"
   },
   "source": [
    "### Splitting the dataset into the Training set and Test set"
   ]
  },
  {
   "cell_type": "code",
   "execution_count": 4,
   "metadata": {
    "colab": {},
    "colab_type": "code",
    "id": "L5edeb2r_agx",
    "ExecuteTime": {
     "end_time": "2023-11-01T08:23:27.380649Z",
     "start_time": "2023-11-01T08:23:27.295594Z"
    }
   },
   "outputs": [],
   "source": [
    "from sklearn.model_selection import train_test_split\n",
    "X_train, X_test, y_train, y_test = train_test_split(X, y, test_size = 0.2, random_state = 0)"
   ]
  },
  {
   "cell_type": "markdown",
   "metadata": {
    "colab_type": "text",
    "id": "_mSLlAT9_eyI"
   },
   "source": [
    "## Part 2 - Building the ANN"
   ]
  },
  {
   "cell_type": "markdown",
   "metadata": {
    "colab_type": "text",
    "id": "CsBULd_f_wLY"
   },
   "source": [
    "### Initializing the ANN"
   ]
  },
  {
   "cell_type": "code",
   "execution_count": 5,
   "metadata": {
    "colab": {},
    "colab_type": "code",
    "id": "J6Hd97Ls__Nz",
    "ExecuteTime": {
     "end_time": "2023-11-01T08:23:27.427770Z",
     "start_time": "2023-11-01T08:23:27.381573Z"
    }
   },
   "outputs": [],
   "source": [
    "ann = tf.keras.models.Sequential()"
   ]
  },
  {
   "cell_type": "markdown",
   "metadata": {
    "colab_type": "text",
    "id": "iitAFJS_ABUn"
   },
   "source": [
    "### Adding the input layer and the first hidden layer"
   ]
  },
  {
   "cell_type": "code",
   "execution_count": 6,
   "metadata": {
    "colab": {},
    "colab_type": "code",
    "id": "ksO_Vv40AHix",
    "ExecuteTime": {
     "end_time": "2023-11-01T08:23:27.428056Z",
     "start_time": "2023-11-01T08:23:27.423806Z"
    }
   },
   "outputs": [],
   "source": [
    "ann.add(tf.keras.layers.Dense(units=6, activation='relu'))"
   ]
  },
  {
   "cell_type": "markdown",
   "metadata": {
    "colab_type": "text",
    "id": "-lb4kK_wAKbs"
   },
   "source": [
    "### Adding the second hidden layer"
   ]
  },
  {
   "cell_type": "code",
   "execution_count": 7,
   "metadata": {
    "colab": {},
    "colab_type": "code",
    "id": "c2357OqEAQOQ",
    "ExecuteTime": {
     "end_time": "2023-11-01T08:23:27.439799Z",
     "start_time": "2023-11-01T08:23:27.429656Z"
    }
   },
   "outputs": [],
   "source": [
    "ann.add(tf.keras.layers.Dense(units=6, activation='relu'))"
   ]
  },
  {
   "cell_type": "markdown",
   "metadata": {
    "colab_type": "text",
    "id": "jwMOmKb3AdBY"
   },
   "source": [
    "### Adding the output layer"
   ]
  },
  {
   "cell_type": "code",
   "execution_count": 8,
   "metadata": {
    "colab": {},
    "colab_type": "code",
    "id": "YFATpzsUAkLL",
    "ExecuteTime": {
     "end_time": "2023-11-01T08:23:27.440239Z",
     "start_time": "2023-11-01T08:23:27.432382Z"
    }
   },
   "outputs": [],
   "source": [
    "ann.add(tf.keras.layers.Dense(units=1))"
   ]
  },
  {
   "cell_type": "markdown",
   "metadata": {
    "colab_type": "text",
    "id": "fq7e4fF6A1yy"
   },
   "source": [
    "## Part 3 - Training the ANN"
   ]
  },
  {
   "cell_type": "markdown",
   "metadata": {
    "colab_type": "text",
    "id": "qDeylAs2An25"
   },
   "source": [
    "### Compiling the ANN"
   ]
  },
  {
   "cell_type": "code",
   "execution_count": 9,
   "metadata": {
    "colab": {},
    "colab_type": "code",
    "id": "pesgbWlCAtB4",
    "ExecuteTime": {
     "end_time": "2023-11-01T08:23:27.445772Z",
     "start_time": "2023-11-01T08:23:27.438714Z"
    }
   },
   "outputs": [],
   "source": [
    "ann.compile(optimizer = 'adam', loss = 'mean_squared_error')"
   ]
  },
  {
   "cell_type": "markdown",
   "metadata": {
    "colab_type": "text",
    "id": "YjVuiybYOo7r"
   },
   "source": [
    "### Training the ANN model on the Training set"
   ]
  },
  {
   "cell_type": "code",
   "execution_count": 10,
   "metadata": {
    "colab": {
     "base_uri": "https://localhost:8080/",
     "height": 1000
    },
    "colab_type": "code",
    "id": "c_vV-tiiA5zn",
    "outputId": "4a2b6ee6-ed75-4698-9069-b250e613803f",
    "ExecuteTime": {
     "end_time": "2023-11-01T08:23:35.839367Z",
     "start_time": "2023-11-01T08:23:27.447576Z"
    }
   },
   "outputs": [
    {
     "name": "stdout",
     "output_type": "stream",
     "text": [
      "Epoch 1/100\n",
      "240/240 [==============================] - 0s 376us/step - loss: 233124.5469\n",
      "Epoch 2/100\n",
      "240/240 [==============================] - 0s 343us/step - loss: 207325.2656\n",
      "Epoch 3/100\n",
      "240/240 [==============================] - 0s 348us/step - loss: 206211.9375\n",
      "Epoch 4/100\n",
      "240/240 [==============================] - 0s 324us/step - loss: 205956.4531\n",
      "Epoch 5/100\n",
      "240/240 [==============================] - 0s 342us/step - loss: 205733.4219\n",
      "Epoch 6/100\n",
      "240/240 [==============================] - 0s 355us/step - loss: 205515.3906\n",
      "Epoch 7/100\n",
      "240/240 [==============================] - 0s 341us/step - loss: 205298.5156\n",
      "Epoch 8/100\n",
      "240/240 [==============================] - 0s 322us/step - loss: 205081.7656\n",
      "Epoch 9/100\n",
      "240/240 [==============================] - 0s 320us/step - loss: 204865.2188\n",
      "Epoch 10/100\n",
      "240/240 [==============================] - 0s 354us/step - loss: 204648.8281\n",
      "Epoch 11/100\n",
      "240/240 [==============================] - 0s 366us/step - loss: 204432.3438\n",
      "Epoch 12/100\n",
      "240/240 [==============================] - 0s 339us/step - loss: 204216.3594\n",
      "Epoch 13/100\n",
      "240/240 [==============================] - 0s 357us/step - loss: 204000.1719\n",
      "Epoch 14/100\n",
      "240/240 [==============================] - 0s 363us/step - loss: 203784.2344\n",
      "Epoch 15/100\n",
      "240/240 [==============================] - 0s 361us/step - loss: 203568.2344\n",
      "Epoch 16/100\n",
      "240/240 [==============================] - 0s 319us/step - loss: 203352.3438\n",
      "Epoch 17/100\n",
      "240/240 [==============================] - 0s 377us/step - loss: 203136.6562\n",
      "Epoch 18/100\n",
      "240/240 [==============================] - 0s 341us/step - loss: 202921.0781\n",
      "Epoch 19/100\n",
      "240/240 [==============================] - 0s 322us/step - loss: 202705.5156\n",
      "Epoch 20/100\n",
      "240/240 [==============================] - 0s 339us/step - loss: 202490.0938\n",
      "Epoch 21/100\n",
      "240/240 [==============================] - 0s 333us/step - loss: 202274.7969\n",
      "Epoch 22/100\n",
      "240/240 [==============================] - 0s 319us/step - loss: 202059.6406\n",
      "Epoch 23/100\n",
      "240/240 [==============================] - 0s 329us/step - loss: 201844.5312\n",
      "Epoch 24/100\n",
      "240/240 [==============================] - 0s 422us/step - loss: 201629.5938\n",
      "Epoch 25/100\n",
      "240/240 [==============================] - 0s 344us/step - loss: 201414.7500\n",
      "Epoch 26/100\n",
      "240/240 [==============================] - 0s 329us/step - loss: 201200.0312\n",
      "Epoch 27/100\n",
      "240/240 [==============================] - 0s 350us/step - loss: 200985.4375\n",
      "Epoch 28/100\n",
      "240/240 [==============================] - 0s 341us/step - loss: 200770.9062\n",
      "Epoch 29/100\n",
      "240/240 [==============================] - 0s 349us/step - loss: 200556.5625\n",
      "Epoch 30/100\n",
      "240/240 [==============================] - 0s 312us/step - loss: 200342.2344\n",
      "Epoch 31/100\n",
      "240/240 [==============================] - 0s 320us/step - loss: 200128.1562\n",
      "Epoch 32/100\n",
      "240/240 [==============================] - 0s 347us/step - loss: 199914.0469\n",
      "Epoch 33/100\n",
      "240/240 [==============================] - 0s 344us/step - loss: 199700.0625\n",
      "Epoch 34/100\n",
      "240/240 [==============================] - 0s 314us/step - loss: 199486.3281\n",
      "Epoch 35/100\n",
      "240/240 [==============================] - 0s 323us/step - loss: 199272.6719\n",
      "Epoch 36/100\n",
      "240/240 [==============================] - 0s 319us/step - loss: 199059.0625\n",
      "Epoch 37/100\n",
      "240/240 [==============================] - 0s 323us/step - loss: 198845.5938\n",
      "Epoch 38/100\n",
      "240/240 [==============================] - 0s 322us/step - loss: 198632.2344\n",
      "Epoch 39/100\n",
      "240/240 [==============================] - 0s 336us/step - loss: 198418.9688\n",
      "Epoch 40/100\n",
      "240/240 [==============================] - 0s 324us/step - loss: 198205.9375\n",
      "Epoch 41/100\n",
      "240/240 [==============================] - 0s 329us/step - loss: 197992.8438\n",
      "Epoch 42/100\n",
      "240/240 [==============================] - 0s 319us/step - loss: 197780.0000\n",
      "Epoch 43/100\n",
      "240/240 [==============================] - 0s 334us/step - loss: 197567.2344\n",
      "Epoch 44/100\n",
      "240/240 [==============================] - 0s 331us/step - loss: 197354.5938\n",
      "Epoch 45/100\n",
      "240/240 [==============================] - 0s 328us/step - loss: 197141.9844\n",
      "Epoch 46/100\n",
      "240/240 [==============================] - 0s 333us/step - loss: 196929.5781\n",
      "Epoch 47/100\n",
      "240/240 [==============================] - 0s 335us/step - loss: 196717.2500\n",
      "Epoch 48/100\n",
      "240/240 [==============================] - 0s 354us/step - loss: 196505.1250\n",
      "Epoch 49/100\n",
      "240/240 [==============================] - 0s 361us/step - loss: 196293.0781\n",
      "Epoch 50/100\n",
      "240/240 [==============================] - 0s 346us/step - loss: 196081.0312\n",
      "Epoch 51/100\n",
      "240/240 [==============================] - 0s 326us/step - loss: 195869.1875\n",
      "Epoch 52/100\n",
      "240/240 [==============================] - 0s 329us/step - loss: 195657.4531\n",
      "Epoch 53/100\n",
      "240/240 [==============================] - 0s 344us/step - loss: 195445.7812\n",
      "Epoch 54/100\n",
      "240/240 [==============================] - 0s 340us/step - loss: 195234.2656\n",
      "Epoch 55/100\n",
      "240/240 [==============================] - 0s 329us/step - loss: 195022.9062\n",
      "Epoch 56/100\n",
      "240/240 [==============================] - 0s 320us/step - loss: 194811.6875\n",
      "Epoch 57/100\n",
      "240/240 [==============================] - 0s 348us/step - loss: 194600.4688\n",
      "Epoch 58/100\n",
      "240/240 [==============================] - 0s 360us/step - loss: 194389.4844\n",
      "Epoch 59/100\n",
      "240/240 [==============================] - 0s 340us/step - loss: 194178.4688\n",
      "Epoch 60/100\n",
      "240/240 [==============================] - 0s 345us/step - loss: 193967.6875\n",
      "Epoch 61/100\n",
      "240/240 [==============================] - 0s 317us/step - loss: 193756.9844\n",
      "Epoch 62/100\n",
      "240/240 [==============================] - 0s 328us/step - loss: 193546.3906\n",
      "Epoch 63/100\n",
      "240/240 [==============================] - 0s 333us/step - loss: 193335.8594\n",
      "Epoch 64/100\n",
      "240/240 [==============================] - 0s 339us/step - loss: 193125.5000\n",
      "Epoch 65/100\n",
      "240/240 [==============================] - 0s 327us/step - loss: 192915.2969\n",
      "Epoch 66/100\n",
      "240/240 [==============================] - 0s 331us/step - loss: 192705.0938\n",
      "Epoch 67/100\n",
      "240/240 [==============================] - 0s 316us/step - loss: 192495.1094\n",
      "Epoch 68/100\n",
      "240/240 [==============================] - 0s 316us/step - loss: 192285.2500\n",
      "Epoch 69/100\n",
      "240/240 [==============================] - 0s 318us/step - loss: 192075.4219\n",
      "Epoch 70/100\n",
      "240/240 [==============================] - 0s 318us/step - loss: 191865.6719\n",
      "Epoch 71/100\n",
      "240/240 [==============================] - 0s 322us/step - loss: 191656.2344\n",
      "Epoch 72/100\n",
      "240/240 [==============================] - 0s 327us/step - loss: 191446.6719\n",
      "Epoch 73/100\n",
      "240/240 [==============================] - 0s 319us/step - loss: 191237.5156\n",
      "Epoch 74/100\n",
      "240/240 [==============================] - 0s 316us/step - loss: 191028.2500\n",
      "Epoch 75/100\n",
      "240/240 [==============================] - 0s 325us/step - loss: 190819.1562\n",
      "Epoch 76/100\n",
      "240/240 [==============================] - 0s 352us/step - loss: 190610.1094\n",
      "Epoch 77/100\n",
      "240/240 [==============================] - 0s 329us/step - loss: 190401.3281\n",
      "Epoch 78/100\n",
      "240/240 [==============================] - 0s 352us/step - loss: 190192.5156\n",
      "Epoch 79/100\n",
      "240/240 [==============================] - 0s 334us/step - loss: 189983.8906\n",
      "Epoch 80/100\n",
      "240/240 [==============================] - 0s 329us/step - loss: 189775.3750\n",
      "Epoch 81/100\n",
      "240/240 [==============================] - 0s 325us/step - loss: 189566.9688\n",
      "Epoch 82/100\n",
      "240/240 [==============================] - 0s 338us/step - loss: 189358.6562\n",
      "Epoch 83/100\n",
      "240/240 [==============================] - 0s 320us/step - loss: 189150.5312\n",
      "Epoch 84/100\n",
      "240/240 [==============================] - 0s 312us/step - loss: 188942.3438\n",
      "Epoch 85/100\n",
      "240/240 [==============================] - 0s 322us/step - loss: 188734.4844\n",
      "Epoch 86/100\n",
      "240/240 [==============================] - 0s 313us/step - loss: 188526.7031\n",
      "Epoch 87/100\n",
      "240/240 [==============================] - 0s 309us/step - loss: 188318.8906\n",
      "Epoch 88/100\n",
      "240/240 [==============================] - 0s 343us/step - loss: 188111.2344\n",
      "Epoch 89/100\n",
      "240/240 [==============================] - 0s 328us/step - loss: 187903.7656\n",
      "Epoch 90/100\n",
      "240/240 [==============================] - 0s 319us/step - loss: 187696.4531\n",
      "Epoch 91/100\n",
      "240/240 [==============================] - 0s 344us/step - loss: 187489.1719\n",
      "Epoch 92/100\n",
      "240/240 [==============================] - 0s 312us/step - loss: 187281.9531\n",
      "Epoch 93/100\n",
      "240/240 [==============================] - 0s 313us/step - loss: 187075.0781\n",
      "Epoch 94/100\n",
      "240/240 [==============================] - 0s 348us/step - loss: 186868.1250\n",
      "Epoch 95/100\n",
      "240/240 [==============================] - 0s 315us/step - loss: 186661.3281\n",
      "Epoch 96/100\n",
      "240/240 [==============================] - 0s 311us/step - loss: 186454.6562\n",
      "Epoch 97/100\n",
      "240/240 [==============================] - 0s 348us/step - loss: 186248.0312\n",
      "Epoch 98/100\n",
      "240/240 [==============================] - 0s 308us/step - loss: 186041.6094\n",
      "Epoch 99/100\n",
      "240/240 [==============================] - 0s 318us/step - loss: 185835.2188\n",
      "Epoch 100/100\n",
      "240/240 [==============================] - 0s 310us/step - loss: 185629.0000\n"
     ]
    },
    {
     "data": {
      "text/plain": "<keras.src.callbacks.History at 0x17cf5b8e0>"
     },
     "execution_count": 10,
     "metadata": {},
     "output_type": "execute_result"
    }
   ],
   "source": [
    "ann.fit(X_train, y_train, batch_size = 32, epochs = 100)"
   ]
  },
  {
   "cell_type": "markdown",
   "metadata": {
    "colab_type": "text",
    "id": "0H0zKKNEBLD5"
   },
   "source": [
    "### Predicting the results of the Test set"
   ]
  },
  {
   "cell_type": "code",
   "execution_count": 11,
   "metadata": {
    "colab": {
     "base_uri": "https://localhost:8080/",
     "height": 134
    },
    "colab_type": "code",
    "id": "IA0yApEmBG1X",
    "outputId": "cb981e1f-9204-4a2a-fece-9d66a6919189",
    "ExecuteTime": {
     "end_time": "2023-11-01T08:23:35.939488Z",
     "start_time": "2023-11-01T08:23:35.839976Z"
    }
   },
   "outputs": [
    {
     "name": "stdout",
     "output_type": "stream",
     "text": [
      "60/60 [==============================] - 0s 279us/step\n",
      "[[ 23.91 431.23]\n",
      " [ 23.91 460.01]\n",
      " [ 23.91 461.14]\n",
      " ...\n",
      " [ 23.91 473.26]\n",
      " [ 23.91 438.  ]\n",
      " [ 23.91 463.28]]\n"
     ]
    }
   ],
   "source": [
    "y_pred = ann.predict(X_test)\n",
    "np.set_printoptions(precision=2)\n",
    "print(np.concatenate((y_pred.reshape(len(y_pred),1), y_test.reshape(len(y_test),1)),1))"
   ]
  }
 ],
 "metadata": {
  "colab": {
   "collapsed_sections": [],
   "name": "Artificial Neural Network",
   "provenance": [],
   "toc_visible": true
  },
  "kernelspec": {
   "display_name": "Python 3 (ipykernel)",
   "language": "python",
   "name": "python3"
  },
  "language_info": {
   "codemirror_mode": {
    "name": "ipython",
    "version": 3
   },
   "file_extension": ".py",
   "mimetype": "text/x-python",
   "name": "python",
   "nbconvert_exporter": "python",
   "pygments_lexer": "ipython3",
   "version": "3.11.3"
  }
 },
 "nbformat": 4,
 "nbformat_minor": 1
}
