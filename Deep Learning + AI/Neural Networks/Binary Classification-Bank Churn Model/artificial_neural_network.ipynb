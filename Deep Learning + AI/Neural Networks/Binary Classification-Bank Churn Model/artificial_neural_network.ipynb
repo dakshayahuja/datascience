{
 "cells": [
  {
   "cell_type": "markdown",
   "metadata": {
    "colab_type": "text",
    "id": "lP6JLo1tGNBg"
   },
   "source": [
    "# Artificial Neural Network"
   ]
  },
  {
   "cell_type": "markdown",
   "metadata": {
    "colab_type": "text",
    "id": "gWZyYmS_UE_L"
   },
   "source": [
    "### Importing the libraries"
   ]
  },
  {
   "cell_type": "code",
   "execution_count": 1,
   "metadata": {
    "colab": {},
    "colab_type": "code",
    "id": "MxkJoQBkUIHC",
    "ExecuteTime": {
     "end_time": "2023-11-01T08:24:10.222910Z",
     "start_time": "2023-11-01T08:24:08.358824Z"
    }
   },
   "outputs": [],
   "source": [
    "import numpy as np\n",
    "import pandas as pd\n",
    "import tensorflow as tf"
   ]
  },
  {
   "cell_type": "code",
   "execution_count": 2,
   "metadata": {
    "colab": {
     "base_uri": "https://localhost:8080/",
     "height": 34
    },
    "colab_type": "code",
    "executionInfo": {
     "elapsed": 2400,
     "status": "ok",
     "timestamp": 1590257449959,
     "user": {
      "displayName": "Hadelin de Ponteves",
      "photoUrl": "https://lh3.googleusercontent.com/a-/AOh14GhEuXdT7eQweUmRPW8_laJuPggSK6hfvpl5a6WBaA=s64",
      "userId": "15047218817161520419"
     },
     "user_tz": -240
    },
    "id": "ZaTwK7ojXr2F",
    "outputId": "0b27a96d-d11a-43e8-ab4b-87c1f01896fe",
    "ExecuteTime": {
     "end_time": "2023-11-01T08:24:10.227626Z",
     "start_time": "2023-11-01T08:24:10.224439Z"
    }
   },
   "outputs": [
    {
     "data": {
      "text/plain": "'2.13.0'"
     },
     "execution_count": 2,
     "metadata": {},
     "output_type": "execute_result"
    }
   ],
   "source": [
    "tf.__version__"
   ]
  },
  {
   "cell_type": "markdown",
   "metadata": {
    "colab_type": "text",
    "id": "1E0Q3aoKUCRX"
   },
   "source": [
    "## Part 1 - Data Preprocessing"
   ]
  },
  {
   "cell_type": "markdown",
   "metadata": {
    "colab_type": "text",
    "id": "cKWAkFVGUU0Z"
   },
   "source": [
    "### Importing the dataset"
   ]
  },
  {
   "cell_type": "code",
   "execution_count": 3,
   "metadata": {
    "colab": {},
    "colab_type": "code",
    "id": "MXUkhkMfU4wq",
    "ExecuteTime": {
     "end_time": "2023-11-01T08:24:10.240929Z",
     "start_time": "2023-11-01T08:24:10.229779Z"
    }
   },
   "outputs": [],
   "source": [
    "dataset = pd.read_csv('Churn_Modelling.csv')\n",
    "X = dataset.iloc[:, 3:-1].values\n",
    "y = dataset.iloc[:, -1].values"
   ]
  },
  {
   "cell_type": "code",
   "execution_count": 4,
   "metadata": {
    "colab": {
     "base_uri": "https://localhost:8080/",
     "height": 137
    },
    "colab_type": "code",
    "executionInfo": {
     "elapsed": 2396,
     "status": "ok",
     "timestamp": 1590257449961,
     "user": {
      "displayName": "Hadelin de Ponteves",
      "photoUrl": "https://lh3.googleusercontent.com/a-/AOh14GhEuXdT7eQweUmRPW8_laJuPggSK6hfvpl5a6WBaA=s64",
      "userId": "15047218817161520419"
     },
     "user_tz": -240
    },
    "id": "VYP9cQTWbzuI",
    "outputId": "797e7a64-9bac-436a-8c9c-94437e5e7587",
    "ExecuteTime": {
     "end_time": "2023-11-01T08:24:10.246123Z",
     "start_time": "2023-11-01T08:24:10.241542Z"
    }
   },
   "outputs": [
    {
     "name": "stdout",
     "output_type": "stream",
     "text": [
      "[[619 'France' 'Female' ... 1 1 101348.88]\n",
      " [608 'Spain' 'Female' ... 0 1 112542.58]\n",
      " [502 'France' 'Female' ... 1 0 113931.57]\n",
      " ...\n",
      " [709 'France' 'Female' ... 0 1 42085.58]\n",
      " [772 'Germany' 'Male' ... 1 0 92888.52]\n",
      " [792 'France' 'Female' ... 1 0 38190.78]]\n"
     ]
    }
   ],
   "source": [
    "print(X)"
   ]
  },
  {
   "cell_type": "code",
   "execution_count": 5,
   "metadata": {
    "colab": {
     "base_uri": "https://localhost:8080/",
     "height": 34
    },
    "colab_type": "code",
    "executionInfo": {
     "elapsed": 2391,
     "status": "ok",
     "timestamp": 1590257449961,
     "user": {
      "displayName": "Hadelin de Ponteves",
      "photoUrl": "https://lh3.googleusercontent.com/a-/AOh14GhEuXdT7eQweUmRPW8_laJuPggSK6hfvpl5a6WBaA=s64",
      "userId": "15047218817161520419"
     },
     "user_tz": -240
    },
    "id": "38vKGE6Nb2RR",
    "outputId": "a815e42a-e0dd-4cb5-ab97-b17ead98fbc3",
    "ExecuteTime": {
     "end_time": "2023-11-01T08:24:10.280009Z",
     "start_time": "2023-11-01T08:24:10.244550Z"
    }
   },
   "outputs": [
    {
     "name": "stdout",
     "output_type": "stream",
     "text": [
      "[1 0 1 ... 1 1 0]\n"
     ]
    }
   ],
   "source": [
    "print(y)"
   ]
  },
  {
   "cell_type": "markdown",
   "metadata": {
    "colab_type": "text",
    "id": "N6bQ0UgSU-NJ"
   },
   "source": [
    "### Encoding categorical data"
   ]
  },
  {
   "cell_type": "markdown",
   "metadata": {
    "colab_type": "text",
    "id": "le5MJreAbW52"
   },
   "source": [
    "Label Encoding the \"Gender\" column"
   ]
  },
  {
   "cell_type": "code",
   "execution_count": 6,
   "metadata": {
    "colab": {},
    "colab_type": "code",
    "id": "PxVKWXxLbczC",
    "ExecuteTime": {
     "end_time": "2023-11-01T08:24:10.286449Z",
     "start_time": "2023-11-01T08:24:10.247874Z"
    }
   },
   "outputs": [],
   "source": [
    "from sklearn.preprocessing import LabelEncoder\n",
    "le = LabelEncoder()\n",
    "X[:, 2] = le.fit_transform(X[:, 2])"
   ]
  },
  {
   "cell_type": "code",
   "execution_count": 7,
   "metadata": {
    "colab": {
     "base_uri": "https://localhost:8080/",
     "height": 137
    },
    "colab_type": "code",
    "executionInfo": {
     "elapsed": 2719,
     "status": "ok",
     "timestamp": 1590257450295,
     "user": {
      "displayName": "Hadelin de Ponteves",
      "photoUrl": "https://lh3.googleusercontent.com/a-/AOh14GhEuXdT7eQweUmRPW8_laJuPggSK6hfvpl5a6WBaA=s64",
      "userId": "15047218817161520419"
     },
     "user_tz": -240
    },
    "id": "-M1KboxFb6OO",
    "outputId": "e2b8c7e8-0cbc-4cdf-f4eb-7f0853a00b88",
    "ExecuteTime": {
     "end_time": "2023-11-01T08:24:10.288042Z",
     "start_time": "2023-11-01T08:24:10.284786Z"
    }
   },
   "outputs": [
    {
     "name": "stdout",
     "output_type": "stream",
     "text": [
      "[[619 'France' 0 ... 1 1 101348.88]\n",
      " [608 'Spain' 0 ... 0 1 112542.58]\n",
      " [502 'France' 0 ... 1 0 113931.57]\n",
      " ...\n",
      " [709 'France' 0 ... 0 1 42085.58]\n",
      " [772 'Germany' 1 ... 1 0 92888.52]\n",
      " [792 'France' 0 ... 1 0 38190.78]]\n"
     ]
    }
   ],
   "source": [
    "print(X)"
   ]
  },
  {
   "cell_type": "markdown",
   "metadata": {
    "colab_type": "text",
    "id": "CUxGZezpbMcb"
   },
   "source": [
    "One Hot Encoding the \"Geography\" column"
   ]
  },
  {
   "cell_type": "code",
   "execution_count": 8,
   "metadata": {
    "colab": {},
    "colab_type": "code",
    "id": "AMXC8-KMVirw",
    "ExecuteTime": {
     "end_time": "2023-11-01T08:24:10.296314Z",
     "start_time": "2023-11-01T08:24:10.288176Z"
    }
   },
   "outputs": [],
   "source": [
    "from sklearn.compose import ColumnTransformer\n",
    "from sklearn.preprocessing import OneHotEncoder\n",
    "ct = ColumnTransformer(transformers=[('encoder', OneHotEncoder(), [1])], remainder='passthrough')\n",
    "X = np.array(ct.fit_transform(X))"
   ]
  },
  {
   "cell_type": "code",
   "execution_count": 9,
   "metadata": {
    "colab": {
     "base_uri": "https://localhost:8080/",
     "height": 137
    },
    "colab_type": "code",
    "executionInfo": {
     "elapsed": 2713,
     "status": "ok",
     "timestamp": 1590257450296,
     "user": {
      "displayName": "Hadelin de Ponteves",
      "photoUrl": "https://lh3.googleusercontent.com/a-/AOh14GhEuXdT7eQweUmRPW8_laJuPggSK6hfvpl5a6WBaA=s64",
      "userId": "15047218817161520419"
     },
     "user_tz": -240
    },
    "id": "ZcxwEon-b8nV",
    "outputId": "23a98af4-5e33-4b26-c27b-f06e3c5d2baf",
    "ExecuteTime": {
     "end_time": "2023-11-01T08:24:10.333705Z",
     "start_time": "2023-11-01T08:24:10.297642Z"
    }
   },
   "outputs": [
    {
     "name": "stdout",
     "output_type": "stream",
     "text": [
      "[[1.0 0.0 0.0 ... 1 1 101348.88]\n",
      " [0.0 0.0 1.0 ... 0 1 112542.58]\n",
      " [1.0 0.0 0.0 ... 1 0 113931.57]\n",
      " ...\n",
      " [1.0 0.0 0.0 ... 0 1 42085.58]\n",
      " [0.0 1.0 0.0 ... 1 0 92888.52]\n",
      " [1.0 0.0 0.0 ... 1 0 38190.78]]\n"
     ]
    }
   ],
   "source": [
    "print(X)"
   ]
  },
  {
   "cell_type": "markdown",
   "metadata": {
    "colab_type": "text",
    "id": "vHol938cW8zd"
   },
   "source": [
    "### Splitting the dataset into the Training set and Test set"
   ]
  },
  {
   "cell_type": "code",
   "execution_count": 10,
   "metadata": {
    "colab": {},
    "colab_type": "code",
    "id": "Z-TDt0Y_XEfc",
    "ExecuteTime": {
     "end_time": "2023-11-01T08:24:10.408436Z",
     "start_time": "2023-11-01T08:24:10.300600Z"
    }
   },
   "outputs": [],
   "source": [
    "from sklearn.model_selection import train_test_split\n",
    "X_train, X_test, y_train, y_test = train_test_split(X, y, test_size = 0.2, random_state = 0)"
   ]
  },
  {
   "cell_type": "markdown",
   "metadata": {
    "colab_type": "text",
    "id": "RE_FcHyfV3TQ"
   },
   "source": [
    "### Feature Scaling"
   ]
  },
  {
   "cell_type": "code",
   "execution_count": 11,
   "metadata": {
    "colab": {},
    "colab_type": "code",
    "id": "ViCrE00rV8Sk",
    "ExecuteTime": {
     "end_time": "2023-11-01T08:24:10.417793Z",
     "start_time": "2023-11-01T08:24:10.412080Z"
    }
   },
   "outputs": [],
   "source": [
    "from sklearn.preprocessing import StandardScaler\n",
    "sc = StandardScaler()\n",
    "X_train = sc.fit_transform(X_train)\n",
    "X_test = sc.transform(X_test)"
   ]
  },
  {
   "cell_type": "markdown",
   "metadata": {
    "colab_type": "text",
    "id": "-zfEzkRVXIwF"
   },
   "source": [
    "## Part 2 - Building the ANN"
   ]
  },
  {
   "cell_type": "markdown",
   "metadata": {
    "colab_type": "text",
    "id": "KvdeScabXtlB"
   },
   "source": [
    "### Initializing the ANN"
   ]
  },
  {
   "cell_type": "code",
   "execution_count": 12,
   "metadata": {
    "colab": {},
    "colab_type": "code",
    "id": "3dtrScHxXQox",
    "ExecuteTime": {
     "end_time": "2023-11-01T08:24:10.437926Z",
     "start_time": "2023-11-01T08:24:10.420472Z"
    }
   },
   "outputs": [],
   "source": [
    "ann = tf.keras.models.Sequential()"
   ]
  },
  {
   "cell_type": "markdown",
   "metadata": {
    "colab_type": "text",
    "id": "rP6urV6SX7kS"
   },
   "source": [
    "### Adding the input layer and the first hidden layer"
   ]
  },
  {
   "cell_type": "code",
   "execution_count": 13,
   "metadata": {
    "colab": {},
    "colab_type": "code",
    "id": "bppGycBXYCQr",
    "ExecuteTime": {
     "end_time": "2023-11-01T08:24:10.444699Z",
     "start_time": "2023-11-01T08:24:10.441541Z"
    }
   },
   "outputs": [],
   "source": [
    "ann.add(tf.keras.layers.Dense(units=6, activation='relu'))"
   ]
  },
  {
   "cell_type": "markdown",
   "metadata": {
    "colab_type": "text",
    "id": "BELWAc_8YJze"
   },
   "source": [
    "### Adding the second hidden layer"
   ]
  },
  {
   "cell_type": "code",
   "execution_count": 14,
   "metadata": {
    "colab": {},
    "colab_type": "code",
    "id": "JneR0u0sYRTd",
    "ExecuteTime": {
     "end_time": "2023-11-01T08:24:10.449230Z",
     "start_time": "2023-11-01T08:24:10.446351Z"
    }
   },
   "outputs": [],
   "source": [
    "ann.add(tf.keras.layers.Dense(units=6, activation='relu'))"
   ]
  },
  {
   "cell_type": "markdown",
   "metadata": {
    "colab_type": "text",
    "id": "OyNEe6RXYcU4"
   },
   "source": [
    "### Adding the output layer"
   ]
  },
  {
   "cell_type": "code",
   "execution_count": 15,
   "metadata": {
    "colab": {},
    "colab_type": "code",
    "id": "Cn3x41RBYfvY",
    "ExecuteTime": {
     "end_time": "2023-11-01T08:24:10.453423Z",
     "start_time": "2023-11-01T08:24:10.451068Z"
    }
   },
   "outputs": [],
   "source": [
    "ann.add(tf.keras.layers.Dense(units=1, activation='sigmoid'))"
   ]
  },
  {
   "cell_type": "markdown",
   "metadata": {
    "colab_type": "text",
    "id": "JT4u2S1_Y4WG"
   },
   "source": [
    "## Part 3 - Training the ANN"
   ]
  },
  {
   "cell_type": "markdown",
   "metadata": {
    "colab_type": "text",
    "id": "8GWlJChhY_ZI"
   },
   "source": [
    "### Compiling the ANN"
   ]
  },
  {
   "cell_type": "code",
   "execution_count": 16,
   "metadata": {
    "colab": {},
    "colab_type": "code",
    "id": "fG3RrwDXZEaS",
    "ExecuteTime": {
     "end_time": "2023-11-01T08:24:10.460728Z",
     "start_time": "2023-11-01T08:24:10.456750Z"
    }
   },
   "outputs": [],
   "source": [
    "ann.compile(optimizer = 'adam', loss = 'binary_crossentropy', metrics = ['accuracy'])"
   ]
  },
  {
   "cell_type": "markdown",
   "metadata": {
    "colab_type": "text",
    "id": "0QR_G5u7ZLSM"
   },
   "source": [
    "### Training the ANN on the Training set"
   ]
  },
  {
   "cell_type": "code",
   "execution_count": 17,
   "metadata": {
    "colab": {
     "base_uri": "https://localhost:8080/",
     "height": 1000
    },
    "colab_type": "code",
    "executionInfo": {
     "elapsed": 33685,
     "status": "ok",
     "timestamp": 1590257481284,
     "user": {
      "displayName": "Hadelin de Ponteves",
      "photoUrl": "https://lh3.googleusercontent.com/a-/AOh14GhEuXdT7eQweUmRPW8_laJuPggSK6hfvpl5a6WBaA=s64",
      "userId": "15047218817161520419"
     },
     "user_tz": -240
    },
    "id": "nHZ-LKv_ZRb3",
    "outputId": "718cc4b0-b5aa-40f0-9b20-d3d31730a531",
    "ExecuteTime": {
     "end_time": "2023-11-01T08:24:18.989346Z",
     "start_time": "2023-11-01T08:24:10.462187Z"
    }
   },
   "outputs": [
    {
     "name": "stdout",
     "output_type": "stream",
     "text": [
      "Epoch 1/100\n",
      "250/250 [==============================] - 0s 350us/step - loss: 0.5727 - accuracy: 0.7724\n",
      "Epoch 2/100\n",
      "250/250 [==============================] - 0s 329us/step - loss: 0.4593 - accuracy: 0.7960\n",
      "Epoch 3/100\n",
      "250/250 [==============================] - 0s 322us/step - loss: 0.4440 - accuracy: 0.7960\n",
      "Epoch 4/100\n",
      "250/250 [==============================] - 0s 328us/step - loss: 0.4380 - accuracy: 0.7960\n",
      "Epoch 5/100\n",
      "250/250 [==============================] - 0s 323us/step - loss: 0.4348 - accuracy: 0.7960\n",
      "Epoch 6/100\n",
      "250/250 [==============================] - 0s 329us/step - loss: 0.4324 - accuracy: 0.7960\n",
      "Epoch 7/100\n",
      "250/250 [==============================] - 0s 320us/step - loss: 0.4307 - accuracy: 0.7960\n",
      "Epoch 8/100\n",
      "250/250 [==============================] - 0s 318us/step - loss: 0.4283 - accuracy: 0.8070\n",
      "Epoch 9/100\n",
      "250/250 [==============================] - 0s 330us/step - loss: 0.4251 - accuracy: 0.8160\n",
      "Epoch 10/100\n",
      "250/250 [==============================] - 0s 317us/step - loss: 0.4218 - accuracy: 0.8170\n",
      "Epoch 11/100\n",
      "250/250 [==============================] - 0s 318us/step - loss: 0.4192 - accuracy: 0.8213\n",
      "Epoch 12/100\n",
      "250/250 [==============================] - 0s 318us/step - loss: 0.4167 - accuracy: 0.8227\n",
      "Epoch 13/100\n",
      "250/250 [==============================] - 0s 342us/step - loss: 0.4147 - accuracy: 0.8244\n",
      "Epoch 14/100\n",
      "250/250 [==============================] - 0s 336us/step - loss: 0.4129 - accuracy: 0.8260\n",
      "Epoch 15/100\n",
      "250/250 [==============================] - 0s 324us/step - loss: 0.4112 - accuracy: 0.8278\n",
      "Epoch 16/100\n",
      "250/250 [==============================] - 0s 319us/step - loss: 0.4098 - accuracy: 0.8296\n",
      "Epoch 17/100\n",
      "250/250 [==============================] - 0s 361us/step - loss: 0.4083 - accuracy: 0.8306\n",
      "Epoch 18/100\n",
      "250/250 [==============================] - 0s 320us/step - loss: 0.4069 - accuracy: 0.8313\n",
      "Epoch 19/100\n",
      "250/250 [==============================] - 0s 367us/step - loss: 0.4054 - accuracy: 0.8328\n",
      "Epoch 20/100\n",
      "250/250 [==============================] - 0s 334us/step - loss: 0.4045 - accuracy: 0.8344\n",
      "Epoch 21/100\n",
      "250/250 [==============================] - 0s 316us/step - loss: 0.4034 - accuracy: 0.8351\n",
      "Epoch 22/100\n",
      "250/250 [==============================] - 0s 317us/step - loss: 0.4025 - accuracy: 0.8347\n",
      "Epoch 23/100\n",
      "250/250 [==============================] - 0s 333us/step - loss: 0.4016 - accuracy: 0.8354\n",
      "Epoch 24/100\n",
      "250/250 [==============================] - 0s 320us/step - loss: 0.4010 - accuracy: 0.8361\n",
      "Epoch 25/100\n",
      "250/250 [==============================] - 0s 322us/step - loss: 0.4007 - accuracy: 0.8375\n",
      "Epoch 26/100\n",
      "250/250 [==============================] - 0s 314us/step - loss: 0.3998 - accuracy: 0.8364\n",
      "Epoch 27/100\n",
      "250/250 [==============================] - 0s 314us/step - loss: 0.3995 - accuracy: 0.8374\n",
      "Epoch 28/100\n",
      "250/250 [==============================] - 0s 329us/step - loss: 0.3990 - accuracy: 0.8390\n",
      "Epoch 29/100\n",
      "250/250 [==============================] - 0s 318us/step - loss: 0.3983 - accuracy: 0.8391\n",
      "Epoch 30/100\n",
      "250/250 [==============================] - 0s 336us/step - loss: 0.3980 - accuracy: 0.8376\n",
      "Epoch 31/100\n",
      "250/250 [==============================] - 0s 368us/step - loss: 0.3975 - accuracy: 0.8389\n",
      "Epoch 32/100\n",
      "250/250 [==============================] - 0s 349us/step - loss: 0.3974 - accuracy: 0.8380\n",
      "Epoch 33/100\n",
      "250/250 [==============================] - 0s 337us/step - loss: 0.3969 - accuracy: 0.8388\n",
      "Epoch 34/100\n",
      "250/250 [==============================] - 0s 331us/step - loss: 0.3966 - accuracy: 0.8370\n",
      "Epoch 35/100\n",
      "250/250 [==============================] - 0s 326us/step - loss: 0.3964 - accuracy: 0.8386\n",
      "Epoch 36/100\n",
      "250/250 [==============================] - 0s 322us/step - loss: 0.3962 - accuracy: 0.8372\n",
      "Epoch 37/100\n",
      "250/250 [==============================] - 0s 323us/step - loss: 0.3957 - accuracy: 0.8384\n",
      "Epoch 38/100\n",
      "250/250 [==============================] - 0s 312us/step - loss: 0.3957 - accuracy: 0.8389\n",
      "Epoch 39/100\n",
      "250/250 [==============================] - 0s 312us/step - loss: 0.3954 - accuracy: 0.8376\n",
      "Epoch 40/100\n",
      "250/250 [==============================] - 0s 314us/step - loss: 0.3951 - accuracy: 0.8386\n",
      "Epoch 41/100\n",
      "250/250 [==============================] - 0s 318us/step - loss: 0.3947 - accuracy: 0.8376\n",
      "Epoch 42/100\n",
      "250/250 [==============================] - 0s 330us/step - loss: 0.3949 - accuracy: 0.8378\n",
      "Epoch 43/100\n",
      "250/250 [==============================] - 0s 337us/step - loss: 0.3942 - accuracy: 0.8374\n",
      "Epoch 44/100\n",
      "250/250 [==============================] - 0s 322us/step - loss: 0.3940 - accuracy: 0.8382\n",
      "Epoch 45/100\n",
      "250/250 [==============================] - 0s 321us/step - loss: 0.3939 - accuracy: 0.8386\n",
      "Epoch 46/100\n",
      "250/250 [==============================] - 0s 323us/step - loss: 0.3937 - accuracy: 0.8395\n",
      "Epoch 47/100\n",
      "250/250 [==============================] - 0s 321us/step - loss: 0.3932 - accuracy: 0.8389\n",
      "Epoch 48/100\n",
      "250/250 [==============================] - 0s 314us/step - loss: 0.3932 - accuracy: 0.8389\n",
      "Epoch 49/100\n",
      "250/250 [==============================] - 0s 335us/step - loss: 0.3930 - accuracy: 0.8385\n",
      "Epoch 50/100\n",
      "250/250 [==============================] - 0s 322us/step - loss: 0.3926 - accuracy: 0.8390\n",
      "Epoch 51/100\n",
      "250/250 [==============================] - 0s 326us/step - loss: 0.3923 - accuracy: 0.8388\n",
      "Epoch 52/100\n",
      "250/250 [==============================] - 0s 399us/step - loss: 0.3920 - accuracy: 0.8382\n",
      "Epoch 53/100\n",
      "250/250 [==============================] - 0s 343us/step - loss: 0.3921 - accuracy: 0.8395\n",
      "Epoch 54/100\n",
      "250/250 [==============================] - 0s 319us/step - loss: 0.3914 - accuracy: 0.8385\n",
      "Epoch 55/100\n",
      "250/250 [==============================] - 0s 334us/step - loss: 0.3915 - accuracy: 0.8382\n",
      "Epoch 56/100\n",
      "250/250 [==============================] - 0s 329us/step - loss: 0.3912 - accuracy: 0.8405\n",
      "Epoch 57/100\n",
      "250/250 [==============================] - 0s 321us/step - loss: 0.3907 - accuracy: 0.8390\n",
      "Epoch 58/100\n",
      "250/250 [==============================] - 0s 320us/step - loss: 0.3907 - accuracy: 0.8393\n",
      "Epoch 59/100\n",
      "250/250 [==============================] - 0s 332us/step - loss: 0.3899 - accuracy: 0.8393\n",
      "Epoch 60/100\n",
      "250/250 [==============================] - 0s 331us/step - loss: 0.3901 - accuracy: 0.8381\n",
      "Epoch 61/100\n",
      "250/250 [==============================] - 0s 403us/step - loss: 0.3899 - accuracy: 0.8389\n",
      "Epoch 62/100\n",
      "250/250 [==============================] - 0s 343us/step - loss: 0.3896 - accuracy: 0.8386\n",
      "Epoch 63/100\n",
      "250/250 [==============================] - 0s 321us/step - loss: 0.3892 - accuracy: 0.8395\n",
      "Epoch 64/100\n",
      "250/250 [==============================] - 0s 333us/step - loss: 0.3888 - accuracy: 0.8379\n",
      "Epoch 65/100\n",
      "250/250 [==============================] - 0s 323us/step - loss: 0.3887 - accuracy: 0.8399\n",
      "Epoch 66/100\n",
      "250/250 [==============================] - 0s 322us/step - loss: 0.3882 - accuracy: 0.8403\n",
      "Epoch 67/100\n",
      "250/250 [==============================] - 0s 361us/step - loss: 0.3881 - accuracy: 0.8411\n",
      "Epoch 68/100\n",
      "250/250 [==============================] - 0s 379us/step - loss: 0.3875 - accuracy: 0.8418\n",
      "Epoch 69/100\n",
      "250/250 [==============================] - 0s 324us/step - loss: 0.3873 - accuracy: 0.8418\n",
      "Epoch 70/100\n",
      "250/250 [==============================] - 0s 317us/step - loss: 0.3869 - accuracy: 0.8422\n",
      "Epoch 71/100\n",
      "250/250 [==============================] - 0s 318us/step - loss: 0.3864 - accuracy: 0.8430\n",
      "Epoch 72/100\n",
      "250/250 [==============================] - 0s 326us/step - loss: 0.3861 - accuracy: 0.8422\n",
      "Epoch 73/100\n",
      "250/250 [==============================] - 0s 310us/step - loss: 0.3859 - accuracy: 0.8431\n",
      "Epoch 74/100\n",
      "250/250 [==============================] - 0s 404us/step - loss: 0.3857 - accuracy: 0.8426\n",
      "Epoch 75/100\n",
      "250/250 [==============================] - 0s 361us/step - loss: 0.3850 - accuracy: 0.8451\n",
      "Epoch 76/100\n",
      "250/250 [==============================] - 0s 322us/step - loss: 0.3844 - accuracy: 0.8453\n",
      "Epoch 77/100\n",
      "250/250 [==============================] - 0s 322us/step - loss: 0.3844 - accuracy: 0.8420\n",
      "Epoch 78/100\n",
      "250/250 [==============================] - 0s 351us/step - loss: 0.3837 - accuracy: 0.8450\n",
      "Epoch 79/100\n",
      "250/250 [==============================] - 0s 339us/step - loss: 0.3830 - accuracy: 0.8431\n",
      "Epoch 80/100\n",
      "250/250 [==============================] - 0s 345us/step - loss: 0.3826 - accuracy: 0.8432\n",
      "Epoch 81/100\n",
      "250/250 [==============================] - 0s 320us/step - loss: 0.3821 - accuracy: 0.8438\n",
      "Epoch 82/100\n",
      "250/250 [==============================] - 0s 317us/step - loss: 0.3816 - accuracy: 0.8444\n",
      "Epoch 83/100\n",
      "250/250 [==============================] - 0s 316us/step - loss: 0.3815 - accuracy: 0.8451\n",
      "Epoch 84/100\n",
      "250/250 [==============================] - 0s 316us/step - loss: 0.3805 - accuracy: 0.8456\n",
      "Epoch 85/100\n",
      "250/250 [==============================] - 0s 315us/step - loss: 0.3797 - accuracy: 0.8438\n",
      "Epoch 86/100\n",
      "250/250 [==============================] - 0s 310us/step - loss: 0.3786 - accuracy: 0.8454\n",
      "Epoch 87/100\n",
      "250/250 [==============================] - 0s 316us/step - loss: 0.3776 - accuracy: 0.8481\n",
      "Epoch 88/100\n",
      "250/250 [==============================] - 0s 310us/step - loss: 0.3760 - accuracy: 0.8464\n",
      "Epoch 89/100\n",
      "250/250 [==============================] - 0s 312us/step - loss: 0.3751 - accuracy: 0.8481\n",
      "Epoch 90/100\n",
      "250/250 [==============================] - 0s 312us/step - loss: 0.3741 - accuracy: 0.8494\n",
      "Epoch 91/100\n",
      "250/250 [==============================] - 0s 312us/step - loss: 0.3729 - accuracy: 0.8486\n",
      "Epoch 92/100\n",
      "250/250 [==============================] - 0s 314us/step - loss: 0.3721 - accuracy: 0.8491\n",
      "Epoch 93/100\n",
      "250/250 [==============================] - 0s 312us/step - loss: 0.3707 - accuracy: 0.8501\n",
      "Epoch 94/100\n",
      "250/250 [==============================] - 0s 313us/step - loss: 0.3696 - accuracy: 0.8481\n",
      "Epoch 95/100\n",
      "250/250 [==============================] - 0s 312us/step - loss: 0.3681 - accuracy: 0.8501\n",
      "Epoch 96/100\n",
      "250/250 [==============================] - 0s 318us/step - loss: 0.3673 - accuracy: 0.8481\n",
      "Epoch 97/100\n",
      "250/250 [==============================] - 0s 316us/step - loss: 0.3660 - accuracy: 0.8509\n",
      "Epoch 98/100\n",
      "250/250 [==============================] - 0s 320us/step - loss: 0.3646 - accuracy: 0.8499\n",
      "Epoch 99/100\n",
      "250/250 [==============================] - 0s 313us/step - loss: 0.3637 - accuracy: 0.8501\n",
      "Epoch 100/100\n",
      "250/250 [==============================] - 0s 313us/step - loss: 0.3626 - accuracy: 0.8511\n"
     ]
    },
    {
     "data": {
      "text/plain": "<keras.src.callbacks.History at 0x16680dee0>"
     },
     "execution_count": 17,
     "metadata": {},
     "output_type": "execute_result"
    }
   ],
   "source": [
    "ann.fit(X_train, y_train, batch_size = 32, epochs = 100)"
   ]
  },
  {
   "cell_type": "markdown",
   "metadata": {
    "colab_type": "text",
    "id": "tJj5k2MxZga3"
   },
   "source": [
    "## Part 4 - Making the predictions and evaluating the model"
   ]
  },
  {
   "cell_type": "markdown",
   "metadata": {
    "colab_type": "text",
    "id": "84QFoqGYeXHL"
   },
   "source": [
    "### Predicting the result of a single observation"
   ]
  },
  {
   "cell_type": "markdown",
   "metadata": {
    "colab_type": "text",
    "id": "CGRo3eacgDdC"
   },
   "source": [
    "**Homework**\n",
    "\n",
    "Use our ANN model to predict if the customer with the following informations will leave the bank: \n",
    "\n",
    "Geography: France\n",
    "\n",
    "Credit Score: 600\n",
    "\n",
    "Gender: Male\n",
    "\n",
    "Age: 40 years old\n",
    "\n",
    "Tenure: 3 years\n",
    "\n",
    "Balance: \\$ 60000\n",
    "\n",
    "Number of Products: 2\n",
    "\n",
    "Does this customer have a credit card? Yes\n",
    "\n",
    "Is this customer an Active Member: Yes\n",
    "\n",
    "Estimated Salary: \\$ 50000\n",
    "\n",
    "So, should we say goodbye to that customer?"
   ]
  },
  {
   "cell_type": "markdown",
   "metadata": {
    "colab_type": "text",
    "id": "ZhU1LTgPg-kH"
   },
   "source": [
    "**Solution**"
   ]
  },
  {
   "cell_type": "code",
   "execution_count": 18,
   "metadata": {
    "colab": {
     "base_uri": "https://localhost:8080/",
     "height": 34
    },
    "colab_type": "code",
    "executionInfo": {
     "elapsed": 33990,
     "status": "ok",
     "timestamp": 1590257481594,
     "user": {
      "displayName": "Hadelin de Ponteves",
      "photoUrl": "https://lh3.googleusercontent.com/a-/AOh14GhEuXdT7eQweUmRPW8_laJuPggSK6hfvpl5a6WBaA=s64",
      "userId": "15047218817161520419"
     },
     "user_tz": -240
    },
    "id": "2d8IoCCkeWGL",
    "outputId": "957f3970-e197-4c3b-a150-7f69dc567f5d",
    "ExecuteTime": {
     "end_time": "2023-11-01T08:24:19.046162Z",
     "start_time": "2023-11-01T08:24:18.992672Z"
    }
   },
   "outputs": [
    {
     "name": "stdout",
     "output_type": "stream",
     "text": [
      "1/1 [==============================] - 0s 36ms/step\n",
      "[[False]]\n"
     ]
    }
   ],
   "source": [
    "print(ann.predict(sc.transform([[1, 0, 0, 600, 1, 40, 3, 60000, 2, 1, 1, 50000]]))>0.5)"
   ]
  },
  {
   "cell_type": "markdown",
   "metadata": {
    "colab_type": "text",
    "id": "wGjx94g2n7OV"
   },
   "source": [
    "Therefore, our ANN model predicts that this customer stays in the bank!\n",
    "\n",
    "**Important note 1:** Notice that the values of the features were all input in a double pair of square brackets. That's because the \"predict\" method always expects a 2D array as the format of its inputs. And putting our values into a double pair of square brackets makes the input exactly a 2D array.\n",
    "\n",
    "**Important note 2:** Notice also that the \"France\" country was not input as a string in the last column but as \"1, 0, 0\" in the first three columns. That's because of course the predict method expects the one-hot-encoded values of the state, and as we see in the first row of the matrix of features X, \"France\" was encoded as \"1, 0, 0\". And be careful to include these values in the first three columns, because the dummy variables are always created in the first columns."
   ]
  },
  {
   "cell_type": "markdown",
   "metadata": {
    "colab_type": "text",
    "id": "u7yx47jPZt11"
   },
   "source": [
    "### Predicting the Test set results"
   ]
  },
  {
   "cell_type": "code",
   "execution_count": 19,
   "metadata": {
    "colab": {
     "base_uri": "https://localhost:8080/",
     "height": 137
    },
    "colab_type": "code",
    "executionInfo": {
     "elapsed": 33987,
     "status": "ok",
     "timestamp": 1590257481595,
     "user": {
      "displayName": "Hadelin de Ponteves",
      "photoUrl": "https://lh3.googleusercontent.com/a-/AOh14GhEuXdT7eQweUmRPW8_laJuPggSK6hfvpl5a6WBaA=s64",
      "userId": "15047218817161520419"
     },
     "user_tz": -240
    },
    "id": "nIyEeQdRZwgs",
    "outputId": "82330ba8-9bdc-4fd1-d3cf-b6d78ee7c2a3",
    "ExecuteTime": {
     "end_time": "2023-11-01T08:24:19.097973Z",
     "start_time": "2023-11-01T08:24:19.044311Z"
    }
   },
   "outputs": [
    {
     "name": "stdout",
     "output_type": "stream",
     "text": [
      "63/63 [==============================] - 0s 284us/step\n",
      "[[0 0]\n",
      " [0 1]\n",
      " [0 0]\n",
      " ...\n",
      " [0 0]\n",
      " [0 0]\n",
      " [0 0]]\n"
     ]
    }
   ],
   "source": [
    "y_pred = ann.predict(X_test)\n",
    "y_pred = (y_pred > 0.5)\n",
    "print(np.concatenate((y_pred.reshape(len(y_pred),1), y_test.reshape(len(y_test),1)),1))"
   ]
  },
  {
   "cell_type": "markdown",
   "metadata": {
    "colab_type": "text",
    "id": "o0oyfLWoaEGw"
   },
   "source": [
    "### Making the Confusion Matrix"
   ]
  },
  {
   "cell_type": "code",
   "execution_count": 20,
   "metadata": {
    "colab": {
     "base_uri": "https://localhost:8080/",
     "height": 68
    },
    "colab_type": "code",
    "executionInfo": {
     "elapsed": 33981,
     "status": "ok",
     "timestamp": 1590257481595,
     "user": {
      "displayName": "Hadelin de Ponteves",
      "photoUrl": "https://lh3.googleusercontent.com/a-/AOh14GhEuXdT7eQweUmRPW8_laJuPggSK6hfvpl5a6WBaA=s64",
      "userId": "15047218817161520419"
     },
     "user_tz": -240
    },
    "id": "ci6K_r6LaF6P",
    "outputId": "4d854e9e-22d5-432f-f6e5-a102fe3ae0bd",
    "ExecuteTime": {
     "end_time": "2023-11-01T08:24:19.105978Z",
     "start_time": "2023-11-01T08:24:19.098261Z"
    }
   },
   "outputs": [
    {
     "name": "stdout",
     "output_type": "stream",
     "text": [
      "[[1518   77]\n",
      " [ 222  183]]\n"
     ]
    },
    {
     "data": {
      "text/plain": "0.8505"
     },
     "execution_count": 20,
     "metadata": {},
     "output_type": "execute_result"
    }
   ],
   "source": [
    "from sklearn.metrics import confusion_matrix, accuracy_score\n",
    "cm = confusion_matrix(y_test, y_pred)\n",
    "print(cm)\n",
    "accuracy_score(y_test, y_pred)"
   ]
  }
 ],
 "metadata": {
  "colab": {
   "authorship_tag": "ABX9TyMeRFWFoGrdaL5S3dx5MWmb",
   "collapsed_sections": [],
   "name": "artificial_neural_network.ipynb",
   "provenance": [],
   "toc_visible": true
  },
  "kernelspec": {
   "display_name": "Python 3 (ipykernel)",
   "language": "python",
   "name": "python3"
  },
  "language_info": {
   "codemirror_mode": {
    "name": "ipython",
    "version": 3
   },
   "file_extension": ".py",
   "mimetype": "text/x-python",
   "name": "python",
   "nbconvert_exporter": "python",
   "pygments_lexer": "ipython3",
   "version": "3.11.3"
  }
 },
 "nbformat": 4,
 "nbformat_minor": 1
}
