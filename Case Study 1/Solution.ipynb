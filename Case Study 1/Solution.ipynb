{
 "cells": [
  {
   "cell_type": "code",
   "execution_count": 35,
   "id": "initial_id",
   "metadata": {
    "collapsed": true,
    "ExecuteTime": {
     "end_time": "2023-10-17T13:03:13.018135Z",
     "start_time": "2023-10-17T13:03:12.997668Z"
    }
   },
   "outputs": [
    {
     "ename": "ModuleNotFoundError",
     "evalue": "No module named 'date'",
     "output_type": "error",
     "traceback": [
      "\u001B[0;31m---------------------------------------------------------------------------\u001B[0m",
      "\u001B[0;31mModuleNotFoundError\u001B[0m                       Traceback (most recent call last)",
      "Cell \u001B[0;32mIn[35], line 5\u001B[0m\n\u001B[1;32m      3\u001B[0m \u001B[38;5;28;01mimport\u001B[39;00m \u001B[38;5;21;01mmatplotlib\u001B[39;00m \u001B[38;5;28;01mas\u001B[39;00m \u001B[38;5;21;01mplt\u001B[39;00m\n\u001B[1;32m      4\u001B[0m \u001B[38;5;28;01mimport\u001B[39;00m \u001B[38;5;21;01mseaborn\u001B[39;00m \u001B[38;5;28;01mas\u001B[39;00m \u001B[38;5;21;01msns\u001B[39;00m\n\u001B[0;32m----> 5\u001B[0m \u001B[38;5;28;01mimport\u001B[39;00m \u001B[38;5;21;01mdate\u001B[39;00m\n",
      "\u001B[0;31mModuleNotFoundError\u001B[0m: No module named 'date'"
     ]
    }
   ],
   "source": [
    "import numpy as np\n",
    "import pandas as pd\n",
    "import matplotlib as plt\n",
    "import seaborn as sns\n",
    "import datetime as dt"
   ]
  },
  {
   "cell_type": "code",
   "execution_count": 22,
   "outputs": [],
   "source": [
    "daily_activity = pd.read_csv('data/dailyActivity_merged.csv')"
   ],
   "metadata": {
    "collapsed": false,
    "ExecuteTime": {
     "end_time": "2023-10-17T12:48:31.418763Z",
     "start_time": "2023-10-17T12:48:31.412218Z"
    }
   },
   "id": "4811a4a70b14d432"
  },
  {
   "cell_type": "code",
   "execution_count": 23,
   "outputs": [
    {
     "data": {
      "text/plain": "           Id ActivityDate  TotalSteps  TotalDistance  TrackerDistance  \\\n0  1503960366    4/12/2016       13162           8.50             8.50   \n1  1503960366    4/13/2016       10735           6.97             6.97   \n2  1503960366    4/14/2016       10460           6.74             6.74   \n3  1503960366    4/15/2016        9762           6.28             6.28   \n4  1503960366    4/16/2016       12669           8.16             8.16   \n\n   LoggedActivitiesDistance  VeryActiveDistance  ModeratelyActiveDistance  \\\n0                       0.0                1.88                      0.55   \n1                       0.0                1.57                      0.69   \n2                       0.0                2.44                      0.40   \n3                       0.0                2.14                      1.26   \n4                       0.0                2.71                      0.41   \n\n   LightActiveDistance  SedentaryActiveDistance  VeryActiveMinutes  \\\n0                 6.06                      0.0                 25   \n1                 4.71                      0.0                 21   \n2                 3.91                      0.0                 30   \n3                 2.83                      0.0                 29   \n4                 5.04                      0.0                 36   \n\n   FairlyActiveMinutes  LightlyActiveMinutes  SedentaryMinutes  Calories  \n0                   13                   328               728      1985  \n1                   19                   217               776      1797  \n2                   11                   181              1218      1776  \n3                   34                   209               726      1745  \n4                   10                   221               773      1863  ",
      "text/html": "<div>\n<style scoped>\n    .dataframe tbody tr th:only-of-type {\n        vertical-align: middle;\n    }\n\n    .dataframe tbody tr th {\n        vertical-align: top;\n    }\n\n    .dataframe thead th {\n        text-align: right;\n    }\n</style>\n<table border=\"1\" class=\"dataframe\">\n  <thead>\n    <tr style=\"text-align: right;\">\n      <th></th>\n      <th>Id</th>\n      <th>ActivityDate</th>\n      <th>TotalSteps</th>\n      <th>TotalDistance</th>\n      <th>TrackerDistance</th>\n      <th>LoggedActivitiesDistance</th>\n      <th>VeryActiveDistance</th>\n      <th>ModeratelyActiveDistance</th>\n      <th>LightActiveDistance</th>\n      <th>SedentaryActiveDistance</th>\n      <th>VeryActiveMinutes</th>\n      <th>FairlyActiveMinutes</th>\n      <th>LightlyActiveMinutes</th>\n      <th>SedentaryMinutes</th>\n      <th>Calories</th>\n    </tr>\n  </thead>\n  <tbody>\n    <tr>\n      <th>0</th>\n      <td>1503960366</td>\n      <td>4/12/2016</td>\n      <td>13162</td>\n      <td>8.50</td>\n      <td>8.50</td>\n      <td>0.0</td>\n      <td>1.88</td>\n      <td>0.55</td>\n      <td>6.06</td>\n      <td>0.0</td>\n      <td>25</td>\n      <td>13</td>\n      <td>328</td>\n      <td>728</td>\n      <td>1985</td>\n    </tr>\n    <tr>\n      <th>1</th>\n      <td>1503960366</td>\n      <td>4/13/2016</td>\n      <td>10735</td>\n      <td>6.97</td>\n      <td>6.97</td>\n      <td>0.0</td>\n      <td>1.57</td>\n      <td>0.69</td>\n      <td>4.71</td>\n      <td>0.0</td>\n      <td>21</td>\n      <td>19</td>\n      <td>217</td>\n      <td>776</td>\n      <td>1797</td>\n    </tr>\n    <tr>\n      <th>2</th>\n      <td>1503960366</td>\n      <td>4/14/2016</td>\n      <td>10460</td>\n      <td>6.74</td>\n      <td>6.74</td>\n      <td>0.0</td>\n      <td>2.44</td>\n      <td>0.40</td>\n      <td>3.91</td>\n      <td>0.0</td>\n      <td>30</td>\n      <td>11</td>\n      <td>181</td>\n      <td>1218</td>\n      <td>1776</td>\n    </tr>\n    <tr>\n      <th>3</th>\n      <td>1503960366</td>\n      <td>4/15/2016</td>\n      <td>9762</td>\n      <td>6.28</td>\n      <td>6.28</td>\n      <td>0.0</td>\n      <td>2.14</td>\n      <td>1.26</td>\n      <td>2.83</td>\n      <td>0.0</td>\n      <td>29</td>\n      <td>34</td>\n      <td>209</td>\n      <td>726</td>\n      <td>1745</td>\n    </tr>\n    <tr>\n      <th>4</th>\n      <td>1503960366</td>\n      <td>4/16/2016</td>\n      <td>12669</td>\n      <td>8.16</td>\n      <td>8.16</td>\n      <td>0.0</td>\n      <td>2.71</td>\n      <td>0.41</td>\n      <td>5.04</td>\n      <td>0.0</td>\n      <td>36</td>\n      <td>10</td>\n      <td>221</td>\n      <td>773</td>\n      <td>1863</td>\n    </tr>\n  </tbody>\n</table>\n</div>"
     },
     "execution_count": 23,
     "metadata": {},
     "output_type": "execute_result"
    }
   ],
   "source": [
    "daily_activity.head()"
   ],
   "metadata": {
    "collapsed": false,
    "ExecuteTime": {
     "end_time": "2023-10-17T12:48:31.431712Z",
     "start_time": "2023-10-17T12:48:31.426103Z"
    }
   },
   "id": "8ae7c8741df5f552"
  },
  {
   "cell_type": "code",
   "execution_count": 24,
   "outputs": [
    {
     "data": {
      "text/plain": "Id                          0\nActivityDate                0\nTotalSteps                  0\nTotalDistance               0\nTrackerDistance             0\nLoggedActivitiesDistance    0\nVeryActiveDistance          0\nModeratelyActiveDistance    0\nLightActiveDistance         0\nSedentaryActiveDistance     0\nVeryActiveMinutes           0\nFairlyActiveMinutes         0\nLightlyActiveMinutes        0\nSedentaryMinutes            0\nCalories                    0\ndtype: int64"
     },
     "execution_count": 24,
     "metadata": {},
     "output_type": "execute_result"
    }
   ],
   "source": [
    "daily_activity.isna().sum()"
   ],
   "metadata": {
    "collapsed": false,
    "ExecuteTime": {
     "end_time": "2023-10-17T12:48:31.437166Z",
     "start_time": "2023-10-17T12:48:31.432853Z"
    }
   },
   "id": "8f77716e02e4e59c"
  },
  {
   "cell_type": "code",
   "execution_count": 29,
   "outputs": [
    {
     "name": "stdout",
     "output_type": "stream",
     "text": [
      "<class 'pandas.core.frame.DataFrame'>\n",
      "RangeIndex: 940 entries, 0 to 939\n",
      "Data columns (total 15 columns):\n",
      " #   Column                    Non-Null Count  Dtype         \n",
      "---  ------                    --------------  -----         \n",
      " 0   Id                        940 non-null    int64         \n",
      " 1   ActivityDate              940 non-null    datetime64[ns]\n",
      " 2   TotalSteps                940 non-null    int64         \n",
      " 3   TotalDistance             940 non-null    float64       \n",
      " 4   TrackerDistance           940 non-null    float64       \n",
      " 5   LoggedActivitiesDistance  940 non-null    float64       \n",
      " 6   VeryActiveDistance        940 non-null    float64       \n",
      " 7   ModeratelyActiveDistance  940 non-null    float64       \n",
      " 8   LightActiveDistance       940 non-null    float64       \n",
      " 9   SedentaryActiveDistance   940 non-null    float64       \n",
      " 10  VeryActiveMinutes         940 non-null    int64         \n",
      " 11  FairlyActiveMinutes       940 non-null    int64         \n",
      " 12  LightlyActiveMinutes      940 non-null    int64         \n",
      " 13  SedentaryMinutes          940 non-null    int64         \n",
      " 14  Calories                  940 non-null    int64         \n",
      "dtypes: datetime64[ns](1), float64(7), int64(7)\n",
      "memory usage: 110.3 KB\n"
     ]
    }
   ],
   "source": [
    "daily_activity.info()"
   ],
   "metadata": {
    "collapsed": false,
    "ExecuteTime": {
     "end_time": "2023-10-17T12:48:59.677728Z",
     "start_time": "2023-10-17T12:48:59.669497Z"
    }
   },
   "id": "1233b7aa9be51a44"
  },
  {
   "cell_type": "code",
   "execution_count": 26,
   "outputs": [],
   "source": [
    "daily_activity['ActivityDate'] = pd.to_datetime(daily_activity['ActivityDate'], format='%m/%d/%Y')"
   ],
   "metadata": {
    "collapsed": false,
    "ExecuteTime": {
     "end_time": "2023-10-17T12:48:31.452568Z",
     "start_time": "2023-10-17T12:48:31.447149Z"
    }
   },
   "id": "824d689e6898fc26"
  },
  {
   "cell_type": "code",
   "execution_count": 49,
   "outputs": [
    {
     "data": {
      "text/plain": "           id       date  day_of_the_week  total_steps  total_dist  \\\n0  1503960366 2016-04-12              NaN        13162        8.50   \n1  1503960366 2016-04-13              NaN        10735        6.97   \n2  1503960366 2016-04-14              NaN        10460        6.74   \n3  1503960366 2016-04-15              NaN         9762        6.28   \n4  1503960366 2016-04-16              NaN        12669        8.16   \n\n   track_dist  logged_dist  very_active_dist  moderate_active_dist  \\\n0        8.50          0.0              1.88                  0.55   \n1        6.97          0.0              1.57                  0.69   \n2        6.74          0.0              2.44                  0.40   \n3        6.28          0.0              2.14                  1.26   \n4        8.16          0.0              2.71                  0.41   \n\n   light_active_dist  sedentary_active_dist  very_active_mins  \\\n0               6.06                    0.0                25   \n1               4.71                    0.0                21   \n2               3.91                    0.0                30   \n3               2.83                    0.0                29   \n4               5.04                    0.0                36   \n\n   fairly_active_mins  lightly_active_mins  sedentary_mins  total_mins  \\\n0                  13                  328             728         NaN   \n1                  19                  217             776         NaN   \n2                  11                  181            1218         NaN   \n3                  34                  209             726         NaN   \n4                  10                  221             773         NaN   \n\n   total_hours  calories  \n0          NaN      1985  \n1          NaN      1797  \n2          NaN      1776  \n3          NaN      1745  \n4          NaN      1863  ",
      "text/html": "<div>\n<style scoped>\n    .dataframe tbody tr th:only-of-type {\n        vertical-align: middle;\n    }\n\n    .dataframe tbody tr th {\n        vertical-align: top;\n    }\n\n    .dataframe thead th {\n        text-align: right;\n    }\n</style>\n<table border=\"1\" class=\"dataframe\">\n  <thead>\n    <tr style=\"text-align: right;\">\n      <th></th>\n      <th>id</th>\n      <th>date</th>\n      <th>day_of_the_week</th>\n      <th>total_steps</th>\n      <th>total_dist</th>\n      <th>track_dist</th>\n      <th>logged_dist</th>\n      <th>very_active_dist</th>\n      <th>moderate_active_dist</th>\n      <th>light_active_dist</th>\n      <th>sedentary_active_dist</th>\n      <th>very_active_mins</th>\n      <th>fairly_active_mins</th>\n      <th>lightly_active_mins</th>\n      <th>sedentary_mins</th>\n      <th>total_mins</th>\n      <th>total_hours</th>\n      <th>calories</th>\n    </tr>\n  </thead>\n  <tbody>\n    <tr>\n      <th>0</th>\n      <td>1503960366</td>\n      <td>2016-04-12</td>\n      <td>NaN</td>\n      <td>13162</td>\n      <td>8.50</td>\n      <td>8.50</td>\n      <td>0.0</td>\n      <td>1.88</td>\n      <td>0.55</td>\n      <td>6.06</td>\n      <td>0.0</td>\n      <td>25</td>\n      <td>13</td>\n      <td>328</td>\n      <td>728</td>\n      <td>NaN</td>\n      <td>NaN</td>\n      <td>1985</td>\n    </tr>\n    <tr>\n      <th>1</th>\n      <td>1503960366</td>\n      <td>2016-04-13</td>\n      <td>NaN</td>\n      <td>10735</td>\n      <td>6.97</td>\n      <td>6.97</td>\n      <td>0.0</td>\n      <td>1.57</td>\n      <td>0.69</td>\n      <td>4.71</td>\n      <td>0.0</td>\n      <td>21</td>\n      <td>19</td>\n      <td>217</td>\n      <td>776</td>\n      <td>NaN</td>\n      <td>NaN</td>\n      <td>1797</td>\n    </tr>\n    <tr>\n      <th>2</th>\n      <td>1503960366</td>\n      <td>2016-04-14</td>\n      <td>NaN</td>\n      <td>10460</td>\n      <td>6.74</td>\n      <td>6.74</td>\n      <td>0.0</td>\n      <td>2.44</td>\n      <td>0.40</td>\n      <td>3.91</td>\n      <td>0.0</td>\n      <td>30</td>\n      <td>11</td>\n      <td>181</td>\n      <td>1218</td>\n      <td>NaN</td>\n      <td>NaN</td>\n      <td>1776</td>\n    </tr>\n    <tr>\n      <th>3</th>\n      <td>1503960366</td>\n      <td>2016-04-15</td>\n      <td>NaN</td>\n      <td>9762</td>\n      <td>6.28</td>\n      <td>6.28</td>\n      <td>0.0</td>\n      <td>2.14</td>\n      <td>1.26</td>\n      <td>2.83</td>\n      <td>0.0</td>\n      <td>29</td>\n      <td>34</td>\n      <td>209</td>\n      <td>726</td>\n      <td>NaN</td>\n      <td>NaN</td>\n      <td>1745</td>\n    </tr>\n    <tr>\n      <th>4</th>\n      <td>1503960366</td>\n      <td>2016-04-16</td>\n      <td>NaN</td>\n      <td>12669</td>\n      <td>8.16</td>\n      <td>8.16</td>\n      <td>0.0</td>\n      <td>2.71</td>\n      <td>0.41</td>\n      <td>5.04</td>\n      <td>0.0</td>\n      <td>36</td>\n      <td>10</td>\n      <td>221</td>\n      <td>773</td>\n      <td>NaN</td>\n      <td>NaN</td>\n      <td>1863</td>\n    </tr>\n  </tbody>\n</table>\n</div>"
     },
     "execution_count": 49,
     "metadata": {},
     "output_type": "execute_result"
    }
   ],
   "source": [
    "new_cols = ['Id', 'ActivityDate', 'DayOfTheWeek', 'TotalSteps', 'TotalDistance',\n",
    "            'TrackerDistance', 'LoggedActivitiesDistance', 'VeryActiveDistance',\n",
    "            'ModeratelyActiveDistance', 'LightActiveDistance', 'SedentaryActiveDistance',\n",
    "            'VeryActiveMinutes', 'FairlyActiveMinutes', 'LightlyActiveMinutes',\n",
    "            'SedentaryMinutes', 'TotalExerciseMinutes', 'TotalExerciseHours', 'Calories']\n",
    "\n",
    "renamed_cols = {\n",
    "    \"Id\": \"id\",\n",
    "    \"ActivityDate\": \"date\",\n",
    "    \"DayOfTheWeek\": \"day_of_the_week\",\n",
    "    \"TotalSteps\": \"total_steps\",\n",
    "    \"TotalDistance\": \"total_dist\",\n",
    "    \"TrackerDistance\": \"track_dist\",\n",
    "    \"LoggedActivitiesDistance\": \"logged_dist\",\n",
    "    \"VeryActiveDistance\": \"very_active_dist\",\n",
    "    \"ModeratelyActiveDistance\": \"moderate_active_dist\",\n",
    "    \"LightActiveDistance\": \"light_active_dist\",\n",
    "    \"SedentaryActiveDistance\": \"sedentary_active_dist\",\n",
    "    \"VeryActiveMinutes\": \"very_active_mins\",\n",
    "    \"FairlyActiveMinutes\": \"fairly_active_mins\",\n",
    "    \"LightlyActiveMinutes\": \"lightly_active_mins\",\n",
    "    \"SedentaryMinutes\": \"sedentary_mins\",\n",
    "    \"TotalExerciseMinutes\": \"total_mins\",\n",
    "    \"TotalExerciseHours\": \"total_hours\",\n",
    "    \"Calories\": \"calories\"\n",
    "}\n",
    "\n",
    "df = daily_activity.reindex(columns=new_cols).rename(columns=renamed_cols)\n",
    "df.head()"
   ],
   "metadata": {
    "collapsed": false,
    "ExecuteTime": {
     "end_time": "2023-10-17T13:11:48.752556Z",
     "start_time": "2023-10-17T13:11:48.739647Z"
    }
   },
   "id": "167f29a2a08622c5"
  },
  {
   "cell_type": "code",
   "execution_count": 51,
   "outputs": [
    {
     "data": {
      "text/plain": "           id       date day_of_the_week  total_steps  total_dist  track_dist  \\\n0  1503960366 2016-04-12         Tuesday        13162        8.50        8.50   \n1  1503960366 2016-04-13       Wednesday        10735        6.97        6.97   \n2  1503960366 2016-04-14        Thursday        10460        6.74        6.74   \n3  1503960366 2016-04-15          Friday         9762        6.28        6.28   \n4  1503960366 2016-04-16        Saturday        12669        8.16        8.16   \n\n   logged_dist  very_active_dist  moderate_active_dist  light_active_dist  \\\n0          0.0              1.88                  0.55               6.06   \n1          0.0              1.57                  0.69               4.71   \n2          0.0              2.44                  0.40               3.91   \n3          0.0              2.14                  1.26               2.83   \n4          0.0              2.71                  0.41               5.04   \n\n   sedentary_active_dist  very_active_mins  fairly_active_mins  \\\n0                    0.0                25                  13   \n1                    0.0                21                  19   \n2                    0.0                30                  11   \n3                    0.0                29                  34   \n4                    0.0                36                  10   \n\n   lightly_active_mins  sedentary_mins  total_mins  total_hours  calories  \n0                  328             728        1094           18      1985  \n1                  217             776        1033           17      1797  \n2                  181            1218        1440           24      1776  \n3                  209             726         998           16      1745  \n4                  221             773        1040           17      1863  ",
      "text/html": "<div>\n<style scoped>\n    .dataframe tbody tr th:only-of-type {\n        vertical-align: middle;\n    }\n\n    .dataframe tbody tr th {\n        vertical-align: top;\n    }\n\n    .dataframe thead th {\n        text-align: right;\n    }\n</style>\n<table border=\"1\" class=\"dataframe\">\n  <thead>\n    <tr style=\"text-align: right;\">\n      <th></th>\n      <th>id</th>\n      <th>date</th>\n      <th>day_of_the_week</th>\n      <th>total_steps</th>\n      <th>total_dist</th>\n      <th>track_dist</th>\n      <th>logged_dist</th>\n      <th>very_active_dist</th>\n      <th>moderate_active_dist</th>\n      <th>light_active_dist</th>\n      <th>sedentary_active_dist</th>\n      <th>very_active_mins</th>\n      <th>fairly_active_mins</th>\n      <th>lightly_active_mins</th>\n      <th>sedentary_mins</th>\n      <th>total_mins</th>\n      <th>total_hours</th>\n      <th>calories</th>\n    </tr>\n  </thead>\n  <tbody>\n    <tr>\n      <th>0</th>\n      <td>1503960366</td>\n      <td>2016-04-12</td>\n      <td>Tuesday</td>\n      <td>13162</td>\n      <td>8.50</td>\n      <td>8.50</td>\n      <td>0.0</td>\n      <td>1.88</td>\n      <td>0.55</td>\n      <td>6.06</td>\n      <td>0.0</td>\n      <td>25</td>\n      <td>13</td>\n      <td>328</td>\n      <td>728</td>\n      <td>1094</td>\n      <td>18</td>\n      <td>1985</td>\n    </tr>\n    <tr>\n      <th>1</th>\n      <td>1503960366</td>\n      <td>2016-04-13</td>\n      <td>Wednesday</td>\n      <td>10735</td>\n      <td>6.97</td>\n      <td>6.97</td>\n      <td>0.0</td>\n      <td>1.57</td>\n      <td>0.69</td>\n      <td>4.71</td>\n      <td>0.0</td>\n      <td>21</td>\n      <td>19</td>\n      <td>217</td>\n      <td>776</td>\n      <td>1033</td>\n      <td>17</td>\n      <td>1797</td>\n    </tr>\n    <tr>\n      <th>2</th>\n      <td>1503960366</td>\n      <td>2016-04-14</td>\n      <td>Thursday</td>\n      <td>10460</td>\n      <td>6.74</td>\n      <td>6.74</td>\n      <td>0.0</td>\n      <td>2.44</td>\n      <td>0.40</td>\n      <td>3.91</td>\n      <td>0.0</td>\n      <td>30</td>\n      <td>11</td>\n      <td>181</td>\n      <td>1218</td>\n      <td>1440</td>\n      <td>24</td>\n      <td>1776</td>\n    </tr>\n    <tr>\n      <th>3</th>\n      <td>1503960366</td>\n      <td>2016-04-15</td>\n      <td>Friday</td>\n      <td>9762</td>\n      <td>6.28</td>\n      <td>6.28</td>\n      <td>0.0</td>\n      <td>2.14</td>\n      <td>1.26</td>\n      <td>2.83</td>\n      <td>0.0</td>\n      <td>29</td>\n      <td>34</td>\n      <td>209</td>\n      <td>726</td>\n      <td>998</td>\n      <td>16</td>\n      <td>1745</td>\n    </tr>\n    <tr>\n      <th>4</th>\n      <td>1503960366</td>\n      <td>2016-04-16</td>\n      <td>Saturday</td>\n      <td>12669</td>\n      <td>8.16</td>\n      <td>8.16</td>\n      <td>0.0</td>\n      <td>2.71</td>\n      <td>0.41</td>\n      <td>5.04</td>\n      <td>0.0</td>\n      <td>36</td>\n      <td>10</td>\n      <td>221</td>\n      <td>773</td>\n      <td>1040</td>\n      <td>17</td>\n      <td>1863</td>\n    </tr>\n  </tbody>\n</table>\n</div>"
     },
     "execution_count": 51,
     "metadata": {},
     "output_type": "execute_result"
    }
   ],
   "source": [
    "df['day_of_the_week'] = df['date'].dt.day_name()\n",
    "df['total_mins'] = df['very_active_mins'] + df['fairly_active_mins'] + df['lightly_active_mins'] + df['sedentary_mins']\n",
    "df['total_hours'] = (df['total_mins'] / 60).astype(int)\n",
    "df.head()"
   ],
   "metadata": {
    "collapsed": false,
    "ExecuteTime": {
     "end_time": "2023-10-17T13:12:31.417113Z",
     "start_time": "2023-10-17T13:12:31.413003Z"
    }
   },
   "id": "ab469d606e4ceb12"
  },
  {
   "cell_type": "code",
   "execution_count": 52,
   "outputs": [
    {
     "data": {
      "text/plain": "                 id                           date   total_steps  total_dist  \\\ncount  9.400000e+02                            940    940.000000  940.000000   \nmean   4.855407e+09  2016-04-26 06:53:37.021276672   7637.910638    5.489702   \nmin    1.503960e+09            2016-04-12 00:00:00      0.000000    0.000000   \n25%    2.320127e+09            2016-04-19 00:00:00   3789.750000    2.620000   \n50%    4.445115e+09            2016-04-26 00:00:00   7405.500000    5.245000   \n75%    6.962181e+09            2016-05-04 00:00:00  10727.000000    7.712500   \nmax    8.877689e+09            2016-05-12 00:00:00  36019.000000   28.030001   \nstd    2.424805e+09                            NaN   5087.150742    3.924606   \n\n       track_dist  logged_dist  very_active_dist  moderate_active_dist  \\\ncount  940.000000   940.000000        940.000000            940.000000   \nmean     5.475351     0.108171          1.502681              0.567543   \nmin      0.000000     0.000000          0.000000              0.000000   \n25%      2.620000     0.000000          0.000000              0.000000   \n50%      5.245000     0.000000          0.210000              0.240000   \n75%      7.710000     0.000000          2.052500              0.800000   \nmax     28.030001     4.942142         21.920000              6.480000   \nstd      3.907276     0.619897          2.658941              0.883580   \n\n       light_active_dist  sedentary_active_dist  very_active_mins  \\\ncount         940.000000             940.000000        940.000000   \nmean            3.340819               0.001606         21.164894   \nmin             0.000000               0.000000          0.000000   \n25%             1.945000               0.000000          0.000000   \n50%             3.365000               0.000000          4.000000   \n75%             4.782500               0.000000         32.000000   \nmax            10.710000               0.110000        210.000000   \nstd             2.040655               0.007346         32.844803   \n\n       fairly_active_mins  lightly_active_mins  sedentary_mins   total_mins  \\\ncount          940.000000           940.000000      940.000000   940.000000   \nmean            13.564894           192.812766      991.210638  1218.753191   \nmin              0.000000             0.000000        0.000000     2.000000   \n25%              0.000000           127.000000      729.750000   989.750000   \n50%              6.000000           199.000000     1057.500000  1440.000000   \n75%             19.000000           264.000000     1229.500000  1440.000000   \nmax            143.000000           518.000000     1440.000000  1440.000000   \nstd             19.987404           109.174700      301.267437   265.931767   \n\n       total_hours     calories  \ncount   940.000000   940.000000  \nmean     20.067021  2303.609574  \nmin       0.000000     0.000000  \n25%      16.000000  1828.500000  \n50%      24.000000  2134.000000  \n75%      24.000000  2793.250000  \nmax      24.000000  4900.000000  \nstd       4.646936   718.166862  ",
      "text/html": "<div>\n<style scoped>\n    .dataframe tbody tr th:only-of-type {\n        vertical-align: middle;\n    }\n\n    .dataframe tbody tr th {\n        vertical-align: top;\n    }\n\n    .dataframe thead th {\n        text-align: right;\n    }\n</style>\n<table border=\"1\" class=\"dataframe\">\n  <thead>\n    <tr style=\"text-align: right;\">\n      <th></th>\n      <th>id</th>\n      <th>date</th>\n      <th>total_steps</th>\n      <th>total_dist</th>\n      <th>track_dist</th>\n      <th>logged_dist</th>\n      <th>very_active_dist</th>\n      <th>moderate_active_dist</th>\n      <th>light_active_dist</th>\n      <th>sedentary_active_dist</th>\n      <th>very_active_mins</th>\n      <th>fairly_active_mins</th>\n      <th>lightly_active_mins</th>\n      <th>sedentary_mins</th>\n      <th>total_mins</th>\n      <th>total_hours</th>\n      <th>calories</th>\n    </tr>\n  </thead>\n  <tbody>\n    <tr>\n      <th>count</th>\n      <td>9.400000e+02</td>\n      <td>940</td>\n      <td>940.000000</td>\n      <td>940.000000</td>\n      <td>940.000000</td>\n      <td>940.000000</td>\n      <td>940.000000</td>\n      <td>940.000000</td>\n      <td>940.000000</td>\n      <td>940.000000</td>\n      <td>940.000000</td>\n      <td>940.000000</td>\n      <td>940.000000</td>\n      <td>940.000000</td>\n      <td>940.000000</td>\n      <td>940.000000</td>\n      <td>940.000000</td>\n    </tr>\n    <tr>\n      <th>mean</th>\n      <td>4.855407e+09</td>\n      <td>2016-04-26 06:53:37.021276672</td>\n      <td>7637.910638</td>\n      <td>5.489702</td>\n      <td>5.475351</td>\n      <td>0.108171</td>\n      <td>1.502681</td>\n      <td>0.567543</td>\n      <td>3.340819</td>\n      <td>0.001606</td>\n      <td>21.164894</td>\n      <td>13.564894</td>\n      <td>192.812766</td>\n      <td>991.210638</td>\n      <td>1218.753191</td>\n      <td>20.067021</td>\n      <td>2303.609574</td>\n    </tr>\n    <tr>\n      <th>min</th>\n      <td>1.503960e+09</td>\n      <td>2016-04-12 00:00:00</td>\n      <td>0.000000</td>\n      <td>0.000000</td>\n      <td>0.000000</td>\n      <td>0.000000</td>\n      <td>0.000000</td>\n      <td>0.000000</td>\n      <td>0.000000</td>\n      <td>0.000000</td>\n      <td>0.000000</td>\n      <td>0.000000</td>\n      <td>0.000000</td>\n      <td>0.000000</td>\n      <td>2.000000</td>\n      <td>0.000000</td>\n      <td>0.000000</td>\n    </tr>\n    <tr>\n      <th>25%</th>\n      <td>2.320127e+09</td>\n      <td>2016-04-19 00:00:00</td>\n      <td>3789.750000</td>\n      <td>2.620000</td>\n      <td>2.620000</td>\n      <td>0.000000</td>\n      <td>0.000000</td>\n      <td>0.000000</td>\n      <td>1.945000</td>\n      <td>0.000000</td>\n      <td>0.000000</td>\n      <td>0.000000</td>\n      <td>127.000000</td>\n      <td>729.750000</td>\n      <td>989.750000</td>\n      <td>16.000000</td>\n      <td>1828.500000</td>\n    </tr>\n    <tr>\n      <th>50%</th>\n      <td>4.445115e+09</td>\n      <td>2016-04-26 00:00:00</td>\n      <td>7405.500000</td>\n      <td>5.245000</td>\n      <td>5.245000</td>\n      <td>0.000000</td>\n      <td>0.210000</td>\n      <td>0.240000</td>\n      <td>3.365000</td>\n      <td>0.000000</td>\n      <td>4.000000</td>\n      <td>6.000000</td>\n      <td>199.000000</td>\n      <td>1057.500000</td>\n      <td>1440.000000</td>\n      <td>24.000000</td>\n      <td>2134.000000</td>\n    </tr>\n    <tr>\n      <th>75%</th>\n      <td>6.962181e+09</td>\n      <td>2016-05-04 00:00:00</td>\n      <td>10727.000000</td>\n      <td>7.712500</td>\n      <td>7.710000</td>\n      <td>0.000000</td>\n      <td>2.052500</td>\n      <td>0.800000</td>\n      <td>4.782500</td>\n      <td>0.000000</td>\n      <td>32.000000</td>\n      <td>19.000000</td>\n      <td>264.000000</td>\n      <td>1229.500000</td>\n      <td>1440.000000</td>\n      <td>24.000000</td>\n      <td>2793.250000</td>\n    </tr>\n    <tr>\n      <th>max</th>\n      <td>8.877689e+09</td>\n      <td>2016-05-12 00:00:00</td>\n      <td>36019.000000</td>\n      <td>28.030001</td>\n      <td>28.030001</td>\n      <td>4.942142</td>\n      <td>21.920000</td>\n      <td>6.480000</td>\n      <td>10.710000</td>\n      <td>0.110000</td>\n      <td>210.000000</td>\n      <td>143.000000</td>\n      <td>518.000000</td>\n      <td>1440.000000</td>\n      <td>1440.000000</td>\n      <td>24.000000</td>\n      <td>4900.000000</td>\n    </tr>\n    <tr>\n      <th>std</th>\n      <td>2.424805e+09</td>\n      <td>NaN</td>\n      <td>5087.150742</td>\n      <td>3.924606</td>\n      <td>3.907276</td>\n      <td>0.619897</td>\n      <td>2.658941</td>\n      <td>0.883580</td>\n      <td>2.040655</td>\n      <td>0.007346</td>\n      <td>32.844803</td>\n      <td>19.987404</td>\n      <td>109.174700</td>\n      <td>301.267437</td>\n      <td>265.931767</td>\n      <td>4.646936</td>\n      <td>718.166862</td>\n    </tr>\n  </tbody>\n</table>\n</div>"
     },
     "execution_count": 52,
     "metadata": {},
     "output_type": "execute_result"
    }
   ],
   "source": [
    "df.describe()"
   ],
   "metadata": {
    "collapsed": false,
    "ExecuteTime": {
     "end_time": "2023-10-17T13:13:17.287931Z",
     "start_time": "2023-10-17T13:13:17.262049Z"
    }
   },
   "id": "1a1e7c29cedc1a66"
  },
  {
   "cell_type": "code",
   "execution_count": null,
   "outputs": [],
   "source": [],
   "metadata": {
    "collapsed": false
   },
   "id": "b5f4ae1699488f85"
  }
 ],
 "metadata": {
  "kernelspec": {
   "display_name": "Python 3",
   "language": "python",
   "name": "python3"
  },
  "language_info": {
   "codemirror_mode": {
    "name": "ipython",
    "version": 2
   },
   "file_extension": ".py",
   "mimetype": "text/x-python",
   "name": "python",
   "nbconvert_exporter": "python",
   "pygments_lexer": "ipython2",
   "version": "2.7.6"
  }
 },
 "nbformat": 4,
 "nbformat_minor": 5
}
