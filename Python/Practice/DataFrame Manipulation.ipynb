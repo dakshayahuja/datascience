{
 "cells": [
  {
   "cell_type": "code",
   "execution_count": 1,
   "id": "2e3707a9-477e-4256-9db4-21fa43710488",
   "metadata": {
    "tags": [],
    "ExecuteTime": {
     "end_time": "2023-08-21T14:47:44.793673Z",
     "start_time": "2023-08-21T14:47:44.500357Z"
    }
   },
   "outputs": [],
   "source": [
    "import numpy as np\n",
    "import pandas as pd\n",
    "pd.set_option('display.width', 1000)"
   ]
  },
  {
   "cell_type": "code",
   "execution_count": 2,
   "id": "80081930-3728-4350-a643-5ee000efd94d",
   "metadata": {
    "ExecuteTime": {
     "end_time": "2023-08-21T14:47:45.386380Z",
     "start_time": "2023-08-21T14:47:45.369354Z"
    }
   },
   "outputs": [
    {
     "name": "stdout",
     "output_type": "stream",
     "text": [
      "                  0\n",
      "0            Python\n",
      "1                 R\n",
      "2          Big Data\n",
      "3  Machine Learning\n"
     ]
    }
   ],
   "source": [
    "data_science = ['Python', 'R', 'Big Data', 'Machine Learning']\n",
    "df = pd.DataFrame(data_science)\n",
    "print(df)"
   ]
  },
  {
   "cell_type": "code",
   "execution_count": 3,
   "id": "27152dc630157ce7",
   "metadata": {
    "ExecuteTime": {
     "end_time": "2023-08-21T14:47:46.212725Z",
     "start_time": "2023-08-21T14:47:46.196284Z"
    }
   },
   "outputs": [
    {
     "name": "stdout",
     "output_type": "stream",
     "text": [
      "     Store  Sales\n",
      "0    Nokia  30000\n",
      "1  Samsung  42000\n",
      "2  OnePlus  55000\n",
      "3    Apple  92000\n"
     ]
    }
   ],
   "source": [
    "store_list = [['Nokia', 30000], ['Samsung', 42000], ['OnePlus', 55000], ['Apple', 92000]]\n",
    "df_list = pd.DataFrame(store_list, columns=['Store', 'Sales'])\n",
    "print(df_list)"
   ]
  },
  {
   "cell_type": "code",
   "execution_count": 4,
   "id": "f716b001f7344384",
   "metadata": {
    "ExecuteTime": {
     "end_time": "2023-08-21T14:47:46.508674Z",
     "start_time": "2023-08-21T14:47:46.491501Z"
    }
   },
   "outputs": [
    {
     "name": "stdout",
     "output_type": "stream",
     "text": [
      "    Product  Sales\n",
      "0    Coffee   5000\n",
      "1  Biscuits   3000\n",
      "2      Milk   2000\n",
      "3       Tea   4000\n"
     ]
    }
   ],
   "source": [
    "store_data = {'Product': ['Coffee', 'Biscuits', 'Milk', 'Tea'], 'Sales':[5000,3000,2000,4000]}\n",
    "df_dict = pd.DataFrame(store_data)\n",
    "print(df_dict)"
   ]
  },
  {
   "cell_type": "code",
   "execution_count": 5,
   "id": "9441678a5c9b9d27",
   "metadata": {
    "ExecuteTime": {
     "end_time": "2023-08-21T14:47:47.261571Z",
     "start_time": "2023-08-21T14:47:47.243883Z"
    }
   },
   "outputs": [
    {
     "name": "stdout",
     "output_type": "stream",
     "text": [
      "    Product  Sales\n",
      "A    Coffee   5000\n",
      "B  Biscuits   3000\n",
      "C      Milk   2000\n",
      "D       Tea   4000\n"
     ]
    }
   ],
   "source": [
    "store_data = {'Product': ['Coffee', 'Biscuits', 'Milk', 'Tea'], 'Sales':[5000,3000,2000,4000]}\n",
    "df_dictOfList = pd.DataFrame(store_data, index=['A', 'B', 'C', 'D'])\n",
    "print(df_dictOfList)"
   ]
  },
  {
   "cell_type": "code",
   "execution_count": 6,
   "id": "afae8be8194b9b88",
   "metadata": {
    "ExecuteTime": {
     "end_time": "2023-08-21T14:47:47.811790Z",
     "start_time": "2023-08-21T14:47:47.799826Z"
    }
   },
   "outputs": [
    {
     "name": "stdout",
     "output_type": "stream",
     "text": [
      "   Store-A  Store-B  Store-C\n",
      "0     1010      210      NaN\n",
      "1     3105     4110   2120.0\n"
     ]
    }
   ],
   "source": [
    "store_data = [{'Store-A':1010, 'Store-B':210}, {'Store-A':3105, 'Store-B':4110, 'Store-C':2120}]\n",
    "df_store = pd.DataFrame(store_data)\n",
    "print(df_store)"
   ]
  },
  {
   "cell_type": "code",
   "execution_count": 7,
   "id": "a0ae012035bef51d",
   "metadata": {
    "ExecuteTime": {
     "end_time": "2023-08-21T14:47:48.166093Z",
     "start_time": "2023-08-21T14:47:48.160516Z"
    }
   },
   "outputs": [
    {
     "name": "stdout",
     "output_type": "stream",
     "text": [
      "<class 'pandas.core.frame.DataFrame'>\n",
      "<class 'pandas.core.series.Series'>\n"
     ]
    }
   ],
   "source": [
    "print(type(df))\n",
    "print(type(df_store['Store-A']))"
   ]
  },
  {
   "cell_type": "code",
   "execution_count": 8,
   "id": "78892437acb4da2",
   "metadata": {
    "ExecuteTime": {
     "end_time": "2023-08-21T14:47:48.593665Z",
     "start_time": "2023-08-21T14:47:48.586120Z"
    }
   },
   "outputs": [
    {
     "name": "stdout",
     "output_type": "stream",
     "text": [
      "    Month Store  Sales\n",
      "0     Jan     A  31037\n",
      "1     Jan     B  20722\n",
      "2     Jan     C  24577\n",
      "3     Jan     D  34649\n",
      "4     Jan     E  29795\n",
      "5     Feb     A  29133\n",
      "6     Feb     B  22695\n",
      "7     Feb     C  28312\n",
      "8     Feb     D  31454\n",
      "9     Feb     E  46267\n",
      "10  March     A  32961\n"
     ]
    }
   ],
   "source": [
    "df_sales = pd.read_csv(\"bigmarket.csv\")\n",
    "print(df_sales)"
   ]
  },
  {
   "cell_type": "code",
   "execution_count": 9,
   "id": "c735e4ca5cb01b08",
   "metadata": {
    "ExecuteTime": {
     "end_time": "2023-08-21T14:47:49.500519Z",
     "start_time": "2023-08-21T14:47:49.486930Z"
    }
   },
   "outputs": [
    {
     "name": "stdout",
     "output_type": "stream",
     "text": [
      "(11, 3)\n",
      "Month    object\n",
      "Store    object\n",
      "Sales     int64\n",
      "dtype: object\n",
      "<class 'pandas.core.frame.DataFrame'>\n",
      "RangeIndex: 11 entries, 0 to 10\n",
      "Data columns (total 3 columns):\n",
      " #   Column  Non-Null Count  Dtype \n",
      "---  ------  --------------  ----- \n",
      " 0   Month   11 non-null     object\n",
      " 1   Store   11 non-null     object\n",
      " 2   Sales   11 non-null     int64 \n",
      "dtypes: int64(1), object(2)\n",
      "memory usage: 392.0+ bytes\n",
      "None\n"
     ]
    }
   ],
   "source": [
    "# print(df_sales.head())\n",
    "# print(df_sales.tail())\n",
    "print(df_sales.shape)\n",
    "print(df_sales.dtypes)\n",
    "print(df_sales.info())"
   ]
  },
  {
   "cell_type": "code",
   "execution_count": 10,
   "id": "a5e23afb39b06457",
   "metadata": {
    "ExecuteTime": {
     "end_time": "2023-08-21T14:47:50.262120Z",
     "start_time": "2023-08-21T14:47:50.246683Z"
    }
   },
   "outputs": [
    {
     "name": "stdout",
     "output_type": "stream",
     "text": [
      "    Month  Sales\n",
      "0     Jan  31037\n",
      "1     Jan  20722\n",
      "2     Jan  24577\n",
      "3     Jan  34649\n",
      "4     Jan  29795\n",
      "5     Feb  29133\n",
      "6     Feb  22695\n",
      "7     Feb  28312\n",
      "8     Feb  31454\n",
      "9     Feb  46267\n",
      "10  March  32961\n"
     ]
    }
   ],
   "source": [
    "# print(df_sales.iloc[1])\n",
    "# print(df_sales.iloc[0]['Store'])\n",
    "# print(df_sales.iloc[3:6])\n",
    "# print(df_sales.iloc[:, :2])\n",
    "print(df_sales.iloc[:, [0,2]])"
   ]
  },
  {
   "cell_type": "code",
   "execution_count": 11,
   "id": "697413d9d132a8a8",
   "metadata": {
    "ExecuteTime": {
     "end_time": "2023-08-21T14:47:50.917775Z",
     "start_time": "2023-08-21T14:47:50.901367Z"
    }
   },
   "outputs": [
    {
     "name": "stdout",
     "output_type": "stream",
     "text": [
      "  Store  Sales\n",
      "0     A  31037\n",
      "1     B  20722\n",
      "2     C  24577\n"
     ]
    }
   ],
   "source": [
    "# print(df_sales.loc[1]['Sales'])\n",
    "print(df_sales.loc[0:2, ['Store','Sales']])"
   ]
  },
  {
   "cell_type": "code",
   "execution_count": 12,
   "id": "cf1f2dfa42c8b8ee",
   "metadata": {
    "ExecuteTime": {
     "end_time": "2023-08-21T14:47:51.314854Z",
     "start_time": "2023-08-21T14:47:51.304591Z"
    }
   },
   "outputs": [
    {
     "name": "stdout",
     "output_type": "stream",
     "text": [
      "  Month Store  Sales\n",
      "9   Feb     E  46267\n",
      "  Month Store  Sales\n",
      "1   Jan     B  20722\n",
      "2   Jan     C  24577\n",
      "6   Feb     B  22695\n"
     ]
    }
   ],
   "source": [
    "print(df_sales[df_sales.Sales>40000])\n",
    "print(df_sales[df_sales.Sales<25000])"
   ]
  },
  {
   "cell_type": "code",
   "execution_count": 13,
   "id": "be120b1d566ca536",
   "metadata": {
    "ExecuteTime": {
     "end_time": "2023-08-21T14:47:51.831386Z",
     "start_time": "2023-08-21T14:47:51.822943Z"
    }
   },
   "outputs": [
    {
     "name": "stdout",
     "output_type": "stream",
     "text": [
      "  Month Store  Sales\n",
      "0   Jan     A  31037\n",
      "3   Jan     D  34649\n"
     ]
    }
   ],
   "source": [
    "print(df_sales[(df_sales.Month=='Jan') & (df_sales.Sales>30000)])"
   ]
  },
  {
   "cell_type": "code",
   "execution_count": 14,
   "id": "9269aacdf7423b57",
   "metadata": {
    "ExecuteTime": {
     "end_time": "2023-08-21T14:47:52.181324Z",
     "start_time": "2023-08-21T14:47:52.176786Z"
    }
   },
   "outputs": [
    {
     "name": "stdout",
     "output_type": "stream",
     "text": [
      "    Month Store  Sales\n",
      "5     Feb     A  29133\n",
      "0     Jan     A  31037\n",
      "10  March     A  32961\n",
      "1     Jan     B  20722\n",
      "6     Feb     B  22695\n",
      "2     Jan     C  24577\n",
      "7     Feb     C  28312\n",
      "8     Feb     D  31454\n",
      "3     Jan     D  34649\n",
      "4     Jan     E  29795\n",
      "9     Feb     E  46267\n"
     ]
    }
   ],
   "source": [
    "# print(df_sales.sort_values('Sales'))\n",
    "# print(df_sales.sort_values('Sales', ascending=False))\n",
    "print(df_sales.sort_values(['Store', 'Sales']))"
   ]
  },
  {
   "cell_type": "code",
   "execution_count": 15,
   "id": "37d0605082050bc",
   "metadata": {
    "ExecuteTime": {
     "end_time": "2023-08-21T14:47:52.673500Z",
     "start_time": "2023-08-21T14:47:52.668727Z"
    }
   },
   "outputs": [
    {
     "name": "stdout",
     "output_type": "stream",
     "text": [
      "    Month Store  Sales\n",
      "0     Jan     A  31037\n",
      "3     Jan     D  34649\n",
      "8     Feb     D  31454\n",
      "9     Feb     E  46267\n",
      "10  March     A  32961\n"
     ]
    }
   ],
   "source": [
    "print(df_sales[df_sales.Sales>30000].sort_index())"
   ]
  },
  {
   "cell_type": "code",
   "execution_count": 16,
   "id": "3431ce278e485ba6",
   "metadata": {
    "ExecuteTime": {
     "end_time": "2023-08-21T14:47:53.311596Z",
     "start_time": "2023-08-21T14:47:53.298579Z"
    }
   },
   "outputs": [
    {
     "name": "stdout",
     "output_type": "stream",
     "text": [
      "     Name  Verbal_Score  Quantitative_Score Qualify\n",
      "0   Diana           151                 158     Yes\n",
      "1   James           152                  87      No\n",
      "2     Mia           151                 100      No\n",
      "3   Emily           156                 146     Yes\n",
      "4   Ruben           100                 139      No\n",
      "5    John           145                 129     Yes\n",
      "6  Jordan           155                 122     Yes\n"
     ]
    }
   ],
   "source": [
    "data = {'Name': ['Diana', 'James', 'Mia', 'Emily', 'Ruben', 'John', 'Jordan'],\n",
    "        'Verbal_Score': [151,152,151,156,100,145,155],\n",
    "        'Quantitative_Score': [158,87,100,146,139,129,122],\n",
    "        'Qualify': ['Yes', 'No', 'No', 'Yes', 'No', 'Yes', 'Yes']}\n",
    "df_score = pd.DataFrame(data)\n",
    "print(df_score)"
   ]
  },
  {
   "cell_type": "code",
   "execution_count": 17,
   "id": "8062409e4681a8cf",
   "metadata": {
    "ExecuteTime": {
     "end_time": "2023-08-21T14:47:53.983739Z",
     "start_time": "2023-08-21T14:47:53.967985Z"
    }
   },
   "outputs": [
    {
     "name": "stdout",
     "output_type": "stream",
     "text": [
      "     Name  Verbal_Score  Quantitative_Score Qualify  Verbal_Rank\n",
      "0   Diana           151                 158     Yes          3.0\n",
      "1   James           152                  87      No          4.0\n",
      "2     Mia           151                 100      No          3.0\n",
      "3   Emily           156                 146     Yes          6.0\n",
      "4   Ruben           100                 139      No          1.0\n",
      "5    John           145                 129     Yes          2.0\n",
      "6  Jordan           155                 122     Yes          5.0\n"
     ]
    }
   ],
   "source": [
    "# df_score['Verbal_Rank'] = df_score.Verbal_Score.rank() #by default the method is 'average'\n",
    "# df_score['Verbal_Rank'] = df_score.Verbal_Score.rank(method='min')\n",
    "# df_score['Verbal_Rank'] = df_score.Verbal_Score.rank(method='max')\n",
    "df_score['Verbal_Rank'] = df_score.Verbal_Score.rank(method='dense')\n",
    "print(df_score)"
   ]
  },
  {
   "cell_type": "code",
   "execution_count": 18,
   "id": "29ddd9ee9b51fdda",
   "metadata": {
    "ExecuteTime": {
     "end_time": "2023-08-21T14:47:54.935067Z",
     "start_time": "2023-08-21T14:47:54.804829Z"
    }
   },
   "outputs": [
    {
     "name": "stdout",
     "output_type": "stream",
     "text": [
      "   account      name  order       sku  quantity  unit price  ext price\n",
      "0   383081  Isabella  10002  C1-20000         9       43.69     393.21\n",
      "1   412291    Olivia  10004  A1-06532        56       67.82    3797.92\n",
      "2   412291    Olivia  10004  A1-82801        31      145.62    4514.22\n",
      "3   412291    Olivia  10004  A1-06532         6       34.55     207.30\n",
      "4   218896    Sophia  10007  A1-27722        35       67.46    2361.10\n",
      "5   218896    Sophia  10007  C1-33087        33       26.55     876.15\n",
      "6   218896    Sophia  10007  C1-33364         8       67.30     538.40\n",
      "7   218896    Sophia  10007  C1-20000        -1       67.18     -67.18\n",
      "   account           name  order       sku  quantity  unit price  ext price\n",
      "0   383080       Will LLC  10001  B1-20000         7       33.69     235.83\n",
      "1   383080       Will LLC  10001  B1-86481         3       35.99     107.97\n",
      "2   412290  Jerde-Hilpert  10005  S1-06532        48       55.82    2679.36\n",
      "3   412290  Jerde-Hilpert  10005  S1-47412        44       78.91    3472.04\n",
      "4   412290  Jerde-Hilpert  10005  S1-27722        36       25.42     915.12\n",
      "5   218895      Kulas Inc  10006  S1-27722        32       95.66    3061.12\n",
      "6   218895      Kulas Inc  10006  B1-33087        23       22.55     518.65\n",
      "7   218895      Kulas Inc  10006  B1-20000        -1       72.18     -72.18\n"
     ]
    }
   ],
   "source": [
    "df_sales1 = pd.read_excel('sales-transactions.xlsx', sheet_name='Sheet0')\n",
    "df_sales2 = pd.read_excel('sales-transactions.xlsx', sheet_name='Sheet1')\n",
    "print(df_sales1)\n",
    "print(df_sales2)"
   ]
  },
  {
   "cell_type": "code",
   "execution_count": 19,
   "id": "be17e34b6e61ce89",
   "metadata": {
    "ExecuteTime": {
     "end_time": "2023-08-21T14:47:55.534192Z",
     "start_time": "2023-08-21T14:47:55.520491Z"
    }
   },
   "outputs": [
    {
     "name": "stdout",
     "output_type": "stream",
     "text": [
      "    account           name  order       sku  quantity  unit price  ext price\n",
      "0    383081       Isabella  10002  C1-20000         9       43.69     393.21\n",
      "1    412291         Olivia  10004  A1-06532        56       67.82    3797.92\n",
      "2    412291         Olivia  10004  A1-82801        31      145.62    4514.22\n",
      "3    412291         Olivia  10004  A1-06532         6       34.55     207.30\n",
      "4    218896         Sophia  10007  A1-27722        35       67.46    2361.10\n",
      "5    218896         Sophia  10007  C1-33087        33       26.55     876.15\n",
      "6    218896         Sophia  10007  C1-33364         8       67.30     538.40\n",
      "7    218896         Sophia  10007  C1-20000        -1       67.18     -67.18\n",
      "8    383080       Will LLC  10001  B1-20000         7       33.69     235.83\n",
      "9    383080       Will LLC  10001  B1-86481         3       35.99     107.97\n",
      "10   412290  Jerde-Hilpert  10005  S1-06532        48       55.82    2679.36\n",
      "11   412290  Jerde-Hilpert  10005  S1-47412        44       78.91    3472.04\n",
      "12   412290  Jerde-Hilpert  10005  S1-27722        36       25.42     915.12\n",
      "13   218895      Kulas Inc  10006  S1-27722        32       95.66    3061.12\n",
      "14   218895      Kulas Inc  10006  B1-33087        23       22.55     518.65\n",
      "15   218895      Kulas Inc  10006  B1-20000        -1       72.18     -72.18\n"
     ]
    }
   ],
   "source": [
    "# df_sales = pd.concat([df_sales1, df_sales2])\n",
    "df_sales_3 = pd.concat([df_sales1, df_sales2], ignore_index=True)\n",
    "print(df_sales_3)"
   ]
  },
  {
   "cell_type": "code",
   "execution_count": 20,
   "id": "65f801d6bf81a3fd",
   "metadata": {
    "ExecuteTime": {
     "end_time": "2023-08-21T14:47:56.349014Z",
     "start_time": "2023-08-21T14:47:56.321738Z"
    }
   },
   "outputs": [
    {
     "name": "stdout",
     "output_type": "stream",
     "text": [
      "   account           name  order       sku  quantity  unit price\n",
      "0   383080       Will LLC  10001  B1-20000         7       33.69\n",
      "1   383080       Will LLC  10001  B1-86481         3       35.99\n",
      "2   412290  Jerde-Hilpert  10005  S1-06532        48       55.82\n",
      "3   412290  Jerde-Hilpert  10005  S1-47412        44       78.91\n",
      "4   412290  Jerde-Hilpert  10005  S1-27722        36       25.42\n",
      "5   218895      Kulas Inc  10006  S1-27722        32       95.66\n",
      "6   218895      Kulas Inc  10006  B1-33087        23       22.55\n",
      "7   218895      Kulas Inc  10006  B1-20000        -1       72.18\n",
      "   account  ext price  ordertotal\n",
      "0   383080     235.83         576\n",
      "1   383080     107.97         567\n",
      "2   412290    2679.36        8185\n",
      "3   412290    3472.04        8285\n",
      "4   412290     915.12        8385\n",
      "5   218895    3061.12         915\n",
      "6   218895     518.65         892\n",
      "7   218895     -72.18         567\n"
     ]
    }
   ],
   "source": [
    "df_order1 = pd.read_excel('orders.xlsx', sheet_name='Sheet0')\n",
    "df_order2 = pd.read_excel('orders.xlsx', sheet_name='Sheet1')\n",
    "print(df_order1)\n",
    "print(df_order2)"
   ]
  },
  {
   "cell_type": "code",
   "execution_count": 21,
   "id": "4addea6b182ace00",
   "metadata": {
    "ExecuteTime": {
     "end_time": "2023-08-21T14:47:57.077699Z",
     "start_time": "2023-08-21T14:47:57.063774Z"
    }
   },
   "outputs": [
    {
     "name": "stdout",
     "output_type": "stream",
     "text": [
      "   account           name  order       sku  quantity  unit price  account  ext price  ordertotal\n",
      "0   383080       Will LLC  10001  B1-20000         7       33.69   383080     235.83         576\n",
      "1   383080       Will LLC  10001  B1-86481         3       35.99   383080     107.97         567\n",
      "2   412290  Jerde-Hilpert  10005  S1-06532        48       55.82   412290    2679.36        8185\n",
      "3   412290  Jerde-Hilpert  10005  S1-47412        44       78.91   412290    3472.04        8285\n",
      "4   412290  Jerde-Hilpert  10005  S1-27722        36       25.42   412290     915.12        8385\n",
      "5   218895      Kulas Inc  10006  S1-27722        32       95.66   218895    3061.12         915\n",
      "6   218895      Kulas Inc  10006  B1-33087        23       22.55   218895     518.65         892\n",
      "7   218895      Kulas Inc  10006  B1-20000        -1       72.18   218895     -72.18         567\n"
     ]
    }
   ],
   "source": [
    "df_orders = pd.concat([df_order1, df_order2], axis=1)\n",
    "print(df_orders)"
   ]
  },
  {
   "cell_type": "code",
   "execution_count": 22,
   "id": "b00b511d75357eb7",
   "metadata": {
    "ExecuteTime": {
     "end_time": "2023-08-21T14:47:57.825825Z",
     "start_time": "2023-08-21T14:47:57.811516Z"
    }
   },
   "outputs": [
    {
     "name": "stdout",
     "output_type": "stream",
     "text": [
      "  keyleftdf   A keyrightdf    B\n",
      "0        K0  A0         K0   B0\n",
      "1        K1  A1         K1   B1\n",
      "2        K2  A2         K2   B2\n",
      "3        K3  A3        NaN  NaN\n",
      "4        K4  A4        NaN  NaN\n",
      "5        K5  A5        NaN  NaN\n"
     ]
    }
   ],
   "source": [
    "df = pd.DataFrame({'key': ['K0', 'K1', 'K2', 'K3', 'K4', 'K5'], 'A': ['A0', 'A1', 'A2', 'A3', 'A4', 'A5']})\n",
    "other = pd.DataFrame({'key': ['K0', 'K1', 'K2'], 'B': ['B0', 'B1', 'B2']})\n",
    "joined_df = df.join(other, lsuffix='leftdf', rsuffix='rightdf')\n",
    "print(joined_df)"
   ]
  },
  {
   "cell_type": "code",
   "execution_count": 23,
   "id": "df72a6b9b1850b8",
   "metadata": {
    "ExecuteTime": {
     "end_time": "2023-08-21T14:47:58.505513Z",
     "start_time": "2023-08-21T14:47:58.488833Z"
    }
   },
   "outputs": [
    {
     "name": "stdout",
     "output_type": "stream",
     "text": [
      "             Name  Order_ID  Order\n",
      "Cust_ID                           \n",
      "101        Olivia       222    789\n",
      "102      Will LLC       223    465\n",
      "103        Sophia       224    675\n",
      "104      Isabella       225    564\n"
     ]
    }
   ],
   "source": [
    "order1 = pd.DataFrame({'Cust_ID':[101,102,103,104],'Name':['Olivia','Will LLC','Sophia','Isabella']})\n",
    "order2 = pd.DataFrame({'Order_ID':[222,223,224,225], 'Cust_ID':[101,102,103,104],'Order':[789,465,675,564]})\n",
    "print(order1.set_index('Cust_ID').join(order2.set_index('Cust_ID'), on='Cust_ID', how='inner'))"
   ]
  },
  {
   "cell_type": "code",
   "execution_count": 24,
   "outputs": [
    {
     "name": "stdout",
     "output_type": "stream",
     "text": [
      "   Cust_ID-customer      Name  Order_ID  Cust_ID-order  Order\n",
      "0               101    Olivia       222            101    789\n",
      "1               102  Will LLC       223            102    465\n",
      "2               103    Sophia       224            103    675\n",
      "3               104  Isabella       225            104    564\n"
     ]
    }
   ],
   "source": [
    "print(order1.join(order2, lsuffix='-customer', rsuffix='-order'))"
   ],
   "metadata": {
    "collapsed": false,
    "ExecuteTime": {
     "end_time": "2023-08-21T14:47:59.058891Z",
     "start_time": "2023-08-21T14:47:59.052781Z"
    }
   },
   "id": "327c1e58a6dd68f5"
  },
  {
   "cell_type": "code",
   "execution_count": 25,
   "outputs": [],
   "source": [
    "df_cust = pd.read_excel('Ecommerce_data.xlsx', sheet_name='Cust_Data')\n",
    "df_order = pd.read_excel('Ecommerce_data.xlsx', sheet_name='Order_Data')"
   ],
   "metadata": {
    "collapsed": false,
    "ExecuteTime": {
     "end_time": "2023-08-21T14:47:59.621864Z",
     "start_time": "2023-08-21T14:47:59.606479Z"
    }
   },
   "id": "fcfb08d4836236c3"
  },
  {
   "cell_type": "code",
   "execution_count": 26,
   "outputs": [
    {
     "name": "stdout",
     "output_type": "stream",
     "text": [
      "  Cust_Id  Age  Gender     City  Ord_Id  Ord_Quantity    Sales Ord_Priority\n",
      "0  Cust_1   35    Male   Mumbai  Ord_10           4.0  3237.00       Medium\n",
      "1  Cust_2   24  Female  Chennai  Ord_14           NaN      NaN          NaN\n",
      "2  Cust_3   40  Female    Delhi  Ord_25           2.0   422.70          Low\n",
      "3  Cust_4   45    Male  Chennai  Ord_29          15.0  4571.79         High\n",
      "4  Cust_5   37    Male   Mumbai  Ord_34           8.0  4233.15          Low\n",
      "5  Cust_6   40  Female   Mumbai  Ord_52           3.0   164.02         High\n"
     ]
    }
   ],
   "source": [
    "print(pd.merge(df_cust, df_order, on='Cust_Id'))"
   ],
   "metadata": {
    "collapsed": false,
    "ExecuteTime": {
     "end_time": "2023-08-21T14:48:00.084913Z",
     "start_time": "2023-08-21T14:48:00.081309Z"
    }
   },
   "id": "68063b1d8111e614"
  },
  {
   "cell_type": "code",
   "execution_count": 27,
   "outputs": [
    {
     "name": "stdout",
     "output_type": "stream",
     "text": [
      "  Cust_Id  Age  Gender     City  Ord_Id  Ord_Quantity    Sales Ord_Priority\n",
      "0  Cust_1   35    Male   Mumbai  Ord_10           4.0  3237.00       Medium\n",
      "1  Cust_2   24  Female  Chennai  Ord_14           NaN      NaN          NaN\n",
      "2  Cust_3   40  Female    Delhi  Ord_25           2.0   422.70          Low\n",
      "3  Cust_4   45    Male  Chennai  Ord_29          15.0  4571.79         High\n",
      "4  Cust_5   37    Male   Mumbai  Ord_34           8.0  4233.15          Low\n",
      "5  Cust_6   40  Female   Mumbai  Ord_52           3.0   164.02         High\n"
     ]
    }
   ],
   "source": [
    "# print(pd.merge(df_cust, df_order, on='Cust_Id', how='outer'))\n",
    "# print(pd.merge(df_cust,df_order,on='Cust_Id',how='right'))\n",
    "print(pd.merge(df_cust,df_order,on='Cust_Id',how='left'))"
   ],
   "metadata": {
    "collapsed": false,
    "ExecuteTime": {
     "end_time": "2023-08-21T14:48:00.774433Z",
     "start_time": "2023-08-21T14:48:00.759806Z"
    }
   },
   "id": "100c61fda3bc0caf"
  },
  {
   "cell_type": "code",
   "execution_count": 28,
   "outputs": [
    {
     "name": "stdout",
     "output_type": "stream",
     "text": [
      "  Cust_Id_x  Age  Gender     City  Ord_Id Cust_Id_y  Ord_Quantity    Sales Ord_Priority\n",
      "0    Cust_1   35    Male   Mumbai  Ord_10    Cust_1           4.0  3237.00       Medium\n",
      "1    Cust_2   24  Female  Chennai  Ord_14    Cust_2           NaN      NaN          NaN\n",
      "2    Cust_3   40  Female    Delhi  Ord_25    Cust_3           2.0   422.70          Low\n",
      "3    Cust_4   45    Male  Chennai  Ord_29    Cust_4          15.0  4571.79         High\n",
      "4    Cust_5   37    Male   Mumbai  Ord_34    Cust_5           8.0  4233.15          Low\n",
      "5    Cust_6   40  Female   Mumbai  Ord_52    Cust_6           3.0   164.02         High\n"
     ]
    }
   ],
   "source": [
    "print(pd.merge(df_cust, df_order, left_index=True, right_index=True))"
   ],
   "metadata": {
    "collapsed": false,
    "ExecuteTime": {
     "end_time": "2023-08-21T14:48:01.843457Z",
     "start_time": "2023-08-21T14:48:01.822152Z"
    }
   },
   "id": "fc5c89865b1701cb"
  },
  {
   "cell_type": "code",
   "execution_count": 29,
   "outputs": [
    {
     "name": "stdout",
     "output_type": "stream",
     "text": [
      "     Name  Salary Gender  Age\n",
      "0    Dima   50000      F   23\n",
      "1   James   45000      M   34\n",
      "2     Mia   51000      F   36\n",
      "3   Emity   60000      F   29\n",
      "4   Roben   41000      M   28\n",
      "5    John   21450      M   25\n",
      "6  Jordan   34000      M   30\n"
     ]
    }
   ],
   "source": [
    "df_emp = pd.DataFrame({'Name': ['Dima', 'James', 'Mia', 'Emity', 'Roben', 'John', 'Jordan'],\n",
    "                'Salary': [50000, 45000, 51000, 60000, 41000, 21450, 34000],\n",
    "                'Gender': ['F', 'M', 'F', 'F', 'M', 'M', 'M'],\n",
    "                'Age': [23, 34, 36, 29, 28, 25, 30]})\n",
    "print(df_emp)"
   ],
   "metadata": {
    "collapsed": false,
    "ExecuteTime": {
     "end_time": "2023-08-21T14:48:02.871717Z",
     "start_time": "2023-08-21T14:48:02.867206Z"
    }
   },
   "id": "c8e65c7707f0c2c8"
  },
  {
   "cell_type": "code",
   "execution_count": 30,
   "outputs": [
    {
     "name": "stdout",
     "output_type": "stream",
     "text": [
      "   Gender variable   value\n",
      "0       F     Name    Dima\n",
      "1       M     Name   James\n",
      "2       F     Name     Mia\n",
      "3       F     Name   Emity\n",
      "4       M     Name   Roben\n",
      "5       M     Name    John\n",
      "6       M     Name  Jordan\n",
      "7       F   Salary   50000\n",
      "8       M   Salary   45000\n",
      "9       F   Salary   51000\n",
      "10      F   Salary   60000\n",
      "11      M   Salary   41000\n",
      "12      M   Salary   21450\n",
      "13      M   Salary   34000\n",
      "14      F      Age      23\n",
      "15      M      Age      34\n",
      "16      F      Age      36\n",
      "17      F      Age      29\n",
      "18      M      Age      28\n",
      "19      M      Age      25\n",
      "20      M      Age      30\n"
     ]
    }
   ],
   "source": [
    "df_melt = df_emp.melt(id_vars=['Gender'])\n",
    "# df_melt = df_emp.melt(id_vars=['Gender'], value_vars='Age')\n",
    "print(df_melt)"
   ],
   "metadata": {
    "collapsed": false,
    "ExecuteTime": {
     "end_time": "2023-08-21T14:48:03.602621Z",
     "start_time": "2023-08-21T14:48:03.587114Z"
    }
   },
   "id": "3cb3213797bf7d51"
  },
  {
   "cell_type": "code",
   "execution_count": 31,
   "outputs": [
    {
     "name": "stdout",
     "output_type": "stream",
     "text": [
      "    Month Store  Sales\n",
      "0     Jan     A  31037\n",
      "1     Jan     B  20722\n",
      "2     Jan     C  24577\n",
      "3     Jan     D  34649\n",
      "4     Jan     E  29795\n",
      "5     Feb     A  29133\n",
      "6     Feb     B  22695\n",
      "7     Feb     C  28312\n",
      "8     Feb     D  31454\n",
      "9     Feb     E  46267\n",
      "10  March     A  32961\n"
     ]
    }
   ],
   "source": [
    "print(df_sales)"
   ],
   "metadata": {
    "collapsed": false,
    "ExecuteTime": {
     "end_time": "2023-08-21T14:48:04.399660Z",
     "start_time": "2023-08-21T14:48:04.386377Z"
    }
   },
   "id": "16a21593934f8c0d"
  },
  {
   "cell_type": "code",
   "execution_count": 32,
   "outputs": [
    {
     "name": "stdout",
     "output_type": "stream",
     "text": [
      "Month      Feb      Jan    March\n",
      "Store                           \n",
      "A      29133.0  31037.0  32961.0\n",
      "B      22695.0  20722.0      NaN\n",
      "C      28312.0  24577.0      NaN\n",
      "D      31454.0  34649.0      NaN\n",
      "E      46267.0  29795.0      NaN\n"
     ]
    }
   ],
   "source": [
    "# print(pd.pivot_table(df_sales, index='Month', values='Sales', aggfunc='sum'))\n",
    "print(pd.pivot_table(df_sales, index='Store', values='Sales', columns='Month', aggfunc='sum'))"
   ],
   "metadata": {
    "collapsed": false,
    "ExecuteTime": {
     "end_time": "2023-08-21T14:48:04.819360Z",
     "start_time": "2023-08-21T14:48:04.808680Z"
    }
   },
   "id": "9425442e1af70fe5"
  },
  {
   "cell_type": "code",
   "execution_count": 33,
   "outputs": [
    {
     "name": "stdout",
     "output_type": "stream",
     "text": [
      "     Car  Sales  Color\n",
      "0    BMW  50000  Black\n",
      "1   Ford  45000   Blue\n",
      "2  Honda  51000   Blue\n",
      "3  Volvo  60000  Black\n",
      "4    BMW  41000   Blue\n",
      "5   Ford  21450  Black\n",
      "6    BMW  34000   Blue\n"
     ]
    }
   ],
   "source": [
    "df_cars = pd.DataFrame({'Car': ['BMW', 'Ford', 'Honda', 'Volvo', 'BMW', 'Ford', 'BMW'],\n",
    "                        'Sales': [50000, 45000, 51000, 60000, 41000, 21450, 34000],\n",
    "                        'Color': ['Black', 'Blue', 'Blue', 'Black', 'Blue' , 'Black', 'Blue']\n",
    "})\n",
    "print(df_cars)"
   ],
   "metadata": {
    "collapsed": false,
    "ExecuteTime": {
     "end_time": "2023-08-21T14:48:05.389149Z",
     "start_time": "2023-08-21T14:48:05.367264Z"
    }
   },
   "id": "81bf938e3b6fe656"
  },
  {
   "cell_type": "code",
   "execution_count": 34,
   "outputs": [
    {
     "name": "stdout",
     "output_type": "stream",
     "text": [
      "Color    Black     Blue\n",
      "Car                    \n",
      "BMW    50000.0  37500.0\n",
      "Ford   21450.0  45000.0\n",
      "Honda      NaN  51000.0\n",
      "Volvo  60000.0      NaN\n"
     ]
    }
   ],
   "source": [
    "# print(pd.crosstab(df_cars.Car, df_cars.Color, rownames=['Car'], colnames=['Color']))\n",
    "print(pd.crosstab(df_cars.Car, df_cars.Color, rownames=['Car'], colnames=['Color'], values=df_cars.Sales, aggfunc='mean'))"
   ],
   "metadata": {
    "collapsed": false,
    "ExecuteTime": {
     "end_time": "2023-08-21T14:48:05.862714Z",
     "start_time": "2023-08-21T14:48:05.856035Z"
    }
   },
   "id": "d8a161eb9e75ec51"
  },
  {
   "cell_type": "code",
   "execution_count": 48,
   "outputs": [
    {
     "name": "stdout",
     "output_type": "stream",
     "text": [
      "   Id     Name  Age  Gender        City\n",
      "0   1  Dakshay   21    Male         NaN\n",
      "1   2   Chitra   22  Female         NaN\n",
      "2   3  Anubhav   20    Male      Mohali\n",
      "3   4     Urja   21  Female  Chandigarh\n",
      "4   1  Dakshay   21    Male         NaN\n",
      "5   2   Chitra   22  Female         NaN\n",
      "6   6  Dakshay   16    Male         NaN\n",
      "7   7   Chitra   17  Female         NaN\n"
     ]
    }
   ],
   "source": [
    "my_data = pd.DataFrame(pd.read_csv('duplicates.csv', header=0))\n",
    "print(my_data)"
   ],
   "metadata": {
    "collapsed": false,
    "ExecuteTime": {
     "end_time": "2023-08-21T14:48:51.700589Z",
     "start_time": "2023-08-21T14:48:51.683972Z"
    }
   },
   "id": "14bdfd6004737f6b"
  },
  {
   "cell_type": "code",
   "execution_count": 36,
   "outputs": [
    {
     "name": "stdout",
     "output_type": "stream",
     "text": [
      "0     True\n",
      "1     True\n",
      "2    False\n",
      "3    False\n",
      "4     True\n",
      "5     True\n",
      "6    False\n",
      "7    False\n",
      "dtype: bool\n"
     ]
    }
   ],
   "source": [
    "print(my_data.duplicated(keep=False))"
   ],
   "metadata": {
    "collapsed": false,
    "ExecuteTime": {
     "end_time": "2023-08-21T14:48:10.140331Z",
     "start_time": "2023-08-21T14:48:10.123655Z"
    }
   },
   "id": "663d3648cfe966cf"
  },
  {
   "cell_type": "code",
   "execution_count": 37,
   "outputs": [
    {
     "name": "stdout",
     "output_type": "stream",
     "text": [
      "   Id     Name  Age  Gender City\n",
      "4   1  Dakshay   21    Male  NaN\n",
      "5   2   Chitra   22  Female  NaN\n"
     ]
    }
   ],
   "source": [
    "print(my_data[my_data.duplicated(keep='first')])"
   ],
   "metadata": {
    "collapsed": false,
    "ExecuteTime": {
     "end_time": "2023-08-21T14:48:11.770423Z",
     "start_time": "2023-08-21T14:48:11.755110Z"
    }
   },
   "id": "38165b355d22b70d"
  },
  {
   "cell_type": "code",
   "execution_count": 38,
   "outputs": [
    {
     "name": "stdout",
     "output_type": "stream",
     "text": [
      "   Id     Name  Age  Gender City\n",
      "1   2   Chitra   22  Female  NaN\n",
      "5   2   Chitra   22  Female  NaN\n",
      "0   1  Dakshay   21    Male  NaN\n",
      "4   1  Dakshay   21    Male  NaN\n"
     ]
    }
   ],
   "source": [
    "# print(my_data[my_data.duplicated(['Age'],keep='first')])\n",
    "# print(my_data[my_data.duplicated(['Name'],keep=False)].sort_values('Name'))\n",
    "print(my_data[my_data.duplicated(['Id','Name'],keep=False)].sort_values('Name'))"
   ],
   "metadata": {
    "collapsed": false,
    "ExecuteTime": {
     "end_time": "2023-08-21T14:48:12.951741Z",
     "start_time": "2023-08-21T14:48:12.938495Z"
    }
   },
   "id": "eacd92c478a9652c"
  },
  {
   "cell_type": "code",
   "execution_count": 39,
   "outputs": [
    {
     "name": "stdout",
     "output_type": "stream",
     "text": [
      "   Id     Name  Age  Gender        City\n",
      "0   1  Dakshay   21    Male         NaN\n",
      "1   2   Chitra   22  Female         NaN\n",
      "2   3  Anubhav   20    Male      Mohali\n",
      "3   4     Urja   21  Female  Chandigarh\n",
      "6   6  Dakshay   16    Male         NaN\n",
      "7   7   Chitra   17  Female         NaN\n"
     ]
    }
   ],
   "source": [
    "my_data_dup = my_data.drop_duplicates()\n",
    "print(my_data_dup)"
   ],
   "metadata": {
    "collapsed": false,
    "ExecuteTime": {
     "end_time": "2023-08-21T14:48:15.085763Z",
     "start_time": "2023-08-21T14:48:15.068963Z"
    }
   },
   "id": "888b262b1f08dd75"
  },
  {
   "cell_type": "code",
   "execution_count": 40,
   "outputs": [
    {
     "name": "stdout",
     "output_type": "stream",
     "text": [
      "   Id     Name  Age  Gender City\n",
      "0   1  Dakshay   21    Male  NaN\n",
      "1   2   Chitra   22  Female  NaN\n",
      "6   6  Dakshay   16    Male  NaN\n",
      "7   7   Chitra   17  Female  NaN\n"
     ]
    }
   ],
   "source": [
    "my_data_dup_col = my_data_dup[my_data_dup.duplicated(['Name'], keep=False)]\n",
    "print(my_data_dup_col)"
   ],
   "metadata": {
    "collapsed": false,
    "ExecuteTime": {
     "end_time": "2023-08-21T14:48:17.075903Z",
     "start_time": "2023-08-21T14:48:17.058027Z"
    }
   },
   "id": "3fc580925c1ec2d7"
  },
  {
   "cell_type": "code",
   "execution_count": 41,
   "outputs": [
    {
     "name": "stdout",
     "output_type": "stream",
     "text": [
      "   Id     Name  Age  Gender City\n",
      "0   1  Dakshay   21    Male  NaN\n",
      "1   2   Chitra   22  Female  NaN\n"
     ]
    }
   ],
   "source": [
    "my_data_drop_col = my_data_dup_col.drop_duplicates(subset=[\"Name\"], keep='first')\n",
    "print(my_data_drop_col)"
   ],
   "metadata": {
    "collapsed": false,
    "ExecuteTime": {
     "end_time": "2023-08-21T14:48:17.779084Z",
     "start_time": "2023-08-21T14:48:17.764182Z"
    }
   },
   "id": "a64e855d426e1898"
  },
  {
   "cell_type": "code",
   "execution_count": 42,
   "outputs": [
    {
     "name": "stdout",
     "output_type": "stream",
     "text": [
      "   Id     Name  Age  Gender        City\n",
      "1   2   Chitra   22  Female         NaN\n",
      "2   3  Anubhav   20    Male      Mohali\n",
      "3   4     Urja   21  Female  Chandigarh\n",
      "4   1  Dakshay   21    Male         NaN\n",
      "5   2   Chitra   22  Female         NaN\n",
      "6   6  Dakshay   16    Male         NaN\n",
      "7   7   Chitra   17  Female         NaN\n"
     ]
    }
   ],
   "source": [
    "print(my_data.drop(index=0))"
   ],
   "metadata": {
    "collapsed": false,
    "ExecuteTime": {
     "end_time": "2023-08-21T14:48:21.404658Z",
     "start_time": "2023-08-21T14:48:21.388303Z"
    }
   },
   "id": "cf68b2f8d21dc487"
  },
  {
   "cell_type": "code",
   "execution_count": 43,
   "outputs": [
    {
     "name": "stdout",
     "output_type": "stream",
     "text": [
      "   Id     Name  Gender        City\n",
      "0   1  Dakshay    Male         NaN\n",
      "1   2   Chitra  Female         NaN\n",
      "2   3  Anubhav    Male      Mohali\n",
      "3   4     Urja  Female  Chandigarh\n",
      "4   1  Dakshay    Male         NaN\n",
      "5   2   Chitra  Female         NaN\n",
      "6   6  Dakshay    Male         NaN\n",
      "7   7   Chitra  Female         NaN\n"
     ]
    }
   ],
   "source": [
    "print(my_data.drop('Age', axis=1))"
   ],
   "metadata": {
    "collapsed": false,
    "ExecuteTime": {
     "end_time": "2023-08-21T14:48:23.490444Z",
     "start_time": "2023-08-21T14:48:23.472388Z"
    }
   },
   "id": "61fe054abe9a4203"
  },
  {
   "cell_type": "code",
   "execution_count": 45,
   "outputs": [
    {
     "name": "stdout",
     "output_type": "stream",
     "text": [
      "   Id     Name  Age  Gender        City\n",
      "0   1  Dakshay   21    Male         NaN\n",
      "1   2   Chitra   22  Female         NaN\n",
      "2   3  Unknown   20    Male      Mohali\n",
      "3   4     Urja   21  Female  Chandigarh\n",
      "4   1  Dakshay   21    Male         NaN\n",
      "5   2   Chitra   22  Female         NaN\n",
      "6   6  Dakshay   16    Male         NaN\n",
      "7   7   Chitra   17  Female         NaN\n"
     ]
    }
   ],
   "source": [
    "my_data = my_data.replace(to_replace='Anubhav', value='Unknown')\n",
    "print(my_data)"
   ],
   "metadata": {
    "collapsed": false,
    "ExecuteTime": {
     "end_time": "2023-08-21T14:48:35.265221Z",
     "start_time": "2023-08-21T14:48:35.248678Z"
    }
   },
   "id": "7e0e300fdf8c2393"
  },
  {
   "cell_type": "code",
   "execution_count": 47,
   "outputs": [
    {
     "name": "stdout",
     "output_type": "stream",
     "text": [
      "   Id     Name  Age  Gender        City\n",
      "0   1  Dakshay   21    Male         NaN\n",
      "1   2   Chitra   22  Female         NaN\n",
      "2   3        ?   20    Male      Mohali\n",
      "3   4        -   21  Female  Chandigarh\n",
      "4   1  Dakshay   21    Male         NaN\n",
      "5   2   Chitra   22  Female         NaN\n",
      "6   6  Dakshay   16    Male         NaN\n",
      "7   7   Chitra   17  Female         NaN\n"
     ]
    }
   ],
   "source": [
    "my_data = my_data.replace(to_replace=['Urja', 'Anubhav'], value=['-','?'])\n",
    "# my_data['Name'] = my_data['Name'].replace(to_replace=['Urja', 'Anubhav'], value=['-','?'])\n",
    "print(my_data)"
   ],
   "metadata": {
    "collapsed": false,
    "ExecuteTime": {
     "end_time": "2023-08-21T14:48:47.517423Z",
     "start_time": "2023-08-21T14:48:47.500330Z"
    }
   },
   "id": "6408a08056adaea6"
  },
  {
   "cell_type": "code",
   "execution_count": 49,
   "outputs": [
    {
     "name": "stdout",
     "output_type": "stream",
     "text": [
      "   Id     Name  Age  Gender        City is_old\n",
      "0   1  Dakshay   21    Male         NaN     No\n",
      "1   2   Chitra   22  Female         NaN    Yes\n",
      "2   3  Anubhav   20    Male      Mohali     No\n",
      "3   4     Urja   21  Female  Chandigarh     No\n",
      "4   1  Dakshay   21    Male         NaN     No\n",
      "5   2   Chitra   22  Female         NaN    Yes\n",
      "6   6  Dakshay   16    Male         NaN     No\n",
      "7   7   Chitra   17  Female         NaN     No\n"
     ]
    }
   ],
   "source": [
    "my_data.loc[my_data['Age'] > 21, \"is_old\"] = \"Yes\"\n",
    "my_data.loc[my_data['Age'] <= 21, \"is_old\"] = \"No\"\n",
    "print(my_data)"
   ],
   "metadata": {
    "collapsed": false,
    "ExecuteTime": {
     "end_time": "2023-08-21T14:48:56.474971Z",
     "start_time": "2023-08-21T14:48:56.458922Z"
    }
   },
   "id": "46f4cb3318059fe9"
  },
  {
   "cell_type": "code",
   "execution_count": 50,
   "outputs": [
    {
     "name": "stdout",
     "output_type": "stream",
     "text": [
      "   Id     Name  Age  Gender        City is_old is_young\n",
      "0   1  Dakshay   21    Male         NaN     No      Yes\n",
      "1   2   Chitra   22  Female         NaN    Yes       No\n",
      "2   3  Anubhav   20    Male      Mohali     No      Yes\n",
      "3   4     Urja   21  Female  Chandigarh     No      Yes\n",
      "4   1  Dakshay   21    Male         NaN     No      Yes\n",
      "5   2   Chitra   22  Female         NaN    Yes       No\n",
      "6   6  Dakshay   16    Male         NaN     No      Yes\n",
      "7   7   Chitra   17  Female         NaN     No      Yes\n"
     ]
    }
   ],
   "source": [
    "my_data['is_young'] = ''\n",
    "my_data['is_young'] = np.where((my_data['Age']<=21), \"Yes\", \"No\")\n",
    "print(my_data)"
   ],
   "metadata": {
    "collapsed": false,
    "ExecuteTime": {
     "end_time": "2023-08-21T14:48:58.758885Z",
     "start_time": "2023-08-21T14:48:58.729710Z"
    }
   },
   "id": "9268125a079a20b1"
  },
  {
   "cell_type": "code",
   "execution_count": 51,
   "outputs": [
    {
     "name": "stdout",
     "output_type": "stream",
     "text": [
      "<class 'pandas.core.groupby.generic.DataFrameGroupBy'>\n",
      "Anubhav\n",
      "   Id     Name  Age Gender    City is_old is_young\n",
      "2   3  Anubhav   20   Male  Mohali     No      Yes\n",
      "Chitra\n",
      "   Id    Name  Age  Gender City is_old is_young\n",
      "1   2  Chitra   22  Female  NaN    Yes       No\n",
      "5   2  Chitra   22  Female  NaN    Yes       No\n",
      "7   7  Chitra   17  Female  NaN     No      Yes\n",
      "Dakshay\n",
      "   Id     Name  Age Gender City is_old is_young\n",
      "0   1  Dakshay   21   Male  NaN     No      Yes\n",
      "4   1  Dakshay   21   Male  NaN     No      Yes\n",
      "6   6  Dakshay   16   Male  NaN     No      Yes\n",
      "Urja\n",
      "   Id  Name  Age  Gender        City is_old is_young\n",
      "3   4  Urja   21  Female  Chandigarh     No      Yes\n"
     ]
    }
   ],
   "source": [
    "# name_grp = my_data.groupby(['Name', 'Age'])\n",
    "name_grp = my_data.groupby('Name')\n",
    "print(type(name_grp))\n",
    "for name, name_df in name_grp:\n",
    "    print(name)\n",
    "    print(name_df)"
   ],
   "metadata": {
    "collapsed": false,
    "ExecuteTime": {
     "end_time": "2023-08-21T14:49:00.652623Z",
     "start_time": "2023-08-21T14:49:00.639132Z"
    }
   },
   "id": "c8341fed5357d334"
  },
  {
   "cell_type": "code",
   "execution_count": 52,
   "outputs": [
    {
     "name": "stdout",
     "output_type": "stream",
     "text": [
      "   Id     Name  Age Gender City is_old is_young\n",
      "0   1  Dakshay   21   Male  NaN     No      Yes\n",
      "4   1  Dakshay   21   Male  NaN     No      Yes\n",
      "6   6  Dakshay   16   Male  NaN     No      Yes\n"
     ]
    }
   ],
   "source": [
    "Dakshay_df = name_grp.get_group('Dakshay')\n",
    "print(Dakshay_df)"
   ],
   "metadata": {
    "collapsed": false,
    "ExecuteTime": {
     "end_time": "2023-08-21T14:49:02.623593Z",
     "start_time": "2023-08-21T14:49:02.605526Z"
    }
   },
   "id": "5057b8d67ca70095"
  },
  {
   "cell_type": "code",
   "execution_count": 53,
   "outputs": [
    {
     "name": "stdout",
     "output_type": "stream",
     "text": [
      "         Id  Age  Gender        City is_old is_young\n",
      "Name                                                \n",
      "Anubhav   3   20    Male      Mohali     No      Yes\n",
      "Chitra    2   17  Female         NaN     No       No\n",
      "Dakshay   1   16    Male         NaN     No      Yes\n",
      "Urja      4   21  Female  Chandigarh     No      Yes\n"
     ]
    }
   ],
   "source": [
    "print(name_grp.min())\n",
    "# print(name_grp.max())\n",
    "# print(name_grp.mean())"
   ],
   "metadata": {
    "collapsed": false,
    "ExecuteTime": {
     "end_time": "2023-08-21T14:49:03.910673Z",
     "start_time": "2023-08-21T14:49:03.900016Z"
    }
   },
   "id": "5f2098ab44408cf2"
  },
  {
   "cell_type": "code",
   "execution_count": 54,
   "outputs": [
    {
     "name": "stdout",
     "output_type": "stream",
     "text": [
      "Name\n",
      "Anubhav    20\n",
      "Chitra     61\n",
      "Dakshay    58\n",
      "Urja       21\n",
      "Name: Age, dtype: int64\n"
     ]
    }
   ],
   "source": [
    "print(my_data.groupby(by='Name')['Age'].sum())"
   ],
   "metadata": {
    "collapsed": false,
    "ExecuteTime": {
     "end_time": "2023-08-21T14:49:05.094629Z",
     "start_time": "2023-08-21T14:49:05.077834Z"
    }
   },
   "id": "e02803b2713ecfdc"
  },
  {
   "cell_type": "code",
   "execution_count": 55,
   "outputs": [
    {
     "name": "stdout",
     "output_type": "stream",
     "text": [
      "        Age    \n",
      "        min max\n",
      "Name           \n",
      "Anubhav  20  20\n",
      "Chitra   17  22\n",
      "Dakshay  16  21\n",
      "Urja     21  21\n"
     ]
    }
   ],
   "source": [
    "print(my_data.groupby(by='Name').agg({'Age':['min','max']}))"
   ],
   "metadata": {
    "collapsed": false,
    "ExecuteTime": {
     "end_time": "2023-08-21T14:49:06.271327Z",
     "start_time": "2023-08-21T14:49:06.256782Z"
    }
   },
   "id": "e984c4ee228f1775"
  },
  {
   "cell_type": "code",
   "execution_count": 56,
   "outputs": [
    {
     "name": "stdout",
     "output_type": "stream",
     "text": [
      "Id          0\n",
      "Name        0\n",
      "Age         0\n",
      "Gender      0\n",
      "City        6\n",
      "is_old      0\n",
      "is_young    0\n",
      "dtype: int64\n"
     ]
    }
   ],
   "source": [
    "print(my_data.isnull().sum())"
   ],
   "metadata": {
    "collapsed": false,
    "ExecuteTime": {
     "end_time": "2023-08-21T14:49:07.185166Z",
     "start_time": "2023-08-21T14:49:07.167182Z"
    }
   },
   "id": "812e87e960a10c73"
  },
  {
   "cell_type": "code",
   "execution_count": 58,
   "outputs": [
    {
     "name": "stdout",
     "output_type": "stream",
     "text": [
      "Index(['City'], dtype='object')\n"
     ]
    }
   ],
   "source": [
    "print(my_data.columns[my_data.isnull().any()])\n",
    "# print(my_data.columns[my_data.isnull().sum()>0])"
   ],
   "metadata": {
    "collapsed": false,
    "ExecuteTime": {
     "end_time": "2023-08-21T14:49:12.925423Z",
     "start_time": "2023-08-21T14:49:12.914232Z"
    }
   },
   "id": "cf611a5ddd0038f8"
  },
  {
   "cell_type": "code",
   "execution_count": 59,
   "outputs": [
    {
     "name": "stdout",
     "output_type": "stream",
     "text": [
      "   Id     Name  Age  Gender        City is_old is_young\n",
      "0   1  Dakshay   21    Male       India     No      Yes\n",
      "1   2   Chitra   22  Female       India    Yes       No\n",
      "2   3  Anubhav   20    Male      Mohali     No      Yes\n",
      "3   4     Urja   21  Female  Chandigarh     No      Yes\n",
      "4   1  Dakshay   21    Male       India     No      Yes\n",
      "5   2   Chitra   22  Female       India    Yes       No\n",
      "6   6  Dakshay   16    Male       India     No      Yes\n",
      "7   7   Chitra   17  Female       India     No      Yes\n"
     ]
    }
   ],
   "source": [
    "my_data['City'].fillna('India', inplace=True)\n",
    "print(my_data)"
   ],
   "metadata": {
    "collapsed": false,
    "ExecuteTime": {
     "end_time": "2023-08-21T14:49:13.885928Z",
     "start_time": "2023-08-21T14:49:13.830616Z"
    }
   },
   "id": "e68c18e4e418f644"
  }
 ],
 "metadata": {
  "kernelspec": {
   "display_name": "Python 3 (ipykernel)",
   "language": "python",
   "name": "python3"
  },
  "language_info": {
   "codemirror_mode": {
    "name": "ipython",
    "version": 3
   },
   "file_extension": ".py",
   "mimetype": "text/x-python",
   "name": "python",
   "nbconvert_exporter": "python",
   "pygments_lexer": "ipython3",
   "version": "3.9.17"
  }
 },
 "nbformat": 4,
 "nbformat_minor": 5
}
