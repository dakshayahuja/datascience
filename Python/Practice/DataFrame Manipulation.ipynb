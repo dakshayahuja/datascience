{
 "cells": [
  {
   "cell_type": "code",
   "execution_count": null,
   "id": "2e3707a9-477e-4256-9db4-21fa43710488",
   "metadata": {
    "tags": []
   },
   "outputs": [],
   "source": [
    "# import numpy as np\n",
    "import pandas as pd\n",
    "pd.set_option('display.width', 1000)"
   ]
  },
  {
   "cell_type": "code",
   "execution_count": null,
   "id": "80081930-3728-4350-a643-5ee000efd94d",
   "metadata": {},
   "outputs": [],
   "source": [
    "data_science = ['Python', 'R', 'Big Data', 'Machine Learning']\n",
    "df = pd.DataFrame(data_science)\n",
    "df"
   ]
  },
  {
   "cell_type": "code",
   "execution_count": null,
   "id": "27152dc630157ce7",
   "metadata": {},
   "outputs": [],
   "source": [
    "store_list = [['Nokia', 30000], ['Samsung', 42000], ['OnePlus', 55000], ['Apple', 92000]]\n",
    "df_list = pd.DataFrame(store_list, columns=['Store', 'Sales'])\n",
    "df_list"
   ]
  },
  {
   "cell_type": "code",
   "execution_count": null,
   "id": "f716b001f7344384",
   "metadata": {},
   "outputs": [],
   "source": [
    "store_data = {'Product': ['Coffee', 'Biscuits', 'Milk', 'Tea'], 'Sales':[5000,3000,2000,4000]}\n",
    "df_dict = pd.DataFrame(store_data)\n",
    "df_dict"
   ]
  },
  {
   "cell_type": "code",
   "execution_count": null,
   "id": "9441678a5c9b9d27",
   "metadata": {},
   "outputs": [],
   "source": [
    "store_data = {'Product': ['Coffee', 'Biscuits', 'Milk', 'Tea'], 'Sales':[5000,3000,2000,4000]}\n",
    "df_dictOfList = pd.DataFrame(store_data, index=['A', 'B', 'C', 'D'])\n",
    "df_dictOfList"
   ]
  },
  {
   "cell_type": "code",
   "execution_count": null,
   "id": "afae8be8194b9b88",
   "metadata": {},
   "outputs": [],
   "source": [
    "store_data = [{'Store-A':1010, 'Store-B':210}, {'Store-A':3105, 'Store-B':4110, 'Store-C':2120}]\n",
    "df_store = pd.DataFrame(store_data)\n",
    "df_store"
   ]
  },
  {
   "cell_type": "code",
   "execution_count": null,
   "id": "a0ae012035bef51d",
   "metadata": {},
   "outputs": [],
   "source": [
    "print(type(df))\n",
    "print(type(df_store['Store-A']))"
   ]
  },
  {
   "cell_type": "code",
   "execution_count": null,
   "id": "78892437acb4da2",
   "metadata": {},
   "outputs": [],
   "source": [
    "df_sales = pd.read_csv(\"bigmarket.csv\")\n",
    "df_sales"
   ]
  },
  {
   "cell_type": "code",
   "execution_count": null,
   "id": "c735e4ca5cb01b08",
   "metadata": {},
   "outputs": [],
   "source": [
    "# print(df_sales.head())\n",
    "# print(df_sales.tail())\n",
    "print(df_sales.shape)\n",
    "print(df_sales.dtypes)\n",
    "print(df_sales.info())"
   ]
  },
  {
   "cell_type": "code",
   "execution_count": null,
   "id": "a5e23afb39b06457",
   "metadata": {},
   "outputs": [],
   "source": [
    "# print(df_sales.iloc[1])\n",
    "# print(df_sales.iloc[0]['Store'])\n",
    "# print(df_sales.iloc[3:6])\n",
    "# print(df_sales.iloc[:, :2])\n",
    "print(df_sales.iloc[:, [0,2]])"
   ]
  },
  {
   "cell_type": "code",
   "execution_count": null,
   "id": "697413d9d132a8a8",
   "metadata": {},
   "outputs": [],
   "source": [
    "# print(df_sales.loc[1]['Sales'])\n",
    "print(df_sales.loc[0:2, ['Store','Sales']])"
   ]
  },
  {
   "cell_type": "code",
   "execution_count": null,
   "id": "cf1f2dfa42c8b8ee",
   "metadata": {},
   "outputs": [],
   "source": [
    "print(df_sales[df_sales.Sales>40000])\n",
    "print(df_sales[df_sales.Sales<25000])"
   ]
  },
  {
   "cell_type": "code",
   "execution_count": null,
   "id": "be120b1d566ca536",
   "metadata": {},
   "outputs": [],
   "source": [
    "df_sales[(df_sales.Month=='Jan') & (df_sales.Sales>30000)]"
   ]
  },
  {
   "cell_type": "code",
   "execution_count": null,
   "id": "9269aacdf7423b57",
   "metadata": {},
   "outputs": [],
   "source": [
    "# print(df_sales.sort_values('Sales'))\n",
    "# print(df_sales.sort_values('Sales', ascending=False))\n",
    "print(df_sales.sort_values(['Store', 'Sales']))"
   ]
  },
  {
   "cell_type": "code",
   "execution_count": null,
   "id": "37d0605082050bc",
   "metadata": {},
   "outputs": [],
   "source": [
    "df_sales[df_sales.Sales>30000].sort_index()"
   ]
  },
  {
   "cell_type": "code",
   "execution_count": null,
   "id": "3431ce278e485ba6",
   "metadata": {},
   "outputs": [],
   "source": [
    "data = {'Name': ['Diana', 'James', 'Mia', 'Emily', 'Ruben', 'John', 'Jordan'],\n",
    "        'Verbal_Score': [151,152,151,156,100,145,155],\n",
    "        'Quantitative_Score': [158,87,100,146,139,129,122],\n",
    "        'Qualify': ['Yes', 'No', 'No', 'Yes', 'No', 'Yes', 'Yes']}\n",
    "df_score = pd.DataFrame(data)\n",
    "df_score"
   ]
  },
  {
   "cell_type": "code",
   "execution_count": null,
   "id": "8062409e4681a8cf",
   "metadata": {},
   "outputs": [],
   "source": [
    "# df_score['Verbal_Rank'] = df_score.Verbal_Score.rank() #by default the method is 'average'\n",
    "# df_score['Verbal_Rank'] = df_score.Verbal_Score.rank(method='min')\n",
    "# df_score['Verbal_Rank'] = df_score.Verbal_Score.rank(method='max')\n",
    "df_score['Verbal_Rank'] = df_score.Verbal_Score.rank(method='dense')\n",
    "df_score"
   ]
  },
  {
   "cell_type": "code",
   "execution_count": null,
   "id": "29ddd9ee9b51fdda",
   "metadata": {},
   "outputs": [],
   "source": [
    "df_sales1 = pd.read_excel('sales-transactions.xlsx', sheet_name='Sheet0')\n",
    "df_sales2 = pd.read_excel('sales-transactions.xlsx', sheet_name='Sheet1')\n",
    "print(df_sales1)\n",
    "print(df_sales2)"
   ]
  },
  {
   "cell_type": "code",
   "execution_count": null,
   "id": "be17e34b6e61ce89",
   "metadata": {},
   "outputs": [],
   "source": [
    "# df_sales = pd.concat([df_sales1, df_sales2])\n",
    "df_sales = pd.concat([df_sales1, df_sales2], ignore_index=True)\n",
    "df_sales"
   ]
  },
  {
   "cell_type": "code",
   "execution_count": null,
   "id": "65f801d6bf81a3fd",
   "metadata": {},
   "outputs": [],
   "source": [
    "df_order1 = pd.read_excel('orders.xlsx', sheet_name='Sheet0')\n",
    "df_order2 = pd.read_excel('orders.xlsx', sheet_name='Sheet1')\n",
    "print(df_order1)\n",
    "print(df_order2)"
   ]
  },
  {
   "cell_type": "code",
   "execution_count": null,
   "id": "4addea6b182ace00",
   "metadata": {},
   "outputs": [],
   "source": [
    "df_orders = pd.concat([df_order1, df_order2], axis=1)\n",
    "df_orders"
   ]
  },
  {
   "cell_type": "code",
   "execution_count": null,
   "id": "b00b511d75357eb7",
   "metadata": {},
   "outputs": [],
   "source": [
    "df = pd.DataFrame({'key': ['K0', 'K1', 'K2', 'K3', 'K4', 'K5'], 'A': ['A0', 'A1', 'A2', 'A3', 'A4', 'A5']})\n",
    "other = pd.DataFrame({'key': ['K0', 'K1', 'K2'], 'B': ['B0', 'B1', 'B2']})\n",
    "joined_df = df.join(other, lsuffix='leftdf', rsuffix='rightdf')\n",
    "joined_df"
   ]
  },
  {
   "cell_type": "code",
   "execution_count": null,
   "id": "df72a6b9b1850b8",
   "metadata": {},
   "outputs": [],
   "source": [
    "order1 = pd.DataFrame({'Cust_ID':[101,102,103,104],'Name':['Olivia','Will LLC','Sophia','Isabella']})\n",
    "order2 = pd.DataFrame({'Order_ID':[222,223,224,225], 'Cust_ID':[101,102,103,104],'Order':[789,465,675,564]})\n",
    "order1.set_index('Cust_ID').join(order2.set_index('Cust_ID'), on='Cust_ID', how='inner')"
   ]
  },
  {
   "cell_type": "code",
   "execution_count": null,
   "outputs": [],
   "source": [
    "order1.join(order2, lsuffix='-customer', rsuffix='-order')"
   ],
   "metadata": {
    "collapsed": false
   },
   "id": "327c1e58a6dd68f5"
  },
  {
   "cell_type": "code",
   "execution_count": 2,
   "outputs": [],
   "source": [
    "df_cust = pd.read_excel('Ecommerce_data.xlsx', sheet_name='Cust_Data')\n",
    "df_order = pd.read_excel('Ecommerce_data.xlsx', sheet_name='Order_Data')"
   ],
   "metadata": {
    "collapsed": false,
    "ExecuteTime": {
     "end_time": "2023-08-21T12:04:13.610667Z",
     "start_time": "2023-08-21T12:04:13.509573Z"
    }
   },
   "id": "fcfb08d4836236c3"
  },
  {
   "cell_type": "code",
   "execution_count": 3,
   "outputs": [
    {
     "data": {
      "text/plain": "  Cust_Id  Age  Gender     City  Ord_Id  Ord_Quantity    Sales Ord_Priority\n0  Cust_1   35    Male   Mumbai  Ord_10           4.0  3237.00       Medium\n1  Cust_2   24  Female  Chennai  Ord_14           NaN      NaN          NaN\n2  Cust_3   40  Female    Delhi  Ord_25           2.0   422.70          Low\n3  Cust_4   45    Male  Chennai  Ord_29          15.0  4571.79         High\n4  Cust_5   37    Male   Mumbai  Ord_34           8.0  4233.15          Low\n5  Cust_6   40  Female   Mumbai  Ord_52           3.0   164.02         High",
      "text/html": "<div>\n<style scoped>\n    .dataframe tbody tr th:only-of-type {\n        vertical-align: middle;\n    }\n\n    .dataframe tbody tr th {\n        vertical-align: top;\n    }\n\n    .dataframe thead th {\n        text-align: right;\n    }\n</style>\n<table border=\"1\" class=\"dataframe\">\n  <thead>\n    <tr style=\"text-align: right;\">\n      <th></th>\n      <th>Cust_Id</th>\n      <th>Age</th>\n      <th>Gender</th>\n      <th>City</th>\n      <th>Ord_Id</th>\n      <th>Ord_Quantity</th>\n      <th>Sales</th>\n      <th>Ord_Priority</th>\n    </tr>\n  </thead>\n  <tbody>\n    <tr>\n      <th>0</th>\n      <td>Cust_1</td>\n      <td>35</td>\n      <td>Male</td>\n      <td>Mumbai</td>\n      <td>Ord_10</td>\n      <td>4.0</td>\n      <td>3237.00</td>\n      <td>Medium</td>\n    </tr>\n    <tr>\n      <th>1</th>\n      <td>Cust_2</td>\n      <td>24</td>\n      <td>Female</td>\n      <td>Chennai</td>\n      <td>Ord_14</td>\n      <td>NaN</td>\n      <td>NaN</td>\n      <td>NaN</td>\n    </tr>\n    <tr>\n      <th>2</th>\n      <td>Cust_3</td>\n      <td>40</td>\n      <td>Female</td>\n      <td>Delhi</td>\n      <td>Ord_25</td>\n      <td>2.0</td>\n      <td>422.70</td>\n      <td>Low</td>\n    </tr>\n    <tr>\n      <th>3</th>\n      <td>Cust_4</td>\n      <td>45</td>\n      <td>Male</td>\n      <td>Chennai</td>\n      <td>Ord_29</td>\n      <td>15.0</td>\n      <td>4571.79</td>\n      <td>High</td>\n    </tr>\n    <tr>\n      <th>4</th>\n      <td>Cust_5</td>\n      <td>37</td>\n      <td>Male</td>\n      <td>Mumbai</td>\n      <td>Ord_34</td>\n      <td>8.0</td>\n      <td>4233.15</td>\n      <td>Low</td>\n    </tr>\n    <tr>\n      <th>5</th>\n      <td>Cust_6</td>\n      <td>40</td>\n      <td>Female</td>\n      <td>Mumbai</td>\n      <td>Ord_52</td>\n      <td>3.0</td>\n      <td>164.02</td>\n      <td>High</td>\n    </tr>\n  </tbody>\n</table>\n</div>"
     },
     "execution_count": 3,
     "metadata": {},
     "output_type": "execute_result"
    }
   ],
   "source": [
    "pd.merge(df_cust, df_order, on='Cust_Id')"
   ],
   "metadata": {
    "collapsed": false,
    "ExecuteTime": {
     "end_time": "2023-08-21T12:04:14.516235Z",
     "start_time": "2023-08-21T12:04:14.505684Z"
    }
   },
   "id": "68063b1d8111e614"
  },
  {
   "cell_type": "code",
   "execution_count": 6,
   "outputs": [
    {
     "data": {
      "text/plain": "  Cust_Id  Age  Gender     City  Ord_Id  Ord_Quantity    Sales Ord_Priority\n0  Cust_1   35    Male   Mumbai  Ord_10           4.0  3237.00       Medium\n1  Cust_2   24  Female  Chennai  Ord_14           NaN      NaN          NaN\n2  Cust_3   40  Female    Delhi  Ord_25           2.0   422.70          Low\n3  Cust_4   45    Male  Chennai  Ord_29          15.0  4571.79         High\n4  Cust_5   37    Male   Mumbai  Ord_34           8.0  4233.15          Low\n5  Cust_6   40  Female   Mumbai  Ord_52           3.0   164.02         High",
      "text/html": "<div>\n<style scoped>\n    .dataframe tbody tr th:only-of-type {\n        vertical-align: middle;\n    }\n\n    .dataframe tbody tr th {\n        vertical-align: top;\n    }\n\n    .dataframe thead th {\n        text-align: right;\n    }\n</style>\n<table border=\"1\" class=\"dataframe\">\n  <thead>\n    <tr style=\"text-align: right;\">\n      <th></th>\n      <th>Cust_Id</th>\n      <th>Age</th>\n      <th>Gender</th>\n      <th>City</th>\n      <th>Ord_Id</th>\n      <th>Ord_Quantity</th>\n      <th>Sales</th>\n      <th>Ord_Priority</th>\n    </tr>\n  </thead>\n  <tbody>\n    <tr>\n      <th>0</th>\n      <td>Cust_1</td>\n      <td>35</td>\n      <td>Male</td>\n      <td>Mumbai</td>\n      <td>Ord_10</td>\n      <td>4.0</td>\n      <td>3237.00</td>\n      <td>Medium</td>\n    </tr>\n    <tr>\n      <th>1</th>\n      <td>Cust_2</td>\n      <td>24</td>\n      <td>Female</td>\n      <td>Chennai</td>\n      <td>Ord_14</td>\n      <td>NaN</td>\n      <td>NaN</td>\n      <td>NaN</td>\n    </tr>\n    <tr>\n      <th>2</th>\n      <td>Cust_3</td>\n      <td>40</td>\n      <td>Female</td>\n      <td>Delhi</td>\n      <td>Ord_25</td>\n      <td>2.0</td>\n      <td>422.70</td>\n      <td>Low</td>\n    </tr>\n    <tr>\n      <th>3</th>\n      <td>Cust_4</td>\n      <td>45</td>\n      <td>Male</td>\n      <td>Chennai</td>\n      <td>Ord_29</td>\n      <td>15.0</td>\n      <td>4571.79</td>\n      <td>High</td>\n    </tr>\n    <tr>\n      <th>4</th>\n      <td>Cust_5</td>\n      <td>37</td>\n      <td>Male</td>\n      <td>Mumbai</td>\n      <td>Ord_34</td>\n      <td>8.0</td>\n      <td>4233.15</td>\n      <td>Low</td>\n    </tr>\n    <tr>\n      <th>5</th>\n      <td>Cust_6</td>\n      <td>40</td>\n      <td>Female</td>\n      <td>Mumbai</td>\n      <td>Ord_52</td>\n      <td>3.0</td>\n      <td>164.02</td>\n      <td>High</td>\n    </tr>\n  </tbody>\n</table>\n</div>"
     },
     "execution_count": 6,
     "metadata": {},
     "output_type": "execute_result"
    }
   ],
   "source": [
    "# pd.merge(df_cust, df_order, on='Cust_Id', how='outer')\n",
    "# pd.merge(df_cust,df_order,on='Cust_Id',how='right')\n",
    "pd.merge(df_cust,df_order,on='Cust_Id',how='left')"
   ],
   "metadata": {
    "collapsed": false,
    "ExecuteTime": {
     "end_time": "2023-08-21T12:05:46.496918Z",
     "start_time": "2023-08-21T12:05:46.482451Z"
    }
   },
   "id": "100c61fda3bc0caf"
  },
  {
   "cell_type": "code",
   "execution_count": 7,
   "outputs": [
    {
     "data": {
      "text/plain": "  Cust_Id_x  Age  Gender     City  Ord_Id Cust_Id_y  Ord_Quantity    Sales Ord_Priority\n0    Cust_1   35    Male   Mumbai  Ord_10    Cust_1           4.0  3237.00       Medium\n1    Cust_2   24  Female  Chennai  Ord_14    Cust_2           NaN      NaN          NaN\n2    Cust_3   40  Female    Delhi  Ord_25    Cust_3           2.0   422.70          Low\n3    Cust_4   45    Male  Chennai  Ord_29    Cust_4          15.0  4571.79         High\n4    Cust_5   37    Male   Mumbai  Ord_34    Cust_5           8.0  4233.15          Low\n5    Cust_6   40  Female   Mumbai  Ord_52    Cust_6           3.0   164.02         High",
      "text/html": "<div>\n<style scoped>\n    .dataframe tbody tr th:only-of-type {\n        vertical-align: middle;\n    }\n\n    .dataframe tbody tr th {\n        vertical-align: top;\n    }\n\n    .dataframe thead th {\n        text-align: right;\n    }\n</style>\n<table border=\"1\" class=\"dataframe\">\n  <thead>\n    <tr style=\"text-align: right;\">\n      <th></th>\n      <th>Cust_Id_x</th>\n      <th>Age</th>\n      <th>Gender</th>\n      <th>City</th>\n      <th>Ord_Id</th>\n      <th>Cust_Id_y</th>\n      <th>Ord_Quantity</th>\n      <th>Sales</th>\n      <th>Ord_Priority</th>\n    </tr>\n  </thead>\n  <tbody>\n    <tr>\n      <th>0</th>\n      <td>Cust_1</td>\n      <td>35</td>\n      <td>Male</td>\n      <td>Mumbai</td>\n      <td>Ord_10</td>\n      <td>Cust_1</td>\n      <td>4.0</td>\n      <td>3237.00</td>\n      <td>Medium</td>\n    </tr>\n    <tr>\n      <th>1</th>\n      <td>Cust_2</td>\n      <td>24</td>\n      <td>Female</td>\n      <td>Chennai</td>\n      <td>Ord_14</td>\n      <td>Cust_2</td>\n      <td>NaN</td>\n      <td>NaN</td>\n      <td>NaN</td>\n    </tr>\n    <tr>\n      <th>2</th>\n      <td>Cust_3</td>\n      <td>40</td>\n      <td>Female</td>\n      <td>Delhi</td>\n      <td>Ord_25</td>\n      <td>Cust_3</td>\n      <td>2.0</td>\n      <td>422.70</td>\n      <td>Low</td>\n    </tr>\n    <tr>\n      <th>3</th>\n      <td>Cust_4</td>\n      <td>45</td>\n      <td>Male</td>\n      <td>Chennai</td>\n      <td>Ord_29</td>\n      <td>Cust_4</td>\n      <td>15.0</td>\n      <td>4571.79</td>\n      <td>High</td>\n    </tr>\n    <tr>\n      <th>4</th>\n      <td>Cust_5</td>\n      <td>37</td>\n      <td>Male</td>\n      <td>Mumbai</td>\n      <td>Ord_34</td>\n      <td>Cust_5</td>\n      <td>8.0</td>\n      <td>4233.15</td>\n      <td>Low</td>\n    </tr>\n    <tr>\n      <th>5</th>\n      <td>Cust_6</td>\n      <td>40</td>\n      <td>Female</td>\n      <td>Mumbai</td>\n      <td>Ord_52</td>\n      <td>Cust_6</td>\n      <td>3.0</td>\n      <td>164.02</td>\n      <td>High</td>\n    </tr>\n  </tbody>\n</table>\n</div>"
     },
     "execution_count": 7,
     "metadata": {},
     "output_type": "execute_result"
    }
   ],
   "source": [
    "pd.merge(df_cust, df_order, left_index=True, right_index=True)"
   ],
   "metadata": {
    "collapsed": false,
    "ExecuteTime": {
     "end_time": "2023-08-21T12:07:32.263449Z",
     "start_time": "2023-08-21T12:07:32.249975Z"
    }
   },
   "id": "fc5c89865b1701cb"
  },
  {
   "cell_type": "code",
   "execution_count": null,
   "outputs": [],
   "source": [],
   "metadata": {
    "collapsed": false
   },
   "id": "c8e65c7707f0c2c8"
  }
 ],
 "metadata": {
  "kernelspec": {
   "display_name": "Python 3 (ipykernel)",
   "language": "python",
   "name": "python3"
  },
  "language_info": {
   "codemirror_mode": {
    "name": "ipython",
    "version": 3
   },
   "file_extension": ".py",
   "mimetype": "text/x-python",
   "name": "python",
   "nbconvert_exporter": "python",
   "pygments_lexer": "ipython3",
   "version": "3.9.17"
  }
 },
 "nbformat": 4,
 "nbformat_minor": 5
}
