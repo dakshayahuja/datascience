{
 "cells": [
  {
   "cell_type": "code",
   "execution_count": 64,
   "id": "bc4c57eb",
   "metadata": {},
   "outputs": [
    {
     "data": {
      "text/plain": [
       "'y'"
      ]
     },
     "execution_count": 64,
     "metadata": {},
     "output_type": "execute_result"
    }
   ],
   "source": [
    "text = \"Hello Dakshay\"\n",
    "text[::-1][0]"
   ]
  },
  {
   "cell_type": "code",
   "execution_count": 65,
   "id": "7611ee7c",
   "metadata": {},
   "outputs": [
    {
     "data": {
      "text/plain": [
       "'Hello D!ksh!y'"
      ]
     },
     "execution_count": 65,
     "metadata": {},
     "output_type": "execute_result"
    }
   ],
   "source": [
    "text.replace('a', '!')"
   ]
  },
  {
   "cell_type": "code",
   "execution_count": 66,
   "id": "cd082917",
   "metadata": {},
   "outputs": [
    {
     "name": "stdout",
     "output_type": "stream",
     "text": [
      "HELLO DAKSHAY\n",
      "Hello Dakshay\n",
      "hello dakshay\n"
     ]
    }
   ],
   "source": [
    "print(text.upper())\n",
    "print(text.title())\n",
    "print(text.lower())"
   ]
  },
  {
   "cell_type": "code",
   "execution_count": 67,
   "id": "76034ecc",
   "metadata": {},
   "outputs": [
    {
     "data": {
      "text/plain": [
       "'24/12/2001'"
      ]
     },
     "execution_count": 67,
     "metadata": {},
     "output_type": "execute_result"
    }
   ],
   "source": [
    "date = \"24\", \"12\", \"2001\"\n",
    "sep = \"/\"\n",
    "sep.join(date)"
   ]
  },
  {
   "cell_type": "code",
   "execution_count": 68,
   "id": "a690823f",
   "metadata": {},
   "outputs": [
    {
     "data": {
      "text/plain": [
       "'Hello()Dakshay()Ahuja'"
      ]
     },
     "execution_count": 68,
     "metadata": {},
     "output_type": "execute_result"
    }
   ],
   "source": [
    "x = \"Hello\", \"Dakshay\", \"Ahuja\"\n",
    "sep = \"()\"\n",
    "sep.join(x)"
   ]
  },
  {
   "cell_type": "code",
   "execution_count": 69,
   "id": "b0b4e394",
   "metadata": {},
   "outputs": [
    {
     "data": {
      "text/plain": [
       "'Dakshay Ahuja'"
      ]
     },
     "execution_count": 69,
     "metadata": {},
     "output_type": "execute_result"
    }
   ],
   "source": [
    "a = \"%%%%Dakshay Ahuja%%%%\"\n",
    "a.strip('%')"
   ]
  },
  {
   "cell_type": "code",
   "execution_count": 71,
   "id": "01673c3c",
   "metadata": {},
   "outputs": [
    {
     "name": "stdout",
     "output_type": "stream",
     "text": [
      "[1, 2, 3, 4, 5]\n"
     ]
    },
    {
     "data": {
      "text/plain": [
       "list"
      ]
     },
     "execution_count": 71,
     "metadata": {},
     "output_type": "execute_result"
    }
   ],
   "source": [
    "list1 = [1,2,3,4,5]\n",
    "print(list1)\n",
    "type(list1)"
   ]
  },
  {
   "cell_type": "code",
   "execution_count": 74,
   "id": "7849b3be",
   "metadata": {},
   "outputs": [
    {
     "name": "stdout",
     "output_type": "stream",
     "text": [
      "[1, 2, 3, 4, 5, 6, 7, 8, 9]\n"
     ]
    }
   ],
   "source": [
    "list2 = [6,7,8,9]\n",
    "list3 = list1+list2\n",
    "print(list3)"
   ]
  },
  {
   "cell_type": "code",
   "execution_count": 84,
   "id": "5f7b1af1",
   "metadata": {},
   "outputs": [
    {
     "name": "stdout",
     "output_type": "stream",
     "text": [
      "[1, 2, 3, 4, 5, 6, 7, 8, 9, 10]\n"
     ]
    }
   ],
   "source": [
    "list3.append(10)\n",
    "print(list3)"
   ]
  },
  {
   "cell_type": "code",
   "execution_count": 93,
   "id": "a69d073f",
   "metadata": {},
   "outputs": [
    {
     "name": "stdout",
     "output_type": "stream",
     "text": [
      "[20, 10, 7, 4, 3, 1]\n",
      "[1, 3, 4, 7, 10, 20]\n"
     ]
    }
   ],
   "source": [
    "prices = [4,1,10,7,3,20]\n",
    "# prices.sort()\n",
    "prices.sort(reverse=True)\n",
    "sorted_prices=sorted(prices)\n",
    "print(prices)\n",
    "print(sorted_prices)"
   ]
  },
  {
   "cell_type": "code",
   "execution_count": 95,
   "id": "310905f0",
   "metadata": {},
   "outputs": [
    {
     "name": "stdout",
     "output_type": "stream",
     "text": [
      "False\n"
     ]
    }
   ],
   "source": [
    "print(5 in prices)"
   ]
  },
  {
   "cell_type": "code",
   "execution_count": 98,
   "id": "9a4578d8",
   "metadata": {},
   "outputs": [
    {
     "data": {
      "text/plain": [
       "[]"
      ]
     },
     "execution_count": 98,
     "metadata": {},
     "output_type": "execute_result"
    }
   ],
   "source": [
    "# max(prices)\n",
    "# min(prices)\n",
    "prices.clear()\n",
    "prices"
   ]
  },
  {
   "cell_type": "code",
   "execution_count": 103,
   "id": "42277007",
   "metadata": {},
   "outputs": [
    {
     "name": "stdout",
     "output_type": "stream",
     "text": [
      "[1, 2, 3, 4]\n",
      "[1, 2, 3, 4]\n",
      "[100, 2, 3, 4]\n",
      "[100, 2, 3, 4]\n"
     ]
    }
   ],
   "source": [
    "l1 = [1,2,3,4]\n",
    "l2 = l1\n",
    "print(l1)\n",
    "print(l2)\n",
    "l2[0] = 100\n",
    "print(l1)\n",
    "print(l2)"
   ]
  },
  {
   "cell_type": "code",
   "execution_count": 104,
   "id": "72075b53",
   "metadata": {},
   "outputs": [
    {
     "name": "stdout",
     "output_type": "stream",
     "text": [
      "[1, 2, 3, 4]\n",
      "[1, 2, 3, 4]\n",
      "[1, 2, 3, 4]\n",
      "[100, 2, 3, 4]\n"
     ]
    }
   ],
   "source": [
    "l1 = [1,2,3,4]\n",
    "l2 = l1.copy()\n",
    "print(l1)\n",
    "print(l2)\n",
    "l2[0] = 100\n",
    "print(l1)\n",
    "print(l2)"
   ]
  },
  {
   "cell_type": "code",
   "execution_count": 105,
   "id": "2bc7f0cc",
   "metadata": {},
   "outputs": [
    {
     "name": "stdout",
     "output_type": "stream",
     "text": [
      "[[1, 2, 3], [4, 5, 6]]\n",
      "[[1, 2, 3], [4, 5, 6]]\n",
      "[[1, 2, 3], [999, 5, 6]]\n",
      "[[1, 2, 3], [999, 5, 6]]\n",
      "4435815168\n",
      "4435814400\n",
      "4435814272\n",
      "4435814272\n"
     ]
    }
   ],
   "source": [
    "l1 = [[1,2,3],[4,5,6]]\n",
    "l2 = l1.copy()\n",
    "print(l1)\n",
    "print(l2)\n",
    "l2[1][0] = 999\n",
    "print(l1)\n",
    "print(l2)\n",
    "\n",
    "print(id(l1))\n",
    "print(id(l2))\n",
    "print(id(l1[0]))\n",
    "print(id(l2[0]))"
   ]
  },
  {
   "cell_type": "code",
   "execution_count": 106,
   "id": "9600767d",
   "metadata": {},
   "outputs": [
    {
     "name": "stdout",
     "output_type": "stream",
     "text": [
      "[[1, 2, 3], [4, 5, 6]]\n",
      "[[1, 2, 3], [4, 5, 6]]\n",
      "[[1, 2, 3], [4, 5, 6]]\n",
      "[[1, 2, 3], [999, 5, 6]]\n",
      "4435713024\n",
      "4435960128\n",
      "4435886144\n",
      "4435949248\n"
     ]
    }
   ],
   "source": [
    "import copy\n",
    "l1 = [[1,2,3],[4,5,6]]\n",
    "l2 = copy.deepcopy(l1)\n",
    "print(l1)\n",
    "print(l2)\n",
    "l2[1][0] = 999\n",
    "print(l1)\n",
    "print(l2)\n",
    "\n",
    "print(id(l1))\n",
    "print(id(l2))\n",
    "print(id(l1[0]))\n",
    "print(id(l2[0]))"
   ]
  },
  {
   "cell_type": "code",
   "execution_count": 116,
   "id": "adfca5d3",
   "metadata": {},
   "outputs": [
    {
     "name": "stdout",
     "output_type": "stream",
     "text": [
      "3\n",
      "['a', 'b', 'c', 'a', 'a', 'f', 'g', 'h', 'f']\n",
      "2\n"
     ]
    }
   ],
   "source": [
    "list1 = ['a','b','c','a','a']\n",
    "print(list1.count('a'))\n",
    "list2 = ['f','g','h','f']\n",
    "list1.extend(list2)\n",
    "print(list1)\n",
    "print(list1.index('c'))"
   ]
  },
  {
   "cell_type": "code",
   "execution_count": 118,
   "id": "411648a8",
   "metadata": {},
   "outputs": [
    {
     "data": {
      "text/plain": [
       "['a', 'hello', 'hello', 'b', 'c', 'a', 'a', 'f', 'g', 'h', 'f']"
      ]
     },
     "execution_count": 118,
     "metadata": {},
     "output_type": "execute_result"
    }
   ],
   "source": [
    "list1.insert(1,'hello')\n",
    "list1"
   ]
  },
  {
   "cell_type": "code",
   "execution_count": 119,
   "id": "2f4f60b2",
   "metadata": {},
   "outputs": [
    {
     "data": {
      "text/plain": [
       "['a', 'hello', 'b', 'c', 'a', 'a', 'f', 'g', 'h', 'f']"
      ]
     },
     "execution_count": 119,
     "metadata": {},
     "output_type": "execute_result"
    }
   ],
   "source": [
    "list1.remove('hello')\n",
    "list1"
   ]
  },
  {
   "cell_type": "code",
   "execution_count": 122,
   "id": "89e85606",
   "metadata": {},
   "outputs": [
    {
     "data": {
      "text/plain": [
       "['f', 'h', 'g', 'f', 'a', 'a', 'c', 'b', 'hello', 'a']"
      ]
     },
     "execution_count": 122,
     "metadata": {},
     "output_type": "execute_result"
    }
   ],
   "source": [
    "list1.reverse()\n",
    "list1"
   ]
  },
  {
   "cell_type": "code",
   "execution_count": 130,
   "id": "6f3f3656",
   "metadata": {},
   "outputs": [
    {
     "data": {
      "text/plain": [
       "['g', 'f', 'a', 'a', 'c', 'b', 'hello']"
      ]
     },
     "execution_count": 130,
     "metadata": {},
     "output_type": "execute_result"
    }
   ],
   "source": [
    "list1[2:-1]"
   ]
  },
  {
   "cell_type": "code",
   "execution_count": 134,
   "id": "dd1dd26c",
   "metadata": {},
   "outputs": [
    {
     "name": "stdout",
     "output_type": "stream",
     "text": [
      "(1, 2, 3, 4, 5)\n"
     ]
    },
    {
     "data": {
      "text/plain": [
       "tuple"
      ]
     },
     "execution_count": 134,
     "metadata": {},
     "output_type": "execute_result"
    }
   ],
   "source": [
    "tup1 = (1,2,3,4,5)\n",
    "print(tup1)\n",
    "type(tup1)"
   ]
  },
  {
   "cell_type": "code",
   "execution_count": 136,
   "id": "c0afd46a",
   "metadata": {},
   "outputs": [
    {
     "data": {
      "text/plain": [
       "tuple"
      ]
     },
     "execution_count": 136,
     "metadata": {},
     "output_type": "execute_result"
    }
   ],
   "source": [
    "tup2 = 'hello', 'dakshay', 'ahuja'\n",
    "type(tup2)"
   ]
  },
  {
   "cell_type": "code",
   "execution_count": 138,
   "id": "dc81cfc4",
   "metadata": {},
   "outputs": [
    {
     "data": {
      "text/plain": [
       "[5, 4, 3, 2, 1]"
      ]
     },
     "execution_count": 138,
     "metadata": {},
     "output_type": "execute_result"
    }
   ],
   "source": [
    "sorted(tup1, reverse=True)"
   ]
  },
  {
   "cell_type": "code",
   "execution_count": 140,
   "id": "8cb25360",
   "metadata": {},
   "outputs": [
    {
     "name": "stdout",
     "output_type": "stream",
     "text": [
      "('hello', 'dakshay', 'ahuja', 'hello', 'dakshay', 'ahuja')\n",
      "True\n"
     ]
    }
   ],
   "source": [
    "tup3 = tup2 * 2\n",
    "print(tup3)\n",
    "print('dakshay' in tup3)"
   ]
  },
  {
   "cell_type": "code",
   "execution_count": 1,
   "id": "47331307",
   "metadata": {},
   "outputs": [
    {
     "ename": "SyntaxError",
     "evalue": "invalid character '😠' (U+1F620) (863914904.py, line 2)",
     "output_type": "error",
     "traceback": [
      "\u001b[0;36m  Cell \u001b[0;32mIn[1], line 2\u001b[0;36m\u001b[0m\n\u001b[0;31m    print(ite😠m)\u001b[0m\n\u001b[0m             ^\u001b[0m\n\u001b[0;31mSyntaxError\u001b[0m\u001b[0;31m:\u001b[0m invalid character '😠' (U+1F620)\n"
     ]
    }
   ],
   "source": [
    "for item in tup3:\n",
    "    print(item)"
   ]
  },
  {
   "cell_type": "code",
   "execution_count": 146,
   "id": "23ab8349",
   "metadata": {},
   "outputs": [
    {
     "name": "stdout",
     "output_type": "stream",
     "text": [
      "5\n",
      "6\n",
      "5\n",
      "1\n"
     ]
    }
   ],
   "source": [
    "print(len(tup1))\n",
    "print(len(tup3))\n",
    "print(max(tup1))\n",
    "print(min(tup1))"
   ]
  },
  {
   "cell_type": "code",
   "execution_count": 151,
   "id": "5fd126d2",
   "metadata": {},
   "outputs": [
    {
     "name": "stdout",
     "output_type": "stream",
     "text": [
      "(1, 2, 3, 4, [5, 6, 7])\n",
      "(1, 2, 3, 4, [5, 6, 7, 100])\n",
      "(1, 2, 3, 4, [6, 7, 100])\n"
     ]
    }
   ],
   "source": [
    "tup4 = (1,2,3,4,[5,6,7])\n",
    "print(tup4)\n",
    "tup4[4].append(100)\n",
    "print(tup4)\n",
    "tup4[4].remove(5)\n",
    "print(tup4)"
   ]
  },
  {
   "cell_type": "code",
   "execution_count": 156,
   "id": "9e03f4e7",
   "metadata": {},
   "outputs": [
    {
     "name": "stdout",
     "output_type": "stream",
     "text": [
      "(3, 4, [6, 7, 100])\n",
      "([6, 7, 100], 4, 3, 2, 1)\n"
     ]
    }
   ],
   "source": [
    "print(tup4[2:5])\n",
    "print(tup4[::-1])"
   ]
  },
  {
   "cell_type": "code",
   "execution_count": 160,
   "id": "ec7d7dc5",
   "metadata": {},
   "outputs": [
    {
     "name": "stdout",
     "output_type": "stream",
     "text": [
      "{'a': 1, 'b': 2, 'c': 3, 'd': 4}\n"
     ]
    }
   ],
   "source": [
    "dict1 = {'a':1, 'b':2, 'c':3}\n",
    "dict1['d'] = 4\n",
    "print(dict1)"
   ]
  },
  {
   "cell_type": "code",
   "execution_count": 163,
   "id": "a2fc4143",
   "metadata": {},
   "outputs": [
    {
     "name": "stdout",
     "output_type": "stream",
     "text": [
      "{'a': 1, 'b': 2, 'd': 4}\n"
     ]
    }
   ],
   "source": [
    "del dict1['c']\n",
    "print(dict1)"
   ]
  },
  {
   "cell_type": "code",
   "execution_count": 167,
   "id": "cb722e67",
   "metadata": {},
   "outputs": [
    {
     "name": "stdout",
     "output_type": "stream",
     "text": [
      "{'can': 6, 'you': 1, 'a': 3, 'as': 1, 'canner': 1}\n"
     ]
    }
   ],
   "source": [
    "twister = \"can you can a can as a canner can can a can\"\n",
    "word_count = {}\n",
    "for word in twister.split():\n",
    "    if word not in word_count:\n",
    "        word_count[word]=1\n",
    "    else:\n",
    "        word_count[word]+=1\n",
    "print(word_count)"
   ]
  },
  {
   "cell_type": "code",
   "execution_count": 170,
   "id": "723cc8d4",
   "metadata": {},
   "outputs": [
    {
     "name": "stdout",
     "output_type": "stream",
     "text": [
      "defaultdict(<class 'int'>, {'can': 6, 'you': 1, 'a': 3, 'as': 1, 'canner': 1})\n",
      "can 6\n",
      "you 1\n",
      "a 3\n",
      "as 1\n",
      "canner 1\n"
     ]
    }
   ],
   "source": [
    "from collections import defaultdict\n",
    "twister = \"can you can a can as a canner can can a can\"\n",
    "word_count = defaultdict(int)\n",
    "for word in twister.split():\n",
    "    word_count[word] += 1\n",
    "print(word_count)\n",
    "\n",
    "for key,value in word_count.items():\n",
    "    print(key, value)"
   ]
  },
  {
   "cell_type": "code",
   "execution_count": 177,
   "id": "75c5a0e9",
   "metadata": {},
   "outputs": [
    {
     "name": "stdout",
     "output_type": "stream",
     "text": [
      "5\n",
      "defaultdict(<class 'int'>, {'can': 6, 'you': 1, 'a': 3, 'as': 1, 'canner': 1})\n",
      "<class 'collections.defaultdict'>\n"
     ]
    }
   ],
   "source": [
    "print(len(word_count))\n",
    "print(str(word_count))\n",
    "print(type(word_count))"
   ]
  },
  {
   "cell_type": "code",
   "execution_count": 181,
   "id": "5b268fc6",
   "metadata": {},
   "outputs": [
    {
     "name": "stdout",
     "output_type": "stream",
     "text": [
      "{}\n",
      "{'Salt': 2, 'Soap': 4, 'Juice': 9}\n"
     ]
    }
   ],
   "source": [
    "items_purchased = {'Salt': 2, 'Soap': 4, 'Juice': 9}\n",
    "items_purchased_copy = items_purchased.copy()\n",
    "items_purchased.clear()\n",
    "print(items_purchased)\n",
    "print(items_purchased_copy)"
   ]
  },
  {
   "cell_type": "code",
   "execution_count": 185,
   "id": "9ea91281",
   "metadata": {},
   "outputs": [
    {
     "name": "stdout",
     "output_type": "stream",
     "text": [
      "dict_keys(['Salt', 'Soap', 'Juice'])\n",
      "dict_values([2, 4, 9])\n",
      "dict_items([('Salt', 2), ('Soap', 4), ('Juice', 9)])\n"
     ]
    }
   ],
   "source": [
    "items_purchased = {'Salt': 2, 'Soap': 4, 'Juice': 9}\n",
    "print(items_purchased.keys())\n",
    "print(items_purchased.values())\n",
    "print(items_purchased.items())"
   ]
  },
  {
   "cell_type": "code",
   "execution_count": 187,
   "id": "00597c60",
   "metadata": {},
   "outputs": [
    {
     "name": "stdout",
     "output_type": "stream",
     "text": [
      "9\n",
      "None\n"
     ]
    }
   ],
   "source": [
    "print(items_purchased.get('Juice'))\n",
    "print(items_purchased.get('Chips'))"
   ]
  },
  {
   "cell_type": "code",
   "execution_count": 188,
   "id": "9d10322f",
   "metadata": {},
   "outputs": [
    {
     "data": {
      "text/plain": [
       "{'Salt': 2, 'Soap': 4, 'Juice': 9, 'Wallets': 100}"
      ]
     },
     "execution_count": 188,
     "metadata": {},
     "output_type": "execute_result"
    }
   ],
   "source": [
    "items_purchased.setdefault('Wallets', 100)\n",
    "items_purchased"
   ]
  },
  {
   "cell_type": "code",
   "execution_count": 194,
   "id": "9bbded7f",
   "metadata": {},
   "outputs": [
    {
     "name": "stdout",
     "output_type": "stream",
     "text": [
      "{'a': 0, 'b': 0, 'c': 0}\n",
      "{'d': 7, 'e': 7, 'f': 7}\n",
      "{'a': 0, 'b': 66, 'c': 0}\n",
      "{'d': 7, 'e': 7}\n"
     ]
    }
   ],
   "source": [
    "l1 = ['a', 'b', 'c']\n",
    "tup1 = ('d', 'e', 'f')\n",
    "dict1 = dict.fromkeys(l1, 0)\n",
    "dict2 = dict.fromkeys(tup1, 7)\n",
    "print(dict1)\n",
    "print(dict2)\n",
    "dict1['b'] = 66\n",
    "print(dict1)\n",
    "del dict2['f']\n",
    "print(dict2)"
   ]
  },
  {
   "cell_type": "code",
   "execution_count": 195,
   "id": "e459dbd1",
   "metadata": {},
   "outputs": [
    {
     "name": "stdout",
     "output_type": "stream",
     "text": [
      "{'a': 20, 'b': 30, 'c': 40, 'd': 50}\n"
     ]
    }
   ],
   "source": [
    "key_name = ('a', 'b', 'c', 'd')\n",
    "val_values = (20,30,40,50)\n",
    "dictionary = dict(zip(key_name, val_values))\n",
    "print(dictionary)"
   ]
  },
  {
   "cell_type": "code",
   "execution_count": 200,
   "id": "a6e4d8fa",
   "metadata": {},
   "outputs": [
    {
     "name": "stdout",
     "output_type": "stream",
     "text": [
      "[0, 4, 16, 36, 64, 100]\n"
     ]
    }
   ],
   "source": [
    "list = (0,1,2,3,4,5,6,7,8,9,10)\n",
    "list2 = [item**2 for item in list if item%2==0]\n",
    "print(list2)"
   ]
  },
  {
   "cell_type": "code",
   "execution_count": 203,
   "id": "949231da",
   "metadata": {},
   "outputs": [
    {
     "name": "stdout",
     "output_type": "stream",
     "text": [
      "[0, 2, 4, 6, 8, 10, 12, 14, 16, 18, 20]\n",
      "[0, 3, 6, 9, 12, 15, 18, 21, 24, 27, 30]\n"
     ]
    }
   ],
   "source": [
    "list = (0,1,2,3,4,5,6,7,8,9,10)\n",
    "list2 = [item*2 for item in list]\n",
    "list3 = [item*3 for item in list]\n",
    "print(list2)\n",
    "print(list3)"
   ]
  },
  {
   "cell_type": "code",
   "execution_count": 213,
   "id": "8ec7991c",
   "metadata": {},
   "outputs": [
    {
     "name": "stdout",
     "output_type": "stream",
     "text": [
      "[[0, 0, 0, 0, 0, 0, 0, 0, 0, 0, 0], [0, 1, 2, 3, 4, 5, 6, 7, 8, 9, 10], [0, 2, 4, 6, 8, 10, 12, 14, 16, 18, 20], [0, 3, 6, 9, 12, 15, 18, 21, 24, 27, 30], [0, 4, 8, 12, 16, 20, 24, 28, 32, 36, 40], [0, 5, 10, 15, 20, 25, 30, 35, 40, 45, 50], [0, 6, 12, 18, 24, 30, 36, 42, 48, 54, 60], [0, 7, 14, 21, 28, 35, 42, 49, 56, 63, 70], [0, 8, 16, 24, 32, 40, 48, 56, 64, 72, 80], [0, 9, 18, 27, 36, 45, 54, 63, 72, 81, 90], [0, 10, 20, 30, 40, 50, 60, 70, 80, 90, 100]]\n"
     ]
    }
   ],
   "source": [
    "result_list = [[item * list[index] for item in list] for index in range(len(list))]\n",
    "print(result_list)"
   ]
  },
  {
   "cell_type": "code",
   "execution_count": 215,
   "id": "eac5e099",
   "metadata": {},
   "outputs": [
    {
     "name": "stdout",
     "output_type": "stream",
     "text": [
      "['D', 'B', 'G', 'C', 'F']\n"
     ]
    }
   ],
   "source": [
    "list = [\"dairy\", \"bakery\", \"grocery\", \"clothing\", \"footwear\"]\n",
    "first_letter = [item[0].upper() for item in list]\n",
    "print(first_letter)"
   ]
  },
  {
   "cell_type": "code",
   "execution_count": 216,
   "id": "ef0211f5",
   "metadata": {},
   "outputs": [
    {
     "name": "stdout",
     "output_type": "stream",
     "text": [
      "[1005, 2000]\n"
     ]
    }
   ],
   "source": [
    "text = \"Eddy employee id is 1005 and his salary is 2000 dollars\"\n",
    "numbers = [int(i) for i in text.split() if i.isdigit() == True]\n",
    "print(numbers)"
   ]
  },
  {
   "cell_type": "code",
   "execution_count": 218,
   "id": "df9cc04d",
   "metadata": {},
   "outputs": [
    {
     "name": "stdout",
     "output_type": "stream",
     "text": [
      "[10, 20, 15, 20, 20]\n"
     ]
    }
   ],
   "source": [
    "Products = ['phone', 'laptop', 'headphones', 'mouse', 'tablet']\n",
    "discount = [10 if item=='phone' else 15 if item=='headphones' else 20 for item in Products]\n",
    "print(discount)"
   ]
  },
  {
   "cell_type": "code",
   "execution_count": 222,
   "id": "67529cab",
   "metadata": {},
   "outputs": [
    {
     "name": "stdout",
     "output_type": "stream",
     "text": [
      "['Crockeries', 'Detergents']\n"
     ]
    }
   ],
   "source": [
    "Products = ['Apparels', 'Crockeries', 'Cosmetics', 'Beverages', 'Detergents']\n",
    "prod_len = [item for item in Products if len(item)>9]\n",
    "print(prod_len)"
   ]
  }
 ],
 "metadata": {
  "kernelspec": {
   "display_name": "Python 3 (ipykernel)",
   "language": "python",
   "name": "python3"
  },
  "language_info": {
   "codemirror_mode": {
    "name": "ipython",
    "version": 3
   },
   "file_extension": ".py",
   "mimetype": "text/x-python",
   "name": "python",
   "nbconvert_exporter": "python",
   "pygments_lexer": "ipython3",
   "version": "3.9.17"
  }
 },
 "nbformat": 4,
 "nbformat_minor": 5
}
