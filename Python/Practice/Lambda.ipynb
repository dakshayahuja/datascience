{
 "cells": [
  {
   "cell_type": "code",
   "execution_count": 1,
   "id": "36d71fa9",
   "metadata": {},
   "outputs": [],
   "source": [
    "def greet(name):\n",
    "    print(\"Hello\", name)"
   ]
  },
  {
   "cell_type": "code",
   "execution_count": 2,
   "id": "434a00c1",
   "metadata": {},
   "outputs": [
    {
     "name": "stdout",
     "output_type": "stream",
     "text": [
      "Hello Dakshay\n"
     ]
    }
   ],
   "source": [
    "greet(\"Dakshay\")"
   ]
  },
  {
   "cell_type": "code",
   "execution_count": 3,
   "id": "32e073dd",
   "metadata": {},
   "outputs": [],
   "source": [
    "def employee(id, name, salary=700):\n",
    "    print(\"Employee\", name, \"has ID:\", id, \"\\nTheir salary is\", salary)"
   ]
  },
  {
   "cell_type": "code",
   "execution_count": 4,
   "id": "aa1c6d1b",
   "metadata": {},
   "outputs": [
    {
     "name": "stdout",
     "output_type": "stream",
     "text": [
      "Employee Dakshay has ID: 1 \n",
      "Their salary is 100\n"
     ]
    }
   ],
   "source": [
    "employee(1, \"Dakshay\", 100)"
   ]
  },
  {
   "cell_type": "code",
   "execution_count": 5,
   "id": "0e8b83ab",
   "metadata": {},
   "outputs": [
    {
     "name": "stdout",
     "output_type": "stream",
     "text": [
      "Employee Chitra has ID: 2 \n",
      "Their salary is 5000\n"
     ]
    }
   ],
   "source": [
    "employee(name=\"Chitra\", id=2, salary=5000)"
   ]
  },
  {
   "cell_type": "code",
   "execution_count": 6,
   "id": "96ed08c1",
   "metadata": {},
   "outputs": [
    {
     "name": "stdout",
     "output_type": "stream",
     "text": [
      "Employee Foo has ID: 3 \n",
      "Their salary is 700\n"
     ]
    }
   ],
   "source": [
    "employee(3, \"Foo\")"
   ]
  },
  {
   "cell_type": "code",
   "execution_count": 7,
   "id": "1719d0f7",
   "metadata": {},
   "outputs": [],
   "source": [
    "def addition(*numbers):\n",
    "    sum = 0\n",
    "    for num in numbers:\n",
    "        sum += num\n",
    "    return sum"
   ]
  },
  {
   "cell_type": "code",
   "execution_count": 8,
   "id": "3306697e",
   "metadata": {},
   "outputs": [
    {
     "name": "stdout",
     "output_type": "stream",
     "text": [
      "6\n",
      "21\n",
      "32\n"
     ]
    }
   ],
   "source": [
    "print(addition(1,2,3))\n",
    "print(addition(1,2,3,4,5,6))\n",
    "print(addition(7,4,21))"
   ]
  },
  {
   "cell_type": "code",
   "execution_count": 9,
   "id": "749664d8",
   "metadata": {},
   "outputs": [],
   "source": [
    "def employee(**kwargs):\n",
    "#     print(type(kwargs))\n",
    "    for key, value in kwargs.items():\n",
    "        print(key, \":\", value)"
   ]
  },
  {
   "cell_type": "code",
   "execution_count": 10,
   "id": "81792d0e",
   "metadata": {},
   "outputs": [
    {
     "name": "stdout",
     "output_type": "stream",
     "text": [
      "id : 1\n",
      "name : Chitra\n",
      "company : caelius\n",
      "profile : mulesoft developer\n"
     ]
    }
   ],
   "source": [
    "employee(id=1, name=\"Chitra\", company=\"caelius\", profile=\"mulesoft developer\")"
   ]
  },
  {
   "cell_type": "code",
   "execution_count": 11,
   "id": "d3cb7aa7",
   "metadata": {},
   "outputs": [
    {
     "name": "stdout",
     "output_type": "stream",
     "text": [
      "id : 2\n",
      "name : Dakshay\n",
      "profile : devops engineer\n"
     ]
    }
   ],
   "source": [
    "employee(id=2, name=\"Dakshay\", profile=\"devops engineer\")"
   ]
  },
  {
   "cell_type": "code",
   "execution_count": 12,
   "id": "08ff2fa5",
   "metadata": {},
   "outputs": [],
   "source": [
    "greater = lambda x,y: x if x>y else y"
   ]
  },
  {
   "cell_type": "code",
   "execution_count": 13,
   "id": "0e88dcb3",
   "metadata": {},
   "outputs": [
    {
     "data": {
      "text/plain": [
       "30"
      ]
     },
     "execution_count": 13,
     "metadata": {},
     "output_type": "execute_result"
    }
   ],
   "source": [
    "greater(30,5)"
   ]
  },
  {
   "cell_type": "code",
   "execution_count": 14,
   "id": "29c353df",
   "metadata": {},
   "outputs": [
    {
     "name": "stdout",
     "output_type": "stream",
     "text": [
      "[1, 4, 9, 16, 25, 36, 49, 64, 81, 100]\n"
     ]
    }
   ],
   "source": [
    "list1 = range(1,11)\n",
    "print(list(map(lambda x: x**2, list1)))"
   ]
  },
  {
   "cell_type": "code",
   "execution_count": 15,
   "id": "91e6870b",
   "metadata": {},
   "outputs": [
    {
     "name": "stdout",
     "output_type": "stream",
     "text": [
      "[2, 4, 6, 8, 10]\n"
     ]
    }
   ],
   "source": [
    "list1 = range(1,11)\n",
    "print(list(filter(lambda x:x%2==0, list1)))"
   ]
  },
  {
   "cell_type": "code",
   "execution_count": 16,
   "id": "4c858aab",
   "metadata": {},
   "outputs": [
    {
     "data": {
      "text/plain": [
       "15"
      ]
     },
     "execution_count": 16,
     "metadata": {},
     "output_type": "execute_result"
    }
   ],
   "source": [
    "from functools import reduce\n",
    "list2 = range(1,6)\n",
    "reduce(lambda a,b: a+b, list2)"
   ]
  },
  {
   "cell_type": "code",
   "execution_count": 17,
   "id": "68814b58",
   "metadata": {},
   "outputs": [
    {
     "data": {
      "text/plain": [
       "-100"
      ]
     },
     "execution_count": 17,
     "metadata": {},
     "output_type": "execute_result"
    }
   ],
   "source": [
    "from functools import reduce\n",
    "list2 = (0, -8, 55, -100, 1000, 3)\n",
    "reduce(lambda x,y: x if x<y else y, list2)"
   ]
  }
 ],
 "metadata": {
  "kernelspec": {
   "display_name": "Python 3 (ipykernel)",
   "language": "python",
   "name": "python3"
  },
  "language_info": {
   "codemirror_mode": {
    "name": "ipython",
    "version": 3
   },
   "file_extension": ".py",
   "mimetype": "text/x-python",
   "name": "python",
   "nbconvert_exporter": "python",
   "pygments_lexer": "ipython3",
   "version": "3.9.17"
  }
 },
 "nbformat": 4,
 "nbformat_minor": 5
}
