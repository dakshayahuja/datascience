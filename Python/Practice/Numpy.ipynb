{
 "cells": [
  {
   "cell_type": "code",
   "execution_count": 1,
   "id": "e37cd158",
   "metadata": {
    "ExecuteTime": {
     "end_time": "2023-08-18T03:47:38.499849Z",
     "start_time": "2023-08-18T03:47:38.188554Z"
    }
   },
   "outputs": [],
   "source": [
    "import numpy as np"
   ]
  },
  {
   "cell_type": "code",
   "execution_count": 2,
   "id": "aec70a7b",
   "metadata": {
    "ExecuteTime": {
     "end_time": "2023-08-18T03:47:38.501437Z",
     "start_time": "2023-08-18T03:47:38.283483Z"
    }
   },
   "outputs": [
    {
     "name": "stdout",
     "output_type": "stream",
     "text": [
      "[18 23 40 31 28]\n",
      "<class 'numpy.ndarray'>\n"
     ]
    }
   ],
   "source": [
    "age = [18, 23, 40, 31, 28]\n",
    "age_arr = np.array(age)\n",
    "print(age_arr)\n",
    "print(type(age_arr))"
   ]
  },
  {
   "cell_type": "code",
   "execution_count": 3,
   "id": "c03111a9",
   "metadata": {
    "ExecuteTime": {
     "end_time": "2023-08-18T03:47:38.518368Z",
     "start_time": "2023-08-18T03:47:38.292830Z"
    }
   },
   "outputs": [
    {
     "data": {
      "text/plain": "array([0.92115777, 0.24140547, 0.04616474, 0.02488802, 0.17693692,\n       0.7385059 , 0.04033636, 0.45724507, 0.81481914, 0.03180995,\n       0.92183667, 0.20030181, 0.31690107, 0.81502459, 0.23817864,\n       0.59899846, 0.20902954, 0.5534471 , 0.14701873, 0.91995213])"
     },
     "execution_count": 3,
     "metadata": {},
     "output_type": "execute_result"
    }
   ],
   "source": [
    "np.random.random(size = 20)"
   ]
  },
  {
   "cell_type": "code",
   "execution_count": 4,
   "id": "456ae438",
   "metadata": {
    "ExecuteTime": {
     "end_time": "2023-08-18T03:47:38.518722Z",
     "start_time": "2023-08-18T03:47:38.299974Z"
    }
   },
   "outputs": [
    {
     "data": {
      "text/plain": "array([[0.94274233, 0.3446377 , 0.2142607 , 0.5519861 ],\n       [0.30852207, 0.67184216, 0.70191488, 0.51693678]])"
     },
     "execution_count": 4,
     "metadata": {},
     "output_type": "execute_result"
    }
   ],
   "source": [
    "np.random.rand(2,4)"
   ]
  },
  {
   "cell_type": "code",
   "execution_count": 5,
   "id": "ad7ddc5d",
   "metadata": {
    "ExecuteTime": {
     "end_time": "2023-08-18T03:47:38.518950Z",
     "start_time": "2023-08-18T03:47:38.309149Z"
    }
   },
   "outputs": [
    {
     "data": {
      "text/plain": "array([[ 5.46587934e-01,  2.18871807e-01,  2.12099181e+00],\n       [-8.76916835e-01,  4.87644993e-04,  1.89696782e-01],\n       [-1.17619231e+00,  1.36253016e+00,  1.32516364e-01]])"
     },
     "execution_count": 5,
     "metadata": {},
     "output_type": "execute_result"
    }
   ],
   "source": [
    "np.random.randn(3,3)"
   ]
  },
  {
   "cell_type": "code",
   "execution_count": 6,
   "id": "e318e00c",
   "metadata": {
    "ExecuteTime": {
     "end_time": "2023-08-18T03:47:38.519142Z",
     "start_time": "2023-08-18T03:47:38.312467Z"
    }
   },
   "outputs": [
    {
     "data": {
      "text/plain": "5"
     },
     "execution_count": 6,
     "metadata": {},
     "output_type": "execute_result"
    }
   ],
   "source": [
    "np.random.randint(2,9)"
   ]
  },
  {
   "cell_type": "code",
   "execution_count": 7,
   "id": "087880e4",
   "metadata": {
    "ExecuteTime": {
     "end_time": "2023-08-18T03:47:38.519322Z",
     "start_time": "2023-08-18T03:47:38.322685Z"
    }
   },
   "outputs": [
    {
     "data": {
      "text/plain": "array([48, 31, 86, 64, 57, 47, 85, 56, 60, 16])"
     },
     "execution_count": 7,
     "metadata": {},
     "output_type": "execute_result"
    }
   ],
   "source": [
    "np.random.randint(1,100,10)"
   ]
  },
  {
   "cell_type": "code",
   "execution_count": 8,
   "id": "57361a11",
   "metadata": {
    "ExecuteTime": {
     "end_time": "2023-08-18T03:47:38.519519Z",
     "start_time": "2023-08-18T03:47:38.328982Z"
    }
   },
   "outputs": [
    {
     "data": {
      "text/plain": "array([10, 12, 14, 16, 18, 20, 22, 24, 26, 28, 30, 32, 34, 36, 38])"
     },
     "execution_count": 8,
     "metadata": {},
     "output_type": "execute_result"
    }
   ],
   "source": [
    "np.arange(10,40,2)"
   ]
  },
  {
   "cell_type": "code",
   "execution_count": 9,
   "id": "0e3c69cb",
   "metadata": {
    "ExecuteTime": {
     "end_time": "2023-08-18T03:47:38.519703Z",
     "start_time": "2023-08-18T03:47:38.335150Z"
    }
   },
   "outputs": [
    {
     "data": {
      "text/plain": "array([  1.,  12.,  23.,  34.,  45.,  56.,  67.,  78.,  89., 100.])"
     },
     "execution_count": 9,
     "metadata": {},
     "output_type": "execute_result"
    }
   ],
   "source": [
    "np.linspace(1,100,10)\n",
    "# np.linspace(1,100,10, dtype=int)"
   ]
  },
  {
   "cell_type": "code",
   "execution_count": 10,
   "id": "c9293e6e",
   "metadata": {
    "ExecuteTime": {
     "end_time": "2023-08-18T03:47:38.519899Z",
     "start_time": "2023-08-18T03:47:38.342152Z"
    }
   },
   "outputs": [
    {
     "data": {
      "text/plain": "array([0., 0., 0., 0., 0., 0.])"
     },
     "execution_count": 10,
     "metadata": {},
     "output_type": "execute_result"
    }
   ],
   "source": [
    "np.zeros(6)"
   ]
  },
  {
   "cell_type": "code",
   "execution_count": 11,
   "id": "e411ef24",
   "metadata": {
    "ExecuteTime": {
     "end_time": "2023-08-18T03:47:38.520089Z",
     "start_time": "2023-08-18T03:47:38.347941Z"
    }
   },
   "outputs": [
    {
     "data": {
      "text/plain": "array([1., 1., 1., 1., 1., 1., 1.])"
     },
     "execution_count": 11,
     "metadata": {},
     "output_type": "execute_result"
    }
   ],
   "source": [
    "np.ones(7)"
   ]
  },
  {
   "cell_type": "code",
   "execution_count": 12,
   "id": "86d91dc7",
   "metadata": {
    "scrolled": true,
    "ExecuteTime": {
     "end_time": "2023-08-18T03:47:38.520307Z",
     "start_time": "2023-08-18T03:47:38.351716Z"
    }
   },
   "outputs": [
    {
     "data": {
      "text/plain": "array([[4603098445975336441, 4597053708208775629, 4611958467759869078],\n       [4606073784204089551, 4557631086035133874, 4596002567128517032],\n       [4607975918408178461, 4608815109510148167, 4593942425460847561]])"
     },
     "execution_count": 12,
     "metadata": {},
     "output_type": "execute_result"
    }
   ],
   "source": [
    "# np.empty((3,3))\n",
    "np.empty((3,3), dtype=int)"
   ]
  },
  {
   "cell_type": "code",
   "execution_count": 13,
   "id": "7e6744bb",
   "metadata": {
    "ExecuteTime": {
     "end_time": "2023-08-18T03:47:38.520520Z",
     "start_time": "2023-08-18T03:47:38.360854Z"
    }
   },
   "outputs": [
    {
     "data": {
      "text/plain": "array([[24, 24, 24],\n       [24, 24, 24],\n       [24, 24, 24]])"
     },
     "execution_count": 13,
     "metadata": {},
     "output_type": "execute_result"
    }
   ],
   "source": [
    "np.full((3,3,), fill_value=24)"
   ]
  },
  {
   "cell_type": "code",
   "execution_count": 14,
   "id": "b23684d7",
   "metadata": {
    "ExecuteTime": {
     "end_time": "2023-08-18T03:47:38.520722Z",
     "start_time": "2023-08-18T03:47:38.371974Z"
    }
   },
   "outputs": [
    {
     "data": {
      "text/plain": "array([[1., 0., 0., 0., 0.],\n       [0., 1., 0., 0., 0.],\n       [0., 0., 1., 0., 0.],\n       [0., 0., 0., 1., 0.],\n       [0., 0., 0., 0., 1.]])"
     },
     "execution_count": 14,
     "metadata": {},
     "output_type": "execute_result"
    }
   ],
   "source": [
    "np.identity(5)"
   ]
  },
  {
   "cell_type": "code",
   "execution_count": 40,
   "id": "439c3028",
   "metadata": {
    "ExecuteTime": {
     "end_time": "2023-08-18T03:48:25.389253Z",
     "start_time": "2023-08-18T03:48:25.378249Z"
    }
   },
   "outputs": [
    {
     "data": {
      "text/plain": "array([[0., 0., 0., 0., 0.],\n       [1., 0., 0., 0., 0.],\n       [0., 1., 0., 0., 0.],\n       [0., 0., 1., 0., 0.],\n       [0., 0., 0., 1., 0.]])"
     },
     "execution_count": 40,
     "metadata": {},
     "output_type": "execute_result"
    }
   ],
   "source": [
    "np.eye(N=5,M=5,k=-1)"
   ]
  },
  {
   "cell_type": "code",
   "execution_count": 16,
   "id": "37c8f0a6",
   "metadata": {
    "ExecuteTime": {
     "end_time": "2023-08-18T03:47:38.521081Z",
     "start_time": "2023-08-18T03:47:38.391168Z"
    }
   },
   "outputs": [
    {
     "name": "stdout",
     "output_type": "stream",
     "text": [
      "(2, 3)\n",
      "6\n",
      "int64\n",
      "2\n"
     ]
    }
   ],
   "source": [
    "nums = np.array([(10,20,30), (12, 34, 56)])\n",
    "print(nums.shape)\n",
    "print(nums.size)\n",
    "print(nums.dtype)\n",
    "print(nums.ndim)"
   ]
  },
  {
   "cell_type": "code",
   "execution_count": 17,
   "id": "a18f0a12",
   "metadata": {
    "ExecuteTime": {
     "end_time": "2023-08-18T03:47:38.521820Z",
     "start_time": "2023-08-18T03:47:38.398263Z"
    }
   },
   "outputs": [
    {
     "name": "stdout",
     "output_type": "stream",
     "text": [
      "0\n",
      "1\n",
      "2\n",
      "3\n"
     ]
    }
   ],
   "source": [
    "a = np.array(42)\n",
    "b = np.array([1,2,3,4,5])\n",
    "c = np.array([[1,2,3], [4,5,6]])\n",
    "d = np.array([[[1,2,3], [4,5,6]], [[7,8,9], [10,11,12]]])\n",
    "print(a.ndim)\n",
    "print(b.ndim)\n",
    "print(c.ndim)\n",
    "print(d.ndim)"
   ]
  },
  {
   "cell_type": "code",
   "execution_count": 18,
   "id": "3fdd68f2",
   "metadata": {
    "ExecuteTime": {
     "end_time": "2023-08-18T03:47:38.522112Z",
     "start_time": "2023-08-18T03:47:38.411596Z"
    }
   },
   "outputs": [
    {
     "name": "stdout",
     "output_type": "stream",
     "text": [
      "[['Charles' '18']\n",
      " ['Logan' '20']\n",
      " ['Jessica' '34']] \n",
      "\n",
      "[['Charles']\n",
      " ['18']\n",
      " ['Logan']\n",
      " ['20']\n",
      " ['Jessica']\n",
      " ['34']]\n"
     ]
    }
   ],
   "source": [
    "emp = np.array([('Charles',18), ('Logan',20), ('Jessica', 34)])\n",
    "print(emp, '\\n')\n",
    "emp_reshaped = emp.reshape(6,1)\n",
    "print(emp_reshaped)"
   ]
  },
  {
   "cell_type": "code",
   "execution_count": 19,
   "id": "19aaa0fd",
   "metadata": {
    "ExecuteTime": {
     "end_time": "2023-08-18T03:47:38.522295Z",
     "start_time": "2023-08-18T03:47:38.418830Z"
    }
   },
   "outputs": [
    {
     "name": "stdout",
     "output_type": "stream",
     "text": [
      "['Charles' '18']\n",
      "['Jessica' '34']\n",
      "18\n"
     ]
    }
   ],
   "source": [
    "print(emp[0])\n",
    "print(emp[-1])\n",
    "print(emp[0][1])"
   ]
  },
  {
   "cell_type": "code",
   "execution_count": 20,
   "id": "a73d0eff",
   "metadata": {
    "ExecuteTime": {
     "end_time": "2023-08-18T03:47:38.522487Z",
     "start_time": "2023-08-18T03:47:38.430310Z"
    }
   },
   "outputs": [
    {
     "name": "stdout",
     "output_type": "stream",
     "text": [
      "[43. 92.]\n",
      "[73. 43.]\n",
      "[73.  68.  55.5]\n"
     ]
    }
   ],
   "source": [
    "weight = np.array([73, 68, 55.5, 43, 92, 66])\n",
    "print(weight[3:5])\n",
    "print(weight[::3])\n",
    "print(weight[:3])"
   ]
  },
  {
   "cell_type": "code",
   "execution_count": 21,
   "id": "e0eb70ba",
   "metadata": {
    "ExecuteTime": {
     "end_time": "2023-08-18T03:47:38.522654Z",
     "start_time": "2023-08-18T03:47:38.437685Z"
    }
   },
   "outputs": [
    {
     "name": "stdout",
     "output_type": "stream",
     "text": [
      "[73 68]\n",
      "[36 19]\n"
     ]
    }
   ],
   "source": [
    "age = np.array([[73,68,54], [21,36,19]])\n",
    "print(age[0, 0:2])\n",
    "print(age[1, 1:3])"
   ]
  },
  {
   "cell_type": "code",
   "execution_count": 22,
   "id": "e85eeedf",
   "metadata": {
    "ExecuteTime": {
     "end_time": "2023-08-18T03:47:38.522858Z",
     "start_time": "2023-08-18T03:47:38.447388Z"
    }
   },
   "outputs": [
    {
     "name": "stdout",
     "output_type": "stream",
     "text": [
      "[ 3 11 21 41]\n",
      "[ -1  -1  -3 -11]\n",
      "[ 2 10 18 30]\n"
     ]
    }
   ],
   "source": [
    "odd_num = np.array([1,5,9,15])\n",
    "even_num = np.array([2,6,12,26])\n",
    "sum = odd_num + even_num\n",
    "sub = odd_num - even_num\n",
    "multiplication = odd_num * 2\n",
    "print(sum)\n",
    "print(sub)\n",
    "print(multiplication)"
   ]
  },
  {
   "cell_type": "code",
   "execution_count": 23,
   "id": "790e4514",
   "metadata": {
    "ExecuteTime": {
     "end_time": "2023-08-18T03:47:38.523139Z",
     "start_time": "2023-08-18T03:47:38.453840Z"
    }
   },
   "outputs": [
    {
     "name": "stdout",
     "output_type": "stream",
     "text": [
      "[[ 1  0  2]\n",
      " [ 4 -2  3]] \n",
      "\n",
      "[[4 0 1]\n",
      " [2 3 0]] \n",
      "\n",
      "[[ 4  0  2]\n",
      " [ 8 -6  0]]\n"
     ]
    }
   ],
   "source": [
    "#Hamadard Product\n",
    "n1 = np.array([[1,0,2], [4,-2,3]])\n",
    "n2 = np.array([[4,0,1], [2,3,0]])\n",
    "prod = n1 * n2\n",
    "print(n1, '\\n')\n",
    "print(n2, '\\n')\n",
    "print(prod)"
   ]
  },
  {
   "cell_type": "code",
   "execution_count": 24,
   "id": "f4629787",
   "metadata": {
    "ExecuteTime": {
     "end_time": "2023-08-18T03:47:38.523546Z",
     "start_time": "2023-08-18T03:47:38.464367Z"
    }
   },
   "outputs": [
    {
     "name": "stdout",
     "output_type": "stream",
     "text": [
      "[[ 6  8]\n",
      " [15  6]]\n"
     ]
    }
   ],
   "source": [
    "#Matrix Multiplication\n",
    "m1 = np.array([[1,0,2], [4,-2,3]])\n",
    "m2 = np.array([[4,0],[2,3], [1,4]])\n",
    "multi = m1.dot(m2)\n",
    "print(multi)"
   ]
  },
  {
   "cell_type": "code",
   "execution_count": 25,
   "id": "37097ff2",
   "metadata": {
    "ExecuteTime": {
     "end_time": "2023-08-18T03:47:38.523841Z",
     "start_time": "2023-08-18T03:47:38.469784Z"
    }
   },
   "outputs": [
    {
     "name": "stdout",
     "output_type": "stream",
     "text": [
      "Max salary: 980000\n",
      "Min salary: 1000\n",
      "Variance: 122788034722.22223\n",
      "Standard Deviation: 350411.23658099526\n"
     ]
    }
   ],
   "source": [
    "salary = np.array([100000, 2000, 45000, 980000, 1000, 75500])\n",
    "print(\"Max salary:\", salary.max())\n",
    "print(\"Min salary:\", salary.min())\n",
    "print(\"Variance:\", salary.var())\n",
    "print(\"Standard Deviation:\", salary.std())"
   ]
  },
  {
   "cell_type": "code",
   "execution_count": 42,
   "id": "cd5467a1",
   "metadata": {
    "ExecuteTime": {
     "end_time": "2023-08-18T03:53:02.832754Z",
     "start_time": "2023-08-18T03:53:02.823979Z"
    }
   },
   "outputs": [
    {
     "name": "stdout",
     "output_type": "stream",
     "text": [
      "[ 1  4  9 16 25]\n",
      "[  1   8  27  64 125]\n"
     ]
    }
   ],
   "source": [
    "nums = np.array([1,2,3,4,5])\n",
    "print(np.square(nums))\n",
    "print(np.power(nums,3))"
   ]
  },
  {
   "cell_type": "code",
   "execution_count": 27,
   "id": "f3d3f71b",
   "metadata": {
    "ExecuteTime": {
     "end_time": "2023-08-18T03:47:38.532880Z",
     "start_time": "2023-08-18T03:47:38.481888Z"
    }
   },
   "outputs": [
    {
     "name": "stdout",
     "output_type": "stream",
     "text": [
      "[['Charles' '18']\n",
      " ['Logan' '20']\n",
      " ['Jessica' '34']]\n",
      "(3, 2) \n",
      "\n",
      "[['Charles' 'Logan' 'Jessica']\n",
      " ['18' '20' '34']]\n",
      "(2, 3)\n"
     ]
    }
   ],
   "source": [
    "print(emp)\n",
    "print(emp.shape, '\\n')\n",
    "print(np.transpose(emp))\n",
    "print(np.transpose(emp).shape)"
   ]
  },
  {
   "cell_type": "code",
   "execution_count": 28,
   "id": "725f0c9d",
   "metadata": {
    "ExecuteTime": {
     "end_time": "2023-08-18T03:47:38.533075Z",
     "start_time": "2023-08-18T03:47:38.487575Z"
    }
   },
   "outputs": [
    {
     "name": "stdout",
     "output_type": "stream",
     "text": [
      "[ 1  5  9 15] [ 2  6 12 26]\n",
      "[ 1  5  9 15  2  6 12 26]\n"
     ]
    }
   ],
   "source": [
    "#concatenate two 1D arrays\n",
    "print(odd_num, even_num)\n",
    "all_nums = np.concatenate([odd_num, even_num])\n",
    "print(all_nums)"
   ]
  },
  {
   "cell_type": "code",
   "execution_count": 29,
   "id": "960f2e8f",
   "metadata": {
    "ExecuteTime": {
     "end_time": "2023-08-18T03:47:38.533261Z",
     "start_time": "2023-08-18T03:47:38.495961Z"
    }
   },
   "outputs": [
    {
     "name": "stdout",
     "output_type": "stream",
     "text": [
      "[['Charles' '18']\n",
      " ['Logan' '20']\n",
      " ['Jessica' '34']\n",
      " ['Jean' '21']\n",
      " ['Phoenix' '20']]\n"
     ]
    }
   ],
   "source": [
    "#concatenate two 2D arrays\n",
    "data_scientists = np.array([('Charles',18), ('Logan',20), ('Jessica', 34)])\n",
    "consultants = np.array([('Jean', 21), ('Phoenix', 20)])\n",
    "employees = np.concatenate([data_scientists, consultants])\n",
    "print(employees)"
   ]
  },
  {
   "cell_type": "code",
   "execution_count": 30,
   "id": "25dae332",
   "metadata": {
    "ExecuteTime": {
     "end_time": "2023-08-18T03:47:38.535499Z",
     "start_time": "2023-08-18T03:47:38.500974Z"
    }
   },
   "outputs": [
    {
     "name": "stdout",
     "output_type": "stream",
     "text": [
      "[1 3 5 7 2 4 6 8]\n"
     ]
    }
   ],
   "source": [
    "num_array = np.array([[1,3,5,7],[2,4,6,8]])\n",
    "print(np.ndarray.flatten(num_array))"
   ]
  },
  {
   "cell_type": "code",
   "execution_count": 31,
   "id": "48449533",
   "metadata": {
    "ExecuteTime": {
     "end_time": "2023-08-18T03:47:38.536781Z",
     "start_time": "2023-08-18T03:47:38.505979Z"
    }
   },
   "outputs": [
    {
     "name": "stdout",
     "output_type": "stream",
     "text": [
      "[ 1  2  3  4  5  6  7  8  9 10 11 12] \n",
      "\n",
      "[[ 1  2  3  4]\n",
      " [ 5  6  7  8]\n",
      " [ 9 10 11 12]]\n"
     ]
    }
   ],
   "source": [
    "num = np.arange(1,13)\n",
    "print(num, '\\n')\n",
    "new_num = num.reshape(3,4)\n",
    "print(new_num)"
   ]
  },
  {
   "cell_type": "code",
   "execution_count": 32,
   "id": "cd5af330",
   "metadata": {
    "ExecuteTime": {
     "end_time": "2023-08-18T03:47:38.537015Z",
     "start_time": "2023-08-18T03:47:38.514134Z"
    }
   },
   "outputs": [
    {
     "name": "stdout",
     "output_type": "stream",
     "text": [
      "[1 2 3 4 5] (5,)\n",
      "\n",
      "[[1]\n",
      " [2]\n",
      " [3]\n",
      " [4]\n",
      " [5]] (5, 1)\n",
      "\n",
      "1 [1]\n"
     ]
    }
   ],
   "source": [
    "a = np.arange(1,6)\n",
    "new_a = np.vstack(a)\n",
    "print(a, a.shape)\n",
    "print()\n",
    "print(new_a, new_a.shape)\n",
    "print()\n",
    "print(a[0], new_a[0])"
   ]
  },
  {
   "cell_type": "code",
   "execution_count": 43,
   "id": "05f1d111",
   "metadata": {
    "ExecuteTime": {
     "end_time": "2023-08-18T03:56:09.216781Z",
     "start_time": "2023-08-18T03:56:09.202486Z"
    }
   },
   "outputs": [
    {
     "name": "stdout",
     "output_type": "stream",
     "text": [
      "[2 7 7 7] [6 4 8 6] \n",
      "\n",
      "[[2 7 7 7]\n",
      " [6 4 8 6]\n",
      " [6 4 8 6]\n",
      " [2 7 7 7]]\n"
     ]
    }
   ],
   "source": [
    "v1 = np.random.randint(2,8,4)\n",
    "v2 = np.random.randint(3,9,4)\n",
    "print(v1, v2, '\\n')\n",
    "print(np.vstack([v1, v2, v2, v1]))"
   ]
  },
  {
   "cell_type": "code",
   "execution_count": 34,
   "id": "8114b65e",
   "metadata": {
    "ExecuteTime": {
     "end_time": "2023-08-18T03:47:38.734534Z",
     "start_time": "2023-08-18T03:47:38.524908Z"
    }
   },
   "outputs": [
    {
     "name": "stdout",
     "output_type": "stream",
     "text": [
      "[[4 4 5 5]\n",
      " [4 3 7 6]] \n",
      "\n",
      "[[4 4 5 5]\n",
      " [4 3 7 6]\n",
      " [4 4 5 5]\n",
      " [4 3 7 6]] \n",
      "\n",
      "[[4 3 7 6]\n",
      " [4 4 5 5]]\n"
     ]
    }
   ],
   "source": [
    "v3 = np.array([[4,4,5,5], [4,3,7,6]])\n",
    "print(v3, '\\n')\n",
    "print(np.vstack([v3, v3]), '\\n')\n",
    "print(np.vstack([v3[1], v3[0]]))"
   ]
  },
  {
   "cell_type": "code",
   "execution_count": 35,
   "id": "99fb6208",
   "metadata": {
    "ExecuteTime": {
     "end_time": "2023-08-18T03:47:38.734766Z",
     "start_time": "2023-08-18T03:47:38.528875Z"
    }
   },
   "outputs": [
    {
     "name": "stdout",
     "output_type": "stream",
     "text": [
      "[1 4 6 5 7 8]\n"
     ]
    }
   ],
   "source": [
    "a = np.array([[1,4,6], [5,7,8]])\n",
    "print(np.hstack(a))"
   ]
  },
  {
   "cell_type": "code",
   "execution_count": 36,
   "id": "8855cd10",
   "metadata": {
    "ExecuteTime": {
     "end_time": "2023-08-18T03:47:38.752358Z",
     "start_time": "2023-08-18T03:47:38.532948Z"
    }
   },
   "outputs": [
    {
     "name": "stdout",
     "output_type": "stream",
     "text": [
      "[[ 1  4  6  2  9  3  1  4  6]\n",
      " [ 5  7  8 17 31 26  5  7  8]]\n"
     ]
    }
   ],
   "source": [
    "h1 = np.array([[1,4,6], [5,7,8]])\n",
    "h2 = np.array([[2,9,3], [17,31,26]])\n",
    "print(np.hstack([h1, h2, h1]))"
   ]
  },
  {
   "cell_type": "code",
   "execution_count": 37,
   "id": "b7731eb5",
   "metadata": {
    "scrolled": true,
    "ExecuteTime": {
     "end_time": "2023-08-18T03:47:38.769208Z",
     "start_time": "2023-08-18T03:47:38.536239Z"
    }
   },
   "outputs": [
    {
     "name": "stdout",
     "output_type": "stream",
     "text": [
      "['Charles' '18']\n",
      "['Logan' '20']\n",
      "['Jessica' '34']\n",
      "\n",
      "Charles\n",
      "18\n",
      "Logan\n",
      "20\n",
      "Jessica\n",
      "34\n"
     ]
    }
   ],
   "source": [
    "for i in data_scientists:\n",
    "    print(i)\n",
    "print()\n",
    "for i in data_scientists:\n",
    "    for j in i:\n",
    "        print(j)"
   ]
  }
 ],
 "metadata": {
  "kernelspec": {
   "display_name": "Python 3 (ipykernel)",
   "language": "python",
   "name": "python3"
  },
  "language_info": {
   "codemirror_mode": {
    "name": "ipython",
    "version": 3
   },
   "file_extension": ".py",
   "mimetype": "text/x-python",
   "name": "python",
   "nbconvert_exporter": "python",
   "pygments_lexer": "ipython3",
   "version": "3.9.17"
  }
 },
 "nbformat": 4,
 "nbformat_minor": 5
}
