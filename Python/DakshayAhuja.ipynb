{
 "cells": [
  {
   "cell_type": "markdown",
   "metadata": {},
   "source": [
    "#### Q1- Count all letters, digits, and special symbols from a given string str1 = \"I@#ma26rt^&ic5us\""
   ]
  },
  {
   "cell_type": "code",
   "execution_count": 1,
   "metadata": {
    "ExecuteTime": {
     "end_time": "2023-08-18T04:37:32.026519Z",
     "start_time": "2023-08-18T04:37:32.023150Z"
    }
   },
   "outputs": [
    {
     "name": "stdout",
     "output_type": "stream",
     "text": [
      "Letters: 9\n",
      "Digits: 3\n",
      "Symbols: 4\n"
     ]
    }
   ],
   "source": [
    "str1 = \"I@#ma26rt^&ic5us\"\n",
    "letters = digits = symbols = 0\n",
    "for char in str1:\n",
    "    if char.isalpha():\n",
    "        letters += 1\n",
    "    elif char.isdigit():\n",
    "        digits += 1\n",
    "    else:\n",
    "        symbols +=1\n",
    "print(\"Letters:\", letters)\n",
    "print(\"Digits:\", digits)\n",
    "print(\"Symbols:\", symbols)"
   ]
  },
  {
   "cell_type": "markdown",
   "metadata": {},
   "source": [
    "#### Q2 - Write a Python program to find numbers divisible by nineteen or thirteen from a list of numbers using Lambda."
   ]
  },
  {
   "cell_type": "code",
   "execution_count": 2,
   "metadata": {
    "ExecuteTime": {
     "end_time": "2023-08-18T04:37:33.004452Z",
     "start_time": "2023-08-18T04:37:32.999807Z"
    }
   },
   "outputs": [
    {
     "name": "stdout",
     "output_type": "stream",
     "text": [
      "[19, 65, 57, 39, 152, 190]\n"
     ]
    }
   ],
   "source": [
    "a=[19, 65, 57, 39, 152, 639, 121, 44, 90, 190]\n",
    "result = list(filter(lambda num:(num%19==0) or (num%13==0), a))\n",
    "print(result)"
   ]
  },
  {
   "cell_type": "markdown",
   "metadata": {},
   "source": [
    "#### Q3 - Find all of the words in a string that are less than 5 letters."
   ]
  },
  {
   "cell_type": "code",
   "execution_count": 3,
   "metadata": {
    "ExecuteTime": {
     "end_time": "2023-08-18T04:37:34.175327Z",
     "start_time": "2023-08-18T04:37:34.170763Z"
    }
   },
   "outputs": [
    {
     "name": "stdout",
     "output_type": "stream",
     "text": [
      "['to', 'List', 'in', 'Your']\n"
     ]
    }
   ],
   "source": [
    "string = \"Practice Problems to Drill List Comprehension in Your Head.\"\n",
    "result = [word for word in string.split() if len(word)<5]\n",
    "print(result)"
   ]
  },
  {
   "cell_type": "markdown",
   "metadata": {},
   "source": [
    "#### Q4 - Calculate income tax for the given income by adhering to the below rules:"
   ]
  },
  {
   "cell_type": "raw",
   "metadata": {},
   "source": [
    "Taxable income Rate:\n",
    "First $10,000 => 0\n",
    "Next $10,000 => 10%\n",
    "The remaining => 20%"
   ]
  },
  {
   "cell_type": "code",
   "execution_count": 4,
   "metadata": {
    "ExecuteTime": {
     "end_time": "2023-08-18T04:37:40.707849Z",
     "start_time": "2023-08-18T04:37:37.320727Z"
    }
   },
   "outputs": [
    {
     "name": "stdout",
     "output_type": "stream",
     "text": [
      "Income is: 38000\n",
      "Tax is: 4600.0\n"
     ]
    }
   ],
   "source": [
    "income = int(input(\"Enter income:\"))\n",
    "tax = 0\n",
    "if 10000 < income <= 20000:\n",
    "    tax = (income-10000) * 0.1\n",
    "elif income > 20000:\n",
    "    tax = 10000 * 0.1 + (income-20000) * 0.2\n",
    "print(\"Income is:\", income)\n",
    "print(\"Tax is:\", tax)"
   ]
  },
  {
   "cell_type": "markdown",
   "metadata": {},
   "source": [
    "#### Q5 - Given below are the list of positive and negative words. Also, a list of tweets is provided. Separate out the positive and negative comments."
   ]
  },
  {
   "cell_type": "code",
   "execution_count": 7,
   "metadata": {
    "ExecuteTime": {
     "end_time": "2023-08-18T04:38:16.552843Z",
     "start_time": "2023-08-18T04:38:16.538548Z"
    }
   },
   "outputs": [
    {
     "name": "stdout",
     "output_type": "stream",
     "text": [
      "Positive Tweets: ['This government policies are good', 'The way he played showed that he is one of the best players in the world', 'Her acting in the play was awesome', \"It's nice to hear this little kid's laugh\"]\n",
      "\n",
      "Negative Tweets: ['bad implementation', 'The wine tastes awful']\n"
     ]
    }
   ],
   "source": [
    "positive = ['good','awesome', 'best', 'nice']\n",
    "negative = ['worst','awful', 'bad']\n",
    "\n",
    "tweets = ['This government policies are good', \n",
    "          'bad implementation',\n",
    "          'The way he played showed that he is one of the best players in the world',\n",
    "          'Her acting in the play was awesome',\n",
    "          'The wine tastes awful',\n",
    "          \"It's nice to hear this little kid's laugh\"]\n",
    "\n",
    "# pos_tweets = [tweet for tweet in tweets if any(word in tweet for word in positive)]\n",
    "# neg_tweets = [tweet for tweet in tweets if any(word in tweet for word in negative)]\n",
    "\n",
    "pos_tweets=[]\n",
    "neg_tweets=[]\n",
    "\n",
    "for tweet in tweets:\n",
    "    for word in positive:\n",
    "        if word in tweet:\n",
    "            pos_tweets.append(tweet)\n",
    "    for word in negative:\n",
    "        if word in tweet:\n",
    "            neg_tweets.append(tweet)\n",
    "            \n",
    "print(\"Positive Tweets:\", pos_tweets)\n",
    "print()\n",
    "print(\"Negative Tweets:\", neg_tweets)"
   ]
  },
  {
   "cell_type": "markdown",
   "metadata": {},
   "source": [
    "#### Q6 - Write a program to extend it by adding the sublist [\"h\", \"i\", \"j\"] in such a way that it will look like the following list: list1 = [\"a\", \"b\", [\"c\", [\"d\", \"e\", [\"f\", \"g\"], \"k\"], \"l\"], \"m\", \"n\"]"
   ]
  },
  {
   "cell_type": "code",
   "execution_count": 8,
   "metadata": {
    "ExecuteTime": {
     "end_time": "2023-08-18T04:38:30.921320Z",
     "start_time": "2023-08-18T04:38:30.895711Z"
    }
   },
   "outputs": [
    {
     "name": "stdout",
     "output_type": "stream",
     "text": [
      "['a', 'b', ['c', ['d', 'e', ['f', 'g', 'h', 'i', 'j'], 'k'], 'l'], 'm', 'n']\n"
     ]
    }
   ],
   "source": [
    "list1 = [\"a\", \"b\", [\"c\", [\"d\", \"e\", [\"f\", \"g\"], \"k\"], \"l\"], \"m\", \"n\"]\n",
    "sub_list = [\"h\", \"i\", \"j\"]\n",
    "list1[2][1][2].extend((sub_list))\n",
    "print(list1)"
   ]
  },
  {
   "cell_type": "markdown",
   "metadata": {},
   "source": [
    "#### Q7 - Write a program to remove the item present at index 4 and add it to the 2nd position and at the end of the list."
   ]
  },
  {
   "cell_type": "code",
   "execution_count": 9,
   "metadata": {
    "ExecuteTime": {
     "end_time": "2023-08-18T04:38:36.485019Z",
     "start_time": "2023-08-18T04:38:36.466034Z"
    }
   },
   "outputs": [
    {
     "name": "stdout",
     "output_type": "stream",
     "text": [
      "[54, 91, 44, 27, 79, 41, 91]\n"
     ]
    }
   ],
   "source": [
    "list1 = [54, 44, 27, 79, 91, 41]\n",
    "elem = list1.pop(4)\n",
    "list1.insert(1,elem)\n",
    "list1.append(elem)\n",
    "print(list1)"
   ]
  },
  {
   "cell_type": "markdown",
   "metadata": {},
   "source": [
    "#### Q8 - Load the iris dataset and Find only those records whose sepal_length = 5.1 and sepal_width = 3.5"
   ]
  },
  {
   "cell_type": "code",
   "execution_count": 10,
   "metadata": {
    "ExecuteTime": {
     "end_time": "2023-08-18T04:38:37.980904Z",
     "start_time": "2023-08-18T04:38:37.875122Z"
    }
   },
   "outputs": [
    {
     "name": "stdout",
     "output_type": "stream",
     "text": [
      "    sepal length (cm)  sepal width (cm)  petal length (cm)  petal width (cm)\n",
      "0                 5.1               3.5                1.4               0.2\n",
      "17                5.1               3.5                1.4               0.3\n"
     ]
    }
   ],
   "source": [
    "from sklearn.datasets import load_iris\n",
    "import pandas as pd\n",
    "iris = load_iris()\n",
    "iris_df = pd.DataFrame(iris.data, columns=iris.feature_names)\n",
    "result = iris_df[\n",
    "    (iris_df['sepal length (cm)'] == 5.1) & \n",
    "    (iris_df['sepal width (cm)'] == 3.5)\n",
    "]\n",
    "print(result)"
   ]
  },
  {
   "cell_type": "markdown",
   "metadata": {},
   "source": [
    "#### Q9 - Check for Maximum petal_length and convert it in to 7.2 and min petal_length and convert it in to 1.2"
   ]
  },
  {
   "cell_type": "code",
   "execution_count": 11,
   "metadata": {
    "ExecuteTime": {
     "end_time": "2023-08-18T04:38:39.555179Z",
     "start_time": "2023-08-18T04:38:39.552700Z"
    }
   },
   "outputs": [
    {
     "name": "stdout",
     "output_type": "stream",
     "text": [
      "     sepal length (cm)  sepal width (cm)  petal length (cm)  petal width (cm)\n",
      "0                  5.1               3.5                1.4               0.2\n",
      "1                  4.9               3.0                1.4               0.2\n",
      "2                  4.7               3.2                1.3               0.2\n",
      "3                  4.6               3.1                1.5               0.2\n",
      "4                  5.0               3.6                1.4               0.2\n",
      "..                 ...               ...                ...               ...\n",
      "145                6.7               3.0                5.2               2.3\n",
      "146                6.3               2.5                5.0               1.9\n",
      "147                6.5               3.0                5.2               2.0\n",
      "148                6.2               3.4                5.4               2.3\n",
      "149                5.9               3.0                5.1               1.8\n",
      "\n",
      "[150 rows x 4 columns]\n"
     ]
    }
   ],
   "source": [
    "iris_df['petal length (cm)'].replace(iris_df['petal length (cm)'].max(), 7.2, inplace=True)\n",
    "iris_df['petal length (cm)'].replace(iris_df['petal length (cm)'].min(), 1.2, inplace=True)\n",
    "print(iris_df)"
   ]
  },
  {
   "cell_type": "markdown",
   "metadata": {},
   "source": [
    "#### Q10 - Perform right join to combine values based on the 'ID' in the two dataframes. Use the dataframe given below, read the DataFrame with the help of clipboard function"
   ]
  },
  {
   "cell_type": "raw",
   "source": [
    "Data for df1\n",
    "ID Candidate_Name Subject\n",
    "101 Alex History\n",
    "102 Amy English\n",
    "103 Allen Geography\n",
    "104 Alice German\n",
    "105 James History\n",
    "106 Sara German\n",
    "107 Mia English"
   ],
   "metadata": {
    "collapsed": false
   }
  },
  {
   "cell_type": "code",
   "execution_count": 2,
   "metadata": {
    "ExecuteTime": {
     "end_time": "2023-08-18T05:25:40.517710Z",
     "start_time": "2023-08-18T05:25:40.503781Z"
    }
   },
   "outputs": [
    {
     "name": "stdout",
     "output_type": "stream",
     "text": [
      "    ID Candidate_Name    Subject\n",
      "0  101           Alex    History\n",
      "1  102            Amy    English\n",
      "2  103          Allen  Geography\n",
      "3  104          Alice     German\n",
      "4  105          James    History\n",
      "5  106           Sara     German\n",
      "6  107            Mia    English\n"
     ]
    }
   ],
   "source": [
    "import pandas as pd\n",
    "df1 = pd.read_clipboard()\n",
    "print(df1)"
   ]
  },
  {
   "cell_type": "raw",
   "source": [
    "Data for df2\n",
    "ID City Subject_Score\n",
    "101 Delhi 89\n",
    "102 Mumbai 78\n",
    "103 Delhi 77\n",
    "104 Chennai 87\n",
    "105 Hyderabad 87\n",
    "108 Delhi 84"
   ],
   "metadata": {
    "collapsed": false
   }
  },
  {
   "cell_type": "code",
   "execution_count": 14,
   "metadata": {
    "ExecuteTime": {
     "end_time": "2023-08-18T04:39:36.262133Z",
     "start_time": "2023-08-18T04:39:36.248029Z"
    }
   },
   "outputs": [
    {
     "name": "stdout",
     "output_type": "stream",
     "text": [
      "    ID       City  Subject_Score\n",
      "0  101      Delhi             89\n",
      "1  102     Mumbai             78\n",
      "2  103      Delhi             77\n",
      "3  104    Chennai             87\n",
      "4  105  Hyderabad             87\n",
      "5  108      Delhi             84\n"
     ]
    }
   ],
   "source": [
    "df2 = pd.read_clipboard()\n",
    "print(df2)"
   ]
  },
  {
   "cell_type": "code",
   "execution_count": 15,
   "metadata": {
    "ExecuteTime": {
     "end_time": "2023-08-18T04:39:37.855459Z",
     "start_time": "2023-08-18T04:39:37.834619Z"
    }
   },
   "outputs": [
    {
     "name": "stdout",
     "output_type": "stream",
     "text": [
      "    ID Candidate_Name    Subject       City  Subject_Score\n",
      "0  101           Alex    History      Delhi             89\n",
      "1  102            Amy    English     Mumbai             78\n",
      "2  103          Allen  Geography      Delhi             77\n",
      "3  104          Alice     German    Chennai             87\n",
      "4  105          James    History  Hyderabad             87\n",
      "5  108            NaN        NaN      Delhi             84\n"
     ]
    }
   ],
   "source": [
    "result = pd.merge(df1, df2, how=\"right\", on=\"ID\")\n",
    "print(result)"
   ]
  }
 ],
 "metadata": {
  "kernelspec": {
   "display_name": "Python 3 (ipykernel)",
   "language": "python",
   "name": "python3"
  },
  "language_info": {
   "codemirror_mode": {
    "name": "ipython",
    "version": 3
   },
   "file_extension": ".py",
   "mimetype": "text/x-python",
   "name": "python",
   "nbconvert_exporter": "python",
   "pygments_lexer": "ipython3",
   "version": "3.9.17"
  },
  "vscode": {
   "interpreter": {
    "hash": "31f2aee4e71d21fbe5cf8b01ff0e069b9275f58929596ceb00d14d90e3e16cd6"
   }
  }
 },
 "nbformat": 4,
 "nbformat_minor": 2
}
