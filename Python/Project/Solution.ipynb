{
 "cells": [
  {
   "cell_type": "markdown",
   "source": [
    "# EDA Project - Youtube Analysis\n",
    "## Author - Dakshay Ahuja(2010990178)\n",
    "***"
   ],
   "metadata": {
    "collapsed": false
   },
   "id": "18f0f266c8c16230"
  },
  {
   "cell_type": "code",
   "execution_count": null,
   "id": "initial_id",
   "metadata": {
    "collapsed": true
   },
   "outputs": [],
   "source": [
    "#importing libraries\n",
    "import pandas as pd\n",
    "import numpy as np\n",
    "import matplotlib.pyplot as plt\n",
    "import seaborn as sns\n",
    "import nltk\n",
    "from scipy import stats\n",
    "from warnings import filterwarnings\n",
    "filterwarnings('ignore')"
   ]
  },
  {
   "cell_type": "code",
   "execution_count": null,
   "outputs": [],
   "source": [
    "yt_views = pd.read_csv(\"Dataset/train.csv\")\n",
    "print(yt_views.head())"
   ],
   "metadata": {
    "collapsed": false
   },
   "id": "84102e77e8786425"
  },
  {
   "cell_type": "markdown",
   "source": [
    "***\n",
    "### Check the Dimensions of the Data"
   ],
   "metadata": {
    "collapsed": false
   },
   "id": "7282a301da450c1a"
  },
  {
   "cell_type": "code",
   "execution_count": null,
   "outputs": [],
   "source": [
    "rows, columns = yt_views.shape\n",
    "print(f\"The dataset contains {rows} rows and {columns} columns.\")"
   ],
   "metadata": {
    "collapsed": false
   },
   "id": "bb0615072fcdf656"
  },
  {
   "cell_type": "markdown",
   "source": [
    "***\n",
    "### Summary Statistics"
   ],
   "metadata": {
    "collapsed": false
   },
   "id": "72283c23b7966f8a"
  },
  {
   "cell_type": "code",
   "execution_count": null,
   "outputs": [],
   "source": [
    "# Summary statistics for numerical features\n",
    "print(\"Summary statistics for numerical features:\")\n",
    "print(yt_views.describe())\n",
    "\n",
    "# General overview including data types\n",
    "print(\"\\nGeneral overview of data:\")\n",
    "print(yt_views.info())"
   ],
   "metadata": {
    "collapsed": false
   },
   "id": "fc8307153d88271b"
  },
  {
   "cell_type": "markdown",
   "source": [
    "***\n",
    "### Identifying Numeric and Categorical Columns"
   ],
   "metadata": {
    "collapsed": false
   },
   "id": "7cf30b93b0d667a9"
  },
  {
   "cell_type": "code",
   "execution_count": null,
   "outputs": [],
   "source": [
    "# Identifying numeric columns\n",
    "numeric_columns = yt_views.select_dtypes(include=[np.number]).columns.tolist()\n",
    "print(f\"Numeric columns: {numeric_columns} \\n\")\n",
    "\n",
    "# Identifying categorical columns\n",
    "categorical_columns = yt_views.select_dtypes(include=['object']).columns.tolist()\n",
    "print(f\"Categorical columns: {categorical_columns}\")"
   ],
   "metadata": {
    "collapsed": false
   },
   "id": "1b0ca4e3c4aecbb9"
  },
  {
   "cell_type": "markdown",
   "source": [
    "***\n",
    "### Fixing Data type of columns"
   ],
   "metadata": {
    "collapsed": false
   },
   "id": "51e4652253f82b8c"
  },
  {
   "cell_type": "code",
   "execution_count": null,
   "outputs": [],
   "source": [
    "# Columns to be converted\n",
    "columns_to_convert = ['category_id','Tag_count', 'likes', 'dislike', 'views', 'comment_count', 'Trend_day_count', 'Trend_tag_count']\n",
    "\n",
    "# Convert columns to numeric data type\n",
    "for column in columns_to_convert:\n",
    "    yt_views[column] = pd.to_numeric(yt_views[column], errors='coerce')\n",
    "\n",
    "print(\"Data types after conversion:\")\n",
    "print(yt_views.dtypes)"
   ],
   "metadata": {
    "collapsed": false
   },
   "id": "b58a992db1450616"
  },
  {
   "cell_type": "markdown",
   "source": [
    "***\n",
    "### Missing Value Analysis"
   ],
   "metadata": {
    "collapsed": false
   },
   "id": "f1aaea7ff50a80ee"
  },
  {
   "cell_type": "markdown",
   "source": [
    "##### Dropping unnecessary columns"
   ],
   "metadata": {
    "collapsed": false
   },
   "id": "8438d93942ece5a3"
  },
  {
   "cell_type": "code",
   "execution_count": null,
   "outputs": [],
   "source": [
    "yt_views.drop(['Unnamed: 17', 'Unnamed: 18'], axis=1, inplace=True)"
   ],
   "metadata": {
    "collapsed": false
   },
   "id": "1f90b23c7d80b20c"
  },
  {
   "cell_type": "markdown",
   "source": [
    "##### Display the Count of Missing Values in Each Column"
   ],
   "metadata": {
    "collapsed": false
   },
   "id": "3a40c3ce28436e94"
  },
  {
   "cell_type": "code",
   "execution_count": null,
   "outputs": [],
   "source": [
    "# Using isnull() method to check for missing values, sum() to aggregate them\n",
    "missing_values_count = yt_views.isnull().sum()\n",
    "\n",
    "# Printing the count of missing values for each column\n",
    "print(\"Missing Values per Column:\")\n",
    "print(missing_values_count)"
   ],
   "metadata": {
    "collapsed": false
   },
   "id": "f3e436edf3adf0a9"
  },
  {
   "cell_type": "markdown",
   "source": [
    "##### Display Missing Values as a Percentage for Each Column"
   ],
   "metadata": {
    "collapsed": false
   },
   "id": "2144c2222362cf50"
  },
  {
   "cell_type": "code",
   "execution_count": null,
   "outputs": [],
   "source": [
    "# Calculate the total number of rows in the DataFrame\n",
    "total_rows = len(yt_views)\n",
    "\n",
    "# Calculate the percentage of missing values for each column\n",
    "missing_values_percentage = (yt_views.isnull().sum() / total_rows) * 100\n",
    "\n",
    "# Printing the percentage of missing values for each column\n",
    "print(\"Missing Values Percentage per Column:\")\n",
    "print(missing_values_percentage)"
   ],
   "metadata": {
    "collapsed": false
   },
   "id": "36405758ce8ba23"
  },
  {
   "cell_type": "markdown",
   "source": [
    "#### Fill Missing Values for Numeric Columns"
   ],
   "metadata": {
    "collapsed": false
   },
   "id": "8d220ac2fd47aca2"
  },
  {
   "cell_type": "code",
   "execution_count": null,
   "outputs": [],
   "source": [
    "# Columns to be filled (numeric ones from the previous step)\n",
    "columns_to_fill_numeric = ['subscriber', 'Trend_day_count', 'Tag_count', 'Trend_tag_count', 'comment_count', 'likes', 'dislike', 'views']\n",
    "\n",
    "# Filling missing values with the mean of each respective column\n",
    "for column in columns_to_fill_numeric:\n",
    "    mean_value = yt_views[column].mean()\n",
    "    yt_views[column].fillna(mean_value, inplace=True)\n",
    "\n",
    "# Confirm that there are no more missing values in these columns\n",
    "print(\"Missing Values After Filling Numeric Columns:\")\n",
    "print(yt_views[columns_to_fill_numeric].isnull().sum())"
   ],
   "metadata": {
    "collapsed": false
   },
   "id": "35d96dc69f98ab12"
  },
  {
   "cell_type": "markdown",
   "source": [
    "#### Fill Missing Values for Categorical Columns"
   ],
   "metadata": {
    "collapsed": false
   },
   "id": "5c5c04bc8755ed83"
  },
  {
   "cell_type": "code",
   "execution_count": null,
   "outputs": [],
   "source": [
    "# Columns to be filled (categorical ones)\n",
    "columns_to_fill_cat = ['category_id', 'channel_title', 'title', 'tags', 'description']\n",
    "\n",
    "# Filling missing values with the mode of each respective column\n",
    "for column in columns_to_fill_cat:\n",
    "    mode_value = yt_views[column].mode()[0]\n",
    "    yt_views[column].fillna(mode_value, inplace=True)\n",
    "\n",
    "# Confirm that there are no more missing values in these columns\n",
    "print(\"Missing Values After Filling Categorical Columns:\")\n",
    "print(yt_views[columns_to_fill_cat].isnull().sum())"
   ],
   "metadata": {
    "collapsed": false
   },
   "id": "8e4e2004f700908a"
  },
  {
   "cell_type": "markdown",
   "source": [
    "***\n",
    "### Detecting and treating Outliers"
   ],
   "metadata": {
    "collapsed": false
   },
   "id": "c5d5e8e082cd9566"
  },
  {
   "cell_type": "code",
   "execution_count": null,
   "outputs": [],
   "source": [
    "# Numeric Columns to check for outliers\n",
    "numerical_columns = ['subscriber', 'Trend_day_count', 'Tag_count', 'Trend_tag_count',\n",
    "                     'comment_count', 'likes', 'dislike', 'views']\n",
    "\n",
    "# Loop through each numerical column to replace outliers with median\n",
    "for col in numerical_columns:\n",
    "    Q1 = yt_views[col].quantile(0.25)\n",
    "    Q3 = yt_views[col].quantile(0.75)\n",
    "    IQR = Q3 - Q1\n",
    "\n",
    "    # Define bounds for the outliers\n",
    "    lower_bound = Q1 - 1.5 * IQR\n",
    "    upper_bound = Q3 + 1.5 * IQR\n",
    "\n",
    "    # Identify outliers\n",
    "    outliers = (yt_views[col] < lower_bound) | (yt_views[col] > upper_bound)\n",
    "\n",
    "    # Print the number of outliers in each column\n",
    "    print(f\"Number of outliers in {col}: {outliers.sum()}\")\n",
    "\n",
    "    # Find the median\n",
    "    median_value = yt_views[col].median()\n",
    "\n",
    "    # Replace outliers with median using .loc[]\n",
    "    yt_views.loc[outliers, col] = median_value\n"
   ],
   "metadata": {
    "collapsed": false
   },
   "id": "64a8cc9fbb1828d"
  },
  {
   "cell_type": "markdown",
   "source": [
    "***\n",
    "## Visualisations\n",
    "***"
   ],
   "metadata": {
    "collapsed": false
   },
   "id": "b06f2c0cf33bbc6b"
  },
  {
   "cell_type": "markdown",
   "source": [
    "#### Histograms for Numerical Columns"
   ],
   "metadata": {
    "collapsed": false
   },
   "id": "602859f728887bd3"
  },
  {
   "cell_type": "code",
   "execution_count": null,
   "outputs": [],
   "source": [
    "# Histogram for 'views'\n",
    "plt.hist(yt_views['views'], bins=50)\n",
    "plt.title('Distribution of Views')\n",
    "plt.xlabel('Views')\n",
    "plt.ylabel('Frequency')\n",
    "plt.show()"
   ],
   "metadata": {
    "collapsed": false
   },
   "id": "f047573bd3c20c40"
  },
  {
   "cell_type": "markdown",
   "source": [
    "#### Bar Plot for Categorical Columns"
   ],
   "metadata": {
    "collapsed": false
   },
   "id": "d4ee891201b9d311"
  },
  {
   "cell_type": "code",
   "execution_count": null,
   "outputs": [],
   "source": [
    "# Bar plot for 'category_id'\n",
    "sns.countplot(data=yt_views, x='category_id')\n",
    "plt.title('Distribution of Categories')\n",
    "plt.show()"
   ],
   "metadata": {
    "collapsed": false
   },
   "id": "ff4e0aed452877bb"
  },
  {
   "cell_type": "markdown",
   "source": [
    "#### Correlation Heatmap"
   ],
   "metadata": {
    "collapsed": false
   },
   "id": "88046e117e94d720"
  },
  {
   "cell_type": "code",
   "execution_count": null,
   "outputs": [],
   "source": [
    "# Correlation heatmap\n",
    "corr_matrix = yt_views.corr()\n",
    "sns.heatmap(corr_matrix, annot=True, cmap='coolwarm')\n",
    "plt.title('Correlation Heatmap')\n",
    "plt.show()"
   ],
   "metadata": {
    "collapsed": false
   },
   "id": "c95da1afd43a46a1"
  },
  {
   "cell_type": "markdown",
   "source": [
    "#### Scatter Plot for Target Variable"
   ],
   "metadata": {
    "collapsed": false
   },
   "id": "e017d17124e1f8f0"
  },
  {
   "cell_type": "code",
   "execution_count": null,
   "outputs": [],
   "source": [
    "# Scatter plot between 'likes' and 'views'\n",
    "sns.scatterplot(data=yt_views, x='likes', y='views')\n",
    "plt.title('Likes vs Views')\n",
    "plt.show()"
   ],
   "metadata": {
    "collapsed": false
   },
   "id": "a46f448038ebbed6"
  },
  {
   "cell_type": "markdown",
   "source": [
    "#### Box Plot for Outliers"
   ],
   "metadata": {
    "collapsed": false
   },
   "id": "54f4e19119dcce14"
  },
  {
   "cell_type": "code",
   "execution_count": null,
   "outputs": [],
   "source": [
    "# Box plot for 'views'\n",
    "sns.boxplot(yt_views['views'])\n",
    "plt.title('Boxplot of Views')\n",
    "plt.show()"
   ],
   "metadata": {
    "collapsed": false
   },
   "id": "d6d0adab19d7decf"
  },
  {
   "cell_type": "markdown",
   "source": [
    "#### Line Plot for Time Series Data"
   ],
   "metadata": {
    "collapsed": false
   },
   "id": "3c64b10cfed8df3f"
  },
  {
   "cell_type": "code",
   "execution_count": null,
   "outputs": [],
   "source": [
    "# Line plot to visualize 'views' against 'Trend_day_count'\n",
    "sns.lineplot(data=yt_views, x='Trend_day_count', y='views')\n",
    "plt.title('Views Over Trend Day Count')\n",
    "plt.show()"
   ],
   "metadata": {
    "collapsed": false
   },
   "id": "fee2601077ac96a8"
  },
  {
   "cell_type": "markdown",
   "source": [
    "#### Pair Plot for Multi-Variate Analysis"
   ],
   "metadata": {
    "collapsed": false
   },
   "id": "15c4d0fb20bb66a3"
  },
  {
   "cell_type": "code",
   "execution_count": null,
   "outputs": [],
   "source": [
    "# Pair plot for numerical columns\n",
    "sns.pairplot(yt_views[['views', 'likes', 'comment_count']])\n",
    "plt.title('Pair Plot')\n",
    "plt.show()"
   ],
   "metadata": {
    "collapsed": false
   },
   "id": "ae48071f7eacc2bd"
  },
  {
   "cell_type": "markdown",
   "source": [
    "#### Violin Plot for Mixed Data"
   ],
   "metadata": {
    "collapsed": false
   },
   "id": "ef2707381a5c067f"
  },
  {
   "cell_type": "code",
   "execution_count": null,
   "outputs": [],
   "source": [
    "# Violin plot for 'views' by 'category_id'\n",
    "sns.violinplot(data=yt_views, x='category_id', y='views')\n",
    "plt.title('Violin Plot of Views by Category')\n",
    "plt.show()"
   ],
   "metadata": {
    "collapsed": false
   },
   "id": "9eebdfa1d40541ba"
  },
  {
   "cell_type": "markdown",
   "source": [
    "#### Density Plot"
   ],
   "metadata": {
    "collapsed": false
   },
   "id": "100688e34666f740"
  },
  {
   "cell_type": "code",
   "execution_count": null,
   "outputs": [],
   "source": [
    "# Density plot for 'views'\n",
    "sns.kdeplot(yt_views['views'], shade=True)\n",
    "plt.title('Density Plot of Views')\n",
    "plt.show()"
   ],
   "metadata": {
    "collapsed": false
   },
   "id": "28c438256ec43f39"
  },
  {
   "cell_type": "markdown",
   "source": [
    "#### Strip Plot"
   ],
   "metadata": {
    "collapsed": false
   },
   "id": "531efe7652169890"
  },
  {
   "cell_type": "code",
   "execution_count": null,
   "outputs": [],
   "source": [
    "# Strip Plot\n",
    "sns.stripplot(x=\"category_id\", y=\"views\", data=yt_views, jitter=True)\n",
    "plt.title('Strip Plot of Views by Category')\n",
    "plt.show()"
   ],
   "metadata": {
    "collapsed": false
   },
   "id": "b8ffb892d6f266fa"
  },
  {
   "cell_type": "markdown",
   "source": [
    "#### Facet Grid with Scatter Plot"
   ],
   "metadata": {
    "collapsed": false
   },
   "id": "8638e3b5573c4d9c"
  },
  {
   "cell_type": "code",
   "execution_count": null,
   "outputs": [],
   "source": [
    "# Facet Grid with Scatter Plot\n",
    "g = sns.FacetGrid(yt_views, col='category_id', col_wrap=4, height=5, aspect=1)\n",
    "g = g.map(sns.scatterplot, 'likes', 'views')\n",
    "plt.suptitle('Scatter Plot of Views by Likes, Faceted by Category')\n",
    "plt.show()"
   ],
   "metadata": {
    "collapsed": false
   },
   "id": "2b841e1bbe6dd620"
  },
  {
   "cell_type": "markdown",
   "source": [
    "#### Joint Plot"
   ],
   "metadata": {
    "collapsed": false
   },
   "id": "d890c34dd7176f29"
  },
  {
   "cell_type": "code",
   "execution_count": null,
   "outputs": [],
   "source": [
    "# Joint Plot\n",
    "sns.jointplot(data=yt_views, x='likes', y='views', kind='hex')\n",
    "plt.suptitle('Joint Plot of Views and Likes')\n",
    "plt.show()"
   ],
   "metadata": {
    "collapsed": false
   },
   "id": "60521c8bb5f91081"
  },
  {
   "cell_type": "markdown",
   "source": [
    "#### Cluster Map"
   ],
   "metadata": {
    "collapsed": false
   },
   "id": "319833fc67b55045"
  },
  {
   "cell_type": "code",
   "execution_count": null,
   "outputs": [],
   "source": [
    "# Cluster Map\n",
    "sns.clustermap(yt_views.corr(), annot=True, cmap='coolwarm')\n",
    "plt.title('Cluster Map of Correlations')\n",
    "plt.show()"
   ],
   "metadata": {
    "collapsed": false
   },
   "id": "7e99224683db3458"
  },
  {
   "cell_type": "markdown",
   "source": [
    "#### 3D Plot"
   ],
   "metadata": {
    "collapsed": false
   },
   "id": "33e2dcd0db4a374c"
  },
  {
   "cell_type": "code",
   "execution_count": null,
   "outputs": [],
   "source": [
    "fig = plt.figure()\n",
    "ax = fig.add_subplot(111, projection='3d')\n",
    "\n",
    "ax.scatter(yt_views['views'], yt_views['likes'], yt_views['comment_count'])\n",
    "ax.set_xlabel('Views')\n",
    "ax.set_ylabel('Likes')\n",
    "ax.set_zlabel('Comment Count')\n",
    "plt.title('3D Scatter Plot of Views, Likes, and Comment Count')\n",
    "plt.show()"
   ],
   "metadata": {
    "collapsed": false
   },
   "id": "bce938c5bdc9c7e0"
  },
  {
   "cell_type": "markdown",
   "source": [
    "*** \n",
    "### Predicting the number of views a YouTube video will get using a simple linear regression mode"
   ],
   "metadata": {
    "collapsed": false
   },
   "id": "b3c422dbb6913c99"
  },
  {
   "cell_type": "code",
   "execution_count": null,
   "outputs": [],
   "source": [
    "from sklearn.model_selection import train_test_split\n",
    "from sklearn.ensemble import RandomForestRegressor\n",
    "from sklearn.metrics import mean_squared_error\n",
    "\n",
    "# Create a copy of the original DataFrame\n",
    "yt_views_copy = yt_views.copy()\n",
    "\n",
    "# Preprocessing\n",
    "# Drop unnecessary columns\n",
    "columns_to_drop = ['Video_id', 'channel_title', 'subscriber', 'title', 'tags', 'description']\n",
    "yt_views_copy = yt_views_copy.drop(columns=columns_to_drop)\n",
    "\n",
    "# Convert 'TRUE'/'FALSE' string to actual boolean and then to integer\n",
    "bool_columns = ['comment_disabled', 'like dislike disabled', 'tag appered in title']\n",
    "for col in bool_columns:\n",
    "    yt_views_copy[col] = yt_views_copy[col].apply(lambda x: 1 if x == 'TRUE' else 0 if x == 'FALSE' else x)\n",
    "\n",
    "# Handling missing values by replacing them with the median of the column\n",
    "for column in yt_views_copy.columns:\n",
    "    yt_views_copy[column].fillna(yt_views_copy[column].median(), inplace=True)\n",
    "\n",
    "# Convert boolean columns to integer (after making sure there are no NaNs)\n",
    "for col in bool_columns:\n",
    "    yt_views_copy[col] = yt_views_copy[col].astype(int)\n",
    "\n",
    "# Feature and target variables\n",
    "X = yt_views_copy.drop('views', axis=1)\n",
    "y = yt_views_copy['views']\n",
    "\n",
    "# Split the data into training and testing sets\n",
    "X_train, X_test, y_train, y_test = train_test_split(X, y, test_size=0.2, random_state=42)\n",
    "\n",
    "# Initialize and train the model\n",
    "model = RandomForestRegressor(n_estimators=100, random_state=42)\n",
    "model.fit(X_train, y_train)\n",
    "\n",
    "# Predictions and evaluation\n",
    "y_pred = model.predict(X_test)\n",
    "mse = mean_squared_error(y_test, y_pred)\n",
    "rmse = np.sqrt(mse)\n",
    "\n",
    "print(f'Root Mean Squared Error: {rmse}')"
   ],
   "metadata": {
    "collapsed": false
   },
   "id": "d27ea4bd3325594f"
  },
  {
   "cell_type": "markdown",
   "source": [
    "***\n",
    "### Sentiment Analysis on the 'description' column using VADER sentiment analysis tool from the Natural Language Toolkit (NLTK) library"
   ],
   "metadata": {
    "collapsed": false
   },
   "id": "551d265850c2b44"
  },
  {
   "cell_type": "code",
   "execution_count": null,
   "outputs": [],
   "source": [
    "from nltk.sentiment.vader import SentimentIntensityAnalyzer\n",
    "\n",
    "# Initialize VADER\n",
    "sia = SentimentIntensityAnalyzer()\n",
    "\n",
    "# Sentiment analysis on 'description' and add a new column for the compound score\n",
    "yt_views['sentiment'] = yt_views['description'].apply(lambda x: sia.polarity_scores(str(x))['compound'])\n",
    "print(yt_views.head())"
   ],
   "metadata": {
    "collapsed": false
   },
   "id": "70e68775727c0ec9"
  },
  {
   "cell_type": "markdown",
   "source": [
    "***\n",
    "### Sentiment Analysis using Naive Bayes classifier along with TF-IDF for feature extraction."
   ],
   "metadata": {
    "collapsed": false
   },
   "id": "98940dbd38f3a12a"
  },
  {
   "cell_type": "code",
   "execution_count": null,
   "outputs": [],
   "source": [
    "from sklearn.feature_extraction.text import TfidfVectorizer\n",
    "from sklearn.model_selection import train_test_split\n",
    "from sklearn.naive_bayes import MultinomialNB\n",
    "from sklearn.metrics import accuracy_score, confusion_matrix, classification_report\n",
    "\n",
    "# Create a copy of the original DataFrame\n",
    "yt_views_copy = yt_views.copy()\n",
    "\n",
    "# Drop rows with empty descriptions or labels in the copy\n",
    "yt_views_copy.dropna(subset=['description', 'comment_disabled'], inplace=True)\n",
    "\n",
    "# Convert 'TRUE'/'FALSE' string to boolean if needed\n",
    "yt_views_copy['comment_disabled'] = yt_views_copy['comment_disabled'].apply(lambda x: True if x == 'TRUE' else False if x == 'FALSE' else x)\n",
    "\n",
    "# Convert boolean label to integer (True:1, False:0)\n",
    "yt_views_copy['comment_disabled'] = yt_views_copy['comment_disabled'].astype(int)\n",
    "\n",
    "# Feature extraction with TF-IDF\n",
    "vectorizer = TfidfVectorizer(sublinear_tf=True, encoding='utf-8', decode_error='ignore')\n",
    "X = vectorizer.fit_transform(yt_views_copy['description'])\n",
    "\n",
    "# Convert boolean label to integer (True:1, False:0)\n",
    "y = yt_views_copy['comment_disabled'].astype(int)\n",
    "\n",
    "# Split dataset into training and testing sets\n",
    "X_train, X_test, y_train, y_test = train_test_split(X, y, test_size=0.25, random_state=42)\n",
    "\n",
    "# Naive Bayes Classifier\n",
    "clf = MultinomialNB()\n",
    "clf.fit(X_train, y_train)\n",
    "y_pred = clf.predict(X_test)\n",
    "\n",
    "# Evaluate the model\n",
    "print(\"Accuracy: {:.2f}%\".format(accuracy_score(y_test, y_pred) * 100))\n",
    "print(\"Confusion Matrix:\")\n",
    "print(confusion_matrix(y_test, y_pred))\n",
    "print(\"Classification Report:\")\n",
    "print(classification_report(y_test, y_pred))"
   ],
   "metadata": {
    "collapsed": false
   },
   "id": "84eb9b6faddc5f24"
  }
 ],
 "metadata": {
  "kernelspec": {
   "display_name": "Python 3",
   "language": "python",
   "name": "python3"
  },
  "language_info": {
   "codemirror_mode": {
    "name": "ipython",
    "version": 2
   },
   "file_extension": ".py",
   "mimetype": "text/x-python",
   "name": "python",
   "nbconvert_exporter": "python",
   "pygments_lexer": "ipython2",
   "version": "2.7.6"
  }
 },
 "nbformat": 4,
 "nbformat_minor": 5
}
