{
 "cells": [
  {
   "cell_type": "code",
   "execution_count": 23,
   "outputs": [],
   "source": [
    "import numpy as np\n",
    "import pandas as pd\n",
    "import matplotlib.pyplot as plt\n",
    "import seaborn as sns"
   ],
   "metadata": {
    "collapsed": false,
    "ExecuteTime": {
     "end_time": "2023-08-20T07:25:29.767035Z",
     "start_time": "2023-08-20T07:25:29.757807Z"
    }
   },
   "id": "95ae34dfbc8835ec"
  },
  {
   "cell_type": "code",
   "execution_count": 7,
   "id": "initial_id",
   "metadata": {
    "collapsed": true,
    "ExecuteTime": {
     "end_time": "2023-08-17T05:57:38.062503Z",
     "start_time": "2023-08-17T05:57:36.014176Z"
    }
   },
   "outputs": [
    {
     "name": "stdout",
     "output_type": "stream",
     "text": [
      "2020 is a leap year.\n"
     ]
    }
   ],
   "source": [
    "#Q1\n",
    "year = int(input(\"Enter a year: \"))\n",
    "if(year % 4) == 0:\n",
    "    if(year % 100) == 0:\n",
    "        if(year % 400) == 0:\n",
    "            print(year, \"is a leap year.\")\n",
    "        else:\n",
    "            print(year, \"is not a leap year.\")\n",
    "    else:\n",
    "        print(year, \"is a leap year.\")\n",
    "else:\n",
    "    print(year, \"is not a leap year.\")"
   ]
  },
  {
   "cell_type": "code",
   "execution_count": 23,
   "outputs": [
    {
     "name": "stdout",
     "output_type": "stream",
     "text": [
      "Original String: Hello, Dakshay!! @[][][]\n",
      "Modified String: Hello Dakshay \n"
     ]
    }
   ],
   "source": [
    "#Q2\n",
    "punctuations = \"!()-[]{};:'\\\"\\,<>./?@#$%^&*_~\"\n",
    "string = input(\"Enter string: \")\n",
    "print(\"Original String:\",string)\n",
    "new_str = \"\"\n",
    "for char in string:\n",
    "    if char not in punctuations:\n",
    "        new_str += char\n",
    "print(\"Modified String:\", new_str)"
   ],
   "metadata": {
    "collapsed": false,
    "ExecuteTime": {
     "end_time": "2023-08-17T06:30:40.329521Z",
     "start_time": "2023-08-17T06:30:37.436841Z"
    }
   },
   "id": "8a6b64db8246f3b6"
  },
  {
   "cell_type": "code",
   "execution_count": 88,
   "outputs": [
    {
     "name": "stdout",
     "output_type": "stream",
     "text": [
      "num1: 5\n",
      "num2: 3\n"
     ]
    }
   ],
   "source": [
    "#Q3\n",
    "num1 = int(input(\"Enter number 1: \"))\n",
    "num2 = int(input(\"Enter number 2: \"))\n",
    "num1, num2 = num2, num1\n",
    "print(\"num1:\", num1)\n",
    "print(\"num2:\", num2)"
   ],
   "metadata": {
    "collapsed": false,
    "ExecuteTime": {
     "end_time": "2023-08-17T09:34:40.084468Z",
     "start_time": "2023-08-17T09:34:37.771344Z"
    }
   },
   "id": "bf6f79bf872e7228"
  },
  {
   "cell_type": "code",
   "execution_count": 26,
   "outputs": [
    {
     "name": "stdout",
     "output_type": "stream",
     "text": [
      "150\n"
     ]
    }
   ],
   "source": [
    "#Q4\n",
    "num = 10\n",
    "str = \"15\"\n",
    "print(num * int(str))"
   ],
   "metadata": {
    "collapsed": false,
    "ExecuteTime": {
     "end_time": "2023-08-17T07:38:42.857209Z",
     "start_time": "2023-08-17T07:38:42.836193Z"
    }
   },
   "id": "1db1d6e596086bd0"
  },
  {
   "cell_type": "code",
   "execution_count": 42,
   "outputs": [
    {
     "name": "stdout",
     "output_type": "stream",
     "text": [
      "a \n",
      "b c \n",
      "d e f \n",
      "g h i j \n",
      "k l m n o \n",
      "p q r s t u \n"
     ]
    }
   ],
   "source": [
    "#Q5\n",
    "ascii = 97\n",
    "for i in range(6):\n",
    "    for j in range(i+1):\n",
    "        print(chr(ascii), end=' ')\n",
    "        ascii+=1\n",
    "    print()"
   ],
   "metadata": {
    "collapsed": false,
    "ExecuteTime": {
     "end_time": "2023-08-17T07:55:23.732271Z",
     "start_time": "2023-08-17T07:55:23.724620Z"
    }
   },
   "id": "c22114bd0374b3e4"
  },
  {
   "cell_type": "code",
   "execution_count": 44,
   "outputs": [
    {
     "name": "stdout",
     "output_type": "stream",
     "text": [
      "2 X 1 = 2\n",
      "2 X 2 = 4\n",
      "2 X 3 = 6\n",
      "2 X 4 = 8\n",
      "2 X 5 = 10\n",
      "2 X 6 = 12\n",
      "2 X 7 = 14\n",
      "2 X 8 = 16\n",
      "2 X 9 = 18\n",
      "2 X 10 = 20\n",
      "\n",
      "3 X 1 = 3\n",
      "3 X 2 = 6\n",
      "3 X 3 = 9\n",
      "3 X 4 = 12\n",
      "3 X 5 = 15\n",
      "3 X 6 = 18\n",
      "3 X 7 = 21\n",
      "3 X 8 = 24\n",
      "3 X 9 = 27\n",
      "3 X 10 = 30\n",
      "\n",
      "4 X 1 = 4\n",
      "4 X 2 = 8\n",
      "4 X 3 = 12\n",
      "4 X 4 = 16\n",
      "4 X 5 = 20\n",
      "4 X 6 = 24\n",
      "4 X 7 = 28\n",
      "4 X 8 = 32\n",
      "4 X 9 = 36\n",
      "4 X 10 = 40\n",
      "\n",
      "5 X 1 = 5\n",
      "5 X 2 = 10\n",
      "5 X 3 = 15\n",
      "5 X 4 = 20\n",
      "5 X 5 = 25\n",
      "5 X 6 = 30\n",
      "5 X 7 = 35\n",
      "5 X 8 = 40\n",
      "5 X 9 = 45\n",
      "5 X 10 = 50\n"
     ]
    }
   ],
   "source": [
    "#Q6\n",
    "n = int(input(\"Enter n: \"))\n",
    "\n",
    "for i in range(2, n+1):\n",
    "    for j in range(1, 11):\n",
    "        print(i, \"X\", j, \"=\", i*j)\n",
    "    print()"
   ],
   "metadata": {
    "collapsed": false,
    "ExecuteTime": {
     "end_time": "2023-08-17T08:02:20.971788Z",
     "start_time": "2023-08-17T08:02:19.492632Z"
    }
   },
   "id": "da23bc4f3d6ff9c0"
  },
  {
   "cell_type": "code",
   "execution_count": 52,
   "outputs": [
    {
     "name": "stdout",
     "output_type": "stream",
     "text": [
      "Given height(in cm):  170 cm\n",
      "Height(in inch):  66.93 inch\n",
      "Height(in feet):  5.58 ft\n"
     ]
    }
   ],
   "source": [
    "#Q7\n",
    "height_cm = int(input(\"Enter height(in cm): \"))\n",
    "height_ft = round(height_cm / 30.48, 2) \n",
    "height_in = round(height_cm / 2.54, 2)\n",
    "print(\"Given height(in cm): \", height_cm,\"cm\")\n",
    "print(\"Height(in inch): \", height_in,\"inch\")\n",
    "print(\"Height(in feet): \", height_ft,\"ft\")"
   ],
   "metadata": {
    "collapsed": false,
    "ExecuteTime": {
     "end_time": "2023-08-17T08:12:36.171959Z",
     "start_time": "2023-08-17T08:12:34.962570Z"
    }
   },
   "id": "71dda25c7fafb6b2"
  },
  {
   "cell_type": "code",
   "execution_count": 60,
   "outputs": [
    {
     "name": "stdout",
     "output_type": "stream",
     "text": [
      "* \n",
      "* * \n",
      "* * * \n",
      "* * \n",
      "* \n"
     ]
    }
   ],
   "source": [
    "#Q8\n",
    "n = int(input(\"enter n: \"))\n",
    "for i in range(n):\n",
    "    for j in range(i+1):\n",
    "        print('*', end=' ')\n",
    "    print()\n",
    "    \n",
    "for i in range(n-1,0,-1):\n",
    "    for j in range(i, 0, -1):\n",
    "        print('*', end=' ')\n",
    "    print()"
   ],
   "metadata": {
    "collapsed": false,
    "ExecuteTime": {
     "end_time": "2023-08-17T08:28:46.343365Z",
     "start_time": "2023-08-17T08:28:45.493007Z"
    }
   },
   "id": "2b8867d1ab6a45e7"
  },
  {
   "cell_type": "code",
   "execution_count": 63,
   "outputs": [
    {
     "name": "stdout",
     "output_type": "stream",
     "text": [
      "{'Jon': 26, 'Roger': 34, 'Jessica': 13, 'Monica': 24, 'Ashton': 65}\n"
     ]
    }
   ],
   "source": [
    "#Q9\n",
    "students = [26,'Jon',34,'Roger',13,'Jessica',24,'Monica',65,'Ashton']\n",
    "students_dict = {}\n",
    "\n",
    "for i in range(0, len(students), 2):\n",
    "    students_dict[students[i+1]] = students[i]\n",
    "\n",
    "print(students_dict)"
   ],
   "metadata": {
    "collapsed": false,
    "ExecuteTime": {
     "end_time": "2023-08-17T08:30:31.822076Z",
     "start_time": "2023-08-17T08:30:31.813258Z"
    }
   },
   "id": "b44c08087e0a0b3c"
  },
  {
   "cell_type": "code",
   "execution_count": 81,
   "outputs": [
    {
     "name": "stdout",
     "output_type": "stream",
     "text": [
      "They are anagram\n"
     ]
    }
   ],
   "source": [
    "#Q10\n",
    "str1 = input(\"Enter string 1: \")\n",
    "str2 = input(\"Enter string 2: \")\n",
    "sorted_str1 = ''.join(sorted(str1.lower()))\n",
    "sorted_str2 = ''.join(sorted(str2.lower()))\n",
    "print('They are anagram' if sorted_str1==sorted_str2 else 'They are not anagram')"
   ],
   "metadata": {
    "collapsed": false,
    "ExecuteTime": {
     "end_time": "2023-08-17T08:54:42.626125Z",
     "start_time": "2023-08-17T08:54:34.817048Z"
    }
   },
   "id": "32ca838efdcc7c02"
  },
  {
   "cell_type": "code",
   "execution_count": 86,
   "outputs": [
    {
     "name": "stdout",
     "output_type": "stream",
     "text": [
      "['Anubhav', 'Aditya', 'Chitra', 'Dakshay', 'Muskan']\n"
     ]
    }
   ],
   "source": [
    "#Q11\n",
    "l1 = ['Dakshay', 'Chitra', 'Anubhav', 'Muskan', 'Aditya']\n",
    "\n",
    "for i in range(len(l1)):\n",
    "    for j in range(i+1, len(l1)):\n",
    "        if l1[i][0].lower() > l1[j][0].lower():\n",
    "            l1[i], l1[j] = l1[j], l1[i]\n",
    "print(l1)"
   ],
   "metadata": {
    "collapsed": false,
    "ExecuteTime": {
     "end_time": "2023-08-17T09:32:48.615102Z",
     "start_time": "2023-08-17T09:32:48.602725Z"
    }
   },
   "id": "e45abe39fb251a4b"
  },
  {
   "cell_type": "code",
   "execution_count": 85,
   "outputs": [
    {
     "name": "stdout",
     "output_type": "stream",
     "text": [
      "['Lemon', 'Grapes', 'Kiwi', 'Orange', 'Limes']\n"
     ]
    }
   ],
   "source": [
    "#Q12\n",
    "fruits = (('Lemon','sour'), ('DragonFruit', 'Sweet'), ('Grapes','soUr'), ('Kiwi','Sour'), ('Apples','sweet'), ('Orange','sour'), ('Blueberries','sweet'), ('Limes','Sour') )\n",
    "new_fruits=[]\n",
    "for item in fruits:\n",
    "    if item[1].lower() == 'sour':\n",
    "        new_fruits.append(item[0])\n",
    "print(new_fruits)"
   ],
   "metadata": {
    "collapsed": false,
    "ExecuteTime": {
     "end_time": "2023-08-17T09:18:59.583204Z",
     "start_time": "2023-08-17T09:18:59.576456Z"
    }
   },
   "id": "cc4e590ae98a69fd"
  },
  {
   "cell_type": "code",
   "execution_count": 92,
   "outputs": [
    {
     "name": "stdout",
     "output_type": "stream",
     "text": [
      "Positive Tweets: ['This government policies are good', 'The way he played showed that he is one of the best players in the world', 'Her acting in the play was awesome', \"It's nice to hear this little kid's laugh\"]\n",
      "Negative Tweets: ['bad implementation', 'The wine tastes awful']\n"
     ]
    }
   ],
   "source": [
    "#Q13\n",
    "positive = ['good','awesome', 'best', 'nice']\n",
    "negative = ['worst','awful', 'bad']\n",
    "tweets = ['This government policies are good', \n",
    "'bad implementation', 'The way he played showed that he is one of the best players in the world', 'Her acting in the play was awesome', 'The wine tastes awful', \"It's nice to hear this little kid's laugh\"]\n",
    "\n",
    "positive_tweets = []\n",
    "negative_tweets = []\n",
    "\n",
    "for tweet in tweets:\n",
    "    for item in positive:\n",
    "        if item in tweet:\n",
    "            positive_tweets.append(tweet)\n",
    "    for item in negative:\n",
    "        if item in tweet:\n",
    "            negative_tweets.append(tweet)\n",
    "print(\"Positive Tweets:\", positive_tweets)\n",
    "print(\"Negative Tweets:\", negative_tweets)"
   ],
   "metadata": {
    "collapsed": false,
    "ExecuteTime": {
     "end_time": "2023-08-17T12:31:41.273712Z",
     "start_time": "2023-08-17T12:31:41.263387Z"
    }
   },
   "id": "b9cbc6278cec6497"
  },
  {
   "cell_type": "code",
   "execution_count": 94,
   "outputs": [
    {
     "name": "stdout",
     "output_type": "stream",
     "text": [
      "[[ 19  37  34]\n",
      " [ 43  97  73]\n",
      " [ 67 157 112]]\n"
     ]
    }
   ],
   "source": [
    "#Q14\n",
    "x = np.array([[1,2,3],[4,5,6],[7,8,9]])\n",
    "y = np.array([[1,8,1],[3,7,3],[4,5,9]])\n",
    "result = x.dot(y)\n",
    "print(result)"
   ],
   "metadata": {
    "collapsed": false,
    "ExecuteTime": {
     "end_time": "2023-08-17T12:34:03.694637Z",
     "start_time": "2023-08-17T12:34:03.676370Z"
    }
   },
   "id": "83b65b0b6394eb1d"
  },
  {
   "cell_type": "code",
   "execution_count": 96,
   "outputs": [
    {
     "name": "stdout",
     "output_type": "stream",
     "text": [
      "{'emp01': 'Raj', 'emp02': 'Sheela', 'emp03': 'Joseph'}\n"
     ]
    }
   ],
   "source": [
    "#Q15\n",
    "Employee = {'emp 01' : 'Raj', 'emp 02' : 'Sheela', 'emp 0 3 ': 'Joseph'}; \n",
    "Employee = {x.replace(' ',''):y  for x,y in Employee.items()}\n",
    "print(Employee)    "
   ],
   "metadata": {
    "collapsed": false,
    "ExecuteTime": {
     "end_time": "2023-08-17T12:44:53.303031Z",
     "start_time": "2023-08-17T12:44:53.289805Z"
    }
   },
   "id": "1d94f7f288c20770"
  },
  {
   "cell_type": "code",
   "execution_count": 11,
   "outputs": [
    {
     "name": "stdout",
     "output_type": "stream",
     "text": [
      "     Subject  Score\n",
      "0      Maths    345\n",
      "1    Physics    432\n",
      "2  Chemistry    456\n"
     ]
    }
   ],
   "source": [
    "#Q16\n",
    "score_dict = {'Subject': ['Maths', 'Physics', 'Chemistry', 'Biology', 'Geology'], 'Score':[345,432,456,234,254]}\n",
    "score_df = pd.DataFrame(score_dict)\n",
    "print(score_df[(score_df['Score']<500) & (score_df['Score']>300)])"
   ],
   "metadata": {
    "collapsed": false,
    "ExecuteTime": {
     "end_time": "2023-08-18T04:46:41.821024Z",
     "start_time": "2023-08-18T04:46:41.817948Z"
    }
   },
   "id": "d3d5f04656829051"
  },
  {
   "cell_type": "code",
   "execution_count": 16,
   "outputs": [
    {
     "name": "stdout",
     "output_type": "stream",
     "text": [
      "[12459, 12447, 12678]\n"
     ]
    }
   ],
   "source": [
    "#Q17\n",
    "sales = [1432,143223,2043332,1642357,54327,754338,12459,75435,224454,1433,12447,25532,86674,74338,12678]\n",
    "new_sales = [item for item in sales if 10000<=item<=20000]\n",
    "print(new_sales)"
   ],
   "metadata": {
    "collapsed": false,
    "ExecuteTime": {
     "end_time": "2023-08-18T04:59:15.896581Z",
     "start_time": "2023-08-18T04:59:15.885865Z"
    }
   },
   "id": "bcc27ad1315adc70"
  },
  {
   "cell_type": "code",
   "execution_count": 24,
   "outputs": [
    {
     "name": "stdout",
     "output_type": "stream",
     "text": [
      "    Name  Rank  rank\n",
      "3    Tom    84   1.0\n",
      "0    Joy   115   2.0\n",
      "2  Karan   341   3.0\n",
      "1    Mia   451   4.0\n"
     ]
    }
   ],
   "source": [
    "#Q18\n",
    "data = {'Name':['Joy','Mia','Karan','Tom'],\n",
    "        'Rank':[115,451,341,84]}\n",
    "data_df = pd.DataFrame(data)\n",
    "data_df['rank'] = data_df.Rank.rank()\n",
    "print(data_df.sort_values('rank'))"
   ],
   "metadata": {
    "collapsed": false,
    "ExecuteTime": {
     "end_time": "2023-08-18T07:13:51.942687Z",
     "start_time": "2023-08-18T07:13:51.919407Z"
    }
   },
   "id": "5402e220579a84d3"
  },
  {
   "cell_type": "code",
   "execution_count": 35,
   "outputs": [
    {
     "name": "stdout",
     "output_type": "stream",
     "text": [
      "    Name  Rank  rank\n",
      "0    Mia   451   4.0\n",
      "1    Joy   115   2.0\n",
      "2  Karan   341   3.0\n",
      "3    Tom    84   1.0\n",
      "    Name  Rank  rank\n",
      "0    Joy   115   2.0\n",
      "1    Mia   451   4.0\n",
      "2  Karan   341   3.0\n",
      "3    Tom    84   1.0\n"
     ]
    }
   ],
   "source": [
    "#Q19\n",
    "print(data_df)\n",
    "data_df.iloc[0], data_df.iloc[1] = data_df.iloc[1], data_df.iloc[0] \n",
    "print(data_df)"
   ],
   "metadata": {
    "collapsed": false,
    "ExecuteTime": {
     "end_time": "2023-08-18T07:16:42.902638Z",
     "start_time": "2023-08-18T07:16:42.892592Z"
    }
   },
   "id": "55083acc7d79a62b"
  },
  {
   "cell_type": "code",
   "execution_count": 5,
   "outputs": [
    {
     "name": "stdout",
     "output_type": "stream",
     "text": [
      "    Name  Rank Gender\n",
      "0    Mia    47      F\n",
      "1   Sara    38      F\n",
      "2    Joy    47      M\n",
      "3  Karan    41      M\n"
     ]
    }
   ],
   "source": [
    "#Q20\n",
    "data = {'Name':['Mia','Sara','Joy','Karan'],\n",
    "        'Rank':[47,38,47,41],\n",
    "        'Gender':[1,1,0,0]}\n",
    "data_df = pd.DataFrame(data)\n",
    "data_df['Gender'] = data_df['Gender'].map({0:'M',1:'F'})\n",
    "print(data_df)"
   ],
   "metadata": {
    "collapsed": false,
    "ExecuteTime": {
     "end_time": "2023-08-20T07:16:15.883579Z",
     "start_time": "2023-08-20T07:16:15.873955Z"
    }
   },
   "id": "61fc35bdd7c5066d"
  },
  {
   "cell_type": "code",
   "execution_count": 20,
   "outputs": [
    {
     "name": "stdout",
     "output_type": "stream",
     "text": [
      "[331 245 246 475 348 229]\n",
      "[[331 245 246]\n",
      " [475 348 229]]\n"
     ]
    }
   ],
   "source": [
    "#Q21\n",
    "arr_1d = np.array([331, 245, 246, 475, 348, 229])\n",
    "print(arr_1d)\n",
    "arr_2d = np.reshape(arr_1d,(2,-1))\n",
    "print(arr_2d)"
   ],
   "metadata": {
    "collapsed": false,
    "ExecuteTime": {
     "end_time": "2023-08-20T07:21:51.477472Z",
     "start_time": "2023-08-20T07:21:51.461021Z"
    }
   },
   "id": "72db4a75290ac3cf"
  },
  {
   "cell_type": "code",
   "execution_count": 22,
   "outputs": [
    {
     "name": "stdout",
     "output_type": "stream",
     "text": [
      "product_a    17.333333\n",
      "product_b    16.333333\n",
      "product_c    21.000000\n",
      "dtype: float64\n"
     ]
    }
   ],
   "source": [
    "#Q22\n",
    "shop = pd.DataFrame([[10, 20, 30], [17, 14, 21], [25, 15, 12]], \n",
    "                    columns=['product_a', 'product_b', 'product_c'],\n",
    "                    index=['Shop1', 'Shop2', 'Shop3'])\n",
    "print(shop.mean())"
   ],
   "metadata": {
    "collapsed": false,
    "ExecuteTime": {
     "end_time": "2023-08-20T07:24:56.807822Z",
     "start_time": "2023-08-20T07:24:56.783224Z"
    }
   },
   "id": "a46bf536f21abeda"
  },
  {
   "cell_type": "code",
   "execution_count": 32,
   "outputs": [
    {
     "data": {
      "text/plain": "<Figure size 640x480 with 1 Axes>",
      "image/png": "[encoded data removed]"
     },
     "metadata": {},
     "output_type": "display_data"
    }
   ],
   "source": [
    "#Q23\n",
    "weight = [34,56,43,22,2,58,89,78,67,56,65,43,23]\n",
    "plt.hist(weight, color='r', rwidth=0.8)\n",
    "plt.title('Histogram')\n",
    "plt.show()"
   ],
   "metadata": {
    "collapsed": false,
    "ExecuteTime": {
     "end_time": "2023-08-20T07:27:57.770476Z",
     "start_time": "2023-08-20T07:27:57.696321Z"
    }
   },
   "id": "8188cf784ca9cef"
  },
  {
   "cell_type": "code",
   "execution_count": 35,
   "outputs": [
    {
     "name": "stdout",
     "output_type": "stream",
     "text": [
      "0    11\n",
      "1    12\n",
      "2    13\n",
      "dtype: int64\n"
     ]
    }
   ],
   "source": [
    "#Q24\n",
    "series_a = pd.Series([11,12,13,14,15])\n",
    "series_b = pd.Series([14,15,16,17,18])\n",
    "series_a = series_a[~series_a.isin(series_b)]\n",
    "print(series_a)"
   ],
   "metadata": {
    "collapsed": false,
    "ExecuteTime": {
     "end_time": "2023-08-20T07:33:42.000510Z",
     "start_time": "2023-08-20T07:33:41.988587Z"
    }
   },
   "id": "9e13d7a3cd92e221"
  },
  {
   "cell_type": "code",
   "execution_count": 42,
   "outputs": [
    {
     "name": "stdout",
     "output_type": "stream",
     "text": [
      "    0   1   2   3   4   5   6   7\n",
      "0   1   2   3   4   5   6   7   8\n",
      "1   9  10  11  12  13  14  15  16\n",
      "2  17  18  19  20  21  22  23  24\n",
      "3  25  26  27  28  29  30  31  32\n",
      "4  33  34  35  36  37  38  39  40\n"
     ]
    }
   ],
   "source": [
    "#Q25\n",
    "num_series = pd.Series(np.arange(1,41))\n",
    "# print(num_series)\n",
    "num_df = pd.DataFrame(num_series.values.reshape(5,8))\n",
    "print(num_df)"
   ],
   "metadata": {
    "collapsed": false,
    "ExecuteTime": {
     "end_time": "2023-08-20T07:39:13.743891Z",
     "start_time": "2023-08-20T07:39:13.729233Z"
    }
   },
   "id": "53ff7fc3dd35cf0c"
  },
  {
   "cell_type": "code",
   "execution_count": 46,
   "outputs": [
    {
     "name": "stdout",
     "output_type": "stream",
     "text": [
      "[13 22 44]\n"
     ]
    }
   ],
   "source": [
    "#Q26\n",
    "test_a = np.array([11,12,13,22,23,44,43,24,45,36])\n",
    "test_b = np.array([17,22,13,22,47,34,39,44,29,28])\n",
    "common_arr = np.intersect1d(test_a, test_b)\n",
    "print(common_arr)"
   ],
   "metadata": {
    "collapsed": false,
    "ExecuteTime": {
     "end_time": "2023-08-20T07:42:12.721987Z",
     "start_time": "2023-08-20T07:42:12.711695Z"
    }
   },
   "id": "9a010276b1daa95d"
  },
  {
   "cell_type": "code",
   "execution_count": 47,
   "outputs": [
    {
     "name": "stdout",
     "output_type": "stream",
     "text": [
      "year             int64\n",
      "month         category\n",
      "passengers       int64\n",
      "dtype: object\n"
     ]
    }
   ],
   "source": [
    "#Q27\n",
    "flights = sns.load_dataset('flights')\n",
    "print(flights.dtypes)"
   ],
   "metadata": {
    "collapsed": false,
    "ExecuteTime": {
     "end_time": "2023-08-20T07:42:18.583859Z",
     "start_time": "2023-08-20T07:42:18.569797Z"
    }
   },
   "id": "87de25f314f7e9e3"
  },
  {
   "cell_type": "code",
   "execution_count": 58,
   "outputs": [
    {
     "name": "stdout",
     "output_type": "stream",
     "text": [
      "              sum                   \n",
      "Country    Europe    Japan       USA\n",
      "Product                             \n",
      "A        114000.0      NaN  111000.0\n",
      "J             NaN  81000.0       NaN\n",
      "L             NaN  95600.0   59000.0\n",
      "R         79000.0      NaN   68000.0\n"
     ]
    }
   ],
   "source": [
    "#Q28\n",
    "sales = {'Product':['A','J','A','L','R','A','R','J','L','A'], \n",
    "         'Country':['USA','Japan','Europe','Japan','Europe','USA','USA','Japan','USA','Europe'],\n",
    "         'Sales':[44000,43000,54000,95600,79000,67000,68000,38000,59000,60000]}\n",
    "sales_df = pd.DataFrame(sales)\n",
    "sales_pt = pd.pivot_table(sales_df, values='Sales', index=['Product'], columns='Country', aggfunc=['sum'])\n",
    "print(sales_pt)"
   ],
   "metadata": {
    "collapsed": false,
    "ExecuteTime": {
     "end_time": "2023-08-20T07:54:04.977439Z",
     "start_time": "2023-08-20T07:54:04.963452Z"
    }
   },
   "id": "9e31a740cb29a568"
  },
  {
   "cell_type": "code",
   "execution_count": 59,
   "outputs": [
    {
     "name": "stdout",
     "output_type": "stream",
     "text": [
      "         count          mean           std      min      25%      50%  \\\n",
      "Country                                                                 \n",
      "Europe     3.0  64333.333333  13051.181300  54000.0  57000.0  60000.0   \n",
      "Japan      3.0  58866.666667  31910.082001  38000.0  40500.0  43000.0   \n",
      "USA        4.0  59500.000000  11090.536506  44000.0  55250.0  63000.0   \n",
      "\n",
      "             75%      max  \n",
      "Country                    \n",
      "Europe   69500.0  79000.0  \n",
      "Japan    69300.0  95600.0  \n",
      "USA      67250.0  68000.0  \n"
     ]
    }
   ],
   "source": [
    "#Q29\n",
    "sales_stats = sales_df.groupby(['Country'])[\"Sales\"].describe()\n",
    "print(sales_stats)"
   ],
   "metadata": {
    "collapsed": false,
    "ExecuteTime": {
     "end_time": "2023-08-20T07:54:05.652812Z",
     "start_time": "2023-08-20T07:54:05.637935Z"
    }
   },
   "id": "b5de702a01b00a8e"
  },
  {
   "cell_type": "code",
   "execution_count": 65,
   "outputs": [
    {
     "name": "stdout",
     "output_type": "stream",
     "text": [
      "[[ 0  1  2  3  4]\n",
      " [ 5  6  7  8  9]\n",
      " [10 11 12 13 14]\n",
      " [15 16 17 18 19]]\n",
      "[[ 4  3  2  1  0]\n",
      " [ 9  8  7  6  5]\n",
      " [14 13 12 11 10]\n",
      " [19 18 17 16 15]]\n",
      "[[ 4  3  2  1  0]\n",
      " [ 9  8  7  6  5]\n",
      " [14 13 12 11 10]\n",
      " [19 18 17 16 15]]\n"
     ]
    }
   ],
   "source": [
    "#Q30\n",
    "num_array = np.arange(20).reshape((4,5))\n",
    "print(num_array)\n",
    "# print(num_array[:, ::-1])\n",
    "rev_num_array = np.flip(num_array, axis=1)\n",
    "print(rev_num_array)"
   ],
   "metadata": {
    "collapsed": false,
    "ExecuteTime": {
     "end_time": "2023-08-20T07:56:19.506456Z",
     "start_time": "2023-08-20T07:56:19.477111Z"
    }
   },
   "id": "de503930a474c849"
  }
 ],
 "metadata": {
  "kernelspec": {
   "display_name": "Python 3",
   "language": "python",
   "name": "python3"
  },
  "language_info": {
   "codemirror_mode": {
    "name": "ipython",
    "version": 2
   },
   "file_extension": ".py",
   "mimetype": "text/x-python",
   "name": "python",
   "nbconvert_exporter": "python",
   "pygments_lexer": "ipython2",
   "version": "2.7.6"
  }
 },
 "nbformat": 4,
 "nbformat_minor": 5
}
