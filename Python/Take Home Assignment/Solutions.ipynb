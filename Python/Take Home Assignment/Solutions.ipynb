{
 "cells": [
  {
   "cell_type": "code",
   "execution_count": 1,
   "id": "initial_id",
   "metadata": {
    "collapsed": true,
    "ExecuteTime": {
     "end_time": "2023-08-20T07:59:06.087318Z",
     "start_time": "2023-08-20T07:59:06.086365Z"
    }
   },
   "outputs": [],
   "source": [
    "import numpy as np\n",
    "import pandas as pd\n",
    "import matplotlib.pyplot as plt\n",
    "import seaborn as sns"
   ]
  },
  {
   "cell_type": "code",
   "execution_count": 11,
   "outputs": [
    {
     "name": "stdout",
     "output_type": "stream",
     "text": [
      "[2, 3, 5, 7, 11, 13, 17, 19, 23, 29, 31, 37, 41, 43, 47, 53, 59, 61, 67, 71, 73, 79, 83, 89, 97]\n"
     ]
    }
   ],
   "source": [
    "#Q1\n",
    "def is_prime(n):\n",
    "    if n < 2:\n",
    "        return False\n",
    "    for i in range(2, int(n**0.5)+1):\n",
    "        if n%i == 0:\n",
    "            return False\n",
    "    return True\n",
    "prime_nums = [x for x in range(2,101) if is_prime(x)]\n",
    "print(prime_nums)"
   ],
   "metadata": {
    "collapsed": false,
    "ExecuteTime": {
     "end_time": "2023-08-20T08:43:56.972132Z",
     "start_time": "2023-08-20T08:43:56.963919Z"
    }
   },
   "id": "c8efbf597f92f39b"
  },
  {
   "cell_type": "code",
   "execution_count": 12,
   "outputs": [
    {
     "name": "stdout",
     "output_type": "stream",
     "text": [
      "ecneicS ataD\n"
     ]
    }
   ],
   "source": [
    "#Q2\n",
    "string = 'Data Science'\n",
    "print(string[::-1])"
   ],
   "metadata": {
    "collapsed": false,
    "ExecuteTime": {
     "end_time": "2023-08-20T08:44:00.616556Z",
     "start_time": "2023-08-20T08:44:00.607334Z"
    }
   },
   "id": "828b862de6b03588"
  },
  {
   "cell_type": "code",
   "execution_count": 13,
   "outputs": [
    {
     "name": "stdout",
     "output_type": "stream",
     "text": [
      "['Monday', 'Sunday', 'Saturday']\n"
     ]
    }
   ],
   "source": [
    "#Q3\n",
    "Days = ['Monday', 'tuesday','friday', 'Sunday', 'Saturday']\n",
    "result = []\n",
    "for item in Days:\n",
    "    if item[0].isupper():\n",
    "        result.append(item)\n",
    "print(result)"
   ],
   "metadata": {
    "collapsed": false,
    "ExecuteTime": {
     "end_time": "2023-08-20T08:44:03.567895Z",
     "start_time": "2023-08-20T08:44:03.559562Z"
    }
   },
   "id": "bc38b9fffd76d14c"
  },
  {
   "cell_type": "code",
   "execution_count": 14,
   "outputs": [
    {
     "name": "stdout",
     "output_type": "stream",
     "text": [
      "['1997', '2011', '1993', '2020']\n"
     ]
    }
   ],
   "source": [
    "#Q4\n",
    "Batch = ['15-06-1997','15-06-2011','15-06-1993','15-06-2020']\n",
    "year = []\n",
    "for item in Batch:\n",
    "    year.append(item.split('-')[2])\n",
    "print(year)"
   ],
   "metadata": {
    "collapsed": false,
    "ExecuteTime": {
     "end_time": "2023-08-20T08:45:26.966251Z",
     "start_time": "2023-08-20T08:45:26.945143Z"
    }
   },
   "id": "653f719e9e06f349"
  },
  {
   "cell_type": "code",
   "execution_count": 18,
   "outputs": [
    {
     "name": "stdout",
     "output_type": "stream",
     "text": [
      "{1: 'Data Science', 2: 'Machine Learning', 3: 'SQL', 4: 'Big Data'}\n"
     ]
    }
   ],
   "source": [
    "#Q5\n",
    "Module = {'Data Science':1,'Machine Learning':2, 'SQL':3, 'Big Data':4}\n",
    "New_Module = dict([(value,key) for key,value in Module.items()])\n",
    "print(New_Module)"
   ],
   "metadata": {
    "collapsed": false,
    "ExecuteTime": {
     "end_time": "2023-08-20T08:48:30.388968Z",
     "start_time": "2023-08-20T08:48:30.377615Z"
    }
   },
   "id": "a13bd0b8c4ffda51"
  },
  {
   "cell_type": "code",
   "execution_count": 21,
   "outputs": [
    {
     "name": "stdout",
     "output_type": "stream",
     "text": [
      "5\n",
      "3.5\n",
      "2.25\n",
      "3.125\n",
      "4.5625\n"
     ]
    }
   ],
   "source": [
    "#Q6\n",
    "from itertools import accumulate\n",
    "list1 = accumulate([5,2,1,4,6], lambda x,y: (x+y)/2)\n",
    "for item in list1:\n",
    "    print(item)"
   ],
   "metadata": {
    "collapsed": false,
    "ExecuteTime": {
     "end_time": "2023-08-20T08:52:29.893164Z",
     "start_time": "2023-08-20T08:52:29.887259Z"
    }
   },
   "id": "9d1814f8ed0d91fe"
  },
  {
   "cell_type": "code",
   "execution_count": 25,
   "outputs": [
    {
     "name": "stdout",
     "output_type": "stream",
     "text": [
      "My String: Data Science\n",
      "String entered by user: Dakshay\n",
      "No of elements not in my string: 3\n"
     ]
    }
   ],
   "source": [
    "#Q7\n",
    "my_string = 'Data Science'\n",
    "user_string = input(\"Enter string\")\n",
    "\n",
    "def my_func(user_string):\n",
    "    if user_string == '':\n",
    "        return 0\n",
    "    if user_string[0].lower() not in my_string.lower() and user_string[0].isalpha():\n",
    "        return 1 + my_func(user_string[1:])\n",
    "    else:\n",
    "        return my_func(user_string[1:])\n",
    "\n",
    "print(\"My String:\", my_string)\n",
    "print(\"String entered by user:\", user_string)\n",
    "print(\"No of elements not in my string:\",my_func(user_string))"
   ],
   "metadata": {
    "collapsed": false,
    "ExecuteTime": {
     "end_time": "2023-08-20T09:01:55.508800Z",
     "start_time": "2023-08-20T09:01:53.635759Z"
    }
   },
   "id": "7142b7db10a48125"
  },
  {
   "cell_type": "code",
   "execution_count": 26,
   "outputs": [],
   "source": [
    "#Q8\n",
    "def func2(n):\n",
    "    if n in range(1000,10001):\n",
    "        print(n, 'is in valid range.')\n",
    "    else:\n",
    "        print(n, 'is out of range.')"
   ],
   "metadata": {
    "collapsed": false,
    "ExecuteTime": {
     "end_time": "2023-08-20T09:36:12.602395Z",
     "start_time": "2023-08-20T09:36:12.591202Z"
    }
   },
   "id": "d82f475ef28dfb7b"
  },
  {
   "cell_type": "code",
   "execution_count": 39,
   "outputs": [
    {
     "name": "stdout",
     "output_type": "stream",
     "text": [
      "[1]\n",
      "[1, 1]\n",
      "[1, 2, 1]\n",
      "[1, 3, 3, 1]\n",
      "[1, 4, 6, 4, 1]\n",
      "[1, 5, 10, 10, 5, 1]\n"
     ]
    }
   ],
   "source": [
    "#Q9\n",
    "l1=[1]\n",
    "for i in range(6):\n",
    "    temp=[]\n",
    "    temp.append(l1[0])\n",
    "    for i in range(len(l1)-1):\n",
    "        temp.append(l1[i]+l1[i+1])\n",
    "    temp.append(l1[-1])\n",
    "    print(l1)\n",
    "    l1=temp\n",
    "    "
   ],
   "metadata": {
    "collapsed": false,
    "ExecuteTime": {
     "end_time": "2023-08-20T11:33:30.833045Z",
     "start_time": "2023-08-20T11:33:30.810736Z"
    }
   },
   "id": "694dbbbeca4eb1d6"
  },
  {
   "cell_type": "code",
   "execution_count": 28,
   "outputs": [
    {
     "name": "stdout",
     "output_type": "stream",
     "text": [
      "104\n"
     ]
    }
   ],
   "source": [
    "#Q10\n",
    "test_score = [10,32,23,14,25]\n",
    "sum = 0\n",
    "for item in test_score:\n",
    "    sum+=item\n",
    "print(sum)"
   ],
   "metadata": {
    "collapsed": false,
    "ExecuteTime": {
     "end_time": "2023-08-20T09:37:15.240389Z",
     "start_time": "2023-08-20T09:37:15.214551Z"
    }
   },
   "id": "1538b998b5758b2e"
  },
  {
   "cell_type": "code",
   "execution_count": 33,
   "outputs": [
    {
     "name": "stdout",
     "output_type": "stream",
     "text": [
      "[210 106 125 240]\n"
     ]
    }
   ],
   "source": [
    "#Q11\n",
    "Score = np.array([[210, 402, 383], [140, 375, 106], [140, 125, 217], [292, 240, 295]])\n",
    "# for item in Score:\n",
    "#     print(item.min())\n",
    "print(np.amin(Score, axis=1))"
   ],
   "metadata": {
    "collapsed": false,
    "ExecuteTime": {
     "end_time": "2023-08-20T09:46:28.132152Z",
     "start_time": "2023-08-20T09:46:28.124136Z"
    }
   },
   "id": "21baa2baf7ddc8bf"
  },
  {
   "cell_type": "code",
   "execution_count": 34,
   "outputs": [
    {
     "name": "stdout",
     "output_type": "stream",
     "text": [
      "[-1 21 -1 13 -1 45 -1 -1 -1 -1 65 -1 -1]\n"
     ]
    }
   ],
   "source": [
    "#Q12\n",
    "num_array = np.array([0, 21, 32, 13, 44, 45, 26, 28, 38, 34, 65, 48, 76])\n",
    "num_array[num_array%2==0] = -1\n",
    "print(num_array)"
   ],
   "metadata": {
    "collapsed": false,
    "ExecuteTime": {
     "end_time": "2023-08-20T09:48:44.811552Z",
     "start_time": "2023-08-20T09:48:44.787857Z"
    }
   },
   "id": "e1d63dc776d830de"
  },
  {
   "cell_type": "code",
   "execution_count": 40,
   "outputs": [
    {
     "name": "stdout",
     "output_type": "stream",
     "text": [
      "d    4.0\n",
      "b    8.0\n",
      "a   -1.0\n",
      "c    2.0\n",
      "e    NaN\n",
      "dtype: float64\n"
     ]
    }
   ],
   "source": [
    "#Q13\n",
    "data = pd.Series([4,8,-1,2,np.NAN], index=['d','b','a','c','e'])\n",
    "print(data)"
   ],
   "metadata": {
    "collapsed": false,
    "ExecuteTime": {
     "end_time": "2023-08-20T11:39:31.653469Z",
     "start_time": "2023-08-20T11:39:31.644182Z"
    }
   },
   "id": "4dbf9a21269a1944"
  },
  {
   "cell_type": "code",
   "execution_count": 44,
   "outputs": [
    {
     "name": "stdout",
     "output_type": "stream",
     "text": [
      "     Name  Weight  Height\n",
      "0     Mia      55     5.5\n",
      "1     Joy      60     6.7\n",
      "2   Karan      80     5.8\n",
      "3  George      67     6.0\n"
     ]
    }
   ],
   "source": [
    "#Q14\n",
    "data = {'Name':['Mia','Joy','Karan','George'],'Weight':[55,60,80,67]}\n",
    "data_df = pd.DataFrame(data)\n",
    "height = [5.5,6.7,5.8,6]\n",
    "data_df['Height'] = height\n",
    "print(data_df)"
   ],
   "metadata": {
    "collapsed": false,
    "ExecuteTime": {
     "end_time": "2023-08-20T11:43:17.819455Z",
     "start_time": "2023-08-20T11:43:17.811172Z"
    }
   },
   "id": "e42587d6a79d4d4f"
  },
  {
   "cell_type": "code",
   "execution_count": 48,
   "outputs": [
    {
     "name": "stdout",
     "output_type": "stream",
     "text": [
      "0       Mia\n",
      "1       Joy\n",
      "2     Karan\n",
      "3    George\n",
      "Name: Name, dtype: object\n",
      "0    5.5\n",
      "1    6.7\n",
      "2    5.8\n",
      "3    6.0\n",
      "Name: Height, dtype: float64\n"
     ]
    }
   ],
   "source": [
    "#Q15\n",
    "print(data_df.iloc[:, 0])\n",
    "print(data_df.loc[:,'Height'])"
   ],
   "metadata": {
    "collapsed": false,
    "ExecuteTime": {
     "end_time": "2023-08-20T11:45:34.830653Z",
     "start_time": "2023-08-20T11:45:34.821294Z"
    }
   },
   "id": "785ab9c9d7ba48cc"
  },
  {
   "cell_type": "code",
   "execution_count": 53,
   "outputs": [
    {
     "name": "stdout",
     "output_type": "stream",
     "text": [
      "  Order_ID     Product      City\n",
      "2   YZ1100  Cell Phone  New York\n",
      "5   TY1400  Headphones     Texas\n"
     ]
    }
   ],
   "source": [
    "#Q16\n",
    "orders = {'Order_ID':['YZ1100','RW1200','YZ1100','TY1400','VB1500','TY1400','MW1600','CN1600'],\n",
    "          'Product':['Cell Phone','Watch','Cell Phone','Charger','Watch','Headphones','Charger','Headphones'],\n",
    "          'City':['Sydney','Chicago','New York','Chicago','Chicago','Texas','New York','Chicago']}\n",
    "orders_df = pd.DataFrame(orders)\n",
    "duplicate_orders = orders_df[orders_df.duplicated(\"Order_ID\")]\n",
    "print(duplicate_orders)"
   ],
   "metadata": {
    "collapsed": false,
    "ExecuteTime": {
     "end_time": "2023-08-20T11:51:58.219699Z",
     "start_time": "2023-08-20T11:51:58.209542Z"
    }
   },
   "id": "39650ef5bebb7ffd"
  },
  {
   "cell_type": "code",
   "execution_count": 58,
   "outputs": [
    {
     "name": "stdout",
     "output_type": "stream",
     "text": [
      "  Order_ID     Product      City\n",
      "0   YZ1100      Mobile    Sydney\n",
      "1   RW1200       Watch   Chicago\n",
      "2   YZ1100      Mobile  New York\n",
      "3   TY1400     Charger   Chicago\n",
      "4   VB1500       Watch   Chicago\n",
      "5   TY1400  Headphones     Texas\n",
      "6   MW1600     Charger  New York\n",
      "7   CN1600  Headphones   Chicago\n"
     ]
    }
   ],
   "source": [
    "#Q17\n",
    "orders_df['Product'] = np.where((orders_df['Product']=='Cell Phone'),'Mobile',orders_df.Product)\n",
    "print(orders_df)"
   ],
   "metadata": {
    "collapsed": false,
    "ExecuteTime": {
     "end_time": "2023-08-20T11:56:35.790815Z",
     "start_time": "2023-08-20T11:56:35.775782Z"
    }
   },
   "id": "62981a5559ac39dc"
  },
  {
   "cell_type": "code",
   "execution_count": 62,
   "outputs": [
    {
     "name": "stdout",
     "output_type": "stream",
     "text": [
      "    ID Candidate_Name    Subject       City  Subject_Score\n",
      "0  101           Alex    History      Delhi             89\n",
      "1  102            Amy    English     Mumbai             78\n",
      "2  103          Allen  Geography      Delhi             77\n",
      "3  104          Alice     German    Chennai             87\n",
      "4  105          James    History  Hyderabad             87\n",
      "5  108            NaN        NaN      Delhi             84\n"
     ]
    }
   ],
   "source": [
    "#Q18\n",
    "table1 = {'ID':[101,102,103,104,105,106,107],\n",
    "        'Candidate_Name':['Alex','Amy','Allen','Alice','James','Sara','Mia'],\n",
    "        'Subject':['History','English','Geography','German','History','German','English']}\n",
    "table2 = {'ID':[101,102,103,104,105,108],\n",
    "          'City':['Delhi','Mumbai','Delhi','Chennai','Hyderabad','Delhi'],\n",
    "          'Subject_Score':[89,78,77,87,87,84]}\n",
    "df_1 = pd.DataFrame(table1)\n",
    "df_2 = pd.DataFrame(table2)\n",
    "\n",
    "df_3 = pd.merge(df_1, df_2, how='right', on='ID')\n",
    "print(df_3)"
   ],
   "metadata": {
    "collapsed": false,
    "ExecuteTime": {
     "end_time": "2023-08-20T12:02:39.813075Z",
     "start_time": "2023-08-20T12:02:39.808316Z"
    }
   },
   "id": "40e9800faa7dd459"
  },
  {
   "cell_type": "code",
   "execution_count": 69,
   "outputs": [
    {
     "data": {
      "text/plain": "<Figure size 640x480 with 1 Axes>",
      "image/png": "[encoded data removed]"
     },
     "metadata": {},
     "output_type": "display_data"
    }
   ],
   "source": [
    "#Q19\n",
    "data = {\"City\":['Delhi','Mumbai','Delhi','Chennai','Hyderabad','Delhi'],\n",
    "        \"Sales\":[890,784,775,873,387,684]}\n",
    "data_df = pd.DataFrame(data)\n",
    "plt.pie(data_df.Sales, labels=data_df.City, autopct='%1.1f%%')\n",
    "plt.title(\"Sales Distribution\")\n",
    "plt.show()"
   ],
   "metadata": {
    "collapsed": false,
    "ExecuteTime": {
     "end_time": "2023-08-20T12:07:43.606737Z",
     "start_time": "2023-08-20T12:07:43.555174Z"
    }
   },
   "id": "f58f2c0884064cfc"
  },
  {
   "cell_type": "code",
   "execution_count": 70,
   "outputs": [
    {
     "name": "stdout",
     "output_type": "stream",
     "text": [
      "          Sales            \n",
      "            min   mean  max\n",
      "City                       \n",
      "Chennai     873  873.0  873\n",
      "Delhi       684  783.0  890\n",
      "Hyderabad   387  387.0  387\n",
      "Mumbai      784  784.0  784\n"
     ]
    }
   ],
   "source": [
    "#Q20\n",
    "df_agg = data_df.groupby('City').agg({'Sales':['min','mean','max']})\n",
    "print(df_agg)"
   ],
   "metadata": {
    "collapsed": false,
    "ExecuteTime": {
     "end_time": "2023-08-20T12:08:56.478936Z",
     "start_time": "2023-08-20T12:08:56.455806Z"
    }
   },
   "id": "d2f6b9751c37eda4"
  }
 ],
 "metadata": {
  "kernelspec": {
   "display_name": "Python 3",
   "language": "python",
   "name": "python3"
  },
  "language_info": {
   "codemirror_mode": {
    "name": "ipython",
    "version": 2
   },
   "file_extension": ".py",
   "mimetype": "text/x-python",
   "name": "python",
   "nbconvert_exporter": "python",
   "pygments_lexer": "ipython2",
   "version": "2.7.6"
  }
 },
 "nbformat": 4,
 "nbformat_minor": 5
}
