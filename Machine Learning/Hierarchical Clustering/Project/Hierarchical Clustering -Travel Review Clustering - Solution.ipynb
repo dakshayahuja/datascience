{
 "cells": [
  {
   "cell_type": "markdown",
   "metadata": {},
   "source": [
    "## Context:\n",
    "This data set is populated by capturing user ratings from Google reviews. Reviews on attractions from 24 categories across Europe are considered. Google user rating ranges from 1 to 5 and average user rating per category is calculated."
   ]
  },
  {
   "cell_type": "markdown",
   "metadata": {},
   "source": [
    "## Data Definition:\n",
    "\n",
    "Input variables:\n",
    "\n",
    "1) **User** Unique user id \n",
    "\n",
    "\n",
    "2) **Attribute 1:** Average ratings on churches \n",
    "\n",
    "\n",
    "3) **Attribute 2:** Average ratings on resorts  \n",
    "\n",
    "\n",
    "4) **Attribute 3:** Average ratings on beaches  \n",
    "\n",
    "\n",
    "5) **Attribute 4:** Average ratings on parks  \n",
    "\n",
    "\n",
    "6) **Attribute 5:** Average ratings on theatres  \n",
    "\n",
    "\n",
    "7) **Attribute 6:** Average ratings on museums  \n",
    "\n",
    "\n",
    "8) **Attribute 7:** Average ratings on malls  \n",
    "\n",
    "\n",
    "9) **Attribute 8:** Average ratings on zoo  \n",
    "\n",
    "\n",
    "10) **Attribute 9:** Average ratings on restaurants  \n",
    "\n",
    "\n",
    "11) **Attribute 10:** Average ratings on pubs/bars  \n",
    "\n",
    "\n",
    "12) **Attribute 11:** Average ratings on local services  \n",
    "\n",
    "\n",
    "13) **Attribute 12:** Average ratings on burger/pizza shops  \n",
    "\n",
    "\n",
    "14) **Attribute 13:** Average ratings on hotels/other lodgings  \n",
    "\n",
    "\n",
    "15) **Attribute 14:** Average ratings on juice bars  \n",
    "\n",
    "\n",
    "16) **Attribute 15:** Average ratings on art galleries \n",
    "\n",
    "\n",
    "17) **Attribute 16:** Average ratings on dance clubs  \n",
    "\n",
    "\n",
    "18) **Attribute 17:** Average ratings on swimming pools  \n",
    "\n",
    "\n",
    "19) **Attribute 18:** Average ratings on gyms  \n",
    "\n",
    "\n",
    "20) **Attribute 19:** Average ratings on bakeries  \n",
    "\n",
    "\n",
    "21) **Attribute 20:** Average ratings on beauty & spas  \n",
    "\n",
    "\n",
    "22) **Attribute 21:** Average ratings on cafes  \n",
    "\n",
    "\n",
    "23) **Attribute 22:** Average ratings on view points  \n",
    "\n",
    "\n",
    "24) **Attribute 23:** Average ratings on monuments  \n",
    "\n",
    "\n",
    "25) **Attribute 24:** Average ratings on gardens \n",
    "\n",
    "\n"
   ]
  },
  {
   "cell_type": "markdown",
   "metadata": {},
   "source": [
    "1. **[Import Packages](#import_packages)**\n",
    "2. **[Read Data](#Read_Data)**\n",
    "3. **[Data Types and Dimensions](#Data_Types)**\n",
    "4. **[Data Manipulation](#Data_Manipulation)**\n",
    "5. **[Statistical Summary](#Statistical_Summary)**    \n",
    "6. **[Handling Missing Values](#Handling_Missing_Values)**    \n",
    "7. **[Exploratory Data Analysis](#Exploratory_Data_Analysis)**   \n",
    "8. **[Hierarchical Clustering](#Hierarchical_Clustering)**\n",
    "9. **[Conclusion](#Conclusion)**  "
   ]
  },
  {
   "cell_type": "markdown",
   "metadata": {},
   "source": [
    "<a id='import_packages'></a>\n",
    "## 1. Import Packages"
   ]
  },
  {
   "cell_type": "code",
   "execution_count": 47,
   "metadata": {
    "ExecuteTime": {
     "end_time": "2023-09-16T16:35:03.232578Z",
     "start_time": "2023-09-16T16:35:02.940197Z"
    }
   },
   "outputs": [],
   "source": [
    "import pandas as pd\n",
    "import numpy as np\n",
    "import matplotlib.pyplot as plt\n",
    "import seaborn as sns\n",
    "# Set default setting of seaborn\n",
    "sns.set()\n"
   ]
  },
  {
   "cell_type": "markdown",
   "metadata": {},
   "source": [
    "<a id='Read_Data'></a>\n",
    "## 2. Read the Data"
   ]
  },
  {
   "cell_type": "markdown",
   "metadata": {},
   "source": [
    "<table align=\"left\">\n",
    "    <tr>\n",
    "        <td width=\"8%\">\n",
    "            <img src=\"key.png\">\n",
    "        </td>\n",
    "        <td>\n",
    "            <div align=\"left\", style=\"font-size:120%\">\n",
    "                    <b>Read the data using read_csv() function from pandas<br> \n",
    "                </font>\n",
    "            </div>\n",
    "        </td>\n",
    "    </tr>\n",
    "</table>"
   ]
  },
  {
   "cell_type": "code",
   "execution_count": 48,
   "metadata": {
    "ExecuteTime": {
     "end_time": "2023-09-16T16:35:03.450318Z",
     "start_time": "2023-09-16T16:35:02.955109Z"
    }
   },
   "outputs": [
    {
     "ename": "FileNotFoundError",
     "evalue": "[Errno 2] No such file or directory: 'c:/users/supriya/OneDrive/Desktop/PGA 3.0/New folder/2 Unsupervised Learning-20230130T070554Z-001/2 Unsupervised Learning/3 Heirarchical Clustering/2 Project/Dataset/google_review_ratings.csv'",
     "output_type": "error",
     "traceback": [
      "\u001B[0;31m---------------------------------------------------------------------------\u001B[0m",
      "\u001B[0;31mFileNotFoundError\u001B[0m                         Traceback (most recent call last)",
      "Cell \u001B[0;32mIn[48], line 2\u001B[0m\n\u001B[1;32m      1\u001B[0m \u001B[38;5;66;03m# read the data\u001B[39;00m\n\u001B[0;32m----> 2\u001B[0m raw_data \u001B[38;5;241m=\u001B[39m \u001B[43mpd\u001B[49m\u001B[38;5;241;43m.\u001B[39;49m\u001B[43mread_csv\u001B[49m\u001B[43m(\u001B[49m\u001B[38;5;124;43m'\u001B[39;49m\u001B[38;5;124;43mc:/users/supriya/OneDrive/Desktop/PGA 3.0/New folder/2 Unsupervised Learning-20230130T070554Z-001/2 Unsupervised Learning/3 Heirarchical Clustering/2 Project/Dataset/google_review_ratings.csv\u001B[39;49m\u001B[38;5;124;43m'\u001B[39;49m\u001B[43m)\u001B[49m\n\u001B[1;32m      4\u001B[0m \u001B[38;5;66;03m# print the first five rows of the data\u001B[39;00m\n\u001B[1;32m      5\u001B[0m raw_data\u001B[38;5;241m.\u001B[39mhead()\n",
      "File \u001B[0;32m/opt/homebrew/Caskroom/miniconda/base/envs/datascience/lib/python3.8/site-packages/pandas/io/parsers/readers.py:912\u001B[0m, in \u001B[0;36mread_csv\u001B[0;34m(filepath_or_buffer, sep, delimiter, header, names, index_col, usecols, dtype, engine, converters, true_values, false_values, skipinitialspace, skiprows, skipfooter, nrows, na_values, keep_default_na, na_filter, verbose, skip_blank_lines, parse_dates, infer_datetime_format, keep_date_col, date_parser, date_format, dayfirst, cache_dates, iterator, chunksize, compression, thousands, decimal, lineterminator, quotechar, quoting, doublequote, escapechar, comment, encoding, encoding_errors, dialect, on_bad_lines, delim_whitespace, low_memory, memory_map, float_precision, storage_options, dtype_backend)\u001B[0m\n\u001B[1;32m    899\u001B[0m kwds_defaults \u001B[38;5;241m=\u001B[39m _refine_defaults_read(\n\u001B[1;32m    900\u001B[0m     dialect,\n\u001B[1;32m    901\u001B[0m     delimiter,\n\u001B[0;32m   (...)\u001B[0m\n\u001B[1;32m    908\u001B[0m     dtype_backend\u001B[38;5;241m=\u001B[39mdtype_backend,\n\u001B[1;32m    909\u001B[0m )\n\u001B[1;32m    910\u001B[0m kwds\u001B[38;5;241m.\u001B[39mupdate(kwds_defaults)\n\u001B[0;32m--> 912\u001B[0m \u001B[38;5;28;01mreturn\u001B[39;00m \u001B[43m_read\u001B[49m\u001B[43m(\u001B[49m\u001B[43mfilepath_or_buffer\u001B[49m\u001B[43m,\u001B[49m\u001B[43m \u001B[49m\u001B[43mkwds\u001B[49m\u001B[43m)\u001B[49m\n",
      "File \u001B[0;32m/opt/homebrew/Caskroom/miniconda/base/envs/datascience/lib/python3.8/site-packages/pandas/io/parsers/readers.py:577\u001B[0m, in \u001B[0;36m_read\u001B[0;34m(filepath_or_buffer, kwds)\u001B[0m\n\u001B[1;32m    574\u001B[0m _validate_names(kwds\u001B[38;5;241m.\u001B[39mget(\u001B[38;5;124m\"\u001B[39m\u001B[38;5;124mnames\u001B[39m\u001B[38;5;124m\"\u001B[39m, \u001B[38;5;28;01mNone\u001B[39;00m))\n\u001B[1;32m    576\u001B[0m \u001B[38;5;66;03m# Create the parser.\u001B[39;00m\n\u001B[0;32m--> 577\u001B[0m parser \u001B[38;5;241m=\u001B[39m \u001B[43mTextFileReader\u001B[49m\u001B[43m(\u001B[49m\u001B[43mfilepath_or_buffer\u001B[49m\u001B[43m,\u001B[49m\u001B[43m \u001B[49m\u001B[38;5;241;43m*\u001B[39;49m\u001B[38;5;241;43m*\u001B[39;49m\u001B[43mkwds\u001B[49m\u001B[43m)\u001B[49m\n\u001B[1;32m    579\u001B[0m \u001B[38;5;28;01mif\u001B[39;00m chunksize \u001B[38;5;129;01mor\u001B[39;00m iterator:\n\u001B[1;32m    580\u001B[0m     \u001B[38;5;28;01mreturn\u001B[39;00m parser\n",
      "File \u001B[0;32m/opt/homebrew/Caskroom/miniconda/base/envs/datascience/lib/python3.8/site-packages/pandas/io/parsers/readers.py:1407\u001B[0m, in \u001B[0;36mTextFileReader.__init__\u001B[0;34m(self, f, engine, **kwds)\u001B[0m\n\u001B[1;32m   1404\u001B[0m     \u001B[38;5;28mself\u001B[39m\u001B[38;5;241m.\u001B[39moptions[\u001B[38;5;124m\"\u001B[39m\u001B[38;5;124mhas_index_names\u001B[39m\u001B[38;5;124m\"\u001B[39m] \u001B[38;5;241m=\u001B[39m kwds[\u001B[38;5;124m\"\u001B[39m\u001B[38;5;124mhas_index_names\u001B[39m\u001B[38;5;124m\"\u001B[39m]\n\u001B[1;32m   1406\u001B[0m \u001B[38;5;28mself\u001B[39m\u001B[38;5;241m.\u001B[39mhandles: IOHandles \u001B[38;5;241m|\u001B[39m \u001B[38;5;28;01mNone\u001B[39;00m \u001B[38;5;241m=\u001B[39m \u001B[38;5;28;01mNone\u001B[39;00m\n\u001B[0;32m-> 1407\u001B[0m \u001B[38;5;28mself\u001B[39m\u001B[38;5;241m.\u001B[39m_engine \u001B[38;5;241m=\u001B[39m \u001B[38;5;28;43mself\u001B[39;49m\u001B[38;5;241;43m.\u001B[39;49m\u001B[43m_make_engine\u001B[49m\u001B[43m(\u001B[49m\u001B[43mf\u001B[49m\u001B[43m,\u001B[49m\u001B[43m \u001B[49m\u001B[38;5;28;43mself\u001B[39;49m\u001B[38;5;241;43m.\u001B[39;49m\u001B[43mengine\u001B[49m\u001B[43m)\u001B[49m\n",
      "File \u001B[0;32m/opt/homebrew/Caskroom/miniconda/base/envs/datascience/lib/python3.8/site-packages/pandas/io/parsers/readers.py:1661\u001B[0m, in \u001B[0;36mTextFileReader._make_engine\u001B[0;34m(self, f, engine)\u001B[0m\n\u001B[1;32m   1659\u001B[0m     \u001B[38;5;28;01mif\u001B[39;00m \u001B[38;5;124m\"\u001B[39m\u001B[38;5;124mb\u001B[39m\u001B[38;5;124m\"\u001B[39m \u001B[38;5;129;01mnot\u001B[39;00m \u001B[38;5;129;01min\u001B[39;00m mode:\n\u001B[1;32m   1660\u001B[0m         mode \u001B[38;5;241m+\u001B[39m\u001B[38;5;241m=\u001B[39m \u001B[38;5;124m\"\u001B[39m\u001B[38;5;124mb\u001B[39m\u001B[38;5;124m\"\u001B[39m\n\u001B[0;32m-> 1661\u001B[0m \u001B[38;5;28mself\u001B[39m\u001B[38;5;241m.\u001B[39mhandles \u001B[38;5;241m=\u001B[39m \u001B[43mget_handle\u001B[49m\u001B[43m(\u001B[49m\n\u001B[1;32m   1662\u001B[0m \u001B[43m    \u001B[49m\u001B[43mf\u001B[49m\u001B[43m,\u001B[49m\n\u001B[1;32m   1663\u001B[0m \u001B[43m    \u001B[49m\u001B[43mmode\u001B[49m\u001B[43m,\u001B[49m\n\u001B[1;32m   1664\u001B[0m \u001B[43m    \u001B[49m\u001B[43mencoding\u001B[49m\u001B[38;5;241;43m=\u001B[39;49m\u001B[38;5;28;43mself\u001B[39;49m\u001B[38;5;241;43m.\u001B[39;49m\u001B[43moptions\u001B[49m\u001B[38;5;241;43m.\u001B[39;49m\u001B[43mget\u001B[49m\u001B[43m(\u001B[49m\u001B[38;5;124;43m\"\u001B[39;49m\u001B[38;5;124;43mencoding\u001B[39;49m\u001B[38;5;124;43m\"\u001B[39;49m\u001B[43m,\u001B[49m\u001B[43m \u001B[49m\u001B[38;5;28;43;01mNone\u001B[39;49;00m\u001B[43m)\u001B[49m\u001B[43m,\u001B[49m\n\u001B[1;32m   1665\u001B[0m \u001B[43m    \u001B[49m\u001B[43mcompression\u001B[49m\u001B[38;5;241;43m=\u001B[39;49m\u001B[38;5;28;43mself\u001B[39;49m\u001B[38;5;241;43m.\u001B[39;49m\u001B[43moptions\u001B[49m\u001B[38;5;241;43m.\u001B[39;49m\u001B[43mget\u001B[49m\u001B[43m(\u001B[49m\u001B[38;5;124;43m\"\u001B[39;49m\u001B[38;5;124;43mcompression\u001B[39;49m\u001B[38;5;124;43m\"\u001B[39;49m\u001B[43m,\u001B[49m\u001B[43m \u001B[49m\u001B[38;5;28;43;01mNone\u001B[39;49;00m\u001B[43m)\u001B[49m\u001B[43m,\u001B[49m\n\u001B[1;32m   1666\u001B[0m \u001B[43m    \u001B[49m\u001B[43mmemory_map\u001B[49m\u001B[38;5;241;43m=\u001B[39;49m\u001B[38;5;28;43mself\u001B[39;49m\u001B[38;5;241;43m.\u001B[39;49m\u001B[43moptions\u001B[49m\u001B[38;5;241;43m.\u001B[39;49m\u001B[43mget\u001B[49m\u001B[43m(\u001B[49m\u001B[38;5;124;43m\"\u001B[39;49m\u001B[38;5;124;43mmemory_map\u001B[39;49m\u001B[38;5;124;43m\"\u001B[39;49m\u001B[43m,\u001B[49m\u001B[43m \u001B[49m\u001B[38;5;28;43;01mFalse\u001B[39;49;00m\u001B[43m)\u001B[49m\u001B[43m,\u001B[49m\n\u001B[1;32m   1667\u001B[0m \u001B[43m    \u001B[49m\u001B[43mis_text\u001B[49m\u001B[38;5;241;43m=\u001B[39;49m\u001B[43mis_text\u001B[49m\u001B[43m,\u001B[49m\n\u001B[1;32m   1668\u001B[0m \u001B[43m    \u001B[49m\u001B[43merrors\u001B[49m\u001B[38;5;241;43m=\u001B[39;49m\u001B[38;5;28;43mself\u001B[39;49m\u001B[38;5;241;43m.\u001B[39;49m\u001B[43moptions\u001B[49m\u001B[38;5;241;43m.\u001B[39;49m\u001B[43mget\u001B[49m\u001B[43m(\u001B[49m\u001B[38;5;124;43m\"\u001B[39;49m\u001B[38;5;124;43mencoding_errors\u001B[39;49m\u001B[38;5;124;43m\"\u001B[39;49m\u001B[43m,\u001B[49m\u001B[43m \u001B[49m\u001B[38;5;124;43m\"\u001B[39;49m\u001B[38;5;124;43mstrict\u001B[39;49m\u001B[38;5;124;43m\"\u001B[39;49m\u001B[43m)\u001B[49m\u001B[43m,\u001B[49m\n\u001B[1;32m   1669\u001B[0m \u001B[43m    \u001B[49m\u001B[43mstorage_options\u001B[49m\u001B[38;5;241;43m=\u001B[39;49m\u001B[38;5;28;43mself\u001B[39;49m\u001B[38;5;241;43m.\u001B[39;49m\u001B[43moptions\u001B[49m\u001B[38;5;241;43m.\u001B[39;49m\u001B[43mget\u001B[49m\u001B[43m(\u001B[49m\u001B[38;5;124;43m\"\u001B[39;49m\u001B[38;5;124;43mstorage_options\u001B[39;49m\u001B[38;5;124;43m\"\u001B[39;49m\u001B[43m,\u001B[49m\u001B[43m \u001B[49m\u001B[38;5;28;43;01mNone\u001B[39;49;00m\u001B[43m)\u001B[49m\u001B[43m,\u001B[49m\n\u001B[1;32m   1670\u001B[0m \u001B[43m\u001B[49m\u001B[43m)\u001B[49m\n\u001B[1;32m   1671\u001B[0m \u001B[38;5;28;01massert\u001B[39;00m \u001B[38;5;28mself\u001B[39m\u001B[38;5;241m.\u001B[39mhandles \u001B[38;5;129;01mis\u001B[39;00m \u001B[38;5;129;01mnot\u001B[39;00m \u001B[38;5;28;01mNone\u001B[39;00m\n\u001B[1;32m   1672\u001B[0m f \u001B[38;5;241m=\u001B[39m \u001B[38;5;28mself\u001B[39m\u001B[38;5;241m.\u001B[39mhandles\u001B[38;5;241m.\u001B[39mhandle\n",
      "File \u001B[0;32m/opt/homebrew/Caskroom/miniconda/base/envs/datascience/lib/python3.8/site-packages/pandas/io/common.py:859\u001B[0m, in \u001B[0;36mget_handle\u001B[0;34m(path_or_buf, mode, encoding, compression, memory_map, is_text, errors, storage_options)\u001B[0m\n\u001B[1;32m    854\u001B[0m \u001B[38;5;28;01melif\u001B[39;00m \u001B[38;5;28misinstance\u001B[39m(handle, \u001B[38;5;28mstr\u001B[39m):\n\u001B[1;32m    855\u001B[0m     \u001B[38;5;66;03m# Check whether the filename is to be opened in binary mode.\u001B[39;00m\n\u001B[1;32m    856\u001B[0m     \u001B[38;5;66;03m# Binary mode does not support 'encoding' and 'newline'.\u001B[39;00m\n\u001B[1;32m    857\u001B[0m     \u001B[38;5;28;01mif\u001B[39;00m ioargs\u001B[38;5;241m.\u001B[39mencoding \u001B[38;5;129;01mand\u001B[39;00m \u001B[38;5;124m\"\u001B[39m\u001B[38;5;124mb\u001B[39m\u001B[38;5;124m\"\u001B[39m \u001B[38;5;129;01mnot\u001B[39;00m \u001B[38;5;129;01min\u001B[39;00m ioargs\u001B[38;5;241m.\u001B[39mmode:\n\u001B[1;32m    858\u001B[0m         \u001B[38;5;66;03m# Encoding\u001B[39;00m\n\u001B[0;32m--> 859\u001B[0m         handle \u001B[38;5;241m=\u001B[39m \u001B[38;5;28;43mopen\u001B[39;49m\u001B[43m(\u001B[49m\n\u001B[1;32m    860\u001B[0m \u001B[43m            \u001B[49m\u001B[43mhandle\u001B[49m\u001B[43m,\u001B[49m\n\u001B[1;32m    861\u001B[0m \u001B[43m            \u001B[49m\u001B[43mioargs\u001B[49m\u001B[38;5;241;43m.\u001B[39;49m\u001B[43mmode\u001B[49m\u001B[43m,\u001B[49m\n\u001B[1;32m    862\u001B[0m \u001B[43m            \u001B[49m\u001B[43mencoding\u001B[49m\u001B[38;5;241;43m=\u001B[39;49m\u001B[43mioargs\u001B[49m\u001B[38;5;241;43m.\u001B[39;49m\u001B[43mencoding\u001B[49m\u001B[43m,\u001B[49m\n\u001B[1;32m    863\u001B[0m \u001B[43m            \u001B[49m\u001B[43merrors\u001B[49m\u001B[38;5;241;43m=\u001B[39;49m\u001B[43merrors\u001B[49m\u001B[43m,\u001B[49m\n\u001B[1;32m    864\u001B[0m \u001B[43m            \u001B[49m\u001B[43mnewline\u001B[49m\u001B[38;5;241;43m=\u001B[39;49m\u001B[38;5;124;43m\"\u001B[39;49m\u001B[38;5;124;43m\"\u001B[39;49m\u001B[43m,\u001B[49m\n\u001B[1;32m    865\u001B[0m \u001B[43m        \u001B[49m\u001B[43m)\u001B[49m\n\u001B[1;32m    866\u001B[0m     \u001B[38;5;28;01melse\u001B[39;00m:\n\u001B[1;32m    867\u001B[0m         \u001B[38;5;66;03m# Binary mode\u001B[39;00m\n\u001B[1;32m    868\u001B[0m         handle \u001B[38;5;241m=\u001B[39m \u001B[38;5;28mopen\u001B[39m(handle, ioargs\u001B[38;5;241m.\u001B[39mmode)\n",
      "\u001B[0;31mFileNotFoundError\u001B[0m: [Errno 2] No such file or directory: 'c:/users/supriya/OneDrive/Desktop/PGA 3.0/New folder/2 Unsupervised Learning-20230130T070554Z-001/2 Unsupervised Learning/3 Heirarchical Clustering/2 Project/Dataset/google_review_ratings.csv'"
     ]
    }
   ],
   "source": [
    "# read the data\n",
    "raw_data = pd.read_csv('c:/users/supriya/OneDrive/Desktop/PGA 3.0/New folder/2 Unsupervised Learning-20230130T070554Z-001/2 Unsupervised Learning/3 Heirarchical Clustering/2 Project/Dataset/google_review_ratings.csv')\n",
    "\n",
    "# print the first five rows of the data\n",
    "raw_data.head()"
   ]
  },
  {
   "cell_type": "markdown",
   "metadata": {},
   "source": [
    "<a id='Data_Types'></a>\n",
    "## 3. Data Types and Dimensions"
   ]
  },
  {
   "cell_type": "code",
   "execution_count": null,
   "metadata": {
    "ExecuteTime": {
     "start_time": "2023-09-16T16:35:02.991817Z"
    }
   },
   "outputs": [],
   "source": [
    "# check the data types for variables\n",
    "raw_data.info()"
   ]
  },
  {
   "cell_type": "markdown",
   "metadata": {},
   "source": [
    "<table align='left'>\n",
    "    <tr>\n",
    "        <td width='8%'>\n",
    "            <img src='note.png'>\n",
    "        </td>\n",
    "        <td>\n",
    "            <div align='left', style='font-size:120%'>\n",
    "                    <b>Features that are named as Categories, so we need to rename category with it respective label. Also We will drop 'Unnamed: 25' feature as it is redundant</b>\n",
    "                </font>\n",
    "            </div>\n",
    "        </td>\n",
    "    </tr>\n",
    "</table>"
   ]
  },
  {
   "cell_type": "markdown",
   "metadata": {},
   "source": [
    "**Before manipulation of data, let's check dimension of dataset**"
   ]
  },
  {
   "cell_type": "code",
   "execution_count": null,
   "metadata": {
    "scrolled": true,
    "ExecuteTime": {
     "start_time": "2023-09-16T16:35:02.992814Z"
    }
   },
   "outputs": [],
   "source": [
    "# get the shape\n",
    "print(raw_data.shape)"
   ]
  },
  {
   "cell_type": "markdown",
   "metadata": {},
   "source": [
    "**We see that dataframe has 5456 instances and 26 features**"
   ]
  },
  {
   "cell_type": "markdown",
   "metadata": {},
   "source": [
    "<a id='Data_Manipulation'></a>\n",
    "## 4. Data Manipulation\n",
    "Here we will change features names and remove redundant feature"
   ]
  },
  {
   "cell_type": "markdown",
   "metadata": {},
   "source": [
    "**Droping redundant feature**"
   ]
  },
  {
   "cell_type": "code",
   "execution_count": null,
   "metadata": {
    "ExecuteTime": {
     "start_time": "2023-09-16T16:35:02.993780Z"
    }
   },
   "outputs": [],
   "source": [
    "# Using drop() function to remove redundant feature\n",
    "data = raw_data.drop(['Unnamed: 25'] ,axis = 1)\n",
    "data.head()"
   ]
  },
  {
   "cell_type": "markdown",
   "metadata": {},
   "source": [
    "**Renaming features**"
   ]
  },
  {
   "cell_type": "markdown",
   "metadata": {},
   "source": [
    "To perform the action we will create list containing actual names of features"
   ]
  },
  {
   "cell_type": "code",
   "execution_count": 49,
   "metadata": {
    "ExecuteTime": {
     "end_time": "2023-09-16T16:35:03.455210Z",
     "start_time": "2023-09-16T16:35:02.998937Z"
    }
   },
   "outputs": [],
   "source": [
    "column_names = ['user_id', 'churches', 'resorts', 'beaches', 'parks', \n",
    "                'theatres', 'museums', 'malls', 'zoo', 'restaurants', \n",
    "                'pubs_bars', 'local_services', 'burger_pizza_shops', \n",
    "                'hotels_other_lodgings', 'juice_bars', 'art_galleries', \n",
    "                'dance_clubs', 'swimming_pools', 'gyms', 'bakeries', \n",
    "                'beauty_spas', 'cafes', 'view_points', 'monuments', 'gardens']\n"
   ]
  },
  {
   "cell_type": "markdown",
   "metadata": {},
   "source": [
    "Applying above columns names to dataframe columns"
   ]
  },
  {
   "cell_type": "code",
   "execution_count": 50,
   "metadata": {
    "ExecuteTime": {
     "end_time": "2023-09-16T16:35:03.459612Z",
     "start_time": "2023-09-16T16:35:03.003982Z"
    }
   },
   "outputs": [],
   "source": [
    "data.columns = column_names"
   ]
  },
  {
   "cell_type": "markdown",
   "metadata": {},
   "source": [
    "Checking if changes are applied or not"
   ]
  },
  {
   "cell_type": "code",
   "execution_count": 51,
   "metadata": {
    "scrolled": true,
    "ExecuteTime": {
     "end_time": "2023-09-16T16:35:03.477166Z",
     "start_time": "2023-09-16T16:35:03.015725Z"
    }
   },
   "outputs": [
    {
     "data": {
      "text/plain": "  user_id  churches  resorts  beaches  parks  theatres  museums  malls   zoo  \\\n0  User 1       0.0      0.0     3.63   3.65       5.0     2.92    5.0  2.35   \n1  User 2       0.0      0.0     3.63   3.65       5.0     2.92    5.0  2.64   \n2  User 3       0.0      0.0     3.63   3.63       5.0     2.92    5.0  2.64   \n3  User 4       0.0      0.5     3.63   3.63       5.0     2.92    5.0  2.35   \n4  User 5       0.0      0.0     3.63   3.63       5.0     2.92    5.0  2.64   \n\n   restaurants  ...  art_galleries  dance_clubs  swimming_pools  gyms  \\\n0         2.33  ...           1.74         0.59             0.5   0.0   \n1         2.33  ...           1.74         0.59             0.5   0.0   \n2         2.33  ...           1.74         0.59             0.5   0.0   \n3         2.33  ...           1.74         0.59             0.5   0.0   \n4         2.33  ...           1.74         0.59             0.5   0.0   \n\n   bakeries  beauty_spas  cafes  view_points  monuments  gardens  \n0       0.5          0.0    0.0          0.0        0.0      0.0  \n1       0.5          0.0    0.0          0.0        0.0      0.0  \n2       0.5          0.0    0.0          0.0        0.0      0.0  \n3       0.5          0.0    0.0          0.0        0.0      0.0  \n4       0.5          0.0    0.0          0.0        0.0      0.0  \n\n[5 rows x 25 columns]",
      "text/html": "<div>\n<style scoped>\n    .dataframe tbody tr th:only-of-type {\n        vertical-align: middle;\n    }\n\n    .dataframe tbody tr th {\n        vertical-align: top;\n    }\n\n    .dataframe thead th {\n        text-align: right;\n    }\n</style>\n<table border=\"1\" class=\"dataframe\">\n  <thead>\n    <tr style=\"text-align: right;\">\n      <th></th>\n      <th>user_id</th>\n      <th>churches</th>\n      <th>resorts</th>\n      <th>beaches</th>\n      <th>parks</th>\n      <th>theatres</th>\n      <th>museums</th>\n      <th>malls</th>\n      <th>zoo</th>\n      <th>restaurants</th>\n      <th>...</th>\n      <th>art_galleries</th>\n      <th>dance_clubs</th>\n      <th>swimming_pools</th>\n      <th>gyms</th>\n      <th>bakeries</th>\n      <th>beauty_spas</th>\n      <th>cafes</th>\n      <th>view_points</th>\n      <th>monuments</th>\n      <th>gardens</th>\n    </tr>\n  </thead>\n  <tbody>\n    <tr>\n      <th>0</th>\n      <td>User 1</td>\n      <td>0.0</td>\n      <td>0.0</td>\n      <td>3.63</td>\n      <td>3.65</td>\n      <td>5.0</td>\n      <td>2.92</td>\n      <td>5.0</td>\n      <td>2.35</td>\n      <td>2.33</td>\n      <td>...</td>\n      <td>1.74</td>\n      <td>0.59</td>\n      <td>0.5</td>\n      <td>0.0</td>\n      <td>0.5</td>\n      <td>0.0</td>\n      <td>0.0</td>\n      <td>0.0</td>\n      <td>0.0</td>\n      <td>0.0</td>\n    </tr>\n    <tr>\n      <th>1</th>\n      <td>User 2</td>\n      <td>0.0</td>\n      <td>0.0</td>\n      <td>3.63</td>\n      <td>3.65</td>\n      <td>5.0</td>\n      <td>2.92</td>\n      <td>5.0</td>\n      <td>2.64</td>\n      <td>2.33</td>\n      <td>...</td>\n      <td>1.74</td>\n      <td>0.59</td>\n      <td>0.5</td>\n      <td>0.0</td>\n      <td>0.5</td>\n      <td>0.0</td>\n      <td>0.0</td>\n      <td>0.0</td>\n      <td>0.0</td>\n      <td>0.0</td>\n    </tr>\n    <tr>\n      <th>2</th>\n      <td>User 3</td>\n      <td>0.0</td>\n      <td>0.0</td>\n      <td>3.63</td>\n      <td>3.63</td>\n      <td>5.0</td>\n      <td>2.92</td>\n      <td>5.0</td>\n      <td>2.64</td>\n      <td>2.33</td>\n      <td>...</td>\n      <td>1.74</td>\n      <td>0.59</td>\n      <td>0.5</td>\n      <td>0.0</td>\n      <td>0.5</td>\n      <td>0.0</td>\n      <td>0.0</td>\n      <td>0.0</td>\n      <td>0.0</td>\n      <td>0.0</td>\n    </tr>\n    <tr>\n      <th>3</th>\n      <td>User 4</td>\n      <td>0.0</td>\n      <td>0.5</td>\n      <td>3.63</td>\n      <td>3.63</td>\n      <td>5.0</td>\n      <td>2.92</td>\n      <td>5.0</td>\n      <td>2.35</td>\n      <td>2.33</td>\n      <td>...</td>\n      <td>1.74</td>\n      <td>0.59</td>\n      <td>0.5</td>\n      <td>0.0</td>\n      <td>0.5</td>\n      <td>0.0</td>\n      <td>0.0</td>\n      <td>0.0</td>\n      <td>0.0</td>\n      <td>0.0</td>\n    </tr>\n    <tr>\n      <th>4</th>\n      <td>User 5</td>\n      <td>0.0</td>\n      <td>0.0</td>\n      <td>3.63</td>\n      <td>3.63</td>\n      <td>5.0</td>\n      <td>2.92</td>\n      <td>5.0</td>\n      <td>2.64</td>\n      <td>2.33</td>\n      <td>...</td>\n      <td>1.74</td>\n      <td>0.59</td>\n      <td>0.5</td>\n      <td>0.0</td>\n      <td>0.5</td>\n      <td>0.0</td>\n      <td>0.0</td>\n      <td>0.0</td>\n      <td>0.0</td>\n      <td>0.0</td>\n    </tr>\n  </tbody>\n</table>\n<p>5 rows × 25 columns</p>\n</div>"
     },
     "execution_count": 51,
     "metadata": {},
     "output_type": "execute_result"
    }
   ],
   "source": [
    "data.head()"
   ]
  },
  {
   "cell_type": "markdown",
   "metadata": {},
   "source": [
    "Columns are renamed"
   ]
  },
  {
   "cell_type": "code",
   "execution_count": 52,
   "metadata": {
    "ExecuteTime": {
     "end_time": "2023-09-16T16:35:03.477350Z",
     "start_time": "2023-09-16T16:35:03.018698Z"
    }
   },
   "outputs": [
    {
     "name": "stdout",
     "output_type": "stream",
     "text": [
      "<class 'pandas.core.frame.DataFrame'>\n",
      "RangeIndex: 5456 entries, 0 to 5455\n",
      "Data columns (total 25 columns):\n",
      " #   Column                 Non-Null Count  Dtype  \n",
      "---  ------                 --------------  -----  \n",
      " 0   user_id                5456 non-null   object \n",
      " 1   churches               5456 non-null   float64\n",
      " 2   resorts                5456 non-null   float64\n",
      " 3   beaches                5456 non-null   float64\n",
      " 4   parks                  5456 non-null   float64\n",
      " 5   theatres               5456 non-null   float64\n",
      " 6   museums                5456 non-null   float64\n",
      " 7   malls                  5456 non-null   float64\n",
      " 8   zoo                    5456 non-null   float64\n",
      " 9   restaurants            5456 non-null   float64\n",
      " 10  pubs_bars              5456 non-null   float64\n",
      " 11  local_services         5455 non-null   float64\n",
      " 12  burger_pizza_shops     5455 non-null   float64\n",
      " 13  hotels_other_lodgings  5456 non-null   float64\n",
      " 14  juice_bars             5456 non-null   float64\n",
      " 15  art_galleries          5456 non-null   float64\n",
      " 16  dance_clubs            5456 non-null   float64\n",
      " 17  swimming_pools         5456 non-null   float64\n",
      " 18  gyms                   5456 non-null   float64\n",
      " 19  bakeries               5456 non-null   float64\n",
      " 20  beauty_spas            5456 non-null   float64\n",
      " 21  cafes                  5456 non-null   float64\n",
      " 22  view_points            5456 non-null   float64\n",
      " 23  monuments              5456 non-null   float64\n",
      " 24  gardens                5455 non-null   float64\n",
      "dtypes: float64(24), object(1)\n",
      "memory usage: 1.0+ MB\n"
     ]
    }
   ],
   "source": [
    "data.info()"
   ]
  },
  {
   "cell_type": "markdown",
   "metadata": {},
   "source": [
    "<table align='left'>\n",
    "    <tr>\n",
    "        <td width='8%'>\n",
    "            <img src='note.png'>\n",
    "        </td>\n",
    "        <td>\n",
    "            <div align='left', style='font-size:120%'>\n",
    "                    <b>Since local_services is numeric, it is represented as categorical</b>\n",
    "                </font>\n",
    "            </div>\n",
    "        </td>\n",
    "    </tr>\n",
    "</table>"
   ]
  },
  {
   "cell_type": "markdown",
   "metadata": {},
   "source": [
    "**Changing data type of local_services**"
   ]
  },
  {
   "cell_type": "code",
   "execution_count": 53,
   "metadata": {
    "ExecuteTime": {
     "end_time": "2023-09-16T16:35:03.490066Z",
     "start_time": "2023-09-16T16:35:03.027285Z"
    }
   },
   "outputs": [],
   "source": [
    "data['local_services'] = pd.to_numeric(data['local_services'],errors = 'coerce')"
   ]
  },
  {
   "cell_type": "markdown",
   "metadata": {},
   "source": [
    "<table align='left'>\n",
    "    <tr>\n",
    "        <td width='8%'>\n",
    "            <img src='note.png'>\n",
    "        </td>\n",
    "        <td>\n",
    "            <div align='left', style='font-size:120%'>\n",
    "                    <b>We have encountered an error specifying that features have a invalid string. So to change data type we need to release this error</b>\n",
    "                </font>\n",
    "            </div>\n",
    "        </td>\n",
    "    </tr>\n",
    "</table>"
   ]
  },
  {
   "cell_type": "code",
   "execution_count": 54,
   "metadata": {
    "ExecuteTime": {
     "end_time": "2023-09-16T16:35:03.504456Z",
     "start_time": "2023-09-16T16:35:03.032639Z"
    }
   },
   "outputs": [
    {
     "data": {
      "text/plain": "array([1.7 , 1.73, 1.71, 1.69, 1.67, 1.65, 1.66, 1.64, 1.63, 5.  , 1.56,\n       1.55, 1.53, 1.52, 1.51, 1.5 , 1.49, 1.48, 1.46, 2.13, 2.12, 2.1 ,\n       2.09, 2.08, 2.07, 2.06, 2.05, 2.04, 2.03, 2.01, 2.  , 1.98, 1.97,\n       1.95, 1.93, 1.91, 1.9 , 1.88, 1.86, 1.84, 1.83, 1.81, 1.79, 1.77,\n       1.74, 1.72, 1.68, 1.61, 1.6 , 1.59, 1.58, 1.99, 2.47, 2.35, 2.48,\n       2.59, 3.39, 2.31, 2.78, 2.79, 2.77, 2.76, 2.75, 2.74, 2.72, 2.71,\n       2.69, 2.68, 2.66, 2.65, 2.63, 2.61, 2.57, 2.55, 2.53, 2.51, 2.49,\n       1.94, 1.92, 1.82, 1.76, 1.62, 4.08, 4.04, 4.02, 4.01, 4.  , 3.99,\n       3.98, 3.96, 3.95, 3.94, 3.93, 3.91, 3.9 , 3.88, 3.87, 3.86, 3.84,\n       3.85, 2.17, 3.  , 2.99, 2.82, 2.83, 2.81, 2.8 , 2.73, 2.67, 2.64,\n       2.62, 2.54, 2.52, 2.5 , 2.02, 1.57, 1.54, 1.47, 1.87, 1.85, 1.78,\n       2.6 , 1.45, 1.43, 1.41, 1.39, 1.37, 1.36, 1.34, 1.32, 1.3 , 1.28,\n       1.26, 1.24, 1.22, 1.2 , 1.18, 1.16, 1.14, 1.12, 1.1 , 1.08, 1.07,\n       1.05, 1.03, 1.01, 0.99, 0.97, 0.96, 0.94, 0.92, 0.9 , 0.88, 0.87,\n       0.85, 0.83, 0.82, 0.84, 0.86, 3.35, 3.34, 3.33, 3.32, 3.31, 3.3 ,\n       3.29, 3.28, 3.27, 3.26, 3.25, 3.24, 3.22, 3.21, 3.19, 3.17, 3.16,\n       3.14, 3.08, 3.06, 3.04, 3.02, 2.98, 2.97, 2.94, 2.92, 2.91, 2.89,\n       2.87, 2.85, 2.7 , 2.28, 2.26, 2.25, 2.45, 2.43, 2.41, 2.39, 2.37,\n       2.34, 2.32, 2.3 , 2.24, 2.23, 2.21, 2.19, 2.18, 2.15, 2.14, 2.11,\n       1.89, 1.75, 1.8 , 1.44, 1.42, 1.17, 1.19, 1.35, 1.38, 1.33, 1.31,\n       1.29, 1.27, 1.25, 1.23, 1.21, 1.06, 1.04, 1.02, 1.  , 0.98, 0.95,\n       0.93, 0.91, 4.95, 4.96, 3.07, 2.9 , 2.88, 2.84, 2.22, 2.29, 2.27,\n       2.2 , 1.96, 3.82, 3.11, 2.93, 2.16, 3.74, 3.72, 2.58, 2.44, 2.42,\n       2.4 , 2.33, 1.4 , 1.09, 3.15, 3.13, 3.12, 3.1 , 3.09, 2.96, 2.95,\n       2.86, 2.38, 2.36, 3.56, 0.89, 0.81, 4.98, 3.4 , 4.06, 4.05, 4.03,\n       3.97, 3.03, 3.01, 3.18, 1.15, 1.13, 1.11, 3.23, 2.46,  nan, 0.8 ,\n       4.94, 3.92, 3.2 , 3.05, 0.79, 0.78, 4.09, 4.97, 2.56, 3.54])"
     },
     "execution_count": 54,
     "metadata": {},
     "output_type": "execute_result"
    }
   ],
   "source": [
    "data['local_services'].unique() # Getting all unique values"
   ]
  },
  {
   "cell_type": "markdown",
   "metadata": {},
   "source": [
    "<table align='left'>\n",
    "    <tr>\n",
    "        <td width='8%'>\n",
    "            <img src='note.png'>\n",
    "        </td>\n",
    "        <td>\n",
    "            <div align='left', style='font-size:120%'>\n",
    "                    <b>There is a data as '2\\t2.' which cannot be converted to float. So need to remove it</b>\n",
    "                </font>\n",
    "            </div>\n",
    "        </td>\n",
    "    </tr>\n",
    "</table>"
   ]
  },
  {
   "cell_type": "markdown",
   "metadata": {},
   "source": [
    "**Drop rows where local_services is equal to '2\\t2.'**"
   ]
  },
  {
   "cell_type": "code",
   "execution_count": 55,
   "metadata": {
    "ExecuteTime": {
     "end_time": "2023-09-16T16:35:03.509836Z",
     "start_time": "2023-09-16T16:35:03.044212Z"
    }
   },
   "outputs": [
    {
     "data": {
      "text/plain": "Series([], Name: local_services, dtype: float64)"
     },
     "execution_count": 55,
     "metadata": {},
     "output_type": "execute_result"
    }
   ],
   "source": [
    "# Get row number where local services is invalid\n",
    "data[data['local_services'] == '2\\t2.']['local_services']"
   ]
  },
  {
   "cell_type": "markdown",
   "metadata": {},
   "source": [
    "Droping row 2712"
   ]
  },
  {
   "cell_type": "code",
   "execution_count": 56,
   "metadata": {
    "ExecuteTime": {
     "end_time": "2023-09-16T16:35:03.514300Z",
     "start_time": "2023-09-16T16:35:03.050367Z"
    }
   },
   "outputs": [],
   "source": [
    "data = data.drop(data[data['local_services'] == '2\\t2.'].index)"
   ]
  },
  {
   "cell_type": "markdown",
   "metadata": {},
   "source": [
    "Now, we can changing data type of local_services"
   ]
  },
  {
   "cell_type": "code",
   "execution_count": 57,
   "metadata": {
    "ExecuteTime": {
     "end_time": "2023-09-16T16:35:03.540497Z",
     "start_time": "2023-09-16T16:35:03.056163Z"
    }
   },
   "outputs": [],
   "source": [
    "data[['local_services']] = data[['local_services']].apply(pd.to_numeric) "
   ]
  },
  {
   "cell_type": "code",
   "execution_count": 58,
   "metadata": {
    "ExecuteTime": {
     "end_time": "2023-09-16T16:35:03.545489Z",
     "start_time": "2023-09-16T16:35:03.058845Z"
    }
   },
   "outputs": [
    {
     "name": "stdout",
     "output_type": "stream",
     "text": [
      "<class 'pandas.core.frame.DataFrame'>\n",
      "RangeIndex: 5456 entries, 0 to 5455\n",
      "Data columns (total 25 columns):\n",
      " #   Column                 Non-Null Count  Dtype  \n",
      "---  ------                 --------------  -----  \n",
      " 0   user_id                5456 non-null   object \n",
      " 1   churches               5456 non-null   float64\n",
      " 2   resorts                5456 non-null   float64\n",
      " 3   beaches                5456 non-null   float64\n",
      " 4   parks                  5456 non-null   float64\n",
      " 5   theatres               5456 non-null   float64\n",
      " 6   museums                5456 non-null   float64\n",
      " 7   malls                  5456 non-null   float64\n",
      " 8   zoo                    5456 non-null   float64\n",
      " 9   restaurants            5456 non-null   float64\n",
      " 10  pubs_bars              5456 non-null   float64\n",
      " 11  local_services         5455 non-null   float64\n",
      " 12  burger_pizza_shops     5455 non-null   float64\n",
      " 13  hotels_other_lodgings  5456 non-null   float64\n",
      " 14  juice_bars             5456 non-null   float64\n",
      " 15  art_galleries          5456 non-null   float64\n",
      " 16  dance_clubs            5456 non-null   float64\n",
      " 17  swimming_pools         5456 non-null   float64\n",
      " 18  gyms                   5456 non-null   float64\n",
      " 19  bakeries               5456 non-null   float64\n",
      " 20  beauty_spas            5456 non-null   float64\n",
      " 21  cafes                  5456 non-null   float64\n",
      " 22  view_points            5456 non-null   float64\n",
      " 23  monuments              5456 non-null   float64\n",
      " 24  gardens                5455 non-null   float64\n",
      "dtypes: float64(24), object(1)\n",
      "memory usage: 1.0+ MB\n"
     ]
    }
   ],
   "source": [
    "data.info()"
   ]
  },
  {
   "cell_type": "markdown",
   "metadata": {},
   "source": [
    "All the features are numeric except the user_id as it is categorical in nature "
   ]
  },
  {
   "cell_type": "code",
   "execution_count": 59,
   "metadata": {
    "ExecuteTime": {
     "end_time": "2023-09-16T16:35:03.550119Z",
     "start_time": "2023-09-16T16:35:03.063531Z"
    }
   },
   "outputs": [],
   "source": [
    "data_manipulated = data.copy(deep =True ) # Creating a copy of dataframe"
   ]
  },
  {
   "cell_type": "markdown",
   "metadata": {},
   "source": [
    "<a id='Statistical_Summary'></a>\n",
    "## 5. Statistical Summary\n"
   ]
  },
  {
   "cell_type": "code",
   "execution_count": 60,
   "metadata": {
    "ExecuteTime": {
     "end_time": "2023-09-16T16:35:03.576119Z",
     "start_time": "2023-09-16T16:35:03.068124Z"
    }
   },
   "outputs": [
    {
     "data": {
      "text/plain": "          churches      resorts      beaches        parks     theatres  \\\ncount  5456.000000  5456.000000  5456.000000  5456.000000  5456.000000   \nmean      1.455720     2.319707     2.489331     2.796886     2.958941   \nstd       0.827604     1.421438     1.247815     1.309159     1.339056   \nmin       0.000000     0.000000     0.000000     0.830000     1.120000   \n25%       0.920000     1.360000     1.540000     1.730000     1.770000   \n50%       1.340000     1.905000     2.060000     2.460000     2.670000   \n75%       1.810000     2.682500     2.740000     4.092500     4.312500   \nmax       5.000000     5.000000     5.000000     5.000000     5.000000   \n\n          museums        malls          zoo  restaurants    pubs_bars  ...  \\\ncount  5456.00000  5456.000000  5456.000000  5456.000000  5456.000000  ...   \nmean      2.89349     3.351395     2.540795     3.126019     2.832729  ...   \nstd       1.28240     1.413492     1.111391     1.356802     1.307665  ...   \nmin       1.11000     1.120000     0.860000     0.840000     0.810000  ...   \n25%       1.79000     1.930000     1.620000     1.800000     1.640000  ...   \n50%       2.68000     3.230000     2.170000     2.800000     2.680000  ...   \n75%       3.84000     5.000000     3.190000     5.000000     3.530000  ...   \nmax       5.00000     5.000000     5.000000     5.000000     5.000000  ...   \n\n       art_galleries  dance_clubs  swimming_pools         gyms     bakeries  \\\ncount    5456.000000  5456.000000     5456.000000  5456.000000  5456.000000   \nmean        2.206573     1.192801        0.949203     0.822414     0.969811   \nstd         1.715961     1.107005        0.973536     0.947911     1.203972   \nmin         0.000000     0.000000        0.000000     0.000000     0.000000   \n25%         0.860000     0.690000        0.580000     0.530000     0.520000   \n50%         1.330000     0.800000        0.740000     0.690000     0.690000   \n75%         4.440000     1.160000        0.910000     0.840000     0.860000   \nmax         5.000000     5.000000        5.000000     5.000000     5.000000   \n\n       beauty_spas        cafes  view_points    monuments      gardens  \ncount  5456.000000  5456.000000  5456.000000  5456.000000  5455.000000  \nmean      1.000071     0.965838     1.750537     1.531453     1.560755  \nstd       1.193891     0.929853     1.598734     1.316889     1.171756  \nmin       0.000000     0.000000     0.000000     0.000000     0.000000  \n25%       0.540000     0.570000     0.740000     0.790000     0.880000  \n50%       0.690000     0.760000     1.030000     1.070000     1.290000  \n75%       0.860000     1.000000     2.070000     1.560000     1.660000  \nmax       5.000000     5.000000     5.000000     5.000000     5.000000  \n\n[8 rows x 24 columns]",
      "text/html": "<div>\n<style scoped>\n    .dataframe tbody tr th:only-of-type {\n        vertical-align: middle;\n    }\n\n    .dataframe tbody tr th {\n        vertical-align: top;\n    }\n\n    .dataframe thead th {\n        text-align: right;\n    }\n</style>\n<table border=\"1\" class=\"dataframe\">\n  <thead>\n    <tr style=\"text-align: right;\">\n      <th></th>\n      <th>churches</th>\n      <th>resorts</th>\n      <th>beaches</th>\n      <th>parks</th>\n      <th>theatres</th>\n      <th>museums</th>\n      <th>malls</th>\n      <th>zoo</th>\n      <th>restaurants</th>\n      <th>pubs_bars</th>\n      <th>...</th>\n      <th>art_galleries</th>\n      <th>dance_clubs</th>\n      <th>swimming_pools</th>\n      <th>gyms</th>\n      <th>bakeries</th>\n      <th>beauty_spas</th>\n      <th>cafes</th>\n      <th>view_points</th>\n      <th>monuments</th>\n      <th>gardens</th>\n    </tr>\n  </thead>\n  <tbody>\n    <tr>\n      <th>count</th>\n      <td>5456.000000</td>\n      <td>5456.000000</td>\n      <td>5456.000000</td>\n      <td>5456.000000</td>\n      <td>5456.000000</td>\n      <td>5456.00000</td>\n      <td>5456.000000</td>\n      <td>5456.000000</td>\n      <td>5456.000000</td>\n      <td>5456.000000</td>\n      <td>...</td>\n      <td>5456.000000</td>\n      <td>5456.000000</td>\n      <td>5456.000000</td>\n      <td>5456.000000</td>\n      <td>5456.000000</td>\n      <td>5456.000000</td>\n      <td>5456.000000</td>\n      <td>5456.000000</td>\n      <td>5456.000000</td>\n      <td>5455.000000</td>\n    </tr>\n    <tr>\n      <th>mean</th>\n      <td>1.455720</td>\n      <td>2.319707</td>\n      <td>2.489331</td>\n      <td>2.796886</td>\n      <td>2.958941</td>\n      <td>2.89349</td>\n      <td>3.351395</td>\n      <td>2.540795</td>\n      <td>3.126019</td>\n      <td>2.832729</td>\n      <td>...</td>\n      <td>2.206573</td>\n      <td>1.192801</td>\n      <td>0.949203</td>\n      <td>0.822414</td>\n      <td>0.969811</td>\n      <td>1.000071</td>\n      <td>0.965838</td>\n      <td>1.750537</td>\n      <td>1.531453</td>\n      <td>1.560755</td>\n    </tr>\n    <tr>\n      <th>std</th>\n      <td>0.827604</td>\n      <td>1.421438</td>\n      <td>1.247815</td>\n      <td>1.309159</td>\n      <td>1.339056</td>\n      <td>1.28240</td>\n      <td>1.413492</td>\n      <td>1.111391</td>\n      <td>1.356802</td>\n      <td>1.307665</td>\n      <td>...</td>\n      <td>1.715961</td>\n      <td>1.107005</td>\n      <td>0.973536</td>\n      <td>0.947911</td>\n      <td>1.203972</td>\n      <td>1.193891</td>\n      <td>0.929853</td>\n      <td>1.598734</td>\n      <td>1.316889</td>\n      <td>1.171756</td>\n    </tr>\n    <tr>\n      <th>min</th>\n      <td>0.000000</td>\n      <td>0.000000</td>\n      <td>0.000000</td>\n      <td>0.830000</td>\n      <td>1.120000</td>\n      <td>1.11000</td>\n      <td>1.120000</td>\n      <td>0.860000</td>\n      <td>0.840000</td>\n      <td>0.810000</td>\n      <td>...</td>\n      <td>0.000000</td>\n      <td>0.000000</td>\n      <td>0.000000</td>\n      <td>0.000000</td>\n      <td>0.000000</td>\n      <td>0.000000</td>\n      <td>0.000000</td>\n      <td>0.000000</td>\n      <td>0.000000</td>\n      <td>0.000000</td>\n    </tr>\n    <tr>\n      <th>25%</th>\n      <td>0.920000</td>\n      <td>1.360000</td>\n      <td>1.540000</td>\n      <td>1.730000</td>\n      <td>1.770000</td>\n      <td>1.79000</td>\n      <td>1.930000</td>\n      <td>1.620000</td>\n      <td>1.800000</td>\n      <td>1.640000</td>\n      <td>...</td>\n      <td>0.860000</td>\n      <td>0.690000</td>\n      <td>0.580000</td>\n      <td>0.530000</td>\n      <td>0.520000</td>\n      <td>0.540000</td>\n      <td>0.570000</td>\n      <td>0.740000</td>\n      <td>0.790000</td>\n      <td>0.880000</td>\n    </tr>\n    <tr>\n      <th>50%</th>\n      <td>1.340000</td>\n      <td>1.905000</td>\n      <td>2.060000</td>\n      <td>2.460000</td>\n      <td>2.670000</td>\n      <td>2.68000</td>\n      <td>3.230000</td>\n      <td>2.170000</td>\n      <td>2.800000</td>\n      <td>2.680000</td>\n      <td>...</td>\n      <td>1.330000</td>\n      <td>0.800000</td>\n      <td>0.740000</td>\n      <td>0.690000</td>\n      <td>0.690000</td>\n      <td>0.690000</td>\n      <td>0.760000</td>\n      <td>1.030000</td>\n      <td>1.070000</td>\n      <td>1.290000</td>\n    </tr>\n    <tr>\n      <th>75%</th>\n      <td>1.810000</td>\n      <td>2.682500</td>\n      <td>2.740000</td>\n      <td>4.092500</td>\n      <td>4.312500</td>\n      <td>3.84000</td>\n      <td>5.000000</td>\n      <td>3.190000</td>\n      <td>5.000000</td>\n      <td>3.530000</td>\n      <td>...</td>\n      <td>4.440000</td>\n      <td>1.160000</td>\n      <td>0.910000</td>\n      <td>0.840000</td>\n      <td>0.860000</td>\n      <td>0.860000</td>\n      <td>1.000000</td>\n      <td>2.070000</td>\n      <td>1.560000</td>\n      <td>1.660000</td>\n    </tr>\n    <tr>\n      <th>max</th>\n      <td>5.000000</td>\n      <td>5.000000</td>\n      <td>5.000000</td>\n      <td>5.000000</td>\n      <td>5.000000</td>\n      <td>5.00000</td>\n      <td>5.000000</td>\n      <td>5.000000</td>\n      <td>5.000000</td>\n      <td>5.000000</td>\n      <td>...</td>\n      <td>5.000000</td>\n      <td>5.000000</td>\n      <td>5.000000</td>\n      <td>5.000000</td>\n      <td>5.000000</td>\n      <td>5.000000</td>\n      <td>5.000000</td>\n      <td>5.000000</td>\n      <td>5.000000</td>\n      <td>5.000000</td>\n    </tr>\n  </tbody>\n</table>\n<p>8 rows × 24 columns</p>\n</div>"
     },
     "execution_count": 60,
     "metadata": {},
     "output_type": "execute_result"
    }
   ],
   "source": [
    "# data frame with numerical features\n",
    "data_manipulated.describe()"
   ]
  },
  {
   "cell_type": "markdown",
   "metadata": {},
   "source": [
    "<table align=\"left\">\n",
    "    <tr>\n",
    "        <td width=\"8%\">\n",
    "            <img src=\"note.png\">\n",
    "        </td>\n",
    "        <td>\n",
    "            <div align=\"left\", style=\"font-size:120%\">\n",
    "<b>The above output illustrates the summary statistics of all the numeric variables like the mean, median(50%), minimum, and maximum values, along with the standard deviation.</b>     </font>\n",
    "            </div>\n",
    "        </td>\n",
    "    </tr>\n",
    "</table>"
   ]
  },
  {
   "cell_type": "code",
   "execution_count": 61,
   "metadata": {
    "ExecuteTime": {
     "end_time": "2023-09-16T16:35:03.579944Z",
     "start_time": "2023-09-16T16:35:03.092240Z"
    }
   },
   "outputs": [
    {
     "data": {
      "text/plain": "       user_id\ncount     5456\nunique    5456\ntop     User 1\nfreq         1",
      "text/html": "<div>\n<style scoped>\n    .dataframe tbody tr th:only-of-type {\n        vertical-align: middle;\n    }\n\n    .dataframe tbody tr th {\n        vertical-align: top;\n    }\n\n    .dataframe thead th {\n        text-align: right;\n    }\n</style>\n<table border=\"1\" class=\"dataframe\">\n  <thead>\n    <tr style=\"text-align: right;\">\n      <th></th>\n      <th>user_id</th>\n    </tr>\n  </thead>\n  <tbody>\n    <tr>\n      <th>count</th>\n      <td>5456</td>\n    </tr>\n    <tr>\n      <th>unique</th>\n      <td>5456</td>\n    </tr>\n    <tr>\n      <th>top</th>\n      <td>User 1</td>\n    </tr>\n    <tr>\n      <th>freq</th>\n      <td>1</td>\n    </tr>\n  </tbody>\n</table>\n</div>"
     },
     "execution_count": 61,
     "metadata": {},
     "output_type": "execute_result"
    }
   ],
   "source": [
    "# data frame with categorical features\n",
    "data.describe(include='object')"
   ]
  },
  {
   "cell_type": "markdown",
   "metadata": {},
   "source": [
    "<table align=\"left\">\n",
    "    <tr>\n",
    "        <td width=\"8%\">\n",
    "            <img src=\"note.png\">\n",
    "        </td>\n",
    "        <td>\n",
    "            <div align=\"left\", style=\"font-size:120%\">\n",
    "<b>user_id is unique for all instances</b>     </font>\n",
    "            </div>\n",
    "        </td>\n",
    "    </tr>\n",
    "</table>"
   ]
  },
  {
   "cell_type": "markdown",
   "metadata": {},
   "source": [
    "<a id='Handling_Missing_Values'></a>\n",
    "## 6. Handling Missing Values\n",
    "If the missing values are not handled properly we may end up drawing an inaccurate inference about the data. Due to improper handling, the result obtained will differ from the ones where the missing values are present."
   ]
  },
  {
   "cell_type": "markdown",
   "metadata": {},
   "source": [
    "<table align=\"left\">\n",
    "    <tr>\n",
    "        <td width=\"8%\">\n",
    "            <img src=\"key.png\">\n",
    "        </td>\n",
    "        <td>\n",
    "            <div align=\"left\", style=\"font-size:120%\">\n",
    "                    <b>In order to get the count of missing values in each column, we use the in-built function .isnull().sum()\n",
    "                    </b>\n",
    "                </font>\n",
    "            </div>\n",
    "        </td>\n",
    "    </tr>\n",
    "</table>"
   ]
  },
  {
   "cell_type": "code",
   "execution_count": 62,
   "metadata": {
    "scrolled": true,
    "ExecuteTime": {
     "end_time": "2023-09-16T16:35:03.585651Z",
     "start_time": "2023-09-16T16:35:03.095333Z"
    }
   },
   "outputs": [
    {
     "name": "stdout",
     "output_type": "stream",
     "text": [
      "user_id                  0\n",
      "churches                 0\n",
      "resorts                  0\n",
      "beaches                  0\n",
      "parks                    0\n",
      "theatres                 0\n",
      "museums                  0\n",
      "malls                    0\n",
      "zoo                      0\n",
      "restaurants              0\n",
      "pubs_bars                0\n",
      "local_services           1\n",
      "burger_pizza_shops       1\n",
      "hotels_other_lodgings    0\n",
      "juice_bars               0\n",
      "art_galleries            0\n",
      "dance_clubs              0\n",
      "swimming_pools           0\n",
      "gyms                     0\n",
      "bakeries                 0\n",
      "beauty_spas              0\n",
      "cafes                    0\n",
      "view_points              0\n",
      "monuments                0\n",
      "gardens                  1\n",
      "dtype: int64\n"
     ]
    }
   ],
   "source": [
    "# get the count of missing values\n",
    "missing_values = data_manipulated.isnull().sum()\n",
    "\n",
    "# print the count of missing values\n",
    "print(missing_values)"
   ]
  },
  {
   "cell_type": "markdown",
   "metadata": {},
   "source": [
    "<table align='left'>\n",
    "    <tr>\n",
    "        <td width='8%'>\n",
    "            <img src='note.png'>\n",
    "        </td>\n",
    "        <td>\n",
    "            <div align='left', style='font-size:120%'>\n",
    "                    <b>There is only one missing value, so rplacing it with mean</b>\n",
    "                </font>\n",
    "            </div>\n",
    "        </td>\n",
    "    </tr>\n",
    "</table>"
   ]
  },
  {
   "cell_type": "code",
   "execution_count": 63,
   "metadata": {
    "ExecuteTime": {
     "start_time": "2023-09-16T16:35:03.099089Z"
    }
   },
   "outputs": [
    {
     "ename": "TypeError",
     "evalue": "Could not convert ['User 1User 2User 3User 4User 5User 6User 7User 8User 9User 10User 11User 12User 13User 14User 15User 16User 17User 18User 19User 20User 21User 22User 23User 24User 25User 26User 27User 28User 29User 30User 31User 32User 33User 34User 35User 36User 37User 38User 39User 40User 41User 42User 43User 44User 45User 46User 47User 48User 49User 50User 51User 52User 53User 54User 55User 56User 57User 58User 59User 60User 61User 62User 63User 64User 65User 66User 67User 68User 69User 70User 71User 72User 73User 74User 75User 76User 77User 78User 79User 80User 81User 82User 83User 84User 85User 86User 87User 88User 89User 90User 91User 92User 93User 94User 95User 96User 97User 98User 99User 100User 101User 102User 103User 104User 105User 106User 107User 108User 109User 110User 111User 112User 113User 114User 115User 116User 117User 118User 119User 120User 121User 122User 123User 124User 125User 126User 127User 128User 129User 130User 131User 132User 133User 134User 135User 136User 137User 138User 139User 140User 141User 142User 143User 144User 145User 146User 147User 148User 149User 150User 151User 152User 153User 154User 155User 156User 157User 158User 159User 160User 161User 162User 163User 164User 165User 166User 167User 168User 169User 170User 171User 172User 173User 174User 175User 176User 177User 178User 179User 180User 181User 182User 183User 184User 185User 186User 187User 188User 189User 190User 191User 192User 193User 194User 195User 196User 197User 198User 199User 200User 201User 202User 203User 204User 205User 206User 207User 208User 209User 210User 211User 212User 213User 214User 215User 216User 217User 218User 219User 220User 221User 222User 223User 224User 225User 226User 227User 228User 229User 230User 231User 232User 233User 234User 235User 236User 237User 238User 239User 240User 241User 242User 243User 244User 245User 246User 247User 248User 249User 250User 251User 252User 253User 254User 255User 256User 257User 258User 259User 260User 261User 262User 263User 264User 265User 266User 267User 268User 269User 270User 271User 272User 273User 274User 275User 276User 277User 278User 279User 280User 281User 282User 283User 284User 285User 286User 287User 288User 289User 290User 291User 292User 293User 294User 295User 296User 297User 298User 299User 300User 301User 302User 303User 304User 305User 306User 307User 308User 309User 310User 311User 312User 313User 314User 315User 316User 317User 318User 319User 320User 321User 322User 323User 324User 325User 326User 327User 328User 329User 330User 331User 332User 333User 334User 335User 336User 337User 338User 339User 340User 341User 342User 343User 344User 345User 346User 347User 348User 349User 350User 351User 352User 353User 354User 355User 356User 357User 358User 359User 360User 361User 362User 363User 364User 365User 366User 367User 368User 369User 370User 371User 372User 373User 374User 375User 376User 377User 378User 379User 380User 381User 382User 383User 384User 385User 386User 387User 388User 389User 390User 391User 392User 393User 394User 395User 396User 397User 398User 399User 400User 401User 402User 403User 404User 405User 406User 407User 408User 409User 410User 411User 412User 413User 414User 415User 416User 417User 418User 419User 420User 421User 422User 423User 424User 425User 426User 427User 428User 429User 430User 431User 432User 433User 434User 435User 436User 437User 438User 439User 440User 441User 442User 443User 444User 445User 446User 447User 448User 449User 450User 451User 452User 453User 454User 455User 456User 457User 458User 459User 460User 461User 462User 463User 464User 465User 466User 467User 468User 469User 470User 471User 472User 473User 474User 475User 476User 477User 478User 479User 480User 481User 482User 483User 484User 485User 486User 487User 488User 489User 490User 491User 492User 493User 494User 495User 496User 497User 498User 499User 500User 501User 502User 503User 504User 505User 506User 507User 508User 509User 510User 511User 512User 513User 514User 515User 516User 517User 518User 519User 520User 521User 522User 523User 524User 525User 526User 527User 528User 529User 530User 531User 532User 533User 534User 535User 536User 537User 538User 539User 540User 541User 542User 543User 544User 545User 546User 547User 548User 549User 550User 551User 552User 553User 554User 555User 556User 557User 558User 559User 560User 561User 562User 563User 564User 565User 566User 567User 568User 569User 570User 571User 572User 573User 574User 575User 576User 577User 578User 579User 580User 581User 582User 583User 584User 585User 586User 587User 588User 589User 590User 591User 592User 593User 594User 595User 596User 597User 598User 599User 600User 601User 602User 603User 604User 605User 606User 607User 608User 609User 610User 611User 612User 613User 614User 615User 616User 617User 618User 619User 620User 621User 622User 623User 624User 625User 626User 627User 628User 629User 630User 631User 632User 633User 634User 635User 636User 637User 638User 639User 640User 641User 642User 643User 644User 645User 646User 647User 648User 649User 650User 651User 652User 653User 654User 655User 656User 657User 658User 659User 660User 661User 662User 663User 664User 665User 666User 667User 668User 669User 670User 671User 672User 673User 674User 675User 676User 677User 678User 679User 680User 681User 682User 683User 684User 685User 686User 687User 688User 689User 690User 691User 692User 693User 694User 695User 696User 697User 698User 699User 700User 701User 702User 703User 704User 705User 706User 707User 708User 709User 710User 711User 712User 713User 714User 715User 716User 717User 718User 719User 720User 721User 722User 723User 724User 725User 726User 727User 728User 729User 730User 731User 732User 733User 734User 735User 736User 737User 738User 739User 740User 741User 742User 743User 744User 745User 746User 747User 748User 749User 750User 751User 752User 753User 754User 755User 756User 757User 758User 759User 760User 761User 762User 763User 764User 765User 766User 767User 768User 769User 770User 771User 772User 773User 774User 775User 776User 777User 778User 779User 780User 781User 782User 783User 784User 785User 786User 787User 788User 789User 790User 791User 792User 793User 794User 795User 796User 797User 798User 799User 800User 801User 802User 803User 804User 805User 806User 807User 808User 809User 810User 811User 812User 813User 814User 815User 816User 817User 818User 819User 820User 821User 822User 823User 824User 825User 826User 827User 828User 829User 830User 831User 832User 833User 834User 835User 836User 837User 838User 839User 840User 841User 842User 843User 844User 845User 846User 847User 848User 849User 850User 851User 852User 853User 854User 855User 856User 857User 858User 859User 860User 861User 862User 863User 864User 865User 866User 867User 868User 869User 870User 871User 872User 873User 874User 875User 876User 877User 878User 879User 880User 881User 882User 883User 884User 885User 886User 887User 888User 889User 890User 891User 892User 893User 894User 895User 896User 897User 898User 899User 900User 901User 902User 903User 904User 905User 906User 907User 908User 909User 910User 911User 912User 913User 914User 915User 916User 917User 918User 919User 920User 921User 922User 923User 924User 925User 926User 927User 928User 929User 930User 931User 932User 933User 934User 935User 936User 937User 938User 939User 940User 941User 942User 943User 944User 945User 946User 947User 948User 949User 950User 951User 952User 953User 954User 955User 956User 957User 958User 959User 960User 961User 962User 963User 964User 965User 966User 967User 968User 969User 970User 971User 972User 973User 974User 975User 976User 977User 978User 979User 980User 981User 982User 983User 984User 985User 986User 987User 988User 989User 990User 991User 992User 993User 994User 995User 996User 997User 998User 999User 1000User 1001User 1002User 1003User 1004User 1005User 1006User 1007User 1008User 1009User 1010User 1011User 1012User 1013User 1014User 1015User 1016User 1017User 1018User 1019User 1020User 1021User 1022User 1023User 1024User 1025User 1026User 1027User 1028User 1029User 1030User 1031User 1032User 1033User 1034User 1035User 1036User 1037User 1038User 1039User 1040User 1041User 1042User 1043User 1044User 1045User 1046User 1047User 1048User 1049User 1050User 1051User 1052User 1053User 1054User 1055User 1056User 1057User 1058User 1059User 1060User 1061User 1062User 1063User 1064User 1065User 1066User 1067User 1068User 1069User 1070User 1071User 1072User 1073User 1074User 1075User 1076User 1077User 1078User 1079User 1080User 1081User 1082User 1083User 1084User 1085User 1086User 1087User 1088User 1089User 1090User 1091User 1092User 1093User 1094User 1095User 1096User 1097User 1098User 1099User 1100User 1101User 1102User 1103User 1104User 1105User 1106User 1107User 1108User 1109User 1110User 1111User 1112User 1113User 1114User 1115User 1116User 1117User 1118User 1119User 1120User 1121User 1122User 1123User 1124User 1125User 1126User 1127User 1128User 1129User 1130User 1131User 1132User 1133User 1134User 1135User 1136User 1137User 1138User 1139User 1140User 1141User 1142User 1143User 1144User 1145User 1146User 1147User 1148User 1149User 1150User 1151User 1152User 1153User 1154User 1155User 1156User 1157User 1158User 1159User 1160User 1161User 1162User 1163User 1164User 1165User 1166User 1167User 1168User 1169User 1170User 1171User 1172User 1173User 1174User 1175User 1176User 1177User 1178User 1179User 1180User 1181User 1182User 1183User 1184User 1185User 1186User 1187User 1188User 1189User 1190User 1191User 1192User 1193User 1194User 1195User 1196User 1197User 1198User 1199User 1200User 1201User 1202User 1203User 1204User 1205User 1206User 1207User 1208User 1209User 1210User 1211User 1212User 1213User 1214User 1215User 1216User 1217User 1218User 1219User 1220User 1221User 1222User 1223User 1224User 1225User 1226User 1227User 1228User 1229User 1230User 1231User 1232User 1233User 1234User 1235User 1236User 1237User 1238User 1239User 1240User 1241User 1242User 1243User 1244User 1245User 1246User 1247User 1248User 1249User 1250User 1251User 1252User 1253User 1254User 1255User 1256User 1257User 1258User 1259User 1260User 1261User 1262User 1263User 1264User 1265User 1266User 1267User 1268User 1269User 1270User 1271User 1272User 1273User 1274User 1275User 1276User 1277User 1278User 1279User 1280User 1281User 1282User 1283User 1284User 1285User 1286User 1287User 1288User 1289User 1290User 1291User 1292User 1293User 1294User 1295User 1296User 1297User 1298User 1299User 1300User 1301User 1302User 1303User 1304User 1305User 1306User 1307User 1308User 1309User 1310User 1311User 1312User 1313User 1314User 1315User 1316User 1317User 1318User 1319User 1320User 1321User 1322User 1323User 1324User 1325User 1326User 1327User 1328User 1329User 1330User 1331User 1332User 1333User 1334User 1335User 1336User 1337User 1338User 1339User 1340User 1341User 1342User 1343User 1344User 1345User 1346User 1347User 1348User 1349User 1350User 1351User 1352User 1353User 1354User 1355User 1356User 1357User 1358User 1359User 1360User 1361User 1362User 1363User 1364User 1365User 1366User 1367User 1368User 1369User 1370User 1371User 1372User 1373User 1374User 1375User 1376User 1377User 1378User 1379User 1380User 1381User 1382User 1383User 1384User 1385User 1386User 1387User 1388User 1389User 1390User 1391User 1392User 1393User 1394User 1395User 1396User 1397User 1398User 1399User 1400User 1401User 1402User 1403User 1404User 1405User 1406User 1407User 1408User 1409User 1410User 1411User 1412User 1413User 1414User 1415User 1416User 1417User 1418User 1419User 1420User 1421User 1422User 1423User 1424User 1425User 1426User 1427User 1428User 1429User 1430User 1431User 1432User 1433User 1434User 1435User 1436User 1437User 1438User 1439User 1440User 1441User 1442User 1443User 1444User 1445User 1446User 1447User 1448User 1449User 1450User 1451User 1452User 1453User 1454User 1455User 1456User 1457User 1458User 1459User 1460User 1461User 1462User 1463User 1464User 1465User 1466User 1467User 1468User 1469User 1470User 1471User 1472User 1473User 1474User 1475User 1476User 1477User 1478User 1479User 1480User 1481User 1482User 1483User 1484User 1485User 1486User 1487User 1488User 1489User 1490User 1491User 1492User 1493User 1494User 1495User 1496User 1497User 1498User 1499User 1500User 1501User 1502User 1503User 1504User 1505User 1506User 1507User 1508User 1509User 1510User 1511User 1512User 1513User 1514User 1515User 1516User 1517User 1518User 1519User 1520User 1521User 1522User 1523User 1524User 1525User 1526User 1527User 1528User 1529User 1530User 1531User 1532User 1533User 1534User 1535User 1536User 1537User 1538User 1539User 1540User 1541User 1542User 1543User 1544User 1545User 1546User 1547User 1548User 1549User 1550User 1551User 1552User 1553User 1554User 1555User 1556User 1557User 1558User 1559User 1560User 1561User 1562User 1563User 1564User 1565User 1566User 1567User 1568User 1569User 1570User 1571User 1572User 1573User 1574User 1575User 1576User 1577User 1578User 1579User 1580User 1581User 1582User 1583User 1584User 1585User 1586User 1587User 1588User 1589User 1590User 1591User 1592User 1593User 1594User 1595User 1596User 1597User 1598User 1599User 1600User 1601User 1602User 1603User 1604User 1605User 1606User 1607User 1608User 1609User 1610User 1611User 1612User 1613User 1614User 1615User 1616User 1617User 1618User 1619User 1620User 1621User 1622User 1623User 1624User 1625User 1626User 1627User 1628User 1629User 1630User 1631User 1632User 1633User 1634User 1635User 1636User 1637User 1638User 1639User 1640User 1641User 1642User 1643User 1644User 1645User 1646User 1647User 1648User 1649User 1650User 1651User 1652User 1653User 1654User 1655User 1656User 1657User 1658User 1659User 1660User 1661User 1662User 1663User 1664User 1665User 1666User 1667User 1668User 1669User 1670User 1671User 1672User 1673User 1674User 1675User 1676User 1677User 1678User 1679User 1680User 1681User 1682User 1683User 1684User 1685User 1686User 1687User 1688User 1689User 1690User 1691User 1692User 1693User 1694User 1695User 1696User 1697User 1698User 1699User 1700User 1701User 1702User 1703User 1704User 1705User 1706User 1707User 1708User 1709User 1710User 1711User 1712User 1713User 1714User 1715User 1716User 1717User 1718User 1719User 1720User 1721User 1722User 1723User 1724User 1725User 1726User 1727User 1728User 1729User 1730User 1731User 1732User 1733User 1734User 1735User 1736User 1737User 1738User 1739User 1740User 1741User 1742User 1743User 1744User 1745User 1746User 1747User 1748User 1749User 1750User 1751User 1752User 1753User 1754User 1755User 1756User 1757User 1758User 1759User 1760User 1761User 1762User 1763User 1764User 1765User 1766User 1767User 1768User 1769User 1770User 1771User 1772User 1773User 1774User 1775User 1776User 1777User 1778User 1779User 1780User 1781User 1782User 1783User 1784User 1785User 1786User 1787User 1788User 1789User 1790User 1791User 1792User 1793User 1794User 1795User 1796User 1797User 1798User 1799User 1800User 1801User 1802User 1803User 1804User 1805User 1806User 1807User 1808User 1809User 1810User 1811User 1812User 1813User 1814User 1815User 1816User 1817User 1818User 1819User 1820User 1821User 1822User 1823User 1824User 1825User 1826User 1827User 1828User 1829User 1830User 1831User 1832User 1833User 1834User 1835User 1836User 1837User 1838User 1839User 1840User 1841User 1842User 1843User 1844User 1845User 1846User 1847User 1848User 1849User 1850User 1851User 1852User 1853User 1854User 1855User 1856User 1857User 1858User 1859User 1860User 1861User 1862User 1863User 1864User 1865User 1866User 1867User 1868User 1869User 1870User 1871User 1872User 1873User 1874User 1875User 1876User 1877User 1878User 1879User 1880User 1881User 1882User 1883User 1884User 1885User 1886User 1887User 1888User 1889User 1890User 1891User 1892User 1893User 1894User 1895User 1896User 1897User 1898User 1899User 1900User 1901User 1902User 1903User 1904User 1905User 1906User 1907User 1908User 1909User 1910User 1911User 1912User 1913User 1914User 1915User 1916User 1917User 1918User 1919User 1920User 1921User 1922User 1923User 1924User 1925User 1926User 1927User 1928User 1929User 1930User 1931User 1932User 1933User 1934User 1935User 1936User 1937User 1938User 1939User 1940User 1941User 1942User 1943User 1944User 1945User 1946User 1947User 1948User 1949User 1950User 1951User 1952User 1953User 1954User 1955User 1956User 1957User 1958User 1959User 1960User 1961User 1962User 1963User 1964User 1965User 1966User 1967User 1968User 1969User 1970User 1971User 1972User 1973User 1974User 1975User 1976User 1977User 1978User 1979User 1980User 1981User 1982User 1983User 1984User 1985User 1986User 1987User 1988User 1989User 1990User 1991User 1992User 1993User 1994User 1995User 1996User 1997User 1998User 1999User 2000User 2001User 2002User 2003User 2004User 2005User 2006User 2007User 2008User 2009User 2010User 2011User 2012User 2013User 2014User 2015User 2016User 2017User 2018User 2019User 2020User 2021User 2022User 2023User 2024User 2025User 2026User 2027User 2028User 2029User 2030User 2031User 2032User 2033User 2034User 2035User 2036User 2037User 2038User 2039User 2040User 2041User 2042User 2043User 2044User 2045User 2046User 2047User 2048User 2049User 2050User 2051User 2052User 2053User 2054User 2055User 2056User 2057User 2058User 2059User 2060User 2061User 2062User 2063User 2064User 2065User 2066User 2067User 2068User 2069User 2070User 2071User 2072User 2073User 2074User 2075User 2076User 2077User 2078User 2079User 2080User 2081User 2082User 2083User 2084User 2085User 2086User 2087User 2088User 2089User 2090User 2091User 2092User 2093User 2094User 2095User 2096User 2097User 2098User 2099User 2100User 2101User 2102User 2103User 2104User 2105User 2106User 2107User 2108User 2109User 2110User 2111User 2112User 2113User 2114User 2115User 2116User 2117User 2118User 2119User 2120User 2121User 2122User 2123User 2124User 2125User 2126User 2127User 2128User 2129User 2130User 2131User 2132User 2133User 2134User 2135User 2136User 2137User 2138User 2139User 2140User 2141User 2142User 2143User 2144User 2145User 2146User 2147User 2148User 2149User 2150User 2151User 2152User 2153User 2154User 2155User 2156User 2157User 2158User 2159User 2160User 2161User 2162User 2163User 2164User 2165User 2166User 2167User 2168User 2169User 2170User 2171User 2172User 2173User 2174User 2175User 2176User 2177User 2178User 2179User 2180User 2181User 2182User 2183User 2184User 2185User 2186User 2187User 2188User 2189User 2190User 2191User 2192User 2193User 2194User 2195User 2196User 2197User 2198User 2199User 2200User 2201User 2202User 2203User 2204User 2205User 2206User 2207User 2208User 2209User 2210User 2211User 2212User 2213User 2214User 2215User 2216User 2217User 2218User 2219User 2220User 2221User 2222User 2223User 2224User 2225User 2226User 2227User 2228User 2229User 2230User 2231User 2232User 2233User 2234User 2235User 2236User 2237User 2238User 2239User 2240User 2241User 2242User 2243User 2244User 2245User 2246User 2247User 2248User 2249User 2250User 2251User 2252User 2253User 2254User 2255User 2256User 2257User 2258User 2259User 2260User 2261User 2262User 2263User 2264User 2265User 2266User 2267User 2268User 2269User 2270User 2271User 2272User 2273User 2274User 2275User 2276User 2277User 2278User 2279User 2280User 2281User 2282User 2283User 2284User 2285User 2286User 2287User 2288User 2289User 2290User 2291User 2292User 2293User 2294User 2295User 2296User 2297User 2298User 2299User 2300User 2301User 2302User 2303User 2304User 2305User 2306User 2307User 2308User 2309User 2310User 2311User 2312User 2313User 2314User 2315User 2316User 2317User 2318User 2319User 2320User 2321User 2322User 2323User 2324User 2325User 2326User 2327User 2328User 2329User 2330User 2331User 2332User 2333User 2334User 2335User 2336User 2337User 2338User 2339User 2340User 2341User 2342User 2343User 2344User 2345User 2346User 2347User 2348User 2349User 2350User 2351User 2352User 2353User 2354User 2355User 2356User 2357User 2358User 2359User 2360User 2361User 2362User 2363User 2364User 2365User 2366User 2367User 2368User 2369User 2370User 2371User 2372User 2373User 2374User 2375User 2376User 2377User 2378User 2379User 2380User 2381User 2382User 2383User 2384User 2385User 2386User 2387User 2388User 2389User 2390User 2391User 2392User 2393User 2394User 2395User 2396User 2397User 2398User 2399User 2400User 2401User 2402User 2403User 2404User 2405User 2406User 2407User 2408User 2409User 2410User 2411User 2412User 2413User 2414User 2415User 2416User 2417User 2418User 2419User 2420User 2421User 2422User 2423User 2424User 2425User 2426User 2427User 2428User 2429User 2430User 2431User 2432User 2433User 2434User 2435User 2436User 2437User 2438User 2439User 2440User 2441User 2442User 2443User 2444User 2445User 2446User 2447User 2448User 2449User 2450User 2451User 2452User 2453User 2454User 2455User 2456User 2457User 2458User 2459User 2460User 2461User 2462User 2463User 2464User 2465User 2466User 2467User 2468User 2469User 2470User 2471User 2472User 2473User 2474User 2475User 2476User 2477User 2478User 2479User 2480User 2481User 2482User 2483User 2484User 2485User 2486User 2487User 2488User 2489User 2490User 2491User 2492User 2493User 2494User 2495User 2496User 2497User 2498User 2499User 2500User 2501User 2502User 2503User 2504User 2505User 2506User 2507User 2508User 2509User 2510User 2511User 2512User 2513User 2514User 2515User 2516User 2517User 2518User 2519User 2520User 2521User 2522User 2523User 2524User 2525User 2526User 2527User 2528User 2529User 2530User 2531User 2532User 2533User 2534User 2535User 2536User 2537User 2538User 2539User 2540User 2541User 2542User 2543User 2544User 2545User 2546User 2547User 2548User 2549User 2550User 2551User 2552User 2553User 2554User 2555User 2556User 2557User 2558User 2559User 2560User 2561User 2562User 2563User 2564User 2565User 2566User 2567User 2568User 2569User 2570User 2571User 2572User 2573User 2574User 2575User 2576User 2577User 2578User 2579User 2580User 2581User 2582User 2583User 2584User 2585User 2586User 2587User 2588User 2589User 2590User 2591User 2592User 2593User 2594User 2595User 2596User 2597User 2598User 2599User 2600User 2601User 2602User 2603User 2604User 2605User 2606User 2607User 2608User 2609User 2610User 2611User 2612User 2613User 2614User 2615User 2616User 2617User 2618User 2619User 2620User 2621User 2622User 2623User 2624User 2625User 2626User 2627User 2628User 2629User 2630User 2631User 2632User 2633User 2634User 2635User 2636User 2637User 2638User 2639User 2640User 2641User 2642User 2643User 2644User 2645User 2646User 2647User 2648User 2649User 2650User 2651User 2652User 2653User 2654User 2655User 2656User 2657User 2658User 2659User 2660User 2661User 2662User 2663User 2664User 2665User 2666User 2667User 2668User 2669User 2670User 2671User 2672User 2673User 2674User 2675User 2676User 2677User 2678User 2679User 2680User 2681User 2682User 2683User 2684User 2685User 2686User 2687User 2688User 2689User 2690User 2691User 2692User 2693User 2694User 2695User 2696User 2697User 2698User 2699User 2700User 2701User 2702User 2703User 2704User 2705User 2706User 2707User 2708User 2709User 2710User 2711User 2712User 2713User 2714User 2715User 2716User 2717User 2718User 2719User 2720User 2721User 2722User 2723User 2724User 2725User 2726User 2727User 2728User 2729User 2730User 2731User 2732User 2733User 2734User 2735User 2736User 2737User 2738User 2739User 2740User 2741User 2742User 2743User 2744User 2745User 2746User 2747User 2748User 2749User 2750User 2751User 2752User 2753User 2754User 2755User 2756User 2757User 2758User 2759User 2760User 2761User 2762User 2763User 2764User 2765User 2766User 2767User 2768User 2769User 2770User 2771User 2772User 2773User 2774User 2775User 2776User 2777User 2778User 2779User 2780User 2781User 2782User 2783User 2784User 2785User 2786User 2787User 2788User 2789User 2790User 2791User 2792User 2793User 2794User 2795User 2796User 2797User 2798User 2799User 2800User 2801User 2802User 2803User 2804User 2805User 2806User 2807User 2808User 2809User 2810User 2811User 2812User 2813User 2814User 2815User 2816User 2817User 2818User 2819User 2820User 2821User 2822User 2823User 2824User 2825User 2826User 2827User 2828User 2829User 2830User 2831User 2832User 2833User 2834User 2835User 2836User 2837User 2838User 2839User 2840User 2841User 2842User 2843User 2844User 2845User 2846User 2847User 2848User 2849User 2850User 2851User 2852User 2853User 2854User 2855User 2856User 2857User 2858User 2859User 2860User 2861User 2862User 2863User 2864User 2865User 2866User 2867User 2868User 2869User 2870User 2871User 2872User 2873User 2874User 2875User 2876User 2877User 2878User 2879User 2880User 2881User 2882User 2883User 2884User 2885User 2886User 2887User 2888User 2889User 2890User 2891User 2892User 2893User 2894User 2895User 2896User 2897User 2898User 2899User 2900User 2901User 2902User 2903User 2904User 2905User 2906User 2907User 2908User 2909User 2910User 2911User 2912User 2913User 2914User 2915User 2916User 2917User 2918User 2919User 2920User 2921User 2922User 2923User 2924User 2925User 2926User 2927User 2928User 2929User 2930User 2931User 2932User 2933User 2934User 2935User 2936User 2937User 2938User 2939User 2940User 2941User 2942User 2943User 2944User 2945User 2946User 2947User 2948User 2949User 2950User 2951User 2952User 2953User 2954User 2955User 2956User 2957User 2958User 2959User 2960User 2961User 2962User 2963User 2964User 2965User 2966User 2967User 2968User 2969User 2970User 2971User 2972User 2973User 2974User 2975User 2976User 2977User 2978User 2979User 2980User 2981User 2982User 2983User 2984User 2985User 2986User 2987User 2988User 2989User 2990User 2991User 2992User 2993User 2994User 2995User 2996User 2997User 2998User 2999User 3000User 3001User 3002User 3003User 3004User 3005User 3006User 3007User 3008User 3009User 3010User 3011User 3012User 3013User 3014User 3015User 3016User 3017User 3018User 3019User 3020User 3021User 3022User 3023User 3024User 3025User 3026User 3027User 3028User 3029User 3030User 3031User 3032User 3033User 3034User 3035User 3036User 3037User 3038User 3039User 3040User 3041User 3042User 3043User 3044User 3045User 3046User 3047User 3048User 3049User 3050User 3051User 3052User 3053User 3054User 3055User 3056User 3057User 3058User 3059User 3060User 3061User 3062User 3063User 3064User 3065User 3066User 3067User 3068User 3069User 3070User 3071User 3072User 3073User 3074User 3075User 3076User 3077User 3078User 3079User 3080User 3081User 3082User 3083User 3084User 3085User 3086User 3087User 3088User 3089User 3090User 3091User 3092User 3093User 3094User 3095User 3096User 3097User 3098User 3099User 3100User 3101User 3102User 3103User 3104User 3105User 3106User 3107User 3108User 3109User 3110User 3111User 3112User 3113User 3114User 3115User 3116User 3117User 3118User 3119User 3120User 3121User 3122User 3123User 3124User 3125User 3126User 3127User 3128User 3129User 3130User 3131User 3132User 3133User 3134User 3135User 3136User 3137User 3138User 3139User 3140User 3141User 3142User 3143User 3144User 3145User 3146User 3147User 3148User 3149User 3150User 3151User 3152User 3153User 3154User 3155User 3156User 3157User 3158User 3159User 3160User 3161User 3162User 3163User 3164User 3165User 3166User 3167User 3168User 3169User 3170User 3171User 3172User 3173User 3174User 3175User 3176User 3177User 3178User 3179User 3180User 3181User 3182User 3183User 3184User 3185User 3186User 3187User 3188User 3189User 3190User 3191User 3192User 3193User 3194User 3195User 3196User 3197User 3198User 3199User 3200User 3201User 3202User 3203User 3204User 3205User 3206User 3207User 3208User 3209User 3210User 3211User 3212User 3213User 3214User 3215User 3216User 3217User 3218User 3219User 3220User 3221User 3222User 3223User 3224User 3225User 3226User 3227User 3228User 3229User 3230User 3231User 3232User 3233User 3234User 3235User 3236User 3237User 3238User 3239User 3240User 3241User 3242User 3243User 3244User 3245User 3246User 3247User 3248User 3249User 3250User 3251User 3252User 3253User 3254User 3255User 3256User 3257User 3258User 3259User 3260User 3261User 3262User 3263User 3264User 3265User 3266User 3267User 3268User 3269User 3270User 3271User 3272User 3273User 3274User 3275User 3276User 3277User 3278User 3279User 3280User 3281User 3282User 3283User 3284User 3285User 3286User 3287User 3288User 3289User 3290User 3291User 3292User 3293User 3294User 3295User 3296User 3297User 3298User 3299User 3300User 3301User 3302User 3303User 3304User 3305User 3306User 3307User 3308User 3309User 3310User 3311User 3312User 3313User 3314User 3315User 3316User 3317User 3318User 3319User 3320User 3321User 3322User 3323User 3324User 3325User 3326User 3327User 3328User 3329User 3330User 3331User 3332User 3333User 3334User 3335User 3336User 3337User 3338User 3339User 3340User 3341User 3342User 3343User 3344User 3345User 3346User 3347User 3348User 3349User 3350User 3351User 3352User 3353User 3354User 3355User 3356User 3357User 3358User 3359User 3360User 3361User 3362User 3363User 3364User 3365User 3366User 3367User 3368User 3369User 3370User 3371User 3372User 3373User 3374User 3375User 3376User 3377User 3378User 3379User 3380User 3381User 3382User 3383User 3384User 3385User 3386User 3387User 3388User 3389User 3390User 3391User 3392User 3393User 3394User 3395User 3396User 3397User 3398User 3399User 3400User 3401User 3402User 3403User 3404User 3405User 3406User 3407User 3408User 3409User 3410User 3411User 3412User 3413User 3414User 3415User 3416User 3417User 3418User 3419User 3420User 3421User 3422User 3423User 3424User 3425User 3426User 3427User 3428User 3429User 3430User 3431User 3432User 3433User 3434User 3435User 3436User 3437User 3438User 3439User 3440User 3441User 3442User 3443User 3444User 3445User 3446User 3447User 3448User 3449User 3450User 3451User 3452User 3453User 3454User 3455User 3456User 3457User 3458User 3459User 3460User 3461User 3462User 3463User 3464User 3465User 3466User 3467User 3468User 3469User 3470User 3471User 3472User 3473User 3474User 3475User 3476User 3477User 3478User 3479User 3480User 3481User 3482User 3483User 3484User 3485User 3486User 3487User 3488User 3489User 3490User 3491User 3492User 3493User 3494User 3495User 3496User 3497User 3498User 3499User 3500User 3501User 3502User 3503User 3504User 3505User 3506User 3507User 3508User 3509User 3510User 3511User 3512User 3513User 3514User 3515User 3516User 3517User 3518User 3519User 3520User 3521User 3522User 3523User 3524User 3525User 3526User 3527User 3528User 3529User 3530User 3531User 3532User 3533User 3534User 3535User 3536User 3537User 3538User 3539User 3540User 3541User 3542User 3543User 3544User 3545User 3546User 3547User 3548User 3549User 3550User 3551User 3552User 3553User 3554User 3555User 3556User 3557User 3558User 3559User 3560User 3561User 3562User 3563User 3564User 3565User 3566User 3567User 3568User 3569User 3570User 3571User 3572User 3573User 3574User 3575User 3576User 3577User 3578User 3579User 3580User 3581User 3582User 3583User 3584User 3585User 3586User 3587User 3588User 3589User 3590User 3591User 3592User 3593User 3594User 3595User 3596User 3597User 3598User 3599User 3600User 3601User 3602User 3603User 3604User 3605User 3606User 3607User 3608User 3609User 3610User 3611User 3612User 3613User 3614User 3615User 3616User 3617User 3618User 3619User 3620User 3621User 3622User 3623User 3624User 3625User 3626User 3627User 3628User 3629User 3630User 3631User 3632User 3633User 3634User 3635User 3636User 3637User 3638User 3639User 3640User 3641User 3642User 3643User 3644User 3645User 3646User 3647User 3648User 3649User 3650User 3651User 3652User 3653User 3654User 3655User 3656User 3657User 3658User 3659User 3660User 3661User 3662User 3663User 3664User 3665User 3666User 3667User 3668User 3669User 3670User 3671User 3672User 3673User 3674User 3675User 3676User 3677User 3678User 3679User 3680User 3681User 3682User 3683User 3684User 3685User 3686User 3687User 3688User 3689User 3690User 3691User 3692User 3693User 3694User 3695User 3696User 3697User 3698User 3699User 3700User 3701User 3702User 3703User 3704User 3705User 3706User 3707User 3708User 3709User 3710User 3711User 3712User 3713User 3714User 3715User 3716User 3717User 3718User 3719User 3720User 3721User 3722User 3723User 3724User 3725User 3726User 3727User 3728User 3729User 3730User 3731User 3732User 3733User 3734User 3735User 3736User 3737User 3738User 3739User 3740User 3741User 3742User 3743User 3744User 3745User 3746User 3747User 3748User 3749User 3750User 3751User 3752User 3753User 3754User 3755User 3756User 3757User 3758User 3759User 3760User 3761User 3762User 3763User 3764User 3765User 3766User 3767User 3768User 3769User 3770User 3771User 3772User 3773User 3774User 3775User 3776User 3777User 3778User 3779User 3780User 3781User 3782User 3783User 3784User 3785User 3786User 3787User 3788User 3789User 3790User 3791User 3792User 3793User 3794User 3795User 3796User 3797User 3798User 3799User 3800User 3801User 3802User 3803User 3804User 3805User 3806User 3807User 3808User 3809User 3810User 3811User 3812User 3813User 3814User 3815User 3816User 3817User 3818User 3819User 3820User 3821User 3822User 3823User 3824User 3825User 3826User 3827User 3828User 3829User 3830User 3831User 3832User 3833User 3834User 3835User 3836User 3837User 3838User 3839User 3840User 3841User 3842User 3843User 3844User 3845User 3846User 3847User 3848User 3849User 3850User 3851User 3852User 3853User 3854User 3855User 3856User 3857User 3858User 3859User 3860User 3861User 3862User 3863User 3864User 3865User 3866User 3867User 3868User 3869User 3870User 3871User 3872User 3873User 3874User 3875User 3876User 3877User 3878User 3879User 3880User 3881User 3882User 3883User 3884User 3885User 3886User 3887User 3888User 3889User 3890User 3891User 3892User 3893User 3894User 3895User 3896User 3897User 3898User 3899User 3900User 3901User 3902User 3903User 3904User 3905User 3906User 3907User 3908User 3909User 3910User 3911User 3912User 3913User 3914User 3915User 3916User 3917User 3918User 3919User 3920User 3921User 3922User 3923User 3924User 3925User 3926User 3927User 3928User 3929User 3930User 3931User 3932User 3933User 3934User 3935User 3936User 3937User 3938User 3939User 3940User 3941User 3942User 3943User 3944User 3945User 3946User 3947User 3948User 3949User 3950User 3951User 3952User 3953User 3954User 3955User 3956User 3957User 3958User 3959User 3960User 3961User 3962User 3963User 3964User 3965User 3966User 3967User 3968User 3969User 3970User 3971User 3972User 3973User 3974User 3975User 3976User 3977User 3978User 3979User 3980User 3981User 3982User 3983User 3984User 3985User 3986User 3987User 3988User 3989User 3990User 3991User 3992User 3993User 3994User 3995User 3996User 3997User 3998User 3999User 4000User 4001User 4002User 4003User 4004User 4005User 4006User 4007User 4008User 4009User 4010User 4011User 4012User 4013User 4014User 4015User 4016User 4017User 4018User 4019User 4020User 4021User 4022User 4023User 4024User 4025User 4026User 4027User 4028User 4029User 4030User 4031User 4032User 4033User 4034User 4035User 4036User 4037User 4038User 4039User 4040User 4041User 4042User 4043User 4044User 4045User 4046User 4047User 4048User 4049User 4050User 4051User 4052User 4053User 4054User 4055User 4056User 4057User 4058User 4059User 4060User 4061User 4062User 4063User 4064User 4065User 4066User 4067User 4068User 4069User 4070User 4071User 4072User 4073User 4074User 4075User 4076User 4077User 4078User 4079User 4080User 4081User 4082User 4083User 4084User 4085User 4086User 4087User 4088User 4089User 4090User 4091User 4092User 4093User 4094User 4095User 4096User 4097User 4098User 4099User 4100User 4101User 4102User 4103User 4104User 4105User 4106User 4107User 4108User 4109User 4110User 4111User 4112User 4113User 4114User 4115User 4116User 4117User 4118User 4119User 4120User 4121User 4122User 4123User 4124User 4125User 4126User 4127User 4128User 4129User 4130User 4131User 4132User 4133User 4134User 4135User 4136User 4137User 4138User 4139User 4140User 4141User 4142User 4143User 4144User 4145User 4146User 4147User 4148User 4149User 4150User 4151User 4152User 4153User 4154User 4155User 4156User 4157User 4158User 4159User 4160User 4161User 4162User 4163User 4164User 4165User 4166User 4167User 4168User 4169User 4170User 4171User 4172User 4173User 4174User 4175User 4176User 4177User 4178User 4179User 4180User 4181User 4182User 4183User 4184User 4185User 4186User 4187User 4188User 4189User 4190User 4191User 4192User 4193User 4194User 4195User 4196User 4197User 4198User 4199User 4200User 4201User 4202User 4203User 4204User 4205User 4206User 4207User 4208User 4209User 4210User 4211User 4212User 4213User 4214User 4215User 4216User 4217User 4218User 4219User 4220User 4221User 4222User 4223User 4224User 4225User 4226User 4227User 4228User 4229User 4230User 4231User 4232User 4233User 4234User 4235User 4236User 4237User 4238User 4239User 4240User 4241User 4242User 4243User 4244User 4245User 4246User 4247User 4248User 4249User 4250User 4251User 4252User 4253User 4254User 4255User 4256User 4257User 4258User 4259User 4260User 4261User 4262User 4263User 4264User 4265User 4266User 4267User 4268User 4269User 4270User 4271User 4272User 4273User 4274User 4275User 4276User 4277User 4278User 4279User 4280User 4281User 4282User 4283User 4284User 4285User 4286User 4287User 4288User 4289User 4290User 4291User 4292User 4293User 4294User 4295User 4296User 4297User 4298User 4299User 4300User 4301User 4302User 4303User 4304User 4305User 4306User 4307User 4308User 4309User 4310User 4311User 4312User 4313User 4314User 4315User 4316User 4317User 4318User 4319User 4320User 4321User 4322User 4323User 4324User 4325User 4326User 4327User 4328User 4329User 4330User 4331User 4332User 4333User 4334User 4335User 4336User 4337User 4338User 4339User 4340User 4341User 4342User 4343User 4344User 4345User 4346User 4347User 4348User 4349User 4350User 4351User 4352User 4353User 4354User 4355User 4356User 4357User 4358User 4359User 4360User 4361User 4362User 4363User 4364User 4365User 4366User 4367User 4368User 4369User 4370User 4371User 4372User 4373User 4374User 4375User 4376User 4377User 4378User 4379User 4380User 4381User 4382User 4383User 4384User 4385User 4386User 4387User 4388User 4389User 4390User 4391User 4392User 4393User 4394User 4395User 4396User 4397User 4398User 4399User 4400User 4401User 4402User 4403User 4404User 4405User 4406User 4407User 4408User 4409User 4410User 4411User 4412User 4413User 4414User 4415User 4416User 4417User 4418User 4419User 4420User 4421User 4422User 4423User 4424User 4425User 4426User 4427User 4428User 4429User 4430User 4431User 4432User 4433User 4434User 4435User 4436User 4437User 4438User 4439User 4440User 4441User 4442User 4443User 4444User 4445User 4446User 4447User 4448User 4449User 4450User 4451User 4452User 4453User 4454User 4455User 4456User 4457User 4458User 4459User 4460User 4461User 4462User 4463User 4464User 4465User 4466User 4467User 4468User 4469User 4470User 4471User 4472User 4473User 4474User 4475User 4476User 4477User 4478User 4479User 4480User 4481User 4482User 4483User 4484User 4485User 4486User 4487User 4488User 4489User 4490User 4491User 4492User 4493User 4494User 4495User 4496User 4497User 4498User 4499User 4500User 4501User 4502User 4503User 4504User 4505User 4506User 4507User 4508User 4509User 4510User 4511User 4512User 4513User 4514User 4515User 4516User 4517User 4518User 4519User 4520User 4521User 4522User 4523User 4524User 4525User 4526User 4527User 4528User 4529User 4530User 4531User 4532User 4533User 4534User 4535User 4536User 4537User 4538User 4539User 4540User 4541User 4542User 4543User 4544User 4545User 4546User 4547User 4548User 4549User 4550User 4551User 4552User 4553User 4554User 4555User 4556User 4557User 4558User 4559User 4560User 4561User 4562User 4563User 4564User 4565User 4566User 4567User 4568User 4569User 4570User 4571User 4572User 4573User 4574User 4575User 4576User 4577User 4578User 4579User 4580User 4581User 4582User 4583User 4584User 4585User 4586User 4587User 4588User 4589User 4590User 4591User 4592User 4593User 4594User 4595User 4596User 4597User 4598User 4599User 4600User 4601User 4602User 4603User 4604User 4605User 4606User 4607User 4608User 4609User 4610User 4611User 4612User 4613User 4614User 4615User 4616User 4617User 4618User 4619User 4620User 4621User 4622User 4623User 4624User 4625User 4626User 4627User 4628User 4629User 4630User 4631User 4632User 4633User 4634User 4635User 4636User 4637User 4638User 4639User 4640User 4641User 4642User 4643User 4644User 4645User 4646User 4647User 4648User 4649User 4650User 4651User 4652User 4653User 4654User 4655User 4656User 4657User 4658User 4659User 4660User 4661User 4662User 4663User 4664User 4665User 4666User 4667User 4668User 4669User 4670User 4671User 4672User 4673User 4674User 4675User 4676User 4677User 4678User 4679User 4680User 4681User 4682User 4683User 4684User 4685User 4686User 4687User 4688User 4689User 4690User 4691User 4692User 4693User 4694User 4695User 4696User 4697User 4698User 4699User 4700User 4701User 4702User 4703User 4704User 4705User 4706User 4707User 4708User 4709User 4710User 4711User 4712User 4713User 4714User 4715User 4716User 4717User 4718User 4719User 4720User 4721User 4722User 4723User 4724User 4725User 4726User 4727User 4728User 4729User 4730User 4731User 4732User 4733User 4734User 4735User 4736User 4737User 4738User 4739User 4740User 4741User 4742User 4743User 4744User 4745User 4746User 4747User 4748User 4749User 4750User 4751User 4752User 4753User 4754User 4755User 4756User 4757User 4758User 4759User 4760User 4761User 4762User 4763User 4764User 4765User 4766User 4767User 4768User 4769User 4770User 4771User 4772User 4773User 4774User 4775User 4776User 4777User 4778User 4779User 4780User 4781User 4782User 4783User 4784User 4785User 4786User 4787User 4788User 4789User 4790User 4791User 4792User 4793User 4794User 4795User 4796User 4797User 4798User 4799User 4800User 4801User 4802User 4803User 4804User 4805User 4806User 4807User 4808User 4809User 4810User 4811User 4812User 4813User 4814User 4815User 4816User 4817User 4818User 4819User 4820User 4821User 4822User 4823User 4824User 4825User 4826User 4827User 4828User 4829User 4830User 4831User 4832User 4833User 4834User 4835User 4836User 4837User 4838User 4839User 4840User 4841User 4842User 4843User 4844User 4845User 4846User 4847User 4848User 4849User 4850User 4851User 4852User 4853User 4854User 4855User 4856User 4857User 4858User 4859User 4860User 4861User 4862User 4863User 4864User 4865User 4866User 4867User 4868User 4869User 4870User 4871User 4872User 4873User 4874User 4875User 4876User 4877User 4878User 4879User 4880User 4881User 4882User 4883User 4884User 4885User 4886User 4887User 4888User 4889User 4890User 4891User 4892User 4893User 4894User 4895User 4896User 4897User 4898User 4899User 4900User 4901User 4902User 4903User 4904User 4905User 4906User 4907User 4908User 4909User 4910User 4911User 4912User 4913User 4914User 4915User 4916User 4917User 4918User 4919User 4920User 4921User 4922User 4923User 4924User 4925User 4926User 4927User 4928User 4929User 4930User 4931User 4932User 4933User 4934User 4935User 4936User 4937User 4938User 4939User 4940User 4941User 4942User 4943User 4944User 4945User 4946User 4947User 4948User 4949User 4950User 4951User 4952User 4953User 4954User 4955User 4956User 4957User 4958User 4959User 4960User 4961User 4962User 4963User 4964User 4965User 4966User 4967User 4968User 4969User 4970User 4971User 4972User 4973User 4974User 4975User 4976User 4977User 4978User 4979User 4980User 4981User 4982User 4983User 4984User 4985User 4986User 4987User 4988User 4989User 4990User 4991User 4992User 4993User 4994User 4995User 4996User 4997User 4998User 4999User 5000User 5001User 5002User 5003User 5004User 5005User 5006User 5007User 5008User 5009User 5010User 5011User 5012User 5013User 5014User 5015User 5016User 5017User 5018User 5019User 5020User 5021User 5022User 5023User 5024User 5025User 5026User 5027User 5028User 5029User 5030User 5031User 5032User 5033User 5034User 5035User 5036User 5037User 5038User 5039User 5040User 5041User 5042User 5043User 5044User 5045User 5046User 5047User 5048User 5049User 5050User 5051User 5052User 5053User 5054User 5055User 5056User 5057User 5058User 5059User 5060User 5061User 5062User 5063User 5064User 5065User 5066User 5067User 5068User 5069User 5070User 5071User 5072User 5073User 5074User 5075User 5076User 5077User 5078User 5079User 5080User 5081User 5082User 5083User 5084User 5085User 5086User 5087User 5088User 5089User 5090User 5091User 5092User 5093User 5094User 5095User 5096User 5097User 5098User 5099User 5100User 5101User 5102User 5103User 5104User 5105User 5106User 5107User 5108User 5109User 5110User 5111User 5112User 5113User 5114User 5115User 5116User 5117User 5118User 5119User 5120User 5121User 5122User 5123User 5124User 5125User 5126User 5127User 5128User 5129User 5130User 5131User 5132User 5133User 5134User 5135User 5136User 5137User 5138User 5139User 5140User 5141User 5142User 5143User 5144User 5145User 5146User 5147User 5148User 5149User 5150User 5151User 5152User 5153User 5154User 5155User 5156User 5157User 5158User 5159User 5160User 5161User 5162User 5163User 5164User 5165User 5166User 5167User 5168User 5169User 5170User 5171User 5172User 5173User 5174User 5175User 5176User 5177User 5178User 5179User 5180User 5181User 5182User 5183User 5184User 5185User 5186User 5187User 5188User 5189User 5190User 5191User 5192User 5193User 5194User 5195User 5196User 5197User 5198User 5199User 5200User 5201User 5202User 5203User 5204User 5205User 5206User 5207User 5208User 5209User 5210User 5211User 5212User 5213User 5214User 5215User 5216User 5217User 5218User 5219User 5220User 5221User 5222User 5223User 5224User 5225User 5226User 5227User 5228User 5229User 5230User 5231User 5232User 5233User 5234User 5235User 5236User 5237User 5238User 5239User 5240User 5241User 5242User 5243User 5244User 5245User 5246User 5247User 5248User 5249User 5250User 5251User 5252User 5253User 5254User 5255User 5256User 5257User 5258User 5259User 5260User 5261User 5262User 5263User 5264User 5265User 5266User 5267User 5268User 5269User 5270User 5271User 5272User 5273User 5274User 5275User 5276User 5277User 5278User 5279User 5280User 5281User 5282User 5283User 5284User 5285User 5286User 5287User 5288User 5289User 5290User 5291User 5292User 5293User 5294User 5295User 5296User 5297User 5298User 5299User 5300User 5301User 5302User 5303User 5304User 5305User 5306User 5307User 5308User 5309User 5310User 5311User 5312User 5313User 5314User 5315User 5316User 5317User 5318User 5319User 5320User 5321User 5322User 5323User 5324User 5325User 5326User 5327User 5328User 5329User 5330User 5331User 5332User 5333User 5334User 5335User 5336User 5337User 5338User 5339User 5340User 5341User 5342User 5343User 5344User 5345User 5346User 5347User 5348User 5349User 5350User 5351User 5352User 5353User 5354User 5355User 5356User 5357User 5358User 5359User 5360User 5361User 5362User 5363User 5364User 5365User 5366User 5367User 5368User 5369User 5370User 5371User 5372User 5373User 5374User 5375User 5376User 5377User 5378User 5379User 5380User 5381User 5382User 5383User 5384User 5385User 5386User 5387User 5388User 5389User 5390User 5391User 5392User 5393User 5394User 5395User 5396User 5397User 5398User 5399User 5400User 5401User 5402User 5403User 5404User 5405User 5406User 5407User 5408User 5409User 5410User 5411User 5412User 5413User 5414User 5415User 5416User 5417User 5418User 5419User 5420User 5421User 5422User 5423User 5424User 5425User 5426User 5427User 5428User 5429User 5430User 5431User 5432User 5433User 5434User 5435User 5436User 5437User 5438User 5439User 5440User 5441User 5442User 5443User 5444User 5445User 5446User 5447User 5448User 5449User 5450User 5451User 5452User 5453User 5454User 5455User 5456'] to numeric",
     "output_type": "error",
     "traceback": [
      "\u001B[0;31m---------------------------------------------------------------------------\u001B[0m",
      "\u001B[0;31mValueError\u001B[0m                                Traceback (most recent call last)",
      "File \u001B[0;32m/opt/homebrew/Caskroom/miniconda/base/envs/datascience/lib/python3.8/site-packages/pandas/core/nanops.py:1680\u001B[0m, in \u001B[0;36m_ensure_numeric\u001B[0;34m(x)\u001B[0m\n\u001B[1;32m   1679\u001B[0m \u001B[38;5;28;01mtry\u001B[39;00m:\n\u001B[0;32m-> 1680\u001B[0m     x \u001B[38;5;241m=\u001B[39m \u001B[43mx\u001B[49m\u001B[38;5;241;43m.\u001B[39;49m\u001B[43mastype\u001B[49m\u001B[43m(\u001B[49m\u001B[43mnp\u001B[49m\u001B[38;5;241;43m.\u001B[39;49m\u001B[43mcomplex128\u001B[49m\u001B[43m)\u001B[49m\n\u001B[1;32m   1681\u001B[0m \u001B[38;5;28;01mexcept\u001B[39;00m (\u001B[38;5;167;01mTypeError\u001B[39;00m, \u001B[38;5;167;01mValueError\u001B[39;00m):\n",
      "\u001B[0;31mValueError\u001B[0m: complex() arg is a malformed string",
      "\nDuring handling of the above exception, another exception occurred:\n",
      "\u001B[0;31mValueError\u001B[0m                                Traceback (most recent call last)",
      "File \u001B[0;32m/opt/homebrew/Caskroom/miniconda/base/envs/datascience/lib/python3.8/site-packages/pandas/core/nanops.py:1683\u001B[0m, in \u001B[0;36m_ensure_numeric\u001B[0;34m(x)\u001B[0m\n\u001B[1;32m   1682\u001B[0m \u001B[38;5;28;01mtry\u001B[39;00m:\n\u001B[0;32m-> 1683\u001B[0m     x \u001B[38;5;241m=\u001B[39m \u001B[43mx\u001B[49m\u001B[38;5;241;43m.\u001B[39;49m\u001B[43mastype\u001B[49m\u001B[43m(\u001B[49m\u001B[43mnp\u001B[49m\u001B[38;5;241;43m.\u001B[39;49m\u001B[43mfloat64\u001B[49m\u001B[43m)\u001B[49m\n\u001B[1;32m   1684\u001B[0m \u001B[38;5;28;01mexcept\u001B[39;00m \u001B[38;5;167;01mValueError\u001B[39;00m \u001B[38;5;28;01mas\u001B[39;00m err:\n\u001B[1;32m   1685\u001B[0m     \u001B[38;5;66;03m# GH#29941 we get here with object arrays containing strs\u001B[39;00m\n",
      "\u001B[0;31mValueError\u001B[0m: could not convert string to float: 'User 1User 2User 3User 4User 5User 6User 7User 8User 9User 10User 11User 12User 13User 14User 15User 16User 17User 18User 19User 20User 21User 22User 23User 24User 25User 26User 27User 28User 29User 30User 31User 32User 33User 34User 35User 36User 37User 38User 39User 40User 41User 42User 43User 44User 45User 46User 47User 48User 49User 50User 51User 52User 53User 54User 55User 56User 57User 58User 59User 60User 61User 62User 63User 64User 65User 66User 67User 68User 69User 70User 71User 72User 73User 74User 75User 76User 77User 78User 79User 80User 81User 82User 83User 84User 85User 86User 87User 88User 89User 90User 91User 92User 93User 94User 95User 96User 97User 98User 99User 100User 101User 102User 103User 104User 105User 106User 107User 108User 109User 110User 111User 112User 113User 114User 115User 116User 117User 118User 119User 120User 121User 122User 123User 124User 125User 126User 127User 128User 129User 130User 131User 132User 133User 134User 135User 136User 137User 138User 139User 140User 141User 142User 143User 144User 145User 146User 147User 148User 149User 150User 151User 152User 153User 154User 155User 156User 157User 158User 159User 160User 161User 162User 163User 164User 165User 166User 167User 168User 169User 170User 171User 172User 173User 174User 175User 176User 177User 178User 179User 180User 181User 182User 183User 184User 185User 186User 187User 188User 189User 190User 191User 192User 193User 194User 195User 196User 197User 198User 199User 200User 201User 202User 203User 204User 205User 206User 207User 208User 209User 210User 211User 212User 213User 214User 215User 216User 217User 218User 219User 220User 221User 222User 223User 224User 225User 226User 227User 228User 229User 230User 231User 232User 233User 234User 235User 236User 237User 238User 239User 240User 241User 242User 243User 244User 245User 246User 247User 248User 249User 250User 251User 252User 253User 254User 255User 256User 257User 258User 259User 260User 261User 262User 263User 264User 265User 266User 267User 268User 269User 270User 271User 272User 273User 274User 275User 276User 277User 278User 279User 280User 281User 282User 283User 284User 285User 286User 287User 288User 289User 290User 291User 292User 293User 294User 295User 296User 297User 298User 299User 300User 301User 302User 303User 304User 305User 306User 307User 308User 309User 310User 311User 312User 313User 314User 315User 316User 317User 318User 319User 320User 321User 322User 323User 324User 325User 326User 327User 328User 329User 330User 331User 332User 333User 334User 335User 336User 337User 338User 339User 340User 341User 342User 343User 344User 345User 346User 347User 348User 349User 350User 351User 352User 353User 354User 355User 356User 357User 358User 359User 360User 361User 362User 363User 364User 365User 366User 367User 368User 369User 370User 371User 372User 373User 374User 375User 376User 377User 378User 379User 380User 381User 382User 383User 384User 385User 386User 387User 388User 389User 390User 391User 392User 393User 394User 395User 396User 397User 398User 399User 400User 401User 402User 403User 404User 405User 406User 407User 408User 409User 410User 411User 412User 413User 414User 415User 416User 417User 418User 419User 420User 421User 422User 423User 424User 425User 426User 427User 428User 429User 430User 431User 432User 433User 434User 435User 436User 437User 438User 439User 440User 441User 442User 443User 444User 445User 446User 447User 448User 449User 450User 451User 452User 453User 454User 455User 456User 457User 458User 459User 460User 461User 462User 463User 464User 465User 466User 467User 468User 469User 470User 471User 472User 473User 474User 475User 476User 477User 478User 479User 480User 481User 482User 483User 484User 485User 486User 487User 488User 489User 490User 491User 492User 493User 494User 495User 496User 497User 498User 499User 500User 501User 502User 503User 504User 505User 506User 507User 508User 509User 510User 511User 512User 513User 514User 515User 516User 517User 518User 519User 520User 521User 522User 523User 524User 525User 526User 527User 528User 529User 530User 531User 532User 533User 534User 535User 536User 537User 538User 539User 540User 541User 542User 543User 544User 545User 546User 547User 548User 549User 550User 551User 552User 553User 554User 555User 556User 557User 558User 559User 560User 561User 562User 563User 564User 565User 566User 567User 568User 569User 570User 571User 572User 573User 574User 575User 576User 577User 578User 579User 580User 581User 582User 583User 584User 585User 586User 587User 588User 589User 590User 591User 592User 593User 594User 595User 596User 597User 598User 599User 600User 601User 602User 603User 604User 605User 606User 607User 608User 609User 610User 611User 612User 613User 614User 615User 616User 617User 618User 619User 620User 621User 622User 623User 624User 625User 626User 627User 628User 629User 630User 631User 632User 633User 634User 635User 636User 637User 638User 639User 640User 641User 642User 643User 644User 645User 646User 647User 648User 649User 650User 651User 652User 653User 654User 655User 656User 657User 658User 659User 660User 661User 662User 663User 664User 665User 666User 667User 668User 669User 670User 671User 672User 673User 674User 675User 676User 677User 678User 679User 680User 681User 682User 683User 684User 685User 686User 687User 688User 689User 690User 691User 692User 693User 694User 695User 696User 697User 698User 699User 700User 701User 702User 703User 704User 705User 706User 707User 708User 709User 710User 711User 712User 713User 714User 715User 716User 717User 718User 719User 720User 721User 722User 723User 724User 725User 726User 727User 728User 729User 730User 731User 732User 733User 734User 735User 736User 737User 738User 739User 740User 741User 742User 743User 744User 745User 746User 747User 748User 749User 750User 751User 752User 753User 754User 755User 756User 757User 758User 759User 760User 761User 762User 763User 764User 765User 766User 767User 768User 769User 770User 771User 772User 773User 774User 775User 776User 777User 778User 779User 780User 781User 782User 783User 784User 785User 786User 787User 788User 789User 790User 791User 792User 793User 794User 795User 796User 797User 798User 799User 800User 801User 802User 803User 804User 805User 806User 807User 808User 809User 810User 811User 812User 813User 814User 815User 816User 817User 818User 819User 820User 821User 822User 823User 824User 825User 826User 827User 828User 829User 830User 831User 832User 833User 834User 835User 836User 837User 838User 839User 840User 841User 842User 843User 844User 845User 846User 847User 848User 849User 850User 851User 852User 853User 854User 855User 856User 857User 858User 859User 860User 861User 862User 863User 864User 865User 866User 867User 868User 869User 870User 871User 872User 873User 874User 875User 876User 877User 878User 879User 880User 881User 882User 883User 884User 885User 886User 887User 888User 889User 890User 891User 892User 893User 894User 895User 896User 897User 898User 899User 900User 901User 902User 903User 904User 905User 906User 907User 908User 909User 910User 911User 912User 913User 914User 915User 916User 917User 918User 919User 920User 921User 922User 923User 924User 925User 926User 927User 928User 929User 930User 931User 932User 933User 934User 935User 936User 937User 938User 939User 940User 941User 942User 943User 944User 945User 946User 947User 948User 949User 950User 951User 952User 953User 954User 955User 956User 957User 958User 959User 960User 961User 962User 963User 964User 965User 966User 967User 968User 969User 970User 971User 972User 973User 974User 975User 976User 977User 978User 979User 980User 981User 982User 983User 984User 985User 986User 987User 988User 989User 990User 991User 992User 993User 994User 995User 996User 997User 998User 999User 1000User 1001User 1002User 1003User 1004User 1005User 1006User 1007User 1008User 1009User 1010User 1011User 1012User 1013User 1014User 1015User 1016User 1017User 1018User 1019User 1020User 1021User 1022User 1023User 1024User 1025User 1026User 1027User 1028User 1029User 1030User 1031User 1032User 1033User 1034User 1035User 1036User 1037User 1038User 1039User 1040User 1041User 1042User 1043User 1044User 1045User 1046User 1047User 1048User 1049User 1050User 1051User 1052User 1053User 1054User 1055User 1056User 1057User 1058User 1059User 1060User 1061User 1062User 1063User 1064User 1065User 1066User 1067User 1068User 1069User 1070User 1071User 1072User 1073User 1074User 1075User 1076User 1077User 1078User 1079User 1080User 1081User 1082User 1083User 1084User 1085User 1086User 1087User 1088User 1089User 1090User 1091User 1092User 1093User 1094User 1095User 1096User 1097User 1098User 1099User 1100User 1101User 1102User 1103User 1104User 1105User 1106User 1107User 1108User 1109User 1110User 1111User 1112User 1113User 1114User 1115User 1116User 1117User 1118User 1119User 1120User 1121User 1122User 1123User 1124User 1125User 1126User 1127User 1128User 1129User 1130User 1131User 1132User 1133User 1134User 1135User 1136User 1137User 1138User 1139User 1140User 1141User 1142User 1143User 1144User 1145User 1146User 1147User 1148User 1149User 1150User 1151User 1152User 1153User 1154User 1155User 1156User 1157User 1158User 1159User 1160User 1161User 1162User 1163User 1164User 1165User 1166User 1167User 1168User 1169User 1170User 1171User 1172User 1173User 1174User 1175User 1176User 1177User 1178User 1179User 1180User 1181User 1182User 1183User 1184User 1185User 1186User 1187User 1188User 1189User 1190User 1191User 1192User 1193User 1194User 1195User 1196User 1197User 1198User 1199User 1200User 1201User 1202User 1203User 1204User 1205User 1206User 1207User 1208User 1209User 1210User 1211User 1212User 1213User 1214User 1215User 1216User 1217User 1218User 1219User 1220User 1221User 1222User 1223User 1224User 1225User 1226User 1227User 1228User 1229User 1230User 1231User 1232User 1233User 1234User 1235User 1236User 1237User 1238User 1239User 1240User 1241User 1242User 1243User 1244User 1245User 1246User 1247User 1248User 1249User 1250User 1251User 1252User 1253User 1254User 1255User 1256User 1257User 1258User 1259User 1260User 1261User 1262User 1263User 1264User 1265User 1266User 1267User 1268User 1269User 1270User 1271User 1272User 1273User 1274User 1275User 1276User 1277User 1278User 1279User 1280User 1281User 1282User 1283User 1284User 1285User 1286User 1287User 1288User 1289User 1290User 1291User 1292User 1293User 1294User 1295User 1296User 1297User 1298User 1299User 1300User 1301User 1302User 1303User 1304User 1305User 1306User 1307User 1308User 1309User 1310User 1311User 1312User 1313User 1314User 1315User 1316User 1317User 1318User 1319User 1320User 1321User 1322User 1323User 1324User 1325User 1326User 1327User 1328User 1329User 1330User 1331User 1332User 1333User 1334User 1335User 1336User 1337User 1338User 1339User 1340User 1341User 1342User 1343User 1344User 1345User 1346User 1347User 1348User 1349User 1350User 1351User 1352User 1353User 1354User 1355User 1356User 1357User 1358User 1359User 1360User 1361User 1362User 1363User 1364User 1365User 1366User 1367User 1368User 1369User 1370User 1371User 1372User 1373User 1374User 1375User 1376User 1377User 1378User 1379User 1380User 1381User 1382User 1383User 1384User 1385User 1386User 1387User 1388User 1389User 1390User 1391User 1392User 1393User 1394User 1395User 1396User 1397User 1398User 1399User 1400User 1401User 1402User 1403User 1404User 1405User 1406User 1407User 1408User 1409User 1410User 1411User 1412User 1413User 1414User 1415User 1416User 1417User 1418User 1419User 1420User 1421User 1422User 1423User 1424User 1425User 1426User 1427User 1428User 1429User 1430User 1431User 1432User 1433User 1434User 1435User 1436User 1437User 1438User 1439User 1440User 1441User 1442User 1443User 1444User 1445User 1446User 1447User 1448User 1449User 1450User 1451User 1452User 1453User 1454User 1455User 1456User 1457User 1458User 1459User 1460User 1461User 1462User 1463User 1464User 1465User 1466User 1467User 1468User 1469User 1470User 1471User 1472User 1473User 1474User 1475User 1476User 1477User 1478User 1479User 1480User 1481User 1482User 1483User 1484User 1485User 1486User 1487User 1488User 1489User 1490User 1491User 1492User 1493User 1494User 1495User 1496User 1497User 1498User 1499User 1500User 1501User 1502User 1503User 1504User 1505User 1506User 1507User 1508User 1509User 1510User 1511User 1512User 1513User 1514User 1515User 1516User 1517User 1518User 1519User 1520User 1521User 1522User 1523User 1524User 1525User 1526User 1527User 1528User 1529User 1530User 1531User 1532User 1533User 1534User 1535User 1536User 1537User 1538User 1539User 1540User 1541User 1542User 1543User 1544User 1545User 1546User 1547User 1548User 1549User 1550User 1551User 1552User 1553User 1554User 1555User 1556User 1557User 1558User 1559User 1560User 1561User 1562User 1563User 1564User 1565User 1566User 1567User 1568User 1569User 1570User 1571User 1572User 1573User 1574User 1575User 1576User 1577User 1578User 1579User 1580User 1581User 1582User 1583User 1584User 1585User 1586User 1587User 1588User 1589User 1590User 1591User 1592User 1593User 1594User 1595User 1596User 1597User 1598User 1599User 1600User 1601User 1602User 1603User 1604User 1605User 1606User 1607User 1608User 1609User 1610User 1611User 1612User 1613User 1614User 1615User 1616User 1617User 1618User 1619User 1620User 1621User 1622User 1623User 1624User 1625User 1626User 1627User 1628User 1629User 1630User 1631User 1632User 1633User 1634User 1635User 1636User 1637User 1638User 1639User 1640User 1641User 1642User 1643User 1644User 1645User 1646User 1647User 1648User 1649User 1650User 1651User 1652User 1653User 1654User 1655User 1656User 1657User 1658User 1659User 1660User 1661User 1662User 1663User 1664User 1665User 1666User 1667User 1668User 1669User 1670User 1671User 1672User 1673User 1674User 1675User 1676User 1677User 1678User 1679User 1680User 1681User 1682User 1683User 1684User 1685User 1686User 1687User 1688User 1689User 1690User 1691User 1692User 1693User 1694User 1695User 1696User 1697User 1698User 1699User 1700User 1701User 1702User 1703User 1704User 1705User 1706User 1707User 1708User 1709User 1710User 1711User 1712User 1713User 1714User 1715User 1716User 1717User 1718User 1719User 1720User 1721User 1722User 1723User 1724User 1725User 1726User 1727User 1728User 1729User 1730User 1731User 1732User 1733User 1734User 1735User 1736User 1737User 1738User 1739User 1740User 1741User 1742User 1743User 1744User 1745User 1746User 1747User 1748User 1749User 1750User 1751User 1752User 1753User 1754User 1755User 1756User 1757User 1758User 1759User 1760User 1761User 1762User 1763User 1764User 1765User 1766User 1767User 1768User 1769User 1770User 1771User 1772User 1773User 1774User 1775User 1776User 1777User 1778User 1779User 1780User 1781User 1782User 1783User 1784User 1785User 1786User 1787User 1788User 1789User 1790User 1791User 1792User 1793User 1794User 1795User 1796User 1797User 1798User 1799User 1800User 1801User 1802User 1803User 1804User 1805User 1806User 1807User 1808User 1809User 1810User 1811User 1812User 1813User 1814User 1815User 1816User 1817User 1818User 1819User 1820User 1821User 1822User 1823User 1824User 1825User 1826User 1827User 1828User 1829User 1830User 1831User 1832User 1833User 1834User 1835User 1836User 1837User 1838User 1839User 1840User 1841User 1842User 1843User 1844User 1845User 1846User 1847User 1848User 1849User 1850User 1851User 1852User 1853User 1854User 1855User 1856User 1857User 1858User 1859User 1860User 1861User 1862User 1863User 1864User 1865User 1866User 1867User 1868User 1869User 1870User 1871User 1872User 1873User 1874User 1875User 1876User 1877User 1878User 1879User 1880User 1881User 1882User 1883User 1884User 1885User 1886User 1887User 1888User 1889User 1890User 1891User 1892User 1893User 1894User 1895User 1896User 1897User 1898User 1899User 1900User 1901User 1902User 1903User 1904User 1905User 1906User 1907User 1908User 1909User 1910User 1911User 1912User 1913User 1914User 1915User 1916User 1917User 1918User 1919User 1920User 1921User 1922User 1923User 1924User 1925User 1926User 1927User 1928User 1929User 1930User 1931User 1932User 1933User 1934User 1935User 1936User 1937User 1938User 1939User 1940User 1941User 1942User 1943User 1944User 1945User 1946User 1947User 1948User 1949User 1950User 1951User 1952User 1953User 1954User 1955User 1956User 1957User 1958User 1959User 1960User 1961User 1962User 1963User 1964User 1965User 1966User 1967User 1968User 1969User 1970User 1971User 1972User 1973User 1974User 1975User 1976User 1977User 1978User 1979User 1980User 1981User 1982User 1983User 1984User 1985User 1986User 1987User 1988User 1989User 1990User 1991User 1992User 1993User 1994User 1995User 1996User 1997User 1998User 1999User 2000User 2001User 2002User 2003User 2004User 2005User 2006User 2007User 2008User 2009User 2010User 2011User 2012User 2013User 2014User 2015User 2016User 2017User 2018User 2019User 2020User 2021User 2022User 2023User 2024User 2025User 2026User 2027User 2028User 2029User 2030User 2031User 2032User 2033User 2034User 2035User 2036User 2037User 2038User 2039User 2040User 2041User 2042User 2043User 2044User 2045User 2046User 2047User 2048User 2049User 2050User 2051User 2052User 2053User 2054User 2055User 2056User 2057User 2058User 2059User 2060User 2061User 2062User 2063User 2064User 2065User 2066User 2067User 2068User 2069User 2070User 2071User 2072User 2073User 2074User 2075User 2076User 2077User 2078User 2079User 2080User 2081User 2082User 2083User 2084User 2085User 2086User 2087User 2088User 2089User 2090User 2091User 2092User 2093User 2094User 2095User 2096User 2097User 2098User 2099User 2100User 2101User 2102User 2103User 2104User 2105User 2106User 2107User 2108User 2109User 2110User 2111User 2112User 2113User 2114User 2115User 2116User 2117User 2118User 2119User 2120User 2121User 2122User 2123User 2124User 2125User 2126User 2127User 2128User 2129User 2130User 2131User 2132User 2133User 2134User 2135User 2136User 2137User 2138User 2139User 2140User 2141User 2142User 2143User 2144User 2145User 2146User 2147User 2148User 2149User 2150User 2151User 2152User 2153User 2154User 2155User 2156User 2157User 2158User 2159User 2160User 2161User 2162User 2163User 2164User 2165User 2166User 2167User 2168User 2169User 2170User 2171User 2172User 2173User 2174User 2175User 2176User 2177User 2178User 2179User 2180User 2181User 2182User 2183User 2184User 2185User 2186User 2187User 2188User 2189User 2190User 2191User 2192User 2193User 2194User 2195User 2196User 2197User 2198User 2199User 2200User 2201User 2202User 2203User 2204User 2205User 2206User 2207User 2208User 2209User 2210User 2211User 2212User 2213User 2214User 2215User 2216User 2217User 2218User 2219User 2220User 2221User 2222User 2223User 2224User 2225User 2226User 2227User 2228User 2229User 2230User 2231User 2232User 2233User 2234User 2235User 2236User 2237User 2238User 2239User 2240User 2241User 2242User 2243User 2244User 2245User 2246User 2247User 2248User 2249User 2250User 2251User 2252User 2253User 2254User 2255User 2256User 2257User 2258User 2259User 2260User 2261User 2262User 2263User 2264User 2265User 2266User 2267User 2268User 2269User 2270User 2271User 2272User 2273User 2274User 2275User 2276User 2277User 2278User 2279User 2280User 2281User 2282User 2283User 2284User 2285User 2286User 2287User 2288User 2289User 2290User 2291User 2292User 2293User 2294User 2295User 2296User 2297User 2298User 2299User 2300User 2301User 2302User 2303User 2304User 2305User 2306User 2307User 2308User 2309User 2310User 2311User 2312User 2313User 2314User 2315User 2316User 2317User 2318User 2319User 2320User 2321User 2322User 2323User 2324User 2325User 2326User 2327User 2328User 2329User 2330User 2331User 2332User 2333User 2334User 2335User 2336User 2337User 2338User 2339User 2340User 2341User 2342User 2343User 2344User 2345User 2346User 2347User 2348User 2349User 2350User 2351User 2352User 2353User 2354User 2355User 2356User 2357User 2358User 2359User 2360User 2361User 2362User 2363User 2364User 2365User 2366User 2367User 2368User 2369User 2370User 2371User 2372User 2373User 2374User 2375User 2376User 2377User 2378User 2379User 2380User 2381User 2382User 2383User 2384User 2385User 2386User 2387User 2388User 2389User 2390User 2391User 2392User 2393User 2394User 2395User 2396User 2397User 2398User 2399User 2400User 2401User 2402User 2403User 2404User 2405User 2406User 2407User 2408User 2409User 2410User 2411User 2412User 2413User 2414User 2415User 2416User 2417User 2418User 2419User 2420User 2421User 2422User 2423User 2424User 2425User 2426User 2427User 2428User 2429User 2430User 2431User 2432User 2433User 2434User 2435User 2436User 2437User 2438User 2439User 2440User 2441User 2442User 2443User 2444User 2445User 2446User 2447User 2448User 2449User 2450User 2451User 2452User 2453User 2454User 2455User 2456User 2457User 2458User 2459User 2460User 2461User 2462User 2463User 2464User 2465User 2466User 2467User 2468User 2469User 2470User 2471User 2472User 2473User 2474User 2475User 2476User 2477User 2478User 2479User 2480User 2481User 2482User 2483User 2484User 2485User 2486User 2487User 2488User 2489User 2490User 2491User 2492User 2493User 2494User 2495User 2496User 2497User 2498User 2499User 2500User 2501User 2502User 2503User 2504User 2505User 2506User 2507User 2508User 2509User 2510User 2511User 2512User 2513User 2514User 2515User 2516User 2517User 2518User 2519User 2520User 2521User 2522User 2523User 2524User 2525User 2526User 2527User 2528User 2529User 2530User 2531User 2532User 2533User 2534User 2535User 2536User 2537User 2538User 2539User 2540User 2541User 2542User 2543User 2544User 2545User 2546User 2547User 2548User 2549User 2550User 2551User 2552User 2553User 2554User 2555User 2556User 2557User 2558User 2559User 2560User 2561User 2562User 2563User 2564User 2565User 2566User 2567User 2568User 2569User 2570User 2571User 2572User 2573User 2574User 2575User 2576User 2577User 2578User 2579User 2580User 2581User 2582User 2583User 2584User 2585User 2586User 2587User 2588User 2589User 2590User 2591User 2592User 2593User 2594User 2595User 2596User 2597User 2598User 2599User 2600User 2601User 2602User 2603User 2604User 2605User 2606User 2607User 2608User 2609User 2610User 2611User 2612User 2613User 2614User 2615User 2616User 2617User 2618User 2619User 2620User 2621User 2622User 2623User 2624User 2625User 2626User 2627User 2628User 2629User 2630User 2631User 2632User 2633User 2634User 2635User 2636User 2637User 2638User 2639User 2640User 2641User 2642User 2643User 2644User 2645User 2646User 2647User 2648User 2649User 2650User 2651User 2652User 2653User 2654User 2655User 2656User 2657User 2658User 2659User 2660User 2661User 2662User 2663User 2664User 2665User 2666User 2667User 2668User 2669User 2670User 2671User 2672User 2673User 2674User 2675User 2676User 2677User 2678User 2679User 2680User 2681User 2682User 2683User 2684User 2685User 2686User 2687User 2688User 2689User 2690User 2691User 2692User 2693User 2694User 2695User 2696User 2697User 2698User 2699User 2700User 2701User 2702User 2703User 2704User 2705User 2706User 2707User 2708User 2709User 2710User 2711User 2712User 2713User 2714User 2715User 2716User 2717User 2718User 2719User 2720User 2721User 2722User 2723User 2724User 2725User 2726User 2727User 2728User 2729User 2730User 2731User 2732User 2733User 2734User 2735User 2736User 2737User 2738User 2739User 2740User 2741User 2742User 2743User 2744User 2745User 2746User 2747User 2748User 2749User 2750User 2751User 2752User 2753User 2754User 2755User 2756User 2757User 2758User 2759User 2760User 2761User 2762User 2763User 2764User 2765User 2766User 2767User 2768User 2769User 2770User 2771User 2772User 2773User 2774User 2775User 2776User 2777User 2778User 2779User 2780User 2781User 2782User 2783User 2784User 2785User 2786User 2787User 2788User 2789User 2790User 2791User 2792User 2793User 2794User 2795User 2796User 2797User 2798User 2799User 2800User 2801User 2802User 2803User 2804User 2805User 2806User 2807User 2808User 2809User 2810User 2811User 2812User 2813User 2814User 2815User 2816User 2817User 2818User 2819User 2820User 2821User 2822User 2823User 2824User 2825User 2826User 2827User 2828User 2829User 2830User 2831User 2832User 2833User 2834User 2835User 2836User 2837User 2838User 2839User 2840User 2841User 2842User 2843User 2844User 2845User 2846User 2847User 2848User 2849User 2850User 2851User 2852User 2853User 2854User 2855User 2856User 2857User 2858User 2859User 2860User 2861User 2862User 2863User 2864User 2865User 2866User 2867User 2868User 2869User 2870User 2871User 2872User 2873User 2874User 2875User 2876User 2877User 2878User 2879User 2880User 2881User 2882User 2883User 2884User 2885User 2886User 2887User 2888User 2889User 2890User 2891User 2892User 2893User 2894User 2895User 2896User 2897User 2898User 2899User 2900User 2901User 2902User 2903User 2904User 2905User 2906User 2907User 2908User 2909User 2910User 2911User 2912User 2913User 2914User 2915User 2916User 2917User 2918User 2919User 2920User 2921User 2922User 2923User 2924User 2925User 2926User 2927User 2928User 2929User 2930User 2931User 2932User 2933User 2934User 2935User 2936User 2937User 2938User 2939User 2940User 2941User 2942User 2943User 2944User 2945User 2946User 2947User 2948User 2949User 2950User 2951User 2952User 2953User 2954User 2955User 2956User 2957User 2958User 2959User 2960User 2961User 2962User 2963User 2964User 2965User 2966User 2967User 2968User 2969User 2970User 2971User 2972User 2973User 2974User 2975User 2976User 2977User 2978User 2979User 2980User 2981User 2982User 2983User 2984User 2985User 2986User 2987User 2988User 2989User 2990User 2991User 2992User 2993User 2994User 2995User 2996User 2997User 2998User 2999User 3000User 3001User 3002User 3003User 3004User 3005User 3006User 3007User 3008User 3009User 3010User 3011User 3012User 3013User 3014User 3015User 3016User 3017User 3018User 3019User 3020User 3021User 3022User 3023User 3024User 3025User 3026User 3027User 3028User 3029User 3030User 3031User 3032User 3033User 3034User 3035User 3036User 3037User 3038User 3039User 3040User 3041User 3042User 3043User 3044User 3045User 3046User 3047User 3048User 3049User 3050User 3051User 3052User 3053User 3054User 3055User 3056User 3057User 3058User 3059User 3060User 3061User 3062User 3063User 3064User 3065User 3066User 3067User 3068User 3069User 3070User 3071User 3072User 3073User 3074User 3075User 3076User 3077User 3078User 3079User 3080User 3081User 3082User 3083User 3084User 3085User 3086User 3087User 3088User 3089User 3090User 3091User 3092User 3093User 3094User 3095User 3096User 3097User 3098User 3099User 3100User 3101User 3102User 3103User 3104User 3105User 3106User 3107User 3108User 3109User 3110User 3111User 3112User 3113User 3114User 3115User 3116User 3117User 3118User 3119User 3120User 3121User 3122User 3123User 3124User 3125User 3126User 3127User 3128User 3129User 3130User 3131User 3132User 3133User 3134User 3135User 3136User 3137User 3138User 3139User 3140User 3141User 3142User 3143User 3144User 3145User 3146User 3147User 3148User 3149User 3150User 3151User 3152User 3153User 3154User 3155User 3156User 3157User 3158User 3159User 3160User 3161User 3162User 3163User 3164User 3165User 3166User 3167User 3168User 3169User 3170User 3171User 3172User 3173User 3174User 3175User 3176User 3177User 3178User 3179User 3180User 3181User 3182User 3183User 3184User 3185User 3186User 3187User 3188User 3189User 3190User 3191User 3192User 3193User 3194User 3195User 3196User 3197User 3198User 3199User 3200User 3201User 3202User 3203User 3204User 3205User 3206User 3207User 3208User 3209User 3210User 3211User 3212User 3213User 3214User 3215User 3216User 3217User 3218User 3219User 3220User 3221User 3222User 3223User 3224User 3225User 3226User 3227User 3228User 3229User 3230User 3231User 3232User 3233User 3234User 3235User 3236User 3237User 3238User 3239User 3240User 3241User 3242User 3243User 3244User 3245User 3246User 3247User 3248User 3249User 3250User 3251User 3252User 3253User 3254User 3255User 3256User 3257User 3258User 3259User 3260User 3261User 3262User 3263User 3264User 3265User 3266User 3267User 3268User 3269User 3270User 3271User 3272User 3273User 3274User 3275User 3276User 3277User 3278User 3279User 3280User 3281User 3282User 3283User 3284User 3285User 3286User 3287User 3288User 3289User 3290User 3291User 3292User 3293User 3294User 3295User 3296User 3297User 3298User 3299User 3300User 3301User 3302User 3303User 3304User 3305User 3306User 3307User 3308User 3309User 3310User 3311User 3312User 3313User 3314User 3315User 3316User 3317User 3318User 3319User 3320User 3321User 3322User 3323User 3324User 3325User 3326User 3327User 3328User 3329User 3330User 3331User 3332User 3333User 3334User 3335User 3336User 3337User 3338User 3339User 3340User 3341User 3342User 3343User 3344User 3345User 3346User 3347User 3348User 3349User 3350User 3351User 3352User 3353User 3354User 3355User 3356User 3357User 3358User 3359User 3360User 3361User 3362User 3363User 3364User 3365User 3366User 3367User 3368User 3369User 3370User 3371User 3372User 3373User 3374User 3375User 3376User 3377User 3378User 3379User 3380User 3381User 3382User 3383User 3384User 3385User 3386User 3387User 3388User 3389User 3390User 3391User 3392User 3393User 3394User 3395User 3396User 3397User 3398User 3399User 3400User 3401User 3402User 3403User 3404User 3405User 3406User 3407User 3408User 3409User 3410User 3411User 3412User 3413User 3414User 3415User 3416User 3417User 3418User 3419User 3420User 3421User 3422User 3423User 3424User 3425User 3426User 3427User 3428User 3429User 3430User 3431User 3432User 3433User 3434User 3435User 3436User 3437User 3438User 3439User 3440User 3441User 3442User 3443User 3444User 3445User 3446User 3447User 3448User 3449User 3450User 3451User 3452User 3453User 3454User 3455User 3456User 3457User 3458User 3459User 3460User 3461User 3462User 3463User 3464User 3465User 3466User 3467User 3468User 3469User 3470User 3471User 3472User 3473User 3474User 3475User 3476User 3477User 3478User 3479User 3480User 3481User 3482User 3483User 3484User 3485User 3486User 3487User 3488User 3489User 3490User 3491User 3492User 3493User 3494User 3495User 3496User 3497User 3498User 3499User 3500User 3501User 3502User 3503User 3504User 3505User 3506User 3507User 3508User 3509User 3510User 3511User 3512User 3513User 3514User 3515User 3516User 3517User 3518User 3519User 3520User 3521User 3522User 3523User 3524User 3525User 3526User 3527User 3528User 3529User 3530User 3531User 3532User 3533User 3534User 3535User 3536User 3537User 3538User 3539User 3540User 3541User 3542User 3543User 3544User 3545User 3546User 3547User 3548User 3549User 3550User 3551User 3552User 3553User 3554User 3555User 3556User 3557User 3558User 3559User 3560User 3561User 3562User 3563User 3564User 3565User 3566User 3567User 3568User 3569User 3570User 3571User 3572User 3573User 3574User 3575User 3576User 3577User 3578User 3579User 3580User 3581User 3582User 3583User 3584User 3585User 3586User 3587User 3588User 3589User 3590User 3591User 3592User 3593User 3594User 3595User 3596User 3597User 3598User 3599User 3600User 3601User 3602User 3603User 3604User 3605User 3606User 3607User 3608User 3609User 3610User 3611User 3612User 3613User 3614User 3615User 3616User 3617User 3618User 3619User 3620User 3621User 3622User 3623User 3624User 3625User 3626User 3627User 3628User 3629User 3630User 3631User 3632User 3633User 3634User 3635User 3636User 3637User 3638User 3639User 3640User 3641User 3642User 3643User 3644User 3645User 3646User 3647User 3648User 3649User 3650User 3651User 3652User 3653User 3654User 3655User 3656User 3657User 3658User 3659User 3660User 3661User 3662User 3663User 3664User 3665User 3666User 3667User 3668User 3669User 3670User 3671User 3672User 3673User 3674User 3675User 3676User 3677User 3678User 3679User 3680User 3681User 3682User 3683User 3684User 3685User 3686User 3687User 3688User 3689User 3690User 3691User 3692User 3693User 3694User 3695User 3696User 3697User 3698User 3699User 3700User 3701User 3702User 3703User 3704User 3705User 3706User 3707User 3708User 3709User 3710User 3711User 3712User 3713User 3714User 3715User 3716User 3717User 3718User 3719User 3720User 3721User 3722User 3723User 3724User 3725User 3726User 3727User 3728User 3729User 3730User 3731User 3732User 3733User 3734User 3735User 3736User 3737User 3738User 3739User 3740User 3741User 3742User 3743User 3744User 3745User 3746User 3747User 3748User 3749User 3750User 3751User 3752User 3753User 3754User 3755User 3756User 3757User 3758User 3759User 3760User 3761User 3762User 3763User 3764User 3765User 3766User 3767User 3768User 3769User 3770User 3771User 3772User 3773User 3774User 3775User 3776User 3777User 3778User 3779User 3780User 3781User 3782User 3783User 3784User 3785User 3786User 3787User 3788User 3789User 3790User 3791User 3792User 3793User 3794User 3795User 3796User 3797User 3798User 3799User 3800User 3801User 3802User 3803User 3804User 3805User 3806User 3807User 3808User 3809User 3810User 3811User 3812User 3813User 3814User 3815User 3816User 3817User 3818User 3819User 3820User 3821User 3822User 3823User 3824User 3825User 3826User 3827User 3828User 3829User 3830User 3831User 3832User 3833User 3834User 3835User 3836User 3837User 3838User 3839User 3840User 3841User 3842User 3843User 3844User 3845User 3846User 3847User 3848User 3849User 3850User 3851User 3852User 3853User 3854User 3855User 3856User 3857User 3858User 3859User 3860User 3861User 3862User 3863User 3864User 3865User 3866User 3867User 3868User 3869User 3870User 3871User 3872User 3873User 3874User 3875User 3876User 3877User 3878User 3879User 3880User 3881User 3882User 3883User 3884User 3885User 3886User 3887User 3888User 3889User 3890User 3891User 3892User 3893User 3894User 3895User 3896User 3897User 3898User 3899User 3900User 3901User 3902User 3903User 3904User 3905User 3906User 3907User 3908User 3909User 3910User 3911User 3912User 3913User 3914User 3915User 3916User 3917User 3918User 3919User 3920User 3921User 3922User 3923User 3924User 3925User 3926User 3927User 3928User 3929User 3930User 3931User 3932User 3933User 3934User 3935User 3936User 3937User 3938User 3939User 3940User 3941User 3942User 3943User 3944User 3945User 3946User 3947User 3948User 3949User 3950User 3951User 3952User 3953User 3954User 3955User 3956User 3957User 3958User 3959User 3960User 3961User 3962User 3963User 3964User 3965User 3966User 3967User 3968User 3969User 3970User 3971User 3972User 3973User 3974User 3975User 3976User 3977User 3978User 3979User 3980User 3981User 3982User 3983User 3984User 3985User 3986User 3987User 3988User 3989User 3990User 3991User 3992User 3993User 3994User 3995User 3996User 3997User 3998User 3999User 4000User 4001User 4002User 4003User 4004User 4005User 4006User 4007User 4008User 4009User 4010User 4011User 4012User 4013User 4014User 4015User 4016User 4017User 4018User 4019User 4020User 4021User 4022User 4023User 4024User 4025User 4026User 4027User 4028User 4029User 4030User 4031User 4032User 4033User 4034User 4035User 4036User 4037User 4038User 4039User 4040User 4041User 4042User 4043User 4044User 4045User 4046User 4047User 4048User 4049User 4050User 4051User 4052User 4053User 4054User 4055User 4056User 4057User 4058User 4059User 4060User 4061User 4062User 4063User 4064User 4065User 4066User 4067User 4068User 4069User 4070User 4071User 4072User 4073User 4074User 4075User 4076User 4077User 4078User 4079User 4080User 4081User 4082User 4083User 4084User 4085User 4086User 4087User 4088User 4089User 4090User 4091User 4092User 4093User 4094User 4095User 4096User 4097User 4098User 4099User 4100User 4101User 4102User 4103User 4104User 4105User 4106User 4107User 4108User 4109User 4110User 4111User 4112User 4113User 4114User 4115User 4116User 4117User 4118User 4119User 4120User 4121User 4122User 4123User 4124User 4125User 4126User 4127User 4128User 4129User 4130User 4131User 4132User 4133User 4134User 4135User 4136User 4137User 4138User 4139User 4140User 4141User 4142User 4143User 4144User 4145User 4146User 4147User 4148User 4149User 4150User 4151User 4152User 4153User 4154User 4155User 4156User 4157User 4158User 4159User 4160User 4161User 4162User 4163User 4164User 4165User 4166User 4167User 4168User 4169User 4170User 4171User 4172User 4173User 4174User 4175User 4176User 4177User 4178User 4179User 4180User 4181User 4182User 4183User 4184User 4185User 4186User 4187User 4188User 4189User 4190User 4191User 4192User 4193User 4194User 4195User 4196User 4197User 4198User 4199User 4200User 4201User 4202User 4203User 4204User 4205User 4206User 4207User 4208User 4209User 4210User 4211User 4212User 4213User 4214User 4215User 4216User 4217User 4218User 4219User 4220User 4221User 4222User 4223User 4224User 4225User 4226User 4227User 4228User 4229User 4230User 4231User 4232User 4233User 4234User 4235User 4236User 4237User 4238User 4239User 4240User 4241User 4242User 4243User 4244User 4245User 4246User 4247User 4248User 4249User 4250User 4251User 4252User 4253User 4254User 4255User 4256User 4257User 4258User 4259User 4260User 4261User 4262User 4263User 4264User 4265User 4266User 4267User 4268User 4269User 4270User 4271User 4272User 4273User 4274User 4275User 4276User 4277User 4278User 4279User 4280User 4281User 4282User 4283User 4284User 4285User 4286User 4287User 4288User 4289User 4290User 4291User 4292User 4293User 4294User 4295User 4296User 4297User 4298User 4299User 4300User 4301User 4302User 4303User 4304User 4305User 4306User 4307User 4308User 4309User 4310User 4311User 4312User 4313User 4314User 4315User 4316User 4317User 4318User 4319User 4320User 4321User 4322User 4323User 4324User 4325User 4326User 4327User 4328User 4329User 4330User 4331User 4332User 4333User 4334User 4335User 4336User 4337User 4338User 4339User 4340User 4341User 4342User 4343User 4344User 4345User 4346User 4347User 4348User 4349User 4350User 4351User 4352User 4353User 4354User 4355User 4356User 4357User 4358User 4359User 4360User 4361User 4362User 4363User 4364User 4365User 4366User 4367User 4368User 4369User 4370User 4371User 4372User 4373User 4374User 4375User 4376User 4377User 4378User 4379User 4380User 4381User 4382User 4383User 4384User 4385User 4386User 4387User 4388User 4389User 4390User 4391User 4392User 4393User 4394User 4395User 4396User 4397User 4398User 4399User 4400User 4401User 4402User 4403User 4404User 4405User 4406User 4407User 4408User 4409User 4410User 4411User 4412User 4413User 4414User 4415User 4416User 4417User 4418User 4419User 4420User 4421User 4422User 4423User 4424User 4425User 4426User 4427User 4428User 4429User 4430User 4431User 4432User 4433User 4434User 4435User 4436User 4437User 4438User 4439User 4440User 4441User 4442User 4443User 4444User 4445User 4446User 4447User 4448User 4449User 4450User 4451User 4452User 4453User 4454User 4455User 4456User 4457User 4458User 4459User 4460User 4461User 4462User 4463User 4464User 4465User 4466User 4467User 4468User 4469User 4470User 4471User 4472User 4473User 4474User 4475User 4476User 4477User 4478User 4479User 4480User 4481User 4482User 4483User 4484User 4485User 4486User 4487User 4488User 4489User 4490User 4491User 4492User 4493User 4494User 4495User 4496User 4497User 4498User 4499User 4500User 4501User 4502User 4503User 4504User 4505User 4506User 4507User 4508User 4509User 4510User 4511User 4512User 4513User 4514User 4515User 4516User 4517User 4518User 4519User 4520User 4521User 4522User 4523User 4524User 4525User 4526User 4527User 4528User 4529User 4530User 4531User 4532User 4533User 4534User 4535User 4536User 4537User 4538User 4539User 4540User 4541User 4542User 4543User 4544User 4545User 4546User 4547User 4548User 4549User 4550User 4551User 4552User 4553User 4554User 4555User 4556User 4557User 4558User 4559User 4560User 4561User 4562User 4563User 4564User 4565User 4566User 4567User 4568User 4569User 4570User 4571User 4572User 4573User 4574User 4575User 4576User 4577User 4578User 4579User 4580User 4581User 4582User 4583User 4584User 4585User 4586User 4587User 4588User 4589User 4590User 4591User 4592User 4593User 4594User 4595User 4596User 4597User 4598User 4599User 4600User 4601User 4602User 4603User 4604User 4605User 4606User 4607User 4608User 4609User 4610User 4611User 4612User 4613User 4614User 4615User 4616User 4617User 4618User 4619User 4620User 4621User 4622User 4623User 4624User 4625User 4626User 4627User 4628User 4629User 4630User 4631User 4632User 4633User 4634User 4635User 4636User 4637User 4638User 4639User 4640User 4641User 4642User 4643User 4644User 4645User 4646User 4647User 4648User 4649User 4650User 4651User 4652User 4653User 4654User 4655User 4656User 4657User 4658User 4659User 4660User 4661User 4662User 4663User 4664User 4665User 4666User 4667User 4668User 4669User 4670User 4671User 4672User 4673User 4674User 4675User 4676User 4677User 4678User 4679User 4680User 4681User 4682User 4683User 4684User 4685User 4686User 4687User 4688User 4689User 4690User 4691User 4692User 4693User 4694User 4695User 4696User 4697User 4698User 4699User 4700User 4701User 4702User 4703User 4704User 4705User 4706User 4707User 4708User 4709User 4710User 4711User 4712User 4713User 4714User 4715User 4716User 4717User 4718User 4719User 4720User 4721User 4722User 4723User 4724User 4725User 4726User 4727User 4728User 4729User 4730User 4731User 4732User 4733User 4734User 4735User 4736User 4737User 4738User 4739User 4740User 4741User 4742User 4743User 4744User 4745User 4746User 4747User 4748User 4749User 4750User 4751User 4752User 4753User 4754User 4755User 4756User 4757User 4758User 4759User 4760User 4761User 4762User 4763User 4764User 4765User 4766User 4767User 4768User 4769User 4770User 4771User 4772User 4773User 4774User 4775User 4776User 4777User 4778User 4779User 4780User 4781User 4782User 4783User 4784User 4785User 4786User 4787User 4788User 4789User 4790User 4791User 4792User 4793User 4794User 4795User 4796User 4797User 4798User 4799User 4800User 4801User 4802User 4803User 4804User 4805User 4806User 4807User 4808User 4809User 4810User 4811User 4812User 4813User 4814User 4815User 4816User 4817User 4818User 4819User 4820User 4821User 4822User 4823User 4824User 4825User 4826User 4827User 4828User 4829User 4830User 4831User 4832User 4833User 4834User 4835User 4836User 4837User 4838User 4839User 4840User 4841User 4842User 4843User 4844User 4845User 4846User 4847User 4848User 4849User 4850User 4851User 4852User 4853User 4854User 4855User 4856User 4857User 4858User 4859User 4860User 4861User 4862User 4863User 4864User 4865User 4866User 4867User 4868User 4869User 4870User 4871User 4872User 4873User 4874User 4875User 4876User 4877User 4878User 4879User 4880User 4881User 4882User 4883User 4884User 4885User 4886User 4887User 4888User 4889User 4890User 4891User 4892User 4893User 4894User 4895User 4896User 4897User 4898User 4899User 4900User 4901User 4902User 4903User 4904User 4905User 4906User 4907User 4908User 4909User 4910User 4911User 4912User 4913User 4914User 4915User 4916User 4917User 4918User 4919User 4920User 4921User 4922User 4923User 4924User 4925User 4926User 4927User 4928User 4929User 4930User 4931User 4932User 4933User 4934User 4935User 4936User 4937User 4938User 4939User 4940User 4941User 4942User 4943User 4944User 4945User 4946User 4947User 4948User 4949User 4950User 4951User 4952User 4953User 4954User 4955User 4956User 4957User 4958User 4959User 4960User 4961User 4962User 4963User 4964User 4965User 4966User 4967User 4968User 4969User 4970User 4971User 4972User 4973User 4974User 4975User 4976User 4977User 4978User 4979User 4980User 4981User 4982User 4983User 4984User 4985User 4986User 4987User 4988User 4989User 4990User 4991User 4992User 4993User 4994User 4995User 4996User 4997User 4998User 4999User 5000User 5001User 5002User 5003User 5004User 5005User 5006User 5007User 5008User 5009User 5010User 5011User 5012User 5013User 5014User 5015User 5016User 5017User 5018User 5019User 5020User 5021User 5022User 5023User 5024User 5025User 5026User 5027User 5028User 5029User 5030User 5031User 5032User 5033User 5034User 5035User 5036User 5037User 5038User 5039User 5040User 5041User 5042User 5043User 5044User 5045User 5046User 5047User 5048User 5049User 5050User 5051User 5052User 5053User 5054User 5055User 5056User 5057User 5058User 5059User 5060User 5061User 5062User 5063User 5064User 5065User 5066User 5067User 5068User 5069User 5070User 5071User 5072User 5073User 5074User 5075User 5076User 5077User 5078User 5079User 5080User 5081User 5082User 5083User 5084User 5085User 5086User 5087User 5088User 5089User 5090User 5091User 5092User 5093User 5094User 5095User 5096User 5097User 5098User 5099User 5100User 5101User 5102User 5103User 5104User 5105User 5106User 5107User 5108User 5109User 5110User 5111User 5112User 5113User 5114User 5115User 5116User 5117User 5118User 5119User 5120User 5121User 5122User 5123User 5124User 5125User 5126User 5127User 5128User 5129User 5130User 5131User 5132User 5133User 5134User 5135User 5136User 5137User 5138User 5139User 5140User 5141User 5142User 5143User 5144User 5145User 5146User 5147User 5148User 5149User 5150User 5151User 5152User 5153User 5154User 5155User 5156User 5157User 5158User 5159User 5160User 5161User 5162User 5163User 5164User 5165User 5166User 5167User 5168User 5169User 5170User 5171User 5172User 5173User 5174User 5175User 5176User 5177User 5178User 5179User 5180User 5181User 5182User 5183User 5184User 5185User 5186User 5187User 5188User 5189User 5190User 5191User 5192User 5193User 5194User 5195User 5196User 5197User 5198User 5199User 5200User 5201User 5202User 5203User 5204User 5205User 5206User 5207User 5208User 5209User 5210User 5211User 5212User 5213User 5214User 5215User 5216User 5217User 5218User 5219User 5220User 5221User 5222User 5223User 5224User 5225User 5226User 5227User 5228User 5229User 5230User 5231User 5232User 5233User 5234User 5235User 5236User 5237User 5238User 5239User 5240User 5241User 5242User 5243User 5244User 5245User 5246User 5247User 5248User 5249User 5250User 5251User 5252User 5253User 5254User 5255User 5256User 5257User 5258User 5259User 5260User 5261User 5262User 5263User 5264User 5265User 5266User 5267User 5268User 5269User 5270User 5271User 5272User 5273User 5274User 5275User 5276User 5277User 5278User 5279User 5280User 5281User 5282User 5283User 5284User 5285User 5286User 5287User 5288User 5289User 5290User 5291User 5292User 5293User 5294User 5295User 5296User 5297User 5298User 5299User 5300User 5301User 5302User 5303User 5304User 5305User 5306User 5307User 5308User 5309User 5310User 5311User 5312User 5313User 5314User 5315User 5316User 5317User 5318User 5319User 5320User 5321User 5322User 5323User 5324User 5325User 5326User 5327User 5328User 5329User 5330User 5331User 5332User 5333User 5334User 5335User 5336User 5337User 5338User 5339User 5340User 5341User 5342User 5343User 5344User 5345User 5346User 5347User 5348User 5349User 5350User 5351User 5352User 5353User 5354User 5355User 5356User 5357User 5358User 5359User 5360User 5361User 5362User 5363User 5364User 5365User 5366User 5367User 5368User 5369User 5370User 5371User 5372User 5373User 5374User 5375User 5376User 5377User 5378User 5379User 5380User 5381User 5382User 5383User 5384User 5385User 5386User 5387User 5388User 5389User 5390User 5391User 5392User 5393User 5394User 5395User 5396User 5397User 5398User 5399User 5400User 5401User 5402User 5403User 5404User 5405User 5406User 5407User 5408User 5409User 5410User 5411User 5412User 5413User 5414User 5415User 5416User 5417User 5418User 5419User 5420User 5421User 5422User 5423User 5424User 5425User 5426User 5427User 5428User 5429User 5430User 5431User 5432User 5433User 5434User 5435User 5436User 5437User 5438User 5439User 5440User 5441User 5442User 5443User 5444User 5445User 5446User 5447User 5448User 5449User 5450User 5451User 5452User 5453User 5454User 5455User 5456'",
      "\nThe above exception was the direct cause of the following exception:\n",
      "\u001B[0;31mTypeError\u001B[0m                                 Traceback (most recent call last)",
      "Cell \u001B[0;32mIn[63], line 1\u001B[0m\n\u001B[0;32m----> 1\u001B[0m data_no_missing \u001B[38;5;241m=\u001B[39m data_manipulated\u001B[38;5;241m.\u001B[39mfillna(\u001B[43mdata_manipulated\u001B[49m\u001B[38;5;241;43m.\u001B[39;49m\u001B[43mmean\u001B[49m\u001B[43m(\u001B[49m\u001B[43m)\u001B[49m)\n",
      "File \u001B[0;32m/opt/homebrew/Caskroom/miniconda/base/envs/datascience/lib/python3.8/site-packages/pandas/core/generic.py:11556\u001B[0m, in \u001B[0;36mNDFrame._add_numeric_operations.<locals>.mean\u001B[0;34m(self, axis, skipna, numeric_only, **kwargs)\u001B[0m\n\u001B[1;32m  11539\u001B[0m \u001B[38;5;129m@doc\u001B[39m(\n\u001B[1;32m  11540\u001B[0m     _num_doc,\n\u001B[1;32m  11541\u001B[0m     desc\u001B[38;5;241m=\u001B[39m\u001B[38;5;124m\"\u001B[39m\u001B[38;5;124mReturn the mean of the values over the requested axis.\u001B[39m\u001B[38;5;124m\"\u001B[39m,\n\u001B[0;32m   (...)\u001B[0m\n\u001B[1;32m  11554\u001B[0m     \u001B[38;5;241m*\u001B[39m\u001B[38;5;241m*\u001B[39mkwargs,\n\u001B[1;32m  11555\u001B[0m ):\n\u001B[0;32m> 11556\u001B[0m     \u001B[38;5;28;01mreturn\u001B[39;00m \u001B[43mNDFrame\u001B[49m\u001B[38;5;241;43m.\u001B[39;49m\u001B[43mmean\u001B[49m\u001B[43m(\u001B[49m\u001B[38;5;28;43mself\u001B[39;49m\u001B[43m,\u001B[49m\u001B[43m \u001B[49m\u001B[43maxis\u001B[49m\u001B[43m,\u001B[49m\u001B[43m \u001B[49m\u001B[43mskipna\u001B[49m\u001B[43m,\u001B[49m\u001B[43m \u001B[49m\u001B[43mnumeric_only\u001B[49m\u001B[43m,\u001B[49m\u001B[43m \u001B[49m\u001B[38;5;241;43m*\u001B[39;49m\u001B[38;5;241;43m*\u001B[39;49m\u001B[43mkwargs\u001B[49m\u001B[43m)\u001B[49m\n",
      "File \u001B[0;32m/opt/homebrew/Caskroom/miniconda/base/envs/datascience/lib/python3.8/site-packages/pandas/core/generic.py:11201\u001B[0m, in \u001B[0;36mNDFrame.mean\u001B[0;34m(self, axis, skipna, numeric_only, **kwargs)\u001B[0m\n\u001B[1;32m  11194\u001B[0m \u001B[38;5;28;01mdef\u001B[39;00m \u001B[38;5;21mmean\u001B[39m(\n\u001B[1;32m  11195\u001B[0m     \u001B[38;5;28mself\u001B[39m,\n\u001B[1;32m  11196\u001B[0m     axis: Axis \u001B[38;5;241m|\u001B[39m \u001B[38;5;28;01mNone\u001B[39;00m \u001B[38;5;241m=\u001B[39m \u001B[38;5;241m0\u001B[39m,\n\u001B[0;32m   (...)\u001B[0m\n\u001B[1;32m  11199\u001B[0m     \u001B[38;5;241m*\u001B[39m\u001B[38;5;241m*\u001B[39mkwargs,\n\u001B[1;32m  11200\u001B[0m ) \u001B[38;5;241m-\u001B[39m\u001B[38;5;241m>\u001B[39m Series \u001B[38;5;241m|\u001B[39m \u001B[38;5;28mfloat\u001B[39m:\n\u001B[0;32m> 11201\u001B[0m     \u001B[38;5;28;01mreturn\u001B[39;00m \u001B[38;5;28;43mself\u001B[39;49m\u001B[38;5;241;43m.\u001B[39;49m\u001B[43m_stat_function\u001B[49m\u001B[43m(\u001B[49m\n\u001B[1;32m  11202\u001B[0m \u001B[43m        \u001B[49m\u001B[38;5;124;43m\"\u001B[39;49m\u001B[38;5;124;43mmean\u001B[39;49m\u001B[38;5;124;43m\"\u001B[39;49m\u001B[43m,\u001B[49m\u001B[43m \u001B[49m\u001B[43mnanops\u001B[49m\u001B[38;5;241;43m.\u001B[39;49m\u001B[43mnanmean\u001B[49m\u001B[43m,\u001B[49m\u001B[43m \u001B[49m\u001B[43maxis\u001B[49m\u001B[43m,\u001B[49m\u001B[43m \u001B[49m\u001B[43mskipna\u001B[49m\u001B[43m,\u001B[49m\u001B[43m \u001B[49m\u001B[43mnumeric_only\u001B[49m\u001B[43m,\u001B[49m\u001B[43m \u001B[49m\u001B[38;5;241;43m*\u001B[39;49m\u001B[38;5;241;43m*\u001B[39;49m\u001B[43mkwargs\u001B[49m\n\u001B[1;32m  11203\u001B[0m \u001B[43m    \u001B[49m\u001B[43m)\u001B[49m\n",
      "File \u001B[0;32m/opt/homebrew/Caskroom/miniconda/base/envs/datascience/lib/python3.8/site-packages/pandas/core/generic.py:11158\u001B[0m, in \u001B[0;36mNDFrame._stat_function\u001B[0;34m(self, name, func, axis, skipna, numeric_only, **kwargs)\u001B[0m\n\u001B[1;32m  11154\u001B[0m     nv\u001B[38;5;241m.\u001B[39mvalidate_stat_func((), kwargs, fname\u001B[38;5;241m=\u001B[39mname)\n\u001B[1;32m  11156\u001B[0m validate_bool_kwarg(skipna, \u001B[38;5;124m\"\u001B[39m\u001B[38;5;124mskipna\u001B[39m\u001B[38;5;124m\"\u001B[39m, none_allowed\u001B[38;5;241m=\u001B[39m\u001B[38;5;28;01mFalse\u001B[39;00m)\n\u001B[0;32m> 11158\u001B[0m \u001B[38;5;28;01mreturn\u001B[39;00m \u001B[38;5;28;43mself\u001B[39;49m\u001B[38;5;241;43m.\u001B[39;49m\u001B[43m_reduce\u001B[49m\u001B[43m(\u001B[49m\n\u001B[1;32m  11159\u001B[0m \u001B[43m    \u001B[49m\u001B[43mfunc\u001B[49m\u001B[43m,\u001B[49m\u001B[43m \u001B[49m\u001B[43mname\u001B[49m\u001B[38;5;241;43m=\u001B[39;49m\u001B[43mname\u001B[49m\u001B[43m,\u001B[49m\u001B[43m \u001B[49m\u001B[43maxis\u001B[49m\u001B[38;5;241;43m=\u001B[39;49m\u001B[43maxis\u001B[49m\u001B[43m,\u001B[49m\u001B[43m \u001B[49m\u001B[43mskipna\u001B[49m\u001B[38;5;241;43m=\u001B[39;49m\u001B[43mskipna\u001B[49m\u001B[43m,\u001B[49m\u001B[43m \u001B[49m\u001B[43mnumeric_only\u001B[49m\u001B[38;5;241;43m=\u001B[39;49m\u001B[43mnumeric_only\u001B[49m\n\u001B[1;32m  11160\u001B[0m \u001B[43m\u001B[49m\u001B[43m)\u001B[49m\n",
      "File \u001B[0;32m/opt/homebrew/Caskroom/miniconda/base/envs/datascience/lib/python3.8/site-packages/pandas/core/frame.py:10519\u001B[0m, in \u001B[0;36mDataFrame._reduce\u001B[0;34m(self, op, name, axis, skipna, numeric_only, filter_type, **kwds)\u001B[0m\n\u001B[1;32m  10515\u001B[0m     df \u001B[38;5;241m=\u001B[39m df\u001B[38;5;241m.\u001B[39mT\n\u001B[1;32m  10517\u001B[0m \u001B[38;5;66;03m# After possibly _get_data and transposing, we are now in the\u001B[39;00m\n\u001B[1;32m  10518\u001B[0m \u001B[38;5;66;03m#  simple case where we can use BlockManager.reduce\u001B[39;00m\n\u001B[0;32m> 10519\u001B[0m res \u001B[38;5;241m=\u001B[39m \u001B[43mdf\u001B[49m\u001B[38;5;241;43m.\u001B[39;49m\u001B[43m_mgr\u001B[49m\u001B[38;5;241;43m.\u001B[39;49m\u001B[43mreduce\u001B[49m\u001B[43m(\u001B[49m\u001B[43mblk_func\u001B[49m\u001B[43m)\u001B[49m\n\u001B[1;32m  10520\u001B[0m out \u001B[38;5;241m=\u001B[39m df\u001B[38;5;241m.\u001B[39m_constructor(res)\u001B[38;5;241m.\u001B[39miloc[\u001B[38;5;241m0\u001B[39m]\n\u001B[1;32m  10521\u001B[0m \u001B[38;5;28;01mif\u001B[39;00m out_dtype \u001B[38;5;129;01mis\u001B[39;00m \u001B[38;5;129;01mnot\u001B[39;00m \u001B[38;5;28;01mNone\u001B[39;00m:\n",
      "File \u001B[0;32m/opt/homebrew/Caskroom/miniconda/base/envs/datascience/lib/python3.8/site-packages/pandas/core/internals/managers.py:1534\u001B[0m, in \u001B[0;36mBlockManager.reduce\u001B[0;34m(self, func)\u001B[0m\n\u001B[1;32m   1532\u001B[0m res_blocks: \u001B[38;5;28mlist\u001B[39m[Block] \u001B[38;5;241m=\u001B[39m []\n\u001B[1;32m   1533\u001B[0m \u001B[38;5;28;01mfor\u001B[39;00m blk \u001B[38;5;129;01min\u001B[39;00m \u001B[38;5;28mself\u001B[39m\u001B[38;5;241m.\u001B[39mblocks:\n\u001B[0;32m-> 1534\u001B[0m     nbs \u001B[38;5;241m=\u001B[39m \u001B[43mblk\u001B[49m\u001B[38;5;241;43m.\u001B[39;49m\u001B[43mreduce\u001B[49m\u001B[43m(\u001B[49m\u001B[43mfunc\u001B[49m\u001B[43m)\u001B[49m\n\u001B[1;32m   1535\u001B[0m     res_blocks\u001B[38;5;241m.\u001B[39mextend(nbs)\n\u001B[1;32m   1537\u001B[0m index \u001B[38;5;241m=\u001B[39m Index([\u001B[38;5;28;01mNone\u001B[39;00m])  \u001B[38;5;66;03m# placeholder\u001B[39;00m\n",
      "File \u001B[0;32m/opt/homebrew/Caskroom/miniconda/base/envs/datascience/lib/python3.8/site-packages/pandas/core/internals/blocks.py:339\u001B[0m, in \u001B[0;36mBlock.reduce\u001B[0;34m(self, func)\u001B[0m\n\u001B[1;32m    333\u001B[0m \u001B[38;5;129m@final\u001B[39m\n\u001B[1;32m    334\u001B[0m \u001B[38;5;28;01mdef\u001B[39;00m \u001B[38;5;21mreduce\u001B[39m(\u001B[38;5;28mself\u001B[39m, func) \u001B[38;5;241m-\u001B[39m\u001B[38;5;241m>\u001B[39m \u001B[38;5;28mlist\u001B[39m[Block]:\n\u001B[1;32m    335\u001B[0m     \u001B[38;5;66;03m# We will apply the function and reshape the result into a single-row\u001B[39;00m\n\u001B[1;32m    336\u001B[0m     \u001B[38;5;66;03m#  Block with the same mgr_locs; squeezing will be done at a higher level\u001B[39;00m\n\u001B[1;32m    337\u001B[0m     \u001B[38;5;28;01massert\u001B[39;00m \u001B[38;5;28mself\u001B[39m\u001B[38;5;241m.\u001B[39mndim \u001B[38;5;241m==\u001B[39m \u001B[38;5;241m2\u001B[39m\n\u001B[0;32m--> 339\u001B[0m     result \u001B[38;5;241m=\u001B[39m \u001B[43mfunc\u001B[49m\u001B[43m(\u001B[49m\u001B[38;5;28;43mself\u001B[39;49m\u001B[38;5;241;43m.\u001B[39;49m\u001B[43mvalues\u001B[49m\u001B[43m)\u001B[49m\n\u001B[1;32m    341\u001B[0m     \u001B[38;5;28;01mif\u001B[39;00m \u001B[38;5;28mself\u001B[39m\u001B[38;5;241m.\u001B[39mvalues\u001B[38;5;241m.\u001B[39mndim \u001B[38;5;241m==\u001B[39m \u001B[38;5;241m1\u001B[39m:\n\u001B[1;32m    342\u001B[0m         \u001B[38;5;66;03m# TODO(EA2D): special case not needed with 2D EAs\u001B[39;00m\n\u001B[1;32m    343\u001B[0m         res_values \u001B[38;5;241m=\u001B[39m np\u001B[38;5;241m.\u001B[39marray([[result]])\n",
      "File \u001B[0;32m/opt/homebrew/Caskroom/miniconda/base/envs/datascience/lib/python3.8/site-packages/pandas/core/frame.py:10482\u001B[0m, in \u001B[0;36mDataFrame._reduce.<locals>.blk_func\u001B[0;34m(values, axis)\u001B[0m\n\u001B[1;32m  10480\u001B[0m     \u001B[38;5;28;01mreturn\u001B[39;00m values\u001B[38;5;241m.\u001B[39m_reduce(name, skipna\u001B[38;5;241m=\u001B[39mskipna, \u001B[38;5;241m*\u001B[39m\u001B[38;5;241m*\u001B[39mkwds)\n\u001B[1;32m  10481\u001B[0m \u001B[38;5;28;01melse\u001B[39;00m:\n\u001B[0;32m> 10482\u001B[0m     \u001B[38;5;28;01mreturn\u001B[39;00m \u001B[43mop\u001B[49m\u001B[43m(\u001B[49m\u001B[43mvalues\u001B[49m\u001B[43m,\u001B[49m\u001B[43m \u001B[49m\u001B[43maxis\u001B[49m\u001B[38;5;241;43m=\u001B[39;49m\u001B[43maxis\u001B[49m\u001B[43m,\u001B[49m\u001B[43m \u001B[49m\u001B[43mskipna\u001B[49m\u001B[38;5;241;43m=\u001B[39;49m\u001B[43mskipna\u001B[49m\u001B[43m,\u001B[49m\u001B[43m \u001B[49m\u001B[38;5;241;43m*\u001B[39;49m\u001B[38;5;241;43m*\u001B[39;49m\u001B[43mkwds\u001B[49m\u001B[43m)\u001B[49m\n",
      "File \u001B[0;32m/opt/homebrew/Caskroom/miniconda/base/envs/datascience/lib/python3.8/site-packages/pandas/core/nanops.py:96\u001B[0m, in \u001B[0;36mdisallow.__call__.<locals>._f\u001B[0;34m(*args, **kwargs)\u001B[0m\n\u001B[1;32m     94\u001B[0m \u001B[38;5;28;01mtry\u001B[39;00m:\n\u001B[1;32m     95\u001B[0m     \u001B[38;5;28;01mwith\u001B[39;00m np\u001B[38;5;241m.\u001B[39merrstate(invalid\u001B[38;5;241m=\u001B[39m\u001B[38;5;124m\"\u001B[39m\u001B[38;5;124mignore\u001B[39m\u001B[38;5;124m\"\u001B[39m):\n\u001B[0;32m---> 96\u001B[0m         \u001B[38;5;28;01mreturn\u001B[39;00m \u001B[43mf\u001B[49m\u001B[43m(\u001B[49m\u001B[38;5;241;43m*\u001B[39;49m\u001B[43margs\u001B[49m\u001B[43m,\u001B[49m\u001B[43m \u001B[49m\u001B[38;5;241;43m*\u001B[39;49m\u001B[38;5;241;43m*\u001B[39;49m\u001B[43mkwargs\u001B[49m\u001B[43m)\u001B[49m\n\u001B[1;32m     97\u001B[0m \u001B[38;5;28;01mexcept\u001B[39;00m \u001B[38;5;167;01mValueError\u001B[39;00m \u001B[38;5;28;01mas\u001B[39;00m e:\n\u001B[1;32m     98\u001B[0m     \u001B[38;5;66;03m# we want to transform an object array\u001B[39;00m\n\u001B[1;32m     99\u001B[0m     \u001B[38;5;66;03m# ValueError message to the more typical TypeError\u001B[39;00m\n\u001B[1;32m    100\u001B[0m     \u001B[38;5;66;03m# e.g. this is normally a disallowed function on\u001B[39;00m\n\u001B[1;32m    101\u001B[0m     \u001B[38;5;66;03m# object arrays that contain strings\u001B[39;00m\n\u001B[1;32m    102\u001B[0m     \u001B[38;5;28;01mif\u001B[39;00m is_object_dtype(args[\u001B[38;5;241m0\u001B[39m]):\n",
      "File \u001B[0;32m/opt/homebrew/Caskroom/miniconda/base/envs/datascience/lib/python3.8/site-packages/pandas/core/nanops.py:158\u001B[0m, in \u001B[0;36mbottleneck_switch.__call__.<locals>.f\u001B[0;34m(values, axis, skipna, **kwds)\u001B[0m\n\u001B[1;32m    156\u001B[0m         result \u001B[38;5;241m=\u001B[39m alt(values, axis\u001B[38;5;241m=\u001B[39maxis, skipna\u001B[38;5;241m=\u001B[39mskipna, \u001B[38;5;241m*\u001B[39m\u001B[38;5;241m*\u001B[39mkwds)\n\u001B[1;32m    157\u001B[0m \u001B[38;5;28;01melse\u001B[39;00m:\n\u001B[0;32m--> 158\u001B[0m     result \u001B[38;5;241m=\u001B[39m \u001B[43malt\u001B[49m\u001B[43m(\u001B[49m\u001B[43mvalues\u001B[49m\u001B[43m,\u001B[49m\u001B[43m \u001B[49m\u001B[43maxis\u001B[49m\u001B[38;5;241;43m=\u001B[39;49m\u001B[43maxis\u001B[49m\u001B[43m,\u001B[49m\u001B[43m \u001B[49m\u001B[43mskipna\u001B[49m\u001B[38;5;241;43m=\u001B[39;49m\u001B[43mskipna\u001B[49m\u001B[43m,\u001B[49m\u001B[43m \u001B[49m\u001B[38;5;241;43m*\u001B[39;49m\u001B[38;5;241;43m*\u001B[39;49m\u001B[43mkwds\u001B[49m\u001B[43m)\u001B[49m\n\u001B[1;32m    160\u001B[0m \u001B[38;5;28;01mreturn\u001B[39;00m result\n",
      "File \u001B[0;32m/opt/homebrew/Caskroom/miniconda/base/envs/datascience/lib/python3.8/site-packages/pandas/core/nanops.py:421\u001B[0m, in \u001B[0;36m_datetimelike_compat.<locals>.new_func\u001B[0;34m(values, axis, skipna, mask, **kwargs)\u001B[0m\n\u001B[1;32m    418\u001B[0m \u001B[38;5;28;01mif\u001B[39;00m datetimelike \u001B[38;5;129;01mand\u001B[39;00m mask \u001B[38;5;129;01mis\u001B[39;00m \u001B[38;5;28;01mNone\u001B[39;00m:\n\u001B[1;32m    419\u001B[0m     mask \u001B[38;5;241m=\u001B[39m isna(values)\n\u001B[0;32m--> 421\u001B[0m result \u001B[38;5;241m=\u001B[39m \u001B[43mfunc\u001B[49m\u001B[43m(\u001B[49m\u001B[43mvalues\u001B[49m\u001B[43m,\u001B[49m\u001B[43m \u001B[49m\u001B[43maxis\u001B[49m\u001B[38;5;241;43m=\u001B[39;49m\u001B[43maxis\u001B[49m\u001B[43m,\u001B[49m\u001B[43m \u001B[49m\u001B[43mskipna\u001B[49m\u001B[38;5;241;43m=\u001B[39;49m\u001B[43mskipna\u001B[49m\u001B[43m,\u001B[49m\u001B[43m \u001B[49m\u001B[43mmask\u001B[49m\u001B[38;5;241;43m=\u001B[39;49m\u001B[43mmask\u001B[49m\u001B[43m,\u001B[49m\u001B[43m \u001B[49m\u001B[38;5;241;43m*\u001B[39;49m\u001B[38;5;241;43m*\u001B[39;49m\u001B[43mkwargs\u001B[49m\u001B[43m)\u001B[49m\n\u001B[1;32m    423\u001B[0m \u001B[38;5;28;01mif\u001B[39;00m datetimelike:\n\u001B[1;32m    424\u001B[0m     result \u001B[38;5;241m=\u001B[39m _wrap_results(result, orig_values\u001B[38;5;241m.\u001B[39mdtype, fill_value\u001B[38;5;241m=\u001B[39miNaT)\n",
      "File \u001B[0;32m/opt/homebrew/Caskroom/miniconda/base/envs/datascience/lib/python3.8/site-packages/pandas/core/nanops.py:727\u001B[0m, in \u001B[0;36mnanmean\u001B[0;34m(values, axis, skipna, mask)\u001B[0m\n\u001B[1;32m    724\u001B[0m     dtype_count \u001B[38;5;241m=\u001B[39m dtype\n\u001B[1;32m    726\u001B[0m count \u001B[38;5;241m=\u001B[39m _get_counts(values\u001B[38;5;241m.\u001B[39mshape, mask, axis, dtype\u001B[38;5;241m=\u001B[39mdtype_count)\n\u001B[0;32m--> 727\u001B[0m the_sum \u001B[38;5;241m=\u001B[39m \u001B[43m_ensure_numeric\u001B[49m\u001B[43m(\u001B[49m\u001B[43mvalues\u001B[49m\u001B[38;5;241;43m.\u001B[39;49m\u001B[43msum\u001B[49m\u001B[43m(\u001B[49m\u001B[43maxis\u001B[49m\u001B[43m,\u001B[49m\u001B[43m \u001B[49m\u001B[43mdtype\u001B[49m\u001B[38;5;241;43m=\u001B[39;49m\u001B[43mdtype_sum\u001B[49m\u001B[43m)\u001B[49m\u001B[43m)\u001B[49m\n\u001B[1;32m    729\u001B[0m \u001B[38;5;28;01mif\u001B[39;00m axis \u001B[38;5;129;01mis\u001B[39;00m \u001B[38;5;129;01mnot\u001B[39;00m \u001B[38;5;28;01mNone\u001B[39;00m \u001B[38;5;129;01mand\u001B[39;00m \u001B[38;5;28mgetattr\u001B[39m(the_sum, \u001B[38;5;124m\"\u001B[39m\u001B[38;5;124mndim\u001B[39m\u001B[38;5;124m\"\u001B[39m, \u001B[38;5;28;01mFalse\u001B[39;00m):\n\u001B[1;32m    730\u001B[0m     count \u001B[38;5;241m=\u001B[39m cast(np\u001B[38;5;241m.\u001B[39mndarray, count)\n",
      "File \u001B[0;32m/opt/homebrew/Caskroom/miniconda/base/envs/datascience/lib/python3.8/site-packages/pandas/core/nanops.py:1686\u001B[0m, in \u001B[0;36m_ensure_numeric\u001B[0;34m(x)\u001B[0m\n\u001B[1;32m   1683\u001B[0m         x \u001B[38;5;241m=\u001B[39m x\u001B[38;5;241m.\u001B[39mastype(np\u001B[38;5;241m.\u001B[39mfloat64)\n\u001B[1;32m   1684\u001B[0m     \u001B[38;5;28;01mexcept\u001B[39;00m \u001B[38;5;167;01mValueError\u001B[39;00m \u001B[38;5;28;01mas\u001B[39;00m err:\n\u001B[1;32m   1685\u001B[0m         \u001B[38;5;66;03m# GH#29941 we get here with object arrays containing strs\u001B[39;00m\n\u001B[0;32m-> 1686\u001B[0m         \u001B[38;5;28;01mraise\u001B[39;00m \u001B[38;5;167;01mTypeError\u001B[39;00m(\u001B[38;5;124mf\u001B[39m\u001B[38;5;124m\"\u001B[39m\u001B[38;5;124mCould not convert \u001B[39m\u001B[38;5;132;01m{\u001B[39;00mx\u001B[38;5;132;01m}\u001B[39;00m\u001B[38;5;124m to numeric\u001B[39m\u001B[38;5;124m\"\u001B[39m) \u001B[38;5;28;01mfrom\u001B[39;00m \u001B[38;5;21;01merr\u001B[39;00m\n\u001B[1;32m   1687\u001B[0m \u001B[38;5;28;01melse\u001B[39;00m:\n\u001B[1;32m   1688\u001B[0m     \u001B[38;5;28;01mif\u001B[39;00m \u001B[38;5;129;01mnot\u001B[39;00m np\u001B[38;5;241m.\u001B[39many(np\u001B[38;5;241m.\u001B[39mimag(x)):\n",
      "\u001B[0;31mTypeError\u001B[0m: Could not convert ['User 1User 2User 3User 4User 5User 6User 7User 8User 9User 10User 11User 12User 13User 14User 15User 16User 17User 18User 19User 20User 21User 22User 23User 24User 25User 26User 27User 28User 29User 30User 31User 32User 33User 34User 35User 36User 37User 38User 39User 40User 41User 42User 43User 44User 45User 46User 47User 48User 49User 50User 51User 52User 53User 54User 55User 56User 57User 58User 59User 60User 61User 62User 63User 64User 65User 66User 67User 68User 69User 70User 71User 72User 73User 74User 75User 76User 77User 78User 79User 80User 81User 82User 83User 84User 85User 86User 87User 88User 89User 90User 91User 92User 93User 94User 95User 96User 97User 98User 99User 100User 101User 102User 103User 104User 105User 106User 107User 108User 109User 110User 111User 112User 113User 114User 115User 116User 117User 118User 119User 120User 121User 122User 123User 124User 125User 126User 127User 128User 129User 130User 131User 132User 133User 134User 135User 136User 137User 138User 139User 140User 141User 142User 143User 144User 145User 146User 147User 148User 149User 150User 151User 152User 153User 154User 155User 156User 157User 158User 159User 160User 161User 162User 163User 164User 165User 166User 167User 168User 169User 170User 171User 172User 173User 174User 175User 176User 177User 178User 179User 180User 181User 182User 183User 184User 185User 186User 187User 188User 189User 190User 191User 192User 193User 194User 195User 196User 197User 198User 199User 200User 201User 202User 203User 204User 205User 206User 207User 208User 209User 210User 211User 212User 213User 214User 215User 216User 217User 218User 219User 220User 221User 222User 223User 224User 225User 226User 227User 228User 229User 230User 231User 232User 233User 234User 235User 236User 237User 238User 239User 240User 241User 242User 243User 244User 245User 246User 247User 248User 249User 250User 251User 252User 253User 254User 255User 256User 257User 258User 259User 260User 261User 262User 263User 264User 265User 266User 267User 268User 269User 270User 271User 272User 273User 274User 275User 276User 277User 278User 279User 280User 281User 282User 283User 284User 285User 286User 287User 288User 289User 290User 291User 292User 293User 294User 295User 296User 297User 298User 299User 300User 301User 302User 303User 304User 305User 306User 307User 308User 309User 310User 311User 312User 313User 314User 315User 316User 317User 318User 319User 320User 321User 322User 323User 324User 325User 326User 327User 328User 329User 330User 331User 332User 333User 334User 335User 336User 337User 338User 339User 340User 341User 342User 343User 344User 345User 346User 347User 348User 349User 350User 351User 352User 353User 354User 355User 356User 357User 358User 359User 360User 361User 362User 363User 364User 365User 366User 367User 368User 369User 370User 371User 372User 373User 374User 375User 376User 377User 378User 379User 380User 381User 382User 383User 384User 385User 386User 387User 388User 389User 390User 391User 392User 393User 394User 395User 396User 397User 398User 399User 400User 401User 402User 403User 404User 405User 406User 407User 408User 409User 410User 411User 412User 413User 414User 415User 416User 417User 418User 419User 420User 421User 422User 423User 424User 425User 426User 427User 428User 429User 430User 431User 432User 433User 434User 435User 436User 437User 438User 439User 440User 441User 442User 443User 444User 445User 446User 447User 448User 449User 450User 451User 452User 453User 454User 455User 456User 457User 458User 459User 460User 461User 462User 463User 464User 465User 466User 467User 468User 469User 470User 471User 472User 473User 474User 475User 476User 477User 478User 479User 480User 481User 482User 483User 484User 485User 486User 487User 488User 489User 490User 491User 492User 493User 494User 495User 496User 497User 498User 499User 500User 501User 502User 503User 504User 505User 506User 507User 508User 509User 510User 511User 512User 513User 514User 515User 516User 517User 518User 519User 520User 521User 522User 523User 524User 525User 526User 527User 528User 529User 530User 531User 532User 533User 534User 535User 536User 537User 538User 539User 540User 541User 542User 543User 544User 545User 546User 547User 548User 549User 550User 551User 552User 553User 554User 555User 556User 557User 558User 559User 560User 561User 562User 563User 564User 565User 566User 567User 568User 569User 570User 571User 572User 573User 574User 575User 576User 577User 578User 579User 580User 581User 582User 583User 584User 585User 586User 587User 588User 589User 590User 591User 592User 593User 594User 595User 596User 597User 598User 599User 600User 601User 602User 603User 604User 605User 606User 607User 608User 609User 610User 611User 612User 613User 614User 615User 616User 617User 618User 619User 620User 621User 622User 623User 624User 625User 626User 627User 628User 629User 630User 631User 632User 633User 634User 635User 636User 637User 638User 639User 640User 641User 642User 643User 644User 645User 646User 647User 648User 649User 650User 651User 652User 653User 654User 655User 656User 657User 658User 659User 660User 661User 662User 663User 664User 665User 666User 667User 668User 669User 670User 671User 672User 673User 674User 675User 676User 677User 678User 679User 680User 681User 682User 683User 684User 685User 686User 687User 688User 689User 690User 691User 692User 693User 694User 695User 696User 697User 698User 699User 700User 701User 702User 703User 704User 705User 706User 707User 708User 709User 710User 711User 712User 713User 714User 715User 716User 717User 718User 719User 720User 721User 722User 723User 724User 725User 726User 727User 728User 729User 730User 731User 732User 733User 734User 735User 736User 737User 738User 739User 740User 741User 742User 743User 744User 745User 746User 747User 748User 749User 750User 751User 752User 753User 754User 755User 756User 757User 758User 759User 760User 761User 762User 763User 764User 765User 766User 767User 768User 769User 770User 771User 772User 773User 774User 775User 776User 777User 778User 779User 780User 781User 782User 783User 784User 785User 786User 787User 788User 789User 790User 791User 792User 793User 794User 795User 796User 797User 798User 799User 800User 801User 802User 803User 804User 805User 806User 807User 808User 809User 810User 811User 812User 813User 814User 815User 816User 817User 818User 819User 820User 821User 822User 823User 824User 825User 826User 827User 828User 829User 830User 831User 832User 833User 834User 835User 836User 837User 838User 839User 840User 841User 842User 843User 844User 845User 846User 847User 848User 849User 850User 851User 852User 853User 854User 855User 856User 857User 858User 859User 860User 861User 862User 863User 864User 865User 866User 867User 868User 869User 870User 871User 872User 873User 874User 875User 876User 877User 878User 879User 880User 881User 882User 883User 884User 885User 886User 887User 888User 889User 890User 891User 892User 893User 894User 895User 896User 897User 898User 899User 900User 901User 902User 903User 904User 905User 906User 907User 908User 909User 910User 911User 912User 913User 914User 915User 916User 917User 918User 919User 920User 921User 922User 923User 924User 925User 926User 927User 928User 929User 930User 931User 932User 933User 934User 935User 936User 937User 938User 939User 940User 941User 942User 943User 944User 945User 946User 947User 948User 949User 950User 951User 952User 953User 954User 955User 956User 957User 958User 959User 960User 961User 962User 963User 964User 965User 966User 967User 968User 969User 970User 971User 972User 973User 974User 975User 976User 977User 978User 979User 980User 981User 982User 983User 984User 985User 986User 987User 988User 989User 990User 991User 992User 993User 994User 995User 996User 997User 998User 999User 1000User 1001User 1002User 1003User 1004User 1005User 1006User 1007User 1008User 1009User 1010User 1011User 1012User 1013User 1014User 1015User 1016User 1017User 1018User 1019User 1020User 1021User 1022User 1023User 1024User 1025User 1026User 1027User 1028User 1029User 1030User 1031User 1032User 1033User 1034User 1035User 1036User 1037User 1038User 1039User 1040User 1041User 1042User 1043User 1044User 1045User 1046User 1047User 1048User 1049User 1050User 1051User 1052User 1053User 1054User 1055User 1056User 1057User 1058User 1059User 1060User 1061User 1062User 1063User 1064User 1065User 1066User 1067User 1068User 1069User 1070User 1071User 1072User 1073User 1074User 1075User 1076User 1077User 1078User 1079User 1080User 1081User 1082User 1083User 1084User 1085User 1086User 1087User 1088User 1089User 1090User 1091User 1092User 1093User 1094User 1095User 1096User 1097User 1098User 1099User 1100User 1101User 1102User 1103User 1104User 1105User 1106User 1107User 1108User 1109User 1110User 1111User 1112User 1113User 1114User 1115User 1116User 1117User 1118User 1119User 1120User 1121User 1122User 1123User 1124User 1125User 1126User 1127User 1128User 1129User 1130User 1131User 1132User 1133User 1134User 1135User 1136User 1137User 1138User 1139User 1140User 1141User 1142User 1143User 1144User 1145User 1146User 1147User 1148User 1149User 1150User 1151User 1152User 1153User 1154User 1155User 1156User 1157User 1158User 1159User 1160User 1161User 1162User 1163User 1164User 1165User 1166User 1167User 1168User 1169User 1170User 1171User 1172User 1173User 1174User 1175User 1176User 1177User 1178User 1179User 1180User 1181User 1182User 1183User 1184User 1185User 1186User 1187User 1188User 1189User 1190User 1191User 1192User 1193User 1194User 1195User 1196User 1197User 1198User 1199User 1200User 1201User 1202User 1203User 1204User 1205User 1206User 1207User 1208User 1209User 1210User 1211User 1212User 1213User 1214User 1215User 1216User 1217User 1218User 1219User 1220User 1221User 1222User 1223User 1224User 1225User 1226User 1227User 1228User 1229User 1230User 1231User 1232User 1233User 1234User 1235User 1236User 1237User 1238User 1239User 1240User 1241User 1242User 1243User 1244User 1245User 1246User 1247User 1248User 1249User 1250User 1251User 1252User 1253User 1254User 1255User 1256User 1257User 1258User 1259User 1260User 1261User 1262User 1263User 1264User 1265User 1266User 1267User 1268User 1269User 1270User 1271User 1272User 1273User 1274User 1275User 1276User 1277User 1278User 1279User 1280User 1281User 1282User 1283User 1284User 1285User 1286User 1287User 1288User 1289User 1290User 1291User 1292User 1293User 1294User 1295User 1296User 1297User 1298User 1299User 1300User 1301User 1302User 1303User 1304User 1305User 1306User 1307User 1308User 1309User 1310User 1311User 1312User 1313User 1314User 1315User 1316User 1317User 1318User 1319User 1320User 1321User 1322User 1323User 1324User 1325User 1326User 1327User 1328User 1329User 1330User 1331User 1332User 1333User 1334User 1335User 1336User 1337User 1338User 1339User 1340User 1341User 1342User 1343User 1344User 1345User 1346User 1347User 1348User 1349User 1350User 1351User 1352User 1353User 1354User 1355User 1356User 1357User 1358User 1359User 1360User 1361User 1362User 1363User 1364User 1365User 1366User 1367User 1368User 1369User 1370User 1371User 1372User 1373User 1374User 1375User 1376User 1377User 1378User 1379User 1380User 1381User 1382User 1383User 1384User 1385User 1386User 1387User 1388User 1389User 1390User 1391User 1392User 1393User 1394User 1395User 1396User 1397User 1398User 1399User 1400User 1401User 1402User 1403User 1404User 1405User 1406User 1407User 1408User 1409User 1410User 1411User 1412User 1413User 1414User 1415User 1416User 1417User 1418User 1419User 1420User 1421User 1422User 1423User 1424User 1425User 1426User 1427User 1428User 1429User 1430User 1431User 1432User 1433User 1434User 1435User 1436User 1437User 1438User 1439User 1440User 1441User 1442User 1443User 1444User 1445User 1446User 1447User 1448User 1449User 1450User 1451User 1452User 1453User 1454User 1455User 1456User 1457User 1458User 1459User 1460User 1461User 1462User 1463User 1464User 1465User 1466User 1467User 1468User 1469User 1470User 1471User 1472User 1473User 1474User 1475User 1476User 1477User 1478User 1479User 1480User 1481User 1482User 1483User 1484User 1485User 1486User 1487User 1488User 1489User 1490User 1491User 1492User 1493User 1494User 1495User 1496User 1497User 1498User 1499User 1500User 1501User 1502User 1503User 1504User 1505User 1506User 1507User 1508User 1509User 1510User 1511User 1512User 1513User 1514User 1515User 1516User 1517User 1518User 1519User 1520User 1521User 1522User 1523User 1524User 1525User 1526User 1527User 1528User 1529User 1530User 1531User 1532User 1533User 1534User 1535User 1536User 1537User 1538User 1539User 1540User 1541User 1542User 1543User 1544User 1545User 1546User 1547User 1548User 1549User 1550User 1551User 1552User 1553User 1554User 1555User 1556User 1557User 1558User 1559User 1560User 1561User 1562User 1563User 1564User 1565User 1566User 1567User 1568User 1569User 1570User 1571User 1572User 1573User 1574User 1575User 1576User 1577User 1578User 1579User 1580User 1581User 1582User 1583User 1584User 1585User 1586User 1587User 1588User 1589User 1590User 1591User 1592User 1593User 1594User 1595User 1596User 1597User 1598User 1599User 1600User 1601User 1602User 1603User 1604User 1605User 1606User 1607User 1608User 1609User 1610User 1611User 1612User 1613User 1614User 1615User 1616User 1617User 1618User 1619User 1620User 1621User 1622User 1623User 1624User 1625User 1626User 1627User 1628User 1629User 1630User 1631User 1632User 1633User 1634User 1635User 1636User 1637User 1638User 1639User 1640User 1641User 1642User 1643User 1644User 1645User 1646User 1647User 1648User 1649User 1650User 1651User 1652User 1653User 1654User 1655User 1656User 1657User 1658User 1659User 1660User 1661User 1662User 1663User 1664User 1665User 1666User 1667User 1668User 1669User 1670User 1671User 1672User 1673User 1674User 1675User 1676User 1677User 1678User 1679User 1680User 1681User 1682User 1683User 1684User 1685User 1686User 1687User 1688User 1689User 1690User 1691User 1692User 1693User 1694User 1695User 1696User 1697User 1698User 1699User 1700User 1701User 1702User 1703User 1704User 1705User 1706User 1707User 1708User 1709User 1710User 1711User 1712User 1713User 1714User 1715User 1716User 1717User 1718User 1719User 1720User 1721User 1722User 1723User 1724User 1725User 1726User 1727User 1728User 1729User 1730User 1731User 1732User 1733User 1734User 1735User 1736User 1737User 1738User 1739User 1740User 1741User 1742User 1743User 1744User 1745User 1746User 1747User 1748User 1749User 1750User 1751User 1752User 1753User 1754User 1755User 1756User 1757User 1758User 1759User 1760User 1761User 1762User 1763User 1764User 1765User 1766User 1767User 1768User 1769User 1770User 1771User 1772User 1773User 1774User 1775User 1776User 1777User 1778User 1779User 1780User 1781User 1782User 1783User 1784User 1785User 1786User 1787User 1788User 1789User 1790User 1791User 1792User 1793User 1794User 1795User 1796User 1797User 1798User 1799User 1800User 1801User 1802User 1803User 1804User 1805User 1806User 1807User 1808User 1809User 1810User 1811User 1812User 1813User 1814User 1815User 1816User 1817User 1818User 1819User 1820User 1821User 1822User 1823User 1824User 1825User 1826User 1827User 1828User 1829User 1830User 1831User 1832User 1833User 1834User 1835User 1836User 1837User 1838User 1839User 1840User 1841User 1842User 1843User 1844User 1845User 1846User 1847User 1848User 1849User 1850User 1851User 1852User 1853User 1854User 1855User 1856User 1857User 1858User 1859User 1860User 1861User 1862User 1863User 1864User 1865User 1866User 1867User 1868User 1869User 1870User 1871User 1872User 1873User 1874User 1875User 1876User 1877User 1878User 1879User 1880User 1881User 1882User 1883User 1884User 1885User 1886User 1887User 1888User 1889User 1890User 1891User 1892User 1893User 1894User 1895User 1896User 1897User 1898User 1899User 1900User 1901User 1902User 1903User 1904User 1905User 1906User 1907User 1908User 1909User 1910User 1911User 1912User 1913User 1914User 1915User 1916User 1917User 1918User 1919User 1920User 1921User 1922User 1923User 1924User 1925User 1926User 1927User 1928User 1929User 1930User 1931User 1932User 1933User 1934User 1935User 1936User 1937User 1938User 1939User 1940User 1941User 1942User 1943User 1944User 1945User 1946User 1947User 1948User 1949User 1950User 1951User 1952User 1953User 1954User 1955User 1956User 1957User 1958User 1959User 1960User 1961User 1962User 1963User 1964User 1965User 1966User 1967User 1968User 1969User 1970User 1971User 1972User 1973User 1974User 1975User 1976User 1977User 1978User 1979User 1980User 1981User 1982User 1983User 1984User 1985User 1986User 1987User 1988User 1989User 1990User 1991User 1992User 1993User 1994User 1995User 1996User 1997User 1998User 1999User 2000User 2001User 2002User 2003User 2004User 2005User 2006User 2007User 2008User 2009User 2010User 2011User 2012User 2013User 2014User 2015User 2016User 2017User 2018User 2019User 2020User 2021User 2022User 2023User 2024User 2025User 2026User 2027User 2028User 2029User 2030User 2031User 2032User 2033User 2034User 2035User 2036User 2037User 2038User 2039User 2040User 2041User 2042User 2043User 2044User 2045User 2046User 2047User 2048User 2049User 2050User 2051User 2052User 2053User 2054User 2055User 2056User 2057User 2058User 2059User 2060User 2061User 2062User 2063User 2064User 2065User 2066User 2067User 2068User 2069User 2070User 2071User 2072User 2073User 2074User 2075User 2076User 2077User 2078User 2079User 2080User 2081User 2082User 2083User 2084User 2085User 2086User 2087User 2088User 2089User 2090User 2091User 2092User 2093User 2094User 2095User 2096User 2097User 2098User 2099User 2100User 2101User 2102User 2103User 2104User 2105User 2106User 2107User 2108User 2109User 2110User 2111User 2112User 2113User 2114User 2115User 2116User 2117User 2118User 2119User 2120User 2121User 2122User 2123User 2124User 2125User 2126User 2127User 2128User 2129User 2130User 2131User 2132User 2133User 2134User 2135User 2136User 2137User 2138User 2139User 2140User 2141User 2142User 2143User 2144User 2145User 2146User 2147User 2148User 2149User 2150User 2151User 2152User 2153User 2154User 2155User 2156User 2157User 2158User 2159User 2160User 2161User 2162User 2163User 2164User 2165User 2166User 2167User 2168User 2169User 2170User 2171User 2172User 2173User 2174User 2175User 2176User 2177User 2178User 2179User 2180User 2181User 2182User 2183User 2184User 2185User 2186User 2187User 2188User 2189User 2190User 2191User 2192User 2193User 2194User 2195User 2196User 2197User 2198User 2199User 2200User 2201User 2202User 2203User 2204User 2205User 2206User 2207User 2208User 2209User 2210User 2211User 2212User 2213User 2214User 2215User 2216User 2217User 2218User 2219User 2220User 2221User 2222User 2223User 2224User 2225User 2226User 2227User 2228User 2229User 2230User 2231User 2232User 2233User 2234User 2235User 2236User 2237User 2238User 2239User 2240User 2241User 2242User 2243User 2244User 2245User 2246User 2247User 2248User 2249User 2250User 2251User 2252User 2253User 2254User 2255User 2256User 2257User 2258User 2259User 2260User 2261User 2262User 2263User 2264User 2265User 2266User 2267User 2268User 2269User 2270User 2271User 2272User 2273User 2274User 2275User 2276User 2277User 2278User 2279User 2280User 2281User 2282User 2283User 2284User 2285User 2286User 2287User 2288User 2289User 2290User 2291User 2292User 2293User 2294User 2295User 2296User 2297User 2298User 2299User 2300User 2301User 2302User 2303User 2304User 2305User 2306User 2307User 2308User 2309User 2310User 2311User 2312User 2313User 2314User 2315User 2316User 2317User 2318User 2319User 2320User 2321User 2322User 2323User 2324User 2325User 2326User 2327User 2328User 2329User 2330User 2331User 2332User 2333User 2334User 2335User 2336User 2337User 2338User 2339User 2340User 2341User 2342User 2343User 2344User 2345User 2346User 2347User 2348User 2349User 2350User 2351User 2352User 2353User 2354User 2355User 2356User 2357User 2358User 2359User 2360User 2361User 2362User 2363User 2364User 2365User 2366User 2367User 2368User 2369User 2370User 2371User 2372User 2373User 2374User 2375User 2376User 2377User 2378User 2379User 2380User 2381User 2382User 2383User 2384User 2385User 2386User 2387User 2388User 2389User 2390User 2391User 2392User 2393User 2394User 2395User 2396User 2397User 2398User 2399User 2400User 2401User 2402User 2403User 2404User 2405User 2406User 2407User 2408User 2409User 2410User 2411User 2412User 2413User 2414User 2415User 2416User 2417User 2418User 2419User 2420User 2421User 2422User 2423User 2424User 2425User 2426User 2427User 2428User 2429User 2430User 2431User 2432User 2433User 2434User 2435User 2436User 2437User 2438User 2439User 2440User 2441User 2442User 2443User 2444User 2445User 2446User 2447User 2448User 2449User 2450User 2451User 2452User 2453User 2454User 2455User 2456User 2457User 2458User 2459User 2460User 2461User 2462User 2463User 2464User 2465User 2466User 2467User 2468User 2469User 2470User 2471User 2472User 2473User 2474User 2475User 2476User 2477User 2478User 2479User 2480User 2481User 2482User 2483User 2484User 2485User 2486User 2487User 2488User 2489User 2490User 2491User 2492User 2493User 2494User 2495User 2496User 2497User 2498User 2499User 2500User 2501User 2502User 2503User 2504User 2505User 2506User 2507User 2508User 2509User 2510User 2511User 2512User 2513User 2514User 2515User 2516User 2517User 2518User 2519User 2520User 2521User 2522User 2523User 2524User 2525User 2526User 2527User 2528User 2529User 2530User 2531User 2532User 2533User 2534User 2535User 2536User 2537User 2538User 2539User 2540User 2541User 2542User 2543User 2544User 2545User 2546User 2547User 2548User 2549User 2550User 2551User 2552User 2553User 2554User 2555User 2556User 2557User 2558User 2559User 2560User 2561User 2562User 2563User 2564User 2565User 2566User 2567User 2568User 2569User 2570User 2571User 2572User 2573User 2574User 2575User 2576User 2577User 2578User 2579User 2580User 2581User 2582User 2583User 2584User 2585User 2586User 2587User 2588User 2589User 2590User 2591User 2592User 2593User 2594User 2595User 2596User 2597User 2598User 2599User 2600User 2601User 2602User 2603User 2604User 2605User 2606User 2607User 2608User 2609User 2610User 2611User 2612User 2613User 2614User 2615User 2616User 2617User 2618User 2619User 2620User 2621User 2622User 2623User 2624User 2625User 2626User 2627User 2628User 2629User 2630User 2631User 2632User 2633User 2634User 2635User 2636User 2637User 2638User 2639User 2640User 2641User 2642User 2643User 2644User 2645User 2646User 2647User 2648User 2649User 2650User 2651User 2652User 2653User 2654User 2655User 2656User 2657User 2658User 2659User 2660User 2661User 2662User 2663User 2664User 2665User 2666User 2667User 2668User 2669User 2670User 2671User 2672User 2673User 2674User 2675User 2676User 2677User 2678User 2679User 2680User 2681User 2682User 2683User 2684User 2685User 2686User 2687User 2688User 2689User 2690User 2691User 2692User 2693User 2694User 2695User 2696User 2697User 2698User 2699User 2700User 2701User 2702User 2703User 2704User 2705User 2706User 2707User 2708User 2709User 2710User 2711User 2712User 2713User 2714User 2715User 2716User 2717User 2718User 2719User 2720User 2721User 2722User 2723User 2724User 2725User 2726User 2727User 2728User 2729User 2730User 2731User 2732User 2733User 2734User 2735User 2736User 2737User 2738User 2739User 2740User 2741User 2742User 2743User 2744User 2745User 2746User 2747User 2748User 2749User 2750User 2751User 2752User 2753User 2754User 2755User 2756User 2757User 2758User 2759User 2760User 2761User 2762User 2763User 2764User 2765User 2766User 2767User 2768User 2769User 2770User 2771User 2772User 2773User 2774User 2775User 2776User 2777User 2778User 2779User 2780User 2781User 2782User 2783User 2784User 2785User 2786User 2787User 2788User 2789User 2790User 2791User 2792User 2793User 2794User 2795User 2796User 2797User 2798User 2799User 2800User 2801User 2802User 2803User 2804User 2805User 2806User 2807User 2808User 2809User 2810User 2811User 2812User 2813User 2814User 2815User 2816User 2817User 2818User 2819User 2820User 2821User 2822User 2823User 2824User 2825User 2826User 2827User 2828User 2829User 2830User 2831User 2832User 2833User 2834User 2835User 2836User 2837User 2838User 2839User 2840User 2841User 2842User 2843User 2844User 2845User 2846User 2847User 2848User 2849User 2850User 2851User 2852User 2853User 2854User 2855User 2856User 2857User 2858User 2859User 2860User 2861User 2862User 2863User 2864User 2865User 2866User 2867User 2868User 2869User 2870User 2871User 2872User 2873User 2874User 2875User 2876User 2877User 2878User 2879User 2880User 2881User 2882User 2883User 2884User 2885User 2886User 2887User 2888User 2889User 2890User 2891User 2892User 2893User 2894User 2895User 2896User 2897User 2898User 2899User 2900User 2901User 2902User 2903User 2904User 2905User 2906User 2907User 2908User 2909User 2910User 2911User 2912User 2913User 2914User 2915User 2916User 2917User 2918User 2919User 2920User 2921User 2922User 2923User 2924User 2925User 2926User 2927User 2928User 2929User 2930User 2931User 2932User 2933User 2934User 2935User 2936User 2937User 2938User 2939User 2940User 2941User 2942User 2943User 2944User 2945User 2946User 2947User 2948User 2949User 2950User 2951User 2952User 2953User 2954User 2955User 2956User 2957User 2958User 2959User 2960User 2961User 2962User 2963User 2964User 2965User 2966User 2967User 2968User 2969User 2970User 2971User 2972User 2973User 2974User 2975User 2976User 2977User 2978User 2979User 2980User 2981User 2982User 2983User 2984User 2985User 2986User 2987User 2988User 2989User 2990User 2991User 2992User 2993User 2994User 2995User 2996User 2997User 2998User 2999User 3000User 3001User 3002User 3003User 3004User 3005User 3006User 3007User 3008User 3009User 3010User 3011User 3012User 3013User 3014User 3015User 3016User 3017User 3018User 3019User 3020User 3021User 3022User 3023User 3024User 3025User 3026User 3027User 3028User 3029User 3030User 3031User 3032User 3033User 3034User 3035User 3036User 3037User 3038User 3039User 3040User 3041User 3042User 3043User 3044User 3045User 3046User 3047User 3048User 3049User 3050User 3051User 3052User 3053User 3054User 3055User 3056User 3057User 3058User 3059User 3060User 3061User 3062User 3063User 3064User 3065User 3066User 3067User 3068User 3069User 3070User 3071User 3072User 3073User 3074User 3075User 3076User 3077User 3078User 3079User 3080User 3081User 3082User 3083User 3084User 3085User 3086User 3087User 3088User 3089User 3090User 3091User 3092User 3093User 3094User 3095User 3096User 3097User 3098User 3099User 3100User 3101User 3102User 3103User 3104User 3105User 3106User 3107User 3108User 3109User 3110User 3111User 3112User 3113User 3114User 3115User 3116User 3117User 3118User 3119User 3120User 3121User 3122User 3123User 3124User 3125User 3126User 3127User 3128User 3129User 3130User 3131User 3132User 3133User 3134User 3135User 3136User 3137User 3138User 3139User 3140User 3141User 3142User 3143User 3144User 3145User 3146User 3147User 3148User 3149User 3150User 3151User 3152User 3153User 3154User 3155User 3156User 3157User 3158User 3159User 3160User 3161User 3162User 3163User 3164User 3165User 3166User 3167User 3168User 3169User 3170User 3171User 3172User 3173User 3174User 3175User 3176User 3177User 3178User 3179User 3180User 3181User 3182User 3183User 3184User 3185User 3186User 3187User 3188User 3189User 3190User 3191User 3192User 3193User 3194User 3195User 3196User 3197User 3198User 3199User 3200User 3201User 3202User 3203User 3204User 3205User 3206User 3207User 3208User 3209User 3210User 3211User 3212User 3213User 3214User 3215User 3216User 3217User 3218User 3219User 3220User 3221User 3222User 3223User 3224User 3225User 3226User 3227User 3228User 3229User 3230User 3231User 3232User 3233User 3234User 3235User 3236User 3237User 3238User 3239User 3240User 3241User 3242User 3243User 3244User 3245User 3246User 3247User 3248User 3249User 3250User 3251User 3252User 3253User 3254User 3255User 3256User 3257User 3258User 3259User 3260User 3261User 3262User 3263User 3264User 3265User 3266User 3267User 3268User 3269User 3270User 3271User 3272User 3273User 3274User 3275User 3276User 3277User 3278User 3279User 3280User 3281User 3282User 3283User 3284User 3285User 3286User 3287User 3288User 3289User 3290User 3291User 3292User 3293User 3294User 3295User 3296User 3297User 3298User 3299User 3300User 3301User 3302User 3303User 3304User 3305User 3306User 3307User 3308User 3309User 3310User 3311User 3312User 3313User 3314User 3315User 3316User 3317User 3318User 3319User 3320User 3321User 3322User 3323User 3324User 3325User 3326User 3327User 3328User 3329User 3330User 3331User 3332User 3333User 3334User 3335User 3336User 3337User 3338User 3339User 3340User 3341User 3342User 3343User 3344User 3345User 3346User 3347User 3348User 3349User 3350User 3351User 3352User 3353User 3354User 3355User 3356User 3357User 3358User 3359User 3360User 3361User 3362User 3363User 3364User 3365User 3366User 3367User 3368User 3369User 3370User 3371User 3372User 3373User 3374User 3375User 3376User 3377User 3378User 3379User 3380User 3381User 3382User 3383User 3384User 3385User 3386User 3387User 3388User 3389User 3390User 3391User 3392User 3393User 3394User 3395User 3396User 3397User 3398User 3399User 3400User 3401User 3402User 3403User 3404User 3405User 3406User 3407User 3408User 3409User 3410User 3411User 3412User 3413User 3414User 3415User 3416User 3417User 3418User 3419User 3420User 3421User 3422User 3423User 3424User 3425User 3426User 3427User 3428User 3429User 3430User 3431User 3432User 3433User 3434User 3435User 3436User 3437User 3438User 3439User 3440User 3441User 3442User 3443User 3444User 3445User 3446User 3447User 3448User 3449User 3450User 3451User 3452User 3453User 3454User 3455User 3456User 3457User 3458User 3459User 3460User 3461User 3462User 3463User 3464User 3465User 3466User 3467User 3468User 3469User 3470User 3471User 3472User 3473User 3474User 3475User 3476User 3477User 3478User 3479User 3480User 3481User 3482User 3483User 3484User 3485User 3486User 3487User 3488User 3489User 3490User 3491User 3492User 3493User 3494User 3495User 3496User 3497User 3498User 3499User 3500User 3501User 3502User 3503User 3504User 3505User 3506User 3507User 3508User 3509User 3510User 3511User 3512User 3513User 3514User 3515User 3516User 3517User 3518User 3519User 3520User 3521User 3522User 3523User 3524User 3525User 3526User 3527User 3528User 3529User 3530User 3531User 3532User 3533User 3534User 3535User 3536User 3537User 3538User 3539User 3540User 3541User 3542User 3543User 3544User 3545User 3546User 3547User 3548User 3549User 3550User 3551User 3552User 3553User 3554User 3555User 3556User 3557User 3558User 3559User 3560User 3561User 3562User 3563User 3564User 3565User 3566User 3567User 3568User 3569User 3570User 3571User 3572User 3573User 3574User 3575User 3576User 3577User 3578User 3579User 3580User 3581User 3582User 3583User 3584User 3585User 3586User 3587User 3588User 3589User 3590User 3591User 3592User 3593User 3594User 3595User 3596User 3597User 3598User 3599User 3600User 3601User 3602User 3603User 3604User 3605User 3606User 3607User 3608User 3609User 3610User 3611User 3612User 3613User 3614User 3615User 3616User 3617User 3618User 3619User 3620User 3621User 3622User 3623User 3624User 3625User 3626User 3627User 3628User 3629User 3630User 3631User 3632User 3633User 3634User 3635User 3636User 3637User 3638User 3639User 3640User 3641User 3642User 3643User 3644User 3645User 3646User 3647User 3648User 3649User 3650User 3651User 3652User 3653User 3654User 3655User 3656User 3657User 3658User 3659User 3660User 3661User 3662User 3663User 3664User 3665User 3666User 3667User 3668User 3669User 3670User 3671User 3672User 3673User 3674User 3675User 3676User 3677User 3678User 3679User 3680User 3681User 3682User 3683User 3684User 3685User 3686User 3687User 3688User 3689User 3690User 3691User 3692User 3693User 3694User 3695User 3696User 3697User 3698User 3699User 3700User 3701User 3702User 3703User 3704User 3705User 3706User 3707User 3708User 3709User 3710User 3711User 3712User 3713User 3714User 3715User 3716User 3717User 3718User 3719User 3720User 3721User 3722User 3723User 3724User 3725User 3726User 3727User 3728User 3729User 3730User 3731User 3732User 3733User 3734User 3735User 3736User 3737User 3738User 3739User 3740User 3741User 3742User 3743User 3744User 3745User 3746User 3747User 3748User 3749User 3750User 3751User 3752User 3753User 3754User 3755User 3756User 3757User 3758User 3759User 3760User 3761User 3762User 3763User 3764User 3765User 3766User 3767User 3768User 3769User 3770User 3771User 3772User 3773User 3774User 3775User 3776User 3777User 3778User 3779User 3780User 3781User 3782User 3783User 3784User 3785User 3786User 3787User 3788User 3789User 3790User 3791User 3792User 3793User 3794User 3795User 3796User 3797User 3798User 3799User 3800User 3801User 3802User 3803User 3804User 3805User 3806User 3807User 3808User 3809User 3810User 3811User 3812User 3813User 3814User 3815User 3816User 3817User 3818User 3819User 3820User 3821User 3822User 3823User 3824User 3825User 3826User 3827User 3828User 3829User 3830User 3831User 3832User 3833User 3834User 3835User 3836User 3837User 3838User 3839User 3840User 3841User 3842User 3843User 3844User 3845User 3846User 3847User 3848User 3849User 3850User 3851User 3852User 3853User 3854User 3855User 3856User 3857User 3858User 3859User 3860User 3861User 3862User 3863User 3864User 3865User 3866User 3867User 3868User 3869User 3870User 3871User 3872User 3873User 3874User 3875User 3876User 3877User 3878User 3879User 3880User 3881User 3882User 3883User 3884User 3885User 3886User 3887User 3888User 3889User 3890User 3891User 3892User 3893User 3894User 3895User 3896User 3897User 3898User 3899User 3900User 3901User 3902User 3903User 3904User 3905User 3906User 3907User 3908User 3909User 3910User 3911User 3912User 3913User 3914User 3915User 3916User 3917User 3918User 3919User 3920User 3921User 3922User 3923User 3924User 3925User 3926User 3927User 3928User 3929User 3930User 3931User 3932User 3933User 3934User 3935User 3936User 3937User 3938User 3939User 3940User 3941User 3942User 3943User 3944User 3945User 3946User 3947User 3948User 3949User 3950User 3951User 3952User 3953User 3954User 3955User 3956User 3957User 3958User 3959User 3960User 3961User 3962User 3963User 3964User 3965User 3966User 3967User 3968User 3969User 3970User 3971User 3972User 3973User 3974User 3975User 3976User 3977User 3978User 3979User 3980User 3981User 3982User 3983User 3984User 3985User 3986User 3987User 3988User 3989User 3990User 3991User 3992User 3993User 3994User 3995User 3996User 3997User 3998User 3999User 4000User 4001User 4002User 4003User 4004User 4005User 4006User 4007User 4008User 4009User 4010User 4011User 4012User 4013User 4014User 4015User 4016User 4017User 4018User 4019User 4020User 4021User 4022User 4023User 4024User 4025User 4026User 4027User 4028User 4029User 4030User 4031User 4032User 4033User 4034User 4035User 4036User 4037User 4038User 4039User 4040User 4041User 4042User 4043User 4044User 4045User 4046User 4047User 4048User 4049User 4050User 4051User 4052User 4053User 4054User 4055User 4056User 4057User 4058User 4059User 4060User 4061User 4062User 4063User 4064User 4065User 4066User 4067User 4068User 4069User 4070User 4071User 4072User 4073User 4074User 4075User 4076User 4077User 4078User 4079User 4080User 4081User 4082User 4083User 4084User 4085User 4086User 4087User 4088User 4089User 4090User 4091User 4092User 4093User 4094User 4095User 4096User 4097User 4098User 4099User 4100User 4101User 4102User 4103User 4104User 4105User 4106User 4107User 4108User 4109User 4110User 4111User 4112User 4113User 4114User 4115User 4116User 4117User 4118User 4119User 4120User 4121User 4122User 4123User 4124User 4125User 4126User 4127User 4128User 4129User 4130User 4131User 4132User 4133User 4134User 4135User 4136User 4137User 4138User 4139User 4140User 4141User 4142User 4143User 4144User 4145User 4146User 4147User 4148User 4149User 4150User 4151User 4152User 4153User 4154User 4155User 4156User 4157User 4158User 4159User 4160User 4161User 4162User 4163User 4164User 4165User 4166User 4167User 4168User 4169User 4170User 4171User 4172User 4173User 4174User 4175User 4176User 4177User 4178User 4179User 4180User 4181User 4182User 4183User 4184User 4185User 4186User 4187User 4188User 4189User 4190User 4191User 4192User 4193User 4194User 4195User 4196User 4197User 4198User 4199User 4200User 4201User 4202User 4203User 4204User 4205User 4206User 4207User 4208User 4209User 4210User 4211User 4212User 4213User 4214User 4215User 4216User 4217User 4218User 4219User 4220User 4221User 4222User 4223User 4224User 4225User 4226User 4227User 4228User 4229User 4230User 4231User 4232User 4233User 4234User 4235User 4236User 4237User 4238User 4239User 4240User 4241User 4242User 4243User 4244User 4245User 4246User 4247User 4248User 4249User 4250User 4251User 4252User 4253User 4254User 4255User 4256User 4257User 4258User 4259User 4260User 4261User 4262User 4263User 4264User 4265User 4266User 4267User 4268User 4269User 4270User 4271User 4272User 4273User 4274User 4275User 4276User 4277User 4278User 4279User 4280User 4281User 4282User 4283User 4284User 4285User 4286User 4287User 4288User 4289User 4290User 4291User 4292User 4293User 4294User 4295User 4296User 4297User 4298User 4299User 4300User 4301User 4302User 4303User 4304User 4305User 4306User 4307User 4308User 4309User 4310User 4311User 4312User 4313User 4314User 4315User 4316User 4317User 4318User 4319User 4320User 4321User 4322User 4323User 4324User 4325User 4326User 4327User 4328User 4329User 4330User 4331User 4332User 4333User 4334User 4335User 4336User 4337User 4338User 4339User 4340User 4341User 4342User 4343User 4344User 4345User 4346User 4347User 4348User 4349User 4350User 4351User 4352User 4353User 4354User 4355User 4356User 4357User 4358User 4359User 4360User 4361User 4362User 4363User 4364User 4365User 4366User 4367User 4368User 4369User 4370User 4371User 4372User 4373User 4374User 4375User 4376User 4377User 4378User 4379User 4380User 4381User 4382User 4383User 4384User 4385User 4386User 4387User 4388User 4389User 4390User 4391User 4392User 4393User 4394User 4395User 4396User 4397User 4398User 4399User 4400User 4401User 4402User 4403User 4404User 4405User 4406User 4407User 4408User 4409User 4410User 4411User 4412User 4413User 4414User 4415User 4416User 4417User 4418User 4419User 4420User 4421User 4422User 4423User 4424User 4425User 4426User 4427User 4428User 4429User 4430User 4431User 4432User 4433User 4434User 4435User 4436User 4437User 4438User 4439User 4440User 4441User 4442User 4443User 4444User 4445User 4446User 4447User 4448User 4449User 4450User 4451User 4452User 4453User 4454User 4455User 4456User 4457User 4458User 4459User 4460User 4461User 4462User 4463User 4464User 4465User 4466User 4467User 4468User 4469User 4470User 4471User 4472User 4473User 4474User 4475User 4476User 4477User 4478User 4479User 4480User 4481User 4482User 4483User 4484User 4485User 4486User 4487User 4488User 4489User 4490User 4491User 4492User 4493User 4494User 4495User 4496User 4497User 4498User 4499User 4500User 4501User 4502User 4503User 4504User 4505User 4506User 4507User 4508User 4509User 4510User 4511User 4512User 4513User 4514User 4515User 4516User 4517User 4518User 4519User 4520User 4521User 4522User 4523User 4524User 4525User 4526User 4527User 4528User 4529User 4530User 4531User 4532User 4533User 4534User 4535User 4536User 4537User 4538User 4539User 4540User 4541User 4542User 4543User 4544User 4545User 4546User 4547User 4548User 4549User 4550User 4551User 4552User 4553User 4554User 4555User 4556User 4557User 4558User 4559User 4560User 4561User 4562User 4563User 4564User 4565User 4566User 4567User 4568User 4569User 4570User 4571User 4572User 4573User 4574User 4575User 4576User 4577User 4578User 4579User 4580User 4581User 4582User 4583User 4584User 4585User 4586User 4587User 4588User 4589User 4590User 4591User 4592User 4593User 4594User 4595User 4596User 4597User 4598User 4599User 4600User 4601User 4602User 4603User 4604User 4605User 4606User 4607User 4608User 4609User 4610User 4611User 4612User 4613User 4614User 4615User 4616User 4617User 4618User 4619User 4620User 4621User 4622User 4623User 4624User 4625User 4626User 4627User 4628User 4629User 4630User 4631User 4632User 4633User 4634User 4635User 4636User 4637User 4638User 4639User 4640User 4641User 4642User 4643User 4644User 4645User 4646User 4647User 4648User 4649User 4650User 4651User 4652User 4653User 4654User 4655User 4656User 4657User 4658User 4659User 4660User 4661User 4662User 4663User 4664User 4665User 4666User 4667User 4668User 4669User 4670User 4671User 4672User 4673User 4674User 4675User 4676User 4677User 4678User 4679User 4680User 4681User 4682User 4683User 4684User 4685User 4686User 4687User 4688User 4689User 4690User 4691User 4692User 4693User 4694User 4695User 4696User 4697User 4698User 4699User 4700User 4701User 4702User 4703User 4704User 4705User 4706User 4707User 4708User 4709User 4710User 4711User 4712User 4713User 4714User 4715User 4716User 4717User 4718User 4719User 4720User 4721User 4722User 4723User 4724User 4725User 4726User 4727User 4728User 4729User 4730User 4731User 4732User 4733User 4734User 4735User 4736User 4737User 4738User 4739User 4740User 4741User 4742User 4743User 4744User 4745User 4746User 4747User 4748User 4749User 4750User 4751User 4752User 4753User 4754User 4755User 4756User 4757User 4758User 4759User 4760User 4761User 4762User 4763User 4764User 4765User 4766User 4767User 4768User 4769User 4770User 4771User 4772User 4773User 4774User 4775User 4776User 4777User 4778User 4779User 4780User 4781User 4782User 4783User 4784User 4785User 4786User 4787User 4788User 4789User 4790User 4791User 4792User 4793User 4794User 4795User 4796User 4797User 4798User 4799User 4800User 4801User 4802User 4803User 4804User 4805User 4806User 4807User 4808User 4809User 4810User 4811User 4812User 4813User 4814User 4815User 4816User 4817User 4818User 4819User 4820User 4821User 4822User 4823User 4824User 4825User 4826User 4827User 4828User 4829User 4830User 4831User 4832User 4833User 4834User 4835User 4836User 4837User 4838User 4839User 4840User 4841User 4842User 4843User 4844User 4845User 4846User 4847User 4848User 4849User 4850User 4851User 4852User 4853User 4854User 4855User 4856User 4857User 4858User 4859User 4860User 4861User 4862User 4863User 4864User 4865User 4866User 4867User 4868User 4869User 4870User 4871User 4872User 4873User 4874User 4875User 4876User 4877User 4878User 4879User 4880User 4881User 4882User 4883User 4884User 4885User 4886User 4887User 4888User 4889User 4890User 4891User 4892User 4893User 4894User 4895User 4896User 4897User 4898User 4899User 4900User 4901User 4902User 4903User 4904User 4905User 4906User 4907User 4908User 4909User 4910User 4911User 4912User 4913User 4914User 4915User 4916User 4917User 4918User 4919User 4920User 4921User 4922User 4923User 4924User 4925User 4926User 4927User 4928User 4929User 4930User 4931User 4932User 4933User 4934User 4935User 4936User 4937User 4938User 4939User 4940User 4941User 4942User 4943User 4944User 4945User 4946User 4947User 4948User 4949User 4950User 4951User 4952User 4953User 4954User 4955User 4956User 4957User 4958User 4959User 4960User 4961User 4962User 4963User 4964User 4965User 4966User 4967User 4968User 4969User 4970User 4971User 4972User 4973User 4974User 4975User 4976User 4977User 4978User 4979User 4980User 4981User 4982User 4983User 4984User 4985User 4986User 4987User 4988User 4989User 4990User 4991User 4992User 4993User 4994User 4995User 4996User 4997User 4998User 4999User 5000User 5001User 5002User 5003User 5004User 5005User 5006User 5007User 5008User 5009User 5010User 5011User 5012User 5013User 5014User 5015User 5016User 5017User 5018User 5019User 5020User 5021User 5022User 5023User 5024User 5025User 5026User 5027User 5028User 5029User 5030User 5031User 5032User 5033User 5034User 5035User 5036User 5037User 5038User 5039User 5040User 5041User 5042User 5043User 5044User 5045User 5046User 5047User 5048User 5049User 5050User 5051User 5052User 5053User 5054User 5055User 5056User 5057User 5058User 5059User 5060User 5061User 5062User 5063User 5064User 5065User 5066User 5067User 5068User 5069User 5070User 5071User 5072User 5073User 5074User 5075User 5076User 5077User 5078User 5079User 5080User 5081User 5082User 5083User 5084User 5085User 5086User 5087User 5088User 5089User 5090User 5091User 5092User 5093User 5094User 5095User 5096User 5097User 5098User 5099User 5100User 5101User 5102User 5103User 5104User 5105User 5106User 5107User 5108User 5109User 5110User 5111User 5112User 5113User 5114User 5115User 5116User 5117User 5118User 5119User 5120User 5121User 5122User 5123User 5124User 5125User 5126User 5127User 5128User 5129User 5130User 5131User 5132User 5133User 5134User 5135User 5136User 5137User 5138User 5139User 5140User 5141User 5142User 5143User 5144User 5145User 5146User 5147User 5148User 5149User 5150User 5151User 5152User 5153User 5154User 5155User 5156User 5157User 5158User 5159User 5160User 5161User 5162User 5163User 5164User 5165User 5166User 5167User 5168User 5169User 5170User 5171User 5172User 5173User 5174User 5175User 5176User 5177User 5178User 5179User 5180User 5181User 5182User 5183User 5184User 5185User 5186User 5187User 5188User 5189User 5190User 5191User 5192User 5193User 5194User 5195User 5196User 5197User 5198User 5199User 5200User 5201User 5202User 5203User 5204User 5205User 5206User 5207User 5208User 5209User 5210User 5211User 5212User 5213User 5214User 5215User 5216User 5217User 5218User 5219User 5220User 5221User 5222User 5223User 5224User 5225User 5226User 5227User 5228User 5229User 5230User 5231User 5232User 5233User 5234User 5235User 5236User 5237User 5238User 5239User 5240User 5241User 5242User 5243User 5244User 5245User 5246User 5247User 5248User 5249User 5250User 5251User 5252User 5253User 5254User 5255User 5256User 5257User 5258User 5259User 5260User 5261User 5262User 5263User 5264User 5265User 5266User 5267User 5268User 5269User 5270User 5271User 5272User 5273User 5274User 5275User 5276User 5277User 5278User 5279User 5280User 5281User 5282User 5283User 5284User 5285User 5286User 5287User 5288User 5289User 5290User 5291User 5292User 5293User 5294User 5295User 5296User 5297User 5298User 5299User 5300User 5301User 5302User 5303User 5304User 5305User 5306User 5307User 5308User 5309User 5310User 5311User 5312User 5313User 5314User 5315User 5316User 5317User 5318User 5319User 5320User 5321User 5322User 5323User 5324User 5325User 5326User 5327User 5328User 5329User 5330User 5331User 5332User 5333User 5334User 5335User 5336User 5337User 5338User 5339User 5340User 5341User 5342User 5343User 5344User 5345User 5346User 5347User 5348User 5349User 5350User 5351User 5352User 5353User 5354User 5355User 5356User 5357User 5358User 5359User 5360User 5361User 5362User 5363User 5364User 5365User 5366User 5367User 5368User 5369User 5370User 5371User 5372User 5373User 5374User 5375User 5376User 5377User 5378User 5379User 5380User 5381User 5382User 5383User 5384User 5385User 5386User 5387User 5388User 5389User 5390User 5391User 5392User 5393User 5394User 5395User 5396User 5397User 5398User 5399User 5400User 5401User 5402User 5403User 5404User 5405User 5406User 5407User 5408User 5409User 5410User 5411User 5412User 5413User 5414User 5415User 5416User 5417User 5418User 5419User 5420User 5421User 5422User 5423User 5424User 5425User 5426User 5427User 5428User 5429User 5430User 5431User 5432User 5433User 5434User 5435User 5436User 5437User 5438User 5439User 5440User 5441User 5442User 5443User 5444User 5445User 5446User 5447User 5448User 5449User 5450User 5451User 5452User 5453User 5454User 5455User 5456'] to numeric"
     ]
    }
   ],
   "source": [
    "data_no_missing = data_manipulated.fillna(data_manipulated.mean())"
   ]
  },
  {
   "cell_type": "code",
   "execution_count": null,
   "metadata": {
    "ExecuteTime": {
     "start_time": "2023-09-16T16:35:03.164991Z"
    }
   },
   "outputs": [],
   "source": [
    "# Rechecking missing values\n",
    "missing_values = data_no_missing.isnull().sum()\n",
    "\n",
    "# print the count of missing values\n",
    "print(missing_values)"
   ]
  },
  {
   "cell_type": "markdown",
   "metadata": {},
   "source": [
    "There are no missing values present in the data."
   ]
  },
  {
   "cell_type": "markdown",
   "metadata": {},
   "source": [
    "<a id='Exploratory_Data_Analysis'></a>\n",
    "## 7. Exploratory Data Analysis\n"
   ]
  },
  {
   "cell_type": "markdown",
   "metadata": {},
   "source": [
    "**PDF's of features**"
   ]
  },
  {
   "cell_type": "code",
   "execution_count": null,
   "metadata": {
    "ExecuteTime": {
     "start_time": "2023-09-16T16:35:03.166276Z"
    }
   },
   "outputs": [],
   "source": [
    "fig = data_no_missing.hist(figsize = (18,18))\n"
   ]
  },
  {
   "cell_type": "markdown",
   "metadata": {},
   "source": [
    "**Lets check if users have rated all the features**"
   ]
  },
  {
   "cell_type": "code",
   "execution_count": null,
   "metadata": {
    "ExecuteTime": {
     "start_time": "2023-09-16T16:35:03.167815Z"
    }
   },
   "outputs": [],
   "source": [
    "data_description = data_no_missing.describe() \n",
    "rated = data_description.loc['min'] > 0\n",
    "rated[rated]\n"
   ]
  },
  {
   "cell_type": "markdown",
   "metadata": {},
   "source": [
    "<table align='left'>\n",
    "    <tr>\n",
    "        <td width='8%'>\n",
    "            <img src='note.png'>\n",
    "        </td>\n",
    "        <td>\n",
    "            <div align='left', style='font-size:120%'>\n",
    "                    <b>The above 11 features have been given a rating by all the users as the minimum value is greater than 0\n",
    "</b>\n",
    "                </font>\n",
    "            </div>\n",
    "        </td>\n",
    "    </tr>\n",
    "</table>"
   ]
  },
  {
   "cell_type": "markdown",
   "metadata": {},
   "source": [
    "Visualizing number of reviews for each category"
   ]
  },
  {
   "cell_type": "code",
   "execution_count": null,
   "metadata": {
    "ExecuteTime": {
     "start_time": "2023-09-16T16:35:03.168999Z"
    }
   },
   "outputs": [],
   "source": [
    "# Creating the dataframe containg number of review for each feature\n",
    "reviews = data_no_missing[column_names[1:]].astype(bool).sum(axis=0).sort_values()\n",
    "reviews"
   ]
  },
  {
   "cell_type": "code",
   "execution_count": null,
   "metadata": {
    "ExecuteTime": {
     "start_time": "2023-09-16T16:35:03.170479Z"
    }
   },
   "outputs": [],
   "source": [
    "column_names = data_no_missing.columns.values"
   ]
  },
  {
   "cell_type": "code",
   "execution_count": null,
   "metadata": {
    "ExecuteTime": {
     "start_time": "2023-09-16T16:35:03.171739Z"
    }
   },
   "outputs": [],
   "source": [
    "plt.figure(figsize=(10,7))\n",
    "plt.barh(np.arange(len(column_names[1:])), reviews.values, align='center', alpha=0.5)\n",
    "plt.yticks(np.arange(len(column_names[1:])), reviews.index)\n",
    "plt.xlabel('No of reviews')\n",
    "plt.ylabel('Categories')\n",
    "plt.title('No of reviews under each category')"
   ]
  },
  {
   "cell_type": "markdown",
   "metadata": {},
   "source": [
    "**Now let's check how many users have given reviews to the features**"
   ]
  },
  {
   "cell_type": "code",
   "execution_count": null,
   "metadata": {
    "ExecuteTime": {
     "start_time": "2023-09-16T16:35:03.172932Z"
    }
   },
   "outputs": [],
   "source": [
    "# Creating a dataframe to store number of reviews by users\n",
    "no_of_reviews = data_no_missing[column_names[1:]].astype(bool).sum(axis=1).value_counts()\n",
    "no_of_reviews"
   ]
  },
  {
   "cell_type": "code",
   "execution_count": null,
   "metadata": {
    "ExecuteTime": {
     "start_time": "2023-09-16T16:35:03.174116Z"
    }
   },
   "outputs": [],
   "source": [
    "# Plotting the number of customers vs numbe of review\n",
    "plt.figure(figsize=(10,7))\n",
    "plt.bar(np.arange(len(no_of_reviews)), no_of_reviews.values, align='center', alpha=0.5)\n",
    "plt.xticks(np.arange(len(no_of_reviews)), no_of_reviews.index)\n",
    "plt.ylabel('No of reviews')\n",
    "plt.xlabel('No of categories')\n",
    "plt.title('No of Categories vs No of reviews')"
   ]
  },
  {
   "cell_type": "markdown",
   "metadata": {},
   "source": [
    "**Conclusion**\n",
    "\n",
    "Around 3500 users have given a rating for all the 24 categories and the least no of rating given by a user is 15. So for users with lesser number of ratings a recommender system can be built"
   ]
  },
  {
   "cell_type": "markdown",
   "metadata": {},
   "source": [
    "**Now let's check Average rating per feature**"
   ]
  },
  {
   "cell_type": "code",
   "execution_count": null,
   "metadata": {
    "ExecuteTime": {
     "start_time": "2023-09-16T16:35:03.175350Z"
    }
   },
   "outputs": [],
   "source": [
    "# Creating a dataframe to store average rating for each feature\n",
    "avg_rating = data_no_missing[column_names[1:]].mean() # average rating is calculated by dividing count by it's mean\n",
    "avg_rating = avg_rating.sort_values() # sorting the rating in increasing order\n",
    "avg_rating"
   ]
  },
  {
   "cell_type": "code",
   "execution_count": null,
   "metadata": {
    "scrolled": true,
    "ExecuteTime": {
     "start_time": "2023-09-16T16:35:03.176188Z"
    }
   },
   "outputs": [],
   "source": [
    "# Plotting average rating plots\n",
    "plt.figure(figsize=(10,7))\n",
    "plt.barh(np.arange(len(column_names[1:])), avg_rating.values, align='center', alpha=0.5)\n",
    "plt.yticks(np.arange(len(column_names[1:])), avg_rating.index)\n",
    "plt.xlabel('Average Rating')\n",
    "plt.title('Average rating per Category')"
   ]
  },
  {
   "cell_type": "markdown",
   "metadata": {},
   "source": [
    "Creating a id column"
   ]
  },
  {
   "cell_type": "code",
   "execution_count": null,
   "metadata": {
    "ExecuteTime": {
     "start_time": "2023-09-16T16:35:03.176960Z"
    }
   },
   "outputs": [],
   "source": [
    "data_1 = data_no_missing.copy()\n",
    "\n",
    "new = data_1['user_id'].str.split(' ',n=2,expand=True)\n",
    "data_1['user'] = new[0]\n",
    "data_1['id'] = new[1]\n",
    "data_1 = data_1.drop(['user_id','user'],axis=1)\n",
    "data_1.head()\n",
    "data_1.info()"
   ]
  },
  {
   "cell_type": "code",
   "execution_count": null,
   "metadata": {
    "ExecuteTime": {
     "start_time": "2023-09-16T16:35:03.177707Z"
    }
   },
   "outputs": [],
   "source": [
    "data_final = data_1.copy(deep = True)\n",
    "data_final.head()"
   ]
  },
  {
   "cell_type": "markdown",
   "metadata": {},
   "source": [
    "<a id='Hierarchical_Clustering'></a>\n",
    "## 8. Hierarchical Clustering"
   ]
  },
  {
   "cell_type": "markdown",
   "metadata": {},
   "source": [
    "**import relevant packages**"
   ]
  },
  {
   "cell_type": "code",
   "execution_count": null,
   "metadata": {
    "ExecuteTime": {
     "start_time": "2023-09-16T16:35:03.178489Z"
    }
   },
   "outputs": [],
   "source": [
    "import scipy.cluster.hierarchy as sch\n",
    "from sklearn.preprocessing import scale as s\n",
    "from scipy.cluster.hierarchy import dendrogram, linkage"
   ]
  },
  {
   "cell_type": "code",
   "execution_count": null,
   "metadata": {
    "ExecuteTime": {
     "start_time": "2023-09-16T16:35:03.179313Z"
    }
   },
   "outputs": [],
   "source": [
    "Z = sch.linkage(data_final,method='ward')\n",
    "Z\n"
   ]
  },
  {
   "cell_type": "code",
   "execution_count": null,
   "metadata": {
    "scrolled": true,
    "ExecuteTime": {
     "start_time": "2023-09-16T16:35:03.180323Z"
    }
   },
   "outputs": [],
   "source": [
    "# Creating and plotting a dendogram\n",
    "den = sch.dendrogram(Z)\n",
    "plt.tick_params(\n",
    "    axis='x',          \n",
    "    which='both',      \n",
    "    bottom=False,     \n",
    "    top=False,         \n",
    "    labelbottom=False) \n",
    "plt.title('Hierarchical Clustering')\n"
   ]
  },
  {
   "cell_type": "markdown",
   "metadata": {},
   "source": [
    "<table align='left'>\n",
    "    <tr>\n",
    "        <td width='8%'>\n",
    "            <img src='note.png'>\n",
    "        </td>\n",
    "        <td>\n",
    "            <div align='left', style='font-size:120%'>\n",
    "                    <b>The number of clusters will be the number of vertical lines which are being intersected by the line drawn using the threshold. So we need to determine the cutting line.</b>\n",
    "                </font>\n",
    "            </div>\n",
    "        </td>\n",
    "    </tr>\n",
    "</table>"
   ]
  },
  {
   "cell_type": "markdown",
   "metadata": {},
   "source": [
    "**Creating a function to determine the cutting line**\n"
   ]
  },
  {
   "cell_type": "code",
   "execution_count": null,
   "metadata": {
    "ExecuteTime": {
     "start_time": "2023-09-16T16:35:03.181103Z"
    }
   },
   "outputs": [],
   "source": [
    "def fd(*args, **kwargs):\n",
    "    max_d = kwargs.pop('max_d', None)\n",
    "    if max_d and 'color_threshold' not in kwargs:\n",
    "        kwargs['color_threshold'] = max_d\n",
    "    annotate_above = kwargs.pop('annotate_above', 0)\n",
    "\n",
    "    ddata = dendrogram(*args, **kwargs)\n",
    "\n",
    "    if not kwargs.get('no_plot', False):\n",
    "        plt.title('Hierarchical Clustering Dendrogram (truncated)')\n",
    "        plt.xlabel('sample index or (cluster size)')\n",
    "        plt.ylabel('distance')\n",
    "        for i, d, c in zip(ddata['icoord'], ddata['dcoord'], ddata['color_list']):\n",
    "            x = 0.5 * sum(i[1:3])\n",
    "            y = d[1]\n",
    "            if y > annotate_above:\n",
    "                plt.plot(x, y, 'o', c=c)\n",
    "                plt.annotate(\"%.3g\" % y, (x, y), xytext=(0, -5),\n",
    "                             textcoords='offset points',\n",
    "                             va='top', ha='center')\n",
    "        if max_d:\n",
    "            plt.axhline(y=max_d, c='k')\n",
    "    return ddata"
   ]
  },
  {
   "cell_type": "markdown",
   "metadata": {},
   "source": [
    "**Creating a dendogram with cutting line**"
   ]
  },
  {
   "cell_type": "markdown",
   "metadata": {},
   "source": [
    "Observing the height of each dendrogram division we decided to go with 80000 where the line would be drawn and 30000 to determine the dendrogram nodes"
   ]
  },
  {
   "cell_type": "code",
   "execution_count": 64,
   "metadata": {
    "ExecuteTime": {
     "start_time": "2023-09-16T16:35:03.187788Z"
    }
   },
   "outputs": [
    {
     "ename": "NameError",
     "evalue": "name 'fd' is not defined",
     "output_type": "error",
     "traceback": [
      "\u001B[0;31m---------------------------------------------------------------------------\u001B[0m",
      "\u001B[0;31mNameError\u001B[0m                                 Traceback (most recent call last)",
      "Cell \u001B[0;32mIn[64], line 1\u001B[0m\n\u001B[0;32m----> 1\u001B[0m \u001B[43mfd\u001B[49m(Z,leaf_rotation\u001B[38;5;241m=\u001B[39m\u001B[38;5;241m90.\u001B[39m,show_contracted\u001B[38;5;241m=\u001B[39m\u001B[38;5;28;01mTrue\u001B[39;00m,annotate_above\u001B[38;5;241m=\u001B[39m\u001B[38;5;241m30000\u001B[39m,max_d\u001B[38;5;241m=\u001B[39m\u001B[38;5;241m80000\u001B[39m)\n\u001B[1;32m      2\u001B[0m plt\u001B[38;5;241m.\u001B[39mtick_params(\n\u001B[1;32m      3\u001B[0m     axis\u001B[38;5;241m=\u001B[39m\u001B[38;5;124m'\u001B[39m\u001B[38;5;124mx\u001B[39m\u001B[38;5;124m'\u001B[39m,          \n\u001B[1;32m      4\u001B[0m     which\u001B[38;5;241m=\u001B[39m\u001B[38;5;124m'\u001B[39m\u001B[38;5;124mboth\u001B[39m\u001B[38;5;124m'\u001B[39m,      \n\u001B[1;32m      5\u001B[0m     bottom\u001B[38;5;241m=\u001B[39m\u001B[38;5;28;01mFalse\u001B[39;00m,     \n\u001B[1;32m      6\u001B[0m     top\u001B[38;5;241m=\u001B[39m\u001B[38;5;28;01mFalse\u001B[39;00m,         \n\u001B[1;32m      7\u001B[0m     labelbottom\u001B[38;5;241m=\u001B[39m\u001B[38;5;28;01mFalse\u001B[39;00m)\n",
      "\u001B[0;31mNameError\u001B[0m: name 'fd' is not defined"
     ]
    }
   ],
   "source": [
    "fd(Z,leaf_rotation=90.,show_contracted=True,annotate_above=30000,max_d=80000)\n",
    "plt.tick_params(\n",
    "    axis='x',          \n",
    "    which='both',      \n",
    "    bottom=False,     \n",
    "    top=False,         \n",
    "    labelbottom=False)"
   ]
  },
  {
   "cell_type": "markdown",
   "metadata": {},
   "source": [
    "<table align='left'>\n",
    "    <tr>\n",
    "        <td width='8%'>\n",
    "            <img src='note.png'>\n",
    "        </td>\n",
    "        <td>\n",
    "            <div align='left', style='font-size:120%'>\n",
    "                    <b>We can see that there are basically 2 clusters possible</b>\n",
    "                </font>\n",
    "            </div>\n",
    "        </td>\n",
    "    </tr>\n",
    "</table>"
   ]
  },
  {
   "cell_type": "markdown",
   "metadata": {},
   "source": [
    "**Creating a hierarchical clustering model**"
   ]
  },
  {
   "cell_type": "code",
   "execution_count": 65,
   "metadata": {
    "ExecuteTime": {
     "end_time": "2023-09-16T16:35:03.746350Z",
     "start_time": "2023-09-16T16:35:03.191116Z"
    }
   },
   "outputs": [],
   "source": [
    "# Importing packages\n",
    "from sklearn.cluster import AgglomerativeClustering "
   ]
  },
  {
   "cell_type": "code",
   "execution_count": 66,
   "metadata": {
    "ExecuteTime": {
     "end_time": "2023-09-16T16:35:03.762869Z",
     "start_time": "2023-09-16T16:35:03.193598Z"
    }
   },
   "outputs": [],
   "source": [
    "# Creating a Agglomerative Clustering\n",
    "hc_model = AgglomerativeClustering(n_clusters = 2, affinity = 'euclidean', linkage ='ward')"
   ]
  },
  {
   "cell_type": "code",
   "execution_count": 67,
   "metadata": {
    "ExecuteTime": {
     "start_time": "2023-09-16T16:35:03.201714Z"
    }
   },
   "outputs": [
    {
     "ename": "NameError",
     "evalue": "name 'data_final' is not defined",
     "output_type": "error",
     "traceback": [
      "\u001B[0;31m---------------------------------------------------------------------------\u001B[0m",
      "\u001B[0;31mNameError\u001B[0m                                 Traceback (most recent call last)",
      "Cell \u001B[0;32mIn[67], line 2\u001B[0m\n\u001B[1;32m      1\u001B[0m \u001B[38;5;66;03m# Fitting the model\u001B[39;00m\n\u001B[0;32m----> 2\u001B[0m y_cluster \u001B[38;5;241m=\u001B[39m hc_model\u001B[38;5;241m.\u001B[39mfit_predict(\u001B[43mdata_final\u001B[49m)\n",
      "\u001B[0;31mNameError\u001B[0m: name 'data_final' is not defined"
     ]
    }
   ],
   "source": [
    "# Fitting the model\n",
    "y_cluster = hc_model.fit_predict(data_final)"
   ]
  },
  {
   "cell_type": "markdown",
   "metadata": {},
   "source": [
    "Adding the cluster column"
   ]
  },
  {
   "cell_type": "code",
   "execution_count": null,
   "metadata": {
    "ExecuteTime": {
     "start_time": "2023-09-16T16:35:03.204568Z"
    }
   },
   "outputs": [],
   "source": [
    "data_clustered = data_final.copy()"
   ]
  },
  {
   "cell_type": "code",
   "execution_count": null,
   "metadata": {
    "ExecuteTime": {
     "start_time": "2023-09-16T16:35:03.205538Z"
    }
   },
   "outputs": [],
   "source": [
    "data_clustered[\"Cluster\"] = y_cluster.astype('object')"
   ]
  },
  {
   "cell_type": "code",
   "execution_count": null,
   "metadata": {
    "ExecuteTime": {
     "start_time": "2023-09-16T16:35:03.206707Z"
    }
   },
   "outputs": [],
   "source": [
    "data_clustered.head()"
   ]
  },
  {
   "cell_type": "markdown",
   "metadata": {},
   "source": [
    "**Visualizing the clusters**"
   ]
  },
  {
   "cell_type": "code",
   "execution_count": null,
   "metadata": {
    "ExecuteTime": {
     "start_time": "2023-09-16T16:35:03.207575Z"
    }
   },
   "outputs": [],
   "source": [
    "cols = list(data_final.columns)\n",
    "#cols.remove(\"user_id\")\n",
    "cols"
   ]
  },
  {
   "cell_type": "code",
   "execution_count": null,
   "metadata": {
    "scrolled": true,
    "ExecuteTime": {
     "start_time": "2023-09-16T16:35:03.208263Z"
    }
   },
   "outputs": [],
   "source": [
    "sns.pairplot(data_clustered, hue=\"Cluster\", diag_kind=\"hist\")"
   ]
  },
  {
   "cell_type": "markdown",
   "metadata": {},
   "source": [
    "<a id='Conclusion'></a>\n",
    "## 9. Conclusion"
   ]
  },
  {
   "cell_type": "markdown",
   "metadata": {},
   "source": [
    "By using heirarchical clustering we clustered review into two category, positive review and a negeative review"
   ]
  },
  {
   "cell_type": "code",
   "execution_count": 68,
   "metadata": {
    "ExecuteTime": {
     "start_time": "2023-09-16T16:35:03.219691Z"
    }
   },
   "outputs": [
    {
     "ename": "NameError",
     "evalue": "name 'data_clustered' is not defined",
     "output_type": "error",
     "traceback": [
      "\u001B[0;31m---------------------------------------------------------------------------\u001B[0m",
      "\u001B[0;31mNameError\u001B[0m                                 Traceback (most recent call last)",
      "Cell \u001B[0;32mIn[68], line 1\u001B[0m\n\u001B[0;32m----> 1\u001B[0m result \u001B[38;5;241m=\u001B[39m \u001B[43mdata_clustered\u001B[49m\u001B[38;5;241m.\u001B[39mcopy()\n",
      "\u001B[0;31mNameError\u001B[0m: name 'data_clustered' is not defined"
     ]
    }
   ],
   "source": [
    "result = data_clustered.copy()"
   ]
  },
  {
   "cell_type": "code",
   "execution_count": null,
   "metadata": {
    "ExecuteTime": {
     "start_time": "2023-09-16T16:35:03.222481Z"
    }
   },
   "outputs": [],
   "source": [
    "result.replace({'Cluster' : 1} , 'Positive' , inplace=True)\n",
    "result.replace({'Cluster' : 0} , 'Negeative' , inplace= True)\n"
   ]
  },
  {
   "cell_type": "code",
   "execution_count": null,
   "metadata": {
    "ExecuteTime": {
     "start_time": "2023-09-16T16:35:03.223697Z"
    }
   },
   "outputs": [],
   "source": [
    "result.head()"
   ]
  },
  {
   "cell_type": "code",
   "execution_count": null,
   "metadata": {
    "ExecuteTime": {
     "start_time": "2023-09-16T16:35:03.224836Z"
    }
   },
   "outputs": [],
   "source": []
  }
 ],
 "metadata": {
  "kernelspec": {
   "display_name": "Python 3",
   "language": "python",
   "name": "python3"
  },
  "language_info": {
   "codemirror_mode": {
    "name": "ipython",
    "version": 3
   },
   "file_extension": ".py",
   "mimetype": "text/x-python",
   "name": "python",
   "nbconvert_exporter": "python",
   "pygments_lexer": "ipython3",
   "version": "3.8.5"
  }
 },
 "nbformat": 4,
 "nbformat_minor": 4
}
