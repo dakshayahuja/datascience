{
 "cells": [
  {
   "cell_type": "code",
   "execution_count": null,
   "metadata": {},
   "outputs": [],
   "source": [
    "import pandas as pd\n",
    "import matplotlib.pyplot as plt\n",
    "import seaborn as sns\n",
    "sns.set()\n",
    "import warnings\n",
    "warnings.filterwarnings(\"ignore\")"
   ]
  },
  {
   "cell_type": "markdown",
   "metadata": {
    "id": "xLlaqIPTdDfF"
   },
   "source": [
    "### 1. Create a Dataframe from the given data, perform basic EDA and check if data cleaning is required."
   ]
  },
  {
   "cell_type": "code",
   "execution_count": null,
   "metadata": {},
   "outputs": [],
   "source": [
    "data = pd.read_csv(\"xAPI-Edu-Dataset.csv\")\n",
    "data.info()"
   ]
  },
  {
   "cell_type": "code",
   "execution_count": null,
   "metadata": {},
   "outputs": [],
   "source": [
    "data.rename(columns={\"gender\":\"Gender\" ,\"NationalITy\":\"Nationality\", \"PlaceofBirth\":\"PlaceOfBirth\", \"raisedhands\":\"RaisedHands\", \"VisITedResources\":\"VisitedResources\", \"ParentschoolSatisfaction\":\"ParentSchoolSatisfaction\"}, inplace=True)"
   ]
  },
  {
   "cell_type": "code",
   "execution_count": null,
   "metadata": {},
   "outputs": [],
   "source": [
    "data.head()"
   ]
  },
  {
   "cell_type": "code",
   "execution_count": null,
   "metadata": {},
   "outputs": [],
   "source": [
    "data.describe(include='all')"
   ]
  },
  {
   "cell_type": "code",
   "execution_count": null,
   "metadata": {},
   "outputs": [],
   "source": [
    "for item in data:\n",
    "    print(item, data[item].isna().sum())"
   ]
  },
  {
   "cell_type": "markdown",
   "metadata": {
    "id": "Lv7I1nG5c4um"
   },
   "source": [
    "### 2. Visualize just the categorical features individually to see what options are included and how each option fares when it comes to count(how many times it appears) and see what can be deduce from that?"
   ]
  },
  {
   "cell_type": "code",
   "execution_count": null,
   "metadata": {},
   "outputs": [],
   "source": [
    "fig, axs = plt.subplots(2,1, figsize=(10,10))\n",
    "sns.countplot(data, y=\"Nationality\", ax=axs[0], palette=\"tab20\")\n",
    "axs[0].set_title('Count Plot of Nationality')\n",
    "sns.countplot(data, y=\"Topic\", ax=axs[1], palette=\"tab20\")\n",
    "axs[1].set_title('Count Plot of Topic')\n",
    "plt.show()"
   ]
  },
  {
   "cell_type": "code",
   "execution_count": null,
   "metadata": {},
   "outputs": [],
   "source": [
    "fig, axs = plt.subplots(2,2, figsize=(10,10))\n",
    "sns.countplot(x='Class', data=data, ax=axs[0,0], order=['L','M','H'], palette=\"Paired\")\n",
    "sns.countplot(x='StageID', data=data, ax=axs[0,1], palette=\"Paired\")\n",
    "sns.countplot(x='Gender', data=data, ax=axs[1,0], order=['M','F'], palette=\"Paired\")\n",
    "sns.countplot(x='Semester', data=data, ax=axs[1,1], palette=\"Paired\")\n",
    "plt.show()"
   ]
  },
  {
   "cell_type": "markdown",
   "source": [
    "###### Countries having the majority : KW(Kuwait) & Jordan\n",
    "###### Topic having the majority : IT"
   ],
   "metadata": {
    "collapsed": false
   }
  },
  {
   "cell_type": "markdown",
   "metadata": {
    "id": "2JCCbxEPc4ut"
   },
   "source": [
    "### 3. Look at some categorical features in relation to each other, to see what insights could be possibly read?"
   ]
  },
  {
   "cell_type": "code",
   "execution_count": null,
   "metadata": {},
   "outputs": [],
   "source": [
    "fig, axs = plt.subplots(2,2,figsize=(10,10))\n",
    "sns.color_palette(\"mako\", as_cmap=True)\n",
    "sns.countplot(data, x=\"Topic\", hue=\"Gender\", ax=axs[0,0], palette=\"Set2\")\n",
    "axs[0,0].tick_params(axis='x', rotation=90)\n",
    "sns.countplot(data, x=\"StageID\", hue=\"Gender\", ax=axs[0,1], palette=\"Set2\")\n",
    "sns.countplot(data, x=\"StudentAbsenceDays\" ,hue=\"Gender\", ax=axs[1,0], palette=\"Set2\")\n",
    "sns.countplot(data, x=\"ParentAnsweringSurvey\", hue=\"Gender\",ax=axs[1,1], palette=\"Set2\")\n",
    "plt.show()"
   ]
  },
  {
   "cell_type": "markdown",
   "source": [
    "##### There are more number of boys than girls in almost all topics.\n",
    "##### Girls have fewer leaves than boys."
   ],
   "metadata": {
    "collapsed": false
   }
  },
  {
   "cell_type": "markdown",
   "metadata": {
    "id": "Ouo92ybBc4uu"
   },
   "source": [
    "\n",
    "### 4. Visualize categorical variables with numerical variables and give conclusions?\n"
   ]
  },
  {
   "cell_type": "code",
   "execution_count": null,
   "metadata": {
    "id": "Tha1quBFc4uv"
   },
   "outputs": [],
   "source": [
    "fig, axs  = plt.subplots(2,2,figsize=(10,10))\n",
    "sns.barplot(x='Class', y='VisitedResources', data=data, order=['L','M','H'], ax=axs[0,0], hue='Gender',palette=\"RdYlBu\")\n",
    "sns.barplot(x='Class', y='RaisedHands', data=data, order=['L','M','H'], ax=axs[0,1],hue='Gender',palette=\"RdYlBu\")\n",
    "sns.barplot(x='Class', y='AnnouncementsView', data=data, order=['L','M','H'], ax=axs[1,0],hue='Gender',palette=\"RdYlBu\")\n",
    "sns.barplot(x='Class', y='Discussion', data=data, order=['L','M','H'], ax=axs[1,1],hue='Gender',palette=\"RdYlBu\")\n",
    "plt.show()"
   ]
  },
  {
   "cell_type": "code",
   "execution_count": null,
   "outputs": [],
   "source": [
    "fig, axs  = plt.subplots(2,1,figsize=(10,10))\n",
    "sns.stripplot(x='Semester', y='RaisedHands', data=data, ax=axs[0], hue='Gender',palette=\"BuPu\")\n",
    "sns.swarmplot(x='Class', y='RaisedHands', data=data, ax=axs[1],hue='Gender',palette=\"BuPu\")\n",
    "plt.show()"
   ],
   "metadata": {
    "collapsed": false
   }
  },
  {
   "cell_type": "code",
   "execution_count": null,
   "outputs": [],
   "source": [
    "fig, axs  = plt.subplots(1,2,figsize=(15,5))\n",
    "sns.pointplot(x='Semester', y='AnnouncementsView', data=data, ax=axs[0],hue='Gender',palette=\"Pastel1\")\n",
    "sns.pointplot(x='Semester', y='VisitedResources', data=data, ax=axs[1],hue='Gender',palette=\"Pastel1\")\n",
    "plt.show()"
   ],
   "metadata": {
    "collapsed": false
   }
  },
  {
   "cell_type": "markdown",
   "source": [
    "##### Announcements and VisitedResources count increased in the second semester as compared to first.\n",
    "##### The more the student participated in discussions, etc. the better his performance was."
   ],
   "metadata": {
    "collapsed": false
   }
  },
  {
   "cell_type": "markdown",
   "source": [
    "### 5. From the above result, what are the factors that leads to get low grades of the students?"
   ],
   "metadata": {
    "collapsed": false
   }
  },
  {
   "cell_type": "code",
   "execution_count": null,
   "metadata": {
    "collapsed": true,
    "id": "39tnHul2c4uv"
   },
   "outputs": [],
   "source": []
  },
  {
   "cell_type": "markdown",
   "metadata": {
    "id": "zIhV3Dtsc4uw"
   },
   "source": [
    "### 6. Build classification model using Logistic Regression and present it's confusion matrix and classification report."
   ]
  },
  {
   "cell_type": "code",
   "execution_count": 20,
   "metadata": {
    "collapsed": true,
    "id": "-WiXewvsc4uw",
    "ExecuteTime": {
     "end_time": "2023-09-11T07:59:38.690782Z",
     "start_time": "2023-09-11T07:59:38.684147Z"
    }
   },
   "outputs": [],
   "source": [
    "x = data.iloc[:, :-1].values\n",
    "y = data.iloc[:, -1].values"
   ]
  },
  {
   "cell_type": "markdown",
   "metadata": {
    "id": "K3TEmFnJdhQr"
   },
   "source": [
    "### 7. Justify the model. Tune the model using various techniques, if need be."
   ]
  },
  {
   "cell_type": "code",
   "execution_count": null,
   "metadata": {
    "id": "ONUgSu50dhzp"
   },
   "outputs": [],
   "source": []
  }
 ],
 "metadata": {
  "colab": {
   "provenance": []
  },
  "kernelspec": {
   "display_name": "Python 3 (ipykernel)",
   "language": "python",
   "name": "python3"
  },
  "language_info": {
   "codemirror_mode": {
    "name": "ipython",
    "version": 3
   },
   "file_extension": ".py",
   "mimetype": "text/x-python",
   "name": "python",
   "nbconvert_exporter": "python",
   "pygments_lexer": "ipython3",
   "version": "3.9.17"
  }
 },
 "nbformat": 4,
 "nbformat_minor": 1
}
