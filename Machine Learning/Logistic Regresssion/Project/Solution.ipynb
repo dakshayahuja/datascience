{
 "cells": [
  {
   "cell_type": "markdown",
   "source": [
    "### IMPORTING LIBRARIES"
   ],
   "metadata": {
    "collapsed": false
   },
   "id": "f77220c93c68d9cc"
  },
  {
   "cell_type": "code",
   "execution_count": 29,
   "id": "initial_id",
   "metadata": {
    "collapsed": true,
    "ExecuteTime": {
     "end_time": "2023-09-07T03:33:58.314929Z",
     "start_time": "2023-09-07T03:33:58.261411Z"
    }
   },
   "outputs": [],
   "source": [
    "import numpy as np\n",
    "import pandas as pd\n",
    "from sklearn.impute import SimpleImputer\n",
    "from category_encoders import BinaryEncoder\n",
    "from sklearn.model_selection import train_test_split\n",
    "from sklearn.preprocessing import StandardScaler\n",
    "from sklearn.linear_model import LogisticRegression\n",
    "from sklearn.metrics import confusion_matrix, accuracy_score\n",
    "from sklearn.model_selection import StratifiedKFold, cross_val_score\n",
    "from sklearn.feature_selection import RFE, RFECV, SelectKBest, chi2, VarianceThreshold\n",
    "from warnings import filterwarnings\n",
    "filterwarnings('ignore')"
   ]
  },
  {
   "cell_type": "markdown",
   "source": [
    "### IMPORTING DATA"
   ],
   "metadata": {
    "collapsed": false
   },
   "id": "b476417bd96ba9c7"
  },
  {
   "cell_type": "code",
   "execution_count": 30,
   "outputs": [],
   "source": [
    "data = pd.read_csv(\"h1n1_vaccine_prediction.csv\")\n",
    "x = data.iloc[:, :-1]\n",
    "y = data.iloc[:, -1].values\n",
    "# data"
   ],
   "metadata": {
    "collapsed": false,
    "ExecuteTime": {
     "end_time": "2023-09-07T03:33:58.349990Z",
     "start_time": "2023-09-07T03:33:58.267524Z"
    }
   },
   "id": "4a34f050a714fc3c"
  },
  {
   "cell_type": "markdown",
   "source": [
    "### CLEANING DATA"
   ],
   "metadata": {
    "collapsed": false
   },
   "id": "bd095fd8247776e2"
  },
  {
   "cell_type": "markdown",
   "source": [
    "#### Filling Columns having nan with Mode"
   ],
   "metadata": {
    "collapsed": false
   },
   "id": "b3de71f7a976bd6a"
  },
  {
   "cell_type": "code",
   "execution_count": 31,
   "outputs": [],
   "source": [
    "imp = SimpleImputer(missing_values=np.nan, strategy='most_frequent')\n",
    "x.iloc[:, 1:10] = imp.fit_transform(x.iloc[:,1:10])\n",
    "x.iloc[:, 12:23] = imp.fit_transform(x.iloc[:,12:23])\n",
    "x.iloc[:, [29,31,32]] = imp.fit_transform(x.iloc[:,[29,31,32]])"
   ],
   "metadata": {
    "collapsed": false,
    "ExecuteTime": {
     "end_time": "2023-09-07T03:33:58.439255Z",
     "start_time": "2023-09-07T03:33:58.332290Z"
    }
   },
   "id": "efe21449088167a9"
  },
  {
   "cell_type": "markdown",
   "source": [
    "#### Filling columns having extreme nan's with their least count element to reduce skewness"
   ],
   "metadata": {
    "collapsed": false
   },
   "id": "b43ab624be4c8475"
  },
  {
   "cell_type": "code",
   "execution_count": 32,
   "outputs": [],
   "source": [
    "indices = [10,11,23,26,27,28]\n",
    "for index in indices:\n",
    "    col = x.iloc[:, index]\n",
    "    val_counts = col.value_counts(dropna=True)\n",
    "    min_item = val_counts.idxmin()\n",
    "    x.iloc[:, index].fillna(min_item, inplace=True)"
   ],
   "metadata": {
    "collapsed": false,
    "ExecuteTime": {
     "end_time": "2023-09-07T03:33:58.451977Z",
     "start_time": "2023-09-07T03:33:58.441618Z"
    }
   },
   "id": "b247513fcd2231cb"
  },
  {
   "cell_type": "markdown",
   "source": [
    "#### Checking for number of nan's in each column"
   ],
   "metadata": {
    "collapsed": false
   },
   "id": "242079df1480e54a"
  },
  {
   "cell_type": "code",
   "execution_count": 33,
   "outputs": [
    {
     "name": "stdout",
     "output_type": "stream",
     "text": [
      "unique_id 0\n",
      "h1n1_worry 0\n",
      "h1n1_awareness 0\n",
      "antiviral_medication 0\n",
      "contact_avoidance 0\n",
      "bought_face_mask 0\n",
      "wash_hands_frequently 0\n",
      "avoid_large_gatherings 0\n",
      "reduced_outside_home_cont 0\n",
      "avoid_touch_face 0\n",
      "dr_recc_h1n1_vacc 0\n",
      "dr_recc_seasonal_vacc 0\n",
      "chronic_medic_condition 0\n",
      "cont_child_undr_6_mnths 0\n",
      "is_health_worker 0\n",
      "has_health_insur 0\n",
      "is_h1n1_vacc_effective 0\n",
      "is_h1n1_risky 0\n",
      "sick_from_h1n1_vacc 0\n",
      "is_seas_vacc_effective 0\n",
      "is_seas_risky 0\n",
      "sick_from_seas_vacc 0\n",
      "age_bracket 0\n",
      "qualification 0\n",
      "race 0\n",
      "sex 0\n",
      "income_level 0\n",
      "marital_status 0\n",
      "housing_status 0\n",
      "employment 0\n",
      "census_msa 0\n",
      "no_of_adults 0\n",
      "no_of_children 0\n"
     ]
    }
   ],
   "source": [
    "for col in x:\n",
    "    print(col, x[col].isna().sum())"
   ],
   "metadata": {
    "collapsed": false,
    "ExecuteTime": {
     "end_time": "2023-09-07T03:33:58.464321Z",
     "start_time": "2023-09-07T03:33:58.454749Z"
    }
   },
   "id": "e32371996d14a31a"
  },
  {
   "cell_type": "markdown",
   "source": [
    "### APPLYING BINARY ENCODING"
   ],
   "metadata": {
    "collapsed": false
   },
   "id": "a16d700fa9e1c8a2"
  },
  {
   "cell_type": "code",
   "execution_count": 34,
   "outputs": [],
   "source": [
    "binEncoder = BinaryEncoder()\n",
    "x = np.array(binEncoder.fit_transform(x))"
   ],
   "metadata": {
    "collapsed": false,
    "ExecuteTime": {
     "end_time": "2023-09-07T03:33:58.625580Z",
     "start_time": "2023-09-07T03:33:58.465955Z"
    }
   },
   "id": "42b350505e7068c2"
  },
  {
   "cell_type": "markdown",
   "source": [
    "### SPLITTING THE DATA INTO TEST, TRAIN"
   ],
   "metadata": {
    "collapsed": false
   },
   "id": "136b95d7e2580e85"
  },
  {
   "cell_type": "code",
   "execution_count": 35,
   "outputs": [],
   "source": [
    "x_train, x_test, y_train, y_test = train_test_split(x,y, test_size=0.2, random_state=0)"
   ],
   "metadata": {
    "collapsed": false,
    "ExecuteTime": {
     "end_time": "2023-09-07T03:33:58.633365Z",
     "start_time": "2023-09-07T03:33:58.627497Z"
    }
   },
   "id": "1c99c495350a4722"
  },
  {
   "cell_type": "markdown",
   "source": [
    "### FEATURE SCALING"
   ],
   "metadata": {
    "collapsed": false
   },
   "id": "c0d39bf43f886954"
  },
  {
   "cell_type": "code",
   "execution_count": 36,
   "outputs": [],
   "source": [
    "sc = StandardScaler()\n",
    "x_train = sc.fit_transform(x_train)\n",
    "x_test = sc.transform(x_test)"
   ],
   "metadata": {
    "collapsed": false,
    "ExecuteTime": {
     "end_time": "2023-09-07T03:33:58.643825Z",
     "start_time": "2023-09-07T03:33:58.634883Z"
    }
   },
   "id": "51e0348870152866"
  },
  {
   "cell_type": "markdown",
   "source": [
    "### TRAINING THE LOGISTIC REGRESSION MODEL"
   ],
   "metadata": {
    "collapsed": false
   },
   "id": "78e44f1c1d856034"
  },
  {
   "cell_type": "code",
   "execution_count": 37,
   "outputs": [
    {
     "data": {
      "text/plain": "LogisticRegression(max_iter=1000, random_state=0)",
      "text/html": "<style>#sk-container-id-3 {color: black;}#sk-container-id-3 pre{padding: 0;}#sk-container-id-3 div.sk-toggleable {background-color: white;}#sk-container-id-3 label.sk-toggleable__label {cursor: pointer;display: block;width: 100%;margin-bottom: 0;padding: 0.3em;box-sizing: border-box;text-align: center;}#sk-container-id-3 label.sk-toggleable__label-arrow:before {content: \"▸\";float: left;margin-right: 0.25em;color: #696969;}#sk-container-id-3 label.sk-toggleable__label-arrow:hover:before {color: black;}#sk-container-id-3 div.sk-estimator:hover label.sk-toggleable__label-arrow:before {color: black;}#sk-container-id-3 div.sk-toggleable__content {max-height: 0;max-width: 0;overflow: hidden;text-align: left;background-color: #f0f8ff;}#sk-container-id-3 div.sk-toggleable__content pre {margin: 0.2em;color: black;border-radius: 0.25em;background-color: #f0f8ff;}#sk-container-id-3 input.sk-toggleable__control:checked~div.sk-toggleable__content {max-height: 200px;max-width: 100%;overflow: auto;}#sk-container-id-3 input.sk-toggleable__control:checked~label.sk-toggleable__label-arrow:before {content: \"▾\";}#sk-container-id-3 div.sk-estimator input.sk-toggleable__control:checked~label.sk-toggleable__label {background-color: #d4ebff;}#sk-container-id-3 div.sk-label input.sk-toggleable__control:checked~label.sk-toggleable__label {background-color: #d4ebff;}#sk-container-id-3 input.sk-hidden--visually {border: 0;clip: rect(1px 1px 1px 1px);clip: rect(1px, 1px, 1px, 1px);height: 1px;margin: -1px;overflow: hidden;padding: 0;position: absolute;width: 1px;}#sk-container-id-3 div.sk-estimator {font-family: monospace;background-color: #f0f8ff;border: 1px dotted black;border-radius: 0.25em;box-sizing: border-box;margin-bottom: 0.5em;}#sk-container-id-3 div.sk-estimator:hover {background-color: #d4ebff;}#sk-container-id-3 div.sk-parallel-item::after {content: \"\";width: 100%;border-bottom: 1px solid gray;flex-grow: 1;}#sk-container-id-3 div.sk-label:hover label.sk-toggleable__label {background-color: #d4ebff;}#sk-container-id-3 div.sk-serial::before {content: \"\";position: absolute;border-left: 1px solid gray;box-sizing: border-box;top: 0;bottom: 0;left: 50%;z-index: 0;}#sk-container-id-3 div.sk-serial {display: flex;flex-direction: column;align-items: center;background-color: white;padding-right: 0.2em;padding-left: 0.2em;position: relative;}#sk-container-id-3 div.sk-item {position: relative;z-index: 1;}#sk-container-id-3 div.sk-parallel {display: flex;align-items: stretch;justify-content: center;background-color: white;position: relative;}#sk-container-id-3 div.sk-item::before, #sk-container-id-3 div.sk-parallel-item::before {content: \"\";position: absolute;border-left: 1px solid gray;box-sizing: border-box;top: 0;bottom: 0;left: 50%;z-index: -1;}#sk-container-id-3 div.sk-parallel-item {display: flex;flex-direction: column;z-index: 1;position: relative;background-color: white;}#sk-container-id-3 div.sk-parallel-item:first-child::after {align-self: flex-end;width: 50%;}#sk-container-id-3 div.sk-parallel-item:last-child::after {align-self: flex-start;width: 50%;}#sk-container-id-3 div.sk-parallel-item:only-child::after {width: 0;}#sk-container-id-3 div.sk-dashed-wrapped {border: 1px dashed gray;margin: 0 0.4em 0.5em 0.4em;box-sizing: border-box;padding-bottom: 0.4em;background-color: white;}#sk-container-id-3 div.sk-label label {font-family: monospace;font-weight: bold;display: inline-block;line-height: 1.2em;}#sk-container-id-3 div.sk-label-container {text-align: center;}#sk-container-id-3 div.sk-container {/* jupyter's `normalize.less` sets `[hidden] { display: none; }` but bootstrap.min.css set `[hidden] { display: none !important; }` so we also need the `!important` here to be able to override the default hidden behavior on the sphinx rendered scikit-learn.org. See: https://github.com/scikit-learn/scikit-learn/issues/21755 */display: inline-block !important;position: relative;}#sk-container-id-3 div.sk-text-repr-fallback {display: none;}</style><div id=\"sk-container-id-3\" class=\"sk-top-container\"><div class=\"sk-text-repr-fallback\"><pre>LogisticRegression(max_iter=1000, random_state=0)</pre><b>In a Jupyter environment, please rerun this cell to show the HTML representation or trust the notebook. <br />On GitHub, the HTML representation is unable to render, please try loading this page with nbviewer.org.</b></div><div class=\"sk-container\" hidden><div class=\"sk-item\"><div class=\"sk-estimator sk-toggleable\"><input class=\"sk-toggleable__control sk-hidden--visually\" id=\"sk-estimator-id-3\" type=\"checkbox\" checked><label for=\"sk-estimator-id-3\" class=\"sk-toggleable__label sk-toggleable__label-arrow\">LogisticRegression</label><div class=\"sk-toggleable__content\"><pre>LogisticRegression(max_iter=1000, random_state=0)</pre></div></div></div></div></div>"
     },
     "execution_count": 37,
     "metadata": {},
     "output_type": "execute_result"
    }
   ],
   "source": [
    "classifier = LogisticRegression(random_state = 0, max_iter=1000)\n",
    "classifier.fit(x_train, y_train)"
   ],
   "metadata": {
    "collapsed": false,
    "ExecuteTime": {
     "end_time": "2023-09-07T03:33:58.778434Z",
     "start_time": "2023-09-07T03:33:58.644998Z"
    }
   },
   "id": "b574c0ecf2adb911"
  },
  {
   "cell_type": "markdown",
   "source": [
    "### CONFUSION MATRIX"
   ],
   "metadata": {
    "collapsed": false
   },
   "id": "8bc0dbb349a60987"
  },
  {
   "cell_type": "code",
   "execution_count": 38,
   "outputs": [
    {
     "name": "stdout",
     "output_type": "stream",
     "text": [
      "[[3931  241]\n",
      " [ 745  425]]\n"
     ]
    }
   ],
   "source": [
    "y_pred = classifier.predict(x_test)\n",
    "print(confusion_matrix(y_test, y_pred))"
   ],
   "metadata": {
    "collapsed": false,
    "ExecuteTime": {
     "end_time": "2023-09-07T03:33:58.799837Z",
     "start_time": "2023-09-07T03:33:58.771973Z"
    }
   },
   "id": "8a32d9b7a22bf127"
  },
  {
   "cell_type": "markdown",
   "source": [
    "#### ACCURACY SCORE"
   ],
   "metadata": {
    "collapsed": false
   },
   "id": "7a1cd46ebef08bb5"
  },
  {
   "cell_type": "code",
   "execution_count": 39,
   "outputs": [
    {
     "name": "stdout",
     "output_type": "stream",
     "text": [
      "Accuracy score is 81.54%\n"
     ]
    }
   ],
   "source": [
    "acc = accuracy_score(y_test, y_pred) * 100\n",
    "print(\"Accuracy score is {}%\".format(round(acc,2)))"
   ],
   "metadata": {
    "collapsed": false,
    "ExecuteTime": {
     "end_time": "2023-09-07T03:33:58.853767Z",
     "start_time": "2023-09-07T03:33:58.810939Z"
    }
   },
   "id": "8fd64e4bad85e815"
  },
  {
   "cell_type": "markdown",
   "source": [
    "### STRATIFIED K-FOLD VALIDATION"
   ],
   "metadata": {
    "collapsed": false
   },
   "id": "a3ee1b1d4d2fac93"
  },
  {
   "cell_type": "code",
   "execution_count": 40,
   "outputs": [
    {
     "name": "stdout",
     "output_type": "stream",
     "text": [
      "Accuracy Score: 80.43%\n",
      "Accuracy Deviation: 1.02%\n"
     ]
    }
   ],
   "source": [
    "stfKF = StratifiedKFold(n_splits=5)\n",
    "accuracy_score = cross_val_score(classifier, x,y, cv=stfKF)\n",
    "acc_mean = accuracy_score.mean() * 100\n",
    "acc_std = accuracy_score.std() * 100\n",
    "print(\"Accuracy Score: {}%\".format(round(acc_mean,2)))\n",
    "print(\"Accuracy Deviation: {}%\".format(round(acc_std,2)))"
   ],
   "metadata": {
    "collapsed": false,
    "ExecuteTime": {
     "end_time": "2023-09-07T03:34:00.325087Z",
     "start_time": "2023-09-07T03:33:58.820953Z"
    }
   },
   "id": "b507c24ae294167"
  },
  {
   "cell_type": "markdown",
   "source": [
    "## TRYING VARIOUS FEATURE SELECTION METHODS"
   ],
   "metadata": {
    "collapsed": false
   },
   "id": "f1784b02f58577a5"
  },
  {
   "cell_type": "markdown",
   "source": [
    "### RFE (Recursive Feature Elimination)"
   ],
   "metadata": {
    "collapsed": false
   },
   "id": "9f41b9df14f53c78"
  },
  {
   "cell_type": "code",
   "execution_count": 57,
   "outputs": [
    {
     "name": "stdout",
     "output_type": "stream",
     "text": [
      "Accuracy Score: 82.62%\n"
     ]
    }
   ],
   "source": [
    "rfe = RFE(classifier, n_features_to_select=25)\n",
    "rfe_x = rfe.fit_transform(x,y)\n",
    "stfKF = StratifiedKFold(n_splits=5)\n",
    "accuracy_score = cross_val_score(classifier, rfe_x, y, cv=stfKF)\n",
    "acc_mean = accuracy_score.mean() * 100\n",
    "print(\"Accuracy Score: {}%\".format(round(acc_mean,2)))"
   ],
   "metadata": {
    "collapsed": false,
    "ExecuteTime": {
     "end_time": "2023-09-07T03:38:22.634643Z",
     "start_time": "2023-09-07T03:38:09.956784Z"
    }
   },
   "id": "81688e17e30fb6d4"
  },
  {
   "cell_type": "markdown",
   "source": [
    "### RFECV (Recursive Feature Elimination with Cross-Validation)"
   ],
   "metadata": {
    "collapsed": false
   },
   "id": "36674108dd3ed2f5"
  },
  {
   "cell_type": "code",
   "execution_count": 42,
   "outputs": [
    {
     "name": "stdout",
     "output_type": "stream",
     "text": [
      "Accuracy Score: 82.57%\n"
     ]
    }
   ],
   "source": [
    "rfecv = RFECV(classifier, cv=stfKF, n_jobs=2)\n",
    "rfecv_x = rfecv.fit_transform(x,y)\n",
    "stfKF = StratifiedKFold(n_splits=5)\n",
    "accuracy_score = cross_val_score(classifier, rfecv_x, y, cv=stfKF)\n",
    "acc_mean = accuracy_score.mean() * 100\n",
    "print(\"Accuracy Score: {}%\".format(round(acc_mean,2)))"
   ],
   "metadata": {
    "collapsed": false,
    "ExecuteTime": {
     "end_time": "2023-09-07T03:34:51.648528Z",
     "start_time": "2023-09-07T03:34:14.629631Z"
    }
   },
   "id": "b8818c18837251a0"
  },
  {
   "cell_type": "markdown",
   "source": [
    "### SELECTKBEST"
   ],
   "metadata": {
    "collapsed": false
   },
   "id": "45aefe17b501dcde"
  },
  {
   "cell_type": "code",
   "execution_count": 56,
   "outputs": [
    {
     "name": "stdout",
     "output_type": "stream",
     "text": [
      "(26707, 45)\n",
      "(26707, 30)\n",
      "Accuracy Score: 81.57%\n"
     ]
    }
   ],
   "source": [
    "print(x.shape)\n",
    "x_best = SelectKBest(chi2, k=30).fit_transform(x, y)\n",
    "print(x_best.shape)\n",
    "stfKF = StratifiedKFold(n_splits=5)\n",
    "accuracy_score = cross_val_score(classifier, x_best, y, cv=stfKF)\n",
    "acc_mean = accuracy_score.mean() * 100\n",
    "print(\"Accuracy Score: {}%\".format(round(acc_mean,2)))"
   ],
   "metadata": {
    "collapsed": false,
    "ExecuteTime": {
     "end_time": "2023-09-07T03:37:39.714182Z",
     "start_time": "2023-09-07T03:37:37.114726Z"
    }
   },
   "id": "42e09452282da955"
  },
  {
   "cell_type": "markdown",
   "source": [
    "### VARIANCE THRESHOLD"
   ],
   "metadata": {
    "collapsed": false
   },
   "id": "7d81ea8c84eec4c9"
  },
  {
   "cell_type": "code",
   "execution_count": 44,
   "outputs": [
    {
     "name": "stdout",
     "output_type": "stream",
     "text": [
      "Accuracy Score: 80.54%\n"
     ]
    }
   ],
   "source": [
    "varThresh = VarianceThreshold(0.1)\n",
    "x_threshold = varThresh.fit_transform(x)\n",
    "stfKF = StratifiedKFold(n_splits=5)\n",
    "accuracy_score = cross_val_score(classifier, x_threshold, y, cv=stfKF)\n",
    "acc_mean = accuracy_score.mean() * 100\n",
    "print(\"Accuracy Score: {}%\".format(round(acc_mean,2)))"
   ],
   "metadata": {
    "collapsed": false,
    "ExecuteTime": {
     "end_time": "2023-09-07T03:34:54.045717Z",
     "start_time": "2023-09-07T03:34:52.679498Z"
    }
   },
   "id": "bbc60a46dfcc2063"
  }
 ],
 "metadata": {
  "kernelspec": {
   "display_name": "Python 3",
   "language": "python",
   "name": "python3"
  },
  "language_info": {
   "codemirror_mode": {
    "name": "ipython",
    "version": 2
   },
   "file_extension": ".py",
   "mimetype": "text/x-python",
   "name": "python",
   "nbconvert_exporter": "python",
   "pygments_lexer": "ipython2",
   "version": "2.7.6"
  }
 },
 "nbformat": 4,
 "nbformat_minor": 5
}
