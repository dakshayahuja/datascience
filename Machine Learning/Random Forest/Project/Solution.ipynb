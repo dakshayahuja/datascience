{
 "cells": [
  {
   "cell_type": "markdown",
   "id": "b54196a292407dcf",
   "metadata": {},
   "source": [
    "### Importing Libraries"
   ]
  },
  {
   "cell_type": "code",
   "execution_count": 1,
   "id": "initial_id",
   "metadata": {
    "ExecuteTime": {
     "end_time": "2023-09-12T15:11:13.589017Z",
     "start_time": "2023-09-12T15:11:13.551401Z"
    }
   },
   "outputs": [],
   "source": [
    "import pandas as pd\n",
    "import matplotlib.pyplot as plt\n",
    "import seaborn as sns\n",
    "from warnings import filterwarnings\n",
    "filterwarnings('ignore')"
   ]
  },
  {
   "cell_type": "markdown",
   "id": "5f8f20f6a0b96d6e",
   "metadata": {},
   "source": [
    "### Importing Data"
   ]
  },
  {
   "cell_type": "code",
   "execution_count": 2,
   "id": "fc1ec4c8dbb3248c",
   "metadata": {
    "ExecuteTime": {
     "end_time": "2023-09-12T15:11:13.639824Z",
     "start_time": "2023-09-12T15:11:13.556524Z"
    }
   },
   "outputs": [],
   "source": [
    "data = pd.read_csv(\"TaxiFare.csv\")"
   ]
  },
  {
   "cell_type": "markdown",
   "id": "5e0c66003345ad5b",
   "metadata": {},
   "source": [
    "### Cleaning Data"
   ]
  },
  {
   "cell_type": "code",
   "execution_count": 3,
   "id": "1b1fdf14027c0ec1",
   "metadata": {
    "ExecuteTime": {
     "end_time": "2023-09-12T15:11:14.005783Z",
     "start_time": "2023-09-12T15:11:13.616262Z"
    }
   },
   "outputs": [],
   "source": [
    "data['date_time_of_pickup'] = pd.to_datetime(data['date_time_of_pickup'])\n",
    "data['day'] = data['date_time_of_pickup'].dt.day\n",
    "data['month'] = data['date_time_of_pickup'].dt.month\n",
    "data['year'] = data['date_time_of_pickup'].dt.year"
   ]
  },
  {
   "cell_type": "code",
   "execution_count": 4,
   "id": "2957703ce1771c31",
   "metadata": {
    "ExecuteTime": {
     "end_time": "2023-09-12T15:11:14.011861Z",
     "start_time": "2023-09-12T15:11:14.007836Z"
    }
   },
   "outputs": [],
   "source": [
    "x = data.drop(columns=['unique_id', 'date_time_of_pickup', 'amount'], axis=1)\n",
    "y = data['amount']"
   ]
  },
  {
   "cell_type": "markdown",
   "id": "7d1f93f626120080",
   "metadata": {},
   "source": [
    "### Splitting Dataset into train and test subsets"
   ]
  },
  {
   "cell_type": "code",
   "execution_count": 5,
   "id": "8705505ca7d87913",
   "metadata": {
    "ExecuteTime": {
     "end_time": "2023-09-12T15:11:14.090978Z",
     "start_time": "2023-09-12T15:11:14.011400Z"
    }
   },
   "outputs": [],
   "source": [
    "from sklearn.model_selection import train_test_split\n",
    "x_train, x_test, y_train, y_test = train_test_split(x,y, test_size=0.2, random_state=0)"
   ]
  },
  {
   "cell_type": "markdown",
   "id": "2e3bb549bb9c45e4",
   "metadata": {},
   "source": [
    "### Using Random Forest Regressor"
   ]
  },
  {
   "cell_type": "code",
   "execution_count": 6,
   "id": "163ba1309ea5e774",
   "metadata": {
    "ExecuteTime": {
     "end_time": "2023-09-12T15:11:40.811971Z",
     "start_time": "2023-09-12T15:11:14.092497Z"
    }
   },
   "outputs": [],
   "source": [
    "from sklearn.ensemble import RandomForestRegressor\n",
    "regr = RandomForestRegressor(random_state=0)\n",
    "regr.fit(x_train, y_train)\n",
    "y_pred = regr.predict(x_test)"
   ]
  },
  {
   "cell_type": "markdown",
   "id": "ddcb1d38f809098e",
   "metadata": {},
   "source": [
    "### Metrics"
   ]
  },
  {
   "cell_type": "code",
   "execution_count": 7,
   "id": "d327a93270bbeb0",
   "metadata": {
    "ExecuteTime": {
     "end_time": "2023-09-12T15:11:40.820339Z",
     "start_time": "2023-09-12T15:11:40.813511Z"
    }
   },
   "outputs": [
    {
     "name": "stdout",
     "output_type": "stream",
     "text": [
      "Accuracy is 78.59%\n",
      "Mean Squared Error is 18.5%\n"
     ]
    }
   ],
   "source": [
    "from sklearn.metrics import r2_score, mean_squared_error\n",
    "acc = r2_score(y_test, y_pred) * 100\n",
    "print(\"Accuracy is {}%\".format(round(acc,2)))\n",
    "print(\"Mean Squared Error is {}%\".format(round(mean_squared_error(y_test, y_pred),2)))"
   ]
  },
  {
   "cell_type": "markdown",
   "id": "b5fec8855e699b3",
   "metadata": {},
   "source": [
    "### Actual vs Predicted Values"
   ]
  },
  {
   "cell_type": "code",
   "execution_count": 8,
   "id": "768e3a523c39ebfe",
   "metadata": {
    "ExecuteTime": {
     "end_time": "2023-09-12T15:11:40.823283Z",
     "start_time": "2023-09-12T15:11:40.819773Z"
    }
   },
   "outputs": [
    {
     "name": "stdout",
     "output_type": "stream",
     "text": [
      "       Actual  Predicted\n",
      "11841     6.5     8.1420\n",
      "19602    13.3    12.2470\n",
      "45519     5.3     5.5160\n",
      "25747     6.5     7.0100\n",
      "42642    25.3    25.7152\n",
      "31902     8.5     8.2000\n",
      "30346     5.3     6.3130\n",
      "12363     7.3     6.9740\n",
      "32490     5.3     6.1040\n",
      "26128     4.9     5.0550\n"
     ]
    }
   ],
   "source": [
    "df=pd.DataFrame({'Actual':y_test, 'Predicted':y_pred})\n",
    "print(df.head(10))"
   ]
  },
  {
   "cell_type": "markdown",
   "id": "9682b1f8cb3ae38e",
   "metadata": {},
   "source": [
    "### Visualising Feature Importances"
   ]
  },
  {
   "cell_type": "code",
   "execution_count": 9,
   "id": "a21940c628194ed7",
   "metadata": {
    "ExecuteTime": {
     "end_time": "2023-09-12T15:11:40.872603Z",
     "start_time": "2023-09-12T15:11:40.825085Z"
    }
   },
   "outputs": [
    {
     "name": "stdout",
     "output_type": "stream",
     "text": [
      "[0.24291073 0.12092606 0.39419376 0.16117796 0.00779236 0.02421987\n",
      " 0.02044717 0.02833209]\n"
     ]
    }
   ],
   "source": [
    "print(regr.feature_importances_)"
   ]
  },
  {
   "cell_type": "code",
   "execution_count": 10,
   "id": "239e374ada53e8b3",
   "metadata": {
    "ExecuteTime": {
     "end_time": "2023-09-12T15:11:41.046929Z",
     "start_time": "2023-09-12T15:11:40.847050Z"
    }
   },
   "outputs": [
    {
     "data": {
      "text/plain": "<Figure size 640x480 with 1 Axes>",
      "image/png": "[encoded data removed]"
     },
     "metadata": {},
     "output_type": "display_data"
    }
   ],
   "source": [
    "sorted_idx=regr.feature_importances_.argsort()[::-1]\n",
    "y_values = list(x.columns[sorted_idx])\n",
    "sns.barplot(x=regr.feature_importances_[sorted_idx], y=y_values, palette=\"Spectral\")\n",
    "plt.title('Feature Importances')\n",
    "plt.xlabel('Importance')\n",
    "plt.ylabel('Features')\n",
    "plt.show()"
   ]
  },
  {
   "cell_type": "markdown",
   "source": [
    "### Using GridSearchCV for hyperparameter tuning"
   ],
   "metadata": {
    "collapsed": false
   },
   "id": "915c83efb56977b3"
  },
  {
   "cell_type": "code",
   "execution_count": 11,
   "outputs": [],
   "source": [
    "from sklearn.model_selection import GridSearchCV\n",
    "param_grid= {'max_features': ['auto', 'sqrt'],\n",
    "             'max_depth': [None,1,10],\n",
    "             'min_samples_split': [2,5,8,10],\n",
    "             'min_samples_leaf': [1, 2, 4, 6],\n",
    "             'bootstrap': [True, False]\n",
    "}\n",
    "grid_search = GridSearchCV(estimator=RandomForestRegressor(random_state=20), param_grid=param_grid, scoring='neg_mean_squared_error', cv=3, n_jobs=-1)  "
   ],
   "metadata": {
    "collapsed": false,
    "ExecuteTime": {
     "end_time": "2023-09-12T15:11:41.107414Z",
     "start_time": "2023-09-12T15:11:41.058632Z"
    }
   },
   "id": "eb5164d1be048010"
  },
  {
   "cell_type": "code",
   "execution_count": 12,
   "outputs": [
    {
     "data": {
      "text/plain": "GridSearchCV(cv=3, estimator=RandomForestRegressor(random_state=20), n_jobs=-1,\n             param_grid={'bootstrap': [True, False], 'max_depth': [None, 1, 10],\n                         'max_features': ['auto', 'sqrt'],\n                         'min_samples_leaf': [1, 2, 4, 6],\n                         'min_samples_split': [2, 5, 8, 10]},\n             scoring='neg_mean_squared_error')",
      "text/html": "<style>#sk-container-id-1 {color: black;}#sk-container-id-1 pre{padding: 0;}#sk-container-id-1 div.sk-toggleable {background-color: white;}#sk-container-id-1 label.sk-toggleable__label {cursor: pointer;display: block;width: 100%;margin-bottom: 0;padding: 0.3em;box-sizing: border-box;text-align: center;}#sk-container-id-1 label.sk-toggleable__label-arrow:before {content: \"▸\";float: left;margin-right: 0.25em;color: #696969;}#sk-container-id-1 label.sk-toggleable__label-arrow:hover:before {color: black;}#sk-container-id-1 div.sk-estimator:hover label.sk-toggleable__label-arrow:before {color: black;}#sk-container-id-1 div.sk-toggleable__content {max-height: 0;max-width: 0;overflow: hidden;text-align: left;background-color: #f0f8ff;}#sk-container-id-1 div.sk-toggleable__content pre {margin: 0.2em;color: black;border-radius: 0.25em;background-color: #f0f8ff;}#sk-container-id-1 input.sk-toggleable__control:checked~div.sk-toggleable__content {max-height: 200px;max-width: 100%;overflow: auto;}#sk-container-id-1 input.sk-toggleable__control:checked~label.sk-toggleable__label-arrow:before {content: \"▾\";}#sk-container-id-1 div.sk-estimator input.sk-toggleable__control:checked~label.sk-toggleable__label {background-color: #d4ebff;}#sk-container-id-1 div.sk-label input.sk-toggleable__control:checked~label.sk-toggleable__label {background-color: #d4ebff;}#sk-container-id-1 input.sk-hidden--visually {border: 0;clip: rect(1px 1px 1px 1px);clip: rect(1px, 1px, 1px, 1px);height: 1px;margin: -1px;overflow: hidden;padding: 0;position: absolute;width: 1px;}#sk-container-id-1 div.sk-estimator {font-family: monospace;background-color: #f0f8ff;border: 1px dotted black;border-radius: 0.25em;box-sizing: border-box;margin-bottom: 0.5em;}#sk-container-id-1 div.sk-estimator:hover {background-color: #d4ebff;}#sk-container-id-1 div.sk-parallel-item::after {content: \"\";width: 100%;border-bottom: 1px solid gray;flex-grow: 1;}#sk-container-id-1 div.sk-label:hover label.sk-toggleable__label {background-color: #d4ebff;}#sk-container-id-1 div.sk-serial::before {content: \"\";position: absolute;border-left: 1px solid gray;box-sizing: border-box;top: 0;bottom: 0;left: 50%;z-index: 0;}#sk-container-id-1 div.sk-serial {display: flex;flex-direction: column;align-items: center;background-color: white;padding-right: 0.2em;padding-left: 0.2em;position: relative;}#sk-container-id-1 div.sk-item {position: relative;z-index: 1;}#sk-container-id-1 div.sk-parallel {display: flex;align-items: stretch;justify-content: center;background-color: white;position: relative;}#sk-container-id-1 div.sk-item::before, #sk-container-id-1 div.sk-parallel-item::before {content: \"\";position: absolute;border-left: 1px solid gray;box-sizing: border-box;top: 0;bottom: 0;left: 50%;z-index: -1;}#sk-container-id-1 div.sk-parallel-item {display: flex;flex-direction: column;z-index: 1;position: relative;background-color: white;}#sk-container-id-1 div.sk-parallel-item:first-child::after {align-self: flex-end;width: 50%;}#sk-container-id-1 div.sk-parallel-item:last-child::after {align-self: flex-start;width: 50%;}#sk-container-id-1 div.sk-parallel-item:only-child::after {width: 0;}#sk-container-id-1 div.sk-dashed-wrapped {border: 1px dashed gray;margin: 0 0.4em 0.5em 0.4em;box-sizing: border-box;padding-bottom: 0.4em;background-color: white;}#sk-container-id-1 div.sk-label label {font-family: monospace;font-weight: bold;display: inline-block;line-height: 1.2em;}#sk-container-id-1 div.sk-label-container {text-align: center;}#sk-container-id-1 div.sk-container {/* jupyter's `normalize.less` sets `[hidden] { display: none; }` but bootstrap.min.css set `[hidden] { display: none !important; }` so we also need the `!important` here to be able to override the default hidden behavior on the sphinx rendered scikit-learn.org. See: https://github.com/scikit-learn/scikit-learn/issues/21755 */display: inline-block !important;position: relative;}#sk-container-id-1 div.sk-text-repr-fallback {display: none;}</style><div id=\"sk-container-id-1\" class=\"sk-top-container\"><div class=\"sk-text-repr-fallback\"><pre>GridSearchCV(cv=3, estimator=RandomForestRegressor(random_state=20), n_jobs=-1,\n             param_grid={&#x27;bootstrap&#x27;: [True, False], &#x27;max_depth&#x27;: [None, 1, 10],\n                         &#x27;max_features&#x27;: [&#x27;auto&#x27;, &#x27;sqrt&#x27;],\n                         &#x27;min_samples_leaf&#x27;: [1, 2, 4, 6],\n                         &#x27;min_samples_split&#x27;: [2, 5, 8, 10]},\n             scoring=&#x27;neg_mean_squared_error&#x27;)</pre><b>In a Jupyter environment, please rerun this cell to show the HTML representation or trust the notebook. <br />On GitHub, the HTML representation is unable to render, please try loading this page with nbviewer.org.</b></div><div class=\"sk-container\" hidden><div class=\"sk-item sk-dashed-wrapped\"><div class=\"sk-label-container\"><div class=\"sk-label sk-toggleable\"><input class=\"sk-toggleable__control sk-hidden--visually\" id=\"sk-estimator-id-1\" type=\"checkbox\" ><label for=\"sk-estimator-id-1\" class=\"sk-toggleable__label sk-toggleable__label-arrow\">GridSearchCV</label><div class=\"sk-toggleable__content\"><pre>GridSearchCV(cv=3, estimator=RandomForestRegressor(random_state=20), n_jobs=-1,\n             param_grid={&#x27;bootstrap&#x27;: [True, False], &#x27;max_depth&#x27;: [None, 1, 10],\n                         &#x27;max_features&#x27;: [&#x27;auto&#x27;, &#x27;sqrt&#x27;],\n                         &#x27;min_samples_leaf&#x27;: [1, 2, 4, 6],\n                         &#x27;min_samples_split&#x27;: [2, 5, 8, 10]},\n             scoring=&#x27;neg_mean_squared_error&#x27;)</pre></div></div></div><div class=\"sk-parallel\"><div class=\"sk-parallel-item\"><div class=\"sk-item\"><div class=\"sk-label-container\"><div class=\"sk-label sk-toggleable\"><input class=\"sk-toggleable__control sk-hidden--visually\" id=\"sk-estimator-id-2\" type=\"checkbox\" ><label for=\"sk-estimator-id-2\" class=\"sk-toggleable__label sk-toggleable__label-arrow\">estimator: RandomForestRegressor</label><div class=\"sk-toggleable__content\"><pre>RandomForestRegressor(random_state=20)</pre></div></div></div><div class=\"sk-serial\"><div class=\"sk-item\"><div class=\"sk-estimator sk-toggleable\"><input class=\"sk-toggleable__control sk-hidden--visually\" id=\"sk-estimator-id-3\" type=\"checkbox\" ><label for=\"sk-estimator-id-3\" class=\"sk-toggleable__label sk-toggleable__label-arrow\">RandomForestRegressor</label><div class=\"sk-toggleable__content\"><pre>RandomForestRegressor(random_state=20)</pre></div></div></div></div></div></div></div></div></div></div>"
     },
     "execution_count": 12,
     "metadata": {},
     "output_type": "execute_result"
    }
   ],
   "source": [
    "grid_search.fit(x_train,y_train)"
   ],
   "metadata": {
    "collapsed": false,
    "ExecuteTime": {
     "end_time": "2023-09-12T15:14:16.579639Z",
     "start_time": "2023-09-12T15:11:41.066081Z"
    }
   },
   "id": "d69da5d57de8b38"
  },
  {
   "cell_type": "code",
   "execution_count": 13,
   "outputs": [
    {
     "name": "stdout",
     "output_type": "stream",
     "text": [
      "{'bootstrap': True, 'max_depth': None, 'max_features': 'sqrt', 'min_samples_leaf': 1, 'min_samples_split': 8}\n"
     ]
    }
   ],
   "source": [
    "print(grid_search.best_params_)"
   ],
   "metadata": {
    "collapsed": false,
    "ExecuteTime": {
     "end_time": "2023-09-12T15:14:16.580822Z",
     "start_time": "2023-09-12T15:14:16.578028Z"
    }
   },
   "id": "26408961c00eb29d"
  },
  {
   "cell_type": "code",
   "execution_count": 14,
   "outputs": [
    {
     "name": "stdout",
     "output_type": "stream",
     "text": [
      "Accuracy is 78.12%\n",
      "Mean Squared Error is 18.91%\n"
     ]
    }
   ],
   "source": [
    "grid_predictions = grid_search.predict(x_test)\n",
    "acc = r2_score(y_test, grid_predictions) * 100\n",
    "print(\"Accuracy is {}%\".format(round(acc,2)))\n",
    "print(\"Mean Squared Error is {}%\".format(round(mean_squared_error(y_test, grid_predictions),2)))"
   ],
   "metadata": {
    "collapsed": false,
    "ExecuteTime": {
     "end_time": "2023-09-12T15:14:16.746548Z",
     "start_time": "2023-09-12T15:14:16.582328Z"
    }
   },
   "id": "8f3351cc2497cd24"
  },
  {
   "cell_type": "markdown",
   "id": "bde891329b05a698",
   "metadata": {},
   "source": [
    "### Using RandomizedSearchCV for hyperparameter tuning"
   ]
  },
  {
   "cell_type": "code",
   "execution_count": 15,
   "id": "992dd96c88239018",
   "metadata": {
    "ExecuteTime": {
     "end_time": "2023-09-12T15:14:16.747271Z",
     "start_time": "2023-09-12T15:14:16.745154Z"
    }
   },
   "outputs": [],
   "source": [
    "from sklearn.model_selection import RandomizedSearchCV\n",
    "param_grid= {'max_features': ['auto', 'sqrt'],\n",
    "             'max_depth': [None,1,5],\n",
    "             'min_samples_split': [2,5,8,10],\n",
    "             'min_samples_leaf': [1, 2, 4, 6],\n",
    "             'bootstrap': [True, False]\n",
    "}\n",
    "random_search = RandomizedSearchCV(estimator=RandomForestRegressor(random_state=40), param_distributions=param_grid,\n",
    "n_iter = 100, scoring='neg_mean_squared_error', cv=3, verbose=2, random_state=40,n_jobs=-1)  "
   ]
  },
  {
   "cell_type": "code",
   "execution_count": 16,
   "outputs": [
    {
     "name": "stdout",
     "output_type": "stream",
     "text": [
      "Fitting 3 folds for each of 100 candidates, totalling 300 fits\n",
      "[CV] END bootstrap=False, max_depth=None, max_features=auto, min_samples_leaf=1, min_samples_split=2; total time=   0.0s\n",
      "[CV] END bootstrap=True, max_depth=None, max_features=auto, min_samples_leaf=2, min_samples_split=5; total time=   0.0s\n",
      "[CV] END bootstrap=False, max_depth=None, max_features=sqrt, min_samples_leaf=2, min_samples_split=2; total time=  10.9s\n",
      "[CV] END bootstrap=False, max_depth=1, max_features=auto, min_samples_leaf=1, min_samples_split=5; total time=   0.0s\n",
      "[CV] END bootstrap=False, max_depth=1, max_features=auto, min_samples_leaf=1, min_samples_split=5; total time=   0.0s\n",
      "[CV] END bootstrap=False, max_depth=1, max_features=auto, min_samples_leaf=1, min_samples_split=5; total time=   0.0s\n",
      "[CV] END bootstrap=True, max_depth=5, max_features=auto, min_samples_leaf=4, min_samples_split=10; total time=   0.0s\n",
      "[CV] END bootstrap=True, max_depth=5, max_features=auto, min_samples_leaf=4, min_samples_split=10; total time=   0.0s\n",
      "[CV] END bootstrap=True, max_depth=5, max_features=auto, min_samples_leaf=4, min_samples_split=10; total time=   0.0s\n",
      "[CV] END bootstrap=True, max_depth=None, max_features=sqrt, min_samples_leaf=1, min_samples_split=8; total time=   7.2s\n",
      "[CV] END bootstrap=True, max_depth=None, max_features=sqrt, min_samples_leaf=1, min_samples_split=8; total time=   6.8s\n",
      "[CV] END bootstrap=False, max_depth=1, max_features=sqrt, min_samples_leaf=1, min_samples_split=8; total time=   0.5s\n",
      "[CV] END bootstrap=True, max_depth=None, max_features=sqrt, min_samples_leaf=4, min_samples_split=2; total time=   6.6s\n",
      "[CV] END bootstrap=False, max_depth=5, max_features=sqrt, min_samples_leaf=1, min_samples_split=5; total time=   2.3s\n",
      "[CV] END bootstrap=False, max_depth=1, max_features=auto, min_samples_leaf=6, min_samples_split=10; total time=   0.0s\n",
      "[CV] END bootstrap=False, max_depth=1, max_features=auto, min_samples_leaf=6, min_samples_split=10; total time=   0.0s\n",
      "[CV] END bootstrap=False, max_depth=1, max_features=auto, min_samples_leaf=2, min_samples_split=8; total time=   0.0s\n",
      "[CV] END bootstrap=False, max_depth=5, max_features=sqrt, min_samples_leaf=2, min_samples_split=5; total time=   2.6s\n",
      "[CV] END bootstrap=False, max_depth=1, max_features=auto, min_samples_leaf=4, min_samples_split=2; total time=   0.0s\n",
      "[CV] END bootstrap=False, max_depth=1, max_features=auto, min_samples_leaf=4, min_samples_split=2; total time=   0.0s\n",
      "[CV] END bootstrap=False, max_depth=1, max_features=auto, min_samples_leaf=4, min_samples_split=2; total time=   0.0s\n",
      "[CV] END bootstrap=False, max_depth=5, max_features=auto, min_samples_leaf=1, min_samples_split=10; total time=   0.0s\n",
      "[CV] END bootstrap=False, max_depth=5, max_features=auto, min_samples_leaf=1, min_samples_split=10; total time=   0.0s\n",
      "[CV] END bootstrap=False, max_depth=5, max_features=auto, min_samples_leaf=1, min_samples_split=10; total time=   0.0s\n",
      "[CV] END bootstrap=True, max_depth=1, max_features=auto, min_samples_leaf=2, min_samples_split=8; total time=   0.0s\n",
      "[CV] END bootstrap=True, max_depth=1, max_features=auto, min_samples_leaf=2, min_samples_split=8; total time=   0.0s\n",
      "[CV] END bootstrap=True, max_depth=1, max_features=auto, min_samples_leaf=2, min_samples_split=8; total time=   0.0s\n",
      "[CV] END bootstrap=True, max_depth=None, max_features=auto, min_samples_leaf=1, min_samples_split=2; total time=   0.0s\n",
      "[CV] END bootstrap=True, max_depth=None, max_features=auto, min_samples_leaf=1, min_samples_split=2; total time=   0.0s\n",
      "[CV] END bootstrap=True, max_depth=None, max_features=auto, min_samples_leaf=1, min_samples_split=2; total time=   0.0s\n",
      "[CV] END bootstrap=True, max_depth=1, max_features=sqrt, min_samples_leaf=2, min_samples_split=5; total time=   0.5s\n",
      "[CV] END bootstrap=True, max_depth=1, max_features=sqrt, min_samples_leaf=2, min_samples_split=5; total time=   0.5s\n",
      "[CV] END bootstrap=True, max_depth=1, max_features=sqrt, min_samples_leaf=2, min_samples_split=5; total time=   0.5s\n",
      "[CV] END bootstrap=True, max_depth=1, max_features=sqrt, min_samples_leaf=1, min_samples_split=2; total time=   0.5s\n",
      "[CV] END bootstrap=True, max_depth=1, max_features=sqrt, min_samples_leaf=1, min_samples_split=2; total time=   0.4s\n",
      "[CV] END bootstrap=True, max_depth=1, max_features=sqrt, min_samples_leaf=1, min_samples_split=2; total time=   0.4s\n",
      "[CV] END bootstrap=False, max_depth=None, max_features=sqrt, min_samples_leaf=4, min_samples_split=5; total time=  10.5s\n",
      "[CV] END bootstrap=False, max_depth=None, max_features=sqrt, min_samples_leaf=1, min_samples_split=5; total time=  10.6s\n",
      "[CV] END bootstrap=False, max_depth=None, max_features=sqrt, min_samples_leaf=1, min_samples_split=5; total time=   8.3s\n"
     ]
    },
    {
     "data": {
      "text/plain": "RandomizedSearchCV(cv=3, estimator=RandomForestRegressor(random_state=40),\n                   n_iter=100, n_jobs=-1,\n                   param_distributions={'bootstrap': [True, False],\n                                        'max_depth': [None, 1, 5],\n                                        'max_features': ['auto', 'sqrt'],\n                                        'min_samples_leaf': [1, 2, 4, 6],\n                                        'min_samples_split': [2, 5, 8, 10]},\n                   random_state=40, scoring='neg_mean_squared_error',\n                   verbose=2)",
      "text/html": "<style>#sk-container-id-2 {color: black;}#sk-container-id-2 pre{padding: 0;}#sk-container-id-2 div.sk-toggleable {background-color: white;}#sk-container-id-2 label.sk-toggleable__label {cursor: pointer;display: block;width: 100%;margin-bottom: 0;padding: 0.3em;box-sizing: border-box;text-align: center;}#sk-container-id-2 label.sk-toggleable__label-arrow:before {content: \"▸\";float: left;margin-right: 0.25em;color: #696969;}#sk-container-id-2 label.sk-toggleable__label-arrow:hover:before {color: black;}#sk-container-id-2 div.sk-estimator:hover label.sk-toggleable__label-arrow:before {color: black;}#sk-container-id-2 div.sk-toggleable__content {max-height: 0;max-width: 0;overflow: hidden;text-align: left;background-color: #f0f8ff;}#sk-container-id-2 div.sk-toggleable__content pre {margin: 0.2em;color: black;border-radius: 0.25em;background-color: #f0f8ff;}#sk-container-id-2 input.sk-toggleable__control:checked~div.sk-toggleable__content {max-height: 200px;max-width: 100%;overflow: auto;}#sk-container-id-2 input.sk-toggleable__control:checked~label.sk-toggleable__label-arrow:before {content: \"▾\";}#sk-container-id-2 div.sk-estimator input.sk-toggleable__control:checked~label.sk-toggleable__label {background-color: #d4ebff;}#sk-container-id-2 div.sk-label input.sk-toggleable__control:checked~label.sk-toggleable__label {background-color: #d4ebff;}#sk-container-id-2 input.sk-hidden--visually {border: 0;clip: rect(1px 1px 1px 1px);clip: rect(1px, 1px, 1px, 1px);height: 1px;margin: -1px;overflow: hidden;padding: 0;position: absolute;width: 1px;}#sk-container-id-2 div.sk-estimator {font-family: monospace;background-color: #f0f8ff;border: 1px dotted black;border-radius: 0.25em;box-sizing: border-box;margin-bottom: 0.5em;}#sk-container-id-2 div.sk-estimator:hover {background-color: #d4ebff;}#sk-container-id-2 div.sk-parallel-item::after {content: \"\";width: 100%;border-bottom: 1px solid gray;flex-grow: 1;}#sk-container-id-2 div.sk-label:hover label.sk-toggleable__label {background-color: #d4ebff;}#sk-container-id-2 div.sk-serial::before {content: \"\";position: absolute;border-left: 1px solid gray;box-sizing: border-box;top: 0;bottom: 0;left: 50%;z-index: 0;}#sk-container-id-2 div.sk-serial {display: flex;flex-direction: column;align-items: center;background-color: white;padding-right: 0.2em;padding-left: 0.2em;position: relative;}#sk-container-id-2 div.sk-item {position: relative;z-index: 1;}#sk-container-id-2 div.sk-parallel {display: flex;align-items: stretch;justify-content: center;background-color: white;position: relative;}#sk-container-id-2 div.sk-item::before, #sk-container-id-2 div.sk-parallel-item::before {content: \"\";position: absolute;border-left: 1px solid gray;box-sizing: border-box;top: 0;bottom: 0;left: 50%;z-index: -1;}#sk-container-id-2 div.sk-parallel-item {display: flex;flex-direction: column;z-index: 1;position: relative;background-color: white;}#sk-container-id-2 div.sk-parallel-item:first-child::after {align-self: flex-end;width: 50%;}#sk-container-id-2 div.sk-parallel-item:last-child::after {align-self: flex-start;width: 50%;}#sk-container-id-2 div.sk-parallel-item:only-child::after {width: 0;}#sk-container-id-2 div.sk-dashed-wrapped {border: 1px dashed gray;margin: 0 0.4em 0.5em 0.4em;box-sizing: border-box;padding-bottom: 0.4em;background-color: white;}#sk-container-id-2 div.sk-label label {font-family: monospace;font-weight: bold;display: inline-block;line-height: 1.2em;}#sk-container-id-2 div.sk-label-container {text-align: center;}#sk-container-id-2 div.sk-container {/* jupyter's `normalize.less` sets `[hidden] { display: none; }` but bootstrap.min.css set `[hidden] { display: none !important; }` so we also need the `!important` here to be able to override the default hidden behavior on the sphinx rendered scikit-learn.org. See: https://github.com/scikit-learn/scikit-learn/issues/21755 */display: inline-block !important;position: relative;}#sk-container-id-2 div.sk-text-repr-fallback {display: none;}</style><div id=\"sk-container-id-2\" class=\"sk-top-container\"><div class=\"sk-text-repr-fallback\"><pre>RandomizedSearchCV(cv=3, estimator=RandomForestRegressor(random_state=40),\n                   n_iter=100, n_jobs=-1,\n                   param_distributions={&#x27;bootstrap&#x27;: [True, False],\n                                        &#x27;max_depth&#x27;: [None, 1, 5],\n                                        &#x27;max_features&#x27;: [&#x27;auto&#x27;, &#x27;sqrt&#x27;],\n                                        &#x27;min_samples_leaf&#x27;: [1, 2, 4, 6],\n                                        &#x27;min_samples_split&#x27;: [2, 5, 8, 10]},\n                   random_state=40, scoring=&#x27;neg_mean_squared_error&#x27;,\n                   verbose=2)</pre><b>In a Jupyter environment, please rerun this cell to show the HTML representation or trust the notebook. <br />On GitHub, the HTML representation is unable to render, please try loading this page with nbviewer.org.</b></div><div class=\"sk-container\" hidden><div class=\"sk-item sk-dashed-wrapped\"><div class=\"sk-label-container\"><div class=\"sk-label sk-toggleable\"><input class=\"sk-toggleable__control sk-hidden--visually\" id=\"sk-estimator-id-4\" type=\"checkbox\" ><label for=\"sk-estimator-id-4\" class=\"sk-toggleable__label sk-toggleable__label-arrow\">RandomizedSearchCV</label><div class=\"sk-toggleable__content\"><pre>RandomizedSearchCV(cv=3, estimator=RandomForestRegressor(random_state=40),\n                   n_iter=100, n_jobs=-1,\n                   param_distributions={&#x27;bootstrap&#x27;: [True, False],\n                                        &#x27;max_depth&#x27;: [None, 1, 5],\n                                        &#x27;max_features&#x27;: [&#x27;auto&#x27;, &#x27;sqrt&#x27;],\n                                        &#x27;min_samples_leaf&#x27;: [1, 2, 4, 6],\n                                        &#x27;min_samples_split&#x27;: [2, 5, 8, 10]},\n                   random_state=40, scoring=&#x27;neg_mean_squared_error&#x27;,\n                   verbose=2)</pre></div></div></div><div class=\"sk-parallel\"><div class=\"sk-parallel-item\"><div class=\"sk-item\"><div class=\"sk-label-container\"><div class=\"sk-label sk-toggleable\"><input class=\"sk-toggleable__control sk-hidden--visually\" id=\"sk-estimator-id-5\" type=\"checkbox\" ><label for=\"sk-estimator-id-5\" class=\"sk-toggleable__label sk-toggleable__label-arrow\">estimator: RandomForestRegressor</label><div class=\"sk-toggleable__content\"><pre>RandomForestRegressor(random_state=40)</pre></div></div></div><div class=\"sk-serial\"><div class=\"sk-item\"><div class=\"sk-estimator sk-toggleable\"><input class=\"sk-toggleable__control sk-hidden--visually\" id=\"sk-estimator-id-6\" type=\"checkbox\" ><label for=\"sk-estimator-id-6\" class=\"sk-toggleable__label sk-toggleable__label-arrow\">RandomForestRegressor</label><div class=\"sk-toggleable__content\"><pre>RandomForestRegressor(random_state=40)</pre></div></div></div></div></div></div></div></div></div></div>"
     },
     "execution_count": 16,
     "metadata": {},
     "output_type": "execute_result"
    }
   ],
   "source": [
    "random_search.fit(x_train,y_train)"
   ],
   "metadata": {
    "collapsed": false,
    "ExecuteTime": {
     "end_time": "2023-09-12T15:15:35.118440Z",
     "start_time": "2023-09-12T15:14:16.748973Z"
    }
   },
   "id": "df78e377d39849d5"
  },
  {
   "cell_type": "code",
   "execution_count": 17,
   "outputs": [
    {
     "name": "stdout",
     "output_type": "stream",
     "text": [
      "{'min_samples_split': 5, 'min_samples_leaf': 1, 'max_features': 'sqrt', 'max_depth': None, 'bootstrap': True}\n"
     ]
    }
   ],
   "source": [
    "print(random_search.best_params_)"
   ],
   "metadata": {
    "collapsed": false,
    "ExecuteTime": {
     "end_time": "2023-09-12T15:15:35.132962Z",
     "start_time": "2023-09-12T15:15:35.118985Z"
    }
   },
   "id": "6735debc713a3172"
  },
  {
   "cell_type": "code",
   "execution_count": 18,
   "id": "36e38287db686c64",
   "metadata": {
    "ExecuteTime": {
     "end_time": "2023-09-12T15:15:35.321578Z",
     "start_time": "2023-09-12T15:15:35.122267Z"
    }
   },
   "outputs": [
    {
     "name": "stdout",
     "output_type": "stream",
     "text": [
      "Accuracy is 78.28%\n",
      "Mean Squared Error is 18.77%\n"
     ]
    }
   ],
   "source": [
    "random_predictions = random_search.predict(x_test)\n",
    "acc = r2_score(y_test, random_predictions) * 100\n",
    "print(\"Accuracy is {}%\".format(round(acc,2)))\n",
    "print(\"Mean Squared Error is {}%\".format(round(mean_squared_error(y_test, random_predictions),2)))"
   ]
  }
 ],
 "metadata": {
  "kernelspec": {
   "display_name": "Python 3 (ipykernel)",
   "language": "python",
   "name": "python3"
  },
  "language_info": {
   "codemirror_mode": {
    "name": "ipython",
    "version": 3
   },
   "file_extension": ".py",
   "mimetype": "text/x-python",
   "name": "python",
   "nbconvert_exporter": "python",
   "pygments_lexer": "ipython3",
   "version": "3.9.18"
  }
 },
 "nbformat": 4,
 "nbformat_minor": 5
}
