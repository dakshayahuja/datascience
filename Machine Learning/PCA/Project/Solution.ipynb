{
 "cells": [
  {
   "cell_type": "code",
   "execution_count": 44,
   "id": "bcf69c56fde93687",
   "metadata": {
    "collapsed": true,
    "ExecuteTime": {
     "end_time": "2023-09-17T14:40:17.094076Z",
     "start_time": "2023-09-17T14:40:17.053518Z"
    }
   },
   "outputs": [],
   "source": [
    "import pandas as pd\n",
    "import numpy as np\n",
    "import matplotlib.pyplot as plt\n",
    "import datetime as dt\n",
    "from sklearn.preprocessing import StandardScaler\n",
    "from sklearn.decomposition import PCA"
   ]
  },
  {
   "cell_type": "markdown",
   "source": [
    "### Load Data"
   ],
   "metadata": {
    "collapsed": false
   },
   "id": "aada74f72352aaaa"
  },
  {
   "cell_type": "code",
   "execution_count": 45,
   "outputs": [],
   "source": [
    "data = pd.read_csv('houseprice.csv', index_col=0)"
   ],
   "metadata": {
    "collapsed": false,
    "ExecuteTime": {
     "end_time": "2023-09-17T14:40:17.134179Z",
     "start_time": "2023-09-17T14:40:17.060718Z"
    }
   },
   "id": "80cb561fdbc3fca6"
  },
  {
   "cell_type": "markdown",
   "source": [
    "### Data Info & Preprocessing"
   ],
   "metadata": {
    "collapsed": false
   },
   "id": "4468c8c6ede29549"
  },
  {
   "cell_type": "code",
   "execution_count": 46,
   "outputs": [
    {
     "name": "stdout",
     "output_type": "stream",
     "text": [
      "(1460, 80)\n",
      "<class 'pandas.core.frame.DataFrame'>\n",
      "Index: 1460 entries, 1 to 1460\n",
      "Data columns (total 80 columns):\n",
      " #   Column         Non-Null Count  Dtype  \n",
      "---  ------         --------------  -----  \n",
      " 0   MSSubClass     1460 non-null   int64  \n",
      " 1   MSZoning       1460 non-null   object \n",
      " 2   LotFrontage    1201 non-null   float64\n",
      " 3   LotArea        1460 non-null   int64  \n",
      " 4   Street         1460 non-null   object \n",
      " 5   Alley          91 non-null     object \n",
      " 6   LotShape       1460 non-null   object \n",
      " 7   LandContour    1460 non-null   object \n",
      " 8   Utilities      1460 non-null   object \n",
      " 9   LotConfig      1460 non-null   object \n",
      " 10  LandSlope      1460 non-null   object \n",
      " 11  Neighborhood   1460 non-null   object \n",
      " 12  Condition1     1460 non-null   object \n",
      " 13  Condition2     1460 non-null   object \n",
      " 14  BldgType       1460 non-null   object \n",
      " 15  HouseStyle     1460 non-null   object \n",
      " 16  OverallQual    1460 non-null   int64  \n",
      " 17  OverallCond    1460 non-null   int64  \n",
      " 18  YearBuilt      1460 non-null   int64  \n",
      " 19  YearRemodAdd   1460 non-null   int64  \n",
      " 20  RoofStyle      1460 non-null   object \n",
      " 21  RoofMatl       1460 non-null   object \n",
      " 22  Exterior1st    1460 non-null   object \n",
      " 23  Exterior2nd    1460 non-null   object \n",
      " 24  MasVnrType     588 non-null    object \n",
      " 25  MasVnrArea     1452 non-null   float64\n",
      " 26  ExterQual      1460 non-null   object \n",
      " 27  ExterCond      1460 non-null   object \n",
      " 28  Foundation     1460 non-null   object \n",
      " 29  BsmtQual       1423 non-null   object \n",
      " 30  BsmtCond       1423 non-null   object \n",
      " 31  BsmtExposure   1422 non-null   object \n",
      " 32  BsmtFinType1   1423 non-null   object \n",
      " 33  BsmtFinSF1     1460 non-null   int64  \n",
      " 34  BsmtFinType2   1422 non-null   object \n",
      " 35  BsmtFinSF2     1460 non-null   int64  \n",
      " 36  BsmtUnfSF      1460 non-null   int64  \n",
      " 37  TotalBsmtSF    1460 non-null   int64  \n",
      " 38  Heating        1460 non-null   object \n",
      " 39  HeatingQC      1460 non-null   object \n",
      " 40  CentralAir     1460 non-null   object \n",
      " 41  Electrical     1459 non-null   object \n",
      " 42  1stFlrSF       1460 non-null   int64  \n",
      " 43  2ndFlrSF       1460 non-null   int64  \n",
      " 44  LowQualFinSF   1460 non-null   int64  \n",
      " 45  GrLivArea      1460 non-null   int64  \n",
      " 46  BsmtFullBath   1460 non-null   int64  \n",
      " 47  BsmtHalfBath   1460 non-null   int64  \n",
      " 48  FullBath       1460 non-null   int64  \n",
      " 49  HalfBath       1460 non-null   int64  \n",
      " 50  BedroomAbvGr   1460 non-null   int64  \n",
      " 51  KitchenAbvGr   1460 non-null   int64  \n",
      " 52  KitchenQual    1460 non-null   object \n",
      " 53  TotRmsAbvGrd   1460 non-null   int64  \n",
      " 54  Functional     1460 non-null   object \n",
      " 55  Fireplaces     1460 non-null   int64  \n",
      " 56  FireplaceQu    770 non-null    object \n",
      " 57  GarageType     1379 non-null   object \n",
      " 58  GarageYrBlt    1379 non-null   float64\n",
      " 59  GarageFinish   1379 non-null   object \n",
      " 60  GarageCars     1460 non-null   int64  \n",
      " 61  GarageArea     1460 non-null   int64  \n",
      " 62  GarageQual     1379 non-null   object \n",
      " 63  GarageCond     1379 non-null   object \n",
      " 64  PavedDrive     1460 non-null   object \n",
      " 65  WoodDeckSF     1460 non-null   int64  \n",
      " 66  OpenPorchSF    1460 non-null   int64  \n",
      " 67  EnclosedPorch  1460 non-null   int64  \n",
      " 68  3SsnPorch      1460 non-null   int64  \n",
      " 69  ScreenPorch    1460 non-null   int64  \n",
      " 70  PoolArea       1460 non-null   int64  \n",
      " 71  PoolQC         7 non-null      object \n",
      " 72  Fence          281 non-null    object \n",
      " 73  MiscFeature    54 non-null     object \n",
      " 74  MiscVal        1460 non-null   int64  \n",
      " 75  MoSold         1460 non-null   int64  \n",
      " 76  YrSold         1460 non-null   int64  \n",
      " 77  SaleType       1460 non-null   object \n",
      " 78  SaleCondition  1460 non-null   object \n",
      " 79  SalePrice      1460 non-null   int64  \n",
      "dtypes: float64(3), int64(34), object(43)\n",
      "memory usage: 923.9+ KB\n"
     ]
    }
   ],
   "source": [
    "print(data.shape)\n",
    "data.info()\n",
    "\n",
    "# Change datatype for certain features\n",
    "for attr in ['MSSubClass', 'OverallQual', 'OverallCond']:\n",
    "    data[attr] = data[attr].astype('object')\n",
    "\n",
    "# Add new attributes: Building_age and Remodel_age\n",
    "current_year = int(dt.datetime.now().year)\n",
    "data['Building_age'] = current_year - data['YearBuilt']\n",
    "data['Remodel_age'] = current_year - data['YearRemodAdd']"
   ],
   "metadata": {
    "collapsed": false,
    "ExecuteTime": {
     "end_time": "2023-09-17T14:40:17.143402Z",
     "start_time": "2023-09-17T14:40:17.080139Z"
    }
   },
   "id": "c3777ce20ebbbccf"
  },
  {
   "cell_type": "markdown",
   "source": [
    "##### Fill missing values"
   ],
   "metadata": {
    "collapsed": false
   },
   "id": "da2221a28166fa80"
  },
  {
   "cell_type": "code",
   "execution_count": 47,
   "outputs": [],
   "source": [
    "data.fillna({\n",
    "    'Alley': 'No alley access',\n",
    "    'MasVnrType': 'None',\n",
    "    'BsmtQual': 'No Basement',\n",
    "    'BsmtCond': 'No Basement',\n",
    "    'Electrical': 'SBrkr',\n",
    "    'FireplaceQu': 'No Fireplace',\n",
    "    'GarageType': 'No Garage',\n",
    "    'PoolQC': 'No Pool',\n",
    "    'Fence': 'No Fence',\n",
    "    'MiscFeature': 'None',\n",
    "    'LotFrontage': data['LotFrontage'].median(),\n",
    "    'MasVnrArea': 0,\n",
    "    'GarageYrBlt': 0\n",
    "}, inplace=True)"
   ],
   "metadata": {
    "collapsed": false,
    "ExecuteTime": {
     "end_time": "2023-09-17T14:40:17.144274Z",
     "start_time": "2023-09-17T14:40:17.093138Z"
    }
   },
   "id": "770dc6aef9675e3c"
  },
  {
   "cell_type": "markdown",
   "source": [
    "### Standardization"
   ],
   "metadata": {
    "collapsed": false
   },
   "id": "7ab0e50f64b2f2e5"
  },
  {
   "cell_type": "code",
   "execution_count": 48,
   "outputs": [],
   "source": [
    "numeric_data = data.select_dtypes(include=[np.number])\n",
    "numeric_data_filtered = numeric_data.drop('SalePrice', axis=1)"
   ],
   "metadata": {
    "collapsed": false,
    "ExecuteTime": {
     "end_time": "2023-09-17T14:40:17.144368Z",
     "start_time": "2023-09-17T14:40:17.100725Z"
    }
   },
   "id": "7deb28dc989d1ef0"
  },
  {
   "cell_type": "code",
   "execution_count": 49,
   "outputs": [],
   "source": [
    "scaler = StandardScaler()\n",
    "scaled_numeric_data = scaler.fit_transform(numeric_data_filtered)"
   ],
   "metadata": {
    "collapsed": false,
    "ExecuteTime": {
     "end_time": "2023-09-17T14:40:17.144412Z",
     "start_time": "2023-09-17T14:40:17.105959Z"
    }
   },
   "id": "596f6e1349dca100"
  },
  {
   "cell_type": "markdown",
   "source": [
    "### PCA from scratch"
   ],
   "metadata": {
    "collapsed": false
   },
   "id": "66e34e684f4dd529"
  },
  {
   "cell_type": "code",
   "execution_count": 50,
   "outputs": [],
   "source": [
    "cov_matrix = np.cov(scaled_numeric_data.T)\n",
    "eigenvalues, eigenvectors = np.linalg.eig(cov_matrix)\n",
    "\n",
    "# Determine number of Principal Components\n",
    "sorted_eigenvalues = sorted(eigenvalues, reverse=True)"
   ],
   "metadata": {
    "collapsed": false,
    "ExecuteTime": {
     "end_time": "2023-09-17T14:40:17.144449Z",
     "start_time": "2023-09-17T14:40:17.110404Z"
    }
   },
   "id": "ac4b1569e29ee79c"
  },
  {
   "cell_type": "code",
   "execution_count": 51,
   "outputs": [
    {
     "data": {
      "text/plain": "<Figure size 640x480 with 1 Axes>",
      "image/png": "[encoded data removed]"
     },
     "metadata": {},
     "output_type": "display_data"
    }
   ],
   "source": [
    "plt.plot(sorted_eigenvalues, 'bp')\n",
    "plt.xlabel('Principal Components')\n",
    "plt.ylabel('Explained Variance')\n",
    "plt.title('Scree Plot')\n",
    "plt.annotate(text='Elbow Point', xy=(4, 1.5), xytext=(5, 2.5), arrowprops=dict(facecolor='black', arrowstyle='simple'))\n",
    "plt.show()"
   ],
   "metadata": {
    "collapsed": false,
    "ExecuteTime": {
     "end_time": "2023-09-17T14:40:17.207765Z",
     "start_time": "2023-09-17T14:40:17.115274Z"
    }
   },
   "id": "916f0042af142e20"
  },
  {
   "cell_type": "markdown",
   "source": [
    "### Compute Principal Components manually"
   ],
   "metadata": {
    "collapsed": false
   },
   "id": "83771297f88c1429"
  },
  {
   "cell_type": "code",
   "execution_count": 52,
   "outputs": [],
   "source": [
    "selected_eigenvectors = eigenvectors[:, 0:5]\n",
    "manual_PCA_result = pd.DataFrame(scaled_numeric_data.dot(selected_eigenvectors), columns=['Manual_PC1', 'Manual_PC2', 'Manual_PC3', 'Manual_PC4', 'Manual_PC5'])"
   ],
   "metadata": {
    "collapsed": false,
    "ExecuteTime": {
     "end_time": "2023-09-17T14:40:17.213972Z",
     "start_time": "2023-09-17T14:40:17.205605Z"
    }
   },
   "id": "7e3ce0a3853421d9"
  },
  {
   "cell_type": "markdown",
   "source": [
    "### PCA using sklearn"
   ],
   "metadata": {
    "collapsed": false
   },
   "id": "e83fdfdcb69e26ee"
  },
  {
   "cell_type": "code",
   "execution_count": 53,
   "outputs": [],
   "source": [
    "pca_model = PCA(n_components=5, random_state=0)\n",
    "sklearn_PCA_result = pca_model.fit_transform(scaled_numeric_data)\n",
    "sklearn_PCA_df = pd.DataFrame(sklearn_PCA_result, columns=['Sklearn_PC1', 'Sklearn_PC2', 'Sklearn_PC3', 'Sklearn_PC4', 'Sklearn_PC5'])"
   ],
   "metadata": {
    "collapsed": false,
    "ExecuteTime": {
     "end_time": "2023-09-17T14:40:18.367657Z",
     "start_time": "2023-09-17T14:40:17.210270Z"
    }
   },
   "id": "11ad30c62533e919"
  },
  {
   "cell_type": "markdown",
   "source": [
    "### Comparing manual vs sklearn PCA results"
   ],
   "metadata": {
    "collapsed": false
   },
   "id": "a48d41046bebd20d"
  },
  {
   "cell_type": "code",
   "execution_count": 54,
   "outputs": [
    {
     "name": "stdout",
     "output_type": "stream",
     "text": [
      "   Manual_PC1  Manual_PC2  Manual_PC3  Manual_PC4  Manual_PC5\n",
      "0   -1.571468    0.233699    1.586585    2.219473   -0.715615\n",
      "1   -0.199890    0.835867   -1.050234   -0.097077    0.627275\n",
      "2   -1.740971    0.251788    1.391157    1.637273   -0.046151\n",
      "3    1.470652   -1.877190   -1.515307    0.180157    1.837106\n",
      "4   -4.216754   -1.116376    0.533713    1.621483    0.334647\n",
      "   Sklearn_PC1  Sklearn_PC2  Sklearn_PC3  Sklearn_PC4  Sklearn_PC5\n",
      "0     1.571352    -0.240622    -1.586777    -2.241474     0.753565\n",
      "1     0.199709    -0.835527     1.042285     0.089567    -0.634687\n",
      "2     1.741028    -0.250540    -1.389540    -1.627933     0.038217\n",
      "3    -1.470503     1.871470     1.526313    -0.195221    -1.759654\n",
      "4     4.216874     1.125024    -0.532845    -1.588267    -0.391245\n"
     ]
    }
   ],
   "source": [
    "print(manual_PCA_result.head())\n",
    "print(sklearn_PCA_df.head())"
   ],
   "metadata": {
    "collapsed": false,
    "ExecuteTime": {
     "end_time": "2023-09-17T14:40:18.389548Z",
     "start_time": "2023-09-17T14:40:18.382730Z"
    }
   },
   "id": "initial_id"
  },
  {
   "cell_type": "markdown",
   "source": [
    "The manual and sklearn-based PCA methods yield similar results in terms of principal component magnitudes, although the signs may be opposite. The reason the signs are flipped is due to the mathematical properties of eigenvectors. This illustrates the effectiveness of both the manual calculation and sklearn's PCA method in reducing the dimensionality of the dataset."
   ],
   "metadata": {
    "collapsed": false
   },
   "id": "f382a2c33cfbc99d"
  }
 ],
 "metadata": {
  "kernelspec": {
   "display_name": "Python 3",
   "language": "python",
   "name": "python3"
  },
  "language_info": {
   "codemirror_mode": {
    "name": "ipython",
    "version": 2
   },
   "file_extension": ".py",
   "mimetype": "text/x-python",
   "name": "python",
   "nbconvert_exporter": "python",
   "pygments_lexer": "ipython2",
   "version": "2.7.6"
  }
 },
 "nbformat": 4,
 "nbformat_minor": 5
}
