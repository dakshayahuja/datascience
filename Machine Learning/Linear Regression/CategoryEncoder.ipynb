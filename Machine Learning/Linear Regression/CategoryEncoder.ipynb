{
 "cells": [
  {
   "cell_type": "markdown",
   "metadata": {
    "colab_type": "text",
    "id": "CazISR8X_HUG"
   },
   "source": [
    "# Multiple Linear Regression-Category Encoders Usage"
   ]
  },
  {
   "cell_type": "markdown",
   "metadata": {
    "colab_type": "text",
    "id": "pOyqYHTk_Q57"
   },
   "source": [
    "# Importing the libraries"
   ]
  },
  {
   "cell_type": "code",
   "execution_count": 18,
   "metadata": {
    "colab": {},
    "colab_type": "code",
    "id": "T_YHJjnD_Tja",
    "ExecuteTime": {
     "end_time": "2023-09-04T05:29:09.585307Z",
     "start_time": "2023-09-04T05:29:09.552828Z"
    }
   },
   "outputs": [],
   "source": [
    "import numpy as np\n",
    "import matplotlib.pyplot as plt\n",
    "import pandas as pd\n",
    "from category_encoders import *"
   ]
  },
  {
   "cell_type": "markdown",
   "metadata": {
    "colab_type": "text",
    "id": "vgC61-ah_WIz"
   },
   "source": [
    "# Importing the dataset"
   ]
  },
  {
   "cell_type": "code",
   "execution_count": 19,
   "metadata": {
    "colab": {},
    "colab_type": "code",
    "id": "UrxyEKGn_ez7",
    "ExecuteTime": {
     "end_time": "2023-09-04T05:29:09.597110Z",
     "start_time": "2023-09-04T05:29:09.561240Z"
    }
   },
   "outputs": [],
   "source": [
    "dataset = pd.read_csv(\"Project/insurance.csv\")\n",
    "x = dataset.iloc[:, :-1].values\n",
    "y = dataset.iloc[:, -1].values"
   ]
  },
  {
   "cell_type": "code",
   "execution_count": 20,
   "metadata": {
    "ExecuteTime": {
     "end_time": "2023-09-04T05:29:09.608077Z",
     "start_time": "2023-09-04T05:29:09.574089Z"
    }
   },
   "outputs": [
    {
     "data": {
      "text/plain": "   age     sex     bmi  children smoker     region      charges\n0   19  female  27.900         0    yes  southwest  16884.92400\n1   18    male  33.770         1     no  southeast   1725.55230\n2   28    male  33.000         3     no  southeast   4449.46200\n3   33    male  22.705         0     no  northwest  21984.47061\n4   32    male  28.880         0     no  northwest   3866.85520",
      "text/html": "<div>\n<style scoped>\n    .dataframe tbody tr th:only-of-type {\n        vertical-align: middle;\n    }\n\n    .dataframe tbody tr th {\n        vertical-align: top;\n    }\n\n    .dataframe thead th {\n        text-align: right;\n    }\n</style>\n<table border=\"1\" class=\"dataframe\">\n  <thead>\n    <tr style=\"text-align: right;\">\n      <th></th>\n      <th>age</th>\n      <th>sex</th>\n      <th>bmi</th>\n      <th>children</th>\n      <th>smoker</th>\n      <th>region</th>\n      <th>charges</th>\n    </tr>\n  </thead>\n  <tbody>\n    <tr>\n      <th>0</th>\n      <td>19</td>\n      <td>female</td>\n      <td>27.900</td>\n      <td>0</td>\n      <td>yes</td>\n      <td>southwest</td>\n      <td>16884.92400</td>\n    </tr>\n    <tr>\n      <th>1</th>\n      <td>18</td>\n      <td>male</td>\n      <td>33.770</td>\n      <td>1</td>\n      <td>no</td>\n      <td>southeast</td>\n      <td>1725.55230</td>\n    </tr>\n    <tr>\n      <th>2</th>\n      <td>28</td>\n      <td>male</td>\n      <td>33.000</td>\n      <td>3</td>\n      <td>no</td>\n      <td>southeast</td>\n      <td>4449.46200</td>\n    </tr>\n    <tr>\n      <th>3</th>\n      <td>33</td>\n      <td>male</td>\n      <td>22.705</td>\n      <td>0</td>\n      <td>no</td>\n      <td>northwest</td>\n      <td>21984.47061</td>\n    </tr>\n    <tr>\n      <th>4</th>\n      <td>32</td>\n      <td>male</td>\n      <td>28.880</td>\n      <td>0</td>\n      <td>no</td>\n      <td>northwest</td>\n      <td>3866.85520</td>\n    </tr>\n  </tbody>\n</table>\n</div>"
     },
     "execution_count": 20,
     "metadata": {},
     "output_type": "execute_result"
    }
   ],
   "source": [
    "dataset.head()"
   ]
  },
  {
   "cell_type": "code",
   "execution_count": 21,
   "metadata": {
    "colab": {
     "base_uri": "https://localhost:8080/",
     "height": 857
    },
    "colab_type": "code",
    "executionInfo": {
     "elapsed": 552,
     "status": "ok",
     "timestamp": 1586353652778,
     "user": {
      "displayName": "Hadelin de Ponteves",
      "photoUrl": "https://lh3.googleusercontent.com/a-/AOh14GhEuXdT7eQweUmRPW8_laJuPggSK6hfvpl5a6WBaA=s64",
      "userId": "15047218817161520419"
     },
     "user_tz": -240
    },
    "id": "GOB3QhV9B5kD",
    "outputId": "4a05377a-2db2-43fc-b824-a0710448baee",
    "ExecuteTime": {
     "end_time": "2023-09-04T05:29:09.608639Z",
     "start_time": "2023-09-04T05:29:09.580019Z"
    }
   },
   "outputs": [
    {
     "name": "stdout",
     "output_type": "stream",
     "text": [
      "[[19 'female' 27.9 0 'yes' 'southwest']\n",
      " [18 'male' 33.77 1 'no' 'southeast']\n",
      " [28 'male' 33.0 3 'no' 'southeast']\n",
      " [33 'male' 22.705 0 'no' 'northwest']\n",
      " [32 'male' 28.88 0 'no' 'northwest']]\n"
     ]
    }
   ],
   "source": [
    "print(x[:5,:])"
   ]
  },
  {
   "cell_type": "markdown",
   "metadata": {
    "colab_type": "text",
    "id": "VadrvE7s_lS9"
   },
   "source": [
    "# Encoding categorical data using BinaryEncoder"
   ]
  },
  {
   "cell_type": "code",
   "execution_count": 22,
   "metadata": {
    "ExecuteTime": {
     "end_time": "2023-09-04T05:29:09.610137Z",
     "start_time": "2023-09-04T05:29:09.587499Z"
    }
   },
   "outputs": [],
   "source": [
    "lb= BinaryEncoder(cols=[1,4,5]).fit(x)\n",
    "x= lb.transform(x)\n",
    "x=np.array(x)\n"
   ]
  },
  {
   "cell_type": "code",
   "execution_count": 23,
   "metadata": {
    "ExecuteTime": {
     "end_time": "2023-09-04T05:29:09.616394Z",
     "start_time": "2023-09-04T05:29:09.608686Z"
    }
   },
   "outputs": [],
   "source": [
    "#from sklearn.compose import ColumnTransformer\n",
    "#from sklearn.preprocessing import OneHotEncoder\n",
    "#ct = ColumnTransformer(transformers=[('encoder', OneHotEncoder(), [1,4,5])], remainder='passthrough')\n",
    "#x = np.array(ct.fit_transform(x))"
   ]
  },
  {
   "cell_type": "code",
   "execution_count": 24,
   "metadata": {
    "colab": {
     "base_uri": "https://localhost:8080/",
     "height": 857
    },
    "colab_type": "code",
    "executionInfo": {
     "elapsed": 616,
     "status": "ok",
     "timestamp": 1586353657759,
     "user": {
      "displayName": "Hadelin de Ponteves",
      "photoUrl": "https://lh3.googleusercontent.com/a-/AOh14GhEuXdT7eQweUmRPW8_laJuPggSK6hfvpl5a6WBaA=s64",
      "userId": "15047218817161520419"
     },
     "user_tz": -240
    },
    "id": "4ym3HdYeCGYG",
    "outputId": "ce09e670-cf06-4a1c-f5b0-89422aae0496",
    "ExecuteTime": {
     "end_time": "2023-09-04T05:29:09.616599Z",
     "start_time": "2023-09-04T05:29:09.612137Z"
    }
   },
   "outputs": [
    {
     "name": "stdout",
     "output_type": "stream",
     "text": [
      "[[19 0 1 27.9 0 0 1 0 0 1]\n",
      " [18 1 0 33.77 1 1 0 0 1 0]\n",
      " [28 1 0 33.0 3 1 0 0 1 0]\n",
      " [33 1 0 22.705 0 1 0 0 1 1]\n",
      " [32 1 0 28.88 0 1 0 0 1 1]]\n"
     ]
    }
   ],
   "source": [
    "print(x[:5])"
   ]
  },
  {
   "cell_type": "markdown",
   "metadata": {
    "colab_type": "text",
    "id": "WemVnqgeA70k"
   },
   "source": [
    "# Splitting the dataset into the Training set and Test set"
   ]
  },
  {
   "cell_type": "code",
   "execution_count": 25,
   "metadata": {
    "colab": {},
    "colab_type": "code",
    "id": "Kb_v_ae-A-20",
    "ExecuteTime": {
     "end_time": "2023-09-04T05:29:09.622138Z",
     "start_time": "2023-09-04T05:29:09.615346Z"
    }
   },
   "outputs": [],
   "source": [
    "from sklearn.model_selection import train_test_split\n",
    "x_train, x_test, y_train, y_test = train_test_split(x, y, test_size = 0.2, random_state = 0)"
   ]
  },
  {
   "cell_type": "markdown",
   "metadata": {
    "colab_type": "text",
    "id": "k-McZVsQBINc"
   },
   "source": [
    "# Training the Multiple Linear Regression model on the Training set"
   ]
  },
  {
   "cell_type": "code",
   "execution_count": 26,
   "metadata": {
    "colab": {
     "base_uri": "https://localhost:8080/",
     "height": 34
    },
    "colab_type": "code",
    "executionInfo": {
     "elapsed": 757,
     "status": "ok",
     "timestamp": 1586353664008,
     "user": {
      "displayName": "Hadelin de Ponteves",
      "photoUrl": "https://lh3.googleusercontent.com/a-/AOh14GhEuXdT7eQweUmRPW8_laJuPggSK6hfvpl5a6WBaA=s64",
      "userId": "15047218817161520419"
     },
     "user_tz": -240
    },
    "id": "ywPjx0L1BMiD",
    "outputId": "099836bc-4d85-4b4f-a488-093faf02e8cb",
    "ExecuteTime": {
     "end_time": "2023-09-04T05:29:09.627232Z",
     "start_time": "2023-09-04T05:29:09.620936Z"
    }
   },
   "outputs": [
    {
     "data": {
      "text/plain": "LinearRegression()",
      "text/html": "<style>#sk-container-id-2 {color: black;}#sk-container-id-2 pre{padding: 0;}#sk-container-id-2 div.sk-toggleable {background-color: white;}#sk-container-id-2 label.sk-toggleable__label {cursor: pointer;display: block;width: 100%;margin-bottom: 0;padding: 0.3em;box-sizing: border-box;text-align: center;}#sk-container-id-2 label.sk-toggleable__label-arrow:before {content: \"▸\";float: left;margin-right: 0.25em;color: #696969;}#sk-container-id-2 label.sk-toggleable__label-arrow:hover:before {color: black;}#sk-container-id-2 div.sk-estimator:hover label.sk-toggleable__label-arrow:before {color: black;}#sk-container-id-2 div.sk-toggleable__content {max-height: 0;max-width: 0;overflow: hidden;text-align: left;background-color: #f0f8ff;}#sk-container-id-2 div.sk-toggleable__content pre {margin: 0.2em;color: black;border-radius: 0.25em;background-color: #f0f8ff;}#sk-container-id-2 input.sk-toggleable__control:checked~div.sk-toggleable__content {max-height: 200px;max-width: 100%;overflow: auto;}#sk-container-id-2 input.sk-toggleable__control:checked~label.sk-toggleable__label-arrow:before {content: \"▾\";}#sk-container-id-2 div.sk-estimator input.sk-toggleable__control:checked~label.sk-toggleable__label {background-color: #d4ebff;}#sk-container-id-2 div.sk-label input.sk-toggleable__control:checked~label.sk-toggleable__label {background-color: #d4ebff;}#sk-container-id-2 input.sk-hidden--visually {border: 0;clip: rect(1px 1px 1px 1px);clip: rect(1px, 1px, 1px, 1px);height: 1px;margin: -1px;overflow: hidden;padding: 0;position: absolute;width: 1px;}#sk-container-id-2 div.sk-estimator {font-family: monospace;background-color: #f0f8ff;border: 1px dotted black;border-radius: 0.25em;box-sizing: border-box;margin-bottom: 0.5em;}#sk-container-id-2 div.sk-estimator:hover {background-color: #d4ebff;}#sk-container-id-2 div.sk-parallel-item::after {content: \"\";width: 100%;border-bottom: 1px solid gray;flex-grow: 1;}#sk-container-id-2 div.sk-label:hover label.sk-toggleable__label {background-color: #d4ebff;}#sk-container-id-2 div.sk-serial::before {content: \"\";position: absolute;border-left: 1px solid gray;box-sizing: border-box;top: 0;bottom: 0;left: 50%;z-index: 0;}#sk-container-id-2 div.sk-serial {display: flex;flex-direction: column;align-items: center;background-color: white;padding-right: 0.2em;padding-left: 0.2em;position: relative;}#sk-container-id-2 div.sk-item {position: relative;z-index: 1;}#sk-container-id-2 div.sk-parallel {display: flex;align-items: stretch;justify-content: center;background-color: white;position: relative;}#sk-container-id-2 div.sk-item::before, #sk-container-id-2 div.sk-parallel-item::before {content: \"\";position: absolute;border-left: 1px solid gray;box-sizing: border-box;top: 0;bottom: 0;left: 50%;z-index: -1;}#sk-container-id-2 div.sk-parallel-item {display: flex;flex-direction: column;z-index: 1;position: relative;background-color: white;}#sk-container-id-2 div.sk-parallel-item:first-child::after {align-self: flex-end;width: 50%;}#sk-container-id-2 div.sk-parallel-item:last-child::after {align-self: flex-start;width: 50%;}#sk-container-id-2 div.sk-parallel-item:only-child::after {width: 0;}#sk-container-id-2 div.sk-dashed-wrapped {border: 1px dashed gray;margin: 0 0.4em 0.5em 0.4em;box-sizing: border-box;padding-bottom: 0.4em;background-color: white;}#sk-container-id-2 div.sk-label label {font-family: monospace;font-weight: bold;display: inline-block;line-height: 1.2em;}#sk-container-id-2 div.sk-label-container {text-align: center;}#sk-container-id-2 div.sk-container {/* jupyter's `normalize.less` sets `[hidden] { display: none; }` but bootstrap.min.css set `[hidden] { display: none !important; }` so we also need the `!important` here to be able to override the default hidden behavior on the sphinx rendered scikit-learn.org. See: https://github.com/scikit-learn/scikit-learn/issues/21755 */display: inline-block !important;position: relative;}#sk-container-id-2 div.sk-text-repr-fallback {display: none;}</style><div id=\"sk-container-id-2\" class=\"sk-top-container\"><div class=\"sk-text-repr-fallback\"><pre>LinearRegression()</pre><b>In a Jupyter environment, please rerun this cell to show the HTML representation or trust the notebook. <br />On GitHub, the HTML representation is unable to render, please try loading this page with nbviewer.org.</b></div><div class=\"sk-container\" hidden><div class=\"sk-item\"><div class=\"sk-estimator sk-toggleable\"><input class=\"sk-toggleable__control sk-hidden--visually\" id=\"sk-estimator-id-2\" type=\"checkbox\" checked><label for=\"sk-estimator-id-2\" class=\"sk-toggleable__label sk-toggleable__label-arrow\">LinearRegression</label><div class=\"sk-toggleable__content\"><pre>LinearRegression()</pre></div></div></div></div></div>"
     },
     "execution_count": 26,
     "metadata": {},
     "output_type": "execute_result"
    }
   ],
   "source": [
    "from sklearn.linear_model import LinearRegression\n",
    "regressor = LinearRegression()\n",
    "regressor.fit(x_train, y_train)"
   ]
  },
  {
   "cell_type": "markdown",
   "metadata": {
    "colab_type": "text",
    "id": "xNkXL1YQBiBT"
   },
   "source": [
    "# Predicting the Test set results"
   ]
  },
  {
   "cell_type": "code",
   "execution_count": 27,
   "metadata": {
    "colab": {
     "base_uri": "https://localhost:8080/",
     "height": 185
    },
    "colab_type": "code",
    "executionInfo": {
     "elapsed": 951,
     "status": "ok",
     "timestamp": 1586353666678,
     "user": {
      "displayName": "Hadelin de Ponteves",
      "photoUrl": "https://lh3.googleusercontent.com/a-/AOh14GhEuXdT7eQweUmRPW8_laJuPggSK6hfvpl5a6WBaA=s64",
      "userId": "15047218817161520419"
     },
     "user_tz": -240
    },
    "id": "TQKmwvtdBkyb",
    "outputId": "493436bf-a4ae-4374-ca16-0b0c25d19457",
    "ExecuteTime": {
     "end_time": "2023-09-04T05:29:09.658815Z",
     "start_time": "2023-09-04T05:29:09.631673Z"
    }
   },
   "outputs": [
    {
     "name": "stdout",
     "output_type": "stream",
     "text": [
      "[[11169  9724]\n",
      " [ 9486  8547]\n",
      " [38181 45702]\n",
      " [16266 12950]\n",
      " [ 6914  9644]\n",
      " [ 3963  4500]\n",
      " [ 1579  2198]\n",
      " [14385 11436]\n",
      " [ 9012  7537]\n",
      " [ 7508  5425]\n",
      " [ 4491  6753]\n",
      " [10279 10493]\n",
      " [ 8801  7337]\n",
      " [ 3798  4185]\n",
      " [27926 18310]\n",
      " [10715 10702]\n",
      " [11288 12523]\n",
      " [ 6105  3490]\n",
      " [ 8241  6457]\n",
      " [27144 33475]\n",
      " [33644 23967]\n",
      " [14355 12643]\n",
      " [11737 23045]\n",
      " [32137 23065]\n",
      " [ 4170  1674]\n",
      " [ 9254  4667]\n",
      " [ 1084  3732]\n",
      " [ 9804  7682]\n",
      " [ 3771  3756]\n",
      " [10431  8413]\n",
      " [ 9009  8059]\n",
      " [40074 48970]\n",
      " [15688 12979]\n",
      " [13879 20630]\n",
      " [24759 14571]\n",
      " [ 5166  4137]\n",
      " [12610  8347]\n",
      " [30769 51194]\n",
      " [33549 40003]\n",
      " [ 3671  1880]\n",
      " [ 3975  5458]\n",
      " [ 3987  2867]\n",
      " [30528 20149]\n",
      " [39505 47496]\n",
      " [27810 36149]\n",
      " [ 5092 26018]\n",
      " [10604 19749]\n",
      " [ 7829  6940]\n",
      " [ 3592  4718]\n",
      " [10212 22192]\n",
      " [ 5720  2899]\n",
      " [ 3426 18838]\n",
      " [33021 23568]\n",
      " [38473 46255]\n",
      " [16053 24227]\n",
      " [ 7164  3268]\n",
      " [ 5739  2322]\n",
      " [ 9454  8827]\n",
      " [ 8910 14478]\n",
      " [11725 13112]\n",
      " [ 1856  1253]\n",
      " [38914 46718]\n",
      " [14899 13919]\n",
      " [11804  9630]\n",
      " [14050 10736]\n",
      " [14056  9880]\n",
      " [25831 32548]\n",
      " [32230 38746]\n",
      " [  814  3180]\n",
      " [10164  8162]\n",
      " [12359 13041]\n",
      " [11527 11554]\n",
      " [25245 16232]\n",
      " [15622 13887]\n",
      " [11208 13012]\n",
      " [12649 13217]\n",
      " [ 6556  7147]\n",
      " [ 9590  7731]\n",
      " [30186 20296]\n",
      " [39107 47403]\n",
      " [12049 11658]\n",
      " [37294 45863]\n",
      " [ 4265  2055]\n",
      " [ 9394  7441]\n",
      " [34852 41034]\n",
      " [28847 18972]\n",
      " [ 8687  3410]\n",
      " [ 4929  2699]\n",
      " [12038 12333]\n",
      " [30470 36837]\n",
      " [10080  6334]\n",
      " [11393 10214]\n",
      " [ 8398 17878]\n",
      " [ 8898  8515]\n",
      " [ 8431  4518]\n",
      " [ 7323  5148]\n",
      " [36024 42303]\n",
      " [33182 38998]\n",
      " [ 7661  5327]\n",
      " [15141 10602]\n",
      " [ 4017  1824]\n",
      " [ 8828  5377]\n",
      " [ 6322  4349]\n",
      " [31548 37742]\n",
      " [32978 32787]\n",
      " [ 1974  3353]\n",
      " [ 9026 10577]\n",
      " [ 6696  3556]\n",
      " [14584 11944]\n",
      " [37241 52590]\n",
      " [10135 12475]\n",
      " [10584  4266]\n",
      " [10228  9249]\n",
      " [26988 33732]\n",
      " [39900 48675]\n",
      " [ 8462  7729]\n",
      " [  296  1964]\n",
      " [ 9016  8444]\n",
      " [15263 12347]\n",
      " [ 9526  9301]\n",
      " [35152 42124]\n",
      " [ 7264  9991]\n",
      " [16984 14319]\n",
      " [ 9653  5428]\n",
      " [ 8248  7626]\n",
      " [ 2941  4906]\n",
      " [32914 23401]\n",
      " [31483 21098]\n",
      " [39626 48173]\n",
      " [ 5607  1917]\n",
      " [ 9310  8219]\n",
      " [ 3592  1725]\n",
      " [ 7646  5976]\n",
      " [ 8627  9361]\n",
      " [31733 22144]\n",
      " [29973 35491]\n",
      " [29781 19515]\n",
      " [ 8726 10107]\n",
      " [32433 23244]\n",
      " [ 3360  2789]\n",
      " [ 3709  2261]\n",
      " [11137 10594]\n",
      " [13150  9304]\n",
      " [12867 10435]\n",
      " [ 5448  4894]\n",
      " [15580 14313]\n",
      " [14933 28287]\n",
      " [ 2408 14426]\n",
      " [   25  1627]\n",
      " [10846 25517]\n",
      " [ 7409  6555]\n",
      " [31852 39611]\n",
      " [12383  9964]\n",
      " [ 2335  1720]\n",
      " [ 6478  2730]\n",
      " [ 7858  6500]\n",
      " [ 4447  2643]\n",
      " [ 2113  1719]\n",
      " [11354 11085]\n",
      " [12540 10115]\n",
      " [ 7264  4846]\n",
      " [16387 12982]\n",
      " [11815 28923]\n",
      " [14107  9391]\n",
      " [ 3184  4544]\n",
      " [ 7291 17128]\n",
      " [23125 13844]\n",
      " [ 7592  6113]\n",
      " [ 5490  4441]\n",
      " [ 5203  1633]\n",
      " [ 6758  4058]\n",
      " [ 5198  4435]\n",
      " [10003  8310]\n",
      " [ 5379  1986]\n",
      " [ 5734  4260]\n",
      " [ 6641  4504]\n",
      " [ 3698  4428]\n",
      " [ 5568  6117]\n",
      " [38062 30184]\n",
      " [ 1500  1708]\n",
      " [12638 11187]\n",
      " [ 8966  6796]\n",
      " [13783 11356]\n",
      " [ 5401  2498]\n",
      " [ 5188 27375]\n",
      " [36459 28101]\n",
      " [ 4397  2254]\n",
      " [ 2044  2597]\n",
      " [15223 14692]\n",
      " [12679 10370]\n",
      " [35138 41097]\n",
      " [ 4780  3981]\n",
      " [ 5681  5472]\n",
      " [31230 21223]\n",
      " [ 6207  2534]\n",
      " [ 2151  1972]\n",
      " [ 8438  6406]\n",
      " [10046  6551]\n",
      " [ 8002  4058]\n",
      " [ 5804  4243]\n",
      " [13160 11512]\n",
      " [38467 46889]\n",
      " [13750 12268]\n",
      " [28876 19199]\n",
      " [ 6787  4433]\n",
      " [35530 42969]\n",
      " [ 3766 23241]\n",
      " [11891  9140]\n",
      " [ 9059  5836]\n",
      " [ 6259  1149]\n",
      " [11362  8765]\n",
      " [14561 14043]\n",
      " [ 5166  5312]\n",
      " [ 4466 10795]\n",
      " [ 7908  6282]\n",
      " [ 1344  1969]\n",
      " [ 7856  6746]\n",
      " [ 4417  5354]\n",
      " [12887 14001]\n",
      " [ 4241  6877]\n",
      " [10113  6196]\n",
      " [ 7196  7986]\n",
      " [ 9296  8277]\n",
      " [ 2397  3206]\n",
      " [13244 11848]\n",
      " [16867 14210]\n",
      " [14941 12265]\n",
      " [10590 11837]\n",
      " [ 5290  6652]\n",
      " [ 2233  2137]\n",
      " [ 1935  1131]\n",
      " [13508  8342]\n",
      " [14052 12244]\n",
      " [ 5018  4561]\n",
      " [ 3759 17626]\n",
      " [ 9488  6875]\n",
      " [ 9978  9447]\n",
      " [28286 34254]\n",
      " [ 7649  6067]\n",
      " [10470 11729]\n",
      " [ 6323  5383]\n",
      " [29854 37465]\n",
      " [11149  7371]\n",
      " [ 7506  7325]\n",
      " [10233  8410]\n",
      " [12247 10461]\n",
      " [ 3007  3279]\n",
      " [10875  7727]\n",
      " [ 1540  2731]\n",
      " [ 7038  6858]\n",
      " [28446 19521]\n",
      " [38689 47305]\n",
      " [ 6369  3987]\n",
      " [ 8192  3238]\n",
      " [ 2536  7323]\n",
      " [  446  1704]\n",
      " [10569  7445]\n",
      " [ 4205  1629]\n",
      " [ 4955  4877]\n",
      " [ 2343  3561]\n",
      " [ 6807  8605]\n",
      " [33409 24520]\n",
      " [38246 45710]\n",
      " [14760 15019]\n",
      " [ 8277  6664]\n",
      " [16149 20709]\n",
      " [32904 40932]\n",
      " [ 9467  9500]]\n"
     ]
    }
   ],
   "source": [
    "y_pred = regressor.predict(x_test)\n",
    "np.set_printoptions(precision=2)\n",
    "eva= np.concatenate((y_pred.reshape(len(y_pred),1), y_test.reshape(len(y_test),1)),1)\n",
    "eva1=eva.astype(int)\n",
    "print(eva1)"
   ]
  },
  {
   "cell_type": "markdown",
   "metadata": {},
   "source": [
    "# Evaluating the Model Performance"
   ]
  },
  {
   "cell_type": "code",
   "execution_count": 28,
   "metadata": {
    "ExecuteTime": {
     "end_time": "2023-09-04T05:29:09.659085Z",
     "start_time": "2023-09-04T05:29:09.637980Z"
    }
   },
   "outputs": [
    {
     "name": "stdout",
     "output_type": "stream",
     "text": [
      "R Square:  80.0 % Accuracy\n",
      "MSE:  31827950.23\n",
      "RMSE:  5641.63\n"
     ]
    }
   ],
   "source": [
    "from sklearn.metrics import r2_score,mean_squared_error as mse\n",
    "from math import sqrt\n",
    "print('R Square: ',round(r2_score(y_test, y_pred),2)*100,'% Accuracy')\n",
    "print('MSE: ',round(mse(y_test,y_pred),2))\n",
    "print('RMSE: ',round(sqrt(mse(y_test,y_pred)),2))"
   ]
  }
 ],
 "metadata": {
  "colab": {
   "authorship_tag": "ABX9TyPhYhte6t7H4wEK4xPpDWT7",
   "name": "Multiple Linear Regression",
   "provenance": [],
   "toc_visible": true
  },
  "kernelspec": {
   "display_name": "Python 3 (ipykernel)",
   "language": "python",
   "name": "python3"
  },
  "language_info": {
   "codemirror_mode": {
    "name": "ipython",
    "version": 3
   },
   "file_extension": ".py",
   "mimetype": "text/x-python",
   "name": "python",
   "nbconvert_exporter": "python",
   "pygments_lexer": "ipython3",
   "version": "3.11.3"
  }
 },
 "nbformat": 4,
 "nbformat_minor": 1
}
