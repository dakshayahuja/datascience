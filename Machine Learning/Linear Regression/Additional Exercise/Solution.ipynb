{
 "cells": [
  {
   "cell_type": "markdown",
   "id": "8a73df6ab7bcf5ec",
   "metadata": {},
   "source": [
    "# SGD(Stochastic Gradient Descent) Model"
   ]
  },
  {
   "cell_type": "markdown",
   "id": "47eac294707f324a",
   "metadata": {},
   "source": [
    "## Importing Libraries"
   ]
  },
  {
   "cell_type": "code",
   "execution_count": null,
   "id": "48cb9f26435a129f",
   "metadata": {},
   "outputs": [],
   "source": [
    "import numpy as np\n",
    "import pandas as pd\n",
    "import matplotlib.pyplot as plt\n",
    "from warnings import filterwarnings\n",
    "filterwarnings('ignore')"
   ]
  },
  {
   "cell_type": "markdown",
   "id": "77485f17703f3724",
   "metadata": {},
   "source": [
    "## Importing and Cleaning Data"
   ]
  },
  {
   "cell_type": "code",
   "execution_count": null,
   "id": "b1788827e8162e7",
   "metadata": {},
   "outputs": [],
   "source": [
    "data = pd.read_csv(\"data.csv\")\n",
    "# data.dtypes\n",
    "data = data.drop(columns= ['origin', 'name'])\n",
    "data[\"horsepower\"] = pd.to_numeric(data[\"horsepower\"], errors='coerce')\n",
    "# data[\"horsepower\"].fillna(data['horsepower'].mean(), inplace=True)\n",
    "# data[\"horsepower\"].fillna(data['horsepower'].median(), inplace=True)\n",
    "# data[\"horsepower\"] = data[\"horsepower\"].fillna(data['horsepower'].mode())\n",
    "# data"
   ]
  },
  {
   "cell_type": "markdown",
   "source": [
    "## Using Simple Imputer"
   ],
   "metadata": {
    "collapsed": false
   },
   "id": "30a0d33e7504004a"
  },
  {
   "cell_type": "code",
   "execution_count": null,
   "outputs": [],
   "source": [
    "from sklearn.impute import SimpleImputer\n",
    "# imp_mean = SimpleImputer(missing_values=np.nan, strategy='mean')\n",
    "imp_mode = SimpleImputer(missing_values=np.nan, strategy='most_frequent')\n",
    "data[\"horsepower\"] = imp_mode.fit_transform(data[[\"horsepower\"]])\n",
    "data"
   ],
   "metadata": {
    "collapsed": false
   },
   "id": "32f3cd88a6387b5"
  },
  {
   "cell_type": "markdown",
   "source": [
    "## Profiling Data"
   ],
   "metadata": {
    "collapsed": false
   },
   "id": "1f381932373a6ccc"
  },
  {
   "cell_type": "code",
   "execution_count": null,
   "outputs": [],
   "source": [
    "from pandas_profiling import ProfileReport\n",
    "prof = ProfileReport(data)\n",
    "# prof.to_file(output_file='output.html')"
   ],
   "metadata": {
    "collapsed": false
   },
   "id": "db333c4a5f493a96"
  },
  {
   "cell_type": "code",
   "execution_count": null,
   "id": "3326a4427db6b99c",
   "metadata": {},
   "outputs": [],
   "source": [
    "x = data.iloc[:,:-1].values\n",
    "y = data.iloc[:,-1].values"
   ]
  },
  {
   "cell_type": "markdown",
   "id": "488ef48ad7f2b0a0",
   "metadata": {},
   "source": [
    "## Splitting the dataset into the Training set and Test Set"
   ]
  },
  {
   "cell_type": "code",
   "execution_count": null,
   "id": "5817c4a497c7eb62",
   "metadata": {},
   "outputs": [],
   "source": [
    "from sklearn.model_selection import train_test_split\n",
    "x_train, x_test, y_train, y_test = train_test_split(x,y, test_size=0.2, random_state=0)"
   ]
  },
  {
   "cell_type": "markdown",
   "id": "726011bd49a0ec36",
   "metadata": {},
   "source": [
    "## Feature Scaling"
   ]
  },
  {
   "cell_type": "code",
   "execution_count": null,
   "id": "a7dac44ad3551f66",
   "metadata": {},
   "outputs": [],
   "source": [
    "from sklearn.compose import ColumnTransformer\n",
    "from sklearn.preprocessing import StandardScaler\n",
    "ct = ColumnTransformer([('scaler', StandardScaler(), [0,1,2,3,4,5]),], remainder='passthrough')\n",
    "\n",
    "x_train = ct.fit_transform(x_train)\n",
    "x_test = ct.transform(x_test)"
   ]
  },
  {
   "cell_type": "markdown",
   "id": "1184781b3446151b",
   "metadata": {},
   "source": [
    "## Training the Model"
   ]
  },
  {
   "cell_type": "code",
   "execution_count": null,
   "id": "96847503c1399ad6",
   "metadata": {},
   "outputs": [],
   "source": [
    "from sklearn.linear_model import SGDRegressor\n",
    "regressor = SGDRegressor()\n",
    "regressor.fit(x_train, y_train)"
   ]
  },
  {
   "cell_type": "markdown",
   "id": "3ee416e8edc6df6c",
   "metadata": {},
   "source": [
    "## Predicting the test set results"
   ]
  },
  {
   "cell_type": "code",
   "execution_count": null,
   "id": "89c68e722e13d8ad",
   "metadata": {},
   "outputs": [],
   "source": [
    "y_pred = regressor.predict(x_test)"
   ]
  },
  {
   "cell_type": "markdown",
   "id": "f76b005706eefa23",
   "metadata": {},
   "source": [
    "## Evaluating the Model Performance"
   ]
  },
  {
   "cell_type": "code",
   "execution_count": null,
   "id": "883aee75c55dc9a5",
   "metadata": {},
   "outputs": [],
   "source": [
    "from sklearn.model_selection import cross_val_score\n",
    "from sklearn.metrics import mean_squared_error, mean_absolute_error, r2_score\n",
    "cv_score = cross_val_score(regressor, x_train, y_train, cv=10) * 100\n",
    "print('Accuracy: {}%'.format(round((r2_score(y_test, y_pred)*100),2)))\n",
    "print(\"CV mean score: {}%\".format(round(cv_score.mean(),2)))\n",
    "print('Mean Squared Error:', mean_squared_error(y_test, y_pred))\n",
    "print('Mean Absolute Error:', mean_absolute_error(y_test, y_pred))"
   ]
  },
  {
   "cell_type": "markdown",
   "id": "146e549eb11e92c0",
   "metadata": {},
   "source": [
    "## Residual Plot"
   ]
  },
  {
   "cell_type": "code",
   "execution_count": null,
   "id": "31366946153ee998",
   "metadata": {},
   "outputs": [],
   "source": [
    "residuals = y_test - y_pred\n",
    "sizes = np.random.randint(300, size=len(y_pred))\n",
    "colors = np.random.randint(1000, size=len(y_pred))\n",
    "plt.scatter(y_pred, residuals, c=colors, cmap='Pastel1',edgecolors='gray', s=sizes)\n",
    "plt.axhline(y=0, color='r', linestyle='--')\n",
    "plt.xlabel(\"Predicted Values\")\n",
    "plt.ylabel(\"Residuals\")\n",
    "plt.title(\"Residual Plot\")\n",
    "plt.show()"
   ]
  },
  {
   "cell_type": "markdown",
   "source": [
    "Using mean we get accuracy = 81.22%\n",
    "Using median we get accuracy = 81.39%\n",
    "Using mode we get accuracy = 81.07%"
   ],
   "metadata": {
    "collapsed": false
   },
   "id": "f3c2b3698ef2ac1f"
  }
 ],
 "metadata": {
  "kernelspec": {
   "display_name": "Python 3 (ipykernel)",
   "language": "python",
   "name": "python3"
  },
  "language_info": {
   "codemirror_mode": {
    "name": "ipython",
    "version": 3
   },
   "file_extension": ".py",
   "mimetype": "text/x-python",
   "name": "python",
   "nbconvert_exporter": "python",
   "pygments_lexer": "ipython3",
   "version": "3.9.17"
  }
 },
 "nbformat": 4,
 "nbformat_minor": 5
}
