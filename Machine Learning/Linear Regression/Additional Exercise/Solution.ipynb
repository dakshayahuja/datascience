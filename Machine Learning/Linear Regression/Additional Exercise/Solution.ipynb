{
 "cells": [
  {
   "cell_type": "markdown",
   "id": "8a73df6ab7bcf5ec",
   "metadata": {},
   "source": [
    "# SGD( Schotastic Gradient Descent) Model"
   ]
  },
  {
   "cell_type": "markdown",
   "id": "47eac294707f324a",
   "metadata": {},
   "source": [
    "## Importing Libraries"
   ]
  },
  {
   "cell_type": "code",
   "execution_count": 82,
   "id": "48cb9f26435a129f",
   "metadata": {
    "ExecuteTime": {
     "end_time": "2023-09-04T05:51:05.085036Z",
     "start_time": "2023-09-04T05:51:05.059866Z"
    }
   },
   "outputs": [],
   "source": [
    "import numpy as np\n",
    "import pandas as pd\n",
    "import matplotlib.pyplot as plt\n",
    "from warnings import filterwarnings\n",
    "filterwarnings('ignore')"
   ]
  },
  {
   "cell_type": "markdown",
   "id": "77485f17703f3724",
   "metadata": {},
   "source": [
    "## Importing and Cleaning Data"
   ]
  },
  {
   "cell_type": "code",
   "execution_count": 83,
   "id": "b1788827e8162e7",
   "metadata": {
    "ExecuteTime": {
     "end_time": "2023-09-04T05:51:05.107951Z",
     "start_time": "2023-09-04T05:51:05.067244Z"
    }
   },
   "outputs": [
    {
     "data": {
      "text/plain": "     cylinders  displacement  horsepower  weight  acceleration  year  \\\n0            8         307.0       130.0    3504          12.0  1970   \n1            8         350.0       165.0    3693          11.5  1970   \n2            8         318.0       150.0    3436          11.0  1970   \n3            8         304.0       150.0    3433          12.0  1970   \n4            8         302.0       140.0    3449          10.5  1970   \n..         ...           ...         ...     ...           ...   ...   \n393          4         140.0        86.0    2790          15.6  1982   \n394          4          97.0        52.0    2130          24.6  1982   \n395          4         135.0        84.0    2295          11.6  1982   \n396          4         120.0        79.0    2625          18.6  1982   \n397          4         119.0        82.0    2720          19.4  1982   \n\n     Kilometer_per_liter  \n0               7.652587  \n1               6.377156  \n2               7.652587  \n3               6.802299  \n4               7.227443  \n..                   ...  \n393            11.478880  \n394            18.706323  \n395            13.604599  \n396            11.904024  \n397            13.179455  \n\n[398 rows x 7 columns]",
      "text/html": "<div>\n<style scoped>\n    .dataframe tbody tr th:only-of-type {\n        vertical-align: middle;\n    }\n\n    .dataframe tbody tr th {\n        vertical-align: top;\n    }\n\n    .dataframe thead th {\n        text-align: right;\n    }\n</style>\n<table border=\"1\" class=\"dataframe\">\n  <thead>\n    <tr style=\"text-align: right;\">\n      <th></th>\n      <th>cylinders</th>\n      <th>displacement</th>\n      <th>horsepower</th>\n      <th>weight</th>\n      <th>acceleration</th>\n      <th>year</th>\n      <th>Kilometer_per_liter</th>\n    </tr>\n  </thead>\n  <tbody>\n    <tr>\n      <th>0</th>\n      <td>8</td>\n      <td>307.0</td>\n      <td>130.0</td>\n      <td>3504</td>\n      <td>12.0</td>\n      <td>1970</td>\n      <td>7.652587</td>\n    </tr>\n    <tr>\n      <th>1</th>\n      <td>8</td>\n      <td>350.0</td>\n      <td>165.0</td>\n      <td>3693</td>\n      <td>11.5</td>\n      <td>1970</td>\n      <td>6.377156</td>\n    </tr>\n    <tr>\n      <th>2</th>\n      <td>8</td>\n      <td>318.0</td>\n      <td>150.0</td>\n      <td>3436</td>\n      <td>11.0</td>\n      <td>1970</td>\n      <td>7.652587</td>\n    </tr>\n    <tr>\n      <th>3</th>\n      <td>8</td>\n      <td>304.0</td>\n      <td>150.0</td>\n      <td>3433</td>\n      <td>12.0</td>\n      <td>1970</td>\n      <td>6.802299</td>\n    </tr>\n    <tr>\n      <th>4</th>\n      <td>8</td>\n      <td>302.0</td>\n      <td>140.0</td>\n      <td>3449</td>\n      <td>10.5</td>\n      <td>1970</td>\n      <td>7.227443</td>\n    </tr>\n    <tr>\n      <th>...</th>\n      <td>...</td>\n      <td>...</td>\n      <td>...</td>\n      <td>...</td>\n      <td>...</td>\n      <td>...</td>\n      <td>...</td>\n    </tr>\n    <tr>\n      <th>393</th>\n      <td>4</td>\n      <td>140.0</td>\n      <td>86.0</td>\n      <td>2790</td>\n      <td>15.6</td>\n      <td>1982</td>\n      <td>11.478880</td>\n    </tr>\n    <tr>\n      <th>394</th>\n      <td>4</td>\n      <td>97.0</td>\n      <td>52.0</td>\n      <td>2130</td>\n      <td>24.6</td>\n      <td>1982</td>\n      <td>18.706323</td>\n    </tr>\n    <tr>\n      <th>395</th>\n      <td>4</td>\n      <td>135.0</td>\n      <td>84.0</td>\n      <td>2295</td>\n      <td>11.6</td>\n      <td>1982</td>\n      <td>13.604599</td>\n    </tr>\n    <tr>\n      <th>396</th>\n      <td>4</td>\n      <td>120.0</td>\n      <td>79.0</td>\n      <td>2625</td>\n      <td>18.6</td>\n      <td>1982</td>\n      <td>11.904024</td>\n    </tr>\n    <tr>\n      <th>397</th>\n      <td>4</td>\n      <td>119.0</td>\n      <td>82.0</td>\n      <td>2720</td>\n      <td>19.4</td>\n      <td>1982</td>\n      <td>13.179455</td>\n    </tr>\n  </tbody>\n</table>\n<p>398 rows × 7 columns</p>\n</div>"
     },
     "execution_count": 83,
     "metadata": {},
     "output_type": "execute_result"
    }
   ],
   "source": [
    "data = pd.read_csv(\"data.csv\")\n",
    "# data.dtypes\n",
    "data = data.drop(columns= ['origin', 'name'])\n",
    "data[\"horsepower\"] = pd.to_numeric(data[\"horsepower\"], errors='coerce')\n",
    "data[\"horsepower\"].fillna(data['horsepower'].median(), inplace=True)\n",
    "data"
   ]
  },
  {
   "cell_type": "markdown",
   "source": [
    "## Profiling Data"
   ],
   "metadata": {
    "collapsed": false
   },
   "id": "1f381932373a6ccc"
  },
  {
   "cell_type": "code",
   "execution_count": 84,
   "outputs": [
    {
     "name": "stderr",
     "output_type": "stream",
     "text": [
      "Summarize dataset: 100%|██████████| 52/52 [00:02<00:00, 24.24it/s, Completed]                                       \n",
      "Generate report structure: 100%|██████████| 1/1 [00:01<00:00,  1.08s/it]\n",
      "Render HTML: 100%|██████████| 1/1 [00:00<00:00,  2.41it/s]\n",
      "Export report to file: 100%|██████████| 1/1 [00:00<00:00, 850.25it/s]\n"
     ]
    }
   ],
   "source": [
    "from pandas_profiling import ProfileReport\n",
    "prof = ProfileReport(data)\n",
    "prof.to_file(output_file='output.html')"
   ],
   "metadata": {
    "collapsed": false,
    "ExecuteTime": {
     "end_time": "2023-09-04T05:51:08.731711Z",
     "start_time": "2023-09-04T05:51:05.087083Z"
    }
   },
   "id": "db333c4a5f493a96"
  },
  {
   "cell_type": "code",
   "execution_count": 85,
   "id": "3326a4427db6b99c",
   "metadata": {
    "ExecuteTime": {
     "end_time": "2023-09-04T05:51:08.735200Z",
     "start_time": "2023-09-04T05:51:08.732594Z"
    }
   },
   "outputs": [],
   "source": [
    "x = data.iloc[:,:-1].values\n",
    "y = data.iloc[:,-1].values"
   ]
  },
  {
   "cell_type": "markdown",
   "id": "488ef48ad7f2b0a0",
   "metadata": {},
   "source": [
    "## Splitting the dataset into the Training set and Test Set"
   ]
  },
  {
   "cell_type": "code",
   "execution_count": 86,
   "id": "5817c4a497c7eb62",
   "metadata": {
    "ExecuteTime": {
     "end_time": "2023-09-04T05:51:08.739559Z",
     "start_time": "2023-09-04T05:51:08.737308Z"
    }
   },
   "outputs": [],
   "source": [
    "from sklearn.model_selection import train_test_split\n",
    "x_train, x_test, y_train, y_test = train_test_split(x,y, test_size=0.2, random_state=0)"
   ]
  },
  {
   "cell_type": "markdown",
   "id": "726011bd49a0ec36",
   "metadata": {},
   "source": [
    "## Feature Scaling"
   ]
  },
  {
   "cell_type": "code",
   "execution_count": 87,
   "id": "a7dac44ad3551f66",
   "metadata": {
    "ExecuteTime": {
     "end_time": "2023-09-04T05:51:08.744037Z",
     "start_time": "2023-09-04T05:51:08.741150Z"
    }
   },
   "outputs": [],
   "source": [
    "from sklearn.compose import ColumnTransformer\n",
    "from sklearn.preprocessing import StandardScaler\n",
    "ct = ColumnTransformer([('scaler', StandardScaler(), [0,1,2,3,4,5]),], remainder='passthrough')\n",
    "\n",
    "x_train = ct.fit_transform(x_train)\n",
    "x_test = ct.transform(x_test)"
   ]
  },
  {
   "cell_type": "markdown",
   "id": "1184781b3446151b",
   "metadata": {},
   "source": [
    "## Training the Model"
   ]
  },
  {
   "cell_type": "code",
   "execution_count": 88,
   "id": "96847503c1399ad6",
   "metadata": {
    "ExecuteTime": {
     "end_time": "2023-09-04T05:51:08.751252Z",
     "start_time": "2023-09-04T05:51:08.745219Z"
    }
   },
   "outputs": [
    {
     "data": {
      "text/plain": "SGDRegressor()",
      "text/html": "<style>#sk-container-id-8 {color: black;}#sk-container-id-8 pre{padding: 0;}#sk-container-id-8 div.sk-toggleable {background-color: white;}#sk-container-id-8 label.sk-toggleable__label {cursor: pointer;display: block;width: 100%;margin-bottom: 0;padding: 0.3em;box-sizing: border-box;text-align: center;}#sk-container-id-8 label.sk-toggleable__label-arrow:before {content: \"▸\";float: left;margin-right: 0.25em;color: #696969;}#sk-container-id-8 label.sk-toggleable__label-arrow:hover:before {color: black;}#sk-container-id-8 div.sk-estimator:hover label.sk-toggleable__label-arrow:before {color: black;}#sk-container-id-8 div.sk-toggleable__content {max-height: 0;max-width: 0;overflow: hidden;text-align: left;background-color: #f0f8ff;}#sk-container-id-8 div.sk-toggleable__content pre {margin: 0.2em;color: black;border-radius: 0.25em;background-color: #f0f8ff;}#sk-container-id-8 input.sk-toggleable__control:checked~div.sk-toggleable__content {max-height: 200px;max-width: 100%;overflow: auto;}#sk-container-id-8 input.sk-toggleable__control:checked~label.sk-toggleable__label-arrow:before {content: \"▾\";}#sk-container-id-8 div.sk-estimator input.sk-toggleable__control:checked~label.sk-toggleable__label {background-color: #d4ebff;}#sk-container-id-8 div.sk-label input.sk-toggleable__control:checked~label.sk-toggleable__label {background-color: #d4ebff;}#sk-container-id-8 input.sk-hidden--visually {border: 0;clip: rect(1px 1px 1px 1px);clip: rect(1px, 1px, 1px, 1px);height: 1px;margin: -1px;overflow: hidden;padding: 0;position: absolute;width: 1px;}#sk-container-id-8 div.sk-estimator {font-family: monospace;background-color: #f0f8ff;border: 1px dotted black;border-radius: 0.25em;box-sizing: border-box;margin-bottom: 0.5em;}#sk-container-id-8 div.sk-estimator:hover {background-color: #d4ebff;}#sk-container-id-8 div.sk-parallel-item::after {content: \"\";width: 100%;border-bottom: 1px solid gray;flex-grow: 1;}#sk-container-id-8 div.sk-label:hover label.sk-toggleable__label {background-color: #d4ebff;}#sk-container-id-8 div.sk-serial::before {content: \"\";position: absolute;border-left: 1px solid gray;box-sizing: border-box;top: 0;bottom: 0;left: 50%;z-index: 0;}#sk-container-id-8 div.sk-serial {display: flex;flex-direction: column;align-items: center;background-color: white;padding-right: 0.2em;padding-left: 0.2em;position: relative;}#sk-container-id-8 div.sk-item {position: relative;z-index: 1;}#sk-container-id-8 div.sk-parallel {display: flex;align-items: stretch;justify-content: center;background-color: white;position: relative;}#sk-container-id-8 div.sk-item::before, #sk-container-id-8 div.sk-parallel-item::before {content: \"\";position: absolute;border-left: 1px solid gray;box-sizing: border-box;top: 0;bottom: 0;left: 50%;z-index: -1;}#sk-container-id-8 div.sk-parallel-item {display: flex;flex-direction: column;z-index: 1;position: relative;background-color: white;}#sk-container-id-8 div.sk-parallel-item:first-child::after {align-self: flex-end;width: 50%;}#sk-container-id-8 div.sk-parallel-item:last-child::after {align-self: flex-start;width: 50%;}#sk-container-id-8 div.sk-parallel-item:only-child::after {width: 0;}#sk-container-id-8 div.sk-dashed-wrapped {border: 1px dashed gray;margin: 0 0.4em 0.5em 0.4em;box-sizing: border-box;padding-bottom: 0.4em;background-color: white;}#sk-container-id-8 div.sk-label label {font-family: monospace;font-weight: bold;display: inline-block;line-height: 1.2em;}#sk-container-id-8 div.sk-label-container {text-align: center;}#sk-container-id-8 div.sk-container {/* jupyter's `normalize.less` sets `[hidden] { display: none; }` but bootstrap.min.css set `[hidden] { display: none !important; }` so we also need the `!important` here to be able to override the default hidden behavior on the sphinx rendered scikit-learn.org. See: https://github.com/scikit-learn/scikit-learn/issues/21755 */display: inline-block !important;position: relative;}#sk-container-id-8 div.sk-text-repr-fallback {display: none;}</style><div id=\"sk-container-id-8\" class=\"sk-top-container\"><div class=\"sk-text-repr-fallback\"><pre>SGDRegressor()</pre><b>In a Jupyter environment, please rerun this cell to show the HTML representation or trust the notebook. <br />On GitHub, the HTML representation is unable to render, please try loading this page with nbviewer.org.</b></div><div class=\"sk-container\" hidden><div class=\"sk-item\"><div class=\"sk-estimator sk-toggleable\"><input class=\"sk-toggleable__control sk-hidden--visually\" id=\"sk-estimator-id-8\" type=\"checkbox\" checked><label for=\"sk-estimator-id-8\" class=\"sk-toggleable__label sk-toggleable__label-arrow\">SGDRegressor</label><div class=\"sk-toggleable__content\"><pre>SGDRegressor()</pre></div></div></div></div></div>"
     },
     "execution_count": 88,
     "metadata": {},
     "output_type": "execute_result"
    }
   ],
   "source": [
    "from sklearn.linear_model import SGDRegressor\n",
    "regressor = SGDRegressor()\n",
    "regressor.fit(x_train, y_train)"
   ]
  },
  {
   "cell_type": "markdown",
   "id": "3ee416e8edc6df6c",
   "metadata": {},
   "source": [
    "## Predicting the test set results"
   ]
  },
  {
   "cell_type": "code",
   "execution_count": 89,
   "id": "89c68e722e13d8ad",
   "metadata": {
    "ExecuteTime": {
     "end_time": "2023-09-04T05:51:08.758952Z",
     "start_time": "2023-09-04T05:51:08.750402Z"
    }
   },
   "outputs": [],
   "source": [
    "y_pred = regressor.predict(x_test)"
   ]
  },
  {
   "cell_type": "markdown",
   "id": "f76b005706eefa23",
   "metadata": {},
   "source": [
    "## Evaluating the Model Performance"
   ]
  },
  {
   "cell_type": "code",
   "execution_count": 97,
   "id": "883aee75c55dc9a5",
   "metadata": {
    "ExecuteTime": {
     "end_time": "2023-09-04T05:53:37.138086Z",
     "start_time": "2023-09-04T05:53:37.108166Z"
    }
   },
   "outputs": [
    {
     "name": "stdout",
     "output_type": "stream",
     "text": [
      "Accuracy: 81.36%\n",
      "CV mean score: 79.2%\n",
      "Mean Squared Error: 2.1380560455133306\n",
      "Mean Absolute Error: 1.169113058406857\n"
     ]
    }
   ],
   "source": [
    "from sklearn.model_selection import cross_val_score\n",
    "from sklearn.metrics import mean_squared_error, mean_absolute_error, r2_score\n",
    "cv_score = cross_val_score(regressor, x_train, y_train, cv=10) * 100\n",
    "print('Accuracy: {}%'.format(round((r2_score(y_test, y_pred)*100),2)))\n",
    "print(\"CV mean score: {}%\".format(round(cv_score.mean(),2)))\n",
    "print('Mean Squared Error:', mean_squared_error(y_test, y_pred))\n",
    "print('Mean Absolute Error:', mean_absolute_error(y_test, y_pred))"
   ]
  },
  {
   "cell_type": "markdown",
   "id": "146e549eb11e92c0",
   "metadata": {},
   "source": [
    "## Residual Plot"
   ]
  },
  {
   "cell_type": "code",
   "execution_count": 91,
   "id": "31366946153ee998",
   "metadata": {
    "ExecuteTime": {
     "end_time": "2023-09-04T05:51:08.771271Z",
     "start_time": "2023-09-04T05:51:08.761165Z"
    }
   },
   "outputs": [],
   "source": [
    "residuals = y_test - y_pred\n",
    "sizes = np.random.randint(300, size=len(y_pred))\n",
    "colors = np.random.randint(1000, size=len(y_pred))\n",
    "plt.scatter(y_pred, residuals, c=colors, cmap='Pastel1',edgecolors='gray', s=sizes)\n",
    "plt.axhline(y=0, color='r', linestyle='--')\n",
    "plt.xlabel(\"Predicted Values\")\n",
    "plt.ylabel(\"Residuals\")\n",
    "plt.title(\"Residual Plot\")\n",
    "plt.show()"
   ]
  }
 ],
 "metadata": {
  "kernelspec": {
   "display_name": "Python 3 (ipykernel)",
   "language": "python",
   "name": "python3"
  },
  "language_info": {
   "codemirror_mode": {
    "name": "ipython",
    "version": 3
   },
   "file_extension": ".py",
   "mimetype": "text/x-python",
   "name": "python",
   "nbconvert_exporter": "python",
   "pygments_lexer": "ipython3",
   "version": "3.9.17"
  }
 },
 "nbformat": 4,
 "nbformat_minor": 5
}
