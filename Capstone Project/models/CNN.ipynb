{
 "cells": [
  {
   "cell_type": "code",
   "execution_count": 1,
   "outputs": [],
   "source": [
    "import pandas as pd \n",
    "import numpy as np\n",
    "import tensorflow as tf\n",
    "from sklearn.compose import ColumnTransformer\n",
    "from sklearn.preprocessing import OneHotEncoder\n",
    "from sklearn.model_selection import train_test_split\n",
    "from warnings import filterwarnings\n",
    "filterwarnings('ignore')"
   ],
   "metadata": {
    "collapsed": false,
    "ExecuteTime": {
     "end_time": "2023-11-06T13:22:03.452324Z",
     "start_time": "2023-11-06T13:22:01.156755Z"
    }
   },
   "id": "cfb966cd"
  },
  {
   "cell_type": "markdown",
   "id": "f8476064",
   "metadata": {},
   "source": [
    "#### Loading data"
   ]
  },
  {
   "cell_type": "code",
   "execution_count": 2,
   "id": "460f5298",
   "metadata": {
    "ExecuteTime": {
     "end_time": "2023-11-06T13:22:04.670968Z",
     "start_time": "2023-11-06T13:22:03.453430Z"
    }
   },
   "outputs": [
    {
     "data": {
      "text/plain": "   Unnamed: 0                      id                name           album  \\\n0          22  2SwgVZn9S4NGueAaEAryf1    man on a mission  Do It for Love   \n1          23  0QCQ1Isa0YPVyIbs6JwpO1      do it for love  Do It for Love   \n2          24  3kIBEFhsZOeeKGebxRraOb  someday we'll know  Do It for Love   \n3          25  5dNDRw6qjDcnbW3luRhElU     forever for you  Do It for Love   \n4          26  561UU4MvlsCenN1x7leYCh    life's too short  Do It for Love   \n\n                       artists                  artist_ids  explicit  \\\n0  ['Daryl Hall & John Oates']  ['77tT1kLj6mCWtFNqiOmP9H']       1.0   \n1  ['Daryl Hall & John Oates']  ['77tT1kLj6mCWtFNqiOmP9H']       1.0   \n2  ['Daryl Hall & John Oates']  ['77tT1kLj6mCWtFNqiOmP9H']       1.0   \n3  ['Daryl Hall & John Oates']  ['77tT1kLj6mCWtFNqiOmP9H']       1.0   \n4  ['Daryl Hall & John Oates']  ['77tT1kLj6mCWtFNqiOmP9H']       1.0   \n\n   danceability  energy       key  loudness  mode  speechiness  acousticness  \\\n0         0.787   0.903  0.000000  0.819615   1.0     0.032541      0.293173   \n1         0.587   0.958  0.363636  0.815822   1.0     0.060537      0.107430   \n2         0.565   0.781  0.090909  0.816953   0.0     0.031818      0.023394   \n3         0.651   0.567  0.818182  0.796963   1.0     0.024793      0.564257   \n4         0.833   0.805  0.000000  0.824672   1.0     0.035847      0.076305   \n\n   instrumentalness  liveness  valence     tempo  year  \n0          0.000025    0.1010    0.962  0.481839  2018  \n1          0.000000    0.0574    0.832  0.353411  2018  \n2          0.000010    0.0819    0.461  0.441792  2018  \n3          0.000006    0.1860    0.370  0.389782  2018  \n4          0.013600    0.0731    0.974  0.466039  2018  ",
      "text/html": "<div>\n<style scoped>\n    .dataframe tbody tr th:only-of-type {\n        vertical-align: middle;\n    }\n\n    .dataframe tbody tr th {\n        vertical-align: top;\n    }\n\n    .dataframe thead th {\n        text-align: right;\n    }\n</style>\n<table border=\"1\" class=\"dataframe\">\n  <thead>\n    <tr style=\"text-align: right;\">\n      <th></th>\n      <th>Unnamed: 0</th>\n      <th>id</th>\n      <th>name</th>\n      <th>album</th>\n      <th>artists</th>\n      <th>artist_ids</th>\n      <th>explicit</th>\n      <th>danceability</th>\n      <th>energy</th>\n      <th>key</th>\n      <th>loudness</th>\n      <th>mode</th>\n      <th>speechiness</th>\n      <th>acousticness</th>\n      <th>instrumentalness</th>\n      <th>liveness</th>\n      <th>valence</th>\n      <th>tempo</th>\n      <th>year</th>\n    </tr>\n  </thead>\n  <tbody>\n    <tr>\n      <th>0</th>\n      <td>22</td>\n      <td>2SwgVZn9S4NGueAaEAryf1</td>\n      <td>man on a mission</td>\n      <td>Do It for Love</td>\n      <td>['Daryl Hall &amp; John Oates']</td>\n      <td>['77tT1kLj6mCWtFNqiOmP9H']</td>\n      <td>1.0</td>\n      <td>0.787</td>\n      <td>0.903</td>\n      <td>0.000000</td>\n      <td>0.819615</td>\n      <td>1.0</td>\n      <td>0.032541</td>\n      <td>0.293173</td>\n      <td>0.000025</td>\n      <td>0.1010</td>\n      <td>0.962</td>\n      <td>0.481839</td>\n      <td>2018</td>\n    </tr>\n    <tr>\n      <th>1</th>\n      <td>23</td>\n      <td>0QCQ1Isa0YPVyIbs6JwpO1</td>\n      <td>do it for love</td>\n      <td>Do It for Love</td>\n      <td>['Daryl Hall &amp; John Oates']</td>\n      <td>['77tT1kLj6mCWtFNqiOmP9H']</td>\n      <td>1.0</td>\n      <td>0.587</td>\n      <td>0.958</td>\n      <td>0.363636</td>\n      <td>0.815822</td>\n      <td>1.0</td>\n      <td>0.060537</td>\n      <td>0.107430</td>\n      <td>0.000000</td>\n      <td>0.0574</td>\n      <td>0.832</td>\n      <td>0.353411</td>\n      <td>2018</td>\n    </tr>\n    <tr>\n      <th>2</th>\n      <td>24</td>\n      <td>3kIBEFhsZOeeKGebxRraOb</td>\n      <td>someday we'll know</td>\n      <td>Do It for Love</td>\n      <td>['Daryl Hall &amp; John Oates']</td>\n      <td>['77tT1kLj6mCWtFNqiOmP9H']</td>\n      <td>1.0</td>\n      <td>0.565</td>\n      <td>0.781</td>\n      <td>0.090909</td>\n      <td>0.816953</td>\n      <td>0.0</td>\n      <td>0.031818</td>\n      <td>0.023394</td>\n      <td>0.000010</td>\n      <td>0.0819</td>\n      <td>0.461</td>\n      <td>0.441792</td>\n      <td>2018</td>\n    </tr>\n    <tr>\n      <th>3</th>\n      <td>25</td>\n      <td>5dNDRw6qjDcnbW3luRhElU</td>\n      <td>forever for you</td>\n      <td>Do It for Love</td>\n      <td>['Daryl Hall &amp; John Oates']</td>\n      <td>['77tT1kLj6mCWtFNqiOmP9H']</td>\n      <td>1.0</td>\n      <td>0.651</td>\n      <td>0.567</td>\n      <td>0.818182</td>\n      <td>0.796963</td>\n      <td>1.0</td>\n      <td>0.024793</td>\n      <td>0.564257</td>\n      <td>0.000006</td>\n      <td>0.1860</td>\n      <td>0.370</td>\n      <td>0.389782</td>\n      <td>2018</td>\n    </tr>\n    <tr>\n      <th>4</th>\n      <td>26</td>\n      <td>561UU4MvlsCenN1x7leYCh</td>\n      <td>life's too short</td>\n      <td>Do It for Love</td>\n      <td>['Daryl Hall &amp; John Oates']</td>\n      <td>['77tT1kLj6mCWtFNqiOmP9H']</td>\n      <td>1.0</td>\n      <td>0.833</td>\n      <td>0.805</td>\n      <td>0.000000</td>\n      <td>0.824672</td>\n      <td>1.0</td>\n      <td>0.035847</td>\n      <td>0.076305</td>\n      <td>0.013600</td>\n      <td>0.0731</td>\n      <td>0.974</td>\n      <td>0.466039</td>\n      <td>2018</td>\n    </tr>\n  </tbody>\n</table>\n</div>"
     },
     "execution_count": 2,
     "metadata": {},
     "output_type": "execute_result"
    }
   ],
   "source": [
    "d1 = pd.read_csv('../dataset/processed_data.csv')\n",
    "d1.head()"
   ]
  },
  {
   "cell_type": "code",
   "execution_count": 3,
   "id": "7fdc148b",
   "metadata": {
    "scrolled": true,
    "ExecuteTime": {
     "end_time": "2023-11-06T13:22:04.739180Z",
     "start_time": "2023-11-06T13:22:04.671337Z"
    }
   },
   "outputs": [
    {
     "data": {
      "text/plain": "   index                                             genres  \\\n0      0                                     ['show tunes']   \n1      8                 ['comedy rock', 'comic', 'parody']   \n2      9  ['emo rap', 'florida rap', 'sad rap', 'undergr...   \n3     10                          ['dark trap', 'meme rap']   \n4     12  ['asian american hip hop', 'cali rap', 'west c...   \n\n                            artists  acousticness  danceability  \\\n0  \"Cats\" 1981 Original London Cast      0.590111      0.467222   \n1               \"Weird Al\" Yankovic      0.173145      0.662787   \n2                              $NOT      0.544467      0.789800   \n3                       $atori Zoom      0.239000      0.883000   \n4                      $tupid Young      0.148100      0.854000   \n\n     duration_ms    energy  instrumentalness  liveness   loudness  \\\n0  250318.555556  0.394003          0.011400  0.290833 -14.448000   \n1  218948.196721  0.695393          0.000050  0.161102  -9.768705   \n2  137910.466667  0.532933          0.023063  0.180300  -9.149267   \n3  141519.000000  0.625000          0.000000  0.076500  -4.098000   \n4  190572.000000  0.683000          0.000002  0.188500  -6.997000   \n\n   speechiness       tempo   valence  popularity  key  mode  count  \n0     0.210389  117.518111  0.389500   38.333333    5     1      9  \n1     0.084536  133.031180  0.751344   34.229508    9     1    122  \n2     0.293687  112.344800  0.480700   67.533333    1     1     15  \n3     0.245000  126.677000  0.871000   67.000000    6     1      2  \n4     0.221000  100.724500  0.625500   57.500000    1     1      2  ",
      "text/html": "<div>\n<style scoped>\n    .dataframe tbody tr th:only-of-type {\n        vertical-align: middle;\n    }\n\n    .dataframe tbody tr th {\n        vertical-align: top;\n    }\n\n    .dataframe thead th {\n        text-align: right;\n    }\n</style>\n<table border=\"1\" class=\"dataframe\">\n  <thead>\n    <tr style=\"text-align: right;\">\n      <th></th>\n      <th>index</th>\n      <th>genres</th>\n      <th>artists</th>\n      <th>acousticness</th>\n      <th>danceability</th>\n      <th>duration_ms</th>\n      <th>energy</th>\n      <th>instrumentalness</th>\n      <th>liveness</th>\n      <th>loudness</th>\n      <th>speechiness</th>\n      <th>tempo</th>\n      <th>valence</th>\n      <th>popularity</th>\n      <th>key</th>\n      <th>mode</th>\n      <th>count</th>\n    </tr>\n  </thead>\n  <tbody>\n    <tr>\n      <th>0</th>\n      <td>0</td>\n      <td>['show tunes']</td>\n      <td>\"Cats\" 1981 Original London Cast</td>\n      <td>0.590111</td>\n      <td>0.467222</td>\n      <td>250318.555556</td>\n      <td>0.394003</td>\n      <td>0.011400</td>\n      <td>0.290833</td>\n      <td>-14.448000</td>\n      <td>0.210389</td>\n      <td>117.518111</td>\n      <td>0.389500</td>\n      <td>38.333333</td>\n      <td>5</td>\n      <td>1</td>\n      <td>9</td>\n    </tr>\n    <tr>\n      <th>1</th>\n      <td>8</td>\n      <td>['comedy rock', 'comic', 'parody']</td>\n      <td>\"Weird Al\" Yankovic</td>\n      <td>0.173145</td>\n      <td>0.662787</td>\n      <td>218948.196721</td>\n      <td>0.695393</td>\n      <td>0.000050</td>\n      <td>0.161102</td>\n      <td>-9.768705</td>\n      <td>0.084536</td>\n      <td>133.031180</td>\n      <td>0.751344</td>\n      <td>34.229508</td>\n      <td>9</td>\n      <td>1</td>\n      <td>122</td>\n    </tr>\n    <tr>\n      <th>2</th>\n      <td>9</td>\n      <td>['emo rap', 'florida rap', 'sad rap', 'undergr...</td>\n      <td>$NOT</td>\n      <td>0.544467</td>\n      <td>0.789800</td>\n      <td>137910.466667</td>\n      <td>0.532933</td>\n      <td>0.023063</td>\n      <td>0.180300</td>\n      <td>-9.149267</td>\n      <td>0.293687</td>\n      <td>112.344800</td>\n      <td>0.480700</td>\n      <td>67.533333</td>\n      <td>1</td>\n      <td>1</td>\n      <td>15</td>\n    </tr>\n    <tr>\n      <th>3</th>\n      <td>10</td>\n      <td>['dark trap', 'meme rap']</td>\n      <td>$atori Zoom</td>\n      <td>0.239000</td>\n      <td>0.883000</td>\n      <td>141519.000000</td>\n      <td>0.625000</td>\n      <td>0.000000</td>\n      <td>0.076500</td>\n      <td>-4.098000</td>\n      <td>0.245000</td>\n      <td>126.677000</td>\n      <td>0.871000</td>\n      <td>67.000000</td>\n      <td>6</td>\n      <td>1</td>\n      <td>2</td>\n    </tr>\n    <tr>\n      <th>4</th>\n      <td>12</td>\n      <td>['asian american hip hop', 'cali rap', 'west c...</td>\n      <td>$tupid Young</td>\n      <td>0.148100</td>\n      <td>0.854000</td>\n      <td>190572.000000</td>\n      <td>0.683000</td>\n      <td>0.000002</td>\n      <td>0.188500</td>\n      <td>-6.997000</td>\n      <td>0.221000</td>\n      <td>100.724500</td>\n      <td>0.625500</td>\n      <td>57.500000</td>\n      <td>1</td>\n      <td>1</td>\n      <td>2</td>\n    </tr>\n  </tbody>\n</table>\n</div>"
     },
     "execution_count": 3,
     "metadata": {},
     "output_type": "execute_result"
    }
   ],
   "source": [
    "d2 = pd.read_csv('../dataset/data_w_genres.csv', na_filter=True, na_values='[]')\n",
    "d2 = d2.dropna()\n",
    "d2.reset_index(inplace = True)\n",
    "d2.head()"
   ]
  },
  {
   "cell_type": "code",
   "execution_count": 4,
   "id": "c95fd2eb",
   "metadata": {
    "ExecuteTime": {
     "end_time": "2023-11-06T13:22:04.739469Z",
     "start_time": "2023-11-06T13:22:04.736238Z"
    }
   },
   "outputs": [
    {
     "data": {
      "text/plain": "(18823, 17)"
     },
     "execution_count": 4,
     "metadata": {},
     "output_type": "execute_result"
    }
   ],
   "source": [
    "d2.shape"
   ]
  },
  {
   "cell_type": "markdown",
   "id": "d491b57d",
   "metadata": {},
   "source": [
    "#### Categorizing genres into (rock, pop, hip hop, rap, electronic)"
   ]
  },
  {
   "cell_type": "code",
   "execution_count": 5,
   "id": "66ac943c",
   "metadata": {
    "ExecuteTime": {
     "end_time": "2023-11-06T13:22:04.748218Z",
     "start_time": "2023-11-06T13:22:04.742173Z"
    }
   },
   "outputs": [
    {
     "data": {
      "text/plain": "genres\n['movie tunes']                                                                        69\n['show tunes']                                                                         63\n['hollywood']                                                                          56\n['orchestral performance']                                                             50\n['broadway', 'hollywood', 'show tunes']                                                48\n                                                                                       ..\n['histoire pour enfants', 'musique pour enfants']                                       1\n['nordic orchestra']                                                                    1\n['avant-garde', 'contemporary classical', 'hungarian contemporary classical']           1\n['conscious hip hop', 'dancehall', 'lovers rock', 'modern reggae', 'reggae fusion']     1\n['chinese indie', 'chinese indie rock']                                                 1\nName: count, Length: 10742, dtype: int64"
     },
     "execution_count": 5,
     "metadata": {},
     "output_type": "execute_result"
    }
   ],
   "source": [
    "d2['genres'].value_counts()"
   ]
  },
  {
   "cell_type": "code",
   "execution_count": 6,
   "id": "839d558c",
   "metadata": {
    "ExecuteTime": {
     "end_time": "2023-11-06T13:22:07.005648Z",
     "start_time": "2023-11-06T13:22:04.767322Z"
    }
   },
   "outputs": [],
   "source": [
    "for i in range(18823):\n",
    "    x = d2['genres'][i]\n",
    "    x = x[1: -1]\n",
    "    \n",
    "    li = x.split(', ')\n",
    "    li1 = list()\n",
    "    for j in li:\n",
    "        j = j[1: -1]\n",
    "        if j.find('rock')!=-1:\n",
    "            li1.append('rock')\n",
    "        if j.find('pop')!=-1:\n",
    "            li1.append('pop')\n",
    "        if j.find('hip hop')!=-1:\n",
    "            li1.append('hip hop')\n",
    "        if j.find('rap')!=-1:\n",
    "            li1.append('rap')\n",
    "        if j.find('electronic')!=-1:\n",
    "            li1.append('electronic')\n",
    "    \n",
    "    if len(li1)==0:\n",
    "        d2['genres'][i] = None\n",
    "    else:\n",
    "        d2['genres'][i] = set(li1)"
   ]
  },
  {
   "cell_type": "code",
   "execution_count": 7,
   "id": "7919f87d",
   "metadata": {
    "ExecuteTime": {
     "end_time": "2023-11-06T13:22:07.014521Z",
     "start_time": "2023-11-06T13:22:07.006638Z"
    }
   },
   "outputs": [
    {
     "data": {
      "text/plain": "(9616, 18)"
     },
     "execution_count": 7,
     "metadata": {},
     "output_type": "execute_result"
    }
   ],
   "source": [
    "d2 = d2.dropna()\n",
    "d2.reset_index(inplace = True)\n",
    "d2.shape"
   ]
  },
  {
   "cell_type": "code",
   "execution_count": 8,
   "id": "346e9f61",
   "metadata": {
    "ExecuteTime": {
     "end_time": "2023-11-06T13:22:07.019791Z",
     "start_time": "2023-11-06T13:22:07.016803Z"
    }
   },
   "outputs": [
    {
     "data": {
      "text/plain": "genres\n{pop}                               3019\n{rock}                              2291\n{rock, pop}                         1675\n{hip hop, rap}                       612\n{rap}                                569\n{hip hop, rap, pop}                  369\n{hip hop}                            336\n{rap, pop}                           250\n{electronic}                         123\n{rap, rock}                          120\n{hip hop, pop}                        56\n{electronic, pop}                     41\n{electronic, rap}                     36\n{electronic, rock, pop}               23\n{rap, rock, pop}                      20\n{electronic, rap, pop}                18\n{hip hop, rap, rock}                  18\n{electronic, rock}                    11\n{hip hop, rock}                        9\n{hip hop, electronic}                  6\n{hip hop, rock, pop}                   6\n{hip hop, rap, rock, pop}              3\n{electronic, rap, hip hop}             2\n{electronic, rap, hip hop, pop}        1\n{electronic, rap, rock}                1\n{electronic, hip hop, rock, pop}       1\nName: count, dtype: int64"
     },
     "execution_count": 8,
     "metadata": {},
     "output_type": "execute_result"
    }
   ],
   "source": [
    "d2['genres'].value_counts()"
   ]
  },
  {
   "cell_type": "code",
   "execution_count": 9,
   "id": "58a0029f",
   "metadata": {
    "ExecuteTime": {
     "end_time": "2023-11-06T13:22:07.033730Z",
     "start_time": "2023-11-06T13:22:07.020178Z"
    }
   },
   "outputs": [
    {
     "data": {
      "text/plain": "(13361, 18)"
     },
     "execution_count": 9,
     "metadata": {},
     "output_type": "execute_result"
    }
   ],
   "source": [
    "d2 = d2.explode('genres').reset_index(drop=True)\n",
    "d2.shape"
   ]
  },
  {
   "cell_type": "markdown",
   "id": "84e848c8",
   "metadata": {},
   "source": [
    "#### Normalizing data"
   ]
  },
  {
   "cell_type": "code",
   "execution_count": 10,
   "id": "f90f4f2c",
   "metadata": {
    "ExecuteTime": {
     "end_time": "2023-11-06T13:22:07.039457Z",
     "start_time": "2023-11-06T13:22:07.034072Z"
    }
   },
   "outputs": [],
   "source": [
    "d2.drop(columns=['level_0', 'index', 'artists', 'duration_ms', 'popularity', 'count'], inplace=True)"
   ]
  },
  {
   "cell_type": "code",
   "execution_count": 11,
   "id": "4bef4890",
   "metadata": {
    "ExecuteTime": {
     "end_time": "2023-11-06T13:22:07.047797Z",
     "start_time": "2023-11-06T13:22:07.038349Z"
    }
   },
   "outputs": [
    {
     "data": {
      "text/plain": "    genres  acousticness  danceability    energy  instrumentalness  liveness  \\\n0     rock      0.173838      0.643095  0.694687          0.000051  0.145022   \n1  hip hop      0.546652      0.783348  0.531313          0.023396  0.165066   \n2      rap      0.546652      0.783348  0.531313          0.023396  0.165066   \n3      rap      0.239958      0.886263  0.623898          0.000000  0.056692   \n4  hip hop      0.148692      0.854240  0.682224          0.000002  0.173627   \n\n   loudness  speechiness     tempo   valence       key  mode  \n0  0.703794     0.067237  0.493095  0.758854  0.818182   1.0  \n1  0.722833     0.296137  0.358006  0.475902  0.090909   1.0  \n2  0.722833     0.296137  0.358006  0.475902  0.090909   1.0  \n3  0.878087     0.242853  0.451600  0.883952  0.545455   1.0  \n4  0.788984     0.216586  0.282121  0.627287  0.090909   1.0  ",
      "text/html": "<div>\n<style scoped>\n    .dataframe tbody tr th:only-of-type {\n        vertical-align: middle;\n    }\n\n    .dataframe tbody tr th {\n        vertical-align: top;\n    }\n\n    .dataframe thead th {\n        text-align: right;\n    }\n</style>\n<table border=\"1\" class=\"dataframe\">\n  <thead>\n    <tr style=\"text-align: right;\">\n      <th></th>\n      <th>genres</th>\n      <th>acousticness</th>\n      <th>danceability</th>\n      <th>energy</th>\n      <th>instrumentalness</th>\n      <th>liveness</th>\n      <th>loudness</th>\n      <th>speechiness</th>\n      <th>tempo</th>\n      <th>valence</th>\n      <th>key</th>\n      <th>mode</th>\n    </tr>\n  </thead>\n  <tbody>\n    <tr>\n      <th>0</th>\n      <td>rock</td>\n      <td>0.173838</td>\n      <td>0.643095</td>\n      <td>0.694687</td>\n      <td>0.000051</td>\n      <td>0.145022</td>\n      <td>0.703794</td>\n      <td>0.067237</td>\n      <td>0.493095</td>\n      <td>0.758854</td>\n      <td>0.818182</td>\n      <td>1.0</td>\n    </tr>\n    <tr>\n      <th>1</th>\n      <td>hip hop</td>\n      <td>0.546652</td>\n      <td>0.783348</td>\n      <td>0.531313</td>\n      <td>0.023396</td>\n      <td>0.165066</td>\n      <td>0.722833</td>\n      <td>0.296137</td>\n      <td>0.358006</td>\n      <td>0.475902</td>\n      <td>0.090909</td>\n      <td>1.0</td>\n    </tr>\n    <tr>\n      <th>2</th>\n      <td>rap</td>\n      <td>0.546652</td>\n      <td>0.783348</td>\n      <td>0.531313</td>\n      <td>0.023396</td>\n      <td>0.165066</td>\n      <td>0.722833</td>\n      <td>0.296137</td>\n      <td>0.358006</td>\n      <td>0.475902</td>\n      <td>0.090909</td>\n      <td>1.0</td>\n    </tr>\n    <tr>\n      <th>3</th>\n      <td>rap</td>\n      <td>0.239958</td>\n      <td>0.886263</td>\n      <td>0.623898</td>\n      <td>0.000000</td>\n      <td>0.056692</td>\n      <td>0.878087</td>\n      <td>0.242853</td>\n      <td>0.451600</td>\n      <td>0.883952</td>\n      <td>0.545455</td>\n      <td>1.0</td>\n    </tr>\n    <tr>\n      <th>4</th>\n      <td>hip hop</td>\n      <td>0.148692</td>\n      <td>0.854240</td>\n      <td>0.682224</td>\n      <td>0.000002</td>\n      <td>0.173627</td>\n      <td>0.788984</td>\n      <td>0.216586</td>\n      <td>0.282121</td>\n      <td>0.627287</td>\n      <td>0.090909</td>\n      <td>1.0</td>\n    </tr>\n  </tbody>\n</table>\n</div>"
     },
     "execution_count": 11,
     "metadata": {},
     "output_type": "execute_result"
    }
   ],
   "source": [
    "def normalize_col(col):\n",
    "    max_c = d2[col].max()\n",
    "    min_c = d2[col].min()\n",
    "    d2[col] = (d2[col] - min_c)/(max_c - min_c)\n",
    "\n",
    "col1 = ['danceability', 'energy', 'key', 'loudness', 'mode', 'speechiness', 'acousticness', 'instrumentalness', 'liveness', 'valence', 'tempo']\n",
    "\n",
    "for col in col1:\n",
    "    normalize_col(col)\n",
    "\n",
    "d2.head()"
   ]
  },
  {
   "cell_type": "markdown",
   "id": "7d32a207",
   "metadata": {},
   "source": [
    "#### Encoding genres column"
   ]
  },
  {
   "cell_type": "code",
   "execution_count": 12,
   "id": "d3db35a0",
   "metadata": {
    "ExecuteTime": {
     "end_time": "2023-11-06T13:22:07.059414Z",
     "start_time": "2023-11-06T13:22:07.050865Z"
    }
   },
   "outputs": [],
   "source": [
    "ct = ColumnTransformer(transformers=[('encoder', OneHotEncoder(), ['genres'])], remainder='passthrough')\n",
    "d2 = np.array(ct.fit_transform(d2))"
   ]
  },
  {
   "cell_type": "code",
   "execution_count": 13,
   "id": "d7a7297e",
   "metadata": {
    "ExecuteTime": {
     "end_time": "2023-11-06T13:22:07.064761Z",
     "start_time": "2023-11-06T13:22:07.057008Z"
    }
   },
   "outputs": [
    {
     "data": {
      "text/plain": "array([[0.        , 0.        , 0.        , ..., 0.75885443, 0.81818182,\n        1.        ],\n       [0.        , 1.        , 0.        , ..., 0.47590173, 0.09090909,\n        1.        ],\n       [0.        , 0.        , 0.        , ..., 0.47590173, 0.09090909,\n        1.        ],\n       ...,\n       [0.        , 0.        , 1.        , ..., 0.22739153, 0.81818182,\n        0.        ],\n       [0.        , 0.        , 0.        , ..., 0.34134867, 1.        ,\n        1.        ],\n       [0.        , 0.        , 1.        , ..., 0.15838996, 0.90909091,\n        1.        ]])"
     },
     "execution_count": 13,
     "metadata": {},
     "output_type": "execute_result"
    }
   ],
   "source": [
    "d2"
   ]
  },
  {
   "cell_type": "markdown",
   "id": "3d43d85e",
   "metadata": {},
   "source": [
    "#### Spliting data "
   ]
  },
  {
   "cell_type": "code",
   "execution_count": 14,
   "id": "80cdf643",
   "metadata": {
    "ExecuteTime": {
     "end_time": "2023-11-06T13:22:07.086996Z",
     "start_time": "2023-11-06T13:22:07.061770Z"
    }
   },
   "outputs": [],
   "source": [
    "x = d2[:, 5:]\n",
    "y = d2[:, :5]"
   ]
  },
  {
   "cell_type": "code",
   "execution_count": 15,
   "id": "efd1e7fb",
   "metadata": {
    "ExecuteTime": {
     "end_time": "2023-11-06T13:22:07.087878Z",
     "start_time": "2023-11-06T13:22:07.064873Z"
    }
   },
   "outputs": [],
   "source": [
    "x_train, x_test, y_train, y_test = train_test_split(x, y, test_size=0.2, random_state=0)"
   ]
  },
  {
   "cell_type": "code",
   "execution_count": 16,
   "id": "8fbd14f8",
   "metadata": {
    "ExecuteTime": {
     "end_time": "2023-11-06T13:22:07.088011Z",
     "start_time": "2023-11-06T13:22:07.069069Z"
    }
   },
   "outputs": [
    {
     "data": {
      "text/plain": "(10688, 11)"
     },
     "execution_count": 16,
     "metadata": {},
     "output_type": "execute_result"
    }
   ],
   "source": [
    "x_train.shape"
   ]
  },
  {
   "cell_type": "code",
   "execution_count": 17,
   "id": "ed1a8f3e",
   "metadata": {
    "ExecuteTime": {
     "end_time": "2023-11-06T13:22:07.088077Z",
     "start_time": "2023-11-06T13:22:07.071850Z"
    }
   },
   "outputs": [
    {
     "data": {
      "text/plain": "(2673, 11)"
     },
     "execution_count": 17,
     "metadata": {},
     "output_type": "execute_result"
    }
   ],
   "source": [
    "x_test.shape"
   ]
  },
  {
   "cell_type": "code",
   "execution_count": 18,
   "id": "9da49a14",
   "metadata": {
    "ExecuteTime": {
     "end_time": "2023-11-06T13:22:07.088111Z",
     "start_time": "2023-11-06T13:22:07.074932Z"
    }
   },
   "outputs": [],
   "source": [
    "x_train = x_train.reshape(10688, 11, 1)\n",
    "x_test = x_test.reshape(2673, 11, 1)"
   ]
  },
  {
   "cell_type": "markdown",
   "id": "36e68cfe",
   "metadata": {},
   "source": [
    "#### CNN"
   ]
  },
  {
   "cell_type": "code",
   "execution_count": 19,
   "id": "74f49d41",
   "metadata": {
    "ExecuteTime": {
     "end_time": "2023-11-06T13:22:07.124237Z",
     "start_time": "2023-11-06T13:22:07.077133Z"
    }
   },
   "outputs": [],
   "source": [
    "cnn = tf.keras.models.Sequential()"
   ]
  },
  {
   "cell_type": "code",
   "execution_count": 20,
   "id": "64e62649",
   "metadata": {
    "ExecuteTime": {
     "end_time": "2023-11-06T13:22:07.124406Z",
     "start_time": "2023-11-06T13:22:07.116197Z"
    }
   },
   "outputs": [],
   "source": [
    "cnn.add(tf.keras.layers.Conv1D(filters=32, kernel_size=3, activation='relu'))\n",
    "cnn.add(tf.keras.layers.MaxPool1D(pool_size=2, strides=2))\n",
    "cnn.add(tf.keras.layers.Conv1D(filters=32, kernel_size=3, activation='relu'))\n",
    "cnn.add(tf.keras.layers.MaxPool1D(pool_size=2, strides=2))\n",
    "cnn.add(tf.keras.layers.Flatten())\n",
    "cnn.add(tf.keras.layers.Dense(units=128, activation='relu'))\n",
    "cnn.add(tf.keras.layers.Dense(units=5, activation='softmax'))"
   ]
  },
  {
   "cell_type": "code",
   "execution_count": 21,
   "id": "95c829d3",
   "metadata": {
    "ExecuteTime": {
     "end_time": "2023-11-06T13:22:07.125529Z",
     "start_time": "2023-11-06T13:22:07.120773Z"
    }
   },
   "outputs": [],
   "source": [
    "cnn.compile(optimizer='adam', loss='categorical_crossentropy', metrics=['accuracy'])"
   ]
  },
  {
   "cell_type": "code",
   "execution_count": 22,
   "id": "caf6fcbd",
   "metadata": {
    "ExecuteTime": {
     "end_time": "2023-11-06T13:23:30.209086Z",
     "start_time": "2023-11-06T13:22:07.126199Z"
    }
   },
   "outputs": [
    {
     "data": {
      "text/plain": "<keras.src.callbacks.History at 0x1517006a0>"
     },
     "execution_count": 22,
     "metadata": {},
     "output_type": "execute_result"
    }
   ],
   "source": [
    "cnn.fit(x_train, y_train, batch_size=32, epochs=100, verbose = 0, validation_data=(x_test, y_test))"
   ]
  },
  {
   "cell_type": "markdown",
   "id": "3bbc4b2e",
   "metadata": {},
   "source": [
    "#### Cleaning original data"
   ]
  },
  {
   "cell_type": "code",
   "execution_count": 23,
   "id": "ac661fec",
   "metadata": {
    "ExecuteTime": {
     "end_time": "2023-11-06T13:23:30.235997Z",
     "start_time": "2023-11-06T13:22:33.561522Z"
    }
   },
   "outputs": [],
   "source": [
    "d3 = d1.copy(deep=True)"
   ]
  },
  {
   "cell_type": "code",
   "execution_count": 24,
   "outputs": [
    {
     "data": {
      "text/plain": "   danceability  energy       key  loudness  mode  speechiness  acousticness  \\\n0         0.787   0.903  0.000000  0.819615   1.0     0.032541      0.293173   \n1         0.587   0.958  0.363636  0.815822   1.0     0.060537      0.107430   \n2         0.565   0.781  0.090909  0.816953   0.0     0.031818      0.023394   \n3         0.651   0.567  0.818182  0.796963   1.0     0.024793      0.564257   \n4         0.833   0.805  0.000000  0.824672   1.0     0.035847      0.076305   \n\n   instrumentalness  liveness  valence     tempo  \n0          0.000025    0.1010    0.962  0.481839  \n1          0.000000    0.0574    0.832  0.353411  \n2          0.000010    0.0819    0.461  0.441792  \n3          0.000006    0.1860    0.370  0.389782  \n4          0.013600    0.0731    0.974  0.466039  ",
      "text/html": "<div>\n<style scoped>\n    .dataframe tbody tr th:only-of-type {\n        vertical-align: middle;\n    }\n\n    .dataframe tbody tr th {\n        vertical-align: top;\n    }\n\n    .dataframe thead th {\n        text-align: right;\n    }\n</style>\n<table border=\"1\" class=\"dataframe\">\n  <thead>\n    <tr style=\"text-align: right;\">\n      <th></th>\n      <th>danceability</th>\n      <th>energy</th>\n      <th>key</th>\n      <th>loudness</th>\n      <th>mode</th>\n      <th>speechiness</th>\n      <th>acousticness</th>\n      <th>instrumentalness</th>\n      <th>liveness</th>\n      <th>valence</th>\n      <th>tempo</th>\n    </tr>\n  </thead>\n  <tbody>\n    <tr>\n      <th>0</th>\n      <td>0.787</td>\n      <td>0.903</td>\n      <td>0.000000</td>\n      <td>0.819615</td>\n      <td>1.0</td>\n      <td>0.032541</td>\n      <td>0.293173</td>\n      <td>0.000025</td>\n      <td>0.1010</td>\n      <td>0.962</td>\n      <td>0.481839</td>\n    </tr>\n    <tr>\n      <th>1</th>\n      <td>0.587</td>\n      <td>0.958</td>\n      <td>0.363636</td>\n      <td>0.815822</td>\n      <td>1.0</td>\n      <td>0.060537</td>\n      <td>0.107430</td>\n      <td>0.000000</td>\n      <td>0.0574</td>\n      <td>0.832</td>\n      <td>0.353411</td>\n    </tr>\n    <tr>\n      <th>2</th>\n      <td>0.565</td>\n      <td>0.781</td>\n      <td>0.090909</td>\n      <td>0.816953</td>\n      <td>0.0</td>\n      <td>0.031818</td>\n      <td>0.023394</td>\n      <td>0.000010</td>\n      <td>0.0819</td>\n      <td>0.461</td>\n      <td>0.441792</td>\n    </tr>\n    <tr>\n      <th>3</th>\n      <td>0.651</td>\n      <td>0.567</td>\n      <td>0.818182</td>\n      <td>0.796963</td>\n      <td>1.0</td>\n      <td>0.024793</td>\n      <td>0.564257</td>\n      <td>0.000006</td>\n      <td>0.1860</td>\n      <td>0.370</td>\n      <td>0.389782</td>\n    </tr>\n    <tr>\n      <th>4</th>\n      <td>0.833</td>\n      <td>0.805</td>\n      <td>0.000000</td>\n      <td>0.824672</td>\n      <td>1.0</td>\n      <td>0.035847</td>\n      <td>0.076305</td>\n      <td>0.013600</td>\n      <td>0.0731</td>\n      <td>0.974</td>\n      <td>0.466039</td>\n    </tr>\n  </tbody>\n</table>\n</div>"
     },
     "execution_count": 24,
     "metadata": {},
     "output_type": "execute_result"
    }
   ],
   "source": [
    "d3.drop(columns=['Unnamed: 0', 'id', 'name', 'album', 'artists', 'artist_ids', 'explicit', 'year'], inplace=True)\n",
    "d3.head()"
   ],
   "metadata": {
    "collapsed": false,
    "ExecuteTime": {
     "end_time": "2023-11-06T13:23:30.236606Z",
     "start_time": "2023-11-06T13:22:33.611660Z"
    }
   },
   "id": "ba993d46"
  },
  {
   "cell_type": "code",
   "execution_count": 25,
   "id": "be20c340",
   "metadata": {
    "ExecuteTime": {
     "end_time": "2023-11-06T13:23:30.236673Z",
     "start_time": "2023-11-06T13:22:33.619830Z"
    }
   },
   "outputs": [],
   "source": [
    "z = d3.iloc[:, [6, 0, 1, 7, 8, 3, 5, 10, 9, 2, 4]].values"
   ]
  },
  {
   "cell_type": "code",
   "execution_count": 26,
   "outputs": [
    {
     "data": {
      "text/plain": "(519817, 11)"
     },
     "execution_count": 26,
     "metadata": {},
     "output_type": "execute_result"
    }
   ],
   "source": [
    "z.shape"
   ],
   "metadata": {
    "collapsed": false,
    "ExecuteTime": {
     "end_time": "2023-11-06T13:23:30.236800Z",
     "start_time": "2023-11-06T13:22:33.621793Z"
    }
   },
   "id": "999d9ac1"
  },
  {
   "cell_type": "code",
   "execution_count": 27,
   "id": "873da450",
   "metadata": {
    "ExecuteTime": {
     "end_time": "2023-11-06T13:23:30.236854Z",
     "start_time": "2023-11-06T13:22:33.624844Z"
    }
   },
   "outputs": [],
   "source": [
    "z = z.reshape(519817, 11, 1)"
   ]
  },
  {
   "cell_type": "code",
   "execution_count": 28,
   "id": "65c29550",
   "metadata": {
    "ExecuteTime": {
     "end_time": "2023-11-06T13:23:30.246386Z",
     "start_time": "2023-11-06T13:22:33.632750Z"
    }
   },
   "outputs": [
    {
     "name": "stdout",
     "output_type": "stream",
     "text": [
      "16245/16245 [==============================] - 8s 507us/step\n"
     ]
    }
   ],
   "source": [
    "z_genres = cnn.predict(z)"
   ]
  },
  {
   "cell_type": "code",
   "execution_count": 29,
   "id": "536a857e",
   "metadata": {
    "scrolled": true,
    "ExecuteTime": {
     "end_time": "2023-11-06T13:23:30.246570Z",
     "start_time": "2023-11-06T13:22:44.278692Z"
    }
   },
   "outputs": [
    {
     "data": {
      "text/plain": "array([[0.01352447, 0.10170414, 0.6105069 , 0.07244141, 0.20182312],\n       [0.00681892, 0.03090661, 0.43791044, 0.04532983, 0.4790342 ],\n       [0.00858429, 0.01768096, 0.5000842 , 0.05871371, 0.4149368 ],\n       ...,\n       [0.71547663, 0.00195933, 0.1936625 , 0.00447567, 0.08442584],\n       [0.10102887, 0.03895463, 0.67940116, 0.03186131, 0.14875403],\n       [0.27836573, 0.30965957, 0.17982954, 0.21952356, 0.01262155]],\n      dtype=float32)"
     },
     "execution_count": 29,
     "metadata": {},
     "output_type": "execute_result"
    }
   ],
   "source": [
    "z_genres"
   ]
  },
  {
   "cell_type": "code",
   "execution_count": 30,
   "id": "f118f703",
   "metadata": {
    "ExecuteTime": {
     "end_time": "2023-11-06T13:23:30.246658Z",
     "start_time": "2023-11-06T13:22:44.285449Z"
    }
   },
   "outputs": [
    {
     "data": {
      "text/plain": "(519817, 5)"
     },
     "execution_count": 30,
     "metadata": {},
     "output_type": "execute_result"
    }
   ],
   "source": [
    "z_genres.shape"
   ]
  },
  {
   "cell_type": "code",
   "execution_count": 31,
   "id": "b4d0b22e",
   "metadata": {
    "ExecuteTime": {
     "end_time": "2023-11-06T13:23:30.246704Z",
     "start_time": "2023-11-06T13:22:44.290135Z"
    }
   },
   "outputs": [],
   "source": [
    "d1['genres'] = None"
   ]
  },
  {
   "cell_type": "code",
   "execution_count": 32,
   "id": "2c1d12c5-a286-4ccc-b650-71e736016628",
   "metadata": {
    "ExecuteTime": {
     "end_time": "2023-11-06T13:23:30.262929Z",
     "start_time": "2023-11-06T13:22:44.645752Z"
    }
   },
   "outputs": [],
   "source": [
    "for i in range(519817):\n",
    "    li = list()\n",
    "    if z_genres[i][0] > 0.6:\n",
    "        li.append('electronic')\n",
    "    if z_genres[i][1] > 0.6:\n",
    "        li.append('hip hop')\n",
    "    if z_genres[i][2] > 0.6:\n",
    "        li.append('pop')\n",
    "    if z_genres[i][3] > 0.6:\n",
    "        li.append('rap')\n",
    "    if z_genres[i][4] > 0.6:\n",
    "        li.append('rock')\n",
    "    \n",
    "    if not li:\n",
    "        m = np.argmax(z_genres[i])\n",
    "        li.append(['electronic', 'hip hop', 'pop', 'rap', 'rock'][m])\n",
    "\n",
    "    d1['genres'][i] = ', '.join(li)"
   ]
  },
  {
   "cell_type": "code",
   "execution_count": 33,
   "id": "569433b3",
   "metadata": {
    "ExecuteTime": {
     "end_time": "2023-11-06T13:23:30.263201Z",
     "start_time": "2023-11-06T13:23:24.217740Z"
    }
   },
   "outputs": [
    {
     "data": {
      "text/plain": "genres\npop           288244\nrock          129334\nelectronic     38471\nrap            37609\nhip hop        26159\nName: count, dtype: int64"
     },
     "execution_count": 33,
     "metadata": {},
     "output_type": "execute_result"
    }
   ],
   "source": [
    "d1['genres'].value_counts()"
   ]
  },
  {
   "cell_type": "code",
   "execution_count": 34,
   "id": "2105df3d-afbd-4041-b2fb-6475e69541d5",
   "metadata": {
    "ExecuteTime": {
     "end_time": "2023-11-06T13:23:30.263245Z",
     "start_time": "2023-11-06T13:23:24.218025Z"
    }
   },
   "outputs": [],
   "source": [
    "d1 = d1.iloc[:,1:]"
   ]
  },
  {
   "cell_type": "code",
   "execution_count": 35,
   "outputs": [],
   "source": [
    "d1.to_csv('../dataset/final_data.csv')"
   ],
   "metadata": {
    "collapsed": false,
    "ExecuteTime": {
     "end_time": "2023-11-06T13:23:30.263378Z",
     "start_time": "2023-11-06T13:23:24.218128Z"
    }
   },
   "id": "764b041788772abf"
  }
 ],
 "metadata": {
  "kernelspec": {
   "display_name": "Python 3 (ipykernel)",
   "language": "python",
   "name": "python3"
  },
  "language_info": {
   "codemirror_mode": {
    "name": "ipython",
    "version": 3
   },
   "file_extension": ".py",
   "mimetype": "text/x-python",
   "name": "python",
   "nbconvert_exporter": "python",
   "pygments_lexer": "ipython3",
   "version": "3.8.18"
  }
 },
 "nbformat": 4,
 "nbformat_minor": 5
}
