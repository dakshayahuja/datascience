{
 "cells": [
  {
   "cell_type": "markdown",
   "source": [
    "# Recommendation System"
   ],
   "metadata": {
    "collapsed": false
   },
   "id": "9e41b25f6b22793b"
  },
  {
   "cell_type": "markdown",
   "source": [
    "### COSINE SIMILARITY FUNCTION"
   ],
   "metadata": {
    "collapsed": false
   },
   "id": "20980f3839d857f1"
  },
  {
   "cell_type": "markdown",
   "source": [
    "#### How Many Songs Do you need?"
   ],
   "metadata": {
    "collapsed": false
   },
   "id": "ad1852debfcae9b7"
  },
  {
   "cell_type": "code",
   "execution_count": 1,
   "outputs": [],
   "source": [
    "import pandas as pd\n",
    "from sklearn.metrics.pairwise import cosine_similarity"
   ],
   "metadata": {
    "collapsed": false,
    "ExecuteTime": {
     "end_time": "2023-11-06T13:26:35.180230Z",
     "start_time": "2023-11-06T13:26:35.076138Z"
    }
   },
   "id": "e0db1c788953b156"
  },
  {
   "cell_type": "code",
   "execution_count": 2,
   "outputs": [],
   "source": [
    "df = pd.read_csv('../dataset/final_data.csv')"
   ],
   "metadata": {
    "collapsed": false,
    "ExecuteTime": {
     "end_time": "2023-11-06T13:26:36.444527Z",
     "start_time": "2023-11-06T13:26:35.181058Z"
    }
   },
   "id": "3b8fd3037475a8ca"
  },
  {
   "cell_type": "code",
   "execution_count": 3,
   "outputs": [],
   "source": [
    "df = df.iloc[:, 1:]"
   ],
   "metadata": {
    "collapsed": false,
    "ExecuteTime": {
     "end_time": "2023-11-06T13:26:36.492620Z",
     "start_time": "2023-11-06T13:26:36.446076Z"
    }
   },
   "id": "2d7653517211774"
  },
  {
   "cell_type": "code",
   "execution_count": 4,
   "outputs": [
    {
     "data": {
      "text/plain": "                       id                name           album  \\\n0  2SwgVZn9S4NGueAaEAryf1    man on a mission  Do It for Love   \n1  0QCQ1Isa0YPVyIbs6JwpO1      do it for love  Do It for Love   \n2  3kIBEFhsZOeeKGebxRraOb  someday we'll know  Do It for Love   \n3  5dNDRw6qjDcnbW3luRhElU     forever for you  Do It for Love   \n4  561UU4MvlsCenN1x7leYCh    life's too short  Do It for Love   \n\n                       artists                  artist_ids  explicit  \\\n0  ['Daryl Hall & John Oates']  ['77tT1kLj6mCWtFNqiOmP9H']       1.0   \n1  ['Daryl Hall & John Oates']  ['77tT1kLj6mCWtFNqiOmP9H']       1.0   \n2  ['Daryl Hall & John Oates']  ['77tT1kLj6mCWtFNqiOmP9H']       1.0   \n3  ['Daryl Hall & John Oates']  ['77tT1kLj6mCWtFNqiOmP9H']       1.0   \n4  ['Daryl Hall & John Oates']  ['77tT1kLj6mCWtFNqiOmP9H']       1.0   \n\n   danceability  energy       key  loudness  mode  speechiness  acousticness  \\\n0         0.787   0.903  0.000000  0.819615   1.0     0.032541      0.293173   \n1         0.587   0.958  0.363636  0.815822   1.0     0.060537      0.107430   \n2         0.565   0.781  0.090909  0.816953   0.0     0.031818      0.023394   \n3         0.651   0.567  0.818182  0.796963   1.0     0.024793      0.564257   \n4         0.833   0.805  0.000000  0.824672   1.0     0.035847      0.076305   \n\n   instrumentalness  liveness  valence     tempo  year genres  \n0          0.000025    0.1010    0.962  0.481839  2018    pop  \n1          0.000000    0.0574    0.832  0.353411  2018   rock  \n2          0.000010    0.0819    0.461  0.441792  2018    pop  \n3          0.000006    0.1860    0.370  0.389782  2018    pop  \n4          0.013600    0.0731    0.974  0.466039  2018    pop  ",
      "text/html": "<div>\n<style scoped>\n    .dataframe tbody tr th:only-of-type {\n        vertical-align: middle;\n    }\n\n    .dataframe tbody tr th {\n        vertical-align: top;\n    }\n\n    .dataframe thead th {\n        text-align: right;\n    }\n</style>\n<table border=\"1\" class=\"dataframe\">\n  <thead>\n    <tr style=\"text-align: right;\">\n      <th></th>\n      <th>id</th>\n      <th>name</th>\n      <th>album</th>\n      <th>artists</th>\n      <th>artist_ids</th>\n      <th>explicit</th>\n      <th>danceability</th>\n      <th>energy</th>\n      <th>key</th>\n      <th>loudness</th>\n      <th>mode</th>\n      <th>speechiness</th>\n      <th>acousticness</th>\n      <th>instrumentalness</th>\n      <th>liveness</th>\n      <th>valence</th>\n      <th>tempo</th>\n      <th>year</th>\n      <th>genres</th>\n    </tr>\n  </thead>\n  <tbody>\n    <tr>\n      <th>0</th>\n      <td>2SwgVZn9S4NGueAaEAryf1</td>\n      <td>man on a mission</td>\n      <td>Do It for Love</td>\n      <td>['Daryl Hall &amp; John Oates']</td>\n      <td>['77tT1kLj6mCWtFNqiOmP9H']</td>\n      <td>1.0</td>\n      <td>0.787</td>\n      <td>0.903</td>\n      <td>0.000000</td>\n      <td>0.819615</td>\n      <td>1.0</td>\n      <td>0.032541</td>\n      <td>0.293173</td>\n      <td>0.000025</td>\n      <td>0.1010</td>\n      <td>0.962</td>\n      <td>0.481839</td>\n      <td>2018</td>\n      <td>pop</td>\n    </tr>\n    <tr>\n      <th>1</th>\n      <td>0QCQ1Isa0YPVyIbs6JwpO1</td>\n      <td>do it for love</td>\n      <td>Do It for Love</td>\n      <td>['Daryl Hall &amp; John Oates']</td>\n      <td>['77tT1kLj6mCWtFNqiOmP9H']</td>\n      <td>1.0</td>\n      <td>0.587</td>\n      <td>0.958</td>\n      <td>0.363636</td>\n      <td>0.815822</td>\n      <td>1.0</td>\n      <td>0.060537</td>\n      <td>0.107430</td>\n      <td>0.000000</td>\n      <td>0.0574</td>\n      <td>0.832</td>\n      <td>0.353411</td>\n      <td>2018</td>\n      <td>rock</td>\n    </tr>\n    <tr>\n      <th>2</th>\n      <td>3kIBEFhsZOeeKGebxRraOb</td>\n      <td>someday we'll know</td>\n      <td>Do It for Love</td>\n      <td>['Daryl Hall &amp; John Oates']</td>\n      <td>['77tT1kLj6mCWtFNqiOmP9H']</td>\n      <td>1.0</td>\n      <td>0.565</td>\n      <td>0.781</td>\n      <td>0.090909</td>\n      <td>0.816953</td>\n      <td>0.0</td>\n      <td>0.031818</td>\n      <td>0.023394</td>\n      <td>0.000010</td>\n      <td>0.0819</td>\n      <td>0.461</td>\n      <td>0.441792</td>\n      <td>2018</td>\n      <td>pop</td>\n    </tr>\n    <tr>\n      <th>3</th>\n      <td>5dNDRw6qjDcnbW3luRhElU</td>\n      <td>forever for you</td>\n      <td>Do It for Love</td>\n      <td>['Daryl Hall &amp; John Oates']</td>\n      <td>['77tT1kLj6mCWtFNqiOmP9H']</td>\n      <td>1.0</td>\n      <td>0.651</td>\n      <td>0.567</td>\n      <td>0.818182</td>\n      <td>0.796963</td>\n      <td>1.0</td>\n      <td>0.024793</td>\n      <td>0.564257</td>\n      <td>0.000006</td>\n      <td>0.1860</td>\n      <td>0.370</td>\n      <td>0.389782</td>\n      <td>2018</td>\n      <td>pop</td>\n    </tr>\n    <tr>\n      <th>4</th>\n      <td>561UU4MvlsCenN1x7leYCh</td>\n      <td>life's too short</td>\n      <td>Do It for Love</td>\n      <td>['Daryl Hall &amp; John Oates']</td>\n      <td>['77tT1kLj6mCWtFNqiOmP9H']</td>\n      <td>1.0</td>\n      <td>0.833</td>\n      <td>0.805</td>\n      <td>0.000000</td>\n      <td>0.824672</td>\n      <td>1.0</td>\n      <td>0.035847</td>\n      <td>0.076305</td>\n      <td>0.013600</td>\n      <td>0.0731</td>\n      <td>0.974</td>\n      <td>0.466039</td>\n      <td>2018</td>\n      <td>pop</td>\n    </tr>\n  </tbody>\n</table>\n</div>"
     },
     "execution_count": 4,
     "metadata": {},
     "output_type": "execute_result"
    }
   ],
   "source": [
    "df.head()"
   ],
   "metadata": {
    "collapsed": false,
    "ExecuteTime": {
     "end_time": "2023-11-06T13:26:36.503784Z",
     "start_time": "2023-11-06T13:26:36.494152Z"
    }
   },
   "id": "e56298cf2d28ad92"
  },
  {
   "cell_type": "code",
   "execution_count": 5,
   "outputs": [],
   "source": [
    "def model(user_song_X, total_dataset):\n",
    "    N_recommend = int(input(\"Enter How Many You Want: \"))\n",
    "    cosine_sim = cosine_similarity(total_dataset, user_song_X)\n",
    "    song_similarity_scores = cosine_sim.flatten()\n",
    "    sorted_song_indices = song_similarity_scores.argsort()[::-1]\n",
    "    top_n_recommendations = sorted_song_indices[1:N_recommend+1]\n",
    "    return recommend_N(top_n_recommendations)    "
   ],
   "metadata": {
    "collapsed": false,
    "ExecuteTime": {
     "end_time": "2023-11-06T13:26:36.507818Z",
     "start_time": "2023-11-06T13:26:36.505437Z"
    }
   },
   "id": "8520142047451d34"
  },
  {
   "cell_type": "markdown",
   "source": [
    "### RECOMMENDED SONGS BASED ON THE SONG GIVEN BY THE USER"
   ],
   "metadata": {
    "collapsed": false
   },
   "id": "f4477760ccfa51c7"
  },
  {
   "cell_type": "code",
   "execution_count": 6,
   "outputs": [],
   "source": [
    "def recommend_N(top_n_recommendations):\n",
    "    indices_to_display = top_n_recommendations  \n",
    "    recommended_songs = df.iloc[indices_to_display]\n",
    "\n",
    "    for index, song in recommended_songs.iterrows():\n",
    "        print(f\"Song Name: {song['name'].title()}\")\n",
    "        print(f\"Artists: {song['artists']}\")\n",
    "        print(f\"Year: {song['year']}\")\n",
    "        print(f\"Genre: {song['genres'].capitalize()}\")\n",
    "        print(\"----------\")"
   ],
   "metadata": {
    "collapsed": false,
    "ExecuteTime": {
     "end_time": "2023-11-06T13:26:36.512293Z",
     "start_time": "2023-11-06T13:26:36.508917Z"
    }
   },
   "id": "c589bd136481ff31"
  },
  {
   "cell_type": "markdown",
   "source": [
    "### Enters A Name Of Song He Wants Recommendation On!"
   ],
   "metadata": {
    "collapsed": false
   },
   "id": "36ed0272529320bc"
  },
  {
   "cell_type": "code",
   "execution_count": 7,
   "outputs": [
    {
     "data": {
      "text/plain": "   explicit  danceability  energy       key  loudness  mode  speechiness  \\\n0       1.0         0.787   0.903  0.000000  0.819615   1.0     0.032541   \n1       1.0         0.587   0.958  0.363636  0.815822   1.0     0.060537   \n2       1.0         0.565   0.781  0.090909  0.816953   0.0     0.031818   \n3       1.0         0.651   0.567  0.818182  0.796963   1.0     0.024793   \n4       1.0         0.833   0.805  0.000000  0.824672   1.0     0.035847   \n\n   acousticness  instrumentalness  liveness  valence  \n0      0.293173          0.000025    0.1010    0.962  \n1      0.107430          0.000000    0.0574    0.832  \n2      0.023394          0.000010    0.0819    0.461  \n3      0.564257          0.000006    0.1860    0.370  \n4      0.076305          0.013600    0.0731    0.974  ",
      "text/html": "<div>\n<style scoped>\n    .dataframe tbody tr th:only-of-type {\n        vertical-align: middle;\n    }\n\n    .dataframe tbody tr th {\n        vertical-align: top;\n    }\n\n    .dataframe thead th {\n        text-align: right;\n    }\n</style>\n<table border=\"1\" class=\"dataframe\">\n  <thead>\n    <tr style=\"text-align: right;\">\n      <th></th>\n      <th>explicit</th>\n      <th>danceability</th>\n      <th>energy</th>\n      <th>key</th>\n      <th>loudness</th>\n      <th>mode</th>\n      <th>speechiness</th>\n      <th>acousticness</th>\n      <th>instrumentalness</th>\n      <th>liveness</th>\n      <th>valence</th>\n    </tr>\n  </thead>\n  <tbody>\n    <tr>\n      <th>0</th>\n      <td>1.0</td>\n      <td>0.787</td>\n      <td>0.903</td>\n      <td>0.000000</td>\n      <td>0.819615</td>\n      <td>1.0</td>\n      <td>0.032541</td>\n      <td>0.293173</td>\n      <td>0.000025</td>\n      <td>0.1010</td>\n      <td>0.962</td>\n    </tr>\n    <tr>\n      <th>1</th>\n      <td>1.0</td>\n      <td>0.587</td>\n      <td>0.958</td>\n      <td>0.363636</td>\n      <td>0.815822</td>\n      <td>1.0</td>\n      <td>0.060537</td>\n      <td>0.107430</td>\n      <td>0.000000</td>\n      <td>0.0574</td>\n      <td>0.832</td>\n    </tr>\n    <tr>\n      <th>2</th>\n      <td>1.0</td>\n      <td>0.565</td>\n      <td>0.781</td>\n      <td>0.090909</td>\n      <td>0.816953</td>\n      <td>0.0</td>\n      <td>0.031818</td>\n      <td>0.023394</td>\n      <td>0.000010</td>\n      <td>0.0819</td>\n      <td>0.461</td>\n    </tr>\n    <tr>\n      <th>3</th>\n      <td>1.0</td>\n      <td>0.651</td>\n      <td>0.567</td>\n      <td>0.818182</td>\n      <td>0.796963</td>\n      <td>1.0</td>\n      <td>0.024793</td>\n      <td>0.564257</td>\n      <td>0.000006</td>\n      <td>0.1860</td>\n      <td>0.370</td>\n    </tr>\n    <tr>\n      <th>4</th>\n      <td>1.0</td>\n      <td>0.833</td>\n      <td>0.805</td>\n      <td>0.000000</td>\n      <td>0.824672</td>\n      <td>1.0</td>\n      <td>0.035847</td>\n      <td>0.076305</td>\n      <td>0.013600</td>\n      <td>0.0731</td>\n      <td>0.974</td>\n    </tr>\n  </tbody>\n</table>\n</div>"
     },
     "execution_count": 7,
     "metadata": {},
     "output_type": "execute_result"
    }
   ],
   "source": [
    "total_dataset = df.iloc[:,5:17]\n",
    "total_dataset.head()"
   ],
   "metadata": {
    "collapsed": false,
    "ExecuteTime": {
     "end_time": "2023-11-06T13:26:36.557526Z",
     "start_time": "2023-11-06T13:26:36.526665Z"
    }
   },
   "id": "22a1c707ae7ce84e"
  },
  {
   "cell_type": "code",
   "execution_count": 8,
   "outputs": [
    {
     "name": "stdout",
     "output_type": "stream",
     "text": [
      "Song Name: Something Just Like This\n",
      "Artists: ['The Chainsmokers', 'Coldplay']\n",
      "Year: 2017\n",
      "Genre: Pop\n",
      "----------\n",
      "Song Name: Jacquelyn Hyde\n",
      "Artists: ['MC Frontalot']\n",
      "Year: 2010\n",
      "Genre: Rap\n",
      "----------\n",
      "Song Name: Lean Into The Wind\n",
      "Artists: ['Dirty Dave Osti']\n",
      "Year: 2013\n",
      "Genre: Rock\n",
      "----------\n"
     ]
    }
   ],
   "source": [
    "user_song = input(\"Enter Song: \")\n",
    "user_song_X = df[df['name'] == user_song].iloc[:1,5:17]\n",
    "model(user_song_X, total_dataset)"
   ],
   "metadata": {
    "collapsed": false,
    "ExecuteTime": {
     "end_time": "2023-11-06T13:26:44.105886Z",
     "start_time": "2023-11-06T13:26:36.529727Z"
    }
   },
   "id": "58ee60bfcaa68f68"
  }
 ],
 "metadata": {
  "kernelspec": {
   "display_name": "Python 3",
   "language": "python",
   "name": "python3"
  },
  "language_info": {
   "codemirror_mode": {
    "name": "ipython",
    "version": 2
   },
   "file_extension": ".py",
   "mimetype": "text/x-python",
   "name": "python",
   "nbconvert_exporter": "python",
   "pygments_lexer": "ipython2",
   "version": "2.7.6"
  }
 },
 "nbformat": 4,
 "nbformat_minor": 5
}
