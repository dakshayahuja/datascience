{
 "cells": [
  {
   "cell_type": "markdown",
   "metadata": {},
   "source": [
    "<table align=\"center\" width=100%>\n",
    "    <tr>\n",
    "        <td width=\"15%\">\n",
    "            <img src=\"scala_takehome.png\">\n",
    "        </td>\n",
    "        <td>\n",
    "            <div align=\"center\">\n",
    "                <h3> Take-Home Exercise</h3>\n",
    "                <h4>Author: Dakshay Ahuja(2010990178)</h4>\n",
    "            </div>\n",
    "        </td>\n",
    "    </tr>\n",
    "</table>"
   ]
  },
  {
   "cell_type": "markdown",
   "metadata": {},
   "source": [
    "**Import the required libraries**"
   ]
  },
  {
   "cell_type": "code",
   "execution_count": 1,
   "metadata": {
    "ExecuteTime": {
     "end_time": "2023-08-27T17:10:43.828233Z",
     "start_time": "2023-08-27T17:10:43.135384Z"
    }
   },
   "outputs": [],
   "source": [
    "import numpy as np\n",
    "import pandas as pd\n",
    "from scipy import stats"
   ]
  },
  {
   "cell_type": "markdown",
   "metadata": {},
   "source": [
    "### Let's begin with some hands-on practice exercises"
   ]
  },
  {
   "cell_type": "markdown",
   "metadata": {
    "collapsed": true
   },
   "source": [
    "<table align=\"left\">\n",
    "    <tr>\n",
    "        <td>\n",
    "            <div align=\"left\", style=\"font-size:120%\">\n",
    "                <font color=\"#21618C\">\n",
    "                    <b>1. The experiment shows that the average monthly electricity consumption for a house is 458 units. The study records a total of 3206 units of electricity consumption. Calculate the duration of the experiment. Also, identify the criteria to calculate the median consumption. \n",
    "</b>\n",
    "                </font>\n",
    "            </div>\n",
    "        </td>\n",
    "    </tr>\n",
    "</table>"
   ]
  },
  {
   "cell_type": "code",
   "execution_count": 2,
   "metadata": {
    "ExecuteTime": {
     "end_time": "2023-08-27T17:10:43.834483Z",
     "start_time": "2023-08-27T17:10:43.829491Z"
    }
   },
   "outputs": [
    {
     "name": "stdout",
     "output_type": "stream",
     "text": [
      "Duration of the Experiment in months: 7.0\n"
     ]
    }
   ],
   "source": [
    "total_consumption = 3206\n",
    "average_monthly_consumption = 458\n",
    "\n",
    "# Calculate the Duration of the Experiment\n",
    "duration = total_consumption / average_monthly_consumption\n",
    "print(\"Duration of the Experiment in months:\", duration)"
   ]
  },
  {
   "cell_type": "markdown",
   "metadata": {
    "collapsed": true
   },
   "source": [
    "<table align=\"left\">\n",
    "    <tr>\n",
    "        <td>\n",
    "            <div align=\"left\", style=\"font-size:120%\">\n",
    "                <font color=\"#21618C\">\n",
    "                    <b> 2. Find the wage above which 65% of wages would lie.</b>\n",
    "                </font>\n",
    "            </div>\n",
    "        </td>\n",
    "    </tr>\n",
    "</table>"
   ]
  },
  {
   "cell_type": "markdown",
   "metadata": {},
   "source": [
    "            Consider the wages (in dollars) of 15 workers as given below:\n",
    "\n",
    "            wage = [247, 228, 352, 298, 345, 312, 300, 285, 246, 352, 297, 304, 265, 325, 276]"
   ]
  },
  {
   "cell_type": "code",
   "execution_count": 3,
   "metadata": {
    "ExecuteTime": {
     "end_time": "2023-08-27T17:10:43.835982Z",
     "start_time": "2023-08-27T17:10:43.833322Z"
    }
   },
   "outputs": [
    {
     "name": "stdout",
     "output_type": "stream",
     "text": [
      "284.1\n"
     ]
    }
   ],
   "source": [
    "wage = pd.Series([247, 228, 352, 298, 345, 312, 300, 285, 246, 352, 297, 304, 265, 325, 276])\n",
    "quantile_35_wage = wage.quantile(0.35)\n",
    "print(quantile_35_wage)"
   ]
  },
  {
   "cell_type": "markdown",
   "metadata": {
    "collapsed": true
   },
   "source": [
    "<table align=\"left\">\n",
    "    <tr>\n",
    "        <td>\n",
    "            <div align=\"left\", style=\"font-size:120%\">\n",
    "                <font color=\"#21618C\">\n",
    "                    <b>3. Jimmy requires 38 minutes on average, with a standard deviation of 5 minutes to distribute the newspapers. On the other hand, Richard requires 27 minutes on average, with a standard deviation of 6 minutes to distribute the newspapers. Identify most consistent distributor.\n",
    "</b>\n",
    "                </font>\n",
    "            </div>\n",
    "        </td>\n",
    "    </tr>\n",
    "</table>"
   ]
  },
  {
   "cell_type": "code",
   "execution_count": 4,
   "metadata": {
    "ExecuteTime": {
     "end_time": "2023-08-27T17:10:43.842396Z",
     "start_time": "2023-08-27T17:10:43.836599Z"
    }
   },
   "outputs": [
    {
     "name": "stdout",
     "output_type": "stream",
     "text": [
      "Coefficient of Variation for Jimmy: 13.157894736842104%\n",
      "Coefficient of Variation for Richard: 22.22222222222222%\n",
      "Jimmy is the most consistent distributor.\n"
     ]
    }
   ],
   "source": [
    "# For Jimmy\n",
    "mean_jimmy = 38\n",
    "std_dev_jimmy = 5\n",
    "cv_jimmy = (std_dev_jimmy / mean_jimmy) * 100\n",
    "\n",
    "# For Richard\n",
    "mean_richard = 27\n",
    "std_dev_richard = 6\n",
    "cv_richard = (std_dev_richard / mean_richard) * 100\n",
    "\n",
    "# Output the Coefficients of Variation\n",
    "print(f\"Coefficient of Variation for Jimmy: {cv_jimmy}%\")\n",
    "print(f\"Coefficient of Variation for Richard: {cv_richard}%\")\n",
    "\n",
    "# Identify the most consistent distributor\n",
    "if cv_jimmy < cv_richard:\n",
    "    print(\"Jimmy is the most consistent distributor.\")\n",
    "else:\n",
    "    print(\"Richard is the most consistent distributor.\")"
   ]
  },
  {
   "cell_type": "markdown",
   "metadata": {
    "collapsed": true
   },
   "source": [
    "<table align=\"left\">\n",
    "    <tr>\n",
    "        <td>\n",
    "            <div align=\"left\", style=\"font-size:120%\">\n",
    "                <font color=\"#21618C\">\n",
    "                    <b>4. Identify the extreme weights from the given list of weights using the interquartile range. \n",
    "</b>\n",
    "                </font>\n",
    "            </div>\n",
    "        </td>\n",
    "    </tr>\n",
    "</table>"
   ]
  },
  {
   "cell_type": "markdown",
   "metadata": {},
   "source": [
    "            Consider the weights (in kg) of 10 students as given below:\n",
    "\n",
    "            weight = [14.7, 15.2, 39.8, 44.5, 21.2, 28.5, 35.2, 19.7, 40.4, 16.5]"
   ]
  },
  {
   "cell_type": "code",
   "execution_count": 5,
   "metadata": {
    "ExecuteTime": {
     "end_time": "2023-08-27T17:10:43.844426Z",
     "start_time": "2023-08-27T17:10:43.840919Z"
    }
   },
   "outputs": [
    {
     "name": "stdout",
     "output_type": "stream",
     "text": [
      "4    15.2\n",
      "5    78.5\n",
      "6    75.2\n",
      "7    19.7\n",
      "dtype: float64\n"
     ]
    }
   ],
   "source": [
    "weight = pd.Series([44.7, 55.2, 49.8, 44.5, 15.2, 78.5, 75.2, 19.7, 50.4, 46.5])\n",
    "Q1 = weight.quantile(0.25)\n",
    "Q3 = weight.quantile(0.75)\n",
    "IQR = Q3 - Q1  \n",
    "outliers = weight[(weight < (Q1 - 1.5 * IQR)) | (weight > (Q3 + 1.5 * IQR))]\n",
    "print(outliers)"
   ]
  },
  {
   "cell_type": "markdown",
   "metadata": {
    "collapsed": true
   },
   "source": [
    "<table align=\"left\">\n",
    "    <tr>\n",
    "        <td>\n",
    "            <div align=\"left\", style=\"font-size:120%\">\n",
    "                <font color=\"#21618C\">\n",
    "                    <b>5. A car showroom in Ohio exhibits a total of 12 cars of different brands. Identify the type of skewness in the showroom prices of cars. \n",
    "</b>\n",
    "                </font>\n",
    "            </div>\n",
    "        </td>\n",
    "    </tr>\n",
    "</table>"
   ]
  },
  {
   "cell_type": "markdown",
   "metadata": {},
   "source": [
    "            Consider the prices (in dollars) for 12 cars as given below:\n",
    "\n",
    "            price = [14751, 16422, 15398, 9445, 12589, 11687, 10692, 8475, 11184, 9961, 12898, 11905]"
   ]
  },
  {
   "cell_type": "code",
   "execution_count": 6,
   "metadata": {
    "ExecuteTime": {
     "end_time": "2023-08-27T17:10:43.850133Z",
     "start_time": "2023-08-27T17:10:43.845996Z"
    }
   },
   "outputs": [
    {
     "name": "stdout",
     "output_type": "stream",
     "text": [
      "Skewness of the car prices: 0.3464139588721767\n",
      "The distribution is right-skewed.\n"
     ]
    }
   ],
   "source": [
    "price = [14751, 16422, 15398, 9445, 12589, 11687, 10692, 8475, 11184, 9961, 12898, 11905]\n",
    "\n",
    "mean_price = np.mean(price)\n",
    "std_dev_price = np.std(price)\n",
    "\n",
    "n = len(price)\n",
    "skewness = (1/n) * sum([((x - mean_price) / std_dev_price) ** 3 for x in price])\n",
    "\n",
    "# Output the skewness\n",
    "print(\"Skewness of the car prices:\", skewness)\n",
    "\n",
    "# Identify the type of skewness\n",
    "if skewness > 0:\n",
    "    print(\"The distribution is right-skewed.\")\n",
    "elif skewness < 0:\n",
    "    print(\"The distribution is left-skewed.\")\n",
    "else:\n",
    "    print(\"The distribution is approximately symmetrical.\")"
   ]
  },
  {
   "cell_type": "markdown",
   "metadata": {
    "collapsed": true
   },
   "source": [
    "<table align=\"left\">\n",
    "    <tr>\n",
    "        <td>\n",
    "            <div align=\"left\", style=\"font-size:120%\">\n",
    "                <font color=\"#21618C\">\n",
    "                    <b>6. A company offers its customers to take a vehicle and an eduacational loan. A study shows that the probability that a customer takes a vehicle loan is 0.35, the probability that a customer takes an educational loan is 0.46 and the probability that a customer takes at least one of the loan is 0.59. Find the probability that a customer takes both vehicle and educational loans.\n",
    "</b>\n",
    "                </font>\n",
    "            </div>\n",
    "        </td>\n",
    "    </tr>\n",
    "</table>"
   ]
  },
  {
   "cell_type": "code",
   "execution_count": 7,
   "metadata": {
    "ExecuteTime": {
     "end_time": "2023-08-27T17:10:43.905221Z",
     "start_time": "2023-08-27T17:10:43.848550Z"
    }
   },
   "outputs": [
    {
     "name": "stdout",
     "output_type": "stream",
     "text": [
      "The probability that a customer takes both vehicle and educational loans is 0.22000000000000008\n"
     ]
    }
   ],
   "source": [
    "# Given probabilities\n",
    "prob_vehicle_loan = 0.35\n",
    "prob_educational_loan = 0.46\n",
    "prob_at_least_one_loan = 0.59\n",
    "\n",
    "# Calculate the probability of both loans\n",
    "prob_both_loans = prob_vehicle_loan + prob_educational_loan - prob_at_least_one_loan\n",
    "\n",
    "print(\"The probability that a customer takes both vehicle and educational loans is\", prob_both_loans)"
   ]
  },
  {
   "cell_type": "markdown",
   "metadata": {
    "collapsed": true
   },
   "source": [
    "<table align=\"left\">\n",
    "    <tr>\n",
    "        <td>\n",
    "            <div align=\"left\", style=\"font-size:120%\">\n",
    "                <font color=\"#21618C\">\n",
    "                    <b>7. Consider two independent events X and Y. If the probability of occurrence of event X is 0.4 and the probability of occurrence of at least one event is 0.6. Find the probability of occurrence of event Y. \n",
    "</b>\n",
    "                </font>\n",
    "            </div>\n",
    "        </td>\n",
    "    </tr>\n",
    "</table>"
   ]
  },
  {
   "cell_type": "code",
   "execution_count": 8,
   "metadata": {
    "ExecuteTime": {
     "end_time": "2023-08-27T17:10:43.905984Z",
     "start_time": "2023-08-27T17:10:43.851040Z"
    }
   },
   "outputs": [
    {
     "name": "stdout",
     "output_type": "stream",
     "text": [
      "The probability of occurrence of event Y is 0.33333333333333326\n"
     ]
    }
   ],
   "source": [
    "prob_X = 0.4\n",
    "prob_at_least_one = 0.6\n",
    "\n",
    "prob_Y = (prob_at_least_one - prob_X) / (1 - prob_X)\n",
    "\n",
    "print(\"The probability of occurrence of event Y is\",prob_Y)"
   ]
  },
  {
   "cell_type": "markdown",
   "metadata": {
    "collapsed": true
   },
   "source": [
    "<table align=\"left\">\n",
    "    <tr>\n",
    "        <td>\n",
    "            <div align=\"left\", style=\"font-size:120%\">\n",
    "                <font color=\"#21618C\">\n",
    "                    <b>8. Consider a vending machine containing 6 boxes each of four different juice flavors (Mango, Apple, Guava and Kiwi). Find the probability that the juice box picked is either of Mango or Guava flavor.                 \n",
    "</b>\n",
    "                </font>\n",
    "            </div>\n",
    "        </td>\n",
    "    </tr>\n",
    "</table>"
   ]
  },
  {
   "cell_type": "code",
   "execution_count": 9,
   "metadata": {
    "ExecuteTime": {
     "end_time": "2023-08-27T17:10:43.906135Z",
     "start_time": "2023-08-27T17:10:43.853431Z"
    }
   },
   "outputs": [
    {
     "name": "stdout",
     "output_type": "stream",
     "text": [
      "The probability that the juice box picked is either of Mango or Guava flavor is 0.5\n"
     ]
    }
   ],
   "source": [
    "total_boxes = 6 * 4\n",
    "\n",
    "# Number of Mango or Guava boxes\n",
    "num_mango_or_guava_boxes = 6 + 6\n",
    "\n",
    "prob_mango_or_guava = num_mango_or_guava_boxes / total_boxes\n",
    "print(\"The probability that the juice box picked is either of Mango or Guava flavor is\",prob_mango_or_guava)"
   ]
  },
  {
   "cell_type": "markdown",
   "metadata": {
    "collapsed": true
   },
   "source": [
    "<table align=\"left\">\n",
    "    <tr>\n",
    "        <td>\n",
    "            <div align=\"left\", style=\"font-size:120%\">\n",
    "                <font color=\"#21618C\">\n",
    "                    <b>9. Consider a student appearing for 3 different exams either pass or fail in each exam. Let a marginal probability of a student passing the Economics, Mathematics and German exam be 0.67. The probability that the student fails in the Economics exam is 0.10 and the probability that the student fails in the German exam is 0.09. Find the probability that a student fails in the Mathematics exam.\n",
    "</b>\n",
    "                </font>\n",
    "            </div>\n",
    "        </td>\n",
    "    </tr>\n",
    "</table>"
   ]
  },
  {
   "cell_type": "code",
   "execution_count": 10,
   "metadata": {
    "ExecuteTime": {
     "end_time": "2023-08-27T17:10:43.906469Z",
     "start_time": "2023-08-27T17:10:43.855857Z"
    }
   },
   "outputs": [
    {
     "name": "stdout",
     "output_type": "stream",
     "text": [
      "The probability that a student fails in Mathematics exam is 0.13999999999999996\n"
     ]
    }
   ],
   "source": [
    "prob_pass_all_exams = 0.67\n",
    "prob_fail_economics = 0.10\n",
    "prob_fail_german = 0.09\n",
    "\n",
    "# Calculate the probability of failing the Mathematics exam\n",
    "prob_fail_math = 1 - prob_pass_all_exams - prob_fail_economics - prob_fail_german\n",
    "\n",
    "print(\"The probability that a student fails in Mathematics exam is\", prob_fail_math)"
   ]
  },
  {
   "cell_type": "markdown",
   "metadata": {
    "collapsed": true
   },
   "source": [
    "<table align=\"left\">\n",
    "    <tr>\n",
    "        <td>\n",
    "            <div align=\"left\", style=\"font-size:120%\">\n",
    "                <font color=\"#21618C\">\n",
    "                    <b>10. The probabilities that a machine will produce 2, 5, 7, 9 defective batteries in a day are 0.3, 0.22, 0.15, 0.1 respectively. Find the expected number of defective batteries produced in a day.\n",
    "</b>\n",
    "                </font>\n",
    "            </div>\n",
    "        </td>\n",
    "    </tr>\n",
    "</table>"
   ]
  },
  {
   "cell_type": "code",
   "execution_count": 11,
   "metadata": {
    "ExecuteTime": {
     "end_time": "2023-08-27T17:10:43.906562Z",
     "start_time": "2023-08-27T17:10:43.859002Z"
    }
   },
   "outputs": [
    {
     "name": "stdout",
     "output_type": "stream",
     "text": [
      "Expected number of defective batteries produced in a day is 3.65\n"
     ]
    }
   ],
   "source": [
    "probabilities = np.array([0.3, 0.22, 0.15, 0.1])\n",
    "defective_batteries = np.array([2, 5, 7, 9])\n",
    "expected_defective_batteries = np.sum(defective_batteries * probabilities)\n",
    "print(\"Expected number of defective batteries produced in a day is\",expected_defective_batteries)"
   ]
  },
  {
   "cell_type": "markdown",
   "metadata": {
    "collapsed": true
   },
   "source": [
    "<table align=\"left\">\n",
    "    <tr>\n",
    "        <td>\n",
    "            <div align=\"left\", style=\"font-size:120%\">\n",
    "                <font color=\"#21618C\">\n",
    "                    <b>11. In a pack of 52 cards, what is the probability of selecting a red card?\n",
    "</b>\n",
    "                </font>\n",
    "            </div>\n",
    "        </td>\n",
    "    </tr>\n",
    "</table>"
   ]
  },
  {
   "cell_type": "code",
   "execution_count": 12,
   "metadata": {
    "ExecuteTime": {
     "end_time": "2023-08-27T17:10:43.906635Z",
     "start_time": "2023-08-27T17:10:43.861127Z"
    }
   },
   "outputs": [
    {
     "name": "stdout",
     "output_type": "stream",
     "text": [
      "Probability of selecting a red card is 50.0 %\n"
     ]
    }
   ],
   "source": [
    "red_cards = 26\n",
    "total_cards = 52\n",
    "prob = red_cards/total_cards * 100\n",
    "print(\"Probability of selecting a red card is\", prob,\"%\")"
   ]
  },
  {
   "cell_type": "markdown",
   "metadata": {
    "collapsed": true
   },
   "source": [
    "<table align=\"left\">\n",
    "    <tr>\n",
    "        <td>\n",
    "            <div align=\"left\", style=\"font-size:120%\">\n",
    "                <font color=\"#21618C\">\n",
    "                    <b>12. From the experience, it is seen that 4% of the tyres produced by the machine are defective. Out of the 10 tyres produced, find the probability that at most 3 are defective.\n",
    "</b>\n",
    "                </font>\n",
    "            </div>\n",
    "        </td>\n",
    "    </tr>\n",
    "</table>"
   ]
  },
  {
   "cell_type": "code",
   "execution_count": 13,
   "metadata": {
    "ExecuteTime": {
     "end_time": "2023-08-27T17:10:43.906781Z",
     "start_time": "2023-08-27T17:10:43.863753Z"
    }
   },
   "outputs": [
    {
     "name": "stdout",
     "output_type": "stream",
     "text": [
      "Probability: 99.96 %\n"
     ]
    }
   ],
   "source": [
    "prob = stats.binom.cdf(3,10,0.04) * 100\n",
    "print(\"Probability:\", round(prob,2), \"%\")"
   ]
  },
  {
   "cell_type": "markdown",
   "metadata": {
    "collapsed": true
   },
   "source": [
    "<table align=\"left\">\n",
    "    <tr>\n",
    "        <td>\n",
    "            <div align=\"left\", style=\"font-size:120%\">\n",
    "                <font color=\"#21618C\">\n",
    "                    <b>13. The number of trucks crossing a bridge during the day follow a Poisson distribution with mean 18. What is the probability that on a randomly selected day 12 trucks would have crossed the bridge?\n",
    "</b>\n",
    "                </font>\n",
    "            </div>\n",
    "        </td>\n",
    "    </tr>\n",
    "</table>"
   ]
  },
  {
   "cell_type": "code",
   "execution_count": 14,
   "metadata": {
    "ExecuteTime": {
     "end_time": "2023-08-27T17:10:43.906853Z",
     "start_time": "2023-08-27T17:10:43.868279Z"
    }
   },
   "outputs": [
    {
     "name": "stdout",
     "output_type": "stream",
     "text": [
      "Probability 3.68 %\n"
     ]
    }
   ],
   "source": [
    "prob = stats.poisson.pmf(12,18) * 100\n",
    "print(\"Probability\", round(prob,2), \"%\")"
   ]
  },
  {
   "cell_type": "markdown",
   "metadata": {
    "collapsed": true
   },
   "source": [
    "<table align=\"left\">\n",
    "    <tr>\n",
    "        <td>\n",
    "            <div align=\"left\", style=\"font-size:120%\">\n",
    "                <font color=\"#21618C\">\n",
    "                    <b>14. A random variable follows uniform distribution in the interval 5 to 10. Obtain the mean and variance. \n",
    "</b>\n",
    "                </font>\n",
    "            </div>\n",
    "        </td>\n",
    "    </tr>\n",
    "</table>"
   ]
  },
  {
   "cell_type": "code",
   "execution_count": 15,
   "metadata": {
    "ExecuteTime": {
     "end_time": "2023-08-27T17:10:43.906996Z",
     "start_time": "2023-08-27T17:10:43.870980Z"
    }
   },
   "outputs": [
    {
     "name": "stdout",
     "output_type": "stream",
     "text": [
      "Mean: 2.5\n",
      "Variance: 2.0833333333333335\n"
     ]
    }
   ],
   "source": [
    "lower_limit = 5\n",
    "upper_limit = 10\n",
    "\n",
    "mean = (upper_limit-lower_limit)/2\n",
    "print(\"Mean:\", mean)\n",
    "\n",
    "variance = (upper_limit-lower_limit)**2 / 12\n",
    "print(\"Variance:\", variance)"
   ]
  },
  {
   "cell_type": "markdown",
   "metadata": {
    "collapsed": true
   },
   "source": [
    "<table align=\"left\">\n",
    "    <tr>\n",
    "        <td>\n",
    "            <div align=\"left\", style=\"font-size:120%\">\n",
    "                <font color=\"#21618C\">\n",
    "                    <b>15. Consider an random variable that follows normal distribution with mean 5 and variance 10 \n",
    "obtain: <br>\n",
    "1. P(X < 1)<br>\n",
    "2. P(X > 5)<br>\n",
    "3. P(3 < X < 7)\n",
    "</b>\n",
    "                </font>\n",
    "            </div>\n",
    "        </td>\n",
    "    </tr>\n",
    "</table>"
   ]
  },
  {
   "cell_type": "code",
   "execution_count": 16,
   "metadata": {
    "ExecuteTime": {
     "end_time": "2023-08-27T17:10:43.917573Z",
     "start_time": "2023-08-27T17:10:43.874644Z"
    }
   },
   "outputs": [
    {
     "name": "stdout",
     "output_type": "stream",
     "text": [
      "P(X 1): 0.1029516053660342\n",
      "P(X > 5): 0.5\n",
      "P(3 X 7): 0.2417303374571288\n"
     ]
    }
   ],
   "source": [
    "mean = 5\n",
    "variance = 10\n",
    "std_dev = np.sqrt(variance)\n",
    "prob1 = stats.norm.cdf(1,mean,std_dev)\n",
    "prob2 = 1 - stats.norm.cdf(5,mean,std_dev)\n",
    "prob3 = stats.norm.cdf(6,3,2) - stats.norm.cdf(4,3,2)\n",
    "print(\"P(X 1):\", prob1)\n",
    "print(\"P(X > 5):\", prob2)\n",
    "print(\"P(3 X 7):\", prob3)"
   ]
  },
  {
   "cell_type": "markdown",
   "metadata": {
    "collapsed": true
   },
   "source": [
    "<table align=\"left\">\n",
    "    <tr>\n",
    "        <td>\n",
    "            <div align=\"left\", style=\"font-size:120%\">\n",
    "                <font color=\"#21618C\">\n",
    "                    <b>16. Consider the data given below. Can we claim that the average number of fruits on a tree is 70? \n",
    "</b>\n",
    "                </font>\n",
    "            </div>\n",
    "        </td>\n",
    "    </tr>\n",
    "</table>"
   ]
  },
  {
   "cell_type": "markdown",
   "metadata": {},
   "source": [
    "            Consider number of fruits on a tree:\n",
    "\n",
    "            number_fruits = [64, 56, 48, 56, 79, 67, 65, 86, 87, 53, 67, 89, 65, 42, 46]"
   ]
  },
  {
   "cell_type": "code",
   "execution_count": 17,
   "metadata": {
    "ExecuteTime": {
     "end_time": "2023-08-27T17:10:43.917914Z",
     "start_time": "2023-08-27T17:10:43.878337Z"
    }
   },
   "outputs": [
    {
     "name": "stdout",
     "output_type": "stream",
     "text": [
      "TtestResult(statistic=-1.36854291090804, pvalue=0.19270344894968697, df=14)\n",
      "Since the p-value 0.19270344894968697 is more than 0.05 (level of significance), Hence we accept H0. We may conclude that the average number of fruits on a tree is 70.\n"
     ]
    }
   ],
   "source": [
    "number_fruits = [64, 56, 48, 56, 79, 67, 65, 86, 87, 53, 67, 89, 65, 42, 46]\n",
    "test_results = stats.ttest_1samp(number_fruits, 70)\n",
    "print(test_results)\n",
    "if test_results[1] > 0.05:\n",
    "    print(\"Since the p-value {} is more than 0.05 (level of significance), Hence we accept H0. We may conclude that the average number of fruits on a tree is 70.\".format(test_results[1]))"
   ]
  },
  {
   "cell_type": "markdown",
   "metadata": {
    "collapsed": true
   },
   "source": [
    "<table align=\"left\">\n",
    "    <tr>\n",
    "        <td>\n",
    "            <div align=\"left\", style=\"font-size:120%\">\n",
    "                <font color=\"#21618C\">\n",
    "                    <b>17. The courier company has two offices in NYC. They are interested to know which office is busier. The number of parcels received for 15 days is given below. Can we claim that both offices are equally busy?\n",
    "</b>\n",
    "                </font>\n",
    "            </div>\n",
    "        </td>\n",
    "    </tr>\n",
    "</table>"
   ]
  },
  {
   "cell_type": "markdown",
   "metadata": {},
   "source": [
    "            Consider the number of parcels in office A:\n",
    "            office_A = [26, 56, 48, 56, 79, 67, 35, 46, 87, 53, 67, 89, 65, 42, 34]\n",
    "\n",
    "            Consider the number of parcels in office B:\n",
    "            office_B = [34, 45, 87, 57, 45, 42, 34, 45, 34, 67, 89, 43, 87, 95, 95]"
   ]
  },
  {
   "cell_type": "code",
   "execution_count": 18,
   "metadata": {
    "ExecuteTime": {
     "end_time": "2023-08-27T17:10:43.918007Z",
     "start_time": "2023-08-27T17:10:43.882181Z"
    }
   },
   "outputs": [
    {
     "name": "stdout",
     "output_type": "stream",
     "text": [
      "TtestResult(statistic=0.6449141708280643, pvalue=0.5242321636740674, df=28.0)\n",
      "Since the p-value 0.5242321636740674 is more than 0.05 (level of significance), Hence we accept H0. We may conclude that the average number of parcels in office A is equal to the average number of parcels in office B.\n"
     ]
    }
   ],
   "source": [
    "office_A = pd.Series([64, 56, 48, 56, 79, 67, 65, 86, 87, 53, 67, 89, 65, 42, 46])\n",
    "office_B = pd.Series([34, 45, 87, 57, 45, 42, 34, 45, 34, 67, 89, 43, 87, 95, 95])\n",
    "test_results = stats.ttest_ind(office_A, office_B)\n",
    "print(test_results)\n",
    "if test_results[1] > 0.05:\n",
    "    print(\"Since the p-value {} is more than 0.05 (level of significance), Hence we accept H0. We may conclude that the average number of parcels in office A is equal to the average number of parcels in office B.\".format(test_results[1]))"
   ]
  },
  {
   "cell_type": "markdown",
   "metadata": {
    "collapsed": true
   },
   "source": [
    "<table align=\"left\">\n",
    "    <tr>\n",
    "        <td>\n",
    "            <div align=\"left\", style=\"font-size:120%\">\n",
    "                <font color=\"#21618C\">\n",
    "                    <b>18. To improve the attitude of officers, they had to complete a training program. Can we claim that the training program was effective? \n",
    "</b>\n",
    "                </font>\n",
    "            </div>\n",
    "        </td>\n",
    "    </tr>\n",
    "</table>"
   ]
  },
  {
   "cell_type": "markdown",
   "metadata": {},
   "source": [
    "The data of 10 officers scores is given below:\n",
    "\n",
    "<table>\n",
    "    <tr>\n",
    "        <th> Officer </th>\n",
    "        <th> Attitude Before </th>\n",
    "        <th> Attitude After </th>\n",
    "    </tr>\n",
    "     <tr>\n",
    "        <td> 1 </td>\n",
    "        <td> 3 </td>\n",
    "        <td> 4 </td>\n",
    "    </tr>\n",
    "    <tr>\n",
    "        <td> 2 </td>\n",
    "        <td> 5 </td>\n",
    "        <td> 5 </td>\n",
    "    </tr>\n",
    "    <tr>\n",
    "        <td> 3 </td>\n",
    "        <td> 2 </td>\n",
    "        <td> 3 </td>\n",
    "    </tr>\n",
    "    <tr>\n",
    "        <td> 4 </td>\n",
    "        <td> 2 </td>\n",
    "        <td> 4 </td>\n",
    "    </tr>\n",
    "    <tr>\n",
    "        <td> 5 </td>\n",
    "        <td> 4 </td>\n",
    "        <td> 4 </td>\n",
    "    </tr>\n",
    "    <tr>\n",
    "        <td> 6 </td>\n",
    "        <td> 4 </td>\n",
    "        <td> 4 </td>\n",
    "    </tr>\n",
    "    <tr>\n",
    "        <td> 7 </td>\n",
    "        <td> 3 </td>\n",
    "        <td> 3 </td>\n",
    "    </tr>\n",
    "    <tr>\n",
    "        <td> 8 </td>\n",
    "        <td> 5 </td>\n",
    "        <td> 2 </td>\n",
    "    </tr>\n",
    "    <tr>\n",
    "        <td> 9 </td>\n",
    "        <td> 3 </td>\n",
    "        <td> 2 </td>\n",
    "    </tr>\n",
    "    <tr>\n",
    "        <td> 10 </td>\n",
    "        <td> 4 </td>\n",
    "        <td> 5 </td>\n",
    "    </tr>\n",
    "</table>"
   ]
  },
  {
   "cell_type": "code",
   "execution_count": 19,
   "metadata": {
    "ExecuteTime": {
     "end_time": "2023-08-27T17:10:43.918151Z",
     "start_time": "2023-08-27T17:10:43.885558Z"
    }
   },
   "outputs": [
    {
     "name": "stdout",
     "output_type": "stream",
     "text": [
      "TtestResult(statistic=-0.2307692307692308, pvalue=0.8226545408271233, df=9)\n",
      "Since the p-value 0.8226545408271233 is more than 0.05 (level of significance), Hence we accept H0. We may conclude that there is no significant effect of the training.\n"
     ]
    }
   ],
   "source": [
    "attitude_before = pd.Series([3, 5, 2, 2, 4, 4, 3, 5, 3, 4])\n",
    "attitude_after = pd.Series([4, 5, 3, 4, 4, 4, 3, 2, 2, 5])\n",
    "test_results = stats.ttest_rel(attitude_before, attitude_after)\n",
    "print(test_results)\n",
    "if test_results[1] > 0.05:\n",
    "    print(\"Since the p-value {} is more than 0.05 (level of significance), Hence we accept H0. We may conclude that there is no significant effect of the training.\".format(test_results[1]))"
   ]
  },
  {
   "cell_type": "markdown",
   "metadata": {
    "collapsed": true
   },
   "source": [
    "<table align=\"left\">\n",
    "    <tr>\n",
    "        <td>\n",
    "            <div align=\"left\", style=\"font-size:120%\">\n",
    "                <font color=\"#21618C\">\n",
    "                    <b>19. During an economic crisis, a researcher thought that the salaries of IT professionals are affected. Test whether the average monthly salary has gone below 65000 dollars.\n",
    "</b>\n",
    "                </font>\n",
    "            </div>\n",
    "        </td>\n",
    "    </tr>\n",
    "</table>"
   ]
  },
  {
   "cell_type": "markdown",
   "metadata": {},
   "source": [
    "            Salaries of corporate professionals in thousand dollars:\n",
    "\n",
    "            salary = [56, 48, 56, 79, 67, 55, 46, 87, 53, 67, 89, 65, 62, 45, 87, 57, 45, \n",
    "                      42, 45, 67, 89, 43, 87, 95, 92, 56, 67, 89, 54, 62, 78, 43, 76, 65,\n",
    "                      56, 58, 98, 56, 78, 79, 45, 34, 35, 46, 47, 67, 37, 45, 51, 65, 65]"
   ]
  },
  {
   "cell_type": "code",
   "execution_count": 20,
   "metadata": {
    "ExecuteTime": {
     "end_time": "2023-08-27T17:10:43.918261Z",
     "start_time": "2023-08-27T17:10:43.889106Z"
    }
   },
   "outputs": [
    {
     "name": "stdout",
     "output_type": "stream",
     "text": [
      "(-1.1250934292594312, 0.1302747226990263)\n",
      "Since the p-value 0.1302747226990263 is more than 0.05 (level of significance), Hence we accept H0. We may conclude that there is no change in the salaries of the professionals\n"
     ]
    }
   ],
   "source": [
    "salary = pd.Series([56, 48, 56, 79, 67, 55, 46, 87, 53, 67, 89, 65, 62, 45, 87, 57, 45, 42, 45, 67, 89, 43, 87, 95, 92, 56, 67, 89, 54, 62, 78, 43, 76, 65, 56, 58, 98, 56, 78, 79, 45, 34, 35, 46, 47, 67, 37, 45, 51, 65, 65])\n",
    "from statsmodels.stats import weightstats\n",
    "test_results = weightstats.ztest(salary, value = 65, alternative = \"smaller\")\n",
    "print(test_results)\n",
    "if test_results[1] > 0.05:\n",
    "    print(\"Since the p-value {} is more than 0.05 (level of significance), Hence we accept H0. We may conclude that there is no change in the salaries of the professionals\".format(test_results[1]))"
   ]
  },
  {
   "cell_type": "markdown",
   "metadata": {
    "collapsed": true
   },
   "source": [
    "<table align=\"left\">\n",
    "    <tr>\n",
    "        <td>\n",
    "            <div align=\"left\", style=\"font-size:120%\">\n",
    "                <font color=\"#21618C\">\n",
    "                    <b>20. Consider the data given below. Can we conclude that the data is normally distributed?\n",
    "</b>\n",
    "                </font>\n",
    "            </div>\n",
    "        </td>\n",
    "    </tr>\n",
    "</table>"
   ]
  },
  {
   "cell_type": "markdown",
   "metadata": {},
   "source": [
    "            Consider number of fruits on a tree:\n",
    "            number_fruits = [64, 56, 48, 56, 79, 67, 65, 86, 87, 53, 67, 89, 65, 42, 46]"
   ]
  },
  {
   "cell_type": "code",
   "execution_count": 21,
   "metadata": {
    "ExecuteTime": {
     "end_time": "2023-08-27T17:10:43.921027Z",
     "start_time": "2023-08-27T17:10:43.904849Z"
    }
   },
   "outputs": [
    {
     "name": "stdout",
     "output_type": "stream",
     "text": [
      "The test statistic is 0.9354036450386047 and its p-value is 0.32807067036628723\n",
      "Since the p-value 0.32807067036628723 is more than 0.05 (level of significance), hence we accept H0. We may conclude that the data is normally distributed.\n"
     ]
    }
   ],
   "source": [
    "number_fruits = pd.Series([64, 56, 48, 56, 79, 67, 65, 86, 87, 53, 67, 89, 65, 42, 46])\n",
    "stat, p = stats.shapiro(number_fruits)\n",
    "print('The test statistic is', stat, 'and its p-value is', p)\n",
    "if p > 0.05:\n",
    "    print(\"Since the p-value {} is more than 0.05 (level of significance), hence we accept H0. We may conclude that the data is normally distributed.\".format(p))"
   ]
  }
 ],
 "metadata": {
  "kernelspec": {
   "display_name": "Python 3",
   "language": "python",
   "name": "python3"
  },
  "language_info": {
   "codemirror_mode": {
    "name": "ipython",
    "version": 3
   },
   "file_extension": ".py",
   "mimetype": "text/x-python",
   "name": "python",
   "nbconvert_exporter": "python",
   "pygments_lexer": "ipython3",
   "version": "3.6.4"
  }
 },
 "nbformat": 4,
 "nbformat_minor": 2
}
