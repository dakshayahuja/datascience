{
 "cells": [
  {
   "cell_type": "code",
   "execution_count": 1,
   "id": "initial_id",
   "metadata": {
    "collapsed": true,
    "ExecuteTime": {
     "end_time": "2023-08-23T17:20:08.839382Z",
     "start_time": "2023-08-23T17:20:08.548695Z"
    }
   },
   "outputs": [],
   "source": [
    "import numpy as np\n",
    "import pandas as pd"
   ]
  },
  {
   "cell_type": "code",
   "execution_count": 2,
   "id": "fe444d53309adc94",
   "metadata": {
    "ExecuteTime": {
     "end_time": "2023-08-23T17:20:08.855721Z",
     "start_time": "2023-08-23T17:20:08.843465Z"
    }
   },
   "outputs": [
    {
     "name": "stdout",
     "output_type": "stream",
     "text": [
      "[21.2, 21, 98, 25, 22.8, 22.1, 20.8, 24.7, 24.33, 22]\n",
      "Mean: 30.193\n",
      "Median: 22.45\n"
     ]
    }
   ],
   "source": [
    "rain_mm = [21.2,21,98,25,22.8,22.1,20.8,24.7,24.33,22]\n",
    "print(rain_mm)\n",
    "print(\"Mean:\",np.mean(rain_mm))\n",
    "print(\"Median:\",np.median(rain_mm).round(2))"
   ]
  },
  {
   "cell_type": "code",
   "execution_count": 3,
   "id": "8e8987484530bd93",
   "metadata": {
    "ExecuteTime": {
     "end_time": "2023-08-23T17:20:08.861351Z",
     "start_time": "2023-08-23T17:20:08.856101Z"
    }
   },
   "outputs": [
    {
     "name": "stdout",
     "output_type": "stream",
     "text": [
      "Mode: 0    275\n",
      "dtype: int64\n"
     ]
    }
   ],
   "source": [
    "daily_sal = pd.Series([212,121,398,245,228,275,208,212,293,275,190,514,275,322,312])\n",
    "print(\"Mode:\",daily_sal.mode())"
   ]
  },
  {
   "cell_type": "code",
   "execution_count": 4,
   "id": "92e50f3ff53d2650",
   "metadata": {
    "ExecuteTime": {
     "end_time": "2023-08-23T17:20:08.900699Z",
     "start_time": "2023-08-23T17:20:08.864047Z"
    }
   },
   "outputs": [
    {
     "name": "stdout",
     "output_type": "stream",
     "text": [
      "Q1: 212.0\n",
      "Q2: 275.0\n",
      "Q3: 302.5\n"
     ]
    }
   ],
   "source": [
    "#Quantile\n",
    "print('Q1:', daily_sal.quantile(0.25))\n",
    "print('Q2:', daily_sal.quantile(0.5))\n",
    "print('Q3:', daily_sal.quantile(0.75))"
   ]
  },
  {
   "cell_type": "code",
   "execution_count": 5,
   "id": "4b46393934a247b7",
   "metadata": {
    "ExecuteTime": {
     "end_time": "2023-08-23T17:20:08.901441Z",
     "start_time": "2023-08-23T17:20:08.871934Z"
    }
   },
   "outputs": [
    {
     "name": "stdout",
     "output_type": "stream",
     "text": [
      "D1: 197.2\n",
      "D5: 275.0\n",
      "D9: 367.59999999999997\n"
     ]
    }
   ],
   "source": [
    "#Decile\n",
    "print('D1:', daily_sal.quantile(0.10))\n",
    "print('D5:', daily_sal.quantile(0.50))\n",
    "print('D9:', daily_sal.quantile(0.90))"
   ]
  },
  {
   "cell_type": "code",
   "execution_count": 6,
   "id": "8645f9b50cbc09ca",
   "metadata": {
    "ExecuteTime": {
     "end_time": "2023-08-23T17:20:08.901660Z",
     "start_time": "2023-08-23T17:20:08.881181Z"
    }
   },
   "outputs": [
    {
     "name": "stdout",
     "output_type": "stream",
     "text": [
      "P10: 197.2\n",
      "P50: 275.0\n",
      "P99: 497.75999999999993\n"
     ]
    }
   ],
   "source": [
    "#Percentile\n",
    "print('P10:', daily_sal.quantile(0.10))\n",
    "print('P50:', daily_sal.quantile(0.50))\n",
    "print('P99:', daily_sal.quantile(0.99))"
   ]
  },
  {
   "cell_type": "code",
   "execution_count": 7,
   "id": "ae23f3299248ff95",
   "metadata": {
    "ExecuteTime": {
     "end_time": "2023-08-23T17:20:08.901768Z",
     "start_time": "2023-08-23T17:20:08.886445Z"
    }
   },
   "outputs": [
    {
     "name": "stdout",
     "output_type": "stream",
     "text": [
      "Range: 173\n"
     ]
    }
   ],
   "source": [
    "sales_A = np.array([412,329,309,325,378,321,428,319,353,482])\n",
    "print(\"Range:\", sales_A.max()-sales_A.min())"
   ]
  },
  {
   "cell_type": "code",
   "execution_count": 8,
   "id": "a00b530c040ddede",
   "metadata": {
    "ExecuteTime": {
     "end_time": "2023-08-23T17:20:08.901869Z",
     "start_time": "2023-08-23T17:20:08.889858Z"
    }
   },
   "outputs": [
    {
     "name": "stdout",
     "output_type": "stream",
     "text": [
      "Range: 173\n"
     ]
    }
   ],
   "source": [
    "sales_B = np.array([452,479,309,425,478,321,438,319,453,482])\n",
    "print(\"Range:\", sales_B.max()-sales_B.min())"
   ]
  },
  {
   "cell_type": "markdown",
   "id": "e564f2bd5956ddb6",
   "metadata": {},
   "source": [
    "#### The variance of a random variable \\( X \\) is given by:\n",
    "\n",
    "$$ \\text{Var}(X) = \\frac{1}{N} \\sum_{i=1}^{N} (x_i - \\bar{x})^2 $$\n",
    "\n",
    "Where:\n",
    "- Var(x) is Variance of X\n",
    "- N is total number of observations\n",
    "- x_i is the ith observation or data point\n",
    "- x̄ is the mean of all observations"
   ]
  },
  {
   "cell_type": "code",
   "execution_count": 9,
   "id": "b2453c4ad63ab828",
   "metadata": {
    "ExecuteTime": {
     "end_time": "2023-08-23T17:20:08.901974Z",
     "start_time": "2023-08-23T17:20:08.891905Z"
    }
   },
   "outputs": [
    {
     "name": "stdout",
     "output_type": "stream",
     "text": [
      "Variance: 115.34228100000003\n"
     ]
    }
   ],
   "source": [
    "rain_mm = [41.2,21.6,58,25,32.8,22.1,30.8,24.7,34.33,23]\n",
    "print(\"Variance:\",np.var(rain_mm))"
   ]
  },
  {
   "cell_type": "markdown",
   "id": "568b470e",
   "metadata": {},
   "source": [
    "#### Standard Deviation:\n",
    "\n",
    "$$ \\sigma = \\sqrt{\\frac{1}{N} \\sum_{i=1}^{N} (x_i - \\bar{x})^2 $$\n",
    "\n",
    "Where:\n",
    "- σ is the standard deviation.\n",
    "- N is total number of observations\n",
    "- x_i is the ith observation or data point\n",
    "- x̄ is the mean of all observations"
   ]
  },
  {
   "cell_type": "code",
   "execution_count": 10,
   "id": "fe6a0873e8cd0712",
   "metadata": {
    "ExecuteTime": {
     "end_time": "2023-08-23T17:20:08.902075Z",
     "start_time": "2023-08-23T17:20:08.894278Z"
    }
   },
   "outputs": [
    {
     "name": "stdout",
     "output_type": "stream",
     "text": [
      "Standard Deviation: 10.739752371446933\n"
     ]
    }
   ],
   "source": [
    "print(\"Standard Deviation:\",np.std(rain_mm))"
   ]
  },
  {
   "cell_type": "markdown",
   "source": [
    "#### CV (Coefficient of Variation) = Standard Deviation/Mean * 100"
   ],
   "metadata": {
    "collapsed": false
   },
   "id": "10378e4673d47091"
  },
  {
   "cell_type": "code",
   "execution_count": 11,
   "outputs": [
    {
     "name": "stdout",
     "output_type": "stream",
     "text": [
      "3.5211267605633805\n"
     ]
    }
   ],
   "source": [
    "expected_sal_a = 568\n",
    "std_sal_a = 20\n",
    "cv_a = std_sal_a/expected_sal_a * 100\n",
    "print(cv_a)"
   ],
   "metadata": {
    "collapsed": false,
    "ExecuteTime": {
     "end_time": "2023-08-23T17:20:08.902398Z",
     "start_time": "2023-08-23T17:20:08.896209Z"
    }
   },
   "id": "7f5218a45861771"
  },
  {
   "cell_type": "code",
   "execution_count": 12,
   "outputs": [
    {
     "name": "stdout",
     "output_type": "stream",
     "text": [
      "4.487179487179487\n"
     ]
    }
   ],
   "source": [
    "expected_sal_b = 780\n",
    "std_sal_b = 35\n",
    "cv_b = std_sal_b/expected_sal_b * 100\n",
    "print(cv_b)"
   ],
   "metadata": {
    "collapsed": false,
    "ExecuteTime": {
     "end_time": "2023-08-23T17:20:08.902808Z",
     "start_time": "2023-08-23T17:20:08.898937Z"
    }
   },
   "id": "37f4fe02c22e2551"
  },
  {
   "cell_type": "markdown",
   "source": [
    "##### Since CV for A < B, there is more consistency in salary of employees at location A."
   ],
   "metadata": {
    "collapsed": false
   },
   "id": "bcd88d6b754fcd10"
  },
  {
   "cell_type": "markdown",
   "source": [
    "#### IQR (InterQuartile Range) = Q3 - Q1\n",
    "Outliers lie outside the range [(Q1 - 1.5 * IQR) , (Q3 + 1.5 * IQR)]"
   ],
   "metadata": {
    "collapsed": false
   },
   "id": "d3d7a38eeaab8036"
  },
  {
   "cell_type": "code",
   "execution_count": 13,
   "outputs": [
    {
     "name": "stdout",
     "output_type": "stream",
     "text": [
      "IQR: 90.5\n"
     ]
    }
   ],
   "source": [
    "Q1 = daily_sal.quantile(0.25)\n",
    "Q3 = daily_sal.quantile(0.75)\n",
    "print(\"IQR:\", Q3-Q1)"
   ],
   "metadata": {
    "collapsed": false,
    "ExecuteTime": {
     "end_time": "2023-08-23T17:20:08.905031Z",
     "start_time": "2023-08-23T17:20:08.902726Z"
    }
   },
   "id": "e63962f19a05ab63"
  },
  {
   "cell_type": "markdown",
   "source": [
    "***\n",
    "#### Skewness(Sk) = (3 * (Mean - Median)) / Standard Deviation\n",
    "\n",
    "if:\n",
    "- Sk < 0 - Distribution is negatively skewed\n",
    "- Sk = 0 - Distribution is symmetric\n",
    "- Sk > 0 - Distribution is positively skewed\n",
    "\n",
    "#### Kurtosis\n",
    "##### Value : Thickness of Tails : Interpretation\n",
    "Kurtosis < 0  :  Thin    :  Distribution is platykurtic\n",
    "Kurtosis = 0  :  Normal  :  Distribution is mesokurtic\n",
    "Kurtosis > 0  :  Thick   :  Distribution is leptokurtic\n",
    "***"
   ],
   "metadata": {
    "collapsed": false
   },
   "id": "42b65735735aa02d"
  },
  {
   "cell_type": "markdown",
   "source": [
    "#### Covariance\n",
    "\n",
    "The formula for the sample covariance between two sets of numbers \\( x \\) and \\( y \\) is:\n",
    "$$\n",
    "\\text{Cov}(X, Y) = \\frac{\\sum_{i=1}^{N} (x_i - \\bar{x})(y_i - \\bar{y})}{N - 1}\n",
    "$$\n",
    "Where:\n",
    "- n is the number of data points\n",
    "- x_i and y_i are individual data points\n",
    "- x̄ and ȳ are the means of \\( x \\) and \\( y \\) respectively\n",
    "***"
   ],
   "metadata": {
    "collapsed": false
   },
   "id": "969767b95bd72494"
  },
  {
   "cell_type": "markdown",
   "source": [
    "#### Corelation\n",
    "\n",
    "The formula for the sample correlation coefficient between two sets of numbers \\( x \\) and \\( y \\) is:\n",
    "$$\n",
    "\\text{Corr}(X, Y) = \\frac{\\text{Cov}(X, Y)}{\\sigma_X \\sigma_Y}\n",
    "$$\n",
    "Where:\n",
    "- Cov(X, Y) is the sample covariance between \\( X \\) and \\( Y \\)\n",
    "- σx is the sample standard deviation of \\( X \\)\n",
    "- σy is the sample standard deviation of \\( Y \\)\n",
    "\n",
    "if:\n",
    "- ρ > 0 : Positive Correlation\n",
    "- ρ < 0 : Negative Correlation\n",
    "- ρ = 0 : No Correlation\n",
    "\n",
    "(ρ is correlation)\n"
   ],
   "metadata": {
    "collapsed": false
   },
   "id": "78dccf769d333ce8"
  }
 ],
 "metadata": {
  "kernelspec": {
   "display_name": "Python 3 (ipykernel)",
   "language": "python",
   "name": "python3"
  },
  "language_info": {
   "codemirror_mode": {
    "name": "ipython",
    "version": 3
   },
   "file_extension": ".py",
   "mimetype": "text/x-python",
   "name": "python",
   "nbconvert_exporter": "python",
   "pygments_lexer": "ipython3",
   "version": "3.9.17"
  }
 },
 "nbformat": 4,
 "nbformat_minor": 5
}
