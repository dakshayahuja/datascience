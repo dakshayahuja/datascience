{
 "cells": [
  {
   "cell_type": "code",
   "execution_count": 1,
   "id": "initial_id",
   "metadata": {
    "collapsed": true,
    "ExecuteTime": {
     "end_time": "2023-08-22T05:03:33.838494Z",
     "start_time": "2023-08-22T05:03:33.556014Z"
    }
   },
   "outputs": [],
   "source": [
    "import numpy as np\n",
    "import pandas as pd"
   ]
  },
  {
   "cell_type": "code",
   "execution_count": 2,
   "id": "fe444d53309adc94",
   "metadata": {
    "ExecuteTime": {
     "end_time": "2023-08-22T05:03:33.848861Z",
     "start_time": "2023-08-22T05:03:33.839654Z"
    }
   },
   "outputs": [
    {
     "name": "stdout",
     "output_type": "stream",
     "text": [
      "[21.2, 21, 98, 25, 22.8, 22.1, 20.8, 24.7, 24.33, 22]\n",
      "Mean: 30.193\n",
      "Median: 22.45\n"
     ]
    }
   ],
   "source": [
    "rain_mm = [21.2,21,98,25,22.8,22.1,20.8,24.7,24.33,22]\n",
    "print(rain_mm)\n",
    "print(\"Mean:\",np.mean(rain_mm))\n",
    "print(\"Median:\",np.median(rain_mm).round(2))"
   ]
  },
  {
   "cell_type": "code",
   "execution_count": 3,
   "id": "8e8987484530bd93",
   "metadata": {
    "ExecuteTime": {
     "end_time": "2023-08-22T05:03:33.855228Z",
     "start_time": "2023-08-22T05:03:33.846667Z"
    }
   },
   "outputs": [
    {
     "name": "stdout",
     "output_type": "stream",
     "text": [
      "Mode: 0    212\n",
      "1    275\n",
      "dtype: int64\n"
     ]
    }
   ],
   "source": [
    "daily_sal = pd.Series([212,121,398,245,228,275,208,212,293,270,190,514,275,322,312])\n",
    "print(\"Mode:\",daily_sal.mode())"
   ]
  },
  {
   "cell_type": "code",
   "execution_count": 4,
   "id": "92e50f3ff53d2650",
   "metadata": {
    "ExecuteTime": {
     "end_time": "2023-08-22T05:03:33.879681Z",
     "start_time": "2023-08-22T05:03:33.856881Z"
    }
   },
   "outputs": [
    {
     "name": "stdout",
     "output_type": "stream",
     "text": [
      "Q1: 212.0\n",
      "Q2: 270.0\n",
      "Q3: 302.5\n"
     ]
    }
   ],
   "source": [
    "#Quantile\n",
    "print('Q1:', daily_sal.quantile(0.25))\n",
    "print('Q2:', daily_sal.quantile(0.5))\n",
    "print('Q3:', daily_sal.quantile(0.75))"
   ]
  },
  {
   "cell_type": "code",
   "execution_count": 5,
   "id": "4b46393934a247b7",
   "metadata": {
    "ExecuteTime": {
     "end_time": "2023-08-22T05:03:33.880472Z",
     "start_time": "2023-08-22T05:03:33.869360Z"
    }
   },
   "outputs": [
    {
     "name": "stdout",
     "output_type": "stream",
     "text": [
      "D1: 197.2\n",
      "D5: 270.0\n",
      "D9: 367.59999999999997\n"
     ]
    }
   ],
   "source": [
    "#Decile\n",
    "print('D1:', daily_sal.quantile(0.10))\n",
    "print('D5:', daily_sal.quantile(0.50))\n",
    "print('D9:', daily_sal.quantile(0.90))"
   ]
  },
  {
   "cell_type": "code",
   "execution_count": 6,
   "id": "8645f9b50cbc09ca",
   "metadata": {
    "ExecuteTime": {
     "end_time": "2023-08-22T05:03:33.888236Z",
     "start_time": "2023-08-22T05:03:33.875970Z"
    }
   },
   "outputs": [
    {
     "name": "stdout",
     "output_type": "stream",
     "text": [
      "P10: 197.2\n",
      "P50: 270.0\n",
      "P99: 497.75999999999993\n"
     ]
    }
   ],
   "source": [
    "#Percentile\n",
    "print('P10:', daily_sal.quantile(0.10))\n",
    "print('P50:', daily_sal.quantile(0.50))\n",
    "print('P99:', daily_sal.quantile(0.99))"
   ]
  },
  {
   "cell_type": "code",
   "execution_count": 7,
   "id": "ae23f3299248ff95",
   "metadata": {
    "ExecuteTime": {
     "end_time": "2023-08-22T05:03:33.889105Z",
     "start_time": "2023-08-22T05:03:33.885594Z"
    }
   },
   "outputs": [
    {
     "name": "stdout",
     "output_type": "stream",
     "text": [
      "Range: 173\n"
     ]
    }
   ],
   "source": [
    "sales_A = np.array([412,329,309,325,378,321,428,319,353,482])\n",
    "print(\"Range:\", sales_A.max()-sales_A.min())"
   ]
  },
  {
   "cell_type": "code",
   "execution_count": 8,
   "id": "a00b530c040ddede",
   "metadata": {
    "ExecuteTime": {
     "end_time": "2023-08-22T05:03:33.895372Z",
     "start_time": "2023-08-22T05:03:33.890398Z"
    }
   },
   "outputs": [
    {
     "name": "stdout",
     "output_type": "stream",
     "text": [
      "Range: 173\n"
     ]
    }
   ],
   "source": [
    "sales_B = np.array([452,479,309,425,478,321,438,319,453,482])\n",
    "print(\"Range:\", sales_B.max()-sales_B.min())"
   ]
  },
  {
   "cell_type": "markdown",
   "id": "e564f2bd5956ddb6",
   "metadata": {},
   "source": [
    "The variance of a random variable \\( X \\) is given by:\n",
    "\n",
    "$$ \\text{Var}(X) = \\frac{1}{N} \\sum_{i=1}^{N} (x_i - \\bar{x})^2 $$\n",
    "\n",
    "Where:\n",
    "- Var(x) is Variance of X\n",
    "- N is total number of observations\n",
    "- x_i is the ith observation or data point\n",
    "- x̄ is the mean of all observations"
   ]
  },
  {
   "cell_type": "code",
   "execution_count": 9,
   "id": "b2453c4ad63ab828",
   "metadata": {
    "ExecuteTime": {
     "end_time": "2023-08-22T05:03:33.900599Z",
     "start_time": "2023-08-22T05:03:33.895615Z"
    }
   },
   "outputs": [
    {
     "name": "stdout",
     "output_type": "stream",
     "text": [
      "Variance: 115.34228100000003\n"
     ]
    }
   ],
   "source": [
    "rain_mm = [41.2,21.6,58,25,32.8,22.1,30.8,24.7,34.33,23]\n",
    "print(\"Variance:\",np.var(rain_mm))"
   ]
  },
  {
   "cell_type": "markdown",
   "id": "568b470e",
   "metadata": {},
   "source": [
    "Standard Deviation:\n",
    "\n",
    "$$ \\sigma = \\sqrt{\\frac{1}{N} \\sum_{i=1}^{N} (x_i - \\mu)^2} $$\n",
    "\n",
    "Where:\n",
    "- σ is the standard deviation.\n",
    "- N is total number of observations\n",
    "- x_i is the ith observation or data point\n",
    "- x_bar is the mean of all observations"
   ]
  },
  {
   "cell_type": "code",
   "execution_count": 10,
   "id": "fe6a0873e8cd0712",
   "metadata": {
    "ExecuteTime": {
     "end_time": "2023-08-22T05:03:33.959501Z",
     "start_time": "2023-08-22T05:03:33.898524Z"
    }
   },
   "outputs": [
    {
     "name": "stdout",
     "output_type": "stream",
     "text": [
      "Standard Deviation: 10.739752371446933\n"
     ]
    }
   ],
   "source": [
    "print(\"Standard Deviation:\",np.std(rain_mm))"
   ]
  },
  {
   "cell_type": "markdown",
   "source": [
    "CV (Coefficient of Variation) = Standard Deviation/Mean * 100"
   ],
   "metadata": {
    "collapsed": false
   },
   "id": "10378e4673d47091"
  },
  {
   "cell_type": "code",
   "execution_count": 11,
   "outputs": [
    {
     "name": "stdout",
     "output_type": "stream",
     "text": [
      "3.5211267605633805\n"
     ]
    }
   ],
   "source": [
    "expected_sal_a = 568\n",
    "std_sal_a = 20\n",
    "cv_a = std_sal_a/expected_sal_a * 100\n",
    "print(cv_a)"
   ],
   "metadata": {
    "collapsed": false,
    "ExecuteTime": {
     "end_time": "2023-08-22T05:03:33.965549Z",
     "start_time": "2023-08-22T05:03:33.903169Z"
    }
   },
   "id": "7f5218a45861771"
  },
  {
   "cell_type": "code",
   "execution_count": 12,
   "outputs": [
    {
     "name": "stdout",
     "output_type": "stream",
     "text": [
      "4.487179487179487\n"
     ]
    }
   ],
   "source": [
    "expected_sal_b = 780\n",
    "std_sal_b = 35\n",
    "cv_b = std_sal_b/expected_sal_b * 100\n",
    "print(cv_b)"
   ],
   "metadata": {
    "collapsed": false,
    "ExecuteTime": {
     "end_time": "2023-08-22T05:03:33.965847Z",
     "start_time": "2023-08-22T05:03:33.907062Z"
    }
   },
   "id": "37f4fe02c22e2551"
  },
  {
   "cell_type": "markdown",
   "source": [
    "Since CV for A < B, there is more consistency in salary of employees at location A."
   ],
   "metadata": {
    "collapsed": false
   },
   "id": "bcd88d6b754fcd10"
  },
  {
   "cell_type": "markdown",
   "source": [
    "IQR (InterQuartile Range) = Q3 - Q1\n",
    "Outliers lie outside the range [(Q1 - 1.5 * IQR) , (Q3 + 1.5 * IQR)]"
   ],
   "metadata": {
    "collapsed": false
   },
   "id": "d3d7a38eeaab8036"
  },
  {
   "cell_type": "code",
   "execution_count": 14,
   "outputs": [
    {
     "name": "stdout",
     "output_type": "stream",
     "text": [
      "IQR: 90.5\n"
     ]
    }
   ],
   "source": [
    "Q1 = daily_sal.quantile(0.25)\n",
    "Q3 = daily_sal.quantile(0.75)\n",
    "print(\"IQR:\", Q3-Q1)"
   ],
   "metadata": {
    "collapsed": false,
    "ExecuteTime": {
     "end_time": "2023-08-22T05:04:41.707161Z",
     "start_time": "2023-08-22T05:04:41.678938Z"
    }
   },
   "id": "e63962f19a05ab63"
  },
  {
   "cell_type": "code",
   "execution_count": null,
   "outputs": [],
   "source": [],
   "metadata": {
    "collapsed": false
   },
   "id": "d22ebeab3058cc70"
  }
 ],
 "metadata": {
  "kernelspec": {
   "display_name": "Python 3 (ipykernel)",
   "language": "python",
   "name": "python3"
  },
  "language_info": {
   "codemirror_mode": {
    "name": "ipython",
    "version": 3
   },
   "file_extension": ".py",
   "mimetype": "text/x-python",
   "name": "python",
   "nbconvert_exporter": "python",
   "pygments_lexer": "ipython3",
   "version": "3.9.17"
  }
 },
 "nbformat": 4,
 "nbformat_minor": 5
}
