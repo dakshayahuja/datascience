{
 "cells": [
  {
   "cell_type": "markdown",
   "source": [
    "### Discrete Uniform Distribution:\n",
    "- P(x) = 1/n\n",
    "- Mean = (n+1)/2\n",
    "- Variance = (n^2 - 1)/12 \n",
    "\n",
    "### Bernoulli Distribution:\n",
    "- P(x) = p^x * q^(1-x)\n",
    "- Mean = p\n",
    "- Variance = pq\n",
    "\n",
    "### Binomial Distribution:\n",
    "- P(x) = (n x)p^x * q^(n-x)\n",
    "- Mean = p\n",
    "- Variance = pq\n"
   ],
   "metadata": {
    "collapsed": false
   },
   "id": "e18199ca81af2470"
  },
  {
   "cell_type": "code",
   "execution_count": null,
   "outputs": [],
   "source": [],
   "metadata": {
    "collapsed": false
   },
   "id": "6c3b7421e263034f"
  }
 ],
 "metadata": {
  "kernelspec": {
   "display_name": "Python 3",
   "language": "python",
   "name": "python3"
  },
  "language_info": {
   "codemirror_mode": {
    "name": "ipython",
    "version": 2
   },
   "file_extension": ".py",
   "mimetype": "text/x-python",
   "name": "python",
   "nbconvert_exporter": "python",
   "pygments_lexer": "ipython2",
   "version": "2.7.6"
  }
 },
 "nbformat": 4,
 "nbformat_minor": 5
}
